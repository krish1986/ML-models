{
  "nbformat": 4,
  "nbformat_minor": 0,
  "metadata": {
    "colab": {
      "name": "Real Time Sentiment Analysis of a Phone Call.ipynb",
      "provenance": [],
      "collapsed_sections": []
    },
    "kernelspec": {
      "name": "python3",
      "display_name": "Python 3"
    },
    "language_info": {
      "name": "python"
    }
  },
  "cells": [
    {
      "cell_type": "code",
      "metadata": {
        "id": "lyPSGhx3zUVy"
      },
      "source": [
        "import nltk"
      ],
      "execution_count": 1,
      "outputs": []
    },
    {
      "cell_type": "code",
      "metadata": {
        "colab": {
          "base_uri": "https://localhost:8080/"
        },
        "id": "GEDEHOqD6CvZ",
        "outputId": "d20b0ead-42c5-43a6-e410-9f0b20303aaf"
      },
      "source": [
        "!pip install SpeechRecognition"
      ],
      "execution_count": 23,
      "outputs": [
        {
          "output_type": "stream",
          "text": [
            "Requirement already satisfied: SpeechRecognition in /usr/local/lib/python3.7/dist-packages (3.8.1)\n"
          ],
          "name": "stdout"
        }
      ]
    },
    {
      "cell_type": "code",
      "metadata": {
        "colab": {
          "base_uri": "https://localhost:8080/"
        },
        "id": "o2EqTMzF6Xtj",
        "outputId": "2e9f9933-4a2e-4566-9038-59658d137fb3"
      },
      "source": [
        "!pip install pipwin\n",
        "!pipwin install pyaudio"
      ],
      "execution_count": 20,
      "outputs": [
        {
          "output_type": "stream",
          "text": [
            "Collecting pipwin\n",
            "  Downloading pipwin-0.5.1.tar.gz (8.8 kB)\n",
            "Requirement already satisfied: docopt in /usr/local/lib/python3.7/dist-packages (from pipwin) (0.6.2)\n",
            "Requirement already satisfied: requests in /usr/local/lib/python3.7/dist-packages (from pipwin) (2.23.0)\n",
            "Collecting pyprind\n",
            "  Downloading PyPrind-2.11.3-py2.py3-none-any.whl (8.4 kB)\n",
            "Requirement already satisfied: six in /usr/local/lib/python3.7/dist-packages (from pipwin) (1.15.0)\n",
            "Collecting beautifulsoup4>=4.9.0\n",
            "  Downloading beautifulsoup4-4.9.3-py3-none-any.whl (115 kB)\n",
            "\u001b[K     |████████████████████████████████| 115 kB 6.8 MB/s \n",
            "\u001b[?25hCollecting js2py\n",
            "  Downloading Js2Py-0.71-py3-none-any.whl (1.0 MB)\n",
            "\u001b[K     |████████████████████████████████| 1.0 MB 26.3 MB/s \n",
            "\u001b[?25hRequirement already satisfied: packaging in /usr/local/lib/python3.7/dist-packages (from pipwin) (21.0)\n",
            "Collecting pySmartDL>=1.3.1\n",
            "  Downloading pySmartDL-1.3.4-py3-none-any.whl (20 kB)\n",
            "Collecting soupsieve>1.2\n",
            "  Downloading soupsieve-2.2.1-py3-none-any.whl (33 kB)\n",
            "Collecting pyjsparser>=2.5.1\n",
            "  Downloading pyjsparser-2.7.1.tar.gz (24 kB)\n",
            "Requirement already satisfied: tzlocal>=1.2 in /usr/local/lib/python3.7/dist-packages (from js2py->pipwin) (1.5.1)\n",
            "Requirement already satisfied: pytz in /usr/local/lib/python3.7/dist-packages (from tzlocal>=1.2->js2py->pipwin) (2018.9)\n",
            "Requirement already satisfied: pyparsing>=2.0.2 in /usr/local/lib/python3.7/dist-packages (from packaging->pipwin) (2.4.7)\n",
            "Requirement already satisfied: certifi>=2017.4.17 in /usr/local/lib/python3.7/dist-packages (from requests->pipwin) (2021.5.30)\n",
            "Requirement already satisfied: chardet<4,>=3.0.2 in /usr/local/lib/python3.7/dist-packages (from requests->pipwin) (3.0.4)\n",
            "Requirement already satisfied: urllib3!=1.25.0,!=1.25.1,<1.26,>=1.21.1 in /usr/local/lib/python3.7/dist-packages (from requests->pipwin) (1.24.3)\n",
            "Requirement already satisfied: idna<3,>=2.5 in /usr/local/lib/python3.7/dist-packages (from requests->pipwin) (2.10)\n",
            "Building wheels for collected packages: pipwin, pyjsparser\n",
            "  Building wheel for pipwin (setup.py) ... \u001b[?25l\u001b[?25hdone\n",
            "  Created wheel for pipwin: filename=pipwin-0.5.1-py2.py3-none-any.whl size=8791 sha256=e39c2e23c714b05dc212c11ff6a72ad12d0a66e958906b20ccde59aae7f66a48\n",
            "  Stored in directory: /root/.cache/pip/wheels/4e/f2/06/9024048eece9a22afc7a013395d6de2d345f56185095550d4c\n",
            "  Building wheel for pyjsparser (setup.py) ... \u001b[?25l\u001b[?25hdone\n",
            "  Created wheel for pyjsparser: filename=pyjsparser-2.7.1-py3-none-any.whl size=25997 sha256=e6192b6bc02d93bb039bea390846506f6d6636019d9a6269ff76e9444d6fb6cd\n",
            "  Stored in directory: /root/.cache/pip/wheels/2a/80/ac/dcd2bdbd03dd2b7b7e2bf3e5afbda6a1ab7935bbce314969da\n",
            "Successfully built pipwin pyjsparser\n",
            "Installing collected packages: soupsieve, pyjsparser, pySmartDL, pyprind, js2py, beautifulsoup4, pipwin\n",
            "  Attempting uninstall: beautifulsoup4\n",
            "    Found existing installation: beautifulsoup4 4.6.3\n",
            "    Uninstalling beautifulsoup4-4.6.3:\n",
            "      Successfully uninstalled beautifulsoup4-4.6.3\n",
            "Successfully installed beautifulsoup4-4.9.3 js2py-0.71 pipwin-0.5.1 pySmartDL-1.3.4 pyjsparser-2.7.1 pyprind-2.11.3 soupsieve-2.2.1\n",
            "/usr/local/lib/python3.7/dist-packages/pipwin/command.py:66: UserWarning: Found a non Windows system. Package installation might not work.\n",
            "  warn(\"Found a non Windows system. Package installation might not work.\")\n",
            "Building cache. Hang on . . .\n",
            "Done\n",
            "Package `pyaudio` found in cache\n",
            "Downloading package . . .\n",
            "https://download.lfd.uci.edu/pythonlibs/y2rycu7g/PyAudio-0.2.11-cp37-cp37m-win_amd64.whl\n",
            "PyAudio-0.2.11-cp37-cp37m-win_amd64.whl\n",
            "[*] 0 bytes / 110 kB @ 0 bytes/s [------------------] [0.0%, 0s left]   \b\b\b\b\b\b\b\b\b\b\b\b\b\b\b\b\b\b\b\b\b\b\b\b\b\b\b\b\b\b\b\b\b\b\b\b\b\b\b\b\b\b\b\b\b\b\b\b\b\b\b\b\b\b\b\b\b\b\b\b\b\b\b\b\b\b\b\b\b\b\b\b\b [*] 0 bytes / 110 kB @ 0 bytes/s [------------------] [0.0%, 0s left]   \b\b\b\b\b\b\b\b\b\b\b\b\b\b\b\b\b\b\b\b\b\b\b\b\b\b\b\b\b\b\b\b\b\b\b\b\b\b\b\b\b\b\b\b\b\b\b\b\b\b\b\b\b\b\b\b\b\b\b\b\b\b\b\b\b\b\b\b\b\b\b\b\b [*] 0 bytes / 110 kB @ 0 bytes/s [------------------] [0.0%, 0s left]   \b\b\b\b\b\b\b\b\b\b\b\b\b\b\b\b\b\b\b\b\b\b\b\b\b\b\b\b\b\b\b\b\b\b\b\b\b\b\b\b\b\b\b\b\b\b\b\b\b\b\b\b\b\b\b\b\b\b\b\b\b\b\b\b\b\b\b\b\b\b\b\b\b [*] 0 bytes / 110 kB @ 0 bytes/s [------------------] [0.0%, 0s left]   \b\b\b\b\b\b\b\b\b\b\b\b\b\b\b\b\b\b\b\b\b\b\b\b\b\b\b\b\b\b\b\b\b\b\b\b\b\b\b\b\b\b\b\b\b\b\b\b\b\b\b\b\b\b\b\b\b\b\b\b\b\b\b\b\b\b\b\b\b\b\b\b\b [*] 8 kB / 110 kB @ 16 kB/s [#-----------------] [7.3%, 0s left]   \b\b\b\b\b\b\b\b\b\b\b\b\b\b\b\b\b\b\b\b\b\b\b\b\b\b\b\b\b\b\b\b\b\b\b\b\b\b\b\b\b\b\b\b\b\b\b\b\b\b\b\b\b\b\b\b\b\b\b\b\b\b\b\b\b\b\b\b [*] 72 kB / 110 kB @ 120 kB/s [###########-------] [65.6%, 0s left]   \b\b\b\b\b\b\b\b\b\b\b\b\b\b\b\b\b\b\b\b\b\b\b\b\b\b\b\b\b\b\b\b\b\b\b\b\b\b\b\b\b\b\b\b\b\b\b\b\b\b\b\b\b\b\b\b\b\b\b\b\b\b\b\b\b\b\b\b\b\b\b [*] 110 kB / 110 kB @ 120 kB/s [##################] [100%, 0s left]    \n",
            "\u001b[31mERROR: PyAudio-0.2.11-cp37-cp37m-win_amd64.whl is not a supported wheel on this platform.\u001b[0m\n",
            "Traceback (most recent call last):\n",
            "  File \"/usr/local/bin/pipwin\", line 8, in <module>\n",
            "    sys.exit(main())\n",
            "  File \"/usr/local/lib/python3.7/dist-packages/pipwin/command.py\", line 103, in main\n",
            "    cache.install(package)\n",
            "  File \"/usr/local/lib/python3.7/dist-packages/pipwin/pipwin.py\", line 301, in install\n",
            "    subprocess.check_call([executable, \"-m\", \"pip\", \"install\", wheel_file])\n",
            "  File \"/usr/lib/python3.7/subprocess.py\", line 363, in check_call\n",
            "    raise CalledProcessError(retcode, cmd)\n",
            "subprocess.CalledProcessError: Command '['/usr/bin/python3', '-m', 'pip', 'install', '/root/pipwin/PyAudio-0.2.11-cp37-cp37m-win_amd64.whl']' returned non-zero exit status 1.\n"
          ],
          "name": "stdout"
        }
      ]
    },
    {
      "cell_type": "code",
      "metadata": {
        "colab": {
          "base_uri": "https://localhost:8080/"
        },
        "id": "J_SMGwWZzZQv",
        "outputId": "c79b91e2-b051-4dd7-bb5e-0663d4295cf4"
      },
      "source": [
        "nltk.download('punkt')\n",
        "nltk.download('averaged_perceptron_tagger')\n",
        "nltk.download('brown')\n",
        "import speech_recognition as sr"
      ],
      "execution_count": 17,
      "outputs": [
        {
          "output_type": "stream",
          "text": [
            "[nltk_data] Downloading package punkt to /root/nltk_data...\n",
            "[nltk_data]   Package punkt is already up-to-date!\n",
            "[nltk_data] Downloading package averaged_perceptron_tagger to\n",
            "[nltk_data]     /root/nltk_data...\n",
            "[nltk_data]   Package averaged_perceptron_tagger is already up-to-\n",
            "[nltk_data]       date!\n",
            "[nltk_data] Downloading package brown to /root/nltk_data...\n",
            "[nltk_data]   Package brown is already up-to-date!\n"
          ],
          "name": "stdout"
        }
      ]
    },
    {
      "cell_type": "code",
      "metadata": {
        "id": "0ogbj2LwzwZW"
      },
      "source": [
        "from textblob import TextBlob as blob"
      ],
      "execution_count": 3,
      "outputs": []
    },
    {
      "cell_type": "code",
      "metadata": {
        "id": "OusWTQzn4HU9"
      },
      "source": [
        "tb = blob('Hi, please like me!')"
      ],
      "execution_count": 4,
      "outputs": []
    },
    {
      "cell_type": "code",
      "metadata": {
        "colab": {
          "base_uri": "https://localhost:8080/"
        },
        "id": "cNTtzPYs4OUb",
        "outputId": "9d806ce3-29e4-43fa-b90a-fda7808e28fd"
      },
      "source": [
        "tb"
      ],
      "execution_count": 5,
      "outputs": [
        {
          "output_type": "execute_result",
          "data": {
            "text/plain": [
              "TextBlob(\"Hi, please like me!\")"
            ]
          },
          "metadata": {
            "tags": []
          },
          "execution_count": 5
        }
      ]
    },
    {
      "cell_type": "code",
      "metadata": {
        "colab": {
          "base_uri": "https://localhost:8080/"
        },
        "id": "9_KnQYAy4OxC",
        "outputId": "9d2ac769-0c7f-4fe8-9cf2-f23043b15f9b"
      },
      "source": [
        "help(tb)"
      ],
      "execution_count": 6,
      "outputs": [
        {
          "output_type": "stream",
          "text": [
            "Help on TextBlob in module textblob.blob object:\n",
            "\n",
            "class TextBlob(BaseBlob)\n",
            " |  TextBlob(text, tokenizer=None, pos_tagger=None, np_extractor=None, analyzer=None, parser=None, classifier=None, clean_html=False)\n",
            " |  \n",
            " |  A general text block, meant for larger bodies of text (esp. those\n",
            " |  containing sentences). Inherits from :class:`BaseBlob <BaseBlob>`.\n",
            " |  \n",
            " |  :param str text: A string.\n",
            " |  :param tokenizer: (optional) A tokenizer instance. If ``None``, defaults to\n",
            " |      :class:`WordTokenizer() <textblob.tokenizers.WordTokenizer>`.\n",
            " |  :param np_extractor: (optional) An NPExtractor instance. If ``None``,\n",
            " |      defaults to :class:`FastNPExtractor() <textblob.en.np_extractors.FastNPExtractor>`.\n",
            " |  :param pos_tagger: (optional) A Tagger instance. If ``None``, defaults to\n",
            " |      :class:`NLTKTagger <textblob.en.taggers.NLTKTagger>`.\n",
            " |  :param analyzer: (optional) A sentiment analyzer. If ``None``, defaults to\n",
            " |      :class:`PatternAnalyzer <textblob.en.sentiments.PatternAnalyzer>`.\n",
            " |  :param classifier: (optional) A classifier.\n",
            " |  \n",
            " |  Method resolution order:\n",
            " |      TextBlob\n",
            " |      BaseBlob\n",
            " |      textblob.mixins.StringlikeMixin\n",
            " |      textblob.mixins.BlobComparableMixin\n",
            " |      textblob.mixins.ComparableMixin\n",
            " |      builtins.object\n",
            " |  \n",
            " |  Methods defined here:\n",
            " |  \n",
            " |  sentences = <textblob.decorators.cached_property object>\n",
            " |  to_json(self, *args, **kwargs)\n",
            " |      Return a json representation (str) of this blob.\n",
            " |      Takes the same arguments as json.dumps.\n",
            " |      \n",
            " |      .. versionadded:: 0.5.1\n",
            " |  \n",
            " |  words = <textblob.decorators.cached_property object>\n",
            " |  ----------------------------------------------------------------------\n",
            " |  Data descriptors defined here:\n",
            " |  \n",
            " |  json\n",
            " |      The json representation of this blob.\n",
            " |      \n",
            " |      .. versionchanged:: 0.5.1\n",
            " |          Made ``json`` a property instead of a method to restore backwards\n",
            " |          compatibility that was broken after version 0.4.0.\n",
            " |  \n",
            " |  raw_sentences\n",
            " |      List of strings, the raw sentences in the blob.\n",
            " |  \n",
            " |  serialized\n",
            " |      Returns a list of each sentence's dict representation.\n",
            " |  \n",
            " |  ----------------------------------------------------------------------\n",
            " |  Methods inherited from BaseBlob:\n",
            " |  \n",
            " |  __add__(self, other)\n",
            " |      Concatenates two text objects the same way Python strings are\n",
            " |      concatenated.\n",
            " |      \n",
            " |      Arguments:\n",
            " |      - `other`: a string or a text object\n",
            " |  \n",
            " |  __hash__(self)\n",
            " |      Return hash(self).\n",
            " |  \n",
            " |  __init__(self, text, tokenizer=None, pos_tagger=None, np_extractor=None, analyzer=None, parser=None, classifier=None, clean_html=False)\n",
            " |      Initialize self.  See help(type(self)) for accurate signature.\n",
            " |  \n",
            " |  classify(self)\n",
            " |      Classify the blob using the blob's ``classifier``.\n",
            " |  \n",
            " |  correct(self)\n",
            " |      Attempt to correct the spelling of a blob.\n",
            " |      \n",
            " |      .. versionadded:: 0.6.0\n",
            " |      \n",
            " |      :rtype: :class:`BaseBlob <BaseBlob>`\n",
            " |  \n",
            " |  detect_language(self)\n",
            " |      Detect the blob's language using the Google Translate API.\n",
            " |      \n",
            " |      Requires an internet connection.\n",
            " |      \n",
            " |      Usage:\n",
            " |      ::\n",
            " |      \n",
            " |          >>> b = TextBlob(\"bonjour\")\n",
            " |          >>> b.detect_language()\n",
            " |          u'fr'\n",
            " |      \n",
            " |      Language code reference:\n",
            " |          https://developers.google.com/translate/v2/using_rest#language-params\n",
            " |      \n",
            " |      .. versionadded:: 0.5.0\n",
            " |      \n",
            " |      :rtype: str\n",
            " |  \n",
            " |  ngrams(self, n=3)\n",
            " |      Return a list of n-grams (tuples of n successive words) for this\n",
            " |      blob.\n",
            " |      \n",
            " |      :rtype: List of :class:`WordLists <WordList>`\n",
            " |  \n",
            " |  noun_phrases = <textblob.decorators.cached_property object>\n",
            " |  np_counts = <textblob.decorators.cached_property object>\n",
            " |  parse(self, parser=None)\n",
            " |      Parse the text.\n",
            " |      \n",
            " |      :param parser: (optional) A parser instance. If ``None``, defaults to\n",
            " |          this blob's default parser.\n",
            " |      \n",
            " |      .. versionadded:: 0.6.0\n",
            " |  \n",
            " |  polarity = <textblob.decorators.cached_property object>\n",
            " |  pos_tags = <textblob.decorators.cached_property object>\n",
            " |  sentiment = <textblob.decorators.cached_property object>\n",
            " |  sentiment_assessments = <textblob.decorators.cached_property object>\n",
            " |  split(self, sep=None, maxsplit=9223372036854775807)\n",
            " |      Behaves like the built-in str.split() except returns a\n",
            " |      WordList.\n",
            " |      \n",
            " |      :rtype: :class:`WordList <WordList>`\n",
            " |  \n",
            " |  subjectivity = <textblob.decorators.cached_property object>\n",
            " |  tags = <textblob.decorators.cached_property object>\n",
            " |  tokenize(self, tokenizer=None)\n",
            " |      Return a list of tokens, using ``tokenizer``.\n",
            " |      \n",
            " |      :param tokenizer: (optional) A tokenizer object. If None, defaults to\n",
            " |          this blob's default tokenizer.\n",
            " |  \n",
            " |  tokens = <textblob.decorators.cached_property object>\n",
            " |  translate(self, from_lang='auto', to='en')\n",
            " |      Translate the blob to another language.\n",
            " |      Uses the Google Translate API. Returns a new TextBlob.\n",
            " |      \n",
            " |      Requires an internet connection.\n",
            " |      \n",
            " |      Usage:\n",
            " |      ::\n",
            " |      \n",
            " |          >>> b = TextBlob(\"Simple is better than complex\")\n",
            " |          >>> b.translate(to=\"es\")\n",
            " |          TextBlob('Lo simple es mejor que complejo')\n",
            " |      \n",
            " |      Language code reference:\n",
            " |          https://developers.google.com/translate/v2/using_rest#language-params\n",
            " |      \n",
            " |      .. versionadded:: 0.5.0.\n",
            " |      \n",
            " |      :param str from_lang: Language to translate from. If ``None``, will attempt\n",
            " |          to detect the language.\n",
            " |      :param str to: Language to translate to.\n",
            " |      :rtype: :class:`BaseBlob <BaseBlob>`\n",
            " |  \n",
            " |  word_counts = <textblob.decorators.cached_property object>\n",
            " |  ----------------------------------------------------------------------\n",
            " |  Data and other attributes inherited from BaseBlob:\n",
            " |  \n",
            " |  analyzer = <textblob.en.sentiments.PatternAnalyzer object>\n",
            " |  \n",
            " |  np_extractor = <textblob.en.np_extractors.FastNPExtractor object>\n",
            " |  \n",
            " |  parser = <textblob.en.parsers.PatternParser object>\n",
            " |  \n",
            " |  pos_tagger = <textblob.en.taggers.NLTKTagger object>\n",
            " |  \n",
            " |  tokenizer = <textblob.tokenizers.WordTokenizer object>\n",
            " |  \n",
            " |  translator = <textblob.translate.Translator object>\n",
            " |  \n",
            " |  ----------------------------------------------------------------------\n",
            " |  Methods inherited from textblob.mixins.StringlikeMixin:\n",
            " |  \n",
            " |  __contains__(self, sub)\n",
            " |      Implements the `in` keyword like a Python string.\n",
            " |  \n",
            " |  __getitem__(self, index)\n",
            " |      Returns a  substring. If index is an integer, returns a Python\n",
            " |      string of a single character. If a range is given, e.g. `blob[3:5]`,\n",
            " |      a new instance of the class is returned.\n",
            " |  \n",
            " |  __iter__(self)\n",
            " |      Makes the object iterable as if it were a string,\n",
            " |      iterating through the raw string's characters.\n",
            " |  \n",
            " |  __len__(self)\n",
            " |      Returns the length of the raw text.\n",
            " |  \n",
            " |  __repr__(self)\n",
            " |      Returns a string representation for debugging.\n",
            " |  \n",
            " |  __str__(self)\n",
            " |      Returns a string representation used in print statements\n",
            " |      or str(my_blob).\n",
            " |  \n",
            " |  ends_with = endswith(self, suffix, start=0, end=9223372036854775807)\n",
            " |  \n",
            " |  endswith(self, suffix, start=0, end=9223372036854775807)\n",
            " |      Returns True if the blob ends with the given suffix.\n",
            " |  \n",
            " |  find(self, sub, start=0, end=9223372036854775807)\n",
            " |      Behaves like the built-in str.find() method. Returns an integer,\n",
            " |      the index of the first occurrence of the substring argument sub in the\n",
            " |      sub-string given by [start:end].\n",
            " |  \n",
            " |  format(self, *args, **kwargs)\n",
            " |      Perform a string formatting operation, like the built-in\n",
            " |      `str.format(*args, **kwargs)`. Returns a blob object.\n",
            " |  \n",
            " |  index(self, sub, start=0, end=9223372036854775807)\n",
            " |      Like blob.find() but raise ValueError when the substring\n",
            " |      is not found.\n",
            " |  \n",
            " |  join(self, iterable)\n",
            " |      Behaves like the built-in `str.join(iterable)` method, except\n",
            " |      returns a blob object.\n",
            " |      \n",
            " |      Returns a blob which is the concatenation of the strings or blobs\n",
            " |      in the iterable.\n",
            " |  \n",
            " |  lower(self)\n",
            " |      Like str.lower(), returns new object with all lower-cased characters.\n",
            " |  \n",
            " |  replace(self, old, new, count=9223372036854775807)\n",
            " |      Return a new blob object with all the occurence of `old` replaced\n",
            " |      by `new`.\n",
            " |  \n",
            " |  rfind(self, sub, start=0, end=9223372036854775807)\n",
            " |      Behaves like the built-in str.rfind() method. Returns an integer,\n",
            " |      the index of he last (right-most) occurence of the substring argument\n",
            " |      sub in the sub-sequence given by [start:end].\n",
            " |  \n",
            " |  rindex(self, sub, start=0, end=9223372036854775807)\n",
            " |      Like blob.rfind() but raise ValueError when substring is not\n",
            " |      found.\n",
            " |  \n",
            " |  starts_with = startswith(self, prefix, start=0, end=9223372036854775807)\n",
            " |  \n",
            " |  startswith(self, prefix, start=0, end=9223372036854775807)\n",
            " |      Returns True if the blob starts with the given prefix.\n",
            " |  \n",
            " |  strip(self, chars=None)\n",
            " |      Behaves like the built-in str.strip([chars]) method. Returns\n",
            " |      an object with leading and trailing whitespace removed.\n",
            " |  \n",
            " |  title(self)\n",
            " |      Returns a blob object with the text in title-case.\n",
            " |  \n",
            " |  upper(self)\n",
            " |      Like str.upper(), returns new object with all upper-cased characters.\n",
            " |  \n",
            " |  ----------------------------------------------------------------------\n",
            " |  Data descriptors inherited from textblob.mixins.StringlikeMixin:\n",
            " |  \n",
            " |  __dict__\n",
            " |      dictionary for instance variables (if defined)\n",
            " |  \n",
            " |  __weakref__\n",
            " |      list of weak references to the object (if defined)\n",
            " |  \n",
            " |  ----------------------------------------------------------------------\n",
            " |  Methods inherited from textblob.mixins.ComparableMixin:\n",
            " |  \n",
            " |  __eq__(self, other)\n",
            " |      Return self==value.\n",
            " |  \n",
            " |  __ge__(self, other)\n",
            " |      Return self>=value.\n",
            " |  \n",
            " |  __gt__(self, other)\n",
            " |      Return self>value.\n",
            " |  \n",
            " |  __le__(self, other)\n",
            " |      Return self<=value.\n",
            " |  \n",
            " |  __lt__(self, other)\n",
            " |      Return self<value.\n",
            " |  \n",
            " |  __ne__(self, other)\n",
            " |      Return self!=value.\n",
            "\n"
          ],
          "name": "stdout"
        }
      ]
    },
    {
      "cell_type": "code",
      "metadata": {
        "colab": {
          "base_uri": "https://localhost:8080/"
        },
        "id": "Fz0tu1xq4Qe0",
        "outputId": "d048715a-d191-4daa-8630-41e8034329a8"
      },
      "source": [
        "tb.tags # check https://spacy.io/api/annotation#named-entities"
      ],
      "execution_count": 7,
      "outputs": [
        {
          "output_type": "execute_result",
          "data": {
            "text/plain": [
              "[('Hi', 'NNP'), ('please', 'NN'), ('like', 'IN'), ('me', 'PRP')]"
            ]
          },
          "metadata": {
            "tags": []
          },
          "execution_count": 7
        }
      ]
    },
    {
      "cell_type": "code",
      "metadata": {
        "colab": {
          "base_uri": "https://localhost:8080/"
        },
        "id": "q1y7MhMh4f-c",
        "outputId": "b94d4db1-7a34-4ab2-b1de-42e00172a649"
      },
      "source": [
        "tb.noun_phrases"
      ],
      "execution_count": 8,
      "outputs": [
        {
          "output_type": "execute_result",
          "data": {
            "text/plain": [
              "WordList(['hi'])"
            ]
          },
          "metadata": {
            "tags": []
          },
          "execution_count": 8
        }
      ]
    },
    {
      "cell_type": "code",
      "metadata": {
        "colab": {
          "base_uri": "https://localhost:8080/"
        },
        "id": "w5vwMbmI5dhW",
        "outputId": "bb55e9e9-9f43-49dc-e735-494c1fc4d034"
      },
      "source": [
        "tb.sentiment"
      ],
      "execution_count": 9,
      "outputs": [
        {
          "output_type": "execute_result",
          "data": {
            "text/plain": [
              "Sentiment(polarity=0.0, subjectivity=0.0)"
            ]
          },
          "metadata": {
            "tags": []
          },
          "execution_count": 9
        }
      ]
    },
    {
      "cell_type": "code",
      "metadata": {
        "id": "vmCVYZhz5lLF"
      },
      "source": [
        "tb = blob('I love this show, there is many useful learnings')"
      ],
      "execution_count": 10,
      "outputs": []
    },
    {
      "cell_type": "code",
      "metadata": {
        "colab": {
          "base_uri": "https://localhost:8080/"
        },
        "id": "44RoHR4u5tEl",
        "outputId": "42683a9d-f790-4f34-8165-d645f27fa357"
      },
      "source": [
        "tb.sentiment"
      ],
      "execution_count": 11,
      "outputs": [
        {
          "output_type": "execute_result",
          "data": {
            "text/plain": [
              "Sentiment(polarity=0.43333333333333335, subjectivity=0.3666666666666667)"
            ]
          },
          "metadata": {
            "tags": []
          },
          "execution_count": 11
        }
      ]
    },
    {
      "cell_type": "markdown",
      "metadata": {
        "id": "Fpfd-NCG5xep"
      },
      "source": [
        "## **Real time voice recorder**"
      ]
    },
    {
      "cell_type": "code",
      "metadata": {
        "colab": {
          "base_uri": "https://localhost:8080/",
          "height": 426
        },
        "id": "wnlSvVQ15t1N",
        "outputId": "dbff2b4a-7ebe-4325-cf7d-aa5fab418298"
      },
      "source": [
        "r = sr.Recognizer()\n",
        "with sr.Microphone() as source:\n",
        "    print('Say Something...')\n",
        "    audio = r.listen(source, timeout=2)\n",
        "    try:\n",
        "        text = r.recognize_google(audio)\n",
        "        tb = blob(text)\n",
        "        print(text)\n",
        "        print(tb.sentiment)\n",
        "    except:\n",
        "        print('Sorry... Try again')"
      ],
      "execution_count": 24,
      "outputs": [
        {
          "output_type": "error",
          "ename": "AttributeError",
          "evalue": "ignored",
          "traceback": [
            "\u001b[0;31m---------------------------------------------------------------------------\u001b[0m",
            "\u001b[0;31mModuleNotFoundError\u001b[0m                       Traceback (most recent call last)",
            "\u001b[0;32m/usr/local/lib/python3.7/dist-packages/speech_recognition/__init__.py\u001b[0m in \u001b[0;36mget_pyaudio\u001b[0;34m()\u001b[0m\n\u001b[1;32m    107\u001b[0m         \u001b[0;32mtry\u001b[0m\u001b[0;34m:\u001b[0m\u001b[0;34m\u001b[0m\u001b[0;34m\u001b[0m\u001b[0m\n\u001b[0;32m--> 108\u001b[0;31m             \u001b[0;32mimport\u001b[0m \u001b[0mpyaudio\u001b[0m\u001b[0;34m\u001b[0m\u001b[0;34m\u001b[0m\u001b[0m\n\u001b[0m\u001b[1;32m    109\u001b[0m         \u001b[0;32mexcept\u001b[0m \u001b[0mImportError\u001b[0m\u001b[0;34m:\u001b[0m\u001b[0;34m\u001b[0m\u001b[0;34m\u001b[0m\u001b[0m\n",
            "\u001b[0;31mModuleNotFoundError\u001b[0m: No module named 'pyaudio'",
            "\nDuring handling of the above exception, another exception occurred:\n",
            "\u001b[0;31mAttributeError\u001b[0m                            Traceback (most recent call last)",
            "\u001b[0;32m<ipython-input-24-0ec47ea89f5b>\u001b[0m in \u001b[0;36m<module>\u001b[0;34m()\u001b[0m\n\u001b[1;32m      1\u001b[0m \u001b[0mr\u001b[0m \u001b[0;34m=\u001b[0m \u001b[0msr\u001b[0m\u001b[0;34m.\u001b[0m\u001b[0mRecognizer\u001b[0m\u001b[0;34m(\u001b[0m\u001b[0;34m)\u001b[0m\u001b[0;34m\u001b[0m\u001b[0;34m\u001b[0m\u001b[0m\n\u001b[0;32m----> 2\u001b[0;31m \u001b[0;32mwith\u001b[0m \u001b[0msr\u001b[0m\u001b[0;34m.\u001b[0m\u001b[0mMicrophone\u001b[0m\u001b[0;34m(\u001b[0m\u001b[0;34m)\u001b[0m \u001b[0;32mas\u001b[0m \u001b[0msource\u001b[0m\u001b[0;34m:\u001b[0m\u001b[0;34m\u001b[0m\u001b[0;34m\u001b[0m\u001b[0m\n\u001b[0m\u001b[1;32m      3\u001b[0m     \u001b[0mprint\u001b[0m\u001b[0;34m(\u001b[0m\u001b[0;34m'Say Something...'\u001b[0m\u001b[0;34m)\u001b[0m\u001b[0;34m\u001b[0m\u001b[0;34m\u001b[0m\u001b[0m\n\u001b[1;32m      4\u001b[0m     \u001b[0maudio\u001b[0m \u001b[0;34m=\u001b[0m \u001b[0mr\u001b[0m\u001b[0;34m.\u001b[0m\u001b[0mlisten\u001b[0m\u001b[0;34m(\u001b[0m\u001b[0msource\u001b[0m\u001b[0;34m,\u001b[0m \u001b[0mtimeout\u001b[0m\u001b[0;34m=\u001b[0m\u001b[0;36m2\u001b[0m\u001b[0;34m)\u001b[0m\u001b[0;34m\u001b[0m\u001b[0;34m\u001b[0m\u001b[0m\n\u001b[1;32m      5\u001b[0m     \u001b[0;32mtry\u001b[0m\u001b[0;34m:\u001b[0m\u001b[0;34m\u001b[0m\u001b[0;34m\u001b[0m\u001b[0m\n",
            "\u001b[0;32m/usr/local/lib/python3.7/dist-packages/speech_recognition/__init__.py\u001b[0m in \u001b[0;36m__init__\u001b[0;34m(self, device_index, sample_rate, chunk_size)\u001b[0m\n\u001b[1;32m     77\u001b[0m \u001b[0;34m\u001b[0m\u001b[0m\n\u001b[1;32m     78\u001b[0m         \u001b[0;31m# set up PyAudio\u001b[0m\u001b[0;34m\u001b[0m\u001b[0;34m\u001b[0m\u001b[0;34m\u001b[0m\u001b[0m\n\u001b[0;32m---> 79\u001b[0;31m         \u001b[0mself\u001b[0m\u001b[0;34m.\u001b[0m\u001b[0mpyaudio_module\u001b[0m \u001b[0;34m=\u001b[0m \u001b[0mself\u001b[0m\u001b[0;34m.\u001b[0m\u001b[0mget_pyaudio\u001b[0m\u001b[0;34m(\u001b[0m\u001b[0;34m)\u001b[0m\u001b[0;34m\u001b[0m\u001b[0;34m\u001b[0m\u001b[0m\n\u001b[0m\u001b[1;32m     80\u001b[0m         \u001b[0maudio\u001b[0m \u001b[0;34m=\u001b[0m \u001b[0mself\u001b[0m\u001b[0;34m.\u001b[0m\u001b[0mpyaudio_module\u001b[0m\u001b[0;34m.\u001b[0m\u001b[0mPyAudio\u001b[0m\u001b[0;34m(\u001b[0m\u001b[0;34m)\u001b[0m\u001b[0;34m\u001b[0m\u001b[0;34m\u001b[0m\u001b[0m\n\u001b[1;32m     81\u001b[0m         \u001b[0;32mtry\u001b[0m\u001b[0;34m:\u001b[0m\u001b[0;34m\u001b[0m\u001b[0;34m\u001b[0m\u001b[0m\n",
            "\u001b[0;32m/usr/local/lib/python3.7/dist-packages/speech_recognition/__init__.py\u001b[0m in \u001b[0;36mget_pyaudio\u001b[0;34m()\u001b[0m\n\u001b[1;32m    108\u001b[0m             \u001b[0;32mimport\u001b[0m \u001b[0mpyaudio\u001b[0m\u001b[0;34m\u001b[0m\u001b[0;34m\u001b[0m\u001b[0m\n\u001b[1;32m    109\u001b[0m         \u001b[0;32mexcept\u001b[0m \u001b[0mImportError\u001b[0m\u001b[0;34m:\u001b[0m\u001b[0;34m\u001b[0m\u001b[0;34m\u001b[0m\u001b[0m\n\u001b[0;32m--> 110\u001b[0;31m             \u001b[0;32mraise\u001b[0m \u001b[0mAttributeError\u001b[0m\u001b[0;34m(\u001b[0m\u001b[0;34m\"Could not find PyAudio; check installation\"\u001b[0m\u001b[0;34m)\u001b[0m\u001b[0;34m\u001b[0m\u001b[0;34m\u001b[0m\u001b[0m\n\u001b[0m\u001b[1;32m    111\u001b[0m         \u001b[0;32mfrom\u001b[0m \u001b[0mdistutils\u001b[0m\u001b[0;34m.\u001b[0m\u001b[0mversion\u001b[0m \u001b[0;32mimport\u001b[0m \u001b[0mLooseVersion\u001b[0m\u001b[0;34m\u001b[0m\u001b[0;34m\u001b[0m\u001b[0m\n\u001b[1;32m    112\u001b[0m         \u001b[0;32mif\u001b[0m \u001b[0mLooseVersion\u001b[0m\u001b[0;34m(\u001b[0m\u001b[0mpyaudio\u001b[0m\u001b[0;34m.\u001b[0m\u001b[0m__version__\u001b[0m\u001b[0;34m)\u001b[0m \u001b[0;34m<\u001b[0m \u001b[0mLooseVersion\u001b[0m\u001b[0;34m(\u001b[0m\u001b[0;34m\"0.2.11\"\u001b[0m\u001b[0;34m)\u001b[0m\u001b[0;34m:\u001b[0m\u001b[0;34m\u001b[0m\u001b[0;34m\u001b[0m\u001b[0m\n",
            "\u001b[0;31mAttributeError\u001b[0m: Could not find PyAudio; check installation"
          ]
        }
      ]
    },
    {
      "cell_type": "code",
      "metadata": {
        "colab": {
          "base_uri": "https://localhost:8080/",
          "height": 426
        },
        "id": "zI6fxJQW5wzX",
        "outputId": "9a0d2e41-44e5-443d-ca40-3efffaf8c379"
      },
      "source": [
        "iter_num = 10\n",
        "index = 0\n",
        "while(index<iter_num):\n",
        "    with sr.Microphone() as source:\n",
        "        print()\n",
        "        print('Say Something...')\n",
        "        audio = r.listen(source, timeout=3)\n",
        "        try:\n",
        "            text = r.recognize_google(audio)\n",
        "            tb = blob(text)\n",
        "            print(text)\n",
        "            print(tb.sentiment)\n",
        "        except:\n",
        "            print('Sorry... Try again')\n",
        "        index = index + 1"
      ],
      "execution_count": 25,
      "outputs": [
        {
          "output_type": "error",
          "ename": "AttributeError",
          "evalue": "ignored",
          "traceback": [
            "\u001b[0;31m---------------------------------------------------------------------------\u001b[0m",
            "\u001b[0;31mModuleNotFoundError\u001b[0m                       Traceback (most recent call last)",
            "\u001b[0;32m/usr/local/lib/python3.7/dist-packages/speech_recognition/__init__.py\u001b[0m in \u001b[0;36mget_pyaudio\u001b[0;34m()\u001b[0m\n\u001b[1;32m    107\u001b[0m         \u001b[0;32mtry\u001b[0m\u001b[0;34m:\u001b[0m\u001b[0;34m\u001b[0m\u001b[0;34m\u001b[0m\u001b[0m\n\u001b[0;32m--> 108\u001b[0;31m             \u001b[0;32mimport\u001b[0m \u001b[0mpyaudio\u001b[0m\u001b[0;34m\u001b[0m\u001b[0;34m\u001b[0m\u001b[0m\n\u001b[0m\u001b[1;32m    109\u001b[0m         \u001b[0;32mexcept\u001b[0m \u001b[0mImportError\u001b[0m\u001b[0;34m:\u001b[0m\u001b[0;34m\u001b[0m\u001b[0;34m\u001b[0m\u001b[0m\n",
            "\u001b[0;31mModuleNotFoundError\u001b[0m: No module named 'pyaudio'",
            "\nDuring handling of the above exception, another exception occurred:\n",
            "\u001b[0;31mAttributeError\u001b[0m                            Traceback (most recent call last)",
            "\u001b[0;32m<ipython-input-25-7a375f785147>\u001b[0m in \u001b[0;36m<module>\u001b[0;34m()\u001b[0m\n\u001b[1;32m      2\u001b[0m \u001b[0mindex\u001b[0m \u001b[0;34m=\u001b[0m \u001b[0;36m0\u001b[0m\u001b[0;34m\u001b[0m\u001b[0;34m\u001b[0m\u001b[0m\n\u001b[1;32m      3\u001b[0m \u001b[0;32mwhile\u001b[0m\u001b[0;34m(\u001b[0m\u001b[0mindex\u001b[0m\u001b[0;34m<\u001b[0m\u001b[0miter_num\u001b[0m\u001b[0;34m)\u001b[0m\u001b[0;34m:\u001b[0m\u001b[0;34m\u001b[0m\u001b[0;34m\u001b[0m\u001b[0m\n\u001b[0;32m----> 4\u001b[0;31m     \u001b[0;32mwith\u001b[0m \u001b[0msr\u001b[0m\u001b[0;34m.\u001b[0m\u001b[0mMicrophone\u001b[0m\u001b[0;34m(\u001b[0m\u001b[0;34m)\u001b[0m \u001b[0;32mas\u001b[0m \u001b[0msource\u001b[0m\u001b[0;34m:\u001b[0m\u001b[0;34m\u001b[0m\u001b[0;34m\u001b[0m\u001b[0m\n\u001b[0m\u001b[1;32m      5\u001b[0m         \u001b[0mprint\u001b[0m\u001b[0;34m(\u001b[0m\u001b[0;34m)\u001b[0m\u001b[0;34m\u001b[0m\u001b[0;34m\u001b[0m\u001b[0m\n\u001b[1;32m      6\u001b[0m         \u001b[0mprint\u001b[0m\u001b[0;34m(\u001b[0m\u001b[0;34m'Say Something...'\u001b[0m\u001b[0;34m)\u001b[0m\u001b[0;34m\u001b[0m\u001b[0;34m\u001b[0m\u001b[0m\n",
            "\u001b[0;32m/usr/local/lib/python3.7/dist-packages/speech_recognition/__init__.py\u001b[0m in \u001b[0;36m__init__\u001b[0;34m(self, device_index, sample_rate, chunk_size)\u001b[0m\n\u001b[1;32m     77\u001b[0m \u001b[0;34m\u001b[0m\u001b[0m\n\u001b[1;32m     78\u001b[0m         \u001b[0;31m# set up PyAudio\u001b[0m\u001b[0;34m\u001b[0m\u001b[0;34m\u001b[0m\u001b[0;34m\u001b[0m\u001b[0m\n\u001b[0;32m---> 79\u001b[0;31m         \u001b[0mself\u001b[0m\u001b[0;34m.\u001b[0m\u001b[0mpyaudio_module\u001b[0m \u001b[0;34m=\u001b[0m \u001b[0mself\u001b[0m\u001b[0;34m.\u001b[0m\u001b[0mget_pyaudio\u001b[0m\u001b[0;34m(\u001b[0m\u001b[0;34m)\u001b[0m\u001b[0;34m\u001b[0m\u001b[0;34m\u001b[0m\u001b[0m\n\u001b[0m\u001b[1;32m     80\u001b[0m         \u001b[0maudio\u001b[0m \u001b[0;34m=\u001b[0m \u001b[0mself\u001b[0m\u001b[0;34m.\u001b[0m\u001b[0mpyaudio_module\u001b[0m\u001b[0;34m.\u001b[0m\u001b[0mPyAudio\u001b[0m\u001b[0;34m(\u001b[0m\u001b[0;34m)\u001b[0m\u001b[0;34m\u001b[0m\u001b[0;34m\u001b[0m\u001b[0m\n\u001b[1;32m     81\u001b[0m         \u001b[0;32mtry\u001b[0m\u001b[0;34m:\u001b[0m\u001b[0;34m\u001b[0m\u001b[0;34m\u001b[0m\u001b[0m\n",
            "\u001b[0;32m/usr/local/lib/python3.7/dist-packages/speech_recognition/__init__.py\u001b[0m in \u001b[0;36mget_pyaudio\u001b[0;34m()\u001b[0m\n\u001b[1;32m    108\u001b[0m             \u001b[0;32mimport\u001b[0m \u001b[0mpyaudio\u001b[0m\u001b[0;34m\u001b[0m\u001b[0;34m\u001b[0m\u001b[0m\n\u001b[1;32m    109\u001b[0m         \u001b[0;32mexcept\u001b[0m \u001b[0mImportError\u001b[0m\u001b[0;34m:\u001b[0m\u001b[0;34m\u001b[0m\u001b[0;34m\u001b[0m\u001b[0m\n\u001b[0;32m--> 110\u001b[0;31m             \u001b[0;32mraise\u001b[0m \u001b[0mAttributeError\u001b[0m\u001b[0;34m(\u001b[0m\u001b[0;34m\"Could not find PyAudio; check installation\"\u001b[0m\u001b[0;34m)\u001b[0m\u001b[0;34m\u001b[0m\u001b[0;34m\u001b[0m\u001b[0m\n\u001b[0m\u001b[1;32m    111\u001b[0m         \u001b[0;32mfrom\u001b[0m \u001b[0mdistutils\u001b[0m\u001b[0;34m.\u001b[0m\u001b[0mversion\u001b[0m \u001b[0;32mimport\u001b[0m \u001b[0mLooseVersion\u001b[0m\u001b[0;34m\u001b[0m\u001b[0;34m\u001b[0m\u001b[0m\n\u001b[1;32m    112\u001b[0m         \u001b[0;32mif\u001b[0m \u001b[0mLooseVersion\u001b[0m\u001b[0;34m(\u001b[0m\u001b[0mpyaudio\u001b[0m\u001b[0;34m.\u001b[0m\u001b[0m__version__\u001b[0m\u001b[0;34m)\u001b[0m \u001b[0;34m<\u001b[0m \u001b[0mLooseVersion\u001b[0m\u001b[0;34m(\u001b[0m\u001b[0;34m\"0.2.11\"\u001b[0m\u001b[0;34m)\u001b[0m\u001b[0;34m:\u001b[0m\u001b[0;34m\u001b[0m\u001b[0;34m\u001b[0m\u001b[0m\n",
            "\u001b[0;31mAttributeError\u001b[0m: Could not find PyAudio; check installation"
          ]
        }
      ]
    },
    {
      "cell_type": "code",
      "metadata": {
        "id": "_fyRb2OJ5w1r"
      },
      "source": [
        ""
      ],
      "execution_count": null,
      "outputs": []
    },
    {
      "cell_type": "code",
      "metadata": {
        "id": "hTgiF1wf5w4T"
      },
      "source": [
        ""
      ],
      "execution_count": null,
      "outputs": []
    },
    {
      "cell_type": "code",
      "metadata": {
        "id": "HgmP90_z5w7V"
      },
      "source": [
        ""
      ],
      "execution_count": null,
      "outputs": []
    },
    {
      "cell_type": "code",
      "metadata": {
        "id": "Z4ELlkYf5w92"
      },
      "source": [
        ""
      ],
      "execution_count": null,
      "outputs": []
    }
  ]
}