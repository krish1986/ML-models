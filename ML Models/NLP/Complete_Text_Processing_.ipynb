{
  "nbformat": 4,
  "nbformat_minor": 0,
  "metadata": {
    "colab": {
      "name": "Complete Text Processing .ipynb",
      "provenance": [],
      "collapsed_sections": [
        "HqRXEam7oXel",
        "ji07ZmapvnJn",
        "lUCHtPA7v9K-"
      ]
    },
    "kernelspec": {
      "name": "python3",
      "display_name": "Python 3"
    },
    "language_info": {
      "name": "python"
    }
  },
  "cells": [
    {
      "cell_type": "code",
      "metadata": {
        "id": "Qmc_t6AfjC3Q"
      },
      "source": [
        "import pandas as pd\n",
        "import numpy as np"
      ],
      "execution_count": 1,
      "outputs": []
    },
    {
      "cell_type": "code",
      "metadata": {
        "colab": {
          "base_uri": "https://localhost:8080/"
        },
        "id": "fdLvUHXekF9C",
        "outputId": "0e3af265-b561-40c7-bf7e-416586451ad9"
      },
      "source": [
        "import spacy\n",
        "nlp = spacy.load('en_core_web_sm')\n",
        "from spacy.lang.en.stop_words import STOP_WORDS\n",
        "import re\n",
        "from bs4 import BeautifulSoup\n",
        "import unicodedata\n",
        "from textblob import TextBlob\n",
        "!python -m textblob.download_corpora"
      ],
      "execution_count": 2,
      "outputs": [
        {
          "output_type": "stream",
          "text": [
            "[nltk_data] Downloading package brown to /root/nltk_data...\n",
            "[nltk_data]   Package brown is already up-to-date!\n",
            "[nltk_data] Downloading package punkt to /root/nltk_data...\n",
            "[nltk_data]   Package punkt is already up-to-date!\n",
            "[nltk_data] Downloading package wordnet to /root/nltk_data...\n",
            "[nltk_data]   Package wordnet is already up-to-date!\n",
            "[nltk_data] Downloading package averaged_perceptron_tagger to\n",
            "[nltk_data]     /root/nltk_data...\n",
            "[nltk_data]   Package averaged_perceptron_tagger is already up-to-\n",
            "[nltk_data]       date!\n",
            "[nltk_data] Downloading package conll2000 to /root/nltk_data...\n",
            "[nltk_data]   Package conll2000 is already up-to-date!\n",
            "[nltk_data] Downloading package movie_reviews to /root/nltk_data...\n",
            "[nltk_data]   Package movie_reviews is already up-to-date!\n",
            "Finished.\n"
          ],
          "name": "stdout"
        }
      ]
    },
    {
      "cell_type": "code",
      "metadata": {
        "id": "JRp5tFKcLs_D"
      },
      "source": [
        "from sklearn.linear_model import SGDClassifier\n",
        "from sklearn.linear_model import LogisticRegression\n",
        "from sklearn.linear_model import LogisticRegressionCV\n",
        "from sklearn.svm import LinearSVC\n",
        "from sklearn.ensemble import RandomForestClassifier\n",
        "\n",
        "\n",
        "from sklearn.model_selection import train_test_split\n",
        "from sklearn.metrics import confusion_matrix, accuracy_score\n",
        "from sklearn.preprocessing import MinMaxScaler"
      ],
      "execution_count": null,
      "outputs": []
    },
    {
      "cell_type": "code",
      "metadata": {
        "id": "wIVCYbXXVH4_"
      },
      "source": [
        "from textblob import Word\n",
        "from spacy import displacy\n",
        "from textblob.sentiments import NaiveBayesAnalyzer\n",
        "from sklearn.feature_extraction.text import CountVectorizer\n",
        "from sklearn.feature_extraction.text import TfidfVectorizer"
      ],
      "execution_count": 3,
      "outputs": []
    },
    {
      "cell_type": "code",
      "metadata": {
        "id": "eYiHyc8ORd4c"
      },
      "source": [
        "from wordcloud import WordCloud\n",
        "import matplotlib.pyplot as plt\n",
        "%matplotlib inline"
      ],
      "execution_count": 4,
      "outputs": []
    },
    {
      "cell_type": "code",
      "metadata": {
        "colab": {
          "base_uri": "https://localhost:8080/",
          "height": 52
        },
        "id": "Uvk2QtQjm9VM",
        "outputId": "c3422b43-f6e7-4667-eef2-7251fabbcb27"
      },
      "source": [
        "'''General Feature Extraction\n",
        "File loading\n",
        "Word counts\n",
        "Characters count\n",
        "Average characters per word\n",
        "Stop words count\n",
        "Count #HashTags and @Mentions\n",
        "If numeric digits are present in twitts\n",
        "Upper case word counts'''"
      ],
      "execution_count": 5,
      "outputs": [
        {
          "output_type": "execute_result",
          "data": {
            "application/vnd.google.colaboratory.intrinsic+json": {
              "type": "string"
            },
            "text/plain": [
              "'General Feature Extraction\\nFile loading\\nWord counts\\nCharacters count\\nAverage characters per word\\nStop words count\\nCount #HashTags and @Mentions\\nIf numeric digits are present in twitts\\nUpper case word counts'"
            ]
          },
          "metadata": {
            "tags": []
          },
          "execution_count": 5
        }
      ]
    },
    {
      "cell_type": "code",
      "metadata": {
        "colab": {
          "base_uri": "https://localhost:8080/",
          "height": 103
        },
        "id": "hiTM3L8NkLqP",
        "outputId": "c5701136-41a5-4e5e-f31c-95a8537a85ad"
      },
      "source": [
        "'''Preprocessing and Cleaning\n",
        "Lower case\n",
        "Contraction to Expansion\n",
        "Emails removal and counts\n",
        "URLs removal and counts\n",
        "Removal of RT\n",
        "Removal of Special Characters\n",
        "Removal of multiple spaces\n",
        "Removal of HTML tags\n",
        "Removal of accented characters\n",
        "Removal of Stop Words\n",
        "Conversion into base form of words\n",
        "Common Occuring words Removal\n",
        "Rare Occuring words Removal\n",
        "Word Cloud\n",
        "Spelling Correction\n",
        "Tokenization\n",
        "Lemmatization\n",
        "Detecting Entities using NER\n",
        "Noun Detection\n",
        "Language Detection\n",
        "Sentence Translation\n",
        "Using Inbuilt Sentiment Classifier\n",
        "Advanced Text Processing and Feature Extraction\n",
        "N-Gram, Bi-Gram etc\n",
        "Bag of Words (BoW)\n",
        "Term Frequency Calculation TF\n",
        "Inverse Document Frequency IDF\n",
        "TFIDF Term Frequency – Inverse Document Frequency\n",
        "Word Embedding Word2Vec using SpaCy\n",
        "Machine Learning Models for Text Classification\n",
        "SGDClassifier\n",
        "LogisticRegression\n",
        "LogisticRegressionCV\n",
        "LinearSVC\n",
        "RandomForestClassifier'''"
      ],
      "execution_count": 6,
      "outputs": [
        {
          "output_type": "execute_result",
          "data": {
            "application/vnd.google.colaboratory.intrinsic+json": {
              "type": "string"
            },
            "text/plain": [
              "'Preprocessing and Cleaning\\nLower case\\nContraction to Expansion\\nEmails removal and counts\\nURLs removal and counts\\nRemoval of RT\\nRemoval of Special Characters\\nRemoval of multiple spaces\\nRemoval of HTML tags\\nRemoval of accented characters\\nRemoval of Stop Words\\nConversion into base form of words\\nCommon Occuring words Removal\\nRare Occuring words Removal\\nWord Cloud\\nSpelling Correction\\nTokenization\\nLemmatization\\nDetecting Entities using NER\\nNoun Detection\\nLanguage Detection\\nSentence Translation\\nUsing Inbuilt Sentiment Classifier\\nAdvanced Text Processing and Feature Extraction\\nN-Gram, Bi-Gram etc\\nBag of Words (BoW)\\nTerm Frequency Calculation TF\\nInverse Document Frequency IDF\\nTFIDF Term Frequency – Inverse Document Frequency\\nWord Embedding Word2Vec using SpaCy\\nMachine Learning Models for Text Classification\\nSGDClassifier\\nLogisticRegression\\nLogisticRegressionCV\\nLinearSVC\\nRandomForestClassifier'"
            ]
          },
          "metadata": {
            "tags": []
          },
          "execution_count": 6
        }
      ]
    },
    {
      "cell_type": "code",
      "metadata": {
        "id": "uTlrXeh7m4fW"
      },
      "source": [
        "df = pd.read_csv('/content/twitter16m.csv', encoding='latin1', header=None)"
      ],
      "execution_count": 29,
      "outputs": []
    },
    {
      "cell_type": "code",
      "metadata": {
        "colab": {
          "base_uri": "https://localhost:8080/",
          "height": 204
        },
        "id": "_cEY39emm4lj",
        "outputId": "6292aec7-1e4e-438c-b072-08d0d66e245f"
      },
      "source": [
        "df.head()"
      ],
      "execution_count": 30,
      "outputs": [
        {
          "output_type": "execute_result",
          "data": {
            "text/html": [
              "<div>\n",
              "<style scoped>\n",
              "    .dataframe tbody tr th:only-of-type {\n",
              "        vertical-align: middle;\n",
              "    }\n",
              "\n",
              "    .dataframe tbody tr th {\n",
              "        vertical-align: top;\n",
              "    }\n",
              "\n",
              "    .dataframe thead th {\n",
              "        text-align: right;\n",
              "    }\n",
              "</style>\n",
              "<table border=\"1\" class=\"dataframe\">\n",
              "  <thead>\n",
              "    <tr style=\"text-align: right;\">\n",
              "      <th></th>\n",
              "      <th>0</th>\n",
              "      <th>1</th>\n",
              "      <th>2</th>\n",
              "      <th>3</th>\n",
              "      <th>4</th>\n",
              "      <th>5</th>\n",
              "    </tr>\n",
              "  </thead>\n",
              "  <tbody>\n",
              "    <tr>\n",
              "      <th>0</th>\n",
              "      <td>0</td>\n",
              "      <td>1467810369</td>\n",
              "      <td>Mon Apr 06 22:19:45 PDT 2009</td>\n",
              "      <td>NO_QUERY</td>\n",
              "      <td>_TheSpecialOne_</td>\n",
              "      <td>@switchfoot http://twitpic.com/2y1zl - Awww, t...</td>\n",
              "    </tr>\n",
              "    <tr>\n",
              "      <th>1</th>\n",
              "      <td>0</td>\n",
              "      <td>1467810672</td>\n",
              "      <td>Mon Apr 06 22:19:49 PDT 2009</td>\n",
              "      <td>NO_QUERY</td>\n",
              "      <td>scotthamilton</td>\n",
              "      <td>is upset that he can't update his Facebook by ...</td>\n",
              "    </tr>\n",
              "    <tr>\n",
              "      <th>2</th>\n",
              "      <td>0</td>\n",
              "      <td>1467810917</td>\n",
              "      <td>Mon Apr 06 22:19:53 PDT 2009</td>\n",
              "      <td>NO_QUERY</td>\n",
              "      <td>mattycus</td>\n",
              "      <td>@Kenichan I dived many times for the ball. Man...</td>\n",
              "    </tr>\n",
              "    <tr>\n",
              "      <th>3</th>\n",
              "      <td>0</td>\n",
              "      <td>1467811184</td>\n",
              "      <td>Mon Apr 06 22:19:57 PDT 2009</td>\n",
              "      <td>NO_QUERY</td>\n",
              "      <td>ElleCTF</td>\n",
              "      <td>my whole body feels itchy and like its on fire</td>\n",
              "    </tr>\n",
              "    <tr>\n",
              "      <th>4</th>\n",
              "      <td>0</td>\n",
              "      <td>1467811193</td>\n",
              "      <td>Mon Apr 06 22:19:57 PDT 2009</td>\n",
              "      <td>NO_QUERY</td>\n",
              "      <td>Karoli</td>\n",
              "      <td>@nationwideclass no, it's not behaving at all....</td>\n",
              "    </tr>\n",
              "  </tbody>\n",
              "</table>\n",
              "</div>"
            ],
            "text/plain": [
              "   0  ...                                                  5\n",
              "0  0  ...  @switchfoot http://twitpic.com/2y1zl - Awww, t...\n",
              "1  0  ...  is upset that he can't update his Facebook by ...\n",
              "2  0  ...  @Kenichan I dived many times for the ball. Man...\n",
              "3  0  ...    my whole body feels itchy and like its on fire \n",
              "4  0  ...  @nationwideclass no, it's not behaving at all....\n",
              "\n",
              "[5 rows x 6 columns]"
            ]
          },
          "metadata": {
            "tags": []
          },
          "execution_count": 30
        }
      ]
    },
    {
      "cell_type": "code",
      "metadata": {
        "colab": {
          "base_uri": "https://localhost:8080/"
        },
        "id": "HPkAFkG4m4qX",
        "outputId": "e347de4f-f458-42fd-b16a-132193c5bd79"
      },
      "source": [
        "df.shape"
      ],
      "execution_count": 31,
      "outputs": [
        {
          "output_type": "execute_result",
          "data": {
            "text/plain": [
              "(1600000, 6)"
            ]
          },
          "metadata": {
            "tags": []
          },
          "execution_count": 31
        }
      ]
    },
    {
      "cell_type": "code",
      "metadata": {
        "id": "79twsG6cm4tM"
      },
      "source": [
        "df = df[[5,0]]"
      ],
      "execution_count": 32,
      "outputs": []
    },
    {
      "cell_type": "code",
      "metadata": {
        "colab": {
          "base_uri": "https://localhost:8080/",
          "height": 204
        },
        "id": "e5MXdzlam4wh",
        "outputId": "7f3ab3fd-bee8-4645-a892-45ab608a107f"
      },
      "source": [
        "df.columns = ['tweets', 'sentiment']\n",
        "df.head()"
      ],
      "execution_count": 33,
      "outputs": [
        {
          "output_type": "execute_result",
          "data": {
            "text/html": [
              "<div>\n",
              "<style scoped>\n",
              "    .dataframe tbody tr th:only-of-type {\n",
              "        vertical-align: middle;\n",
              "    }\n",
              "\n",
              "    .dataframe tbody tr th {\n",
              "        vertical-align: top;\n",
              "    }\n",
              "\n",
              "    .dataframe thead th {\n",
              "        text-align: right;\n",
              "    }\n",
              "</style>\n",
              "<table border=\"1\" class=\"dataframe\">\n",
              "  <thead>\n",
              "    <tr style=\"text-align: right;\">\n",
              "      <th></th>\n",
              "      <th>tweets</th>\n",
              "      <th>sentiment</th>\n",
              "    </tr>\n",
              "  </thead>\n",
              "  <tbody>\n",
              "    <tr>\n",
              "      <th>0</th>\n",
              "      <td>@switchfoot http://twitpic.com/2y1zl - Awww, t...</td>\n",
              "      <td>0</td>\n",
              "    </tr>\n",
              "    <tr>\n",
              "      <th>1</th>\n",
              "      <td>is upset that he can't update his Facebook by ...</td>\n",
              "      <td>0</td>\n",
              "    </tr>\n",
              "    <tr>\n",
              "      <th>2</th>\n",
              "      <td>@Kenichan I dived many times for the ball. Man...</td>\n",
              "      <td>0</td>\n",
              "    </tr>\n",
              "    <tr>\n",
              "      <th>3</th>\n",
              "      <td>my whole body feels itchy and like its on fire</td>\n",
              "      <td>0</td>\n",
              "    </tr>\n",
              "    <tr>\n",
              "      <th>4</th>\n",
              "      <td>@nationwideclass no, it's not behaving at all....</td>\n",
              "      <td>0</td>\n",
              "    </tr>\n",
              "  </tbody>\n",
              "</table>\n",
              "</div>"
            ],
            "text/plain": [
              "                                              tweets  sentiment\n",
              "0  @switchfoot http://twitpic.com/2y1zl - Awww, t...          0\n",
              "1  is upset that he can't update his Facebook by ...          0\n",
              "2  @Kenichan I dived many times for the ball. Man...          0\n",
              "3    my whole body feels itchy and like its on fire           0\n",
              "4  @nationwideclass no, it's not behaving at all....          0"
            ]
          },
          "metadata": {
            "tags": []
          },
          "execution_count": 33
        }
      ]
    },
    {
      "cell_type": "code",
      "metadata": {
        "colab": {
          "base_uri": "https://localhost:8080/"
        },
        "id": "2AxjakxDm4zo",
        "outputId": "518f1234-c276-4c70-fc00-9e9ffb91cb09"
      },
      "source": [
        "df['sentiment'].value_counts()"
      ],
      "execution_count": 34,
      "outputs": [
        {
          "output_type": "execute_result",
          "data": {
            "text/plain": [
              "4    800000\n",
              "0    800000\n",
              "Name: sentiment, dtype: int64"
            ]
          },
          "metadata": {
            "tags": []
          },
          "execution_count": 34
        }
      ]
    },
    {
      "cell_type": "code",
      "metadata": {
        "id": "wzQbX-CwoLEP"
      },
      "source": [
        "sent_map = {0: 'negative', 4 : 'positive'}"
      ],
      "execution_count": 35,
      "outputs": []
    },
    {
      "cell_type": "markdown",
      "metadata": {
        "id": "HqRXEam7oXel"
      },
      "source": [
        "### **`Word counts`**"
      ]
    },
    {
      "cell_type": "code",
      "metadata": {
        "id": "4NWVnOREoT62"
      },
      "source": [
        "df['word_counts'] = df['tweets'].apply(lambda x: len(str(x).split()))"
      ],
      "execution_count": 36,
      "outputs": []
    },
    {
      "cell_type": "code",
      "metadata": {
        "colab": {
          "base_uri": "https://localhost:8080/",
          "height": 204
        },
        "id": "z-d1dHgLoufo",
        "outputId": "a13645ff-274e-4100-c35b-84664ca098b0"
      },
      "source": [
        "df.head()"
      ],
      "execution_count": 37,
      "outputs": [
        {
          "output_type": "execute_result",
          "data": {
            "text/html": [
              "<div>\n",
              "<style scoped>\n",
              "    .dataframe tbody tr th:only-of-type {\n",
              "        vertical-align: middle;\n",
              "    }\n",
              "\n",
              "    .dataframe tbody tr th {\n",
              "        vertical-align: top;\n",
              "    }\n",
              "\n",
              "    .dataframe thead th {\n",
              "        text-align: right;\n",
              "    }\n",
              "</style>\n",
              "<table border=\"1\" class=\"dataframe\">\n",
              "  <thead>\n",
              "    <tr style=\"text-align: right;\">\n",
              "      <th></th>\n",
              "      <th>tweets</th>\n",
              "      <th>sentiment</th>\n",
              "      <th>word_counts</th>\n",
              "    </tr>\n",
              "  </thead>\n",
              "  <tbody>\n",
              "    <tr>\n",
              "      <th>0</th>\n",
              "      <td>@switchfoot http://twitpic.com/2y1zl - Awww, t...</td>\n",
              "      <td>0</td>\n",
              "      <td>19</td>\n",
              "    </tr>\n",
              "    <tr>\n",
              "      <th>1</th>\n",
              "      <td>is upset that he can't update his Facebook by ...</td>\n",
              "      <td>0</td>\n",
              "      <td>21</td>\n",
              "    </tr>\n",
              "    <tr>\n",
              "      <th>2</th>\n",
              "      <td>@Kenichan I dived many times for the ball. Man...</td>\n",
              "      <td>0</td>\n",
              "      <td>18</td>\n",
              "    </tr>\n",
              "    <tr>\n",
              "      <th>3</th>\n",
              "      <td>my whole body feels itchy and like its on fire</td>\n",
              "      <td>0</td>\n",
              "      <td>10</td>\n",
              "    </tr>\n",
              "    <tr>\n",
              "      <th>4</th>\n",
              "      <td>@nationwideclass no, it's not behaving at all....</td>\n",
              "      <td>0</td>\n",
              "      <td>21</td>\n",
              "    </tr>\n",
              "  </tbody>\n",
              "</table>\n",
              "</div>"
            ],
            "text/plain": [
              "                                              tweets  sentiment  word_counts\n",
              "0  @switchfoot http://twitpic.com/2y1zl - Awww, t...          0           19\n",
              "1  is upset that he can't update his Facebook by ...          0           21\n",
              "2  @Kenichan I dived many times for the ball. Man...          0           18\n",
              "3    my whole body feels itchy and like its on fire           0           10\n",
              "4  @nationwideclass no, it's not behaving at all....          0           21"
            ]
          },
          "metadata": {
            "tags": []
          },
          "execution_count": 37
        }
      ]
    },
    {
      "cell_type": "markdown",
      "metadata": {
        "id": "ji07ZmapvnJn"
      },
      "source": [
        "### **Character counts**"
      ]
    },
    {
      "cell_type": "code",
      "metadata": {
        "id": "QRmLmB5Io023"
      },
      "source": [
        "df['char_counts'] = df['tweets'].apply(lambda x: len(x))"
      ],
      "execution_count": 38,
      "outputs": []
    },
    {
      "cell_type": "code",
      "metadata": {
        "colab": {
          "base_uri": "https://localhost:8080/",
          "height": 204
        },
        "id": "lH9N6YsDv1vF",
        "outputId": "57b88336-d40a-4e41-c101-05d3548ead74"
      },
      "source": [
        "df.head()"
      ],
      "execution_count": 39,
      "outputs": [
        {
          "output_type": "execute_result",
          "data": {
            "text/html": [
              "<div>\n",
              "<style scoped>\n",
              "    .dataframe tbody tr th:only-of-type {\n",
              "        vertical-align: middle;\n",
              "    }\n",
              "\n",
              "    .dataframe tbody tr th {\n",
              "        vertical-align: top;\n",
              "    }\n",
              "\n",
              "    .dataframe thead th {\n",
              "        text-align: right;\n",
              "    }\n",
              "</style>\n",
              "<table border=\"1\" class=\"dataframe\">\n",
              "  <thead>\n",
              "    <tr style=\"text-align: right;\">\n",
              "      <th></th>\n",
              "      <th>tweets</th>\n",
              "      <th>sentiment</th>\n",
              "      <th>word_counts</th>\n",
              "      <th>char_counts</th>\n",
              "    </tr>\n",
              "  </thead>\n",
              "  <tbody>\n",
              "    <tr>\n",
              "      <th>0</th>\n",
              "      <td>@switchfoot http://twitpic.com/2y1zl - Awww, t...</td>\n",
              "      <td>0</td>\n",
              "      <td>19</td>\n",
              "      <td>115</td>\n",
              "    </tr>\n",
              "    <tr>\n",
              "      <th>1</th>\n",
              "      <td>is upset that he can't update his Facebook by ...</td>\n",
              "      <td>0</td>\n",
              "      <td>21</td>\n",
              "      <td>111</td>\n",
              "    </tr>\n",
              "    <tr>\n",
              "      <th>2</th>\n",
              "      <td>@Kenichan I dived many times for the ball. Man...</td>\n",
              "      <td>0</td>\n",
              "      <td>18</td>\n",
              "      <td>89</td>\n",
              "    </tr>\n",
              "    <tr>\n",
              "      <th>3</th>\n",
              "      <td>my whole body feels itchy and like its on fire</td>\n",
              "      <td>0</td>\n",
              "      <td>10</td>\n",
              "      <td>47</td>\n",
              "    </tr>\n",
              "    <tr>\n",
              "      <th>4</th>\n",
              "      <td>@nationwideclass no, it's not behaving at all....</td>\n",
              "      <td>0</td>\n",
              "      <td>21</td>\n",
              "      <td>111</td>\n",
              "    </tr>\n",
              "  </tbody>\n",
              "</table>\n",
              "</div>"
            ],
            "text/plain": [
              "                                              tweets  ...  char_counts\n",
              "0  @switchfoot http://twitpic.com/2y1zl - Awww, t...  ...          115\n",
              "1  is upset that he can't update his Facebook by ...  ...          111\n",
              "2  @Kenichan I dived many times for the ball. Man...  ...           89\n",
              "3    my whole body feels itchy and like its on fire   ...           47\n",
              "4  @nationwideclass no, it's not behaving at all....  ...          111\n",
              "\n",
              "[5 rows x 4 columns]"
            ]
          },
          "metadata": {
            "tags": []
          },
          "execution_count": 39
        }
      ]
    },
    {
      "cell_type": "markdown",
      "metadata": {
        "id": "lUCHtPA7v9K-"
      },
      "source": [
        "### **Average characters per word**"
      ]
    },
    {
      "cell_type": "code",
      "metadata": {
        "id": "wuoe-qMjwJNx"
      },
      "source": [
        "def get_avg_word_len(x):\n",
        "    words = x.split()\n",
        "    word_len = 0\n",
        "    for word in words:\n",
        "        word_len = word_len + len(word)\n",
        "    return word_len/len(words)"
      ],
      "execution_count": 40,
      "outputs": []
    },
    {
      "cell_type": "code",
      "metadata": {
        "id": "EfPgi7ybv3Sk"
      },
      "source": [
        "df['avg_word_len'] = df['tweets'].apply(lambda x: get_avg_word_len(x))"
      ],
      "execution_count": 41,
      "outputs": []
    },
    {
      "cell_type": "code",
      "metadata": {
        "colab": {
          "base_uri": "https://localhost:8080/",
          "height": 204
        },
        "id": "E8p0f8MywpyH",
        "outputId": "81fbe8d7-949b-46df-b603-40293c792028"
      },
      "source": [
        "df.head()"
      ],
      "execution_count": 42,
      "outputs": [
        {
          "output_type": "execute_result",
          "data": {
            "text/html": [
              "<div>\n",
              "<style scoped>\n",
              "    .dataframe tbody tr th:only-of-type {\n",
              "        vertical-align: middle;\n",
              "    }\n",
              "\n",
              "    .dataframe tbody tr th {\n",
              "        vertical-align: top;\n",
              "    }\n",
              "\n",
              "    .dataframe thead th {\n",
              "        text-align: right;\n",
              "    }\n",
              "</style>\n",
              "<table border=\"1\" class=\"dataframe\">\n",
              "  <thead>\n",
              "    <tr style=\"text-align: right;\">\n",
              "      <th></th>\n",
              "      <th>tweets</th>\n",
              "      <th>sentiment</th>\n",
              "      <th>word_counts</th>\n",
              "      <th>char_counts</th>\n",
              "      <th>avg_word_len</th>\n",
              "    </tr>\n",
              "  </thead>\n",
              "  <tbody>\n",
              "    <tr>\n",
              "      <th>0</th>\n",
              "      <td>@switchfoot http://twitpic.com/2y1zl - Awww, t...</td>\n",
              "      <td>0</td>\n",
              "      <td>19</td>\n",
              "      <td>115</td>\n",
              "      <td>5.052632</td>\n",
              "    </tr>\n",
              "    <tr>\n",
              "      <th>1</th>\n",
              "      <td>is upset that he can't update his Facebook by ...</td>\n",
              "      <td>0</td>\n",
              "      <td>21</td>\n",
              "      <td>111</td>\n",
              "      <td>4.285714</td>\n",
              "    </tr>\n",
              "    <tr>\n",
              "      <th>2</th>\n",
              "      <td>@Kenichan I dived many times for the ball. Man...</td>\n",
              "      <td>0</td>\n",
              "      <td>18</td>\n",
              "      <td>89</td>\n",
              "      <td>3.944444</td>\n",
              "    </tr>\n",
              "    <tr>\n",
              "      <th>3</th>\n",
              "      <td>my whole body feels itchy and like its on fire</td>\n",
              "      <td>0</td>\n",
              "      <td>10</td>\n",
              "      <td>47</td>\n",
              "      <td>3.700000</td>\n",
              "    </tr>\n",
              "    <tr>\n",
              "      <th>4</th>\n",
              "      <td>@nationwideclass no, it's not behaving at all....</td>\n",
              "      <td>0</td>\n",
              "      <td>21</td>\n",
              "      <td>111</td>\n",
              "      <td>4.285714</td>\n",
              "    </tr>\n",
              "  </tbody>\n",
              "</table>\n",
              "</div>"
            ],
            "text/plain": [
              "                                              tweets  ...  avg_word_len\n",
              "0  @switchfoot http://twitpic.com/2y1zl - Awww, t...  ...      5.052632\n",
              "1  is upset that he can't update his Facebook by ...  ...      4.285714\n",
              "2  @Kenichan I dived many times for the ball. Man...  ...      3.944444\n",
              "3    my whole body feels itchy and like its on fire   ...      3.700000\n",
              "4  @nationwideclass no, it's not behaving at all....  ...      4.285714\n",
              "\n",
              "[5 rows x 5 columns]"
            ]
          },
          "metadata": {
            "tags": []
          },
          "execution_count": 42
        }
      ]
    },
    {
      "cell_type": "markdown",
      "metadata": {
        "id": "SC7diXgK1H6j"
      },
      "source": [
        "### **Count of stopwords**"
      ]
    },
    {
      "cell_type": "code",
      "metadata": {
        "colab": {
          "base_uri": "https://localhost:8080/"
        },
        "id": "A7J11Usewqgu",
        "outputId": "9f9d2b79-f517-4dc3-a622-80dad53d9883"
      },
      "source": [
        "print(STOP_WORDS)"
      ],
      "execution_count": 44,
      "outputs": [
        {
          "output_type": "stream",
          "text": [
            "{'sometime', 'made', 'eight', 'hereby', 'ca', 'forty', 'top', 'do', 'becoming', 'n’t', 'say', 'thru', 'nevertheless', 'doing', 'anyway', \"n't\", 'name', 'at', 'now', 'nothing', 'me', 'is', 'almost', 'across', 'others', 'fifty', 'own', 'along', 'amongst', 'even', 'i', 'quite', 'after', 'so', 'somewhere', 'front', 'their', \"'ll\", 'against', 'should', 'when', 'these', 'since', 'using', 'besides', 'can', 'only', 'last', 'get', 'over', \"'s\", 'most', 'where', 'as', 'cannot', 'nine', 'am', 'together', 'make', 'whether', 'among', 'with', 'indeed', 'any', 'toward', 'us', 'less', 'around', 'on', 'yet', 'few', 'then', 'onto', 'did', 'other', 'hers', 'been', 'former', 'neither', 'thence', 'also', 'move', 'has', 'must', 'none', 'seem', 'serious', 'twelve', 'off', 'seems', 'a', 'both', 'himself', '‘d', 'whoever', 'four', 'whenever', 'anything', 'between', 'was', 'up', 'would', 'those', 'yourselves', 'behind', 'sometimes', 'again', 'fifteen', 'show', 'during', 'whom', 'mostly', 'to', 'go', 'never', 'or', 'thus', 'ourselves', 'seemed', 'seeming', 'three', 'whose', 'see', 'this', 'elsewhere', 'via', 'themselves', 'his', 'well', 'wherein', 'still', 'done', 'therein', 'not', 'anywhere', 'just', 'hence', 'noone', 'yours', 'who', 'first', 'does', 'be', 'it', 'could', 'all', 'whole', 'one', 'full', 'my', 'really', 'we', 'always', 'beforehand', 'per', 'by', 'more', 'herein', 'but', 'our', 'though', 'therefore', 'back', 'being', 'although', 'are', 'because', 'each', 'what', 'latter', '’d', 'there', 'another', 'someone', 'become', 'he', \"'re\", 'under', 'your', 'latterly', 'nor', 'before', 'eleven', 'some', '‘m', '‘ll', 'from', 'everyone', 'have', 'otherwise', 'due', 'several', 'every', 'whereas', 'which', 'everywhere', 'meanwhile', 'everything', '’ll', 'formerly', '’s', 'part', '‘ve', 'perhaps', 'and', 'them', 'its', 'many', 'put', 'him', 'itself', 'ours', 'may', 'how', 'why', 'further', 'she', 'five', 'an', 'might', 'already', 'much', 'anyone', 'six', 'through', 'hereupon', 'same', 'namely', 'whence', 'take', 'than', 'within', 'wherever', 'thereby', 'about', 'you', 'rather', \"'ve\", 'afterwards', 'alone', 'becomes', 'various', 'here', 'twenty', 'until', 'her', 'sixty', 'will', 'amount', '‘re', \"'d\", 'yourself', 'something', 're', 'that', 'empty', 'had', 'except', 'down', 'side', 'n‘t', 'whereafter', 'hereafter', 'thereafter', 'third', 'however', 'bottom', 'else', 'very', \"'m\", 'anyhow', 'give', 'two', 'if', 'whereby', 'became', 'please', 'beside', 'of', 'towards', 'above', 'were', 'nowhere', 'call', 'hundred', 'upon', 'mine', 'no', 'keep', '’ve', '‘s', 'while', 'moreover', 'out', 'whither', 'ever', 'somehow', 'ten', 'below', 'into', 'too', '’re', 'without', 'least', 'throughout', 'regarding', 'for', 'nobody', '’m', 'whereupon', 'the', 'myself', 'whatever', 'herself', 'often', 'enough', 'unless', 'in', 'used', 'beyond', 'they', 'such', 'either', 'next', 'thereupon', 'once'}\n"
          ],
          "name": "stdout"
        }
      ]
    },
    {
      "cell_type": "code",
      "metadata": {
        "id": "okRftAtR1Rhu"
      },
      "source": [
        "df['stop_words_len'] = df['tweets'].apply(lambda x : len([t for t in x.split() if t in STOP_WORDS]))"
      ],
      "execution_count": 45,
      "outputs": []
    },
    {
      "cell_type": "code",
      "metadata": {
        "colab": {
          "base_uri": "https://localhost:8080/",
          "height": 204
        },
        "id": "H-u882hd1_mw",
        "outputId": "a5e6aa42-b936-4888-91e3-7261e9adc2aa"
      },
      "source": [
        "df.head()"
      ],
      "execution_count": 46,
      "outputs": [
        {
          "output_type": "execute_result",
          "data": {
            "text/html": [
              "<div>\n",
              "<style scoped>\n",
              "    .dataframe tbody tr th:only-of-type {\n",
              "        vertical-align: middle;\n",
              "    }\n",
              "\n",
              "    .dataframe tbody tr th {\n",
              "        vertical-align: top;\n",
              "    }\n",
              "\n",
              "    .dataframe thead th {\n",
              "        text-align: right;\n",
              "    }\n",
              "</style>\n",
              "<table border=\"1\" class=\"dataframe\">\n",
              "  <thead>\n",
              "    <tr style=\"text-align: right;\">\n",
              "      <th></th>\n",
              "      <th>tweets</th>\n",
              "      <th>sentiment</th>\n",
              "      <th>word_counts</th>\n",
              "      <th>char_counts</th>\n",
              "      <th>avg_word_len</th>\n",
              "      <th>stop_words_len</th>\n",
              "    </tr>\n",
              "  </thead>\n",
              "  <tbody>\n",
              "    <tr>\n",
              "      <th>0</th>\n",
              "      <td>@switchfoot http://twitpic.com/2y1zl - Awww, t...</td>\n",
              "      <td>0</td>\n",
              "      <td>19</td>\n",
              "      <td>115</td>\n",
              "      <td>5.052632</td>\n",
              "      <td>4</td>\n",
              "    </tr>\n",
              "    <tr>\n",
              "      <th>1</th>\n",
              "      <td>is upset that he can't update his Facebook by ...</td>\n",
              "      <td>0</td>\n",
              "      <td>21</td>\n",
              "      <td>111</td>\n",
              "      <td>4.285714</td>\n",
              "      <td>9</td>\n",
              "    </tr>\n",
              "    <tr>\n",
              "      <th>2</th>\n",
              "      <td>@Kenichan I dived many times for the ball. Man...</td>\n",
              "      <td>0</td>\n",
              "      <td>18</td>\n",
              "      <td>89</td>\n",
              "      <td>3.944444</td>\n",
              "      <td>7</td>\n",
              "    </tr>\n",
              "    <tr>\n",
              "      <th>3</th>\n",
              "      <td>my whole body feels itchy and like its on fire</td>\n",
              "      <td>0</td>\n",
              "      <td>10</td>\n",
              "      <td>47</td>\n",
              "      <td>3.700000</td>\n",
              "      <td>5</td>\n",
              "    </tr>\n",
              "    <tr>\n",
              "      <th>4</th>\n",
              "      <td>@nationwideclass no, it's not behaving at all....</td>\n",
              "      <td>0</td>\n",
              "      <td>21</td>\n",
              "      <td>111</td>\n",
              "      <td>4.285714</td>\n",
              "      <td>10</td>\n",
              "    </tr>\n",
              "  </tbody>\n",
              "</table>\n",
              "</div>"
            ],
            "text/plain": [
              "                                              tweets  ...  stop_words_len\n",
              "0  @switchfoot http://twitpic.com/2y1zl - Awww, t...  ...               4\n",
              "1  is upset that he can't update his Facebook by ...  ...               9\n",
              "2  @Kenichan I dived many times for the ball. Man...  ...               7\n",
              "3    my whole body feels itchy and like its on fire   ...               5\n",
              "4  @nationwideclass no, it's not behaving at all....  ...              10\n",
              "\n",
              "[5 rows x 6 columns]"
            ]
          },
          "metadata": {
            "tags": []
          },
          "execution_count": 46
        }
      ]
    },
    {
      "cell_type": "markdown",
      "metadata": {
        "id": "00wBXVfB2N2b"
      },
      "source": [
        "### **Count hashtags and mentions**"
      ]
    },
    {
      "cell_type": "code",
      "metadata": {
        "id": "p7-68Vt52ARA"
      },
      "source": [
        "df['hashtag_counts'] = df['tweets'].apply(lambda x : len([t for t in x.split() if t.startswith('#')]))\n",
        "df['mentions_counts'] = df['tweets'].apply(lambda x : len([t for t in x.split() if t.startswith('@')]))"
      ],
      "execution_count": 47,
      "outputs": []
    },
    {
      "cell_type": "code",
      "metadata": {
        "colab": {
          "base_uri": "https://localhost:8080/",
          "height": 204
        },
        "id": "-G3mSY8S2wF5",
        "outputId": "0807e2bd-c99e-48ba-a636-aa667658df47"
      },
      "source": [
        "df.head()"
      ],
      "execution_count": 48,
      "outputs": [
        {
          "output_type": "execute_result",
          "data": {
            "text/html": [
              "<div>\n",
              "<style scoped>\n",
              "    .dataframe tbody tr th:only-of-type {\n",
              "        vertical-align: middle;\n",
              "    }\n",
              "\n",
              "    .dataframe tbody tr th {\n",
              "        vertical-align: top;\n",
              "    }\n",
              "\n",
              "    .dataframe thead th {\n",
              "        text-align: right;\n",
              "    }\n",
              "</style>\n",
              "<table border=\"1\" class=\"dataframe\">\n",
              "  <thead>\n",
              "    <tr style=\"text-align: right;\">\n",
              "      <th></th>\n",
              "      <th>tweets</th>\n",
              "      <th>sentiment</th>\n",
              "      <th>word_counts</th>\n",
              "      <th>char_counts</th>\n",
              "      <th>avg_word_len</th>\n",
              "      <th>stop_words_len</th>\n",
              "      <th>hashtag_counts</th>\n",
              "      <th>mentions_counts</th>\n",
              "    </tr>\n",
              "  </thead>\n",
              "  <tbody>\n",
              "    <tr>\n",
              "      <th>0</th>\n",
              "      <td>@switchfoot http://twitpic.com/2y1zl - Awww, t...</td>\n",
              "      <td>0</td>\n",
              "      <td>19</td>\n",
              "      <td>115</td>\n",
              "      <td>5.052632</td>\n",
              "      <td>4</td>\n",
              "      <td>0</td>\n",
              "      <td>1</td>\n",
              "    </tr>\n",
              "    <tr>\n",
              "      <th>1</th>\n",
              "      <td>is upset that he can't update his Facebook by ...</td>\n",
              "      <td>0</td>\n",
              "      <td>21</td>\n",
              "      <td>111</td>\n",
              "      <td>4.285714</td>\n",
              "      <td>9</td>\n",
              "      <td>0</td>\n",
              "      <td>0</td>\n",
              "    </tr>\n",
              "    <tr>\n",
              "      <th>2</th>\n",
              "      <td>@Kenichan I dived many times for the ball. Man...</td>\n",
              "      <td>0</td>\n",
              "      <td>18</td>\n",
              "      <td>89</td>\n",
              "      <td>3.944444</td>\n",
              "      <td>7</td>\n",
              "      <td>0</td>\n",
              "      <td>1</td>\n",
              "    </tr>\n",
              "    <tr>\n",
              "      <th>3</th>\n",
              "      <td>my whole body feels itchy and like its on fire</td>\n",
              "      <td>0</td>\n",
              "      <td>10</td>\n",
              "      <td>47</td>\n",
              "      <td>3.700000</td>\n",
              "      <td>5</td>\n",
              "      <td>0</td>\n",
              "      <td>0</td>\n",
              "    </tr>\n",
              "    <tr>\n",
              "      <th>4</th>\n",
              "      <td>@nationwideclass no, it's not behaving at all....</td>\n",
              "      <td>0</td>\n",
              "      <td>21</td>\n",
              "      <td>111</td>\n",
              "      <td>4.285714</td>\n",
              "      <td>10</td>\n",
              "      <td>0</td>\n",
              "      <td>1</td>\n",
              "    </tr>\n",
              "  </tbody>\n",
              "</table>\n",
              "</div>"
            ],
            "text/plain": [
              "                                              tweets  ...  mentions_counts\n",
              "0  @switchfoot http://twitpic.com/2y1zl - Awww, t...  ...                1\n",
              "1  is upset that he can't update his Facebook by ...  ...                0\n",
              "2  @Kenichan I dived many times for the ball. Man...  ...                1\n",
              "3    my whole body feels itchy and like its on fire   ...                0\n",
              "4  @nationwideclass no, it's not behaving at all....  ...                1\n",
              "\n",
              "[5 rows x 8 columns]"
            ]
          },
          "metadata": {
            "tags": []
          },
          "execution_count": 48
        }
      ]
    },
    {
      "cell_type": "markdown",
      "metadata": {
        "id": "cjb2InlS3q-r"
      },
      "source": [
        "### **Count numeric digits present in tweet**"
      ]
    },
    {
      "cell_type": "code",
      "metadata": {
        "id": "YRYfWqO03oxw"
      },
      "source": [
        "df['numeric_count'] = df['tweets'].apply(lambda x: len([t for t in x.split() if t.isdigit()]))"
      ],
      "execution_count": 50,
      "outputs": []
    },
    {
      "cell_type": "code",
      "metadata": {
        "colab": {
          "base_uri": "https://localhost:8080/",
          "height": 204
        },
        "id": "xqGNaON63o29",
        "outputId": "dabfb667-9c2b-4920-ee47-cbf858509e0c"
      },
      "source": [
        "df.head()"
      ],
      "execution_count": 51,
      "outputs": [
        {
          "output_type": "execute_result",
          "data": {
            "text/html": [
              "<div>\n",
              "<style scoped>\n",
              "    .dataframe tbody tr th:only-of-type {\n",
              "        vertical-align: middle;\n",
              "    }\n",
              "\n",
              "    .dataframe tbody tr th {\n",
              "        vertical-align: top;\n",
              "    }\n",
              "\n",
              "    .dataframe thead th {\n",
              "        text-align: right;\n",
              "    }\n",
              "</style>\n",
              "<table border=\"1\" class=\"dataframe\">\n",
              "  <thead>\n",
              "    <tr style=\"text-align: right;\">\n",
              "      <th></th>\n",
              "      <th>tweets</th>\n",
              "      <th>sentiment</th>\n",
              "      <th>word_counts</th>\n",
              "      <th>char_counts</th>\n",
              "      <th>avg_word_len</th>\n",
              "      <th>stop_words_len</th>\n",
              "      <th>hashtag_counts</th>\n",
              "      <th>mentions_counts</th>\n",
              "      <th>numeric_count</th>\n",
              "    </tr>\n",
              "  </thead>\n",
              "  <tbody>\n",
              "    <tr>\n",
              "      <th>0</th>\n",
              "      <td>@switchfoot http://twitpic.com/2y1zl - Awww, t...</td>\n",
              "      <td>0</td>\n",
              "      <td>19</td>\n",
              "      <td>115</td>\n",
              "      <td>5.052632</td>\n",
              "      <td>4</td>\n",
              "      <td>0</td>\n",
              "      <td>1</td>\n",
              "      <td>0</td>\n",
              "    </tr>\n",
              "    <tr>\n",
              "      <th>1</th>\n",
              "      <td>is upset that he can't update his Facebook by ...</td>\n",
              "      <td>0</td>\n",
              "      <td>21</td>\n",
              "      <td>111</td>\n",
              "      <td>4.285714</td>\n",
              "      <td>9</td>\n",
              "      <td>0</td>\n",
              "      <td>0</td>\n",
              "      <td>0</td>\n",
              "    </tr>\n",
              "    <tr>\n",
              "      <th>2</th>\n",
              "      <td>@Kenichan I dived many times for the ball. Man...</td>\n",
              "      <td>0</td>\n",
              "      <td>18</td>\n",
              "      <td>89</td>\n",
              "      <td>3.944444</td>\n",
              "      <td>7</td>\n",
              "      <td>0</td>\n",
              "      <td>1</td>\n",
              "      <td>0</td>\n",
              "    </tr>\n",
              "    <tr>\n",
              "      <th>3</th>\n",
              "      <td>my whole body feels itchy and like its on fire</td>\n",
              "      <td>0</td>\n",
              "      <td>10</td>\n",
              "      <td>47</td>\n",
              "      <td>3.700000</td>\n",
              "      <td>5</td>\n",
              "      <td>0</td>\n",
              "      <td>0</td>\n",
              "      <td>0</td>\n",
              "    </tr>\n",
              "    <tr>\n",
              "      <th>4</th>\n",
              "      <td>@nationwideclass no, it's not behaving at all....</td>\n",
              "      <td>0</td>\n",
              "      <td>21</td>\n",
              "      <td>111</td>\n",
              "      <td>4.285714</td>\n",
              "      <td>10</td>\n",
              "      <td>0</td>\n",
              "      <td>1</td>\n",
              "      <td>0</td>\n",
              "    </tr>\n",
              "  </tbody>\n",
              "</table>\n",
              "</div>"
            ],
            "text/plain": [
              "                                              tweets  ...  numeric_count\n",
              "0  @switchfoot http://twitpic.com/2y1zl - Awww, t...  ...              0\n",
              "1  is upset that he can't update his Facebook by ...  ...              0\n",
              "2  @Kenichan I dived many times for the ball. Man...  ...              0\n",
              "3    my whole body feels itchy and like its on fire   ...              0\n",
              "4  @nationwideclass no, it's not behaving at all....  ...              0\n",
              "\n",
              "[5 rows x 9 columns]"
            ]
          },
          "metadata": {
            "tags": []
          },
          "execution_count": 51
        }
      ]
    },
    {
      "cell_type": "markdown",
      "metadata": {
        "id": "9HPizgGF4Lrw"
      },
      "source": [
        "### **Uppercase words count**"
      ]
    },
    {
      "cell_type": "code",
      "metadata": {
        "id": "g3nx9AF13o-A"
      },
      "source": [
        "df['upper_count'] = df['tweets'].apply(lambda x: len([t for t in x.split() if t.isupper() and len(x) > 3])) # >3 is to ensure that upper case one digits like I does not appear"
      ],
      "execution_count": 56,
      "outputs": []
    },
    {
      "cell_type": "code",
      "metadata": {
        "colab": {
          "base_uri": "https://localhost:8080/",
          "height": 204
        },
        "id": "VQU20Do_3pF6",
        "outputId": "a6c87918-7a67-4fac-8248-b7660f747c83"
      },
      "source": [
        "df.head()"
      ],
      "execution_count": 57,
      "outputs": [
        {
          "output_type": "execute_result",
          "data": {
            "text/html": [
              "<div>\n",
              "<style scoped>\n",
              "    .dataframe tbody tr th:only-of-type {\n",
              "        vertical-align: middle;\n",
              "    }\n",
              "\n",
              "    .dataframe tbody tr th {\n",
              "        vertical-align: top;\n",
              "    }\n",
              "\n",
              "    .dataframe thead th {\n",
              "        text-align: right;\n",
              "    }\n",
              "</style>\n",
              "<table border=\"1\" class=\"dataframe\">\n",
              "  <thead>\n",
              "    <tr style=\"text-align: right;\">\n",
              "      <th></th>\n",
              "      <th>tweets</th>\n",
              "      <th>sentiment</th>\n",
              "      <th>word_counts</th>\n",
              "      <th>char_counts</th>\n",
              "      <th>avg_word_len</th>\n",
              "      <th>stop_words_len</th>\n",
              "      <th>hashtag_counts</th>\n",
              "      <th>mentions_counts</th>\n",
              "      <th>numeric_count</th>\n",
              "      <th>upper_count</th>\n",
              "    </tr>\n",
              "  </thead>\n",
              "  <tbody>\n",
              "    <tr>\n",
              "      <th>0</th>\n",
              "      <td>@switchfoot http://twitpic.com/2y1zl - Awww, t...</td>\n",
              "      <td>0</td>\n",
              "      <td>19</td>\n",
              "      <td>115</td>\n",
              "      <td>5.052632</td>\n",
              "      <td>4</td>\n",
              "      <td>0</td>\n",
              "      <td>1</td>\n",
              "      <td>0</td>\n",
              "      <td>1</td>\n",
              "    </tr>\n",
              "    <tr>\n",
              "      <th>1</th>\n",
              "      <td>is upset that he can't update his Facebook by ...</td>\n",
              "      <td>0</td>\n",
              "      <td>21</td>\n",
              "      <td>111</td>\n",
              "      <td>4.285714</td>\n",
              "      <td>9</td>\n",
              "      <td>0</td>\n",
              "      <td>0</td>\n",
              "      <td>0</td>\n",
              "      <td>0</td>\n",
              "    </tr>\n",
              "    <tr>\n",
              "      <th>2</th>\n",
              "      <td>@Kenichan I dived many times for the ball. Man...</td>\n",
              "      <td>0</td>\n",
              "      <td>18</td>\n",
              "      <td>89</td>\n",
              "      <td>3.944444</td>\n",
              "      <td>7</td>\n",
              "      <td>0</td>\n",
              "      <td>1</td>\n",
              "      <td>0</td>\n",
              "      <td>1</td>\n",
              "    </tr>\n",
              "    <tr>\n",
              "      <th>3</th>\n",
              "      <td>my whole body feels itchy and like its on fire</td>\n",
              "      <td>0</td>\n",
              "      <td>10</td>\n",
              "      <td>47</td>\n",
              "      <td>3.700000</td>\n",
              "      <td>5</td>\n",
              "      <td>0</td>\n",
              "      <td>0</td>\n",
              "      <td>0</td>\n",
              "      <td>0</td>\n",
              "    </tr>\n",
              "    <tr>\n",
              "      <th>4</th>\n",
              "      <td>@nationwideclass no, it's not behaving at all....</td>\n",
              "      <td>0</td>\n",
              "      <td>21</td>\n",
              "      <td>111</td>\n",
              "      <td>4.285714</td>\n",
              "      <td>10</td>\n",
              "      <td>0</td>\n",
              "      <td>1</td>\n",
              "      <td>0</td>\n",
              "      <td>1</td>\n",
              "    </tr>\n",
              "  </tbody>\n",
              "</table>\n",
              "</div>"
            ],
            "text/plain": [
              "                                              tweets  ...  upper_count\n",
              "0  @switchfoot http://twitpic.com/2y1zl - Awww, t...  ...            1\n",
              "1  is upset that he can't update his Facebook by ...  ...            0\n",
              "2  @Kenichan I dived many times for the ball. Man...  ...            1\n",
              "3    my whole body feels itchy and like its on fire   ...            0\n",
              "4  @nationwideclass no, it's not behaving at all....  ...            1\n",
              "\n",
              "[5 rows x 10 columns]"
            ]
          },
          "metadata": {
            "tags": []
          },
          "execution_count": 57
        }
      ]
    },
    {
      "cell_type": "code",
      "metadata": {
        "colab": {
          "base_uri": "https://localhost:8080/",
          "height": 35
        },
        "id": "wGl4_tRB3pL2",
        "outputId": "64eff3bb-6795-4a1b-9577-79286b276449"
      },
      "source": [
        "df.loc[96]['tweets']"
      ],
      "execution_count": 58,
      "outputs": [
        {
          "output_type": "execute_result",
          "data": {
            "application/vnd.google.colaboratory.intrinsic+json": {
              "type": "string"
            },
            "text/plain": [
              "\"so rylee,grace...wana go steve's party or not?? SADLY SINCE ITS EASTER I WNT B ABLE 2 DO MUCH  BUT OHH WELL.....\""
            ]
          },
          "metadata": {
            "tags": []
          },
          "execution_count": 58
        }
      ]
    },
    {
      "cell_type": "markdown",
      "metadata": {
        "id": "0UTofiI_8_kg"
      },
      "source": [
        "## **Preprocessing and cleaning**"
      ]
    },
    {
      "cell_type": "markdown",
      "metadata": {
        "id": "e_EVxNOL9Idt"
      },
      "source": [
        ""
      ]
    },
    {
      "cell_type": "markdown",
      "metadata": {
        "id": "dxScfBNi9Ikj"
      },
      "source": [
        "### **Lower case conversion**"
      ]
    },
    {
      "cell_type": "code",
      "metadata": {
        "id": "ro_Pjrp05GQo"
      },
      "source": [
        "df['tweets'] = df['tweets'].apply(lambda x: x.lower())"
      ],
      "execution_count": 59,
      "outputs": []
    },
    {
      "cell_type": "code",
      "metadata": {
        "colab": {
          "base_uri": "https://localhost:8080/",
          "height": 204
        },
        "id": "__Mwvk725GWN",
        "outputId": "48f08ffb-8413-419b-8f7a-d97610c508f5"
      },
      "source": [
        "df.head()"
      ],
      "execution_count": 60,
      "outputs": [
        {
          "output_type": "execute_result",
          "data": {
            "text/html": [
              "<div>\n",
              "<style scoped>\n",
              "    .dataframe tbody tr th:only-of-type {\n",
              "        vertical-align: middle;\n",
              "    }\n",
              "\n",
              "    .dataframe tbody tr th {\n",
              "        vertical-align: top;\n",
              "    }\n",
              "\n",
              "    .dataframe thead th {\n",
              "        text-align: right;\n",
              "    }\n",
              "</style>\n",
              "<table border=\"1\" class=\"dataframe\">\n",
              "  <thead>\n",
              "    <tr style=\"text-align: right;\">\n",
              "      <th></th>\n",
              "      <th>tweets</th>\n",
              "      <th>sentiment</th>\n",
              "      <th>word_counts</th>\n",
              "      <th>char_counts</th>\n",
              "      <th>avg_word_len</th>\n",
              "      <th>stop_words_len</th>\n",
              "      <th>hashtag_counts</th>\n",
              "      <th>mentions_counts</th>\n",
              "      <th>numeric_count</th>\n",
              "      <th>upper_count</th>\n",
              "    </tr>\n",
              "  </thead>\n",
              "  <tbody>\n",
              "    <tr>\n",
              "      <th>0</th>\n",
              "      <td>@switchfoot http://twitpic.com/2y1zl - awww, t...</td>\n",
              "      <td>0</td>\n",
              "      <td>19</td>\n",
              "      <td>115</td>\n",
              "      <td>5.052632</td>\n",
              "      <td>4</td>\n",
              "      <td>0</td>\n",
              "      <td>1</td>\n",
              "      <td>0</td>\n",
              "      <td>1</td>\n",
              "    </tr>\n",
              "    <tr>\n",
              "      <th>1</th>\n",
              "      <td>is upset that he can't update his facebook by ...</td>\n",
              "      <td>0</td>\n",
              "      <td>21</td>\n",
              "      <td>111</td>\n",
              "      <td>4.285714</td>\n",
              "      <td>9</td>\n",
              "      <td>0</td>\n",
              "      <td>0</td>\n",
              "      <td>0</td>\n",
              "      <td>0</td>\n",
              "    </tr>\n",
              "    <tr>\n",
              "      <th>2</th>\n",
              "      <td>@kenichan i dived many times for the ball. man...</td>\n",
              "      <td>0</td>\n",
              "      <td>18</td>\n",
              "      <td>89</td>\n",
              "      <td>3.944444</td>\n",
              "      <td>7</td>\n",
              "      <td>0</td>\n",
              "      <td>1</td>\n",
              "      <td>0</td>\n",
              "      <td>1</td>\n",
              "    </tr>\n",
              "    <tr>\n",
              "      <th>3</th>\n",
              "      <td>my whole body feels itchy and like its on fire</td>\n",
              "      <td>0</td>\n",
              "      <td>10</td>\n",
              "      <td>47</td>\n",
              "      <td>3.700000</td>\n",
              "      <td>5</td>\n",
              "      <td>0</td>\n",
              "      <td>0</td>\n",
              "      <td>0</td>\n",
              "      <td>0</td>\n",
              "    </tr>\n",
              "    <tr>\n",
              "      <th>4</th>\n",
              "      <td>@nationwideclass no, it's not behaving at all....</td>\n",
              "      <td>0</td>\n",
              "      <td>21</td>\n",
              "      <td>111</td>\n",
              "      <td>4.285714</td>\n",
              "      <td>10</td>\n",
              "      <td>0</td>\n",
              "      <td>1</td>\n",
              "      <td>0</td>\n",
              "      <td>1</td>\n",
              "    </tr>\n",
              "  </tbody>\n",
              "</table>\n",
              "</div>"
            ],
            "text/plain": [
              "                                              tweets  ...  upper_count\n",
              "0  @switchfoot http://twitpic.com/2y1zl - awww, t...  ...            1\n",
              "1  is upset that he can't update his facebook by ...  ...            0\n",
              "2  @kenichan i dived many times for the ball. man...  ...            1\n",
              "3    my whole body feels itchy and like its on fire   ...            0\n",
              "4  @nationwideclass no, it's not behaving at all....  ...            1\n",
              "\n",
              "[5 rows x 10 columns]"
            ]
          },
          "metadata": {
            "tags": []
          },
          "execution_count": 60
        }
      ]
    },
    {
      "cell_type": "markdown",
      "metadata": {
        "id": "RAuqaGZE9UXE"
      },
      "source": [
        "### **Contraction to expansion**"
      ]
    },
    {
      "cell_type": "code",
      "metadata": {
        "id": "2HLjAqfK5Gb0"
      },
      "source": [
        "# conversion for example from don't to do not know. The below list is obtained from wikipedia"
      ],
      "execution_count": 61,
      "outputs": []
    },
    {
      "cell_type": "code",
      "metadata": {
        "id": "wmPttY6f5Gfb"
      },
      "source": [
        "contractions = { \n",
        "\"ain't\": \"am not\",\n",
        "\"aren't\": \"are not\",\n",
        "\"can't\": \"cannot\",\n",
        "\"can't've\": \"cannot have\",\n",
        "\"'cause\": \"because\",\n",
        "\"could've\": \"could have\",\n",
        "\"couldn't\": \"could not\",\n",
        "\"couldn't've\": \"could not have\",\n",
        "\"didn't\": \"did not\",\n",
        "\"doesn't\": \"does not\",\n",
        "\"don't\": \"do not\",\n",
        "\"hadn't\": \"had not\",\n",
        "\"hadn't've\": \"had not have\",\n",
        "\"hasn't\": \"has not\",\n",
        "\"haven't\": \"have not\",\n",
        "\"he'd\": \"he would\",\n",
        "\"he'd've\": \"he would have\",\n",
        "\"he'll\": \"he will\",\n",
        "\"he'll've\": \"he will have\",\n",
        "\"he's\": \"he is\",\n",
        "\"how'd\": \"how did\",\n",
        "\"how'd'y\": \"how do you\",\n",
        "\"how'll\": \"how will\",\n",
        "\"how's\": \"how does\",\n",
        "\"i'd\": \"i would\",\n",
        "\"i'd've\": \"i would have\",\n",
        "\"i'll\": \"i will\",\n",
        "\"i'll've\": \"i will have\",\n",
        "\"i'm\": \"i am\",\n",
        "\"i've\": \"i have\",\n",
        "\"isn't\": \"is not\",\n",
        "\"it'd\": \"it would\",\n",
        "\"it'd've\": \"it would have\",\n",
        "\"it'll\": \"it will\",\n",
        "\"it'll've\": \"it will have\",\n",
        "\"it's\": \"it is\",\n",
        "\"let's\": \"let us\",\n",
        "\"ma'am\": \"madam\",\n",
        "\"mayn't\": \"may not\",\n",
        "\"might've\": \"might have\",\n",
        "\"mightn't\": \"might not\",\n",
        "\"mightn't've\": \"might not have\",\n",
        "\"must've\": \"must have\",\n",
        "\"mustn't\": \"must not\",\n",
        "\"mustn't've\": \"must not have\",\n",
        "\"needn't\": \"need not\",\n",
        "\"needn't've\": \"need not have\",\n",
        "\"o'clock\": \"of the clock\",\n",
        "\"oughtn't\": \"ought not\",\n",
        "\"oughtn't've\": \"ought not have\",\n",
        "\"shan't\": \"shall not\",\n",
        "\"sha'n't\": \"shall not\",\n",
        "\"shan't've\": \"shall not have\",\n",
        "\"she'd\": \"she would\",\n",
        "\"she'd've\": \"she would have\",\n",
        "\"she'll\": \"she will\",\n",
        "\"she'll've\": \"she will have\",\n",
        "\"she's\": \"she is\",\n",
        "\"should've\": \"should have\",\n",
        "\"shouldn't\": \"should not\",\n",
        "\"shouldn't've\": \"should not have\",\n",
        "\"so've\": \"so have\",\n",
        "\"so's\": \"so is\",\n",
        "\"that'd\": \"that would\",\n",
        "\"that'd've\": \"that would have\",\n",
        "\"that's\": \"that is\",\n",
        "\"there'd\": \"there would\",\n",
        "\"there'd've\": \"there would have\",\n",
        "\"there's\": \"there is\",\n",
        "\"they'd\": \"they would\",\n",
        "\"they'd've\": \"they would have\",\n",
        "\"they'll\": \"they will\",\n",
        "\"they'll've\": \"they will have\",\n",
        "\"they're\": \"they are\",\n",
        "\"they've\": \"they have\",\n",
        "\"to've\": \"to have\",\n",
        "\"wasn't\": \"was not\",\n",
        "\" u \": \" you \",\n",
        "\" ur \": \" your \",\n",
        "\" n \": \" and \"}"
      ],
      "execution_count": 62,
      "outputs": []
    },
    {
      "cell_type": "code",
      "metadata": {
        "id": "ZtiLilwv92Xj"
      },
      "source": [
        "def cont_to_exp(x):\n",
        "    if type(x) is str:\n",
        "        for key in contractions:\n",
        "            value = contractions[key]\n",
        "            x = x.replace(key, value)\n",
        "        return x\n",
        "    else:\n",
        "        return x"
      ],
      "execution_count": 63,
      "outputs": []
    },
    {
      "cell_type": "code",
      "metadata": {
        "id": "WP265ZAt92cx"
      },
      "source": [
        "df['tweets'] = df['tweets'].apply(lambda x: cont_to_exp(x))"
      ],
      "execution_count": 64,
      "outputs": []
    },
    {
      "cell_type": "markdown",
      "metadata": {
        "id": "iAFooQDM_QTB"
      },
      "source": [
        "**Emails removal and counts**"
      ]
    },
    {
      "cell_type": "code",
      "metadata": {
        "id": "bDAME-jS92gg"
      },
      "source": [
        "df['emails'] = df['tweets'].apply(lambda x: re.findall(r'([a-zA-Z0-9+._-]+@[a-zA-Z0-9._-]+\\.[a-zA-Z0-9_-]+)', x))"
      ],
      "execution_count": 66,
      "outputs": []
    },
    {
      "cell_type": "code",
      "metadata": {
        "id": "keThCFO492kU"
      },
      "source": [
        "df['emails_count'] = df['emails'].apply(lambda x: len(x))"
      ],
      "execution_count": 67,
      "outputs": []
    },
    {
      "cell_type": "code",
      "metadata": {
        "colab": {
          "base_uri": "https://localhost:8080/",
          "height": 204
        },
        "id": "SGJOp1Tv92ra",
        "outputId": "3d7cb25b-36c7-4c27-f9ff-8b35b30661c5"
      },
      "source": [
        "df.head()"
      ],
      "execution_count": 68,
      "outputs": [
        {
          "output_type": "execute_result",
          "data": {
            "text/html": [
              "<div>\n",
              "<style scoped>\n",
              "    .dataframe tbody tr th:only-of-type {\n",
              "        vertical-align: middle;\n",
              "    }\n",
              "\n",
              "    .dataframe tbody tr th {\n",
              "        vertical-align: top;\n",
              "    }\n",
              "\n",
              "    .dataframe thead th {\n",
              "        text-align: right;\n",
              "    }\n",
              "</style>\n",
              "<table border=\"1\" class=\"dataframe\">\n",
              "  <thead>\n",
              "    <tr style=\"text-align: right;\">\n",
              "      <th></th>\n",
              "      <th>tweets</th>\n",
              "      <th>sentiment</th>\n",
              "      <th>word_counts</th>\n",
              "      <th>char_counts</th>\n",
              "      <th>avg_word_len</th>\n",
              "      <th>stop_words_len</th>\n",
              "      <th>hashtag_counts</th>\n",
              "      <th>mentions_counts</th>\n",
              "      <th>numeric_count</th>\n",
              "      <th>upper_count</th>\n",
              "      <th>emails</th>\n",
              "      <th>emails_count</th>\n",
              "    </tr>\n",
              "  </thead>\n",
              "  <tbody>\n",
              "    <tr>\n",
              "      <th>0</th>\n",
              "      <td>@switchfoot http://twitpic.com/2y1zl - awww, t...</td>\n",
              "      <td>0</td>\n",
              "      <td>19</td>\n",
              "      <td>115</td>\n",
              "      <td>5.052632</td>\n",
              "      <td>4</td>\n",
              "      <td>0</td>\n",
              "      <td>1</td>\n",
              "      <td>0</td>\n",
              "      <td>1</td>\n",
              "      <td>[]</td>\n",
              "      <td>0</td>\n",
              "    </tr>\n",
              "    <tr>\n",
              "      <th>1</th>\n",
              "      <td>is upset that he cannot update his facebook by...</td>\n",
              "      <td>0</td>\n",
              "      <td>21</td>\n",
              "      <td>111</td>\n",
              "      <td>4.285714</td>\n",
              "      <td>9</td>\n",
              "      <td>0</td>\n",
              "      <td>0</td>\n",
              "      <td>0</td>\n",
              "      <td>0</td>\n",
              "      <td>[]</td>\n",
              "      <td>0</td>\n",
              "    </tr>\n",
              "    <tr>\n",
              "      <th>2</th>\n",
              "      <td>@kenichan i dived many times for the ball. man...</td>\n",
              "      <td>0</td>\n",
              "      <td>18</td>\n",
              "      <td>89</td>\n",
              "      <td>3.944444</td>\n",
              "      <td>7</td>\n",
              "      <td>0</td>\n",
              "      <td>1</td>\n",
              "      <td>0</td>\n",
              "      <td>1</td>\n",
              "      <td>[]</td>\n",
              "      <td>0</td>\n",
              "    </tr>\n",
              "    <tr>\n",
              "      <th>3</th>\n",
              "      <td>my whole body feels itchy and like its on fire</td>\n",
              "      <td>0</td>\n",
              "      <td>10</td>\n",
              "      <td>47</td>\n",
              "      <td>3.700000</td>\n",
              "      <td>5</td>\n",
              "      <td>0</td>\n",
              "      <td>0</td>\n",
              "      <td>0</td>\n",
              "      <td>0</td>\n",
              "      <td>[]</td>\n",
              "      <td>0</td>\n",
              "    </tr>\n",
              "    <tr>\n",
              "      <th>4</th>\n",
              "      <td>@nationwideclass no, it is not behaving at all...</td>\n",
              "      <td>0</td>\n",
              "      <td>21</td>\n",
              "      <td>111</td>\n",
              "      <td>4.285714</td>\n",
              "      <td>10</td>\n",
              "      <td>0</td>\n",
              "      <td>1</td>\n",
              "      <td>0</td>\n",
              "      <td>1</td>\n",
              "      <td>[]</td>\n",
              "      <td>0</td>\n",
              "    </tr>\n",
              "  </tbody>\n",
              "</table>\n",
              "</div>"
            ],
            "text/plain": [
              "                                              tweets  ...  emails_count\n",
              "0  @switchfoot http://twitpic.com/2y1zl - awww, t...  ...             0\n",
              "1  is upset that he cannot update his facebook by...  ...             0\n",
              "2  @kenichan i dived many times for the ball. man...  ...             0\n",
              "3    my whole body feels itchy and like its on fire   ...             0\n",
              "4  @nationwideclass no, it is not behaving at all...  ...             0\n",
              "\n",
              "[5 rows x 12 columns]"
            ]
          },
          "metadata": {
            "tags": []
          },
          "execution_count": 68
        }
      ]
    },
    {
      "cell_type": "code",
      "metadata": {
        "colab": {
          "base_uri": "https://localhost:8080/",
          "height": 626
        },
        "id": "juiOEmzO92zE",
        "outputId": "b7723d29-e60c-400c-bb73-862d00bcbaee"
      },
      "source": [
        "df[df['emails_count'] >0]"
      ],
      "execution_count": 69,
      "outputs": [
        {
          "output_type": "execute_result",
          "data": {
            "text/html": [
              "<div>\n",
              "<style scoped>\n",
              "    .dataframe tbody tr th:only-of-type {\n",
              "        vertical-align: middle;\n",
              "    }\n",
              "\n",
              "    .dataframe tbody tr th {\n",
              "        vertical-align: top;\n",
              "    }\n",
              "\n",
              "    .dataframe thead th {\n",
              "        text-align: right;\n",
              "    }\n",
              "</style>\n",
              "<table border=\"1\" class=\"dataframe\">\n",
              "  <thead>\n",
              "    <tr style=\"text-align: right;\">\n",
              "      <th></th>\n",
              "      <th>tweets</th>\n",
              "      <th>sentiment</th>\n",
              "      <th>word_counts</th>\n",
              "      <th>char_counts</th>\n",
              "      <th>avg_word_len</th>\n",
              "      <th>stop_words_len</th>\n",
              "      <th>hashtag_counts</th>\n",
              "      <th>mentions_counts</th>\n",
              "      <th>numeric_count</th>\n",
              "      <th>upper_count</th>\n",
              "      <th>emails</th>\n",
              "      <th>emails_count</th>\n",
              "    </tr>\n",
              "  </thead>\n",
              "  <tbody>\n",
              "    <tr>\n",
              "      <th>4054</th>\n",
              "      <td>i want a new laptop.  hp tx2000 is the bomb. :...</td>\n",
              "      <td>0</td>\n",
              "      <td>20</td>\n",
              "      <td>103</td>\n",
              "      <td>4.150000</td>\n",
              "      <td>6</td>\n",
              "      <td>0</td>\n",
              "      <td>0</td>\n",
              "      <td>0</td>\n",
              "      <td>4</td>\n",
              "      <td>[gabbehhramos@yahoo.com]</td>\n",
              "      <td>1</td>\n",
              "    </tr>\n",
              "    <tr>\n",
              "      <th>7917</th>\n",
              "      <td>who stole elledell@gmail.com?</td>\n",
              "      <td>0</td>\n",
              "      <td>3</td>\n",
              "      <td>31</td>\n",
              "      <td>9.000000</td>\n",
              "      <td>1</td>\n",
              "      <td>0</td>\n",
              "      <td>0</td>\n",
              "      <td>0</td>\n",
              "      <td>0</td>\n",
              "      <td>[elledell@gmail.com]</td>\n",
              "      <td>1</td>\n",
              "    </tr>\n",
              "    <tr>\n",
              "      <th>8496</th>\n",
              "      <td>@alexistehpom  really? did you send out all th...</td>\n",
              "      <td>0</td>\n",
              "      <td>20</td>\n",
              "      <td>130</td>\n",
              "      <td>5.500000</td>\n",
              "      <td>11</td>\n",
              "      <td>0</td>\n",
              "      <td>1</td>\n",
              "      <td>0</td>\n",
              "      <td>0</td>\n",
              "      <td>[missataari@gmail.com]</td>\n",
              "      <td>1</td>\n",
              "    </tr>\n",
              "    <tr>\n",
              "      <th>10290</th>\n",
              "      <td>@laureystack awh...that is kinda sad  lol add ...</td>\n",
              "      <td>0</td>\n",
              "      <td>8</td>\n",
              "      <td>76</td>\n",
              "      <td>8.500000</td>\n",
              "      <td>0</td>\n",
              "      <td>0</td>\n",
              "      <td>1</td>\n",
              "      <td>0</td>\n",
              "      <td>0</td>\n",
              "      <td>[hello.kitty.65@hotmail.com]</td>\n",
              "      <td>1</td>\n",
              "    </tr>\n",
              "    <tr>\n",
              "      <th>16413</th>\n",
              "      <td>@jilliancyork  got 2 bottom of it, human error...</td>\n",
              "      <td>0</td>\n",
              "      <td>21</td>\n",
              "      <td>137</td>\n",
              "      <td>5.428571</td>\n",
              "      <td>7</td>\n",
              "      <td>0</td>\n",
              "      <td>1</td>\n",
              "      <td>1</td>\n",
              "      <td>0</td>\n",
              "      <td>[press@linkedin.com]</td>\n",
              "      <td>1</td>\n",
              "    </tr>\n",
              "    <tr>\n",
              "      <th>...</th>\n",
              "      <td>...</td>\n",
              "      <td>...</td>\n",
              "      <td>...</td>\n",
              "      <td>...</td>\n",
              "      <td>...</td>\n",
              "      <td>...</td>\n",
              "      <td>...</td>\n",
              "      <td>...</td>\n",
              "      <td>...</td>\n",
              "      <td>...</td>\n",
              "      <td>...</td>\n",
              "      <td>...</td>\n",
              "    </tr>\n",
              "    <tr>\n",
              "      <th>1588338</th>\n",
              "      <td>@boudoirsextoys do not forget to shoot me an e...</td>\n",
              "      <td>4</td>\n",
              "      <td>21</td>\n",
              "      <td>127</td>\n",
              "      <td>5.047619</td>\n",
              "      <td>10</td>\n",
              "      <td>0</td>\n",
              "      <td>1</td>\n",
              "      <td>0</td>\n",
              "      <td>1</td>\n",
              "      <td>[hello@tastelikekisses.com]</td>\n",
              "      <td>1</td>\n",
              "    </tr>\n",
              "    <tr>\n",
              "      <th>1589132</th>\n",
              "      <td>hi there , anybody got a job for me  oil &amp;amp;...</td>\n",
              "      <td>4</td>\n",
              "      <td>15</td>\n",
              "      <td>98</td>\n",
              "      <td>5.533333</td>\n",
              "      <td>4</td>\n",
              "      <td>0</td>\n",
              "      <td>0</td>\n",
              "      <td>0</td>\n",
              "      <td>0</td>\n",
              "      <td>[aadvanspijk@yahoo.co.uk]</td>\n",
              "      <td>1</td>\n",
              "    </tr>\n",
              "    <tr>\n",
              "      <th>1590489</th>\n",
              "      <td>@clericaaron yes, lbruton@tulsalanparty.com is...</td>\n",
              "      <td>4</td>\n",
              "      <td>14</td>\n",
              "      <td>95</td>\n",
              "      <td>5.785714</td>\n",
              "      <td>6</td>\n",
              "      <td>0</td>\n",
              "      <td>1</td>\n",
              "      <td>0</td>\n",
              "      <td>1</td>\n",
              "      <td>[lbruton@tulsalanparty.com]</td>\n",
              "      <td>1</td>\n",
              "    </tr>\n",
              "    <tr>\n",
              "      <th>1591675</th>\n",
              "      <td>@miss_ellen good morning!!!!   congrats!    se...</td>\n",
              "      <td>4</td>\n",
              "      <td>9</td>\n",
              "      <td>77</td>\n",
              "      <td>7.111111</td>\n",
              "      <td>2</td>\n",
              "      <td>0</td>\n",
              "      <td>1</td>\n",
              "      <td>0</td>\n",
              "      <td>0</td>\n",
              "      <td>[jill@q985fm.com]</td>\n",
              "      <td>1</td>\n",
              "    </tr>\n",
              "    <tr>\n",
              "      <th>1599053</th>\n",
              "      <td>@thejoshlynn you are! btw send me an email. wa...</td>\n",
              "      <td>4</td>\n",
              "      <td>19</td>\n",
              "      <td>145</td>\n",
              "      <td>6.631579</td>\n",
              "      <td>7</td>\n",
              "      <td>0</td>\n",
              "      <td>1</td>\n",
              "      <td>0</td>\n",
              "      <td>1</td>\n",
              "      <td>[marni@creativecustomcardboxes.com]</td>\n",
              "      <td>1</td>\n",
              "    </tr>\n",
              "  </tbody>\n",
              "</table>\n",
              "<p>564 rows × 12 columns</p>\n",
              "</div>"
            ],
            "text/plain": [
              "                                                    tweets  ...  emails_count\n",
              "4054     i want a new laptop.  hp tx2000 is the bomb. :...  ...             1\n",
              "7917                       who stole elledell@gmail.com?    ...             1\n",
              "8496     @alexistehpom  really? did you send out all th...  ...             1\n",
              "10290    @laureystack awh...that is kinda sad  lol add ...  ...             1\n",
              "16413    @jilliancyork  got 2 bottom of it, human error...  ...             1\n",
              "...                                                    ...  ...           ...\n",
              "1588338  @boudoirsextoys do not forget to shoot me an e...  ...             1\n",
              "1589132  hi there , anybody got a job for me  oil &amp;...  ...             1\n",
              "1590489  @clericaaron yes, lbruton@tulsalanparty.com is...  ...             1\n",
              "1591675  @miss_ellen good morning!!!!   congrats!    se...  ...             1\n",
              "1599053  @thejoshlynn you are! btw send me an email. wa...  ...             1\n",
              "\n",
              "[564 rows x 12 columns]"
            ]
          },
          "metadata": {
            "tags": []
          },
          "execution_count": 69
        }
      ]
    },
    {
      "cell_type": "markdown",
      "metadata": {
        "id": "AfFpgTXiBf7Q"
      },
      "source": [
        "###**Count URL' and remove it**###"
      ]
    },
    {
      "cell_type": "code",
      "metadata": {
        "id": "QQs7VMFU5Gik"
      },
      "source": [
        "df['urls_flag'] = df['tweets'].apply(lambda x: len(re.findall(r'(http|ftp|https)://([\\w_-]+(?:(?:\\.[\\w_-]+)+))([\\w.,@?^=%&:/~+#-]*[\\w@?^=%&/~+#-])?', x)))"
      ],
      "execution_count": 70,
      "outputs": []
    },
    {
      "cell_type": "code",
      "metadata": {
        "id": "vAwPn4mz5GmO"
      },
      "source": [
        "df['tweets'] = df['tweets'].apply(lambda x: re.sub(r'(http|ftp|https)://([\\w_-]+(?:(?:\\.[\\w_-]+)+))([\\w.,@?^=%&:/~+#-]*[\\w@?^=%&/~+#-])?', '', x))"
      ],
      "execution_count": 71,
      "outputs": []
    },
    {
      "cell_type": "code",
      "metadata": {
        "colab": {
          "base_uri": "https://localhost:8080/",
          "height": 289
        },
        "id": "Xtzknf-b5Gvx",
        "outputId": "ebd1d118-3fc0-4e8f-9327-9df4afef6196"
      },
      "source": [
        "df.head()"
      ],
      "execution_count": 72,
      "outputs": [
        {
          "output_type": "execute_result",
          "data": {
            "text/html": [
              "<div>\n",
              "<style scoped>\n",
              "    .dataframe tbody tr th:only-of-type {\n",
              "        vertical-align: middle;\n",
              "    }\n",
              "\n",
              "    .dataframe tbody tr th {\n",
              "        vertical-align: top;\n",
              "    }\n",
              "\n",
              "    .dataframe thead th {\n",
              "        text-align: right;\n",
              "    }\n",
              "</style>\n",
              "<table border=\"1\" class=\"dataframe\">\n",
              "  <thead>\n",
              "    <tr style=\"text-align: right;\">\n",
              "      <th></th>\n",
              "      <th>tweets</th>\n",
              "      <th>sentiment</th>\n",
              "      <th>word_counts</th>\n",
              "      <th>char_counts</th>\n",
              "      <th>avg_word_len</th>\n",
              "      <th>stop_words_len</th>\n",
              "      <th>hashtag_counts</th>\n",
              "      <th>mentions_counts</th>\n",
              "      <th>numeric_count</th>\n",
              "      <th>upper_count</th>\n",
              "      <th>emails</th>\n",
              "      <th>emails_count</th>\n",
              "      <th>urls_flag</th>\n",
              "    </tr>\n",
              "  </thead>\n",
              "  <tbody>\n",
              "    <tr>\n",
              "      <th>0</th>\n",
              "      <td>@switchfoot  - awww, that is a bummer.  you sh...</td>\n",
              "      <td>0</td>\n",
              "      <td>19</td>\n",
              "      <td>115</td>\n",
              "      <td>5.052632</td>\n",
              "      <td>4</td>\n",
              "      <td>0</td>\n",
              "      <td>1</td>\n",
              "      <td>0</td>\n",
              "      <td>1</td>\n",
              "      <td>[]</td>\n",
              "      <td>0</td>\n",
              "      <td>1</td>\n",
              "    </tr>\n",
              "    <tr>\n",
              "      <th>1</th>\n",
              "      <td>is upset that he cannot update his facebook by...</td>\n",
              "      <td>0</td>\n",
              "      <td>21</td>\n",
              "      <td>111</td>\n",
              "      <td>4.285714</td>\n",
              "      <td>9</td>\n",
              "      <td>0</td>\n",
              "      <td>0</td>\n",
              "      <td>0</td>\n",
              "      <td>0</td>\n",
              "      <td>[]</td>\n",
              "      <td>0</td>\n",
              "      <td>0</td>\n",
              "    </tr>\n",
              "    <tr>\n",
              "      <th>2</th>\n",
              "      <td>@kenichan i dived many times for the ball. man...</td>\n",
              "      <td>0</td>\n",
              "      <td>18</td>\n",
              "      <td>89</td>\n",
              "      <td>3.944444</td>\n",
              "      <td>7</td>\n",
              "      <td>0</td>\n",
              "      <td>1</td>\n",
              "      <td>0</td>\n",
              "      <td>1</td>\n",
              "      <td>[]</td>\n",
              "      <td>0</td>\n",
              "      <td>0</td>\n",
              "    </tr>\n",
              "    <tr>\n",
              "      <th>3</th>\n",
              "      <td>my whole body feels itchy and like its on fire</td>\n",
              "      <td>0</td>\n",
              "      <td>10</td>\n",
              "      <td>47</td>\n",
              "      <td>3.700000</td>\n",
              "      <td>5</td>\n",
              "      <td>0</td>\n",
              "      <td>0</td>\n",
              "      <td>0</td>\n",
              "      <td>0</td>\n",
              "      <td>[]</td>\n",
              "      <td>0</td>\n",
              "      <td>0</td>\n",
              "    </tr>\n",
              "    <tr>\n",
              "      <th>4</th>\n",
              "      <td>@nationwideclass no, it is not behaving at all...</td>\n",
              "      <td>0</td>\n",
              "      <td>21</td>\n",
              "      <td>111</td>\n",
              "      <td>4.285714</td>\n",
              "      <td>10</td>\n",
              "      <td>0</td>\n",
              "      <td>1</td>\n",
              "      <td>0</td>\n",
              "      <td>1</td>\n",
              "      <td>[]</td>\n",
              "      <td>0</td>\n",
              "      <td>0</td>\n",
              "    </tr>\n",
              "  </tbody>\n",
              "</table>\n",
              "</div>"
            ],
            "text/plain": [
              "                                              tweets  ...  urls_flag\n",
              "0  @switchfoot  - awww, that is a bummer.  you sh...  ...          1\n",
              "1  is upset that he cannot update his facebook by...  ...          0\n",
              "2  @kenichan i dived many times for the ball. man...  ...          0\n",
              "3    my whole body feels itchy and like its on fire   ...          0\n",
              "4  @nationwideclass no, it is not behaving at all...  ...          0\n",
              "\n",
              "[5 rows x 13 columns]"
            ]
          },
          "metadata": {
            "tags": []
          },
          "execution_count": 72
        }
      ]
    },
    {
      "cell_type": "code",
      "metadata": {
        "colab": {
          "base_uri": "https://localhost:8080/",
          "height": 35
        },
        "id": "2dKqPn_05GzS",
        "outputId": "fd332fab-7c9d-4aec-89aa-4d2c6f4b6cde"
      },
      "source": [
        "df.loc[0]['tweets']"
      ],
      "execution_count": 74,
      "outputs": [
        {
          "output_type": "execute_result",
          "data": {
            "application/vnd.google.colaboratory.intrinsic+json": {
              "type": "string"
            },
            "text/plain": [
              "'@switchfoot  - awww, that is a bummer.  you shoulda got david carr of third day to do it. ;d'"
            ]
          },
          "metadata": {
            "tags": []
          },
          "execution_count": 74
        }
      ]
    },
    {
      "cell_type": "markdown",
      "metadata": {
        "id": "xIO-8Z5dDz_w"
      },
      "source": [
        "### **Remove RT**"
      ]
    },
    {
      "cell_type": "code",
      "metadata": {
        "id": "mRx5mw_75G2z"
      },
      "source": [
        "df['tweets'] = df['tweets'].apply(lambda x: re.sub('RT', \"\", x))"
      ],
      "execution_count": 75,
      "outputs": []
    },
    {
      "cell_type": "markdown",
      "metadata": {
        "id": "yMzreQRAD7bK"
      },
      "source": [
        "### **Special Chars removal or punctuation removal**"
      ]
    },
    {
      "cell_type": "code",
      "metadata": {
        "id": "CXLtxHcL3pR5"
      },
      "source": [
        "df['tweets'] = df['tweets'].apply(lambda x: re.sub('[^A-Z a-z 0-9-]+', '', x))"
      ],
      "execution_count": 76,
      "outputs": []
    },
    {
      "cell_type": "code",
      "metadata": {
        "colab": {
          "base_uri": "https://localhost:8080/",
          "height": 289
        },
        "id": "b3nb8tIy3pYZ",
        "outputId": "91fcfca8-79cb-4d6c-c1b4-6639d1268921"
      },
      "source": [
        "df.head()"
      ],
      "execution_count": 77,
      "outputs": [
        {
          "output_type": "execute_result",
          "data": {
            "text/html": [
              "<div>\n",
              "<style scoped>\n",
              "    .dataframe tbody tr th:only-of-type {\n",
              "        vertical-align: middle;\n",
              "    }\n",
              "\n",
              "    .dataframe tbody tr th {\n",
              "        vertical-align: top;\n",
              "    }\n",
              "\n",
              "    .dataframe thead th {\n",
              "        text-align: right;\n",
              "    }\n",
              "</style>\n",
              "<table border=\"1\" class=\"dataframe\">\n",
              "  <thead>\n",
              "    <tr style=\"text-align: right;\">\n",
              "      <th></th>\n",
              "      <th>tweets</th>\n",
              "      <th>sentiment</th>\n",
              "      <th>word_counts</th>\n",
              "      <th>char_counts</th>\n",
              "      <th>avg_word_len</th>\n",
              "      <th>stop_words_len</th>\n",
              "      <th>hashtag_counts</th>\n",
              "      <th>mentions_counts</th>\n",
              "      <th>numeric_count</th>\n",
              "      <th>upper_count</th>\n",
              "      <th>emails</th>\n",
              "      <th>emails_count</th>\n",
              "      <th>urls_flag</th>\n",
              "    </tr>\n",
              "  </thead>\n",
              "  <tbody>\n",
              "    <tr>\n",
              "      <th>0</th>\n",
              "      <td>switchfoot  - awww that is a bummer  you shoul...</td>\n",
              "      <td>0</td>\n",
              "      <td>19</td>\n",
              "      <td>115</td>\n",
              "      <td>5.052632</td>\n",
              "      <td>4</td>\n",
              "      <td>0</td>\n",
              "      <td>1</td>\n",
              "      <td>0</td>\n",
              "      <td>1</td>\n",
              "      <td>[]</td>\n",
              "      <td>0</td>\n",
              "      <td>1</td>\n",
              "    </tr>\n",
              "    <tr>\n",
              "      <th>1</th>\n",
              "      <td>is upset that he cannot update his facebook by...</td>\n",
              "      <td>0</td>\n",
              "      <td>21</td>\n",
              "      <td>111</td>\n",
              "      <td>4.285714</td>\n",
              "      <td>9</td>\n",
              "      <td>0</td>\n",
              "      <td>0</td>\n",
              "      <td>0</td>\n",
              "      <td>0</td>\n",
              "      <td>[]</td>\n",
              "      <td>0</td>\n",
              "      <td>0</td>\n",
              "    </tr>\n",
              "    <tr>\n",
              "      <th>2</th>\n",
              "      <td>kenichan i dived many times for the ball manag...</td>\n",
              "      <td>0</td>\n",
              "      <td>18</td>\n",
              "      <td>89</td>\n",
              "      <td>3.944444</td>\n",
              "      <td>7</td>\n",
              "      <td>0</td>\n",
              "      <td>1</td>\n",
              "      <td>0</td>\n",
              "      <td>1</td>\n",
              "      <td>[]</td>\n",
              "      <td>0</td>\n",
              "      <td>0</td>\n",
              "    </tr>\n",
              "    <tr>\n",
              "      <th>3</th>\n",
              "      <td>my whole body feels itchy and like its on fire</td>\n",
              "      <td>0</td>\n",
              "      <td>10</td>\n",
              "      <td>47</td>\n",
              "      <td>3.700000</td>\n",
              "      <td>5</td>\n",
              "      <td>0</td>\n",
              "      <td>0</td>\n",
              "      <td>0</td>\n",
              "      <td>0</td>\n",
              "      <td>[]</td>\n",
              "      <td>0</td>\n",
              "      <td>0</td>\n",
              "    </tr>\n",
              "    <tr>\n",
              "      <th>4</th>\n",
              "      <td>nationwideclass no it is not behaving at all i...</td>\n",
              "      <td>0</td>\n",
              "      <td>21</td>\n",
              "      <td>111</td>\n",
              "      <td>4.285714</td>\n",
              "      <td>10</td>\n",
              "      <td>0</td>\n",
              "      <td>1</td>\n",
              "      <td>0</td>\n",
              "      <td>1</td>\n",
              "      <td>[]</td>\n",
              "      <td>0</td>\n",
              "      <td>0</td>\n",
              "    </tr>\n",
              "  </tbody>\n",
              "</table>\n",
              "</div>"
            ],
            "text/plain": [
              "                                              tweets  ...  urls_flag\n",
              "0  switchfoot  - awww that is a bummer  you shoul...  ...          1\n",
              "1  is upset that he cannot update his facebook by...  ...          0\n",
              "2  kenichan i dived many times for the ball manag...  ...          0\n",
              "3    my whole body feels itchy and like its on fire   ...          0\n",
              "4  nationwideclass no it is not behaving at all i...  ...          0\n",
              "\n",
              "[5 rows x 13 columns]"
            ]
          },
          "metadata": {
            "tags": []
          },
          "execution_count": 77
        }
      ]
    },
    {
      "cell_type": "markdown",
      "metadata": {
        "id": "VBeTWSgREDwN"
      },
      "source": [
        ""
      ]
    },
    {
      "cell_type": "markdown",
      "metadata": {
        "id": "Rj8H7q8OED1u"
      },
      "source": [
        "### **Remove multiple spaces**"
      ]
    },
    {
      "cell_type": "code",
      "metadata": {
        "id": "4snP3gfR3pdX"
      },
      "source": [
        "df['tweets'] = df['tweets'].apply(lambda x: \" \".join(x.split()))"
      ],
      "execution_count": 78,
      "outputs": []
    },
    {
      "cell_type": "code",
      "metadata": {
        "colab": {
          "base_uri": "https://localhost:8080/",
          "height": 289
        },
        "id": "ZHVfekdnEI7t",
        "outputId": "8c883595-1af6-408e-a614-e2bf5505016f"
      },
      "source": [
        "df.head()"
      ],
      "execution_count": 79,
      "outputs": [
        {
          "output_type": "execute_result",
          "data": {
            "text/html": [
              "<div>\n",
              "<style scoped>\n",
              "    .dataframe tbody tr th:only-of-type {\n",
              "        vertical-align: middle;\n",
              "    }\n",
              "\n",
              "    .dataframe tbody tr th {\n",
              "        vertical-align: top;\n",
              "    }\n",
              "\n",
              "    .dataframe thead th {\n",
              "        text-align: right;\n",
              "    }\n",
              "</style>\n",
              "<table border=\"1\" class=\"dataframe\">\n",
              "  <thead>\n",
              "    <tr style=\"text-align: right;\">\n",
              "      <th></th>\n",
              "      <th>tweets</th>\n",
              "      <th>sentiment</th>\n",
              "      <th>word_counts</th>\n",
              "      <th>char_counts</th>\n",
              "      <th>avg_word_len</th>\n",
              "      <th>stop_words_len</th>\n",
              "      <th>hashtag_counts</th>\n",
              "      <th>mentions_counts</th>\n",
              "      <th>numeric_count</th>\n",
              "      <th>upper_count</th>\n",
              "      <th>emails</th>\n",
              "      <th>emails_count</th>\n",
              "      <th>urls_flag</th>\n",
              "    </tr>\n",
              "  </thead>\n",
              "  <tbody>\n",
              "    <tr>\n",
              "      <th>0</th>\n",
              "      <td>switchfoot - awww that is a bummer you shoulda...</td>\n",
              "      <td>0</td>\n",
              "      <td>19</td>\n",
              "      <td>115</td>\n",
              "      <td>5.052632</td>\n",
              "      <td>4</td>\n",
              "      <td>0</td>\n",
              "      <td>1</td>\n",
              "      <td>0</td>\n",
              "      <td>1</td>\n",
              "      <td>[]</td>\n",
              "      <td>0</td>\n",
              "      <td>1</td>\n",
              "    </tr>\n",
              "    <tr>\n",
              "      <th>1</th>\n",
              "      <td>is upset that he cannot update his facebook by...</td>\n",
              "      <td>0</td>\n",
              "      <td>21</td>\n",
              "      <td>111</td>\n",
              "      <td>4.285714</td>\n",
              "      <td>9</td>\n",
              "      <td>0</td>\n",
              "      <td>0</td>\n",
              "      <td>0</td>\n",
              "      <td>0</td>\n",
              "      <td>[]</td>\n",
              "      <td>0</td>\n",
              "      <td>0</td>\n",
              "    </tr>\n",
              "    <tr>\n",
              "      <th>2</th>\n",
              "      <td>kenichan i dived many times for the ball manag...</td>\n",
              "      <td>0</td>\n",
              "      <td>18</td>\n",
              "      <td>89</td>\n",
              "      <td>3.944444</td>\n",
              "      <td>7</td>\n",
              "      <td>0</td>\n",
              "      <td>1</td>\n",
              "      <td>0</td>\n",
              "      <td>1</td>\n",
              "      <td>[]</td>\n",
              "      <td>0</td>\n",
              "      <td>0</td>\n",
              "    </tr>\n",
              "    <tr>\n",
              "      <th>3</th>\n",
              "      <td>my whole body feels itchy and like its on fire</td>\n",
              "      <td>0</td>\n",
              "      <td>10</td>\n",
              "      <td>47</td>\n",
              "      <td>3.700000</td>\n",
              "      <td>5</td>\n",
              "      <td>0</td>\n",
              "      <td>0</td>\n",
              "      <td>0</td>\n",
              "      <td>0</td>\n",
              "      <td>[]</td>\n",
              "      <td>0</td>\n",
              "      <td>0</td>\n",
              "    </tr>\n",
              "    <tr>\n",
              "      <th>4</th>\n",
              "      <td>nationwideclass no it is not behaving at all i...</td>\n",
              "      <td>0</td>\n",
              "      <td>21</td>\n",
              "      <td>111</td>\n",
              "      <td>4.285714</td>\n",
              "      <td>10</td>\n",
              "      <td>0</td>\n",
              "      <td>1</td>\n",
              "      <td>0</td>\n",
              "      <td>1</td>\n",
              "      <td>[]</td>\n",
              "      <td>0</td>\n",
              "      <td>0</td>\n",
              "    </tr>\n",
              "  </tbody>\n",
              "</table>\n",
              "</div>"
            ],
            "text/plain": [
              "                                              tweets  ...  urls_flag\n",
              "0  switchfoot - awww that is a bummer you shoulda...  ...          1\n",
              "1  is upset that he cannot update his facebook by...  ...          0\n",
              "2  kenichan i dived many times for the ball manag...  ...          0\n",
              "3     my whole body feels itchy and like its on fire  ...          0\n",
              "4  nationwideclass no it is not behaving at all i...  ...          0\n",
              "\n",
              "[5 rows x 13 columns]"
            ]
          },
          "metadata": {
            "tags": []
          },
          "execution_count": 79
        }
      ]
    },
    {
      "cell_type": "markdown",
      "metadata": {
        "id": "zpleA6rZEMUY"
      },
      "source": [
        "### **Remove HTML tags**"
      ]
    },
    {
      "cell_type": "code",
      "metadata": {
        "id": "wKzFDF_7EJ2l"
      },
      "source": [
        "df['tweets'] = df['tweets'].apply(lambda x: BeautifulSoup(x, 'lxml').get_text())"
      ],
      "execution_count": 81,
      "outputs": []
    },
    {
      "cell_type": "markdown",
      "metadata": {
        "id": "GndUHI4sEYhn"
      },
      "source": [
        "### **Remove Accented Chars**"
      ]
    },
    {
      "cell_type": "code",
      "metadata": {
        "id": "DWeMj1NUEOLC"
      },
      "source": [
        "def remove_accented_chars(x):\n",
        "    x = unicodedata.normalize('NFKD', x).encode('ascii', 'ignore').decode('utf-8', 'ignore')\n",
        "    return x"
      ],
      "execution_count": 83,
      "outputs": []
    },
    {
      "cell_type": "code",
      "metadata": {
        "id": "E2dnDyy-GZO5"
      },
      "source": [
        "df['tweets'] = df['tweets'].apply(lambda x: remove_accented_chars(x))"
      ],
      "execution_count": 85,
      "outputs": []
    },
    {
      "cell_type": "code",
      "metadata": {
        "colab": {
          "base_uri": "https://localhost:8080/",
          "height": 289
        },
        "id": "G0g7aJ-0EOOT",
        "outputId": "51e63b90-daee-4ab0-e47a-632303a16b93"
      },
      "source": [
        "df.head()"
      ],
      "execution_count": 86,
      "outputs": [
        {
          "output_type": "execute_result",
          "data": {
            "text/html": [
              "<div>\n",
              "<style scoped>\n",
              "    .dataframe tbody tr th:only-of-type {\n",
              "        vertical-align: middle;\n",
              "    }\n",
              "\n",
              "    .dataframe tbody tr th {\n",
              "        vertical-align: top;\n",
              "    }\n",
              "\n",
              "    .dataframe thead th {\n",
              "        text-align: right;\n",
              "    }\n",
              "</style>\n",
              "<table border=\"1\" class=\"dataframe\">\n",
              "  <thead>\n",
              "    <tr style=\"text-align: right;\">\n",
              "      <th></th>\n",
              "      <th>tweets</th>\n",
              "      <th>sentiment</th>\n",
              "      <th>word_counts</th>\n",
              "      <th>char_counts</th>\n",
              "      <th>avg_word_len</th>\n",
              "      <th>stop_words_len</th>\n",
              "      <th>hashtag_counts</th>\n",
              "      <th>mentions_counts</th>\n",
              "      <th>numeric_count</th>\n",
              "      <th>upper_count</th>\n",
              "      <th>emails</th>\n",
              "      <th>emails_count</th>\n",
              "      <th>urls_flag</th>\n",
              "    </tr>\n",
              "  </thead>\n",
              "  <tbody>\n",
              "    <tr>\n",
              "      <th>0</th>\n",
              "      <td>switchfoot - awww that is a bummer you shoulda...</td>\n",
              "      <td>0</td>\n",
              "      <td>19</td>\n",
              "      <td>115</td>\n",
              "      <td>5.052632</td>\n",
              "      <td>4</td>\n",
              "      <td>0</td>\n",
              "      <td>1</td>\n",
              "      <td>0</td>\n",
              "      <td>1</td>\n",
              "      <td>[]</td>\n",
              "      <td>0</td>\n",
              "      <td>1</td>\n",
              "    </tr>\n",
              "    <tr>\n",
              "      <th>1</th>\n",
              "      <td>is upset that he cannot update his facebook by...</td>\n",
              "      <td>0</td>\n",
              "      <td>21</td>\n",
              "      <td>111</td>\n",
              "      <td>4.285714</td>\n",
              "      <td>9</td>\n",
              "      <td>0</td>\n",
              "      <td>0</td>\n",
              "      <td>0</td>\n",
              "      <td>0</td>\n",
              "      <td>[]</td>\n",
              "      <td>0</td>\n",
              "      <td>0</td>\n",
              "    </tr>\n",
              "    <tr>\n",
              "      <th>2</th>\n",
              "      <td>kenichan i dived many times for the ball manag...</td>\n",
              "      <td>0</td>\n",
              "      <td>18</td>\n",
              "      <td>89</td>\n",
              "      <td>3.944444</td>\n",
              "      <td>7</td>\n",
              "      <td>0</td>\n",
              "      <td>1</td>\n",
              "      <td>0</td>\n",
              "      <td>1</td>\n",
              "      <td>[]</td>\n",
              "      <td>0</td>\n",
              "      <td>0</td>\n",
              "    </tr>\n",
              "    <tr>\n",
              "      <th>3</th>\n",
              "      <td>my whole body feels itchy and like its on fire</td>\n",
              "      <td>0</td>\n",
              "      <td>10</td>\n",
              "      <td>47</td>\n",
              "      <td>3.700000</td>\n",
              "      <td>5</td>\n",
              "      <td>0</td>\n",
              "      <td>0</td>\n",
              "      <td>0</td>\n",
              "      <td>0</td>\n",
              "      <td>[]</td>\n",
              "      <td>0</td>\n",
              "      <td>0</td>\n",
              "    </tr>\n",
              "    <tr>\n",
              "      <th>4</th>\n",
              "      <td>nationwideclass no it is not behaving at all i...</td>\n",
              "      <td>0</td>\n",
              "      <td>21</td>\n",
              "      <td>111</td>\n",
              "      <td>4.285714</td>\n",
              "      <td>10</td>\n",
              "      <td>0</td>\n",
              "      <td>1</td>\n",
              "      <td>0</td>\n",
              "      <td>1</td>\n",
              "      <td>[]</td>\n",
              "      <td>0</td>\n",
              "      <td>0</td>\n",
              "    </tr>\n",
              "  </tbody>\n",
              "</table>\n",
              "</div>"
            ],
            "text/plain": [
              "                                              tweets  ...  urls_flag\n",
              "0  switchfoot - awww that is a bummer you shoulda...  ...          1\n",
              "1  is upset that he cannot update his facebook by...  ...          0\n",
              "2  kenichan i dived many times for the ball manag...  ...          0\n",
              "3     my whole body feels itchy and like its on fire  ...          0\n",
              "4  nationwideclass no it is not behaving at all i...  ...          0\n",
              "\n",
              "[5 rows x 13 columns]"
            ]
          },
          "metadata": {
            "tags": []
          },
          "execution_count": 86
        }
      ]
    },
    {
      "cell_type": "markdown",
      "metadata": {
        "id": "uzppjX_hJBoX"
      },
      "source": [
        "### **Spacy and NLP**"
      ]
    },
    {
      "cell_type": "markdown",
      "metadata": {
        "id": "BWPCV4b5JGGO"
      },
      "source": [
        "### **Remove stop words**"
      ]
    },
    {
      "cell_type": "code",
      "metadata": {
        "id": "YjQf1K1OEOSH"
      },
      "source": [
        "df['tweets'] = df['tweets'].apply(lambda x: \" \".join([t for t in x.split() if t not in STOP_WORDS]))"
      ],
      "execution_count": 87,
      "outputs": []
    },
    {
      "cell_type": "code",
      "metadata": {
        "colab": {
          "base_uri": "https://localhost:8080/",
          "height": 255
        },
        "id": "sIX1myX4EOWF",
        "outputId": "e402ecc4-df3f-47d0-c16d-8f3552f37203"
      },
      "source": [
        "df.head()"
      ],
      "execution_count": 88,
      "outputs": [
        {
          "output_type": "execute_result",
          "data": {
            "text/html": [
              "<div>\n",
              "<style scoped>\n",
              "    .dataframe tbody tr th:only-of-type {\n",
              "        vertical-align: middle;\n",
              "    }\n",
              "\n",
              "    .dataframe tbody tr th {\n",
              "        vertical-align: top;\n",
              "    }\n",
              "\n",
              "    .dataframe thead th {\n",
              "        text-align: right;\n",
              "    }\n",
              "</style>\n",
              "<table border=\"1\" class=\"dataframe\">\n",
              "  <thead>\n",
              "    <tr style=\"text-align: right;\">\n",
              "      <th></th>\n",
              "      <th>tweets</th>\n",
              "      <th>sentiment</th>\n",
              "      <th>word_counts</th>\n",
              "      <th>char_counts</th>\n",
              "      <th>avg_word_len</th>\n",
              "      <th>stop_words_len</th>\n",
              "      <th>hashtag_counts</th>\n",
              "      <th>mentions_counts</th>\n",
              "      <th>numeric_count</th>\n",
              "      <th>upper_count</th>\n",
              "      <th>emails</th>\n",
              "      <th>emails_count</th>\n",
              "      <th>urls_flag</th>\n",
              "    </tr>\n",
              "  </thead>\n",
              "  <tbody>\n",
              "    <tr>\n",
              "      <th>0</th>\n",
              "      <td>switchfoot - awww bummer shoulda got david car...</td>\n",
              "      <td>0</td>\n",
              "      <td>19</td>\n",
              "      <td>115</td>\n",
              "      <td>5.052632</td>\n",
              "      <td>4</td>\n",
              "      <td>0</td>\n",
              "      <td>1</td>\n",
              "      <td>0</td>\n",
              "      <td>1</td>\n",
              "      <td>[]</td>\n",
              "      <td>0</td>\n",
              "      <td>1</td>\n",
              "    </tr>\n",
              "    <tr>\n",
              "      <th>1</th>\n",
              "      <td>upset update facebook texting cry result schoo...</td>\n",
              "      <td>0</td>\n",
              "      <td>21</td>\n",
              "      <td>111</td>\n",
              "      <td>4.285714</td>\n",
              "      <td>9</td>\n",
              "      <td>0</td>\n",
              "      <td>0</td>\n",
              "      <td>0</td>\n",
              "      <td>0</td>\n",
              "      <td>[]</td>\n",
              "      <td>0</td>\n",
              "      <td>0</td>\n",
              "    </tr>\n",
              "    <tr>\n",
              "      <th>2</th>\n",
              "      <td>kenichan dived times ball managed save 50 rest...</td>\n",
              "      <td>0</td>\n",
              "      <td>18</td>\n",
              "      <td>89</td>\n",
              "      <td>3.944444</td>\n",
              "      <td>7</td>\n",
              "      <td>0</td>\n",
              "      <td>1</td>\n",
              "      <td>0</td>\n",
              "      <td>1</td>\n",
              "      <td>[]</td>\n",
              "      <td>0</td>\n",
              "      <td>0</td>\n",
              "    </tr>\n",
              "    <tr>\n",
              "      <th>3</th>\n",
              "      <td>body feels itchy like fire</td>\n",
              "      <td>0</td>\n",
              "      <td>10</td>\n",
              "      <td>47</td>\n",
              "      <td>3.700000</td>\n",
              "      <td>5</td>\n",
              "      <td>0</td>\n",
              "      <td>0</td>\n",
              "      <td>0</td>\n",
              "      <td>0</td>\n",
              "      <td>[]</td>\n",
              "      <td>0</td>\n",
              "      <td>0</td>\n",
              "    </tr>\n",
              "    <tr>\n",
              "      <th>4</th>\n",
              "      <td>nationwideclass behaving mad</td>\n",
              "      <td>0</td>\n",
              "      <td>21</td>\n",
              "      <td>111</td>\n",
              "      <td>4.285714</td>\n",
              "      <td>10</td>\n",
              "      <td>0</td>\n",
              "      <td>1</td>\n",
              "      <td>0</td>\n",
              "      <td>1</td>\n",
              "      <td>[]</td>\n",
              "      <td>0</td>\n",
              "      <td>0</td>\n",
              "    </tr>\n",
              "  </tbody>\n",
              "</table>\n",
              "</div>"
            ],
            "text/plain": [
              "                                              tweets  ...  urls_flag\n",
              "0  switchfoot - awww bummer shoulda got david car...  ...          1\n",
              "1  upset update facebook texting cry result schoo...  ...          0\n",
              "2  kenichan dived times ball managed save 50 rest...  ...          0\n",
              "3                         body feels itchy like fire  ...          0\n",
              "4                       nationwideclass behaving mad  ...          0\n",
              "\n",
              "[5 rows x 13 columns]"
            ]
          },
          "metadata": {
            "tags": []
          },
          "execution_count": 88
        }
      ]
    },
    {
      "cell_type": "markdown",
      "metadata": {
        "id": "qoyZPz3vJg-o"
      },
      "source": [
        "### **Convert into base or root form of word**"
      ]
    },
    {
      "cell_type": "code",
      "metadata": {
        "id": "KwiFsWNpEOZr"
      },
      "source": [
        "def make_to_base(x):\n",
        "    x_list = []\n",
        "    doc = nlp(x)\n",
        "    \n",
        "    for token in doc:\n",
        "        lemma = str(token.lemma_)\n",
        "        if lemma == '-PRON-' or lemma == 'be': # if this is not mentioned, some words are converted into -PRON- and be.\n",
        "            lemma = token.text\n",
        "        x_list.append(lemma)\n",
        "    return \" \".join(x_list)"
      ],
      "execution_count": 91,
      "outputs": []
    },
    {
      "cell_type": "code",
      "metadata": {
        "colab": {
          "base_uri": "https://localhost:8080/",
          "height": 341
        },
        "id": "JT93tn2WEOdK",
        "outputId": "2471e785-c553-4c1d-f994-d06ee62f4033"
      },
      "source": [
        "df['tweets'] = df['tweets'].apply(lambda x: make_to_base(x))  # stopped due to time consumption"
      ],
      "execution_count": 92,
      "outputs": [
        {
          "output_type": "error",
          "ename": "KeyboardInterrupt",
          "evalue": "ignored",
          "traceback": [
            "\u001b[0;31m---------------------------------------------------------------------------\u001b[0m",
            "\u001b[0;31mKeyboardInterrupt\u001b[0m                         Traceback (most recent call last)",
            "\u001b[0;32m<ipython-input-92-bbb264fcaea2>\u001b[0m in \u001b[0;36m<module>\u001b[0;34m()\u001b[0m\n\u001b[0;32m----> 1\u001b[0;31m \u001b[0mdf\u001b[0m\u001b[0;34m[\u001b[0m\u001b[0;34m'tweets'\u001b[0m\u001b[0;34m]\u001b[0m \u001b[0;34m=\u001b[0m \u001b[0mdf\u001b[0m\u001b[0;34m[\u001b[0m\u001b[0;34m'tweets'\u001b[0m\u001b[0;34m]\u001b[0m\u001b[0;34m.\u001b[0m\u001b[0mapply\u001b[0m\u001b[0;34m(\u001b[0m\u001b[0;32mlambda\u001b[0m \u001b[0mx\u001b[0m\u001b[0;34m:\u001b[0m \u001b[0mmake_to_base\u001b[0m\u001b[0;34m(\u001b[0m\u001b[0mx\u001b[0m\u001b[0;34m)\u001b[0m\u001b[0;34m)\u001b[0m\u001b[0;34m\u001b[0m\u001b[0;34m\u001b[0m\u001b[0m\n\u001b[0m",
            "\u001b[0;32m/usr/local/lib/python3.7/dist-packages/pandas/core/series.py\u001b[0m in \u001b[0;36mapply\u001b[0;34m(self, func, convert_dtype, args, **kwds)\u001b[0m\n\u001b[1;32m   4211\u001b[0m             \u001b[0;32melse\u001b[0m\u001b[0;34m:\u001b[0m\u001b[0;34m\u001b[0m\u001b[0;34m\u001b[0m\u001b[0m\n\u001b[1;32m   4212\u001b[0m                 \u001b[0mvalues\u001b[0m \u001b[0;34m=\u001b[0m \u001b[0mself\u001b[0m\u001b[0;34m.\u001b[0m\u001b[0mastype\u001b[0m\u001b[0;34m(\u001b[0m\u001b[0mobject\u001b[0m\u001b[0;34m)\u001b[0m\u001b[0;34m.\u001b[0m\u001b[0m_values\u001b[0m\u001b[0;34m\u001b[0m\u001b[0;34m\u001b[0m\u001b[0m\n\u001b[0;32m-> 4213\u001b[0;31m                 \u001b[0mmapped\u001b[0m \u001b[0;34m=\u001b[0m \u001b[0mlib\u001b[0m\u001b[0;34m.\u001b[0m\u001b[0mmap_infer\u001b[0m\u001b[0;34m(\u001b[0m\u001b[0mvalues\u001b[0m\u001b[0;34m,\u001b[0m \u001b[0mf\u001b[0m\u001b[0;34m,\u001b[0m \u001b[0mconvert\u001b[0m\u001b[0;34m=\u001b[0m\u001b[0mconvert_dtype\u001b[0m\u001b[0;34m)\u001b[0m\u001b[0;34m\u001b[0m\u001b[0;34m\u001b[0m\u001b[0m\n\u001b[0m\u001b[1;32m   4214\u001b[0m \u001b[0;34m\u001b[0m\u001b[0m\n\u001b[1;32m   4215\u001b[0m         \u001b[0;32mif\u001b[0m \u001b[0mlen\u001b[0m\u001b[0;34m(\u001b[0m\u001b[0mmapped\u001b[0m\u001b[0;34m)\u001b[0m \u001b[0;32mand\u001b[0m \u001b[0misinstance\u001b[0m\u001b[0;34m(\u001b[0m\u001b[0mmapped\u001b[0m\u001b[0;34m[\u001b[0m\u001b[0;36m0\u001b[0m\u001b[0;34m]\u001b[0m\u001b[0;34m,\u001b[0m \u001b[0mSeries\u001b[0m\u001b[0;34m)\u001b[0m\u001b[0;34m:\u001b[0m\u001b[0;34m\u001b[0m\u001b[0;34m\u001b[0m\u001b[0m\n",
            "\u001b[0;32mpandas/_libs/lib.pyx\u001b[0m in \u001b[0;36mpandas._libs.lib.map_infer\u001b[0;34m()\u001b[0m\n",
            "\u001b[0;32m<ipython-input-92-bbb264fcaea2>\u001b[0m in \u001b[0;36m<lambda>\u001b[0;34m(x)\u001b[0m\n\u001b[0;32m----> 1\u001b[0;31m \u001b[0mdf\u001b[0m\u001b[0;34m[\u001b[0m\u001b[0;34m'tweets'\u001b[0m\u001b[0;34m]\u001b[0m \u001b[0;34m=\u001b[0m \u001b[0mdf\u001b[0m\u001b[0;34m[\u001b[0m\u001b[0;34m'tweets'\u001b[0m\u001b[0;34m]\u001b[0m\u001b[0;34m.\u001b[0m\u001b[0mapply\u001b[0m\u001b[0;34m(\u001b[0m\u001b[0;32mlambda\u001b[0m \u001b[0mx\u001b[0m\u001b[0;34m:\u001b[0m \u001b[0mmake_to_base\u001b[0m\u001b[0;34m(\u001b[0m\u001b[0mx\u001b[0m\u001b[0;34m)\u001b[0m\u001b[0;34m)\u001b[0m\u001b[0;34m\u001b[0m\u001b[0;34m\u001b[0m\u001b[0m\n\u001b[0m",
            "\u001b[0;32m<ipython-input-91-a1db692efe87>\u001b[0m in \u001b[0;36mmake_to_base\u001b[0;34m(x)\u001b[0m\n\u001b[1;32m      4\u001b[0m \u001b[0;34m\u001b[0m\u001b[0m\n\u001b[1;32m      5\u001b[0m     \u001b[0;32mfor\u001b[0m \u001b[0mtoken\u001b[0m \u001b[0;32min\u001b[0m \u001b[0mdoc\u001b[0m\u001b[0;34m:\u001b[0m\u001b[0;34m\u001b[0m\u001b[0;34m\u001b[0m\u001b[0m\n\u001b[0;32m----> 6\u001b[0;31m         \u001b[0mlemma\u001b[0m \u001b[0;34m=\u001b[0m \u001b[0mstr\u001b[0m\u001b[0;34m(\u001b[0m\u001b[0mtoken\u001b[0m\u001b[0;34m.\u001b[0m\u001b[0mlemma_\u001b[0m\u001b[0;34m)\u001b[0m\u001b[0;34m\u001b[0m\u001b[0;34m\u001b[0m\u001b[0m\n\u001b[0m\u001b[1;32m      7\u001b[0m         \u001b[0;32mif\u001b[0m \u001b[0mlemma\u001b[0m \u001b[0;34m==\u001b[0m \u001b[0;34m'-PRON-'\u001b[0m \u001b[0;32mor\u001b[0m \u001b[0mlemma\u001b[0m \u001b[0;34m==\u001b[0m \u001b[0;34m'be'\u001b[0m\u001b[0;34m:\u001b[0m\u001b[0;34m\u001b[0m\u001b[0;34m\u001b[0m\u001b[0m\n\u001b[1;32m      8\u001b[0m             \u001b[0mlemma\u001b[0m \u001b[0;34m=\u001b[0m \u001b[0mtoken\u001b[0m\u001b[0;34m.\u001b[0m\u001b[0mtext\u001b[0m\u001b[0;34m\u001b[0m\u001b[0;34m\u001b[0m\u001b[0m\n",
            "\u001b[0;31mKeyboardInterrupt\u001b[0m: "
          ]
        }
      ]
    },
    {
      "cell_type": "code",
      "metadata": {
        "colab": {
          "base_uri": "https://localhost:8080/",
          "height": 255
        },
        "id": "yg-uxGHhLZkX",
        "outputId": "4aa8318b-72e1-4171-83be-8b9ac6b375de"
      },
      "source": [
        "df.head()"
      ],
      "execution_count": 93,
      "outputs": [
        {
          "output_type": "execute_result",
          "data": {
            "text/html": [
              "<div>\n",
              "<style scoped>\n",
              "    .dataframe tbody tr th:only-of-type {\n",
              "        vertical-align: middle;\n",
              "    }\n",
              "\n",
              "    .dataframe tbody tr th {\n",
              "        vertical-align: top;\n",
              "    }\n",
              "\n",
              "    .dataframe thead th {\n",
              "        text-align: right;\n",
              "    }\n",
              "</style>\n",
              "<table border=\"1\" class=\"dataframe\">\n",
              "  <thead>\n",
              "    <tr style=\"text-align: right;\">\n",
              "      <th></th>\n",
              "      <th>tweets</th>\n",
              "      <th>sentiment</th>\n",
              "      <th>word_counts</th>\n",
              "      <th>char_counts</th>\n",
              "      <th>avg_word_len</th>\n",
              "      <th>stop_words_len</th>\n",
              "      <th>hashtag_counts</th>\n",
              "      <th>mentions_counts</th>\n",
              "      <th>numeric_count</th>\n",
              "      <th>upper_count</th>\n",
              "      <th>emails</th>\n",
              "      <th>emails_count</th>\n",
              "      <th>urls_flag</th>\n",
              "    </tr>\n",
              "  </thead>\n",
              "  <tbody>\n",
              "    <tr>\n",
              "      <th>0</th>\n",
              "      <td>switchfoot - awww bummer shoulda got david car...</td>\n",
              "      <td>0</td>\n",
              "      <td>19</td>\n",
              "      <td>115</td>\n",
              "      <td>5.052632</td>\n",
              "      <td>4</td>\n",
              "      <td>0</td>\n",
              "      <td>1</td>\n",
              "      <td>0</td>\n",
              "      <td>1</td>\n",
              "      <td>[]</td>\n",
              "      <td>0</td>\n",
              "      <td>1</td>\n",
              "    </tr>\n",
              "    <tr>\n",
              "      <th>1</th>\n",
              "      <td>upset update facebook texting cry result schoo...</td>\n",
              "      <td>0</td>\n",
              "      <td>21</td>\n",
              "      <td>111</td>\n",
              "      <td>4.285714</td>\n",
              "      <td>9</td>\n",
              "      <td>0</td>\n",
              "      <td>0</td>\n",
              "      <td>0</td>\n",
              "      <td>0</td>\n",
              "      <td>[]</td>\n",
              "      <td>0</td>\n",
              "      <td>0</td>\n",
              "    </tr>\n",
              "    <tr>\n",
              "      <th>2</th>\n",
              "      <td>kenichan dived times ball managed save 50 rest...</td>\n",
              "      <td>0</td>\n",
              "      <td>18</td>\n",
              "      <td>89</td>\n",
              "      <td>3.944444</td>\n",
              "      <td>7</td>\n",
              "      <td>0</td>\n",
              "      <td>1</td>\n",
              "      <td>0</td>\n",
              "      <td>1</td>\n",
              "      <td>[]</td>\n",
              "      <td>0</td>\n",
              "      <td>0</td>\n",
              "    </tr>\n",
              "    <tr>\n",
              "      <th>3</th>\n",
              "      <td>body feels itchy like fire</td>\n",
              "      <td>0</td>\n",
              "      <td>10</td>\n",
              "      <td>47</td>\n",
              "      <td>3.700000</td>\n",
              "      <td>5</td>\n",
              "      <td>0</td>\n",
              "      <td>0</td>\n",
              "      <td>0</td>\n",
              "      <td>0</td>\n",
              "      <td>[]</td>\n",
              "      <td>0</td>\n",
              "      <td>0</td>\n",
              "    </tr>\n",
              "    <tr>\n",
              "      <th>4</th>\n",
              "      <td>nationwideclass behaving mad</td>\n",
              "      <td>0</td>\n",
              "      <td>21</td>\n",
              "      <td>111</td>\n",
              "      <td>4.285714</td>\n",
              "      <td>10</td>\n",
              "      <td>0</td>\n",
              "      <td>1</td>\n",
              "      <td>0</td>\n",
              "      <td>1</td>\n",
              "      <td>[]</td>\n",
              "      <td>0</td>\n",
              "      <td>0</td>\n",
              "    </tr>\n",
              "  </tbody>\n",
              "</table>\n",
              "</div>"
            ],
            "text/plain": [
              "                                              tweets  ...  urls_flag\n",
              "0  switchfoot - awww bummer shoulda got david car...  ...          1\n",
              "1  upset update facebook texting cry result schoo...  ...          0\n",
              "2  kenichan dived times ball managed save 50 rest...  ...          0\n",
              "3                         body feels itchy like fire  ...          0\n",
              "4                       nationwideclass behaving mad  ...          0\n",
              "\n",
              "[5 rows x 13 columns]"
            ]
          },
          "metadata": {
            "tags": []
          },
          "execution_count": 93
        }
      ]
    },
    {
      "cell_type": "markdown",
      "metadata": {
        "id": "TF5abqYXLBvg"
      },
      "source": [
        "### **Common words removal**"
      ]
    },
    {
      "cell_type": "code",
      "metadata": {
        "colab": {
          "base_uri": "https://localhost:8080/",
          "height": 52
        },
        "id": "1TjyXgvdEO_k",
        "outputId": "fc586649-a58c-49fa-e459-32d0dc82c6ab"
      },
      "source": [
        "' '.join(df.head()['tweets'])"
      ],
      "execution_count": 95,
      "outputs": [
        {
          "output_type": "execute_result",
          "data": {
            "application/vnd.google.colaboratory.intrinsic+json": {
              "type": "string"
            },
            "text/plain": [
              "'switchfoot - awww bummer shoulda got david carr day d upset update facebook texting cry result school today blah kenichan dived times ball managed save 50 rest bounds body feels itchy like fire nationwideclass behaving mad'"
            ]
          },
          "metadata": {
            "tags": []
          },
          "execution_count": 95
        }
      ]
    },
    {
      "cell_type": "code",
      "metadata": {
        "id": "D35CV5EMEPEq"
      },
      "source": [
        "text = ' '.join(df['tweets'])"
      ],
      "execution_count": 97,
      "outputs": []
    },
    {
      "cell_type": "code",
      "metadata": {
        "id": "RgL3E87CEPIu"
      },
      "source": [
        "text = text.split()"
      ],
      "execution_count": 98,
      "outputs": []
    },
    {
      "cell_type": "code",
      "metadata": {
        "id": "x-7puDmeMCMg"
      },
      "source": [
        "freq_comm = pd.Series(text).value_counts()"
      ],
      "execution_count": 99,
      "outputs": []
    },
    {
      "cell_type": "code",
      "metadata": {
        "colab": {
          "base_uri": "https://localhost:8080/"
        },
        "id": "dzYJxNVSMCP5",
        "outputId": "7928123c-5b08-47dd-dcf8-cf04225e8aa1"
      },
      "source": [
        "freq_comm"
      ],
      "execution_count": 100,
      "outputs": [
        {
          "output_type": "execute_result",
          "data": {
            "text/plain": [
              "good            89366\n",
              "day             82299\n",
              "like            77735\n",
              "-               69662\n",
              "today           64512\n",
              "                ...  \n",
              "swj                 1\n",
              "babababa            1\n",
              "14u                 1\n",
              "univeristity        1\n",
              "maferzz             1\n",
              "Length: 787867, dtype: int64"
            ]
          },
          "metadata": {
            "tags": []
          },
          "execution_count": 100
        }
      ]
    },
    {
      "cell_type": "code",
      "metadata": {
        "id": "vvwuf5sUMCU7"
      },
      "source": [
        "f20 = freq_comm[:20]"
      ],
      "execution_count": 102,
      "outputs": []
    },
    {
      "cell_type": "code",
      "metadata": {
        "colab": {
          "base_uri": "https://localhost:8080/"
        },
        "id": "-Iun01D0MCcu",
        "outputId": "5694d725-e7d3-47c0-fa06-69c09b67e5fb"
      },
      "source": [
        "#we want to remove top 20 occuring words\n",
        "f20\n"
      ],
      "execution_count": 103,
      "outputs": [
        {
          "output_type": "execute_result",
          "data": {
            "text/plain": [
              "good      89366\n",
              "day       82299\n",
              "like      77735\n",
              "-         69662\n",
              "today     64512\n",
              "going     64078\n",
              "love      63421\n",
              "work      62804\n",
              "got       60749\n",
              "time      56081\n",
              "lol       55094\n",
              "know      51172\n",
              "im        50147\n",
              "want      42070\n",
              "new       41995\n",
              "think     41040\n",
              "night     41029\n",
              "amp       40616\n",
              "thanks    39311\n",
              "home      39168\n",
              "dtype: int64"
            ]
          },
          "metadata": {
            "tags": []
          },
          "execution_count": 103
        }
      ]
    },
    {
      "cell_type": "code",
      "metadata": {
        "id": "1-xV_k2JMCj6"
      },
      "source": [
        "df['tweets'] = df['tweets'].apply(lambda x : ' '.join([t for t in x.split() if t not in f20]))"
      ],
      "execution_count": 106,
      "outputs": []
    },
    {
      "cell_type": "code",
      "metadata": {
        "colab": {
          "base_uri": "https://localhost:8080/",
          "height": 255
        },
        "id": "Dg4pWPsUMCw_",
        "outputId": "3eec8bc8-e616-4e66-f7ae-c36a545c96fd"
      },
      "source": [
        "df.head()"
      ],
      "execution_count": 107,
      "outputs": [
        {
          "output_type": "execute_result",
          "data": {
            "text/html": [
              "<div>\n",
              "<style scoped>\n",
              "    .dataframe tbody tr th:only-of-type {\n",
              "        vertical-align: middle;\n",
              "    }\n",
              "\n",
              "    .dataframe tbody tr th {\n",
              "        vertical-align: top;\n",
              "    }\n",
              "\n",
              "    .dataframe thead th {\n",
              "        text-align: right;\n",
              "    }\n",
              "</style>\n",
              "<table border=\"1\" class=\"dataframe\">\n",
              "  <thead>\n",
              "    <tr style=\"text-align: right;\">\n",
              "      <th></th>\n",
              "      <th>tweets</th>\n",
              "      <th>sentiment</th>\n",
              "      <th>word_counts</th>\n",
              "      <th>char_counts</th>\n",
              "      <th>avg_word_len</th>\n",
              "      <th>stop_words_len</th>\n",
              "      <th>hashtag_counts</th>\n",
              "      <th>mentions_counts</th>\n",
              "      <th>numeric_count</th>\n",
              "      <th>upper_count</th>\n",
              "      <th>emails</th>\n",
              "      <th>emails_count</th>\n",
              "      <th>urls_flag</th>\n",
              "    </tr>\n",
              "  </thead>\n",
              "  <tbody>\n",
              "    <tr>\n",
              "      <th>0</th>\n",
              "      <td>switchfoot awww bummer shoulda david carr d</td>\n",
              "      <td>0</td>\n",
              "      <td>19</td>\n",
              "      <td>115</td>\n",
              "      <td>5.052632</td>\n",
              "      <td>4</td>\n",
              "      <td>0</td>\n",
              "      <td>1</td>\n",
              "      <td>0</td>\n",
              "      <td>1</td>\n",
              "      <td>[]</td>\n",
              "      <td>0</td>\n",
              "      <td>1</td>\n",
              "    </tr>\n",
              "    <tr>\n",
              "      <th>1</th>\n",
              "      <td>upset update facebook texting cry result schoo...</td>\n",
              "      <td>0</td>\n",
              "      <td>21</td>\n",
              "      <td>111</td>\n",
              "      <td>4.285714</td>\n",
              "      <td>9</td>\n",
              "      <td>0</td>\n",
              "      <td>0</td>\n",
              "      <td>0</td>\n",
              "      <td>0</td>\n",
              "      <td>[]</td>\n",
              "      <td>0</td>\n",
              "      <td>0</td>\n",
              "    </tr>\n",
              "    <tr>\n",
              "      <th>2</th>\n",
              "      <td>kenichan dived times ball managed save 50 rest...</td>\n",
              "      <td>0</td>\n",
              "      <td>18</td>\n",
              "      <td>89</td>\n",
              "      <td>3.944444</td>\n",
              "      <td>7</td>\n",
              "      <td>0</td>\n",
              "      <td>1</td>\n",
              "      <td>0</td>\n",
              "      <td>1</td>\n",
              "      <td>[]</td>\n",
              "      <td>0</td>\n",
              "      <td>0</td>\n",
              "    </tr>\n",
              "    <tr>\n",
              "      <th>3</th>\n",
              "      <td>body feels itchy fire</td>\n",
              "      <td>0</td>\n",
              "      <td>10</td>\n",
              "      <td>47</td>\n",
              "      <td>3.700000</td>\n",
              "      <td>5</td>\n",
              "      <td>0</td>\n",
              "      <td>0</td>\n",
              "      <td>0</td>\n",
              "      <td>0</td>\n",
              "      <td>[]</td>\n",
              "      <td>0</td>\n",
              "      <td>0</td>\n",
              "    </tr>\n",
              "    <tr>\n",
              "      <th>4</th>\n",
              "      <td>nationwideclass behaving mad</td>\n",
              "      <td>0</td>\n",
              "      <td>21</td>\n",
              "      <td>111</td>\n",
              "      <td>4.285714</td>\n",
              "      <td>10</td>\n",
              "      <td>0</td>\n",
              "      <td>1</td>\n",
              "      <td>0</td>\n",
              "      <td>1</td>\n",
              "      <td>[]</td>\n",
              "      <td>0</td>\n",
              "      <td>0</td>\n",
              "    </tr>\n",
              "  </tbody>\n",
              "</table>\n",
              "</div>"
            ],
            "text/plain": [
              "                                              tweets  ...  urls_flag\n",
              "0        switchfoot awww bummer shoulda david carr d  ...          1\n",
              "1  upset update facebook texting cry result schoo...  ...          0\n",
              "2  kenichan dived times ball managed save 50 rest...  ...          0\n",
              "3                              body feels itchy fire  ...          0\n",
              "4                       nationwideclass behaving mad  ...          0\n",
              "\n",
              "[5 rows x 13 columns]"
            ]
          },
          "metadata": {
            "tags": []
          },
          "execution_count": 107
        }
      ]
    },
    {
      "cell_type": "markdown",
      "metadata": {
        "id": "MBd8NpRjQnlF"
      },
      "source": [
        "### **Rare words removal**"
      ]
    },
    {
      "cell_type": "code",
      "metadata": {
        "id": "egkINZfnMC1R"
      },
      "source": [
        "rare20 = freq_comm[-20:]"
      ],
      "execution_count": 108,
      "outputs": []
    },
    {
      "cell_type": "code",
      "metadata": {
        "colab": {
          "base_uri": "https://localhost:8080/"
        },
        "id": "onPKOzevMC52",
        "outputId": "267c5fbc-b7a0-4c5b-95eb-d88c62c84752"
      },
      "source": [
        "rare20"
      ],
      "execution_count": 109,
      "outputs": [
        {
          "output_type": "execute_result",
          "data": {
            "text/plain": [
              "loveinjoeinct      1\n",
              "plansnext          1\n",
              "thatdreams         1\n",
              "wes8477            1\n",
              "romabeauty         1\n",
              "cusiosity          1\n",
              "re-writeable       1\n",
              "imjustmicca        1\n",
              "napback            1\n",
              "flowerbutterfly    1\n",
              "finians            1\n",
              "revisionmeh        1\n",
              "mattphotographs    1\n",
              "kt55bug            1\n",
              "1346               1\n",
              "swj                1\n",
              "babababa           1\n",
              "14u                1\n",
              "univeristity       1\n",
              "maferzz            1\n",
              "dtype: int64"
            ]
          },
          "metadata": {
            "tags": []
          },
          "execution_count": 109
        }
      ]
    },
    {
      "cell_type": "code",
      "metadata": {
        "id": "5zgP2krJMC97"
      },
      "source": [
        "rare = freq_comm[freq_comm.values == 1] # words which occur only one time. Since removing this will take a lot of time we use rare20"
      ],
      "execution_count": 112,
      "outputs": []
    },
    {
      "cell_type": "code",
      "metadata": {
        "colab": {
          "base_uri": "https://localhost:8080/"
        },
        "id": "-52FvjimEPN3",
        "outputId": "b27d9444-9b7c-459d-b1f4-7ed2f01f3dc6"
      },
      "source": [
        "rare"
      ],
      "execution_count": 111,
      "outputs": [
        {
          "output_type": "execute_result",
          "data": {
            "text/plain": [
              "nowcosta        1\n",
              "l4cey           1\n",
              "jtrinaa         1\n",
              "brazilwe        1\n",
              "ajnie           1\n",
              "               ..\n",
              "swj             1\n",
              "babababa        1\n",
              "14u             1\n",
              "univeristity    1\n",
              "maferzz         1\n",
              "Length: 536717, dtype: int64"
            ]
          },
          "metadata": {
            "tags": []
          },
          "execution_count": 111
        }
      ]
    },
    {
      "cell_type": "code",
      "metadata": {
        "id": "usOVocR0RCkL"
      },
      "source": [
        "df['tweets'] = df['tweets'].apply(lambda x : ' '.join([t for t in x.split() if t not in rare20]))"
      ],
      "execution_count": 113,
      "outputs": []
    },
    {
      "cell_type": "code",
      "metadata": {
        "colab": {
          "base_uri": "https://localhost:8080/",
          "height": 255
        },
        "id": "coWOBq6dRTE8",
        "outputId": "06617a93-d30b-4e10-e2c1-e2c4976217cf"
      },
      "source": [
        "df.head()"
      ],
      "execution_count": 114,
      "outputs": [
        {
          "output_type": "execute_result",
          "data": {
            "text/html": [
              "<div>\n",
              "<style scoped>\n",
              "    .dataframe tbody tr th:only-of-type {\n",
              "        vertical-align: middle;\n",
              "    }\n",
              "\n",
              "    .dataframe tbody tr th {\n",
              "        vertical-align: top;\n",
              "    }\n",
              "\n",
              "    .dataframe thead th {\n",
              "        text-align: right;\n",
              "    }\n",
              "</style>\n",
              "<table border=\"1\" class=\"dataframe\">\n",
              "  <thead>\n",
              "    <tr style=\"text-align: right;\">\n",
              "      <th></th>\n",
              "      <th>tweets</th>\n",
              "      <th>sentiment</th>\n",
              "      <th>word_counts</th>\n",
              "      <th>char_counts</th>\n",
              "      <th>avg_word_len</th>\n",
              "      <th>stop_words_len</th>\n",
              "      <th>hashtag_counts</th>\n",
              "      <th>mentions_counts</th>\n",
              "      <th>numeric_count</th>\n",
              "      <th>upper_count</th>\n",
              "      <th>emails</th>\n",
              "      <th>emails_count</th>\n",
              "      <th>urls_flag</th>\n",
              "    </tr>\n",
              "  </thead>\n",
              "  <tbody>\n",
              "    <tr>\n",
              "      <th>0</th>\n",
              "      <td>switchfoot awww bummer shoulda david carr d</td>\n",
              "      <td>0</td>\n",
              "      <td>19</td>\n",
              "      <td>115</td>\n",
              "      <td>5.052632</td>\n",
              "      <td>4</td>\n",
              "      <td>0</td>\n",
              "      <td>1</td>\n",
              "      <td>0</td>\n",
              "      <td>1</td>\n",
              "      <td>[]</td>\n",
              "      <td>0</td>\n",
              "      <td>1</td>\n",
              "    </tr>\n",
              "    <tr>\n",
              "      <th>1</th>\n",
              "      <td>upset update facebook texting cry result schoo...</td>\n",
              "      <td>0</td>\n",
              "      <td>21</td>\n",
              "      <td>111</td>\n",
              "      <td>4.285714</td>\n",
              "      <td>9</td>\n",
              "      <td>0</td>\n",
              "      <td>0</td>\n",
              "      <td>0</td>\n",
              "      <td>0</td>\n",
              "      <td>[]</td>\n",
              "      <td>0</td>\n",
              "      <td>0</td>\n",
              "    </tr>\n",
              "    <tr>\n",
              "      <th>2</th>\n",
              "      <td>kenichan dived times ball managed save 50 rest...</td>\n",
              "      <td>0</td>\n",
              "      <td>18</td>\n",
              "      <td>89</td>\n",
              "      <td>3.944444</td>\n",
              "      <td>7</td>\n",
              "      <td>0</td>\n",
              "      <td>1</td>\n",
              "      <td>0</td>\n",
              "      <td>1</td>\n",
              "      <td>[]</td>\n",
              "      <td>0</td>\n",
              "      <td>0</td>\n",
              "    </tr>\n",
              "    <tr>\n",
              "      <th>3</th>\n",
              "      <td>body feels itchy fire</td>\n",
              "      <td>0</td>\n",
              "      <td>10</td>\n",
              "      <td>47</td>\n",
              "      <td>3.700000</td>\n",
              "      <td>5</td>\n",
              "      <td>0</td>\n",
              "      <td>0</td>\n",
              "      <td>0</td>\n",
              "      <td>0</td>\n",
              "      <td>[]</td>\n",
              "      <td>0</td>\n",
              "      <td>0</td>\n",
              "    </tr>\n",
              "    <tr>\n",
              "      <th>4</th>\n",
              "      <td>nationwideclass behaving mad</td>\n",
              "      <td>0</td>\n",
              "      <td>21</td>\n",
              "      <td>111</td>\n",
              "      <td>4.285714</td>\n",
              "      <td>10</td>\n",
              "      <td>0</td>\n",
              "      <td>1</td>\n",
              "      <td>0</td>\n",
              "      <td>1</td>\n",
              "      <td>[]</td>\n",
              "      <td>0</td>\n",
              "      <td>0</td>\n",
              "    </tr>\n",
              "  </tbody>\n",
              "</table>\n",
              "</div>"
            ],
            "text/plain": [
              "                                              tweets  ...  urls_flag\n",
              "0        switchfoot awww bummer shoulda david carr d  ...          1\n",
              "1  upset update facebook texting cry result schoo...  ...          0\n",
              "2  kenichan dived times ball managed save 50 rest...  ...          0\n",
              "3                              body feels itchy fire  ...          0\n",
              "4                       nationwideclass behaving mad  ...          0\n",
              "\n",
              "[5 rows x 13 columns]"
            ]
          },
          "metadata": {
            "tags": []
          },
          "execution_count": 114
        }
      ]
    },
    {
      "cell_type": "markdown",
      "metadata": {
        "id": "f6s9M1kIRXGA"
      },
      "source": [
        "### **Word Cloud Visualization**"
      ]
    },
    {
      "cell_type": "code",
      "metadata": {
        "id": "OYayvoX0RTxu"
      },
      "source": [
        "x = ' '.join(text[:20000])"
      ],
      "execution_count": 116,
      "outputs": []
    },
    {
      "cell_type": "code",
      "metadata": {
        "colab": {
          "base_uri": "https://localhost:8080/",
          "height": 198
        },
        "id": "FZalVngiRZGs",
        "outputId": "219ebd00-b4b6-493d-baef-1eec7c2df7d2"
      },
      "source": [
        "wc = WordCloud(width = 800, height=400).generate(x)\n",
        "plt.imshow(wc)\n",
        "plt.axis('off')\n",
        "plt.show()"
      ],
      "execution_count": 117,
      "outputs": [
        {
          "output_type": "display_data",
          "data": {
            "image/png": "[encoded data removed]",
            "text/plain": [
              "<Figure size 432x288 with 1 Axes>"
            ]
          },
          "metadata": {
            "tags": [],
            "needs_background": "light"
          }
        }
      ]
    },
    {
      "cell_type": "markdown",
      "metadata": {
        "id": "UZ5l-C8qRrSK"
      },
      "source": [
        "### **Spelling Correction**"
      ]
    },
    {
      "cell_type": "code",
      "metadata": {
        "id": "60q4ETKiRZK3"
      },
      "source": [
        "x = 'tanks forr waching this vidio carri'"
      ],
      "execution_count": 119,
      "outputs": []
    },
    {
      "cell_type": "code",
      "metadata": {
        "id": "t6QYl25mTVKg"
      },
      "source": [
        "x = TextBlob(x).correct()"
      ],
      "execution_count": 120,
      "outputs": []
    },
    {
      "cell_type": "code",
      "metadata": {
        "colab": {
          "base_uri": "https://localhost:8080/"
        },
        "id": "oWF1touXTVSg",
        "outputId": "a9bde686-4496-4946-e680-a1db01ddc612"
      },
      "source": [
        "x"
      ],
      "execution_count": 121,
      "outputs": [
        {
          "output_type": "execute_result",
          "data": {
            "text/plain": [
              "TextBlob(\"tanks for watching this video carry\")"
            ]
          },
          "metadata": {
            "tags": []
          },
          "execution_count": 121
        }
      ]
    },
    {
      "cell_type": "markdown",
      "metadata": {
        "id": "BynX4j6VTgg-"
      },
      "source": [
        "### **Tokenization**"
      ]
    },
    {
      "cell_type": "code",
      "metadata": {
        "id": "IobmNOf7TVbO"
      },
      "source": [
        "x = 'thanks#watching this video. please like it'"
      ],
      "execution_count": 122,
      "outputs": []
    },
    {
      "cell_type": "code",
      "metadata": {
        "colab": {
          "base_uri": "https://localhost:8080/"
        },
        "id": "gNpjkk5rTViR",
        "outputId": "ea7e198d-375b-43c4-ae8c-b8b8a5e8d98f"
      },
      "source": [
        "TextBlob(x).words"
      ],
      "execution_count": 125,
      "outputs": [
        {
          "output_type": "execute_result",
          "data": {
            "text/plain": [
              "WordList(['thanks', 'watching', 'this', 'video', 'please', 'like', 'it'])"
            ]
          },
          "metadata": {
            "tags": []
          },
          "execution_count": 125
        }
      ]
    },
    {
      "cell_type": "code",
      "metadata": {
        "id": "edq5zlgvTVtK"
      },
      "source": [
        "doc = nlp(x)"
      ],
      "execution_count": 126,
      "outputs": []
    },
    {
      "cell_type": "code",
      "metadata": {
        "colab": {
          "base_uri": "https://localhost:8080/"
        },
        "id": "ctaIU8YyTV7Z",
        "outputId": "8d3d6de9-014e-4df4-a5cd-dac10c18c90c"
      },
      "source": [
        "for token in doc:\n",
        "  print(token)"
      ],
      "execution_count": 127,
      "outputs": [
        {
          "output_type": "stream",
          "text": [
            "thanks#watching\n",
            "this\n",
            "video\n",
            ".\n",
            "please\n",
            "like\n",
            "it\n"
          ],
          "name": "stdout"
        }
      ]
    },
    {
      "cell_type": "markdown",
      "metadata": {
        "id": "1a-VxNvfVDMx"
      },
      "source": [
        "### **Lemmatization**"
      ]
    },
    {
      "cell_type": "code",
      "metadata": {
        "id": "HH3Qz2oPTWAu"
      },
      "source": [
        "x = 'runs run running ran'"
      ],
      "execution_count": 129,
      "outputs": []
    },
    {
      "cell_type": "code",
      "metadata": {
        "colab": {
          "base_uri": "https://localhost:8080/"
        },
        "id": "Hi087AbRU_HP",
        "outputId": "54364a36-d1bc-4ff5-ada3-af27ba10edf0"
      },
      "source": [
        "for token in x.split():\n",
        "    print(Word(token).lemmatize())"
      ],
      "execution_count": 130,
      "outputs": [
        {
          "output_type": "stream",
          "text": [
            "run\n",
            "run\n",
            "running\n",
            "ran\n"
          ],
          "name": "stdout"
        }
      ]
    },
    {
      "cell_type": "code",
      "metadata": {
        "colab": {
          "base_uri": "https://localhost:8080/"
        },
        "id": "r6LMAhOpU_Nh",
        "outputId": "30ea79b3-253d-4ee0-bad7-06ca886dff2b"
      },
      "source": [
        "doc = nlp(x)\n",
        "for token in doc:\n",
        "    print(token.lemma_)"
      ],
      "execution_count": 131,
      "outputs": [
        {
          "output_type": "stream",
          "text": [
            "run\n",
            "run\n",
            "run\n",
            "run\n"
          ],
          "name": "stdout"
        }
      ]
    },
    {
      "cell_type": "markdown",
      "metadata": {
        "id": "QK6WVWVqVVPB"
      },
      "source": [
        "### **Detect Entities using NER of SpaCy**"
      ]
    },
    {
      "cell_type": "code",
      "metadata": {
        "id": "06DAJ0MCU_So"
      },
      "source": [
        "x = \"Breaking News: Donald Trump, the president of the USA is looking to sign a deal to mine the moon\""
      ],
      "execution_count": 132,
      "outputs": []
    },
    {
      "cell_type": "code",
      "metadata": {
        "colab": {
          "base_uri": "https://localhost:8080/"
        },
        "id": "lZxaPUmpU_XX",
        "outputId": "8b7de254-b18b-441d-eca9-9973e0fc64fd"
      },
      "source": [
        "doc = nlp(x)\n",
        "for ent in doc.ents:\n",
        "    print(ent.text + ' - ' + ent.label_ + ' - ' + str(spacy.explain(ent.label_)))"
      ],
      "execution_count": 133,
      "outputs": [
        {
          "output_type": "stream",
          "text": [
            "Donald Trump - PERSON - People, including fictional\n",
            "USA - GPE - Countries, cities, states\n"
          ],
          "name": "stdout"
        }
      ]
    },
    {
      "cell_type": "code",
      "metadata": {
        "colab": {
          "base_uri": "https://localhost:8080/",
          "height": 52
        },
        "id": "tXROBRa3U_c5",
        "outputId": "bbbb2dcc-ca32-4a50-d13d-a1bc4fbe2704"
      },
      "source": [
        "displacy.render(doc, style = 'ent', jupyter=True)"
      ],
      "execution_count": 135,
      "outputs": [
        {
          "output_type": "display_data",
          "data": {
            "text/html": [
              "<span class=\"tex2jax_ignore\"><div class=\"entities\" style=\"line-height: 2.5; direction: ltr\">Breaking News: \n",
              "<mark class=\"entity\" style=\"background: #aa9cfc; padding: 0.45em 0.6em; margin: 0 0.25em; line-height: 1; border-radius: 0.35em;\">\n",
              "    Donald Trump\n",
              "    <span style=\"font-size: 0.8em; font-weight: bold; line-height: 1; border-radius: 0.35em; text-transform: uppercase; vertical-align: middle; margin-left: 0.5rem\">PERSON</span>\n",
              "</mark>\n",
              ", the president of the \n",
              "<mark class=\"entity\" style=\"background: #feca74; padding: 0.45em 0.6em; margin: 0 0.25em; line-height: 1; border-radius: 0.35em;\">\n",
              "    USA\n",
              "    <span style=\"font-size: 0.8em; font-weight: bold; line-height: 1; border-radius: 0.35em; text-transform: uppercase; vertical-align: middle; margin-left: 0.5rem\">GPE</span>\n",
              "</mark>\n",
              " is looking to sign a deal to mine the moon</div></span>"
            ],
            "text/plain": [
              "<IPython.core.display.HTML object>"
            ]
          },
          "metadata": {
            "tags": []
          }
        }
      ]
    },
    {
      "cell_type": "markdown",
      "metadata": {
        "id": "iA5Xf_juZ8d1"
      },
      "source": [
        "### **Detecting Nouns**"
      ]
    },
    {
      "cell_type": "code",
      "metadata": {
        "colab": {
          "base_uri": "https://localhost:8080/"
        },
        "id": "IzBtTZCRU_j_",
        "outputId": "b853b056-e573-4f03-9017-551a5044d12f"
      },
      "source": [
        "for noun in doc.noun_chunks:\n",
        "    print(noun)"
      ],
      "execution_count": 136,
      "outputs": [
        {
          "output_type": "stream",
          "text": [
            "Breaking News\n",
            "Donald Trump\n",
            "the president\n",
            "the USA\n",
            "a deal\n",
            "the moon\n"
          ],
          "name": "stdout"
        }
      ]
    },
    {
      "cell_type": "markdown",
      "metadata": {
        "id": "lnmgQTPfaCTe"
      },
      "source": [
        "### **Translation and Language Detection**"
      ]
    },
    {
      "cell_type": "markdown",
      "metadata": {
        "id": "RP006j3AaHvl"
      },
      "source": [
        "Language Code: https://www.loc.gov/standards/iso639-2/php/code_list.php"
      ]
    },
    {
      "cell_type": "code",
      "metadata": {
        "id": "XuUkVbGOU_oc"
      },
      "source": [
        "tb = TextBlob(x)"
      ],
      "execution_count": 137,
      "outputs": []
    },
    {
      "cell_type": "code",
      "metadata": {
        "colab": {
          "base_uri": "https://localhost:8080/",
          "height": 35
        },
        "id": "imHXg6I-aEg4",
        "outputId": "dd237b38-c7cd-4462-b9b9-204832f0b9b8"
      },
      "source": [
        "tb.detect_language()"
      ],
      "execution_count": 138,
      "outputs": [
        {
          "output_type": "execute_result",
          "data": {
            "application/vnd.google.colaboratory.intrinsic+json": {
              "type": "string"
            },
            "text/plain": [
              "'en'"
            ]
          },
          "metadata": {
            "tags": []
          },
          "execution_count": 138
        }
      ]
    },
    {
      "cell_type": "code",
      "metadata": {
        "colab": {
          "base_uri": "https://localhost:8080/"
        },
        "id": "sQSJBWD9aEl6",
        "outputId": "f4bd8ae8-bdbc-452d-8023-900d1c80076c"
      },
      "source": [
        "tb.translate(to='ml')"
      ],
      "execution_count": 142,
      "outputs": [
        {
          "output_type": "execute_result",
          "data": {
            "text/plain": [
              "TextBlob(\"ബ്രേക്കിംഗ് ന്യൂസ്: യുഎസ്എ പ്രസിഡന്റ് ഡൊണാൾഡ് ട്രംപ് ചന്ദ്രനെ ഖനനം ചെയ്യുന്നതിനായി ഒരു കരാർ ഒപ്പിടാൻ നോക്കുന്നു\")"
            ]
          },
          "metadata": {
            "tags": []
          },
          "execution_count": 142
        }
      ]
    },
    {
      "cell_type": "markdown",
      "metadata": {
        "id": "eyl4y20Ra1R9"
      },
      "source": [
        ""
      ]
    },
    {
      "cell_type": "markdown",
      "metadata": {
        "id": "48RKYv5Fa1eD"
      },
      "source": [
        "### **Use inbuilt sentiment classifier**"
      ]
    },
    {
      "cell_type": "code",
      "metadata": {
        "id": "e3Lm0tdyaEqP"
      },
      "source": [
        "x = 'we all stands together to fight with corona virus. we will win together'"
      ],
      "execution_count": 144,
      "outputs": []
    },
    {
      "cell_type": "code",
      "metadata": {
        "id": "44x9U-vGaEvJ"
      },
      "source": [
        "tb = TextBlob(x, analyzer=NaiveBayesAnalyzer())"
      ],
      "execution_count": 146,
      "outputs": []
    },
    {
      "cell_type": "code",
      "metadata": {
        "colab": {
          "base_uri": "https://localhost:8080/"
        },
        "id": "s6MzXb3TaE0W",
        "outputId": "d431b2c1-a891-47d7-bd46-1f8f4db090e8"
      },
      "source": [
        "tb.sentiment"
      ],
      "execution_count": 147,
      "outputs": [
        {
          "output_type": "execute_result",
          "data": {
            "text/plain": [
              "Sentiment(classification='pos', p_pos=0.8259779151942094, p_neg=0.17402208480578962)"
            ]
          },
          "metadata": {
            "tags": []
          },
          "execution_count": 147
        }
      ]
    },
    {
      "cell_type": "code",
      "metadata": {
        "id": "idvufCkEaE4-"
      },
      "source": [
        "x = 'we all are sufering from corona'"
      ],
      "execution_count": 148,
      "outputs": []
    },
    {
      "cell_type": "code",
      "metadata": {
        "id": "77SH4pt8aE9R"
      },
      "source": [
        "tb = TextBlob(x, analyzer=NaiveBayesAnalyzer())"
      ],
      "execution_count": 149,
      "outputs": []
    },
    {
      "cell_type": "code",
      "metadata": {
        "colab": {
          "base_uri": "https://localhost:8080/"
        },
        "id": "wmVCdgu6aFC_",
        "outputId": "85c74e22-4f2a-4203-97f9-d1a1f0ff3f5f"
      },
      "source": [
        "tb.sentiment"
      ],
      "execution_count": 150,
      "outputs": [
        {
          "output_type": "execute_result",
          "data": {
            "text/plain": [
              "Sentiment(classification='pos', p_pos=0.75616044472398, p_neg=0.2438395552760203)"
            ]
          },
          "metadata": {
            "tags": []
          },
          "execution_count": 150
        }
      ]
    },
    {
      "cell_type": "markdown",
      "metadata": {
        "id": "etffoEQ3bQcn"
      },
      "source": [
        "### **Advanced Text Processing**"
      ]
    },
    {
      "cell_type": "markdown",
      "metadata": {
        "id": "pPxDs-UJbU-l"
      },
      "source": [
        "### **N-Grams**"
      ]
    },
    {
      "cell_type": "code",
      "metadata": {
        "colab": {
          "base_uri": "https://localhost:8080/",
          "height": 52
        },
        "id": "Ed2fwMwvTWG_",
        "outputId": "24f6386e-f036-444a-d86f-f4500491f714"
      },
      "source": [
        "'''An N-gram means a sequence of N words. So for example, “KGPtalkie blog” is a 2-gram (a bigram), “A KGPtalkie blog post” is a 4-gram, and “Write on KGPtalkie” is a 3-gram (trigram). Well, that wasn’t very interesting or exciting. True, but we still have to look at the probability used with n-grams, which is quite interesting.'''"
      ],
      "execution_count": 151,
      "outputs": [
        {
          "output_type": "execute_result",
          "data": {
            "application/vnd.google.colaboratory.intrinsic+json": {
              "type": "string"
            },
            "text/plain": [
              "'An N-gram means a sequence of N words. So for example, “KGPtalkie blog” is a 2-gram (a bigram), “A KGPtalkie blog post” is a 4-gram, and “Write on KGPtalkie” is a 3-gram (trigram). Well, that wasn’t very interesting or exciting. True, but we still have to look at the probability used with n-grams, which is quite interesting.'"
            ]
          },
          "metadata": {
            "tags": []
          },
          "execution_count": 151
        }
      ]
    },
    {
      "cell_type": "code",
      "metadata": {
        "id": "ECwbta9EbPNj"
      },
      "source": [
        "x = 'thanks for watching'"
      ],
      "execution_count": 152,
      "outputs": []
    },
    {
      "cell_type": "code",
      "metadata": {
        "id": "nUwr6bGhbPSq"
      },
      "source": [
        "tb = TextBlob(x)"
      ],
      "execution_count": 153,
      "outputs": []
    },
    {
      "cell_type": "code",
      "metadata": {
        "colab": {
          "base_uri": "https://localhost:8080/"
        },
        "id": "XmgzTxr0bPah",
        "outputId": "123d031f-8a93-4013-e7ec-e7ac454071d4"
      },
      "source": [
        "tb.ngrams(3)"
      ],
      "execution_count": 155,
      "outputs": [
        {
          "output_type": "execute_result",
          "data": {
            "text/plain": [
              "[WordList(['thanks', 'for', 'watching'])]"
            ]
          },
          "metadata": {
            "tags": []
          },
          "execution_count": 155
        }
      ]
    },
    {
      "cell_type": "markdown",
      "metadata": {
        "id": "sfgtJyzAblF6"
      },
      "source": [
        "### **Bag of Words BoW**"
      ]
    },
    {
      "cell_type": "code",
      "metadata": {
        "colab": {
          "base_uri": "https://localhost:8080/",
          "height": 69
        },
        "id": "0ptkJUytbPgm",
        "outputId": "19b1f55f-142f-4e18-9ca5-732e92413534"
      },
      "source": [
        "'''In this section, we are going to discuss a Natural Language Processing technique of text modeling known as the Bag of Words model. Whenever we apply any algorithm in NLP, it works on numbers. We cannot directly feed our text into that algorithm. Hence, the Bag of Words model is used to preprocess the text by converting it into a bag of words, which keeps a count of the total occurrences of most frequently used words.\n",
        "\n",
        "This model can be visualized using a table, which contains the count of words corresponding to the word itself.'''"
      ],
      "execution_count": 156,
      "outputs": [
        {
          "output_type": "execute_result",
          "data": {
            "application/vnd.google.colaboratory.intrinsic+json": {
              "type": "string"
            },
            "text/plain": [
              "'In this section, we are going to discuss a Natural Language Processing technique of text modeling known as the Bag of Words model. Whenever we apply any algorithm in NLP, it works on numbers. We cannot directly feed our text into that algorithm. Hence, the Bag of Words model is used to preprocess the text by converting it into a bag of words, which keeps a count of the total occurrences of most frequently used words.\\n\\nThis model can be visualized using a table, which contains the count of words corresponding to the word itself.'"
            ]
          },
          "metadata": {
            "tags": []
          },
          "execution_count": 156
        }
      ]
    },
    {
      "cell_type": "code",
      "metadata": {
        "id": "AFfWgsGBbPnv"
      },
      "source": [
        "x = ['this is first sentence this is', 'this is second', 'this is last']"
      ],
      "execution_count": 6,
      "outputs": []
    },
    {
      "cell_type": "code",
      "metadata": {
        "id": "4nIGTT48bPtd"
      },
      "source": [
        "cv = CountVectorizer(ngram_range=(1,1)) # 1,1 mean considers all unigrams\n",
        "text_counts = cv.fit_transform(x)"
      ],
      "execution_count": 9,
      "outputs": []
    },
    {
      "cell_type": "code",
      "metadata": {
        "colab": {
          "base_uri": "https://localhost:8080/"
        },
        "id": "TEBv9-ZDbP1I",
        "outputId": "438059f7-8e64-4b96-b80b-4abcc9092753"
      },
      "source": [
        "text_counts"
      ],
      "execution_count": 10,
      "outputs": [
        {
          "output_type": "execute_result",
          "data": {
            "text/plain": [
              "<3x6 sparse matrix of type '<class 'numpy.int64'>'\n",
              "\twith 10 stored elements in Compressed Sparse Row format>"
            ]
          },
          "metadata": {
            "tags": []
          },
          "execution_count": 10
        }
      ]
    },
    {
      "cell_type": "code",
      "metadata": {
        "colab": {
          "base_uri": "https://localhost:8080/"
        },
        "id": "iQyQ372YRZQU",
        "outputId": "7c9d7f7c-a581-4c41-e9c6-2ba9958a8bbb"
      },
      "source": [
        "text_counts.toarray()"
      ],
      "execution_count": 12,
      "outputs": [
        {
          "output_type": "execute_result",
          "data": {
            "text/plain": [
              "array([[1, 2, 0, 0, 1, 2],\n",
              "       [0, 1, 0, 1, 0, 1],\n",
              "       [0, 1, 1, 0, 0, 1]])"
            ]
          },
          "metadata": {
            "tags": []
          },
          "execution_count": 12
        }
      ]
    },
    {
      "cell_type": "code",
      "metadata": {
        "colab": {
          "base_uri": "https://localhost:8080/"
        },
        "id": "rNtDtt9YRZZh",
        "outputId": "aede74ee-e951-4e88-afa7-32286b5bee0f"
      },
      "source": [
        "cv.get_feature_names()"
      ],
      "execution_count": 13,
      "outputs": [
        {
          "output_type": "execute_result",
          "data": {
            "text/plain": [
              "['first', 'is', 'last', 'second', 'sentence', 'this']"
            ]
          },
          "metadata": {
            "tags": []
          },
          "execution_count": 13
        }
      ]
    },
    {
      "cell_type": "code",
      "metadata": {
        "id": "LCUpEV2shjdj"
      },
      "source": [
        "bow = pd.DataFrame(text_counts.toarray(), columns = cv.get_feature_names())"
      ],
      "execution_count": 14,
      "outputs": []
    },
    {
      "cell_type": "code",
      "metadata": {
        "colab": {
          "base_uri": "https://localhost:8080/",
          "height": 142
        },
        "id": "BFbKyxWShk6r",
        "outputId": "c0d44b85-ebca-4d40-d3d7-f45a441a2298"
      },
      "source": [
        "bow"
      ],
      "execution_count": 15,
      "outputs": [
        {
          "output_type": "execute_result",
          "data": {
            "text/html": [
              "<div>\n",
              "<style scoped>\n",
              "    .dataframe tbody tr th:only-of-type {\n",
              "        vertical-align: middle;\n",
              "    }\n",
              "\n",
              "    .dataframe tbody tr th {\n",
              "        vertical-align: top;\n",
              "    }\n",
              "\n",
              "    .dataframe thead th {\n",
              "        text-align: right;\n",
              "    }\n",
              "</style>\n",
              "<table border=\"1\" class=\"dataframe\">\n",
              "  <thead>\n",
              "    <tr style=\"text-align: right;\">\n",
              "      <th></th>\n",
              "      <th>first</th>\n",
              "      <th>is</th>\n",
              "      <th>last</th>\n",
              "      <th>second</th>\n",
              "      <th>sentence</th>\n",
              "      <th>this</th>\n",
              "    </tr>\n",
              "  </thead>\n",
              "  <tbody>\n",
              "    <tr>\n",
              "      <th>0</th>\n",
              "      <td>1</td>\n",
              "      <td>2</td>\n",
              "      <td>0</td>\n",
              "      <td>0</td>\n",
              "      <td>1</td>\n",
              "      <td>2</td>\n",
              "    </tr>\n",
              "    <tr>\n",
              "      <th>1</th>\n",
              "      <td>0</td>\n",
              "      <td>1</td>\n",
              "      <td>0</td>\n",
              "      <td>1</td>\n",
              "      <td>0</td>\n",
              "      <td>1</td>\n",
              "    </tr>\n",
              "    <tr>\n",
              "      <th>2</th>\n",
              "      <td>0</td>\n",
              "      <td>1</td>\n",
              "      <td>1</td>\n",
              "      <td>0</td>\n",
              "      <td>0</td>\n",
              "      <td>1</td>\n",
              "    </tr>\n",
              "  </tbody>\n",
              "</table>\n",
              "</div>"
            ],
            "text/plain": [
              "   first  is  last  second  sentence  this\n",
              "0      1   2     0       0         1     2\n",
              "1      0   1     0       1         0     1\n",
              "2      0   1     1       0         0     1"
            ]
          },
          "metadata": {
            "tags": []
          },
          "execution_count": 15
        }
      ]
    },
    {
      "cell_type": "markdown",
      "metadata": {
        "id": "299SmgfGhpFq"
      },
      "source": [
        "### **Term Frequency**"
      ]
    },
    {
      "cell_type": "markdown",
      "metadata": {
        "id": "ri0kVOFRhrhV"
      },
      "source": [
        "TF(t) = (Number of times term t appears in a document) / (Total number of terms in the document)."
      ]
    },
    {
      "cell_type": "code",
      "metadata": {
        "colab": {
          "base_uri": "https://localhost:8080/"
        },
        "id": "gJE30IP8hliD",
        "outputId": "c8dba017-fa43-42ad-9e9a-cebf64e6dd51"
      },
      "source": [
        "x"
      ],
      "execution_count": 16,
      "outputs": [
        {
          "output_type": "execute_result",
          "data": {
            "text/plain": [
              "['this is first sentence this is', 'this is second', 'this is last']"
            ]
          },
          "metadata": {
            "tags": []
          },
          "execution_count": 16
        }
      ]
    },
    {
      "cell_type": "code",
      "metadata": {
        "colab": {
          "base_uri": "https://localhost:8080/"
        },
        "id": "ApTdHEWchu4F",
        "outputId": "7e78bcf7-71fe-4565-d94c-39e6ec6e11c6"
      },
      "source": [
        "bow.shape"
      ],
      "execution_count": 17,
      "outputs": [
        {
          "output_type": "execute_result",
          "data": {
            "text/plain": [
              "(3, 6)"
            ]
          },
          "metadata": {
            "tags": []
          },
          "execution_count": 17
        }
      ]
    },
    {
      "cell_type": "code",
      "metadata": {
        "id": "yeM6_4Pah0wz"
      },
      "source": [
        "tf = bow.copy()"
      ],
      "execution_count": 18,
      "outputs": []
    },
    {
      "cell_type": "code",
      "metadata": {
        "colab": {
          "base_uri": "https://localhost:8080/"
        },
        "id": "zlm2BrwvoLjP",
        "outputId": "0d0c4430-e5c7-4cab-896e-f1eb5700b2f1"
      },
      "source": [
        "for row in tf.iterrows():\n",
        "  print(row)"
      ],
      "execution_count": 21,
      "outputs": [
        {
          "output_type": "stream",
          "text": [
            "(0, first       0.166667\n",
            "is          0.333333\n",
            "last        0.000000\n",
            "second      0.000000\n",
            "sentence    0.166667\n",
            "this        0.333333\n",
            "Name: 0, dtype: float64)\n",
            "(1, first       0.000000\n",
            "is          0.333333\n",
            "last        0.000000\n",
            "second      0.333333\n",
            "sentence    0.000000\n",
            "this        0.333333\n",
            "Name: 1, dtype: float64)\n",
            "(2, first       0.000000\n",
            "is          0.333333\n",
            "last        0.333333\n",
            "second      0.000000\n",
            "sentence    0.000000\n",
            "this        0.333333\n",
            "Name: 2, dtype: float64)\n"
          ],
          "name": "stdout"
        }
      ]
    },
    {
      "cell_type": "code",
      "metadata": {
        "colab": {
          "base_uri": "https://localhost:8080/"
        },
        "id": "pwR-dCi8oRLP",
        "outputId": "47e3ab63-07dc-438d-f3aa-669f06477256"
      },
      "source": [
        "for row in tf.iterrows():\n",
        "  print(row[1])"
      ],
      "execution_count": 22,
      "outputs": [
        {
          "output_type": "stream",
          "text": [
            "first       0.166667\n",
            "is          0.333333\n",
            "last        0.000000\n",
            "second      0.000000\n",
            "sentence    0.166667\n",
            "this        0.333333\n",
            "Name: 0, dtype: float64\n",
            "first       0.000000\n",
            "is          0.333333\n",
            "last        0.000000\n",
            "second      0.333333\n",
            "sentence    0.000000\n",
            "this        0.333333\n",
            "Name: 1, dtype: float64\n",
            "first       0.000000\n",
            "is          0.333333\n",
            "last        0.333333\n",
            "second      0.000000\n",
            "sentence    0.000000\n",
            "this        0.333333\n",
            "Name: 2, dtype: float64\n"
          ],
          "name": "stdout"
        }
      ]
    },
    {
      "cell_type": "code",
      "metadata": {
        "colab": {
          "base_uri": "https://localhost:8080/"
        },
        "id": "VqihBbd1o1_m",
        "outputId": "c1e94af8-3eeb-4c15-f4a5-8c4d8daaa356"
      },
      "source": [
        "for index, row in enumerate(tf.iterrows()):\n",
        "  print(index, row[1], row[1].index)"
      ],
      "execution_count": 29,
      "outputs": [
        {
          "output_type": "stream",
          "text": [
            "0 first       0.166667\n",
            "is          0.333333\n",
            "last        0.000000\n",
            "second      0.000000\n",
            "sentence    0.166667\n",
            "this        0.333333\n",
            "Name: 0, dtype: float64 Index(['first', 'is', 'last', 'second', 'sentence', 'this'], dtype='object')\n",
            "1 first       0.000000\n",
            "is          0.333333\n",
            "last        0.000000\n",
            "second      0.333333\n",
            "sentence    0.000000\n",
            "this        0.333333\n",
            "Name: 1, dtype: float64 Index(['first', 'is', 'last', 'second', 'sentence', 'this'], dtype='object')\n",
            "2 first       0.000000\n",
            "is          0.333333\n",
            "last        0.333333\n",
            "second      0.000000\n",
            "sentence    0.000000\n",
            "this        0.333333\n",
            "Name: 2, dtype: float64 Index(['first', 'is', 'last', 'second', 'sentence', 'this'], dtype='object')\n"
          ],
          "name": "stdout"
        }
      ]
    },
    {
      "cell_type": "code",
      "metadata": {
        "id": "t4yQqzGfh34M"
      },
      "source": [
        "for index, row in enumerate(tf.iterrows()):\n",
        "    for col in row[1].index:\n",
        "        tf.loc[index, col] = tf.loc[index, col]/sum(row[1].values)"
      ],
      "execution_count": 19,
      "outputs": []
    },
    {
      "cell_type": "code",
      "metadata": {
        "colab": {
          "base_uri": "https://localhost:8080/",
          "height": 142
        },
        "id": "lgOM086jiII-",
        "outputId": "6b1a0499-058a-4e0a-c237-1ef45622ffbd"
      },
      "source": [
        "tf"
      ],
      "execution_count": 20,
      "outputs": [
        {
          "output_type": "execute_result",
          "data": {
            "text/html": [
              "<div>\n",
              "<style scoped>\n",
              "    .dataframe tbody tr th:only-of-type {\n",
              "        vertical-align: middle;\n",
              "    }\n",
              "\n",
              "    .dataframe tbody tr th {\n",
              "        vertical-align: top;\n",
              "    }\n",
              "\n",
              "    .dataframe thead th {\n",
              "        text-align: right;\n",
              "    }\n",
              "</style>\n",
              "<table border=\"1\" class=\"dataframe\">\n",
              "  <thead>\n",
              "    <tr style=\"text-align: right;\">\n",
              "      <th></th>\n",
              "      <th>first</th>\n",
              "      <th>is</th>\n",
              "      <th>last</th>\n",
              "      <th>second</th>\n",
              "      <th>sentence</th>\n",
              "      <th>this</th>\n",
              "    </tr>\n",
              "  </thead>\n",
              "  <tbody>\n",
              "    <tr>\n",
              "      <th>0</th>\n",
              "      <td>0.166667</td>\n",
              "      <td>0.333333</td>\n",
              "      <td>0.000000</td>\n",
              "      <td>0.000000</td>\n",
              "      <td>0.166667</td>\n",
              "      <td>0.333333</td>\n",
              "    </tr>\n",
              "    <tr>\n",
              "      <th>1</th>\n",
              "      <td>0.000000</td>\n",
              "      <td>0.333333</td>\n",
              "      <td>0.000000</td>\n",
              "      <td>0.333333</td>\n",
              "      <td>0.000000</td>\n",
              "      <td>0.333333</td>\n",
              "    </tr>\n",
              "    <tr>\n",
              "      <th>2</th>\n",
              "      <td>0.000000</td>\n",
              "      <td>0.333333</td>\n",
              "      <td>0.333333</td>\n",
              "      <td>0.000000</td>\n",
              "      <td>0.000000</td>\n",
              "      <td>0.333333</td>\n",
              "    </tr>\n",
              "  </tbody>\n",
              "</table>\n",
              "</div>"
            ],
            "text/plain": [
              "      first        is      last    second  sentence      this\n",
              "0  0.166667  0.333333  0.000000  0.000000  0.166667  0.333333\n",
              "1  0.000000  0.333333  0.000000  0.333333  0.000000  0.333333\n",
              "2  0.000000  0.333333  0.333333  0.000000  0.000000  0.333333"
            ]
          },
          "metadata": {
            "tags": []
          },
          "execution_count": 20
        }
      ]
    },
    {
      "cell_type": "markdown",
      "metadata": {
        "id": "GjdSoouioekH"
      },
      "source": [
        "### **Inverse Document Frequency IDF**"
      ]
    },
    {
      "cell_type": "markdown",
      "metadata": {
        "id": "NgNYPTxVojYN"
      },
      "source": [
        "Inverse Document Frequency (IDF) is a weight indicating how commonly a word is used. The more frequent its usage across documents, the lower its score. The lower the score, the less important the word becomes.\n",
        "\n",
        "For example, the word the appears in almost all English texts and would thus have a very low IDF score as it carries very little “topic” information. In contrast, if you take the word coffee, while it is common, it’s not used as widely as the word the. Thus, coffee would have a higher IDF score than the.\n",
        "\n",
        "idf = log( (1 + N)/(n + 1)) + 1 used in sklearn when smooth_idf = True\n",
        "\n",
        "where, N is the total number of rows and n is the number of rows in which the word was present."
      ]
    },
    {
      "cell_type": "code",
      "metadata": {
        "id": "Ux5RyiUpiI-T"
      },
      "source": [
        "x_df = pd.DataFrame(x, columns=['words'])"
      ],
      "execution_count": 7,
      "outputs": []
    },
    {
      "cell_type": "code",
      "metadata": {
        "colab": {
          "base_uri": "https://localhost:8080/",
          "height": 142
        },
        "id": "hoNSUg5gortt",
        "outputId": "8718e96a-8876-4a63-b462-3b02a7c790b8"
      },
      "source": [
        "x_df"
      ],
      "execution_count": 24,
      "outputs": [
        {
          "output_type": "execute_result",
          "data": {
            "text/html": [
              "<div>\n",
              "<style scoped>\n",
              "    .dataframe tbody tr th:only-of-type {\n",
              "        vertical-align: middle;\n",
              "    }\n",
              "\n",
              "    .dataframe tbody tr th {\n",
              "        vertical-align: top;\n",
              "    }\n",
              "\n",
              "    .dataframe thead th {\n",
              "        text-align: right;\n",
              "    }\n",
              "</style>\n",
              "<table border=\"1\" class=\"dataframe\">\n",
              "  <thead>\n",
              "    <tr style=\"text-align: right;\">\n",
              "      <th></th>\n",
              "      <th>words</th>\n",
              "    </tr>\n",
              "  </thead>\n",
              "  <tbody>\n",
              "    <tr>\n",
              "      <th>0</th>\n",
              "      <td>this is first sentence this is</td>\n",
              "    </tr>\n",
              "    <tr>\n",
              "      <th>1</th>\n",
              "      <td>this is second</td>\n",
              "    </tr>\n",
              "    <tr>\n",
              "      <th>2</th>\n",
              "      <td>this is last</td>\n",
              "    </tr>\n",
              "  </tbody>\n",
              "</table>\n",
              "</div>"
            ],
            "text/plain": [
              "                            words\n",
              "0  this is first sentence this is\n",
              "1                  this is second\n",
              "2                    this is last"
            ]
          },
          "metadata": {
            "tags": []
          },
          "execution_count": 24
        }
      ]
    },
    {
      "cell_type": "code",
      "metadata": {
        "colab": {
          "base_uri": "https://localhost:8080/",
          "height": 142
        },
        "id": "zXjpGTYMotFH",
        "outputId": "11767786-2c14-4481-e8cb-b6a2c6cc2cd1"
      },
      "source": [
        "bow"
      ],
      "execution_count": 30,
      "outputs": [
        {
          "output_type": "execute_result",
          "data": {
            "text/html": [
              "<div>\n",
              "<style scoped>\n",
              "    .dataframe tbody tr th:only-of-type {\n",
              "        vertical-align: middle;\n",
              "    }\n",
              "\n",
              "    .dataframe tbody tr th {\n",
              "        vertical-align: top;\n",
              "    }\n",
              "\n",
              "    .dataframe thead th {\n",
              "        text-align: right;\n",
              "    }\n",
              "</style>\n",
              "<table border=\"1\" class=\"dataframe\">\n",
              "  <thead>\n",
              "    <tr style=\"text-align: right;\">\n",
              "      <th></th>\n",
              "      <th>first</th>\n",
              "      <th>is</th>\n",
              "      <th>last</th>\n",
              "      <th>second</th>\n",
              "      <th>sentence</th>\n",
              "      <th>this</th>\n",
              "    </tr>\n",
              "  </thead>\n",
              "  <tbody>\n",
              "    <tr>\n",
              "      <th>0</th>\n",
              "      <td>1</td>\n",
              "      <td>2</td>\n",
              "      <td>0</td>\n",
              "      <td>0</td>\n",
              "      <td>1</td>\n",
              "      <td>2</td>\n",
              "    </tr>\n",
              "    <tr>\n",
              "      <th>1</th>\n",
              "      <td>0</td>\n",
              "      <td>1</td>\n",
              "      <td>0</td>\n",
              "      <td>1</td>\n",
              "      <td>0</td>\n",
              "      <td>1</td>\n",
              "    </tr>\n",
              "    <tr>\n",
              "      <th>2</th>\n",
              "      <td>0</td>\n",
              "      <td>1</td>\n",
              "      <td>1</td>\n",
              "      <td>0</td>\n",
              "      <td>0</td>\n",
              "      <td>1</td>\n",
              "    </tr>\n",
              "  </tbody>\n",
              "</table>\n",
              "</div>"
            ],
            "text/plain": [
              "   first  is  last  second  sentence  this\n",
              "0      1   2     0       0         1     2\n",
              "1      0   1     0       1         0     1\n",
              "2      0   1     1       0         0     1"
            ]
          },
          "metadata": {
            "tags": []
          },
          "execution_count": 30
        }
      ]
    },
    {
      "cell_type": "code",
      "metadata": {
        "id": "EDfM8oYgrI4a"
      },
      "source": [
        "N = bow.shape[0]"
      ],
      "execution_count": 31,
      "outputs": []
    },
    {
      "cell_type": "code",
      "metadata": {
        "colab": {
          "base_uri": "https://localhost:8080/"
        },
        "id": "eg-TAgNarLyi",
        "outputId": "b923bc2f-43e5-41bb-b8d5-33f391cb0c88"
      },
      "source": [
        "N"
      ],
      "execution_count": 32,
      "outputs": [
        {
          "output_type": "execute_result",
          "data": {
            "text/plain": [
              "3"
            ]
          },
          "metadata": {
            "tags": []
          },
          "execution_count": 32
        }
      ]
    },
    {
      "cell_type": "code",
      "metadata": {
        "colab": {
          "base_uri": "https://localhost:8080/",
          "height": 142
        },
        "id": "S3jGFP09rMOS",
        "outputId": "cf32274a-3d0c-40e0-c03d-23dfcc82067e"
      },
      "source": [
        "bb = bow.astype('bool')\n",
        "bb"
      ],
      "execution_count": 33,
      "outputs": [
        {
          "output_type": "execute_result",
          "data": {
            "text/html": [
              "<div>\n",
              "<style scoped>\n",
              "    .dataframe tbody tr th:only-of-type {\n",
              "        vertical-align: middle;\n",
              "    }\n",
              "\n",
              "    .dataframe tbody tr th {\n",
              "        vertical-align: top;\n",
              "    }\n",
              "\n",
              "    .dataframe thead th {\n",
              "        text-align: right;\n",
              "    }\n",
              "</style>\n",
              "<table border=\"1\" class=\"dataframe\">\n",
              "  <thead>\n",
              "    <tr style=\"text-align: right;\">\n",
              "      <th></th>\n",
              "      <th>first</th>\n",
              "      <th>is</th>\n",
              "      <th>last</th>\n",
              "      <th>second</th>\n",
              "      <th>sentence</th>\n",
              "      <th>this</th>\n",
              "    </tr>\n",
              "  </thead>\n",
              "  <tbody>\n",
              "    <tr>\n",
              "      <th>0</th>\n",
              "      <td>True</td>\n",
              "      <td>True</td>\n",
              "      <td>False</td>\n",
              "      <td>False</td>\n",
              "      <td>True</td>\n",
              "      <td>True</td>\n",
              "    </tr>\n",
              "    <tr>\n",
              "      <th>1</th>\n",
              "      <td>False</td>\n",
              "      <td>True</td>\n",
              "      <td>False</td>\n",
              "      <td>True</td>\n",
              "      <td>False</td>\n",
              "      <td>True</td>\n",
              "    </tr>\n",
              "    <tr>\n",
              "      <th>2</th>\n",
              "      <td>False</td>\n",
              "      <td>True</td>\n",
              "      <td>True</td>\n",
              "      <td>False</td>\n",
              "      <td>False</td>\n",
              "      <td>True</td>\n",
              "    </tr>\n",
              "  </tbody>\n",
              "</table>\n",
              "</div>"
            ],
            "text/plain": [
              "   first    is   last  second  sentence  this\n",
              "0   True  True  False   False      True  True\n",
              "1  False  True  False    True     False  True\n",
              "2  False  True   True   False     False  True"
            ]
          },
          "metadata": {
            "tags": []
          },
          "execution_count": 33
        }
      ]
    },
    {
      "cell_type": "code",
      "metadata": {
        "colab": {
          "base_uri": "https://localhost:8080/"
        },
        "id": "3nd6F38vrUmT",
        "outputId": "bcf03287-0693-4bc9-9a68-08744883a52f"
      },
      "source": [
        "bb['is'].sum()"
      ],
      "execution_count": 34,
      "outputs": [
        {
          "output_type": "execute_result",
          "data": {
            "text/plain": [
              "3"
            ]
          },
          "metadata": {
            "tags": []
          },
          "execution_count": 34
        }
      ]
    },
    {
      "cell_type": "code",
      "metadata": {
        "colab": {
          "base_uri": "https://localhost:8080/"
        },
        "id": "A9biUzoErWSK",
        "outputId": "1efb611b-6f7d-4d8d-b1ed-295b23abc189"
      },
      "source": [
        "cols = bb.columns\n",
        "cols"
      ],
      "execution_count": 35,
      "outputs": [
        {
          "output_type": "execute_result",
          "data": {
            "text/plain": [
              "Index(['first', 'is', 'last', 'second', 'sentence', 'this'], dtype='object')"
            ]
          },
          "metadata": {
            "tags": []
          },
          "execution_count": 35
        }
      ]
    },
    {
      "cell_type": "code",
      "metadata": {
        "id": "1bxlMkNmrX8Q"
      },
      "source": [
        "nz = []\n",
        "for col in cols:\n",
        "    nz.append(bb[col].sum())"
      ],
      "execution_count": 36,
      "outputs": []
    },
    {
      "cell_type": "code",
      "metadata": {
        "colab": {
          "base_uri": "https://localhost:8080/"
        },
        "id": "rT04UZIorabi",
        "outputId": "9e6176e0-05c8-4814-b0aa-1fef893cef38"
      },
      "source": [
        "nz"
      ],
      "execution_count": 37,
      "outputs": [
        {
          "output_type": "execute_result",
          "data": {
            "text/plain": [
              "[1, 3, 1, 1, 1, 3]"
            ]
          },
          "metadata": {
            "tags": []
          },
          "execution_count": 37
        }
      ]
    },
    {
      "cell_type": "code",
      "metadata": {
        "id": "51TMjYEPrbK6"
      },
      "source": [
        "idf = []\n",
        "for index, col in enumerate(cols):\n",
        "    idf.append(np.log((N + 1)/(nz[index] + 1)) + 1)"
      ],
      "execution_count": 38,
      "outputs": []
    },
    {
      "cell_type": "code",
      "metadata": {
        "colab": {
          "base_uri": "https://localhost:8080/"
        },
        "id": "ilHlONK_rc56",
        "outputId": "d99f8ad2-28cd-42a6-8d21-ab5609892c09"
      },
      "source": [
        "idf # 1.0 as it is present in all the documents"
      ],
      "execution_count": 39,
      "outputs": [
        {
          "output_type": "execute_result",
          "data": {
            "text/plain": [
              "[1.6931471805599454,\n",
              " 1.0,\n",
              " 1.6931471805599454,\n",
              " 1.6931471805599454,\n",
              " 1.6931471805599454,\n",
              " 1.0]"
            ]
          },
          "metadata": {
            "tags": []
          },
          "execution_count": 39
        }
      ]
    },
    {
      "cell_type": "markdown",
      "metadata": {
        "id": "b-BInOksrprZ"
      },
      "source": [
        "TFIDF\n",
        "TF-IDF which stands for Term Frequency – Inverse Document Frequency. It is one of the most important techniques used for information retrieval to represent how important a specific word or phrase is to a given document. Let’s take an example, we have a string or Bag of Words (BOW) and we have to extract information from it, then we can use this approach.\n",
        "\n",
        "The tf-idf value increases in proportion to the number of times a word appears in the document but is often offset by the frequency of the word in the corpus, which helps to adjust with respect to the fact that some words appear more frequently in general.\n",
        "\n",
        "TF-IDF use two statistical methods, first is Term Frequency and the other is Inverse Document Frequency. Term frequency refers to the total number of times a given term t appears in the document doc against (per) the total number of all words in the document and The inverse document frequency measure of how much information the word provides. It measures the weight of a given word in the entire document. IDF show how common or rare a given word is across all documents."
      ]
    },
    {
      "cell_type": "code",
      "metadata": {
        "id": "P6qvzxwdrdWi"
      },
      "source": [
        "tfidf = TfidfVectorizer()\n",
        "x_tfidf = tfidf.fit_transform(x_df['words'])"
      ],
      "execution_count": 41,
      "outputs": []
    },
    {
      "cell_type": "code",
      "metadata": {
        "colab": {
          "base_uri": "https://localhost:8080/"
        },
        "id": "wtqexGstr0pu",
        "outputId": "34edc5ec-a4a3-472a-8c27-a2783ce1675a"
      },
      "source": [
        "x_tfidf.toarray()"
      ],
      "execution_count": 42,
      "outputs": [
        {
          "output_type": "execute_result",
          "data": {
            "text/plain": [
              "array([[0.45688214, 0.5396839 , 0.        , 0.        , 0.45688214,\n",
              "        0.5396839 ],\n",
              "       [0.        , 0.45329466, 0.        , 0.76749457, 0.        ,\n",
              "        0.45329466],\n",
              "       [0.        , 0.45329466, 0.76749457, 0.        , 0.        ,\n",
              "        0.45329466]])"
            ]
          },
          "metadata": {
            "tags": []
          },
          "execution_count": 42
        }
      ]
    },
    {
      "cell_type": "code",
      "metadata": {
        "colab": {
          "base_uri": "https://localhost:8080/"
        },
        "id": "OXOB-InYr6TP",
        "outputId": "a8b32144-36a3-48a8-ede5-58731c7c0202"
      },
      "source": [
        "tfidf.idf_"
      ],
      "execution_count": 43,
      "outputs": [
        {
          "output_type": "execute_result",
          "data": {
            "text/plain": [
              "array([1.69314718, 1.        , 1.69314718, 1.69314718, 1.69314718,\n",
              "       1.        ])"
            ]
          },
          "metadata": {
            "tags": []
          },
          "execution_count": 43
        }
      ]
    },
    {
      "cell_type": "markdown",
      "metadata": {
        "id": "9hlP4tDrr-CM"
      },
      "source": [
        "### **Word Embeddings**"
      ]
    },
    {
      "cell_type": "code",
      "metadata": {
        "id": "HUJsIViRr7_e"
      },
      "source": [
        "'''Word Embedding is a language modeling technique used for mapping words to vectors of real numbers. It represents words or phrases in vector space with several dimensions. Word embeddings can be generated using various methods like neural networks, co-occurrence matrix, probabilistic models, etc.\n",
        "\n",
        "SpaCy Word2Vec'''"
      ],
      "execution_count": null,
      "outputs": []
    },
    {
      "cell_type": "code",
      "metadata": {
        "colab": {
          "base_uri": "https://localhost:8080/"
        },
        "id": "npQ_8ey9sTOz",
        "outputId": "b2378197-f394-4be0-fb1e-e11ac6e16c69"
      },
      "source": [
        "!python -m spacy download en_core_web_lg"
      ],
      "execution_count": 45,
      "outputs": [
        {
          "output_type": "stream",
          "text": [
            "Collecting en_core_web_lg==2.2.5\n",
            "  Downloading https://github.com/explosion/spacy-models/releases/download/en_core_web_lg-2.2.5/en_core_web_lg-2.2.5.tar.gz (827.9 MB)\n",
            "\u001b[K     |████████████████████████████████| 827.9 MB 1.3 MB/s \n",
            "\u001b[?25hRequirement already satisfied: spacy>=2.2.2 in /usr/local/lib/python3.7/dist-packages (from en_core_web_lg==2.2.5) (2.2.4)\n",
            "Requirement already satisfied: thinc==7.4.0 in /usr/local/lib/python3.7/dist-packages (from spacy>=2.2.2->en_core_web_lg==2.2.5) (7.4.0)\n",
            "Requirement already satisfied: cymem<2.1.0,>=2.0.2 in /usr/local/lib/python3.7/dist-packages (from spacy>=2.2.2->en_core_web_lg==2.2.5) (2.0.5)\n",
            "Requirement already satisfied: preshed<3.1.0,>=3.0.2 in /usr/local/lib/python3.7/dist-packages (from spacy>=2.2.2->en_core_web_lg==2.2.5) (3.0.5)\n",
            "Requirement already satisfied: murmurhash<1.1.0,>=0.28.0 in /usr/local/lib/python3.7/dist-packages (from spacy>=2.2.2->en_core_web_lg==2.2.5) (1.0.5)\n",
            "Requirement already satisfied: srsly<1.1.0,>=1.0.2 in /usr/local/lib/python3.7/dist-packages (from spacy>=2.2.2->en_core_web_lg==2.2.5) (1.0.5)\n",
            "Requirement already satisfied: setuptools in /usr/local/lib/python3.7/dist-packages (from spacy>=2.2.2->en_core_web_lg==2.2.5) (57.2.0)\n",
            "Requirement already satisfied: numpy>=1.15.0 in /usr/local/lib/python3.7/dist-packages (from spacy>=2.2.2->en_core_web_lg==2.2.5) (1.19.5)\n",
            "Requirement already satisfied: catalogue<1.1.0,>=0.0.7 in /usr/local/lib/python3.7/dist-packages (from spacy>=2.2.2->en_core_web_lg==2.2.5) (1.0.0)\n",
            "Requirement already satisfied: plac<1.2.0,>=0.9.6 in /usr/local/lib/python3.7/dist-packages (from spacy>=2.2.2->en_core_web_lg==2.2.5) (1.1.3)\n",
            "Requirement already satisfied: tqdm<5.0.0,>=4.38.0 in /usr/local/lib/python3.7/dist-packages (from spacy>=2.2.2->en_core_web_lg==2.2.5) (4.41.1)\n",
            "Requirement already satisfied: requests<3.0.0,>=2.13.0 in /usr/local/lib/python3.7/dist-packages (from spacy>=2.2.2->en_core_web_lg==2.2.5) (2.23.0)\n",
            "Requirement already satisfied: wasabi<1.1.0,>=0.4.0 in /usr/local/lib/python3.7/dist-packages (from spacy>=2.2.2->en_core_web_lg==2.2.5) (0.8.2)\n",
            "Requirement already satisfied: blis<0.5.0,>=0.4.0 in /usr/local/lib/python3.7/dist-packages (from spacy>=2.2.2->en_core_web_lg==2.2.5) (0.4.1)\n",
            "Requirement already satisfied: importlib-metadata>=0.20 in /usr/local/lib/python3.7/dist-packages (from catalogue<1.1.0,>=0.0.7->spacy>=2.2.2->en_core_web_lg==2.2.5) (4.6.1)\n",
            "Requirement already satisfied: zipp>=0.5 in /usr/local/lib/python3.7/dist-packages (from importlib-metadata>=0.20->catalogue<1.1.0,>=0.0.7->spacy>=2.2.2->en_core_web_lg==2.2.5) (3.5.0)\n",
            "Requirement already satisfied: typing-extensions>=3.6.4 in /usr/local/lib/python3.7/dist-packages (from importlib-metadata>=0.20->catalogue<1.1.0,>=0.0.7->spacy>=2.2.2->en_core_web_lg==2.2.5) (3.7.4.3)\n",
            "Requirement already satisfied: urllib3!=1.25.0,!=1.25.1,<1.26,>=1.21.1 in /usr/local/lib/python3.7/dist-packages (from requests<3.0.0,>=2.13.0->spacy>=2.2.2->en_core_web_lg==2.2.5) (1.24.3)\n",
            "Requirement already satisfied: certifi>=2017.4.17 in /usr/local/lib/python3.7/dist-packages (from requests<3.0.0,>=2.13.0->spacy>=2.2.2->en_core_web_lg==2.2.5) (2021.5.30)\n",
            "Requirement already satisfied: chardet<4,>=3.0.2 in /usr/local/lib/python3.7/dist-packages (from requests<3.0.0,>=2.13.0->spacy>=2.2.2->en_core_web_lg==2.2.5) (3.0.4)\n",
            "Requirement already satisfied: idna<3,>=2.5 in /usr/local/lib/python3.7/dist-packages (from requests<3.0.0,>=2.13.0->spacy>=2.2.2->en_core_web_lg==2.2.5) (2.10)\n",
            "Building wheels for collected packages: en-core-web-lg\n",
            "  Building wheel for en-core-web-lg (setup.py) ... \u001b[?25l\u001b[?25hdone\n",
            "  Created wheel for en-core-web-lg: filename=en_core_web_lg-2.2.5-py3-none-any.whl size=829180943 sha256=563c667198ecd9a7efd6cb14268c9c126cbe01da9a7bd3e84b8a34a5de79b60c\n",
            "  Stored in directory: /tmp/pip-ephem-wheel-cache-sqjqu2f8/wheels/11/95/ba/2c36cc368c0bd339b44a791c2c1881a1fb714b78c29a4cb8f5\n",
            "Successfully built en-core-web-lg\n",
            "Installing collected packages: en-core-web-lg\n",
            "Successfully installed en-core-web-lg-2.2.5\n",
            "\u001b[38;5;2m✔ Download and installation successful\u001b[0m\n",
            "You can now load the model via spacy.load('en_core_web_lg')\n"
          ],
          "name": "stdout"
        }
      ]
    },
    {
      "cell_type": "code",
      "metadata": {
        "id": "5ALZXFw4sLVW"
      },
      "source": [
        "nlp = spacy.load('en_core_web_lg')"
      ],
      "execution_count": 5,
      "outputs": []
    },
    {
      "cell_type": "code",
      "metadata": {
        "id": "acurMWaTsLYx"
      },
      "source": [
        "doc = nlp('thank you! dog cat lion dfasaa')"
      ],
      "execution_count": 8,
      "outputs": []
    },
    {
      "cell_type": "code",
      "metadata": {
        "colab": {
          "base_uri": "https://localhost:8080/"
        },
        "id": "FG2zRXIssLdi",
        "outputId": "f2d3e1db-6c8b-4856-8832-92d795204e3b"
      },
      "source": [
        "for token in doc:\n",
        "    print(token.text, token.has_vector)"
      ],
      "execution_count": 9,
      "outputs": [
        {
          "output_type": "stream",
          "text": [
            "thank True\n",
            "you True\n",
            "! True\n",
            "dog True\n",
            "cat True\n",
            "lion True\n",
            "dfasaa False\n"
          ],
          "name": "stdout"
        }
      ]
    },
    {
      "cell_type": "code",
      "metadata": {
        "colab": {
          "base_uri": "https://localhost:8080/"
        },
        "id": "65D0_tv9sLhx",
        "outputId": "57242272-e822-4446-be07-dec21ae62c53"
      },
      "source": [
        "token.vector.shape"
      ],
      "execution_count": 10,
      "outputs": [
        {
          "output_type": "execute_result",
          "data": {
            "text/plain": [
              "(300,)"
            ]
          },
          "metadata": {
            "tags": []
          },
          "execution_count": 10
        }
      ]
    },
    {
      "cell_type": "code",
      "metadata": {
        "colab": {
          "base_uri": "https://localhost:8080/"
        },
        "id": "P8a84j63sLlw",
        "outputId": "e1578086-94b5-488e-bc1c-140e4052545f"
      },
      "source": [
        "nlp('cat').vector.shape"
      ],
      "execution_count": 11,
      "outputs": [
        {
          "output_type": "execute_result",
          "data": {
            "text/plain": [
              "(300,)"
            ]
          },
          "metadata": {
            "tags": []
          },
          "execution_count": 11
        }
      ]
    },
    {
      "cell_type": "code",
      "metadata": {
        "colab": {
          "base_uri": "https://localhost:8080/"
        },
        "id": "IAlnmEKnsLpw",
        "outputId": "2b33a9b0-1181-4d61-cca3-06b971217c9f"
      },
      "source": [
        "for token1 in doc:\n",
        "    for token2 in doc:\n",
        "        print(token1.text, token2.text, token1.similarity(token2))\n",
        "    print()"
      ],
      "execution_count": 12,
      "outputs": [
        {
          "output_type": "stream",
          "text": [
            "thank thank 1.0\n",
            "thank you 0.56475854\n",
            "thank ! 0.52147406\n",
            "thank dog 0.25042647\n",
            "thank cat 0.20648488\n",
            "thank lion 0.13629763\n",
            "thank dfasaa 0.0\n",
            "\n",
            "you thank 0.56475854\n",
            "you you 1.0\n",
            "you ! 0.43902233\n",
            "you dog 0.364941\n",
            "you cat 0.3080798\n",
            "you lion 0.20392053\n",
            "you dfasaa 0.0\n",
            "\n",
            "! thank 0.52147406\n",
            "! you 0.43902233\n",
            "! ! 1.0\n",
            "! dog 0.29852203\n",
            "! cat 0.2970235\n",
            "! lion 0.19601382\n",
            "! dfasaa 0.0\n",
            "\n",
            "dog thank 0.25042647\n",
            "dog you 0.364941\n",
            "dog ! 0.29852203\n",
            "dog dog 1.0\n",
            "dog cat 0.80168545\n",
            "dog lion 0.47424486\n",
            "dog dfasaa 0.0\n",
            "\n",
            "cat thank 0.20648488\n",
            "cat you 0.3080798\n",
            "cat ! 0.2970235\n",
            "cat dog 0.80168545\n",
            "cat cat 1.0\n",
            "cat lion 0.5265438\n",
            "cat dfasaa 0.0\n",
            "\n",
            "lion thank 0.13629763\n",
            "lion you 0.20392053\n",
            "lion ! 0.19601382\n",
            "lion dog 0.47424486\n",
            "lion cat 0.5265438\n",
            "lion lion 1.0\n",
            "lion dfasaa 0.0\n",
            "\n",
            "dfasaa thank 0.0\n",
            "dfasaa you 0.0\n",
            "dfasaa ! 0.0\n",
            "dfasaa dog 0.0\n",
            "dfasaa cat 0.0\n",
            "dfasaa lion 0.0\n",
            "dfasaa dfasaa 1.0\n",
            "\n"
          ],
          "name": "stdout"
        },
        {
          "output_type": "stream",
          "text": [
            "/usr/lib/python3.7/runpy.py:193: UserWarning: [W008] Evaluating Token.similarity based on empty vectors.\n",
            "  \"__main__\", mod_spec)\n",
            "/usr/lib/python3.7/runpy.py:193: UserWarning: [W008] Evaluating Token.similarity based on empty vectors.\n",
            "  \"__main__\", mod_spec)\n",
            "/usr/lib/python3.7/runpy.py:193: UserWarning: [W008] Evaluating Token.similarity based on empty vectors.\n",
            "  \"__main__\", mod_spec)\n",
            "/usr/lib/python3.7/runpy.py:193: UserWarning: [W008] Evaluating Token.similarity based on empty vectors.\n",
            "  \"__main__\", mod_spec)\n",
            "/usr/lib/python3.7/runpy.py:193: UserWarning: [W008] Evaluating Token.similarity based on empty vectors.\n",
            "  \"__main__\", mod_spec)\n",
            "/usr/lib/python3.7/runpy.py:193: UserWarning: [W008] Evaluating Token.similarity based on empty vectors.\n",
            "  \"__main__\", mod_spec)\n",
            "/usr/lib/python3.7/runpy.py:193: UserWarning: [W008] Evaluating Token.similarity based on empty vectors.\n",
            "  \"__main__\", mod_spec)\n",
            "/usr/lib/python3.7/runpy.py:193: UserWarning: [W008] Evaluating Token.similarity based on empty vectors.\n",
            "  \"__main__\", mod_spec)\n",
            "/usr/lib/python3.7/runpy.py:193: UserWarning: [W008] Evaluating Token.similarity based on empty vectors.\n",
            "  \"__main__\", mod_spec)\n",
            "/usr/lib/python3.7/runpy.py:193: UserWarning: [W008] Evaluating Token.similarity based on empty vectors.\n",
            "  \"__main__\", mod_spec)\n",
            "/usr/lib/python3.7/runpy.py:193: UserWarning: [W008] Evaluating Token.similarity based on empty vectors.\n",
            "  \"__main__\", mod_spec)\n",
            "/usr/lib/python3.7/runpy.py:193: UserWarning: [W008] Evaluating Token.similarity based on empty vectors.\n",
            "  \"__main__\", mod_spec)\n"
          ],
          "name": "stderr"
        }
      ]
    },
    {
      "cell_type": "markdown",
      "metadata": {
        "id": "qJ1_n2VuK3AX"
      },
      "source": [
        "### **Machine Learning Models for Text Classification**"
      ]
    },
    {
      "cell_type": "markdown",
      "metadata": {
        "id": "-4tQOY-HK548"
      },
      "source": [
        "### **BoW**"
      ]
    },
    {
      "cell_type": "code",
      "metadata": {
        "id": "fRfCqgOSwF4-"
      },
      "source": [
        "df.shape"
      ],
      "execution_count": null,
      "outputs": []
    },
    {
      "cell_type": "code",
      "metadata": {
        "id": "jerlT1TALIvl"
      },
      "source": [
        "df0 = df[df['sentiment']==0].sample(2000)\n",
        "df4 = df[df['sentiment']==4].sample(2000)"
      ],
      "execution_count": null,
      "outputs": []
    },
    {
      "cell_type": "code",
      "metadata": {
        "id": "MRtlDy0VLK0z"
      },
      "source": [
        "dfr = df0.append(df4)"
      ],
      "execution_count": null,
      "outputs": []
    },
    {
      "cell_type": "code",
      "metadata": {
        "id": "k0LSkvyqLMwZ"
      },
      "source": [
        "dfr.shape"
      ],
      "execution_count": null,
      "outputs": []
    },
    {
      "cell_type": "code",
      "metadata": {
        "id": "dsLlcMD1LNxt"
      },
      "source": [
        "#removing the tweets,sentiment and emails columns\n",
        "\n",
        "dfr_feat = dfr.drop(labels=['tweets','sentiment','emails'], axis = 1).reset_index(drop=True)"
      ],
      "execution_count": null,
      "outputs": []
    },
    {
      "cell_type": "code",
      "metadata": {
        "id": "Hyi4yVVQLPX6"
      },
      "source": [
        "dfr_feat"
      ],
      "execution_count": null,
      "outputs": []
    },
    {
      "cell_type": "code",
      "metadata": {
        "id": "afnhIcHeLSkl"
      },
      "source": [
        "y = dfr['sentiment']"
      ],
      "execution_count": null,
      "outputs": []
    },
    {
      "cell_type": "code",
      "metadata": {
        "id": "IJk5wyYoLZWk"
      },
      "source": [
        "cv = CountVectorizer()\n",
        "text_counts = cv.fit_transform(dfr['tweets'])"
      ],
      "execution_count": null,
      "outputs": []
    },
    {
      "cell_type": "code",
      "metadata": {
        "id": "pTJKMpUgLigJ"
      },
      "source": [
        "text_counts.toarray().shape"
      ],
      "execution_count": null,
      "outputs": []
    },
    {
      "cell_type": "code",
      "metadata": {
        "id": "M-aI7oQHLlPn"
      },
      "source": [
        "dfr_bow = pd.DataFrame(text_counts.toarray(), columns=cv.get_feature_names())"
      ],
      "execution_count": null,
      "outputs": []
    },
    {
      "cell_type": "code",
      "metadata": {
        "id": "VwMlxVsVLmlr"
      },
      "source": [
        "dfr_bow.head()"
      ],
      "execution_count": null,
      "outputs": []
    },
    {
      "cell_type": "markdown",
      "metadata": {
        "id": "dOn5zMLDL1FH"
      },
      "source": [
        "### **ML Algorithms**\n",
        "### Importing Libraries for ML algorithms **bold text**"
      ]
    },
    {
      "cell_type": "code",
      "metadata": {
        "id": "dZ-GITMTMPQm"
      },
      "source": [
        "sgd = SGDClassifier(n_jobs=-1, random_state=42, max_iter=200)\n",
        "lgr = LogisticRegression(random_state=42, max_iter=200)\n",
        "lgrcv = LogisticRegressionCV(cv = 2, random_state=42, max_iter=1000)\n",
        "svm = LinearSVC(random_state=42, max_iter=200)\n",
        "rfc = RandomForestClassifier(random_state=42, n_jobs=-1, n_estimators=200)"
      ],
      "execution_count": null,
      "outputs": []
    },
    {
      "cell_type": "code",
      "metadata": {
        "id": "xRqXVN0xMPZc"
      },
      "source": [
        "clf = {'SGD': sgd, 'LGR': lgr, 'LGR-CV': lgrcv, 'SVM': svm, 'RFC': rfc}"
      ],
      "execution_count": null,
      "outputs": []
    },
    {
      "cell_type": "code",
      "metadata": {
        "id": "WSKvNpDLMPmL"
      },
      "source": [
        "clf.keys()"
      ],
      "execution_count": null,
      "outputs": []
    },
    {
      "cell_type": "code",
      "metadata": {
        "id": "-AkU4nI-MPrW"
      },
      "source": [
        "dict_keys(['SGD', 'LGR', 'LGR-CV', 'SVM', 'RFC'])"
      ],
      "execution_count": null,
      "outputs": []
    },
    {
      "cell_type": "code",
      "metadata": {
        "id": "n-9k_USrMWee"
      },
      "source": [
        "#here, we are training our model by defining the function classify.\n",
        "\n",
        "def classify(X, y):\n",
        "    scaler = MinMaxScaler(feature_range=(0, 1))\n",
        "    X = scaler.fit_transform(X)\n",
        "    \n",
        "    X_train, X_test, y_train, y_test = train_test_split(X, y, test_size = 0.2, random_state = 42, stratify = y)\n",
        "    \n",
        "    for key in clf.keys():\n",
        "        clf[key].fit(X_train, y_train)\n",
        "        y_pred = clf[key].predict(X_test)\n",
        "        ac = accuracy_score(y_test, y_pred)\n",
        "        print(key, \" ---> \", ac)"
      ],
      "execution_count": null,
      "outputs": []
    },
    {
      "cell_type": "code",
      "metadata": {
        "id": "myCKRQfzMXIw"
      },
      "source": [
        "%%time\n",
        "classify(dfr_bow, y)"
      ],
      "execution_count": null,
      "outputs": []
    },
    {
      "cell_type": "markdown",
      "metadata": {
        "id": "k60uKJSbMbAf"
      },
      "source": [
        "### **Manual Feature**"
      ]
    },
    {
      "cell_type": "code",
      "metadata": {
        "id": "ma6qecL8MaU9"
      },
      "source": [
        "#passing all the manual features.\n",
        "\n",
        "dfr_feat.head(2)"
      ],
      "execution_count": null,
      "outputs": []
    },
    {
      "cell_type": "code",
      "metadata": {
        "id": "_-3YVepFMg4c"
      },
      "source": [
        "%%time\n",
        "classify(dfr_feat, y)"
      ],
      "execution_count": null,
      "outputs": []
    },
    {
      "cell_type": "markdown",
      "metadata": {
        "id": "UpKDTZdTMlw1"
      },
      "source": [
        "### **Manual + Bow**"
      ]
    },
    {
      "cell_type": "code",
      "metadata": {
        "id": "VxxSHZoJMnYL"
      },
      "source": [
        "#passing all the manual features along with bag of words features.\n",
        "\n",
        "X = dfr_feat.join(dfr_bow)"
      ],
      "execution_count": null,
      "outputs": []
    },
    {
      "cell_type": "code",
      "metadata": {
        "id": "yQyxJuA8MndB"
      },
      "source": [
        "%%time\n",
        "classify(X, y)"
      ],
      "execution_count": null,
      "outputs": []
    },
    {
      "cell_type": "markdown",
      "metadata": {
        "id": "UMfA3QbJMsDe"
      },
      "source": [
        "### **TFIDF**"
      ]
    },
    {
      "cell_type": "code",
      "metadata": {
        "id": "-9iqS-uZMnjW"
      },
      "source": [
        "dfr.shape"
      ],
      "execution_count": null,
      "outputs": []
    },
    {
      "cell_type": "code",
      "metadata": {
        "id": "5AhwZ2mZM4sW"
      },
      "source": [
        "tfidf = TfidfVectorizer()\n",
        "X = tfidf.fit_transform(dfr['tweets'])"
      ],
      "execution_count": null,
      "outputs": []
    },
    {
      "cell_type": "code",
      "metadata": {
        "id": "vU67nrcUM4y_"
      },
      "source": [
        "%%time\n",
        "classify(pd.DataFrame(X.toarray()), y)"
      ],
      "execution_count": null,
      "outputs": []
    },
    {
      "cell_type": "markdown",
      "metadata": {
        "id": "pmABVF2FM8sw"
      },
      "source": [
        "### **Word2Vec**"
      ]
    },
    {
      "cell_type": "code",
      "metadata": {
        "id": "G9FONaHcM45W"
      },
      "source": [
        "def get_vec(x):\n",
        "    doc = nlp(x)\n",
        "    return doc.vector.reshape(1, -1)"
      ],
      "execution_count": null,
      "outputs": []
    },
    {
      "cell_type": "code",
      "metadata": {
        "id": "rG-M7JXdNALK"
      },
      "source": [
        "%%time\n",
        "dfr['vec'] = dfr['tweets'].apply(lambda x: get_vec(x))"
      ],
      "execution_count": null,
      "outputs": []
    },
    {
      "cell_type": "code",
      "metadata": {
        "id": "Xsea_OZSNEZg"
      },
      "source": [
        "X = np.concatenate(dfr['vec'].to_numpy(), axis = 0)"
      ],
      "execution_count": null,
      "outputs": []
    },
    {
      "cell_type": "code",
      "metadata": {
        "id": "gaLYDrcINEgO"
      },
      "source": [
        "X.shape"
      ],
      "execution_count": null,
      "outputs": []
    },
    {
      "cell_type": "code",
      "metadata": {
        "id": "TJXAVebTNAPr"
      },
      "source": [
        "classify(pd.DataFrame(X), y)"
      ],
      "execution_count": null,
      "outputs": []
    },
    {
      "cell_type": "code",
      "metadata": {
        "id": "c6KA7kwzNAb7"
      },
      "source": [
        "def predict_w2v(x):\n",
        "    for key in clf.keys():\n",
        "        y_pred = clf[key].predict(get_vec(x))\n",
        "        print(key, \"-->\", y_pred)"
      ],
      "execution_count": null,
      "outputs": []
    },
    {
      "cell_type": "code",
      "metadata": {
        "id": "ZEjWcY7fNLmu"
      },
      "source": [
        "predict_w2v('hi, thanks for watching this video. please like and subscribe')"
      ],
      "execution_count": null,
      "outputs": []
    },
    {
      "cell_type": "code",
      "metadata": {
        "id": "0egAn8njNLs4"
      },
      "source": [
        "predict_w2v('please let me know if you want more video')"
      ],
      "execution_count": null,
      "outputs": []
    },
    {
      "cell_type": "code",
      "metadata": {
        "id": "RN6a3yZMNMKy"
      },
      "source": [
        "predict_w2v('congratulation looking good congrats')"
      ],
      "execution_count": null,
      "outputs": []
    }
  ]
}