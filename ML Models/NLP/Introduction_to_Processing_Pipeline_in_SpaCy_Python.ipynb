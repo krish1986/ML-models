{
  "nbformat": 4,
  "nbformat_minor": 0,
  "metadata": {
    "colab": {
      "name": "Introduction to Processing Pipeline in SpaCy Python.ipynb",
      "provenance": [],
      "collapsed_sections": []
    },
    "kernelspec": {
      "name": "python3",
      "display_name": "Python 3"
    },
    "language_info": {
      "name": "python"
    }
  },
  "cells": [
    {
      "cell_type": "code",
      "metadata": {
        "id": "4M-P3PtsECEp"
      },
      "source": [
        "import spacy\n",
        "from spacy.matcher import Matcher\n",
        "from spacy.tokens import Span\n",
        "from spacy import displacy\n",
        "nlp = spacy.load('en_core_web_sm')"
      ],
      "execution_count": 1,
      "outputs": []
    },
    {
      "cell_type": "code",
      "metadata": {
        "id": "g5CKi5bJEIWO"
      },
      "source": [
        "doc = nlp('This is raw text')"
      ],
      "execution_count": 2,
      "outputs": []
    },
    {
      "cell_type": "code",
      "metadata": {
        "id": "Xr4JJO14ENbd"
      },
      "source": [
        "texts = [\"This is raw text\", \"There is lots of text\"]\n",
        "docs = list(nlp.pipe(texts))"
      ],
      "execution_count": 3,
      "outputs": []
    },
    {
      "cell_type": "code",
      "metadata": {
        "colab": {
          "base_uri": "https://localhost:8080/"
        },
        "id": "-CRKGpu-EoQf",
        "outputId": "0bc6eecd-272c-486a-e389-d7842690d890"
      },
      "source": [
        "texts = [\n",
        "    \"Net income was $9.4 million compared to the prior year of $2.7 million.\",\n",
        "    \"Revenue exceeded twelve billion dollars, with a loss of $1b.\",\n",
        "]\n",
        "\n",
        "nlp = spacy.load(\"en_core_web_sm\")\n",
        "docs = nlp.pipe(texts, disable=[\"tagger\", \"parser\"])\n",
        "for doc in docs:\n",
        "    # Do something with the doc here\n",
        "    print([(ent.text, ent.label_) for ent in doc.ents])\n",
        "    print()"
      ],
      "execution_count": 4,
      "outputs": [
        {
          "output_type": "stream",
          "text": [
            "[('$9.4 million', 'MONEY'), ('the prior year', 'DATE'), ('$2.7 million', 'MONEY')]\n",
            "\n",
            "[('twelve billion dollars', 'MONEY'), ('1b', 'MONEY')]\n",
            "\n"
          ],
          "name": "stdout"
        }
      ]
    },
    {
      "cell_type": "code",
      "metadata": {
        "id": "mWdIzin3E6jT"
      },
      "source": [
        "nlp = spacy.load('en_core_web_sm')\n",
        "\n",
        "# 1. Use as a contextmanager\n",
        "with nlp.disable_pipes(\"tagger\", \"parser\"):\n",
        "    doc = nlp(\"I won't be tagged and parsed\")\n",
        "doc = nlp(\"I will be tagged and parsed\")"
      ],
      "execution_count": 5,
      "outputs": []
    },
    {
      "cell_type": "code",
      "metadata": {
        "id": "phh9OMvtIfNu"
      },
      "source": [
        "# 2. Restore manually\n",
        "disabled = nlp.disable_pipes(\"ner\")\n",
        "doc = nlp(\"I won't have named entities\")\n",
        "disabled.restore()"
      ],
      "execution_count": 6,
      "outputs": []
    },
    {
      "cell_type": "code",
      "metadata": {
        "id": "O96NgD1lIg3q"
      },
      "source": [
        ""
      ],
      "execution_count": null,
      "outputs": []
    }
  ]
}