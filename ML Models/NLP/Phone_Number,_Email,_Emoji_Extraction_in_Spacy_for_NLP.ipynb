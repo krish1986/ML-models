{
  "nbformat": 4,
  "nbformat_minor": 0,
  "metadata": {
    "colab": {
      "name": "Phone Number, Email, Emoji Extraction in Spacy for NLP.ipynb",
      "provenance": [],
      "collapsed_sections": []
    },
    "kernelspec": {
      "name": "python3",
      "display_name": "Python 3"
    },
    "language_info": {
      "name": "python"
    }
  },
  "cells": [
    {
      "cell_type": "code",
      "metadata": {
        "id": "MThkLNS2x59m"
      },
      "source": [
        "import spacy\n",
        "import re\n",
        "from spacy.matcher import Matcher\n",
        "from spacy.tokens import Span\n",
        "from spacy import displacy\n",
        "nlp = spacy.load('en_core_web_sm')\n",
        "from spacy.matcher import PhraseMatcher\n",
        "from spacy.pipeline import EntityRuler"
      ],
      "execution_count": 87,
      "outputs": []
    },
    {
      "cell_type": "markdown",
      "metadata": {
        "id": "WnC-RN_QzqIB"
      },
      "source": [
        "### **Using Linguistic annotations**"
      ]
    },
    {
      "cell_type": "code",
      "metadata": {
        "id": "iJU5hCzLyU-z"
      },
      "source": [
        "matcher = Matcher(nlp.vocab)"
      ],
      "execution_count": 20,
      "outputs": []
    },
    {
      "cell_type": "code",
      "metadata": {
        "id": "dznOo1Ox0gT_"
      },
      "source": [
        "matched_sents = []"
      ],
      "execution_count": 21,
      "outputs": []
    },
    {
      "cell_type": "code",
      "metadata": {
        "id": "zt5xvOB-0qvf"
      },
      "source": [
        "pattern = [{'LOWER': 'facebook'}, {'LEMMA': 'be'}, {\"POS\": 'ADV', 'OP': '*'}, {'POS': 'ADJ'}]"
      ],
      "execution_count": 22,
      "outputs": []
    },
    {
      "cell_type": "code",
      "metadata": {
        "id": "KcxCfhA_1DJl"
      },
      "source": [
        "def callback_method(matcher, doc, i, matches): #necessary to process all the text together.\n",
        "  matched_id, start, end = matches[i]\n",
        "  span = doc[start:end]\n",
        "  sent = span.sent\n",
        "\n",
        "  match_ents = [{'start': span.start_char - sent.start_char, 'end': span.end_char - sent.start_char,\n",
        "                 'label': 'MATCH'}]\n",
        "  matched_sents.append({'text': sent.text, 'ents':match_ents})"
      ],
      "execution_count": 23,
      "outputs": []
    },
    {
      "cell_type": "code",
      "metadata": {
        "id": "27704tbF07Ff"
      },
      "source": [
        "matcher.add('fb', callback_method, pattern)"
      ],
      "execution_count": 24,
      "outputs": []
    },
    {
      "cell_type": "code",
      "metadata": {
        "id": "DsQ6FpFZ2XP6"
      },
      "source": [
        "doc = nlp(\"I'd say that Facebook is evil. - Facebook is pretty cool, right?\")"
      ],
      "execution_count": 25,
      "outputs": []
    },
    {
      "cell_type": "code",
      "metadata": {
        "id": "xD4D4AiY2luq"
      },
      "source": [
        "matches = matcher(doc)"
      ],
      "execution_count": 26,
      "outputs": []
    },
    {
      "cell_type": "code",
      "metadata": {
        "colab": {
          "base_uri": "https://localhost:8080/"
        },
        "id": "l6LRw4rL2qoD",
        "outputId": "998e7579-c001-405b-8a34-0600cea66d48"
      },
      "source": [
        "matches"
      ],
      "execution_count": 27,
      "outputs": [
        {
          "output_type": "execute_result",
          "data": {
            "text/plain": [
              "[(8017838677478259815, 4, 7), (8017838677478259815, 9, 13)]"
            ]
          },
          "metadata": {
            "tags": []
          },
          "execution_count": 27
        }
      ]
    },
    {
      "cell_type": "code",
      "metadata": {
        "colab": {
          "base_uri": "https://localhost:8080/"
        },
        "id": "bsfqfbPD2sUC",
        "outputId": "1c6a7c9a-6379-4934-f280-35a6dffe9235"
      },
      "source": [
        "matched_sents"
      ],
      "execution_count": 28,
      "outputs": [
        {
          "output_type": "execute_result",
          "data": {
            "text/plain": [
              "[{'ents': [{'end': 29, 'label': 'MATCH', 'start': 13}],\n",
              "  'text': \"I'd say that Facebook is evil.\"},\n",
              " {'ents': [{'end': 23, 'label': 'MATCH', 'start': 0}],\n",
              "  'text': 'Facebook is pretty cool, right?'}]"
            ]
          },
          "metadata": {
            "tags": []
          },
          "execution_count": 28
        }
      ]
    },
    {
      "cell_type": "code",
      "metadata": {
        "colab": {
          "base_uri": "https://localhost:8080/",
          "height": 103
        },
        "id": "qAMKXtH_26NU",
        "outputId": "71c94f7c-ad0d-43ab-f6a8-5b9acc57c5a6"
      },
      "source": [
        "displacy.render(matched_sents, style='ent', manual=True)"
      ],
      "execution_count": 29,
      "outputs": [
        {
          "output_type": "execute_result",
          "data": {
            "application/vnd.google.colaboratory.intrinsic+json": {
              "type": "string"
            },
            "text/plain": [
              "'<div class=\"entities\" style=\"line-height: 2.5; direction: ltr\">I\\'d say that \\n<mark class=\"entity\" style=\"background: #ddd; padding: 0.45em 0.6em; margin: 0 0.25em; line-height: 1; border-radius: 0.35em;\">\\n    Facebook is evil\\n    <span style=\"font-size: 0.8em; font-weight: bold; line-height: 1; border-radius: 0.35em; text-transform: uppercase; vertical-align: middle; margin-left: 0.5rem\">MATCH</span>\\n</mark>\\n.</div>\\n\\n<div class=\"entities\" style=\"line-height: 2.5; direction: ltr\">\\n<mark class=\"entity\" style=\"background: #ddd; padding: 0.45em 0.6em; margin: 0 0.25em; line-height: 1; border-radius: 0.35em;\">\\n    Facebook is pretty cool\\n    <span style=\"font-size: 0.8em; font-weight: bold; line-height: 1; border-radius: 0.35em; text-transform: uppercase; vertical-align: middle; margin-left: 0.5rem\">MATCH</span>\\n</mark>\\n, right?</div>'"
            ]
          },
          "metadata": {
            "tags": []
          },
          "execution_count": 29
        }
      ]
    },
    {
      "cell_type": "markdown",
      "metadata": {
        "id": "x5iDaJ3U4HjM"
      },
      "source": [
        "### **Phone Numbers**"
      ]
    },
    {
      "cell_type": "code",
      "metadata": {
        "id": "_8sJA-OK26QR"
      },
      "source": [
        "pattern = [{'ORTH': '('}, {'SHAPE': 'ddd'}, {'ORTH': ')'}, {'SHAPE': 'dddd'}, {'ORTH': '-', 'OP': '?'}, {'SHAPE': 'dddd'}]"
      ],
      "execution_count": 30,
      "outputs": []
    },
    {
      "cell_type": "code",
      "metadata": {
        "id": "mvsAKTfJ26S2"
      },
      "source": [
        "matcher = Matcher(nlp.vocab)"
      ],
      "execution_count": 31,
      "outputs": []
    },
    {
      "cell_type": "code",
      "metadata": {
        "id": "GWWFiyGu26Vm"
      },
      "source": [
        "matcher.add('Phonenumber', None, pattern)"
      ],
      "execution_count": 32,
      "outputs": []
    },
    {
      "cell_type": "code",
      "metadata": {
        "id": "Pf4W77YT26YL"
      },
      "source": [
        "doc = nlp('Call me at (123) 4562 7893')"
      ],
      "execution_count": 36,
      "outputs": []
    },
    {
      "cell_type": "code",
      "metadata": {
        "colab": {
          "base_uri": "https://localhost:8080/"
        },
        "id": "bhWUsl0O6mcR",
        "outputId": "1ff9fbc2-5cde-4b7b-ace0-1b4a78c7d68f"
      },
      "source": [
        "print([t.text for t in doc])"
      ],
      "execution_count": 37,
      "outputs": [
        {
          "output_type": "stream",
          "text": [
            "['Call', 'me', 'at', '(', '123', ')', '4562', '7893']\n"
          ],
          "name": "stdout"
        }
      ]
    },
    {
      "cell_type": "code",
      "metadata": {
        "colab": {
          "base_uri": "https://localhost:8080/"
        },
        "id": "2nyLeW4R6uvy",
        "outputId": "30397dcb-4ea9-4aed-ad41-3afcd6d0a200"
      },
      "source": [
        "matches = matcher(doc)\n",
        "matches"
      ],
      "execution_count": 38,
      "outputs": [
        {
          "output_type": "execute_result",
          "data": {
            "text/plain": [
              "[(2874678971812469239, 3, 8)]"
            ]
          },
          "metadata": {
            "tags": []
          },
          "execution_count": 38
        }
      ]
    },
    {
      "cell_type": "code",
      "metadata": {
        "colab": {
          "base_uri": "https://localhost:8080/"
        },
        "id": "-v3LPKRV615y",
        "outputId": "db28fb05-6d9b-40a3-d3e6-45aadb9d2b62"
      },
      "source": [
        "for match_id, start, end in matches:\n",
        "  span = doc[start:end]\n",
        "  print(span.text)"
      ],
      "execution_count": 41,
      "outputs": [
        {
          "output_type": "stream",
          "text": [
            "(123) 4562 7893\n"
          ],
          "name": "stdout"
        }
      ]
    },
    {
      "cell_type": "markdown",
      "metadata": {
        "id": "WmMgBtqb_meT"
      },
      "source": [
        "### **Email address matching**"
      ]
    },
    {
      "cell_type": "code",
      "metadata": {
        "id": "9Z9suZ_N_dlL"
      },
      "source": [
        "pattern = [{'TEXT': {'REGEX': '[a-zA-Z0-9-_.]+@[a-zA-Z0-9-_.]+'}}]"
      ],
      "execution_count": 42,
      "outputs": []
    },
    {
      "cell_type": "code",
      "metadata": {
        "id": "x7qO6PNN_hVF"
      },
      "source": [
        "matcher = Matcher(nlp.vocab)"
      ],
      "execution_count": 43,
      "outputs": []
    },
    {
      "cell_type": "code",
      "metadata": {
        "id": "6pb4tTXi_hX1"
      },
      "source": [
        "matcher.add('email', None, pattern)"
      ],
      "execution_count": 44,
      "outputs": []
    },
    {
      "cell_type": "code",
      "metadata": {
        "id": "CCyv0JWl_har"
      },
      "source": [
        "doc = nlp('Email me at test@gmail.com and talk.me@gmail.com')"
      ],
      "execution_count": 47,
      "outputs": []
    },
    {
      "cell_type": "code",
      "metadata": {
        "id": "yQr4_SLw_hdg"
      },
      "source": [
        "matches = matcher(doc)"
      ],
      "execution_count": 48,
      "outputs": []
    },
    {
      "cell_type": "code",
      "metadata": {
        "colab": {
          "base_uri": "https://localhost:8080/"
        },
        "id": "WwRAzVk6_hgy",
        "outputId": "8cf23e84-b94b-48f5-9631-62ef90d4da1f"
      },
      "source": [
        "matches"
      ],
      "execution_count": 49,
      "outputs": [
        {
          "output_type": "execute_result",
          "data": {
            "text/plain": [
              "[(7320900731437023467, 3, 4), (7320900731437023467, 5, 6)]"
            ]
          },
          "metadata": {
            "tags": []
          },
          "execution_count": 49
        }
      ]
    },
    {
      "cell_type": "code",
      "metadata": {
        "colab": {
          "base_uri": "https://localhost:8080/"
        },
        "id": "9PngxvoS_hjM",
        "outputId": "e7ba1758-c57d-4a09-d6b0-a88a475e8be9"
      },
      "source": [
        "for match_id, start, end in matches:\n",
        "  span = doc[start:end]\n",
        "  print(span.text)"
      ],
      "execution_count": 50,
      "outputs": [
        {
          "output_type": "stream",
          "text": [
            "test@gmail.com\n",
            "talk.me@gmail.com\n"
          ],
          "name": "stdout"
        }
      ]
    },
    {
      "cell_type": "markdown",
      "metadata": {
        "id": "1M7JNDXVHrO4"
      },
      "source": [
        "### **Hashtags and emoji detection on social media**"
      ]
    },
    {
      "cell_type": "code",
      "metadata": {
        "colab": {
          "base_uri": "https://localhost:8080/"
        },
        "id": "xLQUwt_2_kNB",
        "outputId": "1b7f5fca-8b7c-472e-8d1d-773f800c1cef"
      },
      "source": [
        "pos_emoji = [\"😀\", \"😃\", \"😂\", \"🤣\", \"😊\", \"😍\"]  # Positive emoji\n",
        "neg_emoji = [\"😞\", \"😠\", \"😩\", \"😢\", \"😭\", \"😒\"]  # Negative emoji\n",
        "pos_emoji"
      ],
      "execution_count": 52,
      "outputs": [
        {
          "output_type": "execute_result",
          "data": {
            "text/plain": [
              "['😀', '😃', '😂', '🤣', '😊', '😍']"
            ]
          },
          "metadata": {
            "tags": []
          },
          "execution_count": 52
        }
      ]
    },
    {
      "cell_type": "code",
      "metadata": {
        "id": "WYmz1BakHfnz"
      },
      "source": [
        "pos_patterns = [[{'ORTH': emoji}] for emoji in pos_emoji]\n",
        "neg_patterns = [[{'ORTH': emoji}] for emoji in neg_emoji]"
      ],
      "execution_count": 53,
      "outputs": []
    },
    {
      "cell_type": "code",
      "metadata": {
        "colab": {
          "base_uri": "https://localhost:8080/"
        },
        "id": "TBXbCM0CHfq8",
        "outputId": "48090313-2ae6-43f9-fcb0-438d7bfee90e"
      },
      "source": [
        "pos_patterns"
      ],
      "execution_count": 54,
      "outputs": [
        {
          "output_type": "execute_result",
          "data": {
            "text/plain": [
              "[[{'ORTH': '😀'}],\n",
              " [{'ORTH': '😃'}],\n",
              " [{'ORTH': '😂'}],\n",
              " [{'ORTH': '🤣'}],\n",
              " [{'ORTH': '😊'}],\n",
              " [{'ORTH': '😍'}]]"
            ]
          },
          "metadata": {
            "tags": []
          },
          "execution_count": 54
        }
      ]
    },
    {
      "cell_type": "code",
      "metadata": {
        "colab": {
          "base_uri": "https://localhost:8080/"
        },
        "id": "W5wRki5MHfuK",
        "outputId": "ab5ef9e6-ea13-4596-8dd0-a86b6e621108"
      },
      "source": [
        "neg_patterns"
      ],
      "execution_count": 55,
      "outputs": [
        {
          "output_type": "execute_result",
          "data": {
            "text/plain": [
              "[[{'ORTH': '😞'}],\n",
              " [{'ORTH': '😠'}],\n",
              " [{'ORTH': '😩'}],\n",
              " [{'ORTH': '😢'}],\n",
              " [{'ORTH': '😭'}],\n",
              " [{'ORTH': '😒'}]]"
            ]
          },
          "metadata": {
            "tags": []
          },
          "execution_count": 55
        }
      ]
    },
    {
      "cell_type": "code",
      "metadata": {
        "id": "Li9erXT9HfxO"
      },
      "source": [
        "def label_sentiment(matcher, doc, i, matches):\n",
        "  match_id, start, end = matches[i]\n",
        "  if doc.vocab.strings[match_id] == 'HAPPY':\n",
        "    doc.sentiment += 0.1\n",
        "  elif doc.vocab.strings[match_id] == 'SAD':\n",
        "    doc.sentiment -= 0.1"
      ],
      "execution_count": 56,
      "outputs": []
    },
    {
      "cell_type": "code",
      "metadata": {
        "id": "0CVAFekLHf0z"
      },
      "source": [
        "matcher = Matcher(nlp.vocab)"
      ],
      "execution_count": 58,
      "outputs": []
    },
    {
      "cell_type": "code",
      "metadata": {
        "id": "YiImTsVqHf38"
      },
      "source": [
        "matcher.add('HAPPY', label_sentiment, *pos_patterns)\n",
        "matcher.add('SAD', label_sentiment, *neg_patterns)"
      ],
      "execution_count": 60,
      "outputs": []
    },
    {
      "cell_type": "code",
      "metadata": {
        "id": "FNjGQ4yu_kPz"
      },
      "source": [
        "matcher.add('HASHTAG', None, [{'TEXT': '#'}, {'IS_ASCII': True}])"
      ],
      "execution_count": 61,
      "outputs": []
    },
    {
      "cell_type": "code",
      "metadata": {
        "id": "r35QGuIz_kSn"
      },
      "source": [
        "doc = nlp(\"Hello world 😀 #Krish\")"
      ],
      "execution_count": 69,
      "outputs": []
    },
    {
      "cell_type": "code",
      "metadata": {
        "id": "Z6exKGR7_kV2"
      },
      "source": [
        "matches = matcher(doc)"
      ],
      "execution_count": 70,
      "outputs": []
    },
    {
      "cell_type": "code",
      "metadata": {
        "colab": {
          "base_uri": "https://localhost:8080/"
        },
        "id": "cGoPR0ql_kZz",
        "outputId": "6c4d04ab-55b3-4327-ee43-ebb684ccf79a"
      },
      "source": [
        "for match_id, start, end in matches:\n",
        "  string_id = doc.vocab.strings[match_id]\n",
        "  span = doc[start:end]\n",
        "  print(string_id, span.text)"
      ],
      "execution_count": 71,
      "outputs": [
        {
          "output_type": "stream",
          "text": [
            "HAPPY 😀\n",
            "HASHTAG #Krish\n"
          ],
          "name": "stdout"
        }
      ]
    },
    {
      "cell_type": "markdown",
      "metadata": {
        "id": "kHdraNZbUCuy"
      },
      "source": [
        "### **Efficient phrase matching**"
      ]
    },
    {
      "cell_type": "code",
      "metadata": {
        "id": "zPhhETPcSasw"
      },
      "source": [
        "matcher = PhraseMatcher(nlp.vocab)"
      ],
      "execution_count": 75,
      "outputs": []
    },
    {
      "cell_type": "code",
      "metadata": {
        "id": "NmTvEu0_UQBU"
      },
      "source": [
        "terms = ['BARACK OBAMA', 'ANGELA MERKEL', \"WASHINGTON D.C.\"]"
      ],
      "execution_count": 76,
      "outputs": []
    },
    {
      "cell_type": "code",
      "metadata": {
        "id": "9RkQgZ2pUeCU"
      },
      "source": [
        "pattern = [nlp.make_doc(text) for text in terms]"
      ],
      "execution_count": 77,
      "outputs": []
    },
    {
      "cell_type": "code",
      "metadata": {
        "colab": {
          "base_uri": "https://localhost:8080/"
        },
        "id": "rTiNglYPUoQG",
        "outputId": "ce1d96e7-d668-4744-96c3-8754dfd23c28"
      },
      "source": [
        "pattern"
      ],
      "execution_count": 78,
      "outputs": [
        {
          "output_type": "execute_result",
          "data": {
            "text/plain": [
              "[BARACK OBAMA, ANGELA MERKEL, WASHINGTON D.C.]"
            ]
          },
          "metadata": {
            "tags": []
          },
          "execution_count": 78
        }
      ]
    },
    {
      "cell_type": "code",
      "metadata": {
        "id": "hSz10ABOUo_d"
      },
      "source": [
        "matcher.add('TERM', None, *pattern)"
      ],
      "execution_count": 80,
      "outputs": []
    },
    {
      "cell_type": "code",
      "metadata": {
        "id": "_f7h7JLMUthN"
      },
      "source": [
        "doc = nlp(\"German Chancellor ANGELA MERKEL and US President BARACK OBAMA \"\n",
        "          \"converse in the Oval Office inside the White House in WASHINGTON D.C.\")"
      ],
      "execution_count": 82,
      "outputs": []
    },
    {
      "cell_type": "code",
      "metadata": {
        "colab": {
          "base_uri": "https://localhost:8080/"
        },
        "id": "P6-szgoPU8uE",
        "outputId": "f1ecf118-17f8-4bf1-fbdc-c106ad8de3ef"
      },
      "source": [
        "doc"
      ],
      "execution_count": 83,
      "outputs": [
        {
          "output_type": "execute_result",
          "data": {
            "text/plain": [
              "German Chancellor ANGELA MERKEL and US President BARACK OBAMA converse in the Oval Office inside the White House in WASHINGTON D.C."
            ]
          },
          "metadata": {
            "tags": []
          },
          "execution_count": 83
        }
      ]
    },
    {
      "cell_type": "code",
      "metadata": {
        "id": "XXNyLIyXVB7d"
      },
      "source": [
        "matches = matcher(doc)"
      ],
      "execution_count": 84,
      "outputs": []
    },
    {
      "cell_type": "code",
      "metadata": {
        "colab": {
          "base_uri": "https://localhost:8080/"
        },
        "id": "aX1MsAgJVKfF",
        "outputId": "5aa0909b-076a-4a01-9ddc-d544dc7efa28"
      },
      "source": [
        "matches"
      ],
      "execution_count": 85,
      "outputs": [
        {
          "output_type": "execute_result",
          "data": {
            "text/plain": [
              "[(1187835807175779026, 2, 4),\n",
              " (1187835807175779026, 7, 9),\n",
              " (1187835807175779026, 19, 21)]"
            ]
          },
          "metadata": {
            "tags": []
          },
          "execution_count": 85
        }
      ]
    },
    {
      "cell_type": "code",
      "metadata": {
        "colab": {
          "base_uri": "https://localhost:8080/"
        },
        "id": "abrCw4mHVLDl",
        "outputId": "1b15da5a-bca7-428c-dd98-e4207b4e61a3"
      },
      "source": [
        "for match_id, start, end in matches:\n",
        "  string_id = doc.vocab.strings[match_id]\n",
        "  span = doc[start:end]\n",
        "  print(string_id, span.text)"
      ],
      "execution_count": 86,
      "outputs": [
        {
          "output_type": "stream",
          "text": [
            "TERM ANGELA MERKEL\n",
            "TERM BARACK OBAMA\n",
            "TERM WASHINGTON D.C.\n"
          ],
          "name": "stdout"
        }
      ]
    },
    {
      "cell_type": "markdown",
      "metadata": {
        "id": "Sptjm8QyXUX_"
      },
      "source": [
        "### **Custom rule based entity recognition**"
      ]
    },
    {
      "cell_type": "code",
      "metadata": {
        "id": "NdV3fXHcVOK2"
      },
      "source": [
        "nlp = spacy.load('en_core_web_sm')"
      ],
      "execution_count": 88,
      "outputs": []
    },
    {
      "cell_type": "code",
      "metadata": {
        "id": "tI1RraVOX-UM"
      },
      "source": [
        "ruler = EntityRuler(nlp)"
      ],
      "execution_count": 89,
      "outputs": []
    },
    {
      "cell_type": "code",
      "metadata": {
        "id": "9CjanEBtYA3j"
      },
      "source": [
        "patterns = [{'label': 'ORG', 'pattern': 'KRISH LTD'},\n",
        "            {'label': 'GPE', 'pattern': [{'LOWER': 'san'}, {'LOWER': 'francisco'}]}]"
      ],
      "execution_count": 90,
      "outputs": []
    },
    {
      "cell_type": "code",
      "metadata": {
        "colab": {
          "base_uri": "https://localhost:8080/"
        },
        "id": "raWxpgVsYdEV",
        "outputId": "c571e50a-9c81-44fd-a109-103e0d6bd238"
      },
      "source": [
        "patterns"
      ],
      "execution_count": 91,
      "outputs": [
        {
          "output_type": "execute_result",
          "data": {
            "text/plain": [
              "[{'label': 'ORG', 'pattern': 'KRISH LTD'},\n",
              " {'label': 'GPE', 'pattern': [{'LOWER': 'san'}, {'LOWER': 'francisco'}]}]"
            ]
          },
          "metadata": {
            "tags": []
          },
          "execution_count": 91
        }
      ]
    },
    {
      "cell_type": "code",
      "metadata": {
        "id": "RFoPk5OIYd8U"
      },
      "source": [
        "ruler.add_patterns(patterns)"
      ],
      "execution_count": 92,
      "outputs": []
    },
    {
      "cell_type": "code",
      "metadata": {
        "id": "wx3BJDBkYn7s"
      },
      "source": [
        "nlp.add_pipe(ruler)"
      ],
      "execution_count": 93,
      "outputs": []
    },
    {
      "cell_type": "code",
      "metadata": {
        "id": "KqqVbXrzYqTc"
      },
      "source": [
        "doc = nlp('KRISH LTD is opening its first big office in San Francisco.')"
      ],
      "execution_count": 94,
      "outputs": []
    },
    {
      "cell_type": "code",
      "metadata": {
        "colab": {
          "base_uri": "https://localhost:8080/"
        },
        "id": "zJpoRKH4YwzF",
        "outputId": "1cfa96c8-87a5-4cb6-a010-a10aa83f70c6"
      },
      "source": [
        "doc"
      ],
      "execution_count": 95,
      "outputs": [
        {
          "output_type": "execute_result",
          "data": {
            "text/plain": [
              "KRISH LTD is opening its first big office in San Francisco."
            ]
          },
          "metadata": {
            "tags": []
          },
          "execution_count": 95
        }
      ]
    },
    {
      "cell_type": "code",
      "metadata": {
        "colab": {
          "base_uri": "https://localhost:8080/"
        },
        "id": "3SXZhbBrY0JB",
        "outputId": "7576221c-503f-4dba-ef3c-ff7891cb8732"
      },
      "source": [
        "for ent in doc.ents:\n",
        "  print(ent.text, ent.label_)"
      ],
      "execution_count": 97,
      "outputs": [
        {
          "output_type": "stream",
          "text": [
            "KRISH LTD ORG\n",
            "first ORDINAL\n",
            "San Francisco GPE\n"
          ],
          "name": "stdout"
        }
      ]
    },
    {
      "cell_type": "code",
      "metadata": {
        "id": "BrRcKtLtY0L6"
      },
      "source": [
        ""
      ],
      "execution_count": null,
      "outputs": []
    },
    {
      "cell_type": "code",
      "metadata": {
        "id": "NsOh_Vi2Y0QG"
      },
      "source": [
        ""
      ],
      "execution_count": null,
      "outputs": []
    }
  ]
}