{
  "nbformat": 4,
  "nbformat_minor": 0,
  "metadata": {
    "colab": {
      "name": "Linguistic Features Extraction in NLP - spacy.ipynb",
      "provenance": [],
      "collapsed_sections": []
    },
    "kernelspec": {
      "name": "python3",
      "display_name": "Python 3"
    },
    "language_info": {
      "name": "python"
    }
  },
  "cells": [
    {
      "cell_type": "code",
      "metadata": {
        "id": "T7JUHul5pncx"
      },
      "source": [
        "import spacy\n",
        "from spacy import displacy"
      ],
      "execution_count": 58,
      "outputs": []
    },
    {
      "cell_type": "code",
      "metadata": {
        "id": "gmd2K5ZC8HO9"
      },
      "source": [
        "nlp = spacy.load('en_core_web_sm')"
      ],
      "execution_count": 6,
      "outputs": []
    },
    {
      "cell_type": "code",
      "metadata": {
        "id": "SfOZjAge_UL-"
      },
      "source": [
        "doc =  nlp(\"Apple isn't looking at buying U.K. startup for $1 billion\")"
      ],
      "execution_count": 9,
      "outputs": []
    },
    {
      "cell_type": "code",
      "metadata": {
        "colab": {
          "base_uri": "https://localhost:8080/"
        },
        "id": "cEcr7n3__UPB",
        "outputId": "4fd135da-9d82-4293-fc3a-6f9d1c7f198f"
      },
      "source": [
        "for token in doc:\n",
        "  print(token.text)"
      ],
      "execution_count": 10,
      "outputs": [
        {
          "output_type": "stream",
          "text": [
            "Apple\n",
            "is\n",
            "n't\n",
            "looking\n",
            "at\n",
            "buying\n",
            "U.K.\n",
            "startup\n",
            "for\n",
            "$\n",
            "1\n",
            "billion\n"
          ],
          "name": "stdout"
        }
      ]
    },
    {
      "cell_type": "markdown",
      "metadata": {
        "id": "IpULZ2edBKHc"
      },
      "source": [
        "**part of speech tagging (POS)**"
      ]
    },
    {
      "cell_type": "code",
      "metadata": {
        "colab": {
          "base_uri": "https://localhost:8080/"
        },
        "id": "63R0tSBT_URp",
        "outputId": "79bd0a73-b554-4d76-d81c-f3a9136e1d80"
      },
      "source": [
        "doc"
      ],
      "execution_count": 11,
      "outputs": [
        {
          "output_type": "execute_result",
          "data": {
            "text/plain": [
              "Apple isn't looking at buying U.K. startup for $1 billion"
            ]
          },
          "metadata": {
            "tags": []
          },
          "execution_count": 11
        }
      ]
    },
    {
      "cell_type": "code",
      "metadata": {
        "colab": {
          "base_uri": "https://localhost:8080/"
        },
        "id": "vQ9XUVQb_UUV",
        "outputId": "3c3c95e1-059e-459a-de9f-9fe39cdaa8cc"
      },
      "source": [
        "for token in doc:\n",
        "  print(token.text, token.lemma_)"
      ],
      "execution_count": 12,
      "outputs": [
        {
          "output_type": "stream",
          "text": [
            "Apple Apple\n",
            "is be\n",
            "n't not\n",
            "looking look\n",
            "at at\n",
            "buying buy\n",
            "U.K. U.K.\n",
            "startup startup\n",
            "for for\n",
            "$ $\n",
            "1 1\n",
            "billion billion\n"
          ],
          "name": "stdout"
        }
      ]
    },
    {
      "cell_type": "code",
      "metadata": {
        "colab": {
          "base_uri": "https://localhost:8080/"
        },
        "id": "n-BiD3yu_UW6",
        "outputId": "fab6b943-483d-4054-efea-c1e0f89b8bc7"
      },
      "source": [
        "for token in doc:\n",
        "  print(f'{token.text:{15}} {token.lemma_:{15}} {token.pos_:{10}} {token.is_stop}')"
      ],
      "execution_count": 16,
      "outputs": [
        {
          "output_type": "stream",
          "text": [
            "Apple           Apple           PROPN      False\n",
            "is              be              AUX        True\n",
            "n't             not             PART       True\n",
            "looking         look            VERB       False\n",
            "at              at              ADP        True\n",
            "buying          buy             VERB       False\n",
            "U.K.            U.K.            PROPN      False\n",
            "startup         startup         NOUN       False\n",
            "for             for             ADP        True\n",
            "$               $               SYM        False\n",
            "1               1               NUM        False\n",
            "billion         billion         NUM        False\n"
          ],
          "name": "stdout"
        }
      ]
    },
    {
      "cell_type": "markdown",
      "metadata": {
        "id": "Bi5GV-hnD6Xp"
      },
      "source": [
        "**Dependency Parsing**"
      ]
    },
    {
      "cell_type": "code",
      "metadata": {
        "colab": {
          "base_uri": "https://localhost:8080/"
        },
        "id": "dv27ezX3_UZZ",
        "outputId": "fca56400-0cd0-4018-ded4-835c6435181b"
      },
      "source": [
        "for chunk in doc.noun_chunks:\n",
        "  print(f'{chunk.text:{30}} {chunk.root.text:{15}} {chunk.root.dep_}')"
      ],
      "execution_count": 18,
      "outputs": [
        {
          "output_type": "stream",
          "text": [
            "Apple                          Apple           nsubj\n",
            "U.K. startup                   startup         dobj\n"
          ],
          "name": "stdout"
        }
      ]
    },
    {
      "cell_type": "markdown",
      "metadata": {
        "id": "h7Lxlo3sFjlW"
      },
      "source": [
        "**Named entity recognition**"
      ]
    },
    {
      "cell_type": "code",
      "metadata": {
        "colab": {
          "base_uri": "https://localhost:8080/"
        },
        "id": "WQswL7naCjts",
        "outputId": "fe2f8a16-9f06-4332-9ce8-1e02f699b69c"
      },
      "source": [
        "for ent in doc.ents:\n",
        "  print(ent.text, ent.label_)"
      ],
      "execution_count": 19,
      "outputs": [
        {
          "output_type": "stream",
          "text": [
            "Apple ORG\n",
            "U.K. GPE\n",
            "$1 billion MONEY\n"
          ],
          "name": "stdout"
        }
      ]
    },
    {
      "cell_type": "markdown",
      "metadata": {
        "id": "e36x_cG4GNTD"
      },
      "source": [
        "## **Sentence segmentation**"
      ]
    },
    {
      "cell_type": "code",
      "metadata": {
        "colab": {
          "base_uri": "https://localhost:8080/"
        },
        "id": "zvztJX67Cjwa",
        "outputId": "1182c862-6157-4163-8d60-a2ae41edb9a4"
      },
      "source": [
        "for sent in doc.sents:\n",
        "  print(sent)"
      ],
      "execution_count": 20,
      "outputs": [
        {
          "output_type": "stream",
          "text": [
            "Apple isn't looking at buying U.K. startup for $1 billion\n"
          ],
          "name": "stdout"
        }
      ]
    },
    {
      "cell_type": "code",
      "metadata": {
        "id": "0SAZBUINGLzE"
      },
      "source": [
        "doc1 = nlp(\"Welcome to home. Thanks for watching. Please be nice\")"
      ],
      "execution_count": 21,
      "outputs": []
    },
    {
      "cell_type": "code",
      "metadata": {
        "colab": {
          "base_uri": "https://localhost:8080/"
        },
        "id": "vnl-HbqEGL18",
        "outputId": "701a8b07-30e4-480a-a9de-6a7254c10e98"
      },
      "source": [
        "for sent in doc1.sents:\n",
        "  print(sent)"
      ],
      "execution_count": 22,
      "outputs": [
        {
          "output_type": "stream",
          "text": [
            "Welcome to home.\n",
            "Thanks for watching.\n",
            "Please be nice\n"
          ],
          "name": "stdout"
        }
      ]
    },
    {
      "cell_type": "code",
      "metadata": {
        "id": "gBZnxHD7GL4u"
      },
      "source": [
        "doc1 = nlp(\"Welcome to home? Thanks for watching\")"
      ],
      "execution_count": 23,
      "outputs": []
    },
    {
      "cell_type": "code",
      "metadata": {
        "colab": {
          "base_uri": "https://localhost:8080/"
        },
        "id": "GSGyBSuvCjzS",
        "outputId": "6c2add2f-6141-4f5c-daaf-274e14fd0e21"
      },
      "source": [
        "for sent in doc1.sents:\n",
        "  print(sent)"
      ],
      "execution_count": 24,
      "outputs": [
        {
          "output_type": "stream",
          "text": [
            "Welcome to home?\n",
            "Thanks for watching\n"
          ],
          "name": "stdout"
        }
      ]
    },
    {
      "cell_type": "code",
      "metadata": {
        "id": "snDQi-p2Cj11"
      },
      "source": [
        "doc1 = nlp(\"Welcome to...KGP Talkie...Thanks for watching\")"
      ],
      "execution_count": 31,
      "outputs": []
    },
    {
      "cell_type": "code",
      "metadata": {
        "colab": {
          "base_uri": "https://localhost:8080/"
        },
        "id": "Zl9ZiwS-_Ub6",
        "outputId": "ec7619c9-1f64-4982-f526-c7aec5627ad1"
      },
      "source": [
        "for sent in doc1.sents:\n",
        "  print(sent)"
      ],
      "execution_count": 32,
      "outputs": [
        {
          "output_type": "stream",
          "text": [
            "Welcome to...KGP Talkie...\n",
            "Thanks for watching\n"
          ],
          "name": "stdout"
        }
      ]
    },
    {
      "cell_type": "code",
      "metadata": {
        "id": "xNSaaQrz_Uel"
      },
      "source": [
        "doc1 = nlp(\"Welcome to.*.KGP Talkie.*.Thanks for watching\")"
      ],
      "execution_count": 33,
      "outputs": []
    },
    {
      "cell_type": "code",
      "metadata": {
        "colab": {
          "base_uri": "https://localhost:8080/"
        },
        "id": "18ho32SM_Uhg",
        "outputId": "6a282ed6-bb99-4782-849b-5f47cf4c6478"
      },
      "source": [
        "for sent in doc1.sents:\n",
        "  print(sent)"
      ],
      "execution_count": 34,
      "outputs": [
        {
          "output_type": "stream",
          "text": [
            "Welcome to.*.KGP\n",
            "Talkie.*.Thanks for watching\n"
          ],
          "name": "stdout"
        }
      ]
    },
    {
      "cell_type": "code",
      "metadata": {
        "id": "gXoafiVY_Uj4"
      },
      "source": [
        "def set_rule(doc):\n",
        "  for token in doc[:-1]:\n",
        "    if token.text == '...':\n",
        "      doc[token.i + 1].is_sent_start = True\n",
        "  return doc\n"
      ],
      "execution_count": 48,
      "outputs": []
    },
    {
      "cell_type": "code",
      "metadata": {
        "colab": {
          "base_uri": "https://localhost:8080/"
        },
        "id": "I3rLLk6dJNke",
        "outputId": "30a4eb11-6dce-4727-a845-b3b2fa1232d4"
      },
      "source": [
        "nlp.remove_pipe('set_rule')"
      ],
      "execution_count": 53,
      "outputs": [
        {
          "output_type": "execute_result",
          "data": {
            "text/plain": [
              "('set_rule', <function __main__.set_rule>)"
            ]
          },
          "metadata": {
            "tags": []
          },
          "execution_count": 53
        }
      ]
    },
    {
      "cell_type": "code",
      "metadata": {
        "id": "otJCdl5L_Umk"
      },
      "source": [
        "nlp.add_pipe(set_rule, before='parser')\n"
      ],
      "execution_count": 54,
      "outputs": []
    },
    {
      "cell_type": "code",
      "metadata": {
        "id": "HSDGDkGVI9Mj"
      },
      "source": [
        "doc = nlp(\"Welcome to KGP Talkie...Thanks...Like and subscribe!\")"
      ],
      "execution_count": 55,
      "outputs": []
    },
    {
      "cell_type": "code",
      "metadata": {
        "colab": {
          "base_uri": "https://localhost:8080/"
        },
        "id": "AqtE7RqA_Upe",
        "outputId": "e672465c-cb11-4d0c-f981-3363c2a6adf8"
      },
      "source": [
        "for sent in doc.sents:\n",
        "  print(sent)"
      ],
      "execution_count": 56,
      "outputs": [
        {
          "output_type": "stream",
          "text": [
            "Welcome to KGP Talkie...\n",
            "Thanks...\n",
            "Like and subscribe!\n"
          ],
          "name": "stdout"
        }
      ]
    },
    {
      "cell_type": "code",
      "metadata": {
        "colab": {
          "base_uri": "https://localhost:8080/"
        },
        "id": "0BGBukOB_Ur2",
        "outputId": "62c7b103-adbb-4e0c-8715-4379d4d437bd"
      },
      "source": [
        "for token in doc:\n",
        "  print(token.text)"
      ],
      "execution_count": 57,
      "outputs": [
        {
          "output_type": "stream",
          "text": [
            "Welcome\n",
            "to\n",
            "KGP\n",
            "Talkie\n",
            "...\n",
            "Thanks\n",
            "...\n",
            "Like\n",
            "and\n",
            "subscribe\n",
            "!\n"
          ],
          "name": "stdout"
        }
      ]
    },
    {
      "cell_type": "markdown",
      "metadata": {
        "id": "6oVL3SH6Jg3M"
      },
      "source": [
        "## **Spacy visualization tool**"
      ]
    },
    {
      "cell_type": "code",
      "metadata": {
        "colab": {
          "base_uri": "https://localhost:8080/"
        },
        "id": "OT-AZdnfIPaU",
        "outputId": "7d84636e-00c8-4271-e88c-50ba5de5491b"
      },
      "source": [
        "doc"
      ],
      "execution_count": 59,
      "outputs": [
        {
          "output_type": "execute_result",
          "data": {
            "text/plain": [
              "Welcome to KGP Talkie...Thanks...Like and subscribe!"
            ]
          },
          "metadata": {
            "tags": []
          },
          "execution_count": 59
        }
      ]
    },
    {
      "cell_type": "code",
      "metadata": {
        "colab": {
          "base_uri": "https://localhost:8080/",
          "height": 120
        },
        "id": "hXqkBZK0Jfph",
        "outputId": "45d08bbc-2e22-4deb-c507-8eb5405e7630"
      },
      "source": [
        "displacy.render(doc, style='dep', options={'compact':True, 'distance': 100})"
      ],
      "execution_count": 63,
      "outputs": [
        {
          "output_type": "execute_result",
          "data": {
            "application/vnd.google.colaboratory.intrinsic+json": {
              "type": "string"
            },
            "text/plain": [
              "'<svg xmlns=\"http://www.w3.org/2000/svg\" xmlns:xlink=\"http://www.w3.org/1999/xlink\" xml:lang=\"en\" id=\"620654de7f034b50989c31dac6f55d72-0\" class=\"displacy\" width=\"850\" height=\"237.0\" direction=\"ltr\" style=\"max-width: none; height: 237.0px; color: #000000; background: #ffffff; font-family: Arial; direction: ltr\">\\n<text class=\"displacy-token\" fill=\"currentColor\" text-anchor=\"middle\" y=\"147.0\">\\n    <tspan class=\"displacy-word\" fill=\"currentColor\" x=\"50\">Welcome</tspan>\\n    <tspan class=\"displacy-tag\" dy=\"2em\" fill=\"currentColor\" x=\"50\">VERB</tspan>\\n</text>\\n\\n<text class=\"displacy-token\" fill=\"currentColor\" text-anchor=\"middle\" y=\"147.0\">\\n    <tspan class=\"displacy-word\" fill=\"currentColor\" x=\"150\">to</tspan>\\n    <tspan class=\"displacy-tag\" dy=\"2em\" fill=\"currentColor\" x=\"150\">ADP</tspan>\\n</text>\\n\\n<text class=\"displacy-token\" fill=\"currentColor\" text-anchor=\"middle\" y=\"147.0\">\\n    <tspan class=\"displacy-word\" fill=\"currentColor\" x=\"250\">KGP</tspan>\\n    <tspan class=\"displacy-tag\" dy=\"2em\" fill=\"currentColor\" x=\"250\">PROPN</tspan>\\n</text>\\n\\n<text class=\"displacy-token\" fill=\"currentColor\" text-anchor=\"middle\" y=\"147.0\">\\n    <tspan class=\"displacy-word\" fill=\"currentColor\" x=\"350\">Talkie...</tspan>\\n    <tspan class=\"displacy-tag\" dy=\"2em\" fill=\"currentColor\" x=\"350\">PROPN</tspan>\\n</text>\\n\\n<text class=\"displacy-token\" fill=\"currentColor\" text-anchor=\"middle\" y=\"147.0\">\\n    <tspan class=\"displacy-word\" fill=\"currentColor\" x=\"450\">Thanks...</tspan>\\n    <tspan class=\"displacy-tag\" dy=\"2em\" fill=\"currentColor\" x=\"450\">NOUN</tspan>\\n</text>\\n\\n<text class=\"displacy-token\" fill=\"currentColor\" text-anchor=\"middle\" y=\"147.0\">\\n    <tspan class=\"displacy-word\" fill=\"currentColor\" x=\"550\">Like</tspan>\\n    <tspan class=\"displacy-tag\" dy=\"2em\" fill=\"currentColor\" x=\"550\">SCONJ</tspan>\\n</text>\\n\\n<text class=\"displacy-token\" fill=\"currentColor\" text-anchor=\"middle\" y=\"147.0\">\\n    <tspan class=\"displacy-word\" fill=\"currentColor\" x=\"650\">and</tspan>\\n    <tspan class=\"displacy-tag\" dy=\"2em\" fill=\"currentColor\" x=\"650\">CCONJ</tspan>\\n</text>\\n\\n<text class=\"displacy-token\" fill=\"currentColor\" text-anchor=\"middle\" y=\"147.0\">\\n    <tspan class=\"displacy-word\" fill=\"currentColor\" x=\"750\">subscribe!</tspan>\\n    <tspan class=\"displacy-tag\" dy=\"2em\" fill=\"currentColor\" x=\"750\">VERB</tspan>\\n</text>\\n\\n<g class=\"displacy-arrow\">\\n    <path class=\"displacy-arc\" id=\"arrow-620654de7f034b50989c31dac6f55d72-0-0\" stroke-width=\"2px\" d=\"M62,102.0 62,85.33333333333333 147.0,85.33333333333333 147.0,102.0\" fill=\"none\" stroke=\"currentColor\"/>\\n    <text dy=\"1.25em\" style=\"font-size: 0.8em; letter-spacing: 1px\">\\n        <textPath xlink:href=\"#arrow-620654de7f034b50989c31dac6f55d72-0-0\" class=\"displacy-label\" startOffset=\"50%\" side=\"left\" fill=\"currentColor\" text-anchor=\"middle\">prep</textPath>\\n    </text>\\n    <path class=\"displacy-arrowhead\" d=\"M147.0,104.0 L151.0,96.0 143.0,96.0\" fill=\"currentColor\"/>\\n</g>\\n\\n<g class=\"displacy-arrow\">\\n    <path class=\"displacy-arc\" id=\"arrow-620654de7f034b50989c31dac6f55d72-0-1\" stroke-width=\"2px\" d=\"M262,102.0 262,85.33333333333333 347.0,85.33333333333333 347.0,102.0\" fill=\"none\" stroke=\"currentColor\"/>\\n    <text dy=\"1.25em\" style=\"font-size: 0.8em; letter-spacing: 1px\">\\n        <textPath xlink:href=\"#arrow-620654de7f034b50989c31dac6f55d72-0-1\" class=\"displacy-label\" startOffset=\"50%\" side=\"left\" fill=\"currentColor\" text-anchor=\"middle\">compound</textPath>\\n    </text>\\n    <path class=\"displacy-arrowhead\" d=\"M262,104.0 L258,96.0 266,96.0\" fill=\"currentColor\"/>\\n</g>\\n\\n<g class=\"displacy-arrow\">\\n    <path class=\"displacy-arc\" id=\"arrow-620654de7f034b50989c31dac6f55d72-0-2\" stroke-width=\"2px\" d=\"M162,102.0 162,68.66666666666666 350.0,68.66666666666666 350.0,102.0\" fill=\"none\" stroke=\"currentColor\"/>\\n    <text dy=\"1.25em\" style=\"font-size: 0.8em; letter-spacing: 1px\">\\n        <textPath xlink:href=\"#arrow-620654de7f034b50989c31dac6f55d72-0-2\" class=\"displacy-label\" startOffset=\"50%\" side=\"left\" fill=\"currentColor\" text-anchor=\"middle\">pobj</textPath>\\n    </text>\\n    <path class=\"displacy-arrowhead\" d=\"M350.0,104.0 L354.0,96.0 346.0,96.0\" fill=\"currentColor\"/>\\n</g>\\n\\n<g class=\"displacy-arrow\">\\n    <path class=\"displacy-arc\" id=\"arrow-620654de7f034b50989c31dac6f55d72-0-3\" stroke-width=\"2px\" d=\"M562,102.0 562,85.33333333333333 647.0,85.33333333333333 647.0,102.0\" fill=\"none\" stroke=\"currentColor\"/>\\n    <text dy=\"1.25em\" style=\"font-size: 0.8em; letter-spacing: 1px\">\\n        <textPath xlink:href=\"#arrow-620654de7f034b50989c31dac6f55d72-0-3\" class=\"displacy-label\" startOffset=\"50%\" side=\"left\" fill=\"currentColor\" text-anchor=\"middle\">cc</textPath>\\n    </text>\\n    <path class=\"displacy-arrowhead\" d=\"M647.0,104.0 L651.0,96.0 643.0,96.0\" fill=\"currentColor\"/>\\n</g>\\n\\n<g class=\"displacy-arrow\">\\n    <path class=\"displacy-arc\" id=\"arrow-620654de7f034b50989c31dac6f55d72-0-4\" stroke-width=\"2px\" d=\"M562,102.0 562,68.66666666666666 750.0,68.66666666666666 750.0,102.0\" fill=\"none\" stroke=\"currentColor\"/>\\n    <text dy=\"1.25em\" style=\"font-size: 0.8em; letter-spacing: 1px\">\\n        <textPath xlink:href=\"#arrow-620654de7f034b50989c31dac6f55d72-0-4\" class=\"displacy-label\" startOffset=\"50%\" side=\"left\" fill=\"currentColor\" text-anchor=\"middle\">conj</textPath>\\n    </text>\\n    <path class=\"displacy-arrowhead\" d=\"M750.0,104.0 L754.0,96.0 746.0,96.0\" fill=\"currentColor\"/>\\n</g>\\n</svg>'"
            ]
          },
          "metadata": {
            "tags": []
          },
          "execution_count": 63
        }
      ]
    },
    {
      "cell_type": "code",
      "metadata": {
        "id": "RUSIUPozJftC"
      },
      "source": [
        "doc =  nlp(\"Apple isn't looking at buying U.K. startup for $1 billion\")"
      ],
      "execution_count": 64,
      "outputs": []
    },
    {
      "cell_type": "code",
      "metadata": {
        "colab": {
          "base_uri": "https://localhost:8080/",
          "height": 120
        },
        "id": "pc3Rr_H2Jfw9",
        "outputId": "88fcce6a-fc1a-4995-988e-cd560df936df"
      },
      "source": [
        "displacy.render(doc,style='ent')"
      ],
      "execution_count": 65,
      "outputs": [
        {
          "output_type": "execute_result",
          "data": {
            "application/vnd.google.colaboratory.intrinsic+json": {
              "type": "string"
            },
            "text/plain": [
              "'<div class=\"entities\" style=\"line-height: 2.5; direction: ltr\">\\n<mark class=\"entity\" style=\"background: #7aecec; padding: 0.45em 0.6em; margin: 0 0.25em; line-height: 1; border-radius: 0.35em;\">\\n    Apple\\n    <span style=\"font-size: 0.8em; font-weight: bold; line-height: 1; border-radius: 0.35em; text-transform: uppercase; vertical-align: middle; margin-left: 0.5rem\">ORG</span>\\n</mark>\\n isn\\'t looking at buying \\n<mark class=\"entity\" style=\"background: #feca74; padding: 0.45em 0.6em; margin: 0 0.25em; line-height: 1; border-radius: 0.35em;\">\\n    U.K.\\n    <span style=\"font-size: 0.8em; font-weight: bold; line-height: 1; border-radius: 0.35em; text-transform: uppercase; vertical-align: middle; margin-left: 0.5rem\">GPE</span>\\n</mark>\\n startup for \\n<mark class=\"entity\" style=\"background: #e4e7d2; padding: 0.45em 0.6em; margin: 0 0.25em; line-height: 1; border-radius: 0.35em;\">\\n    $1 billion\\n    <span style=\"font-size: 0.8em; font-weight: bold; line-height: 1; border-radius: 0.35em; text-transform: uppercase; vertical-align: middle; margin-left: 0.5rem\">MONEY</span>\\n</mark>\\n</div>'"
            ]
          },
          "metadata": {
            "tags": []
          },
          "execution_count": 65
        }
      ]
    },
    {
      "cell_type": "code",
      "metadata": {
        "id": "ut83_9F4Jfzl"
      },
      "source": [
        ""
      ],
      "execution_count": null,
      "outputs": []
    },
    {
      "cell_type": "code",
      "metadata": {
        "id": "vvbHHV23Jf2S"
      },
      "source": [
        ""
      ],
      "execution_count": null,
      "outputs": []
    },
    {
      "cell_type": "code",
      "metadata": {
        "id": "2Z4kPq3vJgGF"
      },
      "source": [
        ""
      ],
      "execution_count": null,
      "outputs": []
    },
    {
      "cell_type": "code",
      "metadata": {
        "id": "IF9UQWYzJgI3"
      },
      "source": [
        ""
      ],
      "execution_count": null,
      "outputs": []
    }
  ]
}