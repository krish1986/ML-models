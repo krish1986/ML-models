{
  "nbformat": 4,
  "nbformat_minor": 0,
  "metadata": {
    "colab": {
      "name": " Combining NLP Models and Custom Rules in SpaCy.ipynb",
      "provenance": [],
      "collapsed_sections": []
    },
    "kernelspec": {
      "name": "python3",
      "display_name": "Python 3"
    },
    "language_info": {
      "name": "python"
    }
  },
  "cells": [
    {
      "cell_type": "code",
      "metadata": {
        "id": "Bm9OPzVGZN7y"
      },
      "source": [
        "import spacy\n",
        "from spacy.matcher import Matcher\n",
        "from spacy.tokens import Span\n",
        "from spacy import displacy\n",
        "nlp = spacy.load('en_core_web_sm')\n",
        "from spacy import displacy\n",
        "from spacy.pipeline import merge_entities"
      ],
      "execution_count": 19,
      "outputs": []
    },
    {
      "cell_type": "markdown",
      "metadata": {
        "id": "duOt8NQVaZ9Y"
      },
      "source": [
        "### **Expanding names entities**"
      ]
    },
    {
      "cell_type": "code",
      "metadata": {
        "id": "q70s0LC0ZRWh"
      },
      "source": [
        "doc = nlp('Dr. Alex Smith chaird first board meeting at Google')"
      ],
      "execution_count": 3,
      "outputs": []
    },
    {
      "cell_type": "code",
      "metadata": {
        "colab": {
          "base_uri": "https://localhost:8080/"
        },
        "id": "RKqIJHjV7Bhs",
        "outputId": "ab055673-d8dd-42f3-984e-6a0cf3e39beb"
      },
      "source": [
        "doc"
      ],
      "execution_count": 4,
      "outputs": [
        {
          "output_type": "execute_result",
          "data": {
            "text/plain": [
              "Dr. Alex Smith chaird first board meeting at Google"
            ]
          },
          "metadata": {
            "tags": []
          },
          "execution_count": 4
        }
      ]
    },
    {
      "cell_type": "code",
      "metadata": {
        "colab": {
          "base_uri": "https://localhost:8080/"
        },
        "id": "pu_4aoXy7B-l",
        "outputId": "cb973695-3c0d-4164-ab0f-30293f973265"
      },
      "source": [
        "print([(ent.text, ent.label_) for ent in doc.ents])"
      ],
      "execution_count": 7,
      "outputs": [
        {
          "output_type": "stream",
          "text": [
            "[('Alex Smith', 'PERSON'), ('Google', 'ORG')]\n"
          ],
          "name": "stdout"
        }
      ]
    },
    {
      "cell_type": "code",
      "metadata": {
        "id": "TIZl7rcM7Nag"
      },
      "source": [
        "def add_title(doc):\n",
        "  new_ents = []\n",
        "  for ent in doc.ents:\n",
        "    if ent.label_ == 'PERSON' and ent.start!= 0:\n",
        "      prev_token = doc[ent.start-1]\n",
        "      if prev_token.text in ('Dr', 'Dr.', 'Mr', 'Mr.'):\n",
        "        new_ent = Span(doc, ent.start-1, ent.end, label=ent.label)\n",
        "        new_ents.append(new_ent)\n",
        "      else:\n",
        "        new_ents.append(ent)\n",
        "  doc.ents = new_ents\n",
        "  return doc"
      ],
      "execution_count": 8,
      "outputs": []
    },
    {
      "cell_type": "code",
      "metadata": {
        "id": "13efu7VM85w1"
      },
      "source": [
        "nlp = spacy.load('en_core_web_sm')"
      ],
      "execution_count": 9,
      "outputs": []
    },
    {
      "cell_type": "code",
      "metadata": {
        "id": "fb4hLGMa9ADi"
      },
      "source": [
        "nlp.add_pipe(add_title, after='ner')"
      ],
      "execution_count": 10,
      "outputs": []
    },
    {
      "cell_type": "code",
      "metadata": {
        "id": "NS2xSU8w9QMj"
      },
      "source": [
        "doc = nlp('Dr. Alex Smith chaird first board meeting at Google')"
      ],
      "execution_count": 12,
      "outputs": []
    },
    {
      "cell_type": "code",
      "metadata": {
        "colab": {
          "base_uri": "https://localhost:8080/"
        },
        "id": "rcvm3OqL9JT7",
        "outputId": "6fc5cf20-74ac-4c77-b308-44c82b22f3f4"
      },
      "source": [
        "print([(ent.text, ent.label_) for ent in doc.ents])"
      ],
      "execution_count": 13,
      "outputs": [
        {
          "output_type": "stream",
          "text": [
            "[('Dr. Alex Smith', 'PERSON')]\n"
          ],
          "name": "stdout"
        }
      ]
    },
    {
      "cell_type": "markdown",
      "metadata": {
        "id": "zskciJzB9daH"
      },
      "source": [
        "### **Use of POS and dependancy parsin**"
      ]
    },
    {
      "cell_type": "code",
      "metadata": {
        "id": "KZATed_o9OHz"
      },
      "source": [
        "nlp = spacy.load('en_core_web_sm')"
      ],
      "execution_count": 14,
      "outputs": []
    },
    {
      "cell_type": "code",
      "metadata": {
        "id": "kJfICHmv9c0a"
      },
      "source": [
        "doc = nlp('Alex Smith was working at Google')"
      ],
      "execution_count": 15,
      "outputs": []
    },
    {
      "cell_type": "code",
      "metadata": {
        "colab": {
          "base_uri": "https://localhost:8080/",
          "height": 103
        },
        "id": "HDmZxXzd9c3O",
        "outputId": "433d988b-acf6-44f1-f5be-d7e6ef51dfb5"
      },
      "source": [
        "displacy.render(doc, style='dep', options={'compact': True, 'distance': 100})"
      ],
      "execution_count": 17,
      "outputs": [
        {
          "output_type": "execute_result",
          "data": {
            "application/vnd.google.colaboratory.intrinsic+json": {
              "type": "string"
            },
            "text/plain": [
              "'<svg xmlns=\"http://www.w3.org/2000/svg\" xmlns:xlink=\"http://www.w3.org/1999/xlink\" xml:lang=\"en\" id=\"5c2e28d5b00547eb8b682b1c836729af-0\" class=\"displacy\" width=\"650\" height=\"237.0\" direction=\"ltr\" style=\"max-width: none; height: 237.0px; color: #000000; background: #ffffff; font-family: Arial; direction: ltr\">\\n<text class=\"displacy-token\" fill=\"currentColor\" text-anchor=\"middle\" y=\"147.0\">\\n    <tspan class=\"displacy-word\" fill=\"currentColor\" x=\"50\">Alex</tspan>\\n    <tspan class=\"displacy-tag\" dy=\"2em\" fill=\"currentColor\" x=\"50\">PROPN</tspan>\\n</text>\\n\\n<text class=\"displacy-token\" fill=\"currentColor\" text-anchor=\"middle\" y=\"147.0\">\\n    <tspan class=\"displacy-word\" fill=\"currentColor\" x=\"150\">Smith</tspan>\\n    <tspan class=\"displacy-tag\" dy=\"2em\" fill=\"currentColor\" x=\"150\">PROPN</tspan>\\n</text>\\n\\n<text class=\"displacy-token\" fill=\"currentColor\" text-anchor=\"middle\" y=\"147.0\">\\n    <tspan class=\"displacy-word\" fill=\"currentColor\" x=\"250\">was</tspan>\\n    <tspan class=\"displacy-tag\" dy=\"2em\" fill=\"currentColor\" x=\"250\">AUX</tspan>\\n</text>\\n\\n<text class=\"displacy-token\" fill=\"currentColor\" text-anchor=\"middle\" y=\"147.0\">\\n    <tspan class=\"displacy-word\" fill=\"currentColor\" x=\"350\">working</tspan>\\n    <tspan class=\"displacy-tag\" dy=\"2em\" fill=\"currentColor\" x=\"350\">VERB</tspan>\\n</text>\\n\\n<text class=\"displacy-token\" fill=\"currentColor\" text-anchor=\"middle\" y=\"147.0\">\\n    <tspan class=\"displacy-word\" fill=\"currentColor\" x=\"450\">at</tspan>\\n    <tspan class=\"displacy-tag\" dy=\"2em\" fill=\"currentColor\" x=\"450\">ADP</tspan>\\n</text>\\n\\n<text class=\"displacy-token\" fill=\"currentColor\" text-anchor=\"middle\" y=\"147.0\">\\n    <tspan class=\"displacy-word\" fill=\"currentColor\" x=\"550\">Google</tspan>\\n    <tspan class=\"displacy-tag\" dy=\"2em\" fill=\"currentColor\" x=\"550\">PROPN</tspan>\\n</text>\\n\\n<g class=\"displacy-arrow\">\\n    <path class=\"displacy-arc\" id=\"arrow-5c2e28d5b00547eb8b682b1c836729af-0-0\" stroke-width=\"2px\" d=\"M62,102.0 62,85.33333333333333 147.0,85.33333333333333 147.0,102.0\" fill=\"none\" stroke=\"currentColor\"/>\\n    <text dy=\"1.25em\" style=\"font-size: 0.8em; letter-spacing: 1px\">\\n        <textPath xlink:href=\"#arrow-5c2e28d5b00547eb8b682b1c836729af-0-0\" class=\"displacy-label\" startOffset=\"50%\" side=\"left\" fill=\"currentColor\" text-anchor=\"middle\">compound</textPath>\\n    </text>\\n    <path class=\"displacy-arrowhead\" d=\"M62,104.0 L58,96.0 66,96.0\" fill=\"currentColor\"/>\\n</g>\\n\\n<g class=\"displacy-arrow\">\\n    <path class=\"displacy-arc\" id=\"arrow-5c2e28d5b00547eb8b682b1c836729af-0-1\" stroke-width=\"2px\" d=\"M162,102.0 162,68.66666666666666 350.0,68.66666666666666 350.0,102.0\" fill=\"none\" stroke=\"currentColor\"/>\\n    <text dy=\"1.25em\" style=\"font-size: 0.8em; letter-spacing: 1px\">\\n        <textPath xlink:href=\"#arrow-5c2e28d5b00547eb8b682b1c836729af-0-1\" class=\"displacy-label\" startOffset=\"50%\" side=\"left\" fill=\"currentColor\" text-anchor=\"middle\">nsubj</textPath>\\n    </text>\\n    <path class=\"displacy-arrowhead\" d=\"M162,104.0 L158,96.0 166,96.0\" fill=\"currentColor\"/>\\n</g>\\n\\n<g class=\"displacy-arrow\">\\n    <path class=\"displacy-arc\" id=\"arrow-5c2e28d5b00547eb8b682b1c836729af-0-2\" stroke-width=\"2px\" d=\"M262,102.0 262,85.33333333333333 347.0,85.33333333333333 347.0,102.0\" fill=\"none\" stroke=\"currentColor\"/>\\n    <text dy=\"1.25em\" style=\"font-size: 0.8em; letter-spacing: 1px\">\\n        <textPath xlink:href=\"#arrow-5c2e28d5b00547eb8b682b1c836729af-0-2\" class=\"displacy-label\" startOffset=\"50%\" side=\"left\" fill=\"currentColor\" text-anchor=\"middle\">aux</textPath>\\n    </text>\\n    <path class=\"displacy-arrowhead\" d=\"M262,104.0 L258,96.0 266,96.0\" fill=\"currentColor\"/>\\n</g>\\n\\n<g class=\"displacy-arrow\">\\n    <path class=\"displacy-arc\" id=\"arrow-5c2e28d5b00547eb8b682b1c836729af-0-3\" stroke-width=\"2px\" d=\"M362,102.0 362,85.33333333333333 447.0,85.33333333333333 447.0,102.0\" fill=\"none\" stroke=\"currentColor\"/>\\n    <text dy=\"1.25em\" style=\"font-size: 0.8em; letter-spacing: 1px\">\\n        <textPath xlink:href=\"#arrow-5c2e28d5b00547eb8b682b1c836729af-0-3\" class=\"displacy-label\" startOffset=\"50%\" side=\"left\" fill=\"currentColor\" text-anchor=\"middle\">prep</textPath>\\n    </text>\\n    <path class=\"displacy-arrowhead\" d=\"M447.0,104.0 L451.0,96.0 443.0,96.0\" fill=\"currentColor\"/>\\n</g>\\n\\n<g class=\"displacy-arrow\">\\n    <path class=\"displacy-arc\" id=\"arrow-5c2e28d5b00547eb8b682b1c836729af-0-4\" stroke-width=\"2px\" d=\"M462,102.0 462,85.33333333333333 547.0,85.33333333333333 547.0,102.0\" fill=\"none\" stroke=\"currentColor\"/>\\n    <text dy=\"1.25em\" style=\"font-size: 0.8em; letter-spacing: 1px\">\\n        <textPath xlink:href=\"#arrow-5c2e28d5b00547eb8b682b1c836729af-0-4\" class=\"displacy-label\" startOffset=\"50%\" side=\"left\" fill=\"currentColor\" text-anchor=\"middle\">pobj</textPath>\\n    </text>\\n    <path class=\"displacy-arrowhead\" d=\"M547.0,104.0 L551.0,96.0 543.0,96.0\" fill=\"currentColor\"/>\\n</g>\\n</svg>'"
            ]
          },
          "metadata": {
            "tags": []
          },
          "execution_count": 17
        }
      ]
    },
    {
      "cell_type": "code",
      "metadata": {
        "id": "yV8L_7Sh9c51"
      },
      "source": [
        "def get_person_orgs(doc):\n",
        "    person_entities = [ent for ent in doc.ents if ent.label_==\"PERSON\"]\n",
        "    for ent in person_entities:\n",
        "        head = ent.root.head\n",
        "        if head.lemma_ == 'work':\n",
        "            preps = [token for token in head.children if token.dep_ == 'prep']\n",
        "            for prep in preps:\n",
        "                orgs = [token for token in prep.children if token.ent_type_ == 'ORG']\n",
        "                print({'person': ent, 'orgs': orgs, 'past': head.tag_ == \"VBD\"})\n",
        "    return doc"
      ],
      "execution_count": 18,
      "outputs": []
    },
    {
      "cell_type": "code",
      "metadata": {
        "id": "O8bsGIh19c9G"
      },
      "source": [
        "nlp = spacy.load('en_core_web_sm')"
      ],
      "execution_count": 20,
      "outputs": []
    },
    {
      "cell_type": "code",
      "metadata": {
        "id": "CP1VanlMATEW"
      },
      "source": [
        "nlp.add_pipe(merge_entities)"
      ],
      "execution_count": 21,
      "outputs": []
    },
    {
      "cell_type": "code",
      "metadata": {
        "id": "aHZoTIPQATHJ"
      },
      "source": [
        "nlp.add_pipe(get_person_orgs)"
      ],
      "execution_count": 22,
      "outputs": []
    },
    {
      "cell_type": "code",
      "metadata": {
        "colab": {
          "base_uri": "https://localhost:8080/"
        },
        "id": "RXFzNFg8ATJ6",
        "outputId": "2be8f2f4-d330-436f-e511-ed32e7ef68f6"
      },
      "source": [
        "doc = nlp('Alex Smith worked at Google')"
      ],
      "execution_count": 24,
      "outputs": [
        {
          "output_type": "stream",
          "text": [
            "{'person': Alex Smith, 'orgs': [Google], 'past': True}\n"
          ],
          "name": "stdout"
        }
      ]
    },
    {
      "cell_type": "markdown",
      "metadata": {
        "id": "UcAeW5_LA8K8"
      },
      "source": [
        "### **Modify Model**"
      ]
    },
    {
      "cell_type": "code",
      "metadata": {
        "id": "39ya_1LjATMq"
      },
      "source": [
        "def get_person_orgs(doc):\n",
        "    person_entities = [ent for ent in doc.ents if ent.label_==\"PERSON\"]\n",
        "    for ent in person_entities:\n",
        "        head = ent.root.head\n",
        "        if head.lemma_ == 'work':\n",
        "            preps = [token for token in head.children if token.dep_ == 'prep']\n",
        "            for prep in preps:\n",
        "                orgs = [token for token in prep.children if token.ent_type_ == 'ORG']\n",
        "                aux = [token for token in head.children if token.dep_ == 'aux']\n",
        "                past_aux = any(t.tag_ == 'VBD' for t in aux)\n",
        "                past = head.tag_ == 'VBD' or head.tag_ == 'VBG' and past_aux\n",
        "             \n",
        "            print({'person': ent, 'orgs': orgs, 'past': past})\n",
        "    return doc"
      ],
      "execution_count": 29,
      "outputs": []
    },
    {
      "cell_type": "code",
      "metadata": {
        "id": "nHmLZnqSBS_P"
      },
      "source": [
        "nlp = spacy.load('en_core_web_sm')"
      ],
      "execution_count": 30,
      "outputs": []
    },
    {
      "cell_type": "code",
      "metadata": {
        "id": "uaTFZsx5BS_Q"
      },
      "source": [
        "nlp.add_pipe(merge_entities)"
      ],
      "execution_count": 31,
      "outputs": []
    },
    {
      "cell_type": "code",
      "metadata": {
        "id": "H4wgidTeBS_R"
      },
      "source": [
        "nlp.add_pipe(get_person_orgs)"
      ],
      "execution_count": 32,
      "outputs": []
    },
    {
      "cell_type": "code",
      "metadata": {
        "colab": {
          "base_uri": "https://localhost:8080/"
        },
        "id": "4lJSwF4LBS_R",
        "outputId": "286aae6d-d236-48dd-de77-0cf0249da228"
      },
      "source": [
        "doc = nlp('Alex Smith was working at Google')"
      ],
      "execution_count": 33,
      "outputs": [
        {
          "output_type": "stream",
          "text": [
            "{'person': Alex Smith, 'orgs': [Google], 'past': True}\n"
          ],
          "name": "stdout"
        }
      ]
    },
    {
      "cell_type": "code",
      "metadata": {
        "colab": {
          "base_uri": "https://localhost:8080/"
        },
        "id": "TQLbKz7SATRZ",
        "outputId": "9426f37c-6bb7-415c-fa75-2da4823c46b3"
      },
      "source": [
        "doc = nlp('Alex Smith worked at Google')"
      ],
      "execution_count": 34,
      "outputs": [
        {
          "output_type": "stream",
          "text": [
            "{'person': Alex Smith, 'orgs': [Google], 'past': True}\n"
          ],
          "name": "stdout"
        }
      ]
    },
    {
      "cell_type": "code",
      "metadata": {
        "id": "urQtTM30ATUB"
      },
      "source": [
        ""
      ],
      "execution_count": null,
      "outputs": []
    },
    {
      "cell_type": "code",
      "metadata": {
        "id": "2dmaT9ot9dAx"
      },
      "source": [
        ""
      ],
      "execution_count": null,
      "outputs": []
    },
    {
      "cell_type": "code",
      "metadata": {
        "id": "U3LUrTKc9dDl"
      },
      "source": [
        ""
      ],
      "execution_count": null,
      "outputs": []
    }
  ]
}