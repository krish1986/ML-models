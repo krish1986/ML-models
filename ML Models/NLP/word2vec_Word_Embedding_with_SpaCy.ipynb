{
  "nbformat": 4,
  "nbformat_minor": 0,
  "metadata": {
    "colab": {
      "name": "word2vec Word Embedding with SpaCy.ipynb",
      "provenance": [],
      "collapsed_sections": []
    },
    "kernelspec": {
      "name": "python3",
      "display_name": "Python 3"
    },
    "language_info": {
      "name": "python"
    }
  },
  "cells": [
    {
      "cell_type": "code",
      "metadata": {
        "id": "0wKcjCl6Ia8T"
      },
      "source": [
        "#!python -m spacy download en_core_web_lg"
      ],
      "execution_count": 1,
      "outputs": []
    },
    {
      "cell_type": "code",
      "metadata": {
        "colab": {
          "base_uri": "https://localhost:8080/"
        },
        "id": "ZuX5Vw2vP0QI",
        "outputId": "18b365c4-2e22-4276-8589-e3856396b84b"
      },
      "source": [
        "!git clone https://github.com/laxmimerit/All-CSV-ML-Data-Files-Download.git"
      ],
      "execution_count": 10,
      "outputs": [
        {
          "output_type": "stream",
          "text": [
            "Cloning into 'All-CSV-ML-Data-Files-Download'...\n",
            "remote: Enumerating objects: 38, done.\u001b[K\n",
            "remote: Counting objects: 100% (9/9), done.\u001b[K\n",
            "remote: Compressing objects: 100% (8/8), done.\u001b[K\n",
            "remote: Total 38 (delta 2), reused 4 (delta 1), pack-reused 29\u001b[K\n",
            "Unpacking objects: 100% (38/38), done.\n"
          ],
          "name": "stdout"
        }
      ]
    },
    {
      "cell_type": "code",
      "metadata": {
        "id": "t0SToH3SSyT8"
      },
      "source": [
        "import pandas as pd\n",
        "import numpy as np\n",
        "from sklearn.linear_model import LogisticRegression\n",
        "from sklearn.model_selection import train_test_split\n",
        "from sklearn.metrics import classification_report"
      ],
      "execution_count": 3,
      "outputs": []
    },
    {
      "cell_type": "code",
      "metadata": {
        "id": "wu1PHamMT2HU"
      },
      "source": [
        "import spacy\n",
        "import pickle"
      ],
      "execution_count": 43,
      "outputs": []
    },
    {
      "cell_type": "code",
      "metadata": {
        "id": "NWzrMgwZT_TF"
      },
      "source": [
        "nlp = spacy.load('en_core_web_lg')"
      ],
      "execution_count": 5,
      "outputs": []
    },
    {
      "cell_type": "code",
      "metadata": {
        "id": "1ZpN0CU5UFK9"
      },
      "source": [
        "x = 'dog cat lion erfrff'"
      ],
      "execution_count": 6,
      "outputs": []
    },
    {
      "cell_type": "code",
      "metadata": {
        "id": "_psnAmoTUSUL"
      },
      "source": [
        "doc = nlp(x)"
      ],
      "execution_count": 7,
      "outputs": []
    },
    {
      "cell_type": "code",
      "metadata": {
        "colab": {
          "base_uri": "https://localhost:8080/"
        },
        "id": "kCapuEkLUz7F",
        "outputId": "8e0b890b-6af3-4544-bb1c-97d8521d7464"
      },
      "source": [
        "for token1 in doc:\n",
        "  for token2 in doc:\n",
        "    print(token1.text, token2.text, token1.similarity(token2))"
      ],
      "execution_count": 8,
      "outputs": [
        {
          "output_type": "stream",
          "text": [
            "dog dog 1.0\n",
            "dog cat 0.80168545\n",
            "dog lion 0.47424486\n",
            "dog erfrff 0.0\n",
            "cat dog 0.80168545\n",
            "cat cat 1.0\n",
            "cat lion 0.5265438\n",
            "cat erfrff 0.0\n",
            "lion dog 0.47424486\n",
            "lion cat 0.5265438\n",
            "lion lion 1.0\n",
            "lion erfrff 0.0\n",
            "erfrff dog 0.0\n",
            "erfrff cat 0.0\n",
            "erfrff lion 0.0\n",
            "erfrff erfrff 1.0\n"
          ],
          "name": "stdout"
        },
        {
          "output_type": "stream",
          "text": [
            "/usr/lib/python3.7/runpy.py:193: UserWarning: [W008] Evaluating Token.similarity based on empty vectors.\n",
            "  \"__main__\", mod_spec)\n",
            "/usr/lib/python3.7/runpy.py:193: UserWarning: [W008] Evaluating Token.similarity based on empty vectors.\n",
            "  \"__main__\", mod_spec)\n",
            "/usr/lib/python3.7/runpy.py:193: UserWarning: [W008] Evaluating Token.similarity based on empty vectors.\n",
            "  \"__main__\", mod_spec)\n",
            "/usr/lib/python3.7/runpy.py:193: UserWarning: [W008] Evaluating Token.similarity based on empty vectors.\n",
            "  \"__main__\", mod_spec)\n",
            "/usr/lib/python3.7/runpy.py:193: UserWarning: [W008] Evaluating Token.similarity based on empty vectors.\n",
            "  \"__main__\", mod_spec)\n",
            "/usr/lib/python3.7/runpy.py:193: UserWarning: [W008] Evaluating Token.similarity based on empty vectors.\n",
            "  \"__main__\", mod_spec)\n"
          ],
          "name": "stderr"
        }
      ]
    },
    {
      "cell_type": "markdown",
      "metadata": {
        "id": "NmiAr5SVWia3"
      },
      "source": [
        "### **Build a model**"
      ]
    },
    {
      "cell_type": "code",
      "metadata": {
        "id": "TU3UcmKWU2Hs"
      },
      "source": [
        "data = pd.read_csv('/content/All-CSV-ML-Data-Files-Download/moviereviews.tsv',sep='\\t')"
      ],
      "execution_count": 11,
      "outputs": []
    },
    {
      "cell_type": "code",
      "metadata": {
        "colab": {
          "base_uri": "https://localhost:8080/",
          "height": 204
        },
        "id": "hA_2kI3xXZkq",
        "outputId": "b15a4037-7758-4138-b821-0d0d58aaa5f0"
      },
      "source": [
        "data.head()"
      ],
      "execution_count": 12,
      "outputs": [
        {
          "output_type": "execute_result",
          "data": {
            "text/html": [
              "<div>\n",
              "<style scoped>\n",
              "    .dataframe tbody tr th:only-of-type {\n",
              "        vertical-align: middle;\n",
              "    }\n",
              "\n",
              "    .dataframe tbody tr th {\n",
              "        vertical-align: top;\n",
              "    }\n",
              "\n",
              "    .dataframe thead th {\n",
              "        text-align: right;\n",
              "    }\n",
              "</style>\n",
              "<table border=\"1\" class=\"dataframe\">\n",
              "  <thead>\n",
              "    <tr style=\"text-align: right;\">\n",
              "      <th></th>\n",
              "      <th>label</th>\n",
              "      <th>review</th>\n",
              "    </tr>\n",
              "  </thead>\n",
              "  <tbody>\n",
              "    <tr>\n",
              "      <th>0</th>\n",
              "      <td>neg</td>\n",
              "      <td>how do films like mouse hunt get into theatres...</td>\n",
              "    </tr>\n",
              "    <tr>\n",
              "      <th>1</th>\n",
              "      <td>neg</td>\n",
              "      <td>some talented actresses are blessed with a dem...</td>\n",
              "    </tr>\n",
              "    <tr>\n",
              "      <th>2</th>\n",
              "      <td>pos</td>\n",
              "      <td>this has been an extraordinary year for austra...</td>\n",
              "    </tr>\n",
              "    <tr>\n",
              "      <th>3</th>\n",
              "      <td>pos</td>\n",
              "      <td>according to hollywood movies made in last few...</td>\n",
              "    </tr>\n",
              "    <tr>\n",
              "      <th>4</th>\n",
              "      <td>neg</td>\n",
              "      <td>my first press screening of 1998 and already i...</td>\n",
              "    </tr>\n",
              "  </tbody>\n",
              "</table>\n",
              "</div>"
            ],
            "text/plain": [
              "  label                                             review\n",
              "0   neg  how do films like mouse hunt get into theatres...\n",
              "1   neg  some talented actresses are blessed with a dem...\n",
              "2   pos  this has been an extraordinary year for austra...\n",
              "3   pos  according to hollywood movies made in last few...\n",
              "4   neg  my first press screening of 1998 and already i..."
            ]
          },
          "metadata": {
            "tags": []
          },
          "execution_count": 12
        }
      ]
    },
    {
      "cell_type": "code",
      "metadata": {
        "colab": {
          "base_uri": "https://localhost:8080/"
        },
        "id": "Pid5YJW9XdHs",
        "outputId": "a7f7a971-d485-46e0-ac2d-7416afd98f7e"
      },
      "source": [
        "!pip install git+https://github.com/laxmimerit/preprocess_kgptalkie.git"
      ],
      "execution_count": 13,
      "outputs": [
        {
          "output_type": "stream",
          "text": [
            "Collecting git+https://github.com/laxmimerit/preprocess_kgptalkie.git\n",
            "  Cloning https://github.com/laxmimerit/preprocess_kgptalkie.git to /tmp/pip-req-build-aw1c9ebt\n",
            "  Running command git clone -q https://github.com/laxmimerit/preprocess_kgptalkie.git /tmp/pip-req-build-aw1c9ebt\n",
            "Building wheels for collected packages: preprocess-kgptalkie\n",
            "  Building wheel for preprocess-kgptalkie (setup.py) ... \u001b[?25l\u001b[?25hdone\n",
            "  Created wheel for preprocess-kgptalkie: filename=preprocess_kgptalkie-0.1.3-py3-none-any.whl size=11756 sha256=7b39ada7c623782bfc48c017185c107dfbb3a230a016073f488e684712cbf217\n",
            "  Stored in directory: /tmp/pip-ephem-wheel-cache-tjr53324/wheels/0d/b3/29/bfe3deffda68980088d17b81331be6667e837ffb4a071bae82\n",
            "Successfully built preprocess-kgptalkie\n",
            "Installing collected packages: preprocess-kgptalkie\n",
            "Successfully installed preprocess-kgptalkie-0.1.3\n"
          ],
          "name": "stdout"
        }
      ]
    },
    {
      "cell_type": "code",
      "metadata": {
        "id": "dRl-fZXzYCKv"
      },
      "source": [
        "def get_clean(x):\n",
        "    x = str(x).lower().replace('\\\\', '').replace('_', ' ')\n",
        "    x = ps.cont_exp(x)\n",
        "    x = ps.remove_emails(x)\n",
        "    x = ps.remove_urls(x)\n",
        "    x = ps.remove_html_tags(x)\n",
        "    x = ps.remove_rt(x)\n",
        "    x = ps.remove_accented_chars(x)\n",
        "    x = ps.remove_special_chars(x)\n",
        "    x = re.sub(\"(.)\\\\1{2,}\", \"\\\\1\", x)\n",
        "    return x"
      ],
      "execution_count": 14,
      "outputs": []
    },
    {
      "cell_type": "code",
      "metadata": {
        "id": "QVuYnV_KYGDm"
      },
      "source": [
        "import preprocess_kgptalkie as ps\n",
        "import re"
      ],
      "execution_count": 15,
      "outputs": []
    },
    {
      "cell_type": "code",
      "metadata": {
        "id": "xMPP2wOoYMvf"
      },
      "source": [
        "data['review'] = data['review'].apply(lambda x: get_clean(x))"
      ],
      "execution_count": 16,
      "outputs": []
    },
    {
      "cell_type": "code",
      "metadata": {
        "colab": {
          "base_uri": "https://localhost:8080/",
          "height": 204
        },
        "id": "hcFWS3BtYmYb",
        "outputId": "d6e1d1e2-f959-4ba8-a9bf-40b6c346edcc"
      },
      "source": [
        "data.head()"
      ],
      "execution_count": 17,
      "outputs": [
        {
          "output_type": "execute_result",
          "data": {
            "text/html": [
              "<div>\n",
              "<style scoped>\n",
              "    .dataframe tbody tr th:only-of-type {\n",
              "        vertical-align: middle;\n",
              "    }\n",
              "\n",
              "    .dataframe tbody tr th {\n",
              "        vertical-align: top;\n",
              "    }\n",
              "\n",
              "    .dataframe thead th {\n",
              "        text-align: right;\n",
              "    }\n",
              "</style>\n",
              "<table border=\"1\" class=\"dataframe\">\n",
              "  <thead>\n",
              "    <tr style=\"text-align: right;\">\n",
              "      <th></th>\n",
              "      <th>label</th>\n",
              "      <th>review</th>\n",
              "    </tr>\n",
              "  </thead>\n",
              "  <tbody>\n",
              "    <tr>\n",
              "      <th>0</th>\n",
              "      <td>neg</td>\n",
              "      <td>how do films like mouse hunt get into theatres...</td>\n",
              "    </tr>\n",
              "    <tr>\n",
              "      <th>1</th>\n",
              "      <td>neg</td>\n",
              "      <td>some talented actresses are blessed with a dem...</td>\n",
              "    </tr>\n",
              "    <tr>\n",
              "      <th>2</th>\n",
              "      <td>pos</td>\n",
              "      <td>this has been an extraordinary year for austra...</td>\n",
              "    </tr>\n",
              "    <tr>\n",
              "      <th>3</th>\n",
              "      <td>pos</td>\n",
              "      <td>according to hollywood movies made in last few...</td>\n",
              "    </tr>\n",
              "    <tr>\n",
              "      <th>4</th>\n",
              "      <td>neg</td>\n",
              "      <td>my first press screening of 1998 and already i...</td>\n",
              "    </tr>\n",
              "  </tbody>\n",
              "</table>\n",
              "</div>"
            ],
            "text/plain": [
              "  label                                             review\n",
              "0   neg  how do films like mouse hunt get into theatres...\n",
              "1   neg  some talented actresses are blessed with a dem...\n",
              "2   pos  this has been an extraordinary year for austra...\n",
              "3   pos  according to hollywood movies made in last few...\n",
              "4   neg  my first press screening of 1998 and already i..."
            ]
          },
          "metadata": {
            "tags": []
          },
          "execution_count": 17
        }
      ]
    },
    {
      "cell_type": "markdown",
      "metadata": {
        "id": "HSlJK4l-Yu6t"
      },
      "source": [
        "### **Word2vec conversion**"
      ]
    },
    {
      "cell_type": "code",
      "metadata": {
        "id": "8d8w5UC1Ynty"
      },
      "source": [
        "x = 'cat dog'\n",
        "doc = nlp(x)"
      ],
      "execution_count": 18,
      "outputs": []
    },
    {
      "cell_type": "code",
      "metadata": {
        "colab": {
          "base_uri": "https://localhost:8080/"
        },
        "id": "0p5TjYTxYreY",
        "outputId": "25e098ee-0056-4199-aeac-77ddcc9334ae"
      },
      "source": [
        "doc.vector # vector for both cat and dog together"
      ],
      "execution_count": 19,
      "outputs": [
        {
          "output_type": "execute_result",
          "data": {
            "text/plain": [
              "array([-2.76215017e-01,  1.73051000e-01, -1.06199495e-01, -2.87514985e-01,\n",
              "       -6.71409965e-02,  3.10755014e-01, -1.97300002e-01, -2.83794999e-01,\n",
              "        9.76060033e-02,  1.66744995e+00, -6.34269953e-01,  9.63025019e-02,\n",
              "       -6.48334980e-01,  1.21810503e-01, -2.99584985e-01,  2.50550002e-01,\n",
              "        2.70019501e-01,  1.12965000e+00, -1.50799975e-02, -3.55899990e-01,\n",
              "       -3.66439998e-01, -6.04224950e-02,  5.51749915e-02, -3.11755002e-01,\n",
              "        3.66990000e-01, -1.74511507e-01, -3.25464994e-01, -4.03584987e-01,\n",
              "        2.28844002e-01, -1.20778494e-01, -6.23224974e-01,  6.32480010e-02,\n",
              "       -1.10113002e-01,  4.38295007e-01,  3.05490017e-01,  6.75000250e-03,\n",
              "        5.48135042e-01, -8.55714977e-01, -1.13398999e-01,  1.28289998e-01,\n",
              "        2.71515012e-01,  1.46710008e-01, -1.70319498e-01, -3.54690015e-01,\n",
              "        2.79549956e-02, -1.16696998e-01, -4.24840003e-01,  2.22696498e-01,\n",
              "       -4.93499637e-03, -2.17053995e-01,  1.82810009e-01,  9.06850100e-02,\n",
              "        1.11986503e-01,  3.87109995e-01, -3.18425000e-01,  4.99654979e-01,\n",
              "        1.81956992e-01, -6.87099993e-02, -1.43725991e-01,  4.35289979e-01,\n",
              "        9.86275002e-02,  4.67345007e-02, -1.92749873e-03,  5.22850081e-02,\n",
              "        2.97775000e-01, -3.85209978e-01,  5.76804996e-01,  1.48784995e-01,\n",
              "       -1.41434446e-01,  1.03950035e-03, -2.42940009e-01, -1.72104999e-01,\n",
              "       -5.68699911e-02, -1.76929995e-01,  1.50017008e-01,  3.16801488e-01,\n",
              "       -3.15115005e-01, -6.28289998e-01,  2.19624996e-01, -2.68795013e-01,\n",
              "        1.21139497e-01,  3.63014996e-01, -4.00745004e-01, -1.08829997e-01,\n",
              "       -2.14774996e-01, -4.41314995e-01,  1.09891999e+00,  5.93294978e-01,\n",
              "        7.01059997e-01, -2.01900005e-02,  1.33182004e-01,  5.66219985e-01,\n",
              "        6.99644983e-02, -2.20970005e-01, -3.11199993e-01, -3.59205008e-01,\n",
              "        2.60900036e-02, -4.45614994e-01,  3.34235013e-01, -2.60055006e-01,\n",
              "        1.16444498e-01,  5.73549986e-01,  2.58594990e-01, -2.06540003e-02,\n",
              "        4.13214982e-01, -4.77899969e-01,  2.95949996e-01, -2.33590007e-01,\n",
              "       -2.31989995e-01,  2.57299989e-02,  1.27523988e-01,  3.31310004e-01,\n",
              "        4.01549995e-01, -5.55299997e-01, -1.07810006e-01,  7.32090026e-02,\n",
              "       -7.97109976e-02, -9.27015021e-02,  2.13324010e-01, -9.23150033e-02,\n",
              "       -6.45140037e-02,  5.41900024e-02,  7.74520040e-01, -7.89605021e-01,\n",
              "       -4.09974992e-01,  1.93370000e-01,  3.54225010e-01, -1.60270497e-01,\n",
              "       -3.59880000e-01, -2.25380003e-01, -2.93394983e-01, -2.28440002e-01,\n",
              "       -1.82730496e-01,  3.62334996e-01,  1.65973499e-01, -7.41849989e-02,\n",
              "       -2.76645005e-01,  3.06944996e-01,  1.59339994e-01,  1.51345015e-01,\n",
              "       -2.76119995e+00, -5.43134987e-01,  1.91553503e-01,  5.96249998e-01,\n",
              "        5.16054988e-01, -4.83220011e-01, -6.13645501e-02,  4.60799932e-02,\n",
              "        1.87505007e-01, -9.19129997e-02,  8.91820490e-02,  5.81324995e-02,\n",
              "       -2.77135491e-01, -1.55110493e-01, -6.99500069e-02, -1.49789006e-01,\n",
              "       -1.00107297e-01,  4.51959997e-01, -3.23605001e-01, -6.16949975e-01,\n",
              "        2.70515025e-01, -2.30710000e-01, -1.86298013e-01, -6.38715029e-01,\n",
              "       -3.26505005e-02,  9.21855047e-02, -1.04692504e-01, -4.81754988e-02,\n",
              "       -1.50943995e-01, -7.55780041e-02,  1.91786006e-01,  7.65964985e-02,\n",
              "        9.66205001e-02, -1.63145006e-01, -2.35002309e-01,  6.79844975e-01,\n",
              "       -1.16769001e-01,  5.81875026e-01, -1.11641496e-01,  1.06924999e+00,\n",
              "       -2.11549997e-02, -3.59490007e-01, -1.00166500e-01, -3.27544987e-01,\n",
              "       -5.67629993e-01, -1.13499910e-02,  1.31940991e-01,  2.00434506e-01,\n",
              "       -2.37625003e-01, -6.97404981e-01, -6.87195003e-01,  9.57399979e-03,\n",
              "       -1.40709996e-01, -5.59440017e-01,  3.31499994e-01,  5.50719976e-01,\n",
              "        1.64177001e-01, -3.88534993e-01,  7.97224998e-01,  2.76365019e-02,\n",
              "       -5.57299972e-01,  1.28003001e-01, -4.28674996e-01,  6.26250058e-02,\n",
              "        8.23159963e-02,  8.62549990e-02,  4.40190017e-01, -1.77074999e-01,\n",
              "        5.10535002e-01, -1.01739153e-01, -3.66114974e-01,  2.07834989e-01,\n",
              "       -4.38740015e-01,  2.27550000e-01, -4.82364967e-02, -1.76310003e-01,\n",
              "       -2.56305002e-02,  5.61419964e-01, -2.34620497e-01,  8.66393521e-02,\n",
              "        1.40386492e-01,  1.90565005e-01,  3.01575005e-01, -4.25114989e-01,\n",
              "       -5.11924982e-01,  1.22840002e-01, -2.29210004e-01,  5.62639952e-01,\n",
              "        1.94240004e-01,  9.01745483e-02, -4.70039994e-01,  4.80275005e-02,\n",
              "       -2.00455010e-01, -3.07245016e-01,  2.46230006e-01,  1.67396009e-01,\n",
              "       -2.46355012e-02, -9.65580046e-02,  3.38324994e-01, -3.87860000e-01,\n",
              "       -5.46445012e-01, -1.34582400e-01, -1.70387998e-01, -5.77430017e-02,\n",
              "       -1.79795012e-01,  1.44707352e-01,  6.12800047e-02, -4.79700044e-02,\n",
              "       -1.53479993e-01, -9.49255005e-02,  6.67430013e-02, -7.88200088e-03,\n",
              "        3.07199955e-02,  5.18280029e-01,  5.37843183e-02,  1.95900016e-02,\n",
              "       -4.29749995e-01,  6.85165003e-02,  3.26884985e-01, -3.49130005e-01,\n",
              "       -1.17517002e-01, -3.39125007e-01, -5.05194999e-02, -5.50379992e-01,\n",
              "        1.55102491e-01,  2.79860020e-01, -2.89137483e-01, -1.34850502e-01,\n",
              "       -2.49364495e-01,  4.47749980e-02, -4.19305027e-01,  6.94585025e-01,\n",
              "        8.71939957e-02,  9.74244997e-02,  1.05648994e-01,  2.86534995e-01,\n",
              "        1.24496505e-01,  3.59699994e-01,  1.57999992e-03, -5.38380034e-02,\n",
              "       -4.17179987e-02,  2.89844990e-01,  1.87938496e-01, -2.95760006e-01,\n",
              "        4.93725002e-01,  4.70005006e-01,  2.61645019e-01, -3.15999985e-01,\n",
              "        2.14695007e-01, -3.24274972e-02, -1.54450998e-01, -1.84155002e-01,\n",
              "       -1.65972009e-01,  1.06177256e-01, -2.42974997e-01,  6.81475043e-01,\n",
              "        1.75232008e-01,  3.53484988e-01,  2.35579997e-01, -1.86450496e-01],\n",
              "      dtype=float32)"
            ]
          },
          "metadata": {
            "tags": []
          },
          "execution_count": 19
        }
      ]
    },
    {
      "cell_type": "code",
      "metadata": {
        "colab": {
          "base_uri": "https://localhost:8080/"
        },
        "id": "seLerkAhYrhf",
        "outputId": "a1a998bb-8369-49bc-a8b0-871b17c71ab8"
      },
      "source": [
        "doc.vector.shape"
      ],
      "execution_count": 20,
      "outputs": [
        {
          "output_type": "execute_result",
          "data": {
            "text/plain": [
              "(300,)"
            ]
          },
          "metadata": {
            "tags": []
          },
          "execution_count": 20
        }
      ]
    },
    {
      "cell_type": "code",
      "metadata": {
        "colab": {
          "base_uri": "https://localhost:8080/"
        },
        "id": "za_KVPZ5Yrk4",
        "outputId": "e3120e8c-2c96-48d3-8554-69d591d35ba6"
      },
      "source": [
        "for token in doc:\n",
        "  print(token.text)"
      ],
      "execution_count": 21,
      "outputs": [
        {
          "output_type": "stream",
          "text": [
            "cat\n",
            "dog\n"
          ],
          "name": "stdout"
        }
      ]
    },
    {
      "cell_type": "code",
      "metadata": {
        "colab": {
          "base_uri": "https://localhost:8080/"
        },
        "id": "TqXeYwzQYroD",
        "outputId": "e01d04f9-feb4-4e78-c2e4-92e3be5f423e"
      },
      "source": [
        "doc[0].vector # vector only for a cat"
      ],
      "execution_count": 22,
      "outputs": [
        {
          "output_type": "execute_result",
          "data": {
            "text/plain": [
              "array([-0.15067  , -0.024468 , -0.23368  , -0.23378  , -0.18382  ,\n",
              "        0.32711  , -0.22084  , -0.28777  ,  0.12759  ,  1.1656   ,\n",
              "       -0.64163  , -0.098455 , -0.62397  ,  0.010431 , -0.25653  ,\n",
              "        0.31799  ,  0.037779 ,  1.1904   , -0.17714  , -0.2595   ,\n",
              "       -0.31461  ,  0.038825 , -0.15713  , -0.13484  ,  0.36936  ,\n",
              "       -0.30562  , -0.40619  , -0.38965  ,  0.3686   ,  0.013963 ,\n",
              "       -0.6895   ,  0.004066 , -0.1367   ,  0.32564  ,  0.24688  ,\n",
              "       -0.14011  ,  0.53889  , -0.80441  , -0.1777   , -0.12922  ,\n",
              "        0.16303  ,  0.14917  , -0.068429 , -0.33922  ,  0.18495  ,\n",
              "       -0.082544 , -0.46892  ,  0.39581  , -0.13742  , -0.35132  ,\n",
              "        0.22223  , -0.144    , -0.048287 ,  0.3379   , -0.31916  ,\n",
              "        0.20526  ,  0.098624 , -0.23877  ,  0.045338 ,  0.43941  ,\n",
              "        0.030385 , -0.013821 , -0.093273 , -0.18178  ,  0.19438  ,\n",
              "       -0.3782   ,  0.70144  ,  0.16236  ,  0.0059111,  0.024898 ,\n",
              "       -0.13613  , -0.11425  , -0.31598  , -0.14209  ,  0.028194 ,\n",
              "        0.5419   , -0.42413  , -0.599    ,  0.24976  , -0.27003  ,\n",
              "        0.14964  ,  0.29287  , -0.31281  ,  0.16543  , -0.21045  ,\n",
              "       -0.4408   ,  1.2174   ,  0.51236  ,  0.56209  ,  0.14131  ,\n",
              "        0.092514 ,  0.71396  , -0.021051 , -0.33704  , -0.20275  ,\n",
              "       -0.36181  ,  0.22055  , -0.25665  ,  0.28425  , -0.16968  ,\n",
              "        0.058029 ,  0.61182  ,  0.31576  , -0.079185 ,  0.35538  ,\n",
              "       -0.51236  ,  0.4235   , -0.30033  , -0.22376  ,  0.15223  ,\n",
              "       -0.048292 ,  0.23532  ,  0.46507  , -0.67579  , -0.32905  ,\n",
              "        0.08446  , -0.22123  , -0.045333 ,  0.34463  , -0.1455   ,\n",
              "       -0.18047  , -0.17887  ,  0.96879  , -1.0028   , -0.47343  ,\n",
              "        0.28542  ,  0.56382  , -0.33211  , -0.38275  , -0.2749   ,\n",
              "       -0.22955  , -0.24265  , -0.37689  ,  0.24822  ,  0.36941  ,\n",
              "        0.14651  , -0.37864  ,  0.31134  , -0.28449  ,  0.36948  ,\n",
              "       -2.8174   , -0.38319  , -0.022373 ,  0.56376  ,  0.40131  ,\n",
              "       -0.42131  , -0.11311  , -0.17317  ,  0.1411   , -0.13194  ,\n",
              "        0.18494  ,  0.097692 , -0.097341 , -0.23987  ,  0.16631  ,\n",
              "       -0.28556  ,  0.0038654,  0.53292  , -0.32367  , -0.38744  ,\n",
              "        0.27011  , -0.34181  , -0.27702  , -0.67279  , -0.10771  ,\n",
              "       -0.062189 , -0.24783  , -0.070884 , -0.20898  ,  0.062404 ,\n",
              "        0.022372 ,  0.13408  ,  0.1305   , -0.19546  , -0.46849  ,\n",
              "        0.77731  , -0.043978 ,  0.3827   , -0.23376  ,  1.0457   ,\n",
              "       -0.14371  , -0.3565   , -0.080713 , -0.31047  , -0.57822  ,\n",
              "       -0.28067  , -0.069678 ,  0.068929 , -0.16227  , -0.63934  ,\n",
              "       -0.62149  ,  0.11222  , -0.16969  , -0.54637  ,  0.49661  ,\n",
              "        0.46565  ,  0.088294 , -0.48496  ,  0.69263  , -0.068977 ,\n",
              "       -0.53709  ,  0.20802  , -0.42987  , -0.11921  ,  0.1174   ,\n",
              "       -0.18443  ,  0.43797  , -0.1236   ,  0.3607   , -0.19608  ,\n",
              "       -0.35366  ,  0.18808  , -0.5061   ,  0.14455  , -0.024368 ,\n",
              "       -0.10772  , -0.0115   ,  0.58634  , -0.054461 ,  0.0076487,\n",
              "       -0.056297 ,  0.27193  ,  0.23096  , -0.29296  , -0.24325  ,\n",
              "        0.10317  , -0.10014  ,  0.7089   ,  0.17402  , -0.0037509,\n",
              "       -0.46304  ,  0.11806  , -0.16457  , -0.38609  ,  0.14524  ,\n",
              "        0.098122 , -0.12352  , -0.1047   ,  0.39047  , -0.3063   ,\n",
              "       -0.65375  , -0.0044248, -0.033876 ,  0.037114 , -0.27472  ,\n",
              "        0.0053147,  0.30737  ,  0.12528  , -0.19527  , -0.16461  ,\n",
              "        0.087518 , -0.051107 , -0.16323  ,  0.521    ,  0.10822  ,\n",
              "       -0.060379 , -0.71735  , -0.064327 ,  0.37043  , -0.41054  ,\n",
              "       -0.2728   , -0.30217  ,  0.015771 , -0.43056  ,  0.35647  ,\n",
              "        0.17188  , -0.54598  , -0.21541  , -0.044889 , -0.10597  ,\n",
              "       -0.54391  ,  0.53908  ,  0.070938 ,  0.097839 ,  0.097908 ,\n",
              "        0.17805  ,  0.18995  ,  0.49962  , -0.18529  ,  0.051234 ,\n",
              "        0.019574 ,  0.24805  ,  0.3144   , -0.29304  ,  0.54235  ,\n",
              "        0.46672  ,  0.26017  , -0.44705  ,  0.28287  , -0.033345 ,\n",
              "       -0.33181  , -0.10902  , -0.023324 ,  0.2106   , -0.29633  ,\n",
              "        0.81506  ,  0.038524 ,  0.46004  ,  0.17187  , -0.29804  ],\n",
              "      dtype=float32)"
            ]
          },
          "metadata": {
            "tags": []
          },
          "execution_count": 22
        }
      ]
    },
    {
      "cell_type": "code",
      "metadata": {
        "colab": {
          "base_uri": "https://localhost:8080/"
        },
        "id": "brHpmMXZYrrJ",
        "outputId": "d07c7645-fd65-4a34-bcf3-ec77111133e6"
      },
      "source": [
        "doc[0].vector.shape # shape of the vector is always 300"
      ],
      "execution_count": 23,
      "outputs": [
        {
          "output_type": "execute_result",
          "data": {
            "text/plain": [
              "(300,)"
            ]
          },
          "metadata": {
            "tags": []
          },
          "execution_count": 23
        }
      ]
    },
    {
      "cell_type": "code",
      "metadata": {
        "id": "cM8gLGtyYnwQ"
      },
      "source": [
        "def get_vec(x):\n",
        "  doc = nlp(x)\n",
        "  vec = doc.vector\n",
        "  return vec\n"
      ],
      "execution_count": 24,
      "outputs": []
    },
    {
      "cell_type": "code",
      "metadata": {
        "colab": {
          "base_uri": "https://localhost:8080/"
        },
        "id": "YI9lKHpxYnzC",
        "outputId": "d2d2baee-9a06-483d-fdb9-a01403ea551a"
      },
      "source": [
        "get_vec(x)"
      ],
      "execution_count": 25,
      "outputs": [
        {
          "output_type": "execute_result",
          "data": {
            "text/plain": [
              "array([-2.76215017e-01,  1.73051000e-01, -1.06199495e-01, -2.87514985e-01,\n",
              "       -6.71409965e-02,  3.10755014e-01, -1.97300002e-01, -2.83794999e-01,\n",
              "        9.76060033e-02,  1.66744995e+00, -6.34269953e-01,  9.63025019e-02,\n",
              "       -6.48334980e-01,  1.21810503e-01, -2.99584985e-01,  2.50550002e-01,\n",
              "        2.70019501e-01,  1.12965000e+00, -1.50799975e-02, -3.55899990e-01,\n",
              "       -3.66439998e-01, -6.04224950e-02,  5.51749915e-02, -3.11755002e-01,\n",
              "        3.66990000e-01, -1.74511507e-01, -3.25464994e-01, -4.03584987e-01,\n",
              "        2.28844002e-01, -1.20778494e-01, -6.23224974e-01,  6.32480010e-02,\n",
              "       -1.10113002e-01,  4.38295007e-01,  3.05490017e-01,  6.75000250e-03,\n",
              "        5.48135042e-01, -8.55714977e-01, -1.13398999e-01,  1.28289998e-01,\n",
              "        2.71515012e-01,  1.46710008e-01, -1.70319498e-01, -3.54690015e-01,\n",
              "        2.79549956e-02, -1.16696998e-01, -4.24840003e-01,  2.22696498e-01,\n",
              "       -4.93499637e-03, -2.17053995e-01,  1.82810009e-01,  9.06850100e-02,\n",
              "        1.11986503e-01,  3.87109995e-01, -3.18425000e-01,  4.99654979e-01,\n",
              "        1.81956992e-01, -6.87099993e-02, -1.43725991e-01,  4.35289979e-01,\n",
              "        9.86275002e-02,  4.67345007e-02, -1.92749873e-03,  5.22850081e-02,\n",
              "        2.97775000e-01, -3.85209978e-01,  5.76804996e-01,  1.48784995e-01,\n",
              "       -1.41434446e-01,  1.03950035e-03, -2.42940009e-01, -1.72104999e-01,\n",
              "       -5.68699911e-02, -1.76929995e-01,  1.50017008e-01,  3.16801488e-01,\n",
              "       -3.15115005e-01, -6.28289998e-01,  2.19624996e-01, -2.68795013e-01,\n",
              "        1.21139497e-01,  3.63014996e-01, -4.00745004e-01, -1.08829997e-01,\n",
              "       -2.14774996e-01, -4.41314995e-01,  1.09891999e+00,  5.93294978e-01,\n",
              "        7.01059997e-01, -2.01900005e-02,  1.33182004e-01,  5.66219985e-01,\n",
              "        6.99644983e-02, -2.20970005e-01, -3.11199993e-01, -3.59205008e-01,\n",
              "        2.60900036e-02, -4.45614994e-01,  3.34235013e-01, -2.60055006e-01,\n",
              "        1.16444498e-01,  5.73549986e-01,  2.58594990e-01, -2.06540003e-02,\n",
              "        4.13214982e-01, -4.77899969e-01,  2.95949996e-01, -2.33590007e-01,\n",
              "       -2.31989995e-01,  2.57299989e-02,  1.27523988e-01,  3.31310004e-01,\n",
              "        4.01549995e-01, -5.55299997e-01, -1.07810006e-01,  7.32090026e-02,\n",
              "       -7.97109976e-02, -9.27015021e-02,  2.13324010e-01, -9.23150033e-02,\n",
              "       -6.45140037e-02,  5.41900024e-02,  7.74520040e-01, -7.89605021e-01,\n",
              "       -4.09974992e-01,  1.93370000e-01,  3.54225010e-01, -1.60270497e-01,\n",
              "       -3.59880000e-01, -2.25380003e-01, -2.93394983e-01, -2.28440002e-01,\n",
              "       -1.82730496e-01,  3.62334996e-01,  1.65973499e-01, -7.41849989e-02,\n",
              "       -2.76645005e-01,  3.06944996e-01,  1.59339994e-01,  1.51345015e-01,\n",
              "       -2.76119995e+00, -5.43134987e-01,  1.91553503e-01,  5.96249998e-01,\n",
              "        5.16054988e-01, -4.83220011e-01, -6.13645501e-02,  4.60799932e-02,\n",
              "        1.87505007e-01, -9.19129997e-02,  8.91820490e-02,  5.81324995e-02,\n",
              "       -2.77135491e-01, -1.55110493e-01, -6.99500069e-02, -1.49789006e-01,\n",
              "       -1.00107297e-01,  4.51959997e-01, -3.23605001e-01, -6.16949975e-01,\n",
              "        2.70515025e-01, -2.30710000e-01, -1.86298013e-01, -6.38715029e-01,\n",
              "       -3.26505005e-02,  9.21855047e-02, -1.04692504e-01, -4.81754988e-02,\n",
              "       -1.50943995e-01, -7.55780041e-02,  1.91786006e-01,  7.65964985e-02,\n",
              "        9.66205001e-02, -1.63145006e-01, -2.35002309e-01,  6.79844975e-01,\n",
              "       -1.16769001e-01,  5.81875026e-01, -1.11641496e-01,  1.06924999e+00,\n",
              "       -2.11549997e-02, -3.59490007e-01, -1.00166500e-01, -3.27544987e-01,\n",
              "       -5.67629993e-01, -1.13499910e-02,  1.31940991e-01,  2.00434506e-01,\n",
              "       -2.37625003e-01, -6.97404981e-01, -6.87195003e-01,  9.57399979e-03,\n",
              "       -1.40709996e-01, -5.59440017e-01,  3.31499994e-01,  5.50719976e-01,\n",
              "        1.64177001e-01, -3.88534993e-01,  7.97224998e-01,  2.76365019e-02,\n",
              "       -5.57299972e-01,  1.28003001e-01, -4.28674996e-01,  6.26250058e-02,\n",
              "        8.23159963e-02,  8.62549990e-02,  4.40190017e-01, -1.77074999e-01,\n",
              "        5.10535002e-01, -1.01739153e-01, -3.66114974e-01,  2.07834989e-01,\n",
              "       -4.38740015e-01,  2.27550000e-01, -4.82364967e-02, -1.76310003e-01,\n",
              "       -2.56305002e-02,  5.61419964e-01, -2.34620497e-01,  8.66393521e-02,\n",
              "        1.40386492e-01,  1.90565005e-01,  3.01575005e-01, -4.25114989e-01,\n",
              "       -5.11924982e-01,  1.22840002e-01, -2.29210004e-01,  5.62639952e-01,\n",
              "        1.94240004e-01,  9.01745483e-02, -4.70039994e-01,  4.80275005e-02,\n",
              "       -2.00455010e-01, -3.07245016e-01,  2.46230006e-01,  1.67396009e-01,\n",
              "       -2.46355012e-02, -9.65580046e-02,  3.38324994e-01, -3.87860000e-01,\n",
              "       -5.46445012e-01, -1.34582400e-01, -1.70387998e-01, -5.77430017e-02,\n",
              "       -1.79795012e-01,  1.44707352e-01,  6.12800047e-02, -4.79700044e-02,\n",
              "       -1.53479993e-01, -9.49255005e-02,  6.67430013e-02, -7.88200088e-03,\n",
              "        3.07199955e-02,  5.18280029e-01,  5.37843183e-02,  1.95900016e-02,\n",
              "       -4.29749995e-01,  6.85165003e-02,  3.26884985e-01, -3.49130005e-01,\n",
              "       -1.17517002e-01, -3.39125007e-01, -5.05194999e-02, -5.50379992e-01,\n",
              "        1.55102491e-01,  2.79860020e-01, -2.89137483e-01, -1.34850502e-01,\n",
              "       -2.49364495e-01,  4.47749980e-02, -4.19305027e-01,  6.94585025e-01,\n",
              "        8.71939957e-02,  9.74244997e-02,  1.05648994e-01,  2.86534995e-01,\n",
              "        1.24496505e-01,  3.59699994e-01,  1.57999992e-03, -5.38380034e-02,\n",
              "       -4.17179987e-02,  2.89844990e-01,  1.87938496e-01, -2.95760006e-01,\n",
              "        4.93725002e-01,  4.70005006e-01,  2.61645019e-01, -3.15999985e-01,\n",
              "        2.14695007e-01, -3.24274972e-02, -1.54450998e-01, -1.84155002e-01,\n",
              "       -1.65972009e-01,  1.06177256e-01, -2.42974997e-01,  6.81475043e-01,\n",
              "        1.75232008e-01,  3.53484988e-01,  2.35579997e-01, -1.86450496e-01],\n",
              "      dtype=float32)"
            ]
          },
          "metadata": {
            "tags": []
          },
          "execution_count": 25
        }
      ]
    },
    {
      "cell_type": "code",
      "metadata": {
        "id": "JRphJ0GnYn19"
      },
      "source": [
        "#get vector for each of the rows in the data\n",
        "data['vec'] = data['review'].apply(lambda x : get_vec(x))"
      ],
      "execution_count": 26,
      "outputs": []
    },
    {
      "cell_type": "code",
      "metadata": {
        "colab": {
          "base_uri": "https://localhost:8080/",
          "height": 204
        },
        "id": "Ry6bhse0a8fp",
        "outputId": "06ec337e-c6e4-4b99-c37f-0604d1498256"
      },
      "source": [
        "data.head()"
      ],
      "execution_count": 27,
      "outputs": [
        {
          "output_type": "execute_result",
          "data": {
            "text/html": [
              "<div>\n",
              "<style scoped>\n",
              "    .dataframe tbody tr th:only-of-type {\n",
              "        vertical-align: middle;\n",
              "    }\n",
              "\n",
              "    .dataframe tbody tr th {\n",
              "        vertical-align: top;\n",
              "    }\n",
              "\n",
              "    .dataframe thead th {\n",
              "        text-align: right;\n",
              "    }\n",
              "</style>\n",
              "<table border=\"1\" class=\"dataframe\">\n",
              "  <thead>\n",
              "    <tr style=\"text-align: right;\">\n",
              "      <th></th>\n",
              "      <th>label</th>\n",
              "      <th>review</th>\n",
              "      <th>vec</th>\n",
              "    </tr>\n",
              "  </thead>\n",
              "  <tbody>\n",
              "    <tr>\n",
              "      <th>0</th>\n",
              "      <td>neg</td>\n",
              "      <td>how do films like mouse hunt get into theatres...</td>\n",
              "      <td>[-0.024749208, 0.05506309, -0.1091559, -0.0209...</td>\n",
              "    </tr>\n",
              "    <tr>\n",
              "      <th>1</th>\n",
              "      <td>neg</td>\n",
              "      <td>some talented actresses are blessed with a dem...</td>\n",
              "      <td>[-0.021686133, 0.12117902, -0.13109466, -0.021...</td>\n",
              "    </tr>\n",
              "    <tr>\n",
              "      <th>2</th>\n",
              "      <td>pos</td>\n",
              "      <td>this has been an extraordinary year for austra...</td>\n",
              "      <td>[0.016552947, 0.11237219, -0.07840806, -0.0179...</td>\n",
              "    </tr>\n",
              "    <tr>\n",
              "      <th>3</th>\n",
              "      <td>pos</td>\n",
              "      <td>according to hollywood movies made in last few...</td>\n",
              "      <td>[0.022948751, 0.074571006, -0.06255964, -0.039...</td>\n",
              "    </tr>\n",
              "    <tr>\n",
              "      <th>4</th>\n",
              "      <td>neg</td>\n",
              "      <td>my first press screening of 1998 and already i...</td>\n",
              "      <td>[0.016205939, 0.06909881, -0.116068244, -0.027...</td>\n",
              "    </tr>\n",
              "  </tbody>\n",
              "</table>\n",
              "</div>"
            ],
            "text/plain": [
              "  label  ...                                                vec\n",
              "0   neg  ...  [-0.024749208, 0.05506309, -0.1091559, -0.0209...\n",
              "1   neg  ...  [-0.021686133, 0.12117902, -0.13109466, -0.021...\n",
              "2   pos  ...  [0.016552947, 0.11237219, -0.07840806, -0.0179...\n",
              "3   pos  ...  [0.022948751, 0.074571006, -0.06255964, -0.039...\n",
              "4   neg  ...  [0.016205939, 0.06909881, -0.116068244, -0.027...\n",
              "\n",
              "[5 rows x 3 columns]"
            ]
          },
          "metadata": {
            "tags": []
          },
          "execution_count": 27
        }
      ]
    },
    {
      "cell_type": "code",
      "metadata": {
        "id": "XDlKbg7Ua-Af"
      },
      "source": [
        "X = data['vec'].to_numpy()"
      ],
      "execution_count": 28,
      "outputs": []
    },
    {
      "cell_type": "code",
      "metadata": {
        "colab": {
          "base_uri": "https://localhost:8080/"
        },
        "id": "BoJQ2Oj47olE",
        "outputId": "32bbe90b-f548-432c-a78d-32f572f47aad"
      },
      "source": [
        "X.shape"
      ],
      "execution_count": 29,
      "outputs": [
        {
          "output_type": "execute_result",
          "data": {
            "text/plain": [
              "(2000,)"
            ]
          },
          "metadata": {
            "tags": []
          },
          "execution_count": 29
        }
      ]
    },
    {
      "cell_type": "code",
      "metadata": {
        "id": "dZVdcLZT7pmp"
      },
      "source": [
        "X = X.reshape(-1,1)"
      ],
      "execution_count": 30,
      "outputs": []
    },
    {
      "cell_type": "code",
      "metadata": {
        "colab": {
          "base_uri": "https://localhost:8080/"
        },
        "id": "HzP3nVDN7t0D",
        "outputId": "5caefe5c-2911-480f-b8f7-d25df0e72d74"
      },
      "source": [
        "X.shape"
      ],
      "execution_count": 31,
      "outputs": [
        {
          "output_type": "execute_result",
          "data": {
            "text/plain": [
              "(2000, 1)"
            ]
          },
          "metadata": {
            "tags": []
          },
          "execution_count": 31
        }
      ]
    },
    {
      "cell_type": "code",
      "metadata": {
        "colab": {
          "base_uri": "https://localhost:8080/"
        },
        "id": "7MuvT7HT7uki",
        "outputId": "428bed34-d41f-456b-8279-518ff28dcec9"
      },
      "source": [
        "X"
      ],
      "execution_count": 32,
      "outputs": [
        {
          "output_type": "execute_result",
          "data": {
            "text/plain": [
              "array([[array([-2.47492082e-02,  5.50630912e-02, -1.09155901e-01, -2.09761988e-02,\n",
              "        5.14255241e-02, -2.73563322e-02,  2.82345130e-03, -1.07418865e-01,\n",
              "        4.56782617e-02,  2.10219669e+00, -1.08040214e-01, -1.52518107e-02,\n",
              "       -1.19990604e-02, -4.14772630e-02, -6.42440543e-02, -4.23673280e-02,\n",
              "       -4.12555672e-02,  8.76505315e-01, -1.16644435e-01, -4.64346111e-02,\n",
              "       -1.96756646e-02, -4.43504229e-02, -4.20983210e-02, -1.23986332e-02,\n",
              "        2.38176882e-02,  3.33098159e-03, -5.07248975e-02, -4.62397859e-02,\n",
              "        1.09616071e-02, -6.29315600e-02, -5.12722917e-02,  7.99128786e-02,\n",
              "       -9.50764269e-02,  9.63740870e-02,  7.64656439e-02, -7.78278038e-02,\n",
              "       -8.62725731e-03,  4.78737652e-02, -4.18470763e-02, -1.72930937e-02,\n",
              "        2.91692205e-02,  1.14286780e-01, -4.38313223e-02, -8.51681754e-02,\n",
              "        9.78026465e-02,  2.06402130e-02, -6.59504458e-02,  6.28861785e-03,\n",
              "       -3.39252353e-02,  2.90057249e-02,  1.51567468e-02,  5.73364757e-02,\n",
              "       -2.86248568e-02, -1.79148708e-02,  3.66743207e-02,  7.88273942e-03,\n",
              "       -9.37283691e-03, -7.46384189e-02, -9.17403959e-03, -6.68313652e-02,\n",
              "        1.90049391e-02,  2.83014476e-02, -5.98426461e-02,  8.70701373e-02,\n",
              "        5.63418493e-02, -8.38716701e-02, -5.32817282e-02,  4.64388877e-02,\n",
              "        3.22328284e-02,  3.96308936e-02,  9.38092396e-02,  9.57261212e-03,\n",
              "        1.34260207e-01,  1.68403855e-03,  2.72130594e-02,  7.07121519e-03,\n",
              "        4.02998552e-02, -1.01426885e-01, -2.75721271e-02,  1.22987978e-01,\n",
              "       -2.24531721e-03,  6.05671406e-02, -1.27137214e-01, -5.40359691e-02,\n",
              "        9.26411059e-03, -1.34832397e-01,  6.08259486e-03, -6.78871945e-02,\n",
              "        1.87380210e-01,  1.66958980e-02, -1.75850257e-01,  6.72467276e-02,\n",
              "       -6.26314878e-02,  1.78824756e-02,  7.07137957e-02,  2.41534710e-02,\n",
              "       -3.16108651e-02, -1.49097750e-02,  9.82948020e-03,  3.29181878e-03,\n",
              "        3.55558982e-03,  4.80797095e-03, -1.07978880e-01, -7.99962431e-02,\n",
              "        1.09097824e-01, -9.04751539e-01,  7.33318850e-02,  7.96317235e-02,\n",
              "        3.36465612e-02, -8.65542963e-02,  5.86150065e-02, -1.13143101e-01,\n",
              "        8.67839232e-02, -2.41932683e-02, -5.61773591e-03, -7.69281713e-03,\n",
              "       -2.44819224e-02,  6.27527162e-02,  4.52054711e-03,  2.30882987e-02,\n",
              "        1.97337456e-02, -7.94980153e-02, -3.08096763e-02, -6.02367148e-03,\n",
              "        1.82654541e-02,  1.81948729e-02, -3.86691503e-02, -7.36494809e-02,\n",
              "       -3.99010330e-02, -2.14487668e-02, -4.77189831e-02,  4.84495126e-02,\n",
              "       -1.89665016e-02,  6.08266965e-02,  4.54646386e-02,  1.09138442e-02,\n",
              "       -4.12875079e-02,  4.58288612e-03, -9.59889125e-03, -2.68800315e-02,\n",
              "       -1.36624551e+00,  2.22826377e-02,  2.88653467e-02, -5.16131520e-03,\n",
              "        6.20887568e-03, -5.78206740e-02, -8.10219347e-03, -4.19444293e-02,\n",
              "        1.13760561e-01, -3.01279128e-02,  8.93692765e-03, -6.38448820e-03,\n",
              "        1.13104269e-01, -1.52192647e-02, -2.72510611e-02, -7.31179938e-02,\n",
              "       -7.59521425e-02, -2.47301422e-02, -7.39399716e-02, -1.13341786e-01,\n",
              "       -3.27519700e-02, -3.02535072e-02, -2.26958506e-02,  3.19276974e-02,\n",
              "       -2.25542840e-02, -1.70516565e-01,  3.24299261e-02, -5.31243868e-02,\n",
              "        1.39756620e-01, -2.59623434e-02, -3.84056242e-03, -1.46626933e-02,\n",
              "        9.94867161e-02, -2.95352936e-02, -3.14614661e-02,  2.75863968e-02,\n",
              "       -4.78084199e-02, -2.33750287e-02, -4.24488448e-03, -5.03985062e-02,\n",
              "        5.22959493e-02, -9.51264054e-02, -3.82640176e-02, -2.06917021e-02,\n",
              "       -3.18820998e-02,  7.99406506e-03, -2.24410351e-02, -6.97967559e-02,\n",
              "        7.57276863e-02,  8.13652668e-03, -4.10481580e-02, -1.87829267e-02,\n",
              "       -1.11032568e-01,  6.27778545e-02, -1.16428621e-02,  6.52012154e-02,\n",
              "       -6.98457956e-02, -4.69654761e-02, -2.22217459e-02,  8.30185339e-02,\n",
              "       -6.14980124e-02, -2.11968701e-02, -1.02236241e-01, -2.62511075e-02,\n",
              "        1.21085867e-01,  5.77831976e-02,  4.63271141e-02,  2.08223965e-02,\n",
              "        5.08216359e-02,  2.44865157e-02, -6.27739802e-02, -2.13275733e-03,\n",
              "       -1.09878788e-02, -1.18760757e-01,  1.05973715e-02,  1.14999019e-01,\n",
              "        3.12201921e-02,  6.73279166e-02, -1.02767684e-01, -1.72932493e-03,\n",
              "        2.59901695e-02, -5.85714821e-03, -7.61006027e-02, -2.07740292e-02,\n",
              "       -8.86354782e-03, -5.26286624e-02, -2.27192827e-02,  1.15635790e-01,\n",
              "        9.89415590e-03, -1.78843662e-02, -1.20065808e-01,  5.34236878e-02,\n",
              "        6.59556016e-02,  1.04338527e-01, -5.05572483e-02, -6.33319840e-02,\n",
              "        5.18659083e-03, -3.71687859e-02, -6.61798567e-02,  7.41146505e-02,\n",
              "        6.21156171e-02,  6.21394999e-02, -8.32203124e-03,  7.73731768e-02,\n",
              "        6.82516843e-02, -1.16507091e-01, -5.88169508e-02, -1.19926780e-01,\n",
              "       -6.02693409e-02,  7.07916319e-02,  5.08877682e-04, -6.40310869e-02,\n",
              "        3.19023877e-02,  3.42853527e-05,  2.02320367e-02,  1.68229789e-01,\n",
              "        1.14770696e-01,  4.46400745e-03, -3.04185990e-02,  2.76900660e-02,\n",
              "        7.22113997e-02,  1.49460360e-01,  3.45290154e-02,  1.18253231e-02,\n",
              "        1.63112238e-01, -1.09519260e-02, -2.63486449e-02,  6.78289169e-03,\n",
              "        2.94609100e-01,  1.98370032e-02,  6.92107454e-02, -6.21803105e-02,\n",
              "       -9.16393772e-02, -1.43696666e-01, -7.86076114e-02, -3.98563826e-03,\n",
              "        3.06912679e-02,  3.04837860e-02,  2.56216936e-02,  1.56855866e-01,\n",
              "        1.68195203e-01,  7.79311135e-02, -2.49091741e-02, -2.91222539e-02,\n",
              "       -3.60120088e-02, -4.91360612e-02,  1.19573593e-01, -6.61916956e-02,\n",
              "        8.71346965e-02, -9.59574953e-02, -2.01217383e-01,  5.80310673e-02,\n",
              "        1.61269028e-02, -3.18470113e-02,  1.51186250e-03,  3.55015062e-02,\n",
              "       -3.19704153e-02, -2.72418465e-02, -1.81664247e-02,  7.34701678e-02],\n",
              "      dtype=float32)],\n",
              "       [array([-2.16861330e-02,  1.21179022e-01, -1.31094664e-01, -2.19402928e-02,\n",
              "        8.15199986e-02, -1.72533765e-02,  1.54031217e-02, -1.12527050e-01,\n",
              "        8.28903541e-03,  2.15258527e+00, -9.01232809e-02,  2.74024643e-02,\n",
              "       -8.69483780e-03, -7.53220171e-02, -1.11481667e-01, -5.07872738e-02,\n",
              "       -2.37400774e-02,  8.66236508e-01, -1.49568692e-01, -3.96093540e-02,\n",
              "       -1.07409554e-02, -1.04735032e-01, -5.11445329e-02, -3.71541865e-02,\n",
              "        2.37197317e-02,  1.67439654e-02, -3.85674462e-02, -5.35712987e-02,\n",
              "       -2.98190792e-03, -9.11486670e-02, -7.83618093e-02,  1.03752784e-01,\n",
              "       -6.79910034e-02,  5.34704067e-02,  8.65096077e-02, -6.85123876e-02,\n",
              "       -1.39204431e-02,  4.08858433e-03, -4.17794101e-02, -6.58523664e-02,\n",
              "        6.85123056e-02,  8.59683305e-02, -1.34514524e-02, -7.47866184e-02,\n",
              "        6.09415993e-02,  1.53860096e-02, -1.42292336e-01, -2.04158686e-02,\n",
              "       -7.09537556e-03,  2.13172492e-02, -4.32029739e-02,  2.99950093e-02,\n",
              "       -3.36345397e-02, -4.24617901e-02,  5.18327914e-02,  4.53000702e-02,\n",
              "       -3.58704627e-02, -5.61422184e-02, -3.86249693e-03, -8.37241113e-02,\n",
              "       -2.67099105e-02, -2.09440757e-02, -6.24933653e-02,  1.11754596e-01,\n",
              "        5.54819778e-02, -8.50663483e-02, -2.91580912e-02,  4.59494591e-02,\n",
              "        4.13133353e-02,  6.49598762e-02,  6.13063797e-02,  1.83833111e-02,\n",
              "        1.03259921e-01, -2.74956357e-02,  3.73689495e-02, -2.07928801e-03,\n",
              "        6.99597523e-02, -5.82405291e-02, -2.36862358e-02,  1.23659894e-01,\n",
              "        7.81194633e-03,  5.31119965e-02, -1.64566517e-01, -1.87643543e-02,\n",
              "        2.14942079e-02, -1.74087182e-01,  9.83683672e-03, -1.17361605e-01,\n",
              "        1.46889612e-01,  1.24018022e-03, -1.44727230e-01, -2.86885398e-03,\n",
              "       -5.50625250e-02,  4.81407754e-02,  9.95370969e-02, -3.44119444e-02,\n",
              "        4.65440489e-02, -2.54096631e-02, -1.13267126e-02, -5.54376952e-02,\n",
              "        7.55182281e-03,  3.70884687e-02, -6.86667487e-02, -7.45381266e-02,\n",
              "        8.43985379e-02, -8.21295798e-01,  5.04856221e-02,  2.47576889e-02,\n",
              "        1.15015293e-02, -4.78896797e-02,  3.64998356e-02, -5.84238619e-02,\n",
              "        5.80990501e-02, -6.84590861e-02,  4.94646514e-03, -3.52711603e-02,\n",
              "        1.17521407e-02,  8.70810300e-02,  1.91440061e-02,  3.78722586e-02,\n",
              "        7.29595125e-03, -4.12622951e-02, -1.90109201e-02, -6.99309167e-03,\n",
              "        2.17736512e-02,  3.96073759e-02, -5.59523366e-02, -1.03907004e-01,\n",
              "       -2.53228359e-02, -1.75698008e-02, -3.37333828e-02,  3.23836617e-02,\n",
              "       -5.10870963e-02,  2.20659338e-02,  1.01401731e-01,  2.08932087e-02,\n",
              "       -2.98901647e-02,  2.50382982e-02, -1.11943223e-02, -5.93966581e-02,\n",
              "       -1.33579028e+00,  3.35691124e-02,  6.48658946e-02,  4.85498346e-02,\n",
              "       -3.01467404e-02, -6.54098392e-02, -2.81861648e-02, -2.26280950e-02,\n",
              "        5.71818389e-02, -2.29787640e-02, -1.61020998e-02,  1.14667704e-02,\n",
              "        7.25942254e-02, -9.42181144e-03, -6.33799955e-02, -4.90820222e-02,\n",
              "       -8.78799856e-02, -5.78395389e-02, -3.59716862e-02, -1.16781332e-01,\n",
              "       -1.85513459e-02, -2.34589744e-02, -4.81971242e-02,  1.12057617e-02,\n",
              "       -3.68636586e-02, -1.36453897e-01,  2.35170815e-02, -3.27979922e-02,\n",
              "        1.18008450e-01, -3.07732299e-02, -1.80957187e-02, -5.56184202e-02,\n",
              "        1.30127773e-01, -5.51795512e-02, -4.69087921e-02,  3.22431847e-02,\n",
              "       -3.59166265e-02,  1.08414982e-02, -2.30861567e-02, -3.07956785e-02,\n",
              "        1.43484054e-02, -4.14836183e-02, -8.12312365e-02, -4.87260856e-02,\n",
              "       -4.05394211e-02,  3.04503813e-02, -5.70487194e-02, -7.15244515e-03,\n",
              "        2.90681254e-02, -5.67388069e-03, -3.83574516e-02, -2.24061925e-02,\n",
              "       -1.38199762e-01,  6.80262595e-02,  7.71718519e-03,  8.33003819e-02,\n",
              "       -3.39741297e-02, -4.07698676e-02, -7.92224798e-03,  1.07782170e-01,\n",
              "       -4.53908667e-02, -3.42412628e-02, -1.08512983e-01, -2.06525773e-02,\n",
              "        1.12383902e-01,  6.85196742e-02,  3.32389139e-02, -1.44513147e-02,\n",
              "        2.31599752e-02,  2.98644789e-02, -9.50551853e-02, -7.33737880e-03,\n",
              "       -2.66661886e-02, -1.45141751e-01,  5.28984405e-02,  1.61235675e-01,\n",
              "       -2.82157417e-02,  1.46237912e-03, -9.14964974e-02, -4.12807278e-02,\n",
              "       -1.68940087e-03, -8.63132719e-03, -5.00924662e-02,  1.14223063e-02,\n",
              "       -5.53074758e-03, -1.42610166e-02, -3.13264574e-03,  9.75637585e-02,\n",
              "        4.91993278e-02,  2.56874934e-02, -1.19020559e-01,  4.62227948e-02,\n",
              "        6.73982650e-02,  8.61761421e-02, -8.52743015e-02, -9.00900215e-02,\n",
              "        5.13062403e-02, -3.43035795e-02, -1.08560994e-01,  7.29125217e-02,\n",
              "        3.83959003e-02,  6.19558543e-02,  1.65947136e-02,  6.13495447e-02,\n",
              "        9.41643566e-02, -1.16264150e-01, -6.29697368e-02, -9.46414098e-02,\n",
              "       -9.15513262e-02,  7.28480741e-02,  7.80327199e-03, -3.31518613e-02,\n",
              "       -4.41646902e-03, -1.48305846e-02,  1.97548922e-02,  1.74682125e-01,\n",
              "        9.97102037e-02, -1.24854669e-02, -1.33215394e-02,  4.41120565e-02,\n",
              "        1.03371307e-01,  1.63348153e-01, -1.52777769e-02,  6.45562932e-02,\n",
              "        9.06703100e-02,  1.26282228e-02,  2.03400850e-03,  1.91895384e-02,\n",
              "        2.34388784e-01, -1.89022124e-02,  6.67541027e-02, -3.46618146e-02,\n",
              "       -1.27221227e-01, -1.33980304e-01, -5.68248369e-02,  3.54676656e-02,\n",
              "        4.08196263e-03,  2.92983521e-02,  3.03417593e-02,  1.80345774e-01,\n",
              "        1.30500078e-01,  9.94479731e-02, -1.10631539e-02, -4.52226251e-02,\n",
              "       -4.09743041e-02, -6.42271712e-02,  7.48145804e-02, -3.05050276e-02,\n",
              "        9.65731740e-02, -7.38644823e-02, -1.32746756e-01,  3.97832021e-02,\n",
              "        1.49580780e-02, -4.34968695e-02,  4.66180369e-02,  3.59317213e-02,\n",
              "       -2.62388270e-02, -2.12007482e-02,  2.53464188e-02,  5.19042909e-02],\n",
              "      dtype=float32)],\n",
              "       [array([ 1.65529475e-02,  1.12372190e-01, -7.84080625e-02, -1.79869104e-02,\n",
              "        1.20483540e-01, -2.50737723e-02, -4.06687036e-02, -3.90636623e-02,\n",
              "        6.50274043e-04,  2.24347448e+00, -1.35311633e-01,  1.74582675e-02,\n",
              "        2.58966368e-02, -9.01115611e-02, -6.15959950e-02, -5.34635819e-02,\n",
              "       -3.40601131e-02,  9.25710559e-01, -1.06941946e-01, -9.15491581e-02,\n",
              "       -1.53338509e-02, -1.04563631e-01, -5.25085218e-02,  9.08769388e-03,\n",
              "        3.27598974e-02,  1.69622619e-02, -4.89361733e-02, -9.02407989e-03,\n",
              "       -6.71475306e-02, -1.15826270e-02, -3.44303437e-02,  1.30073979e-01,\n",
              "       -5.17022796e-02,  5.57588264e-02,  9.18485522e-02, -9.25727487e-02,\n",
              "       -4.22860570e-02, -3.11207082e-02, -2.94858329e-02, -7.08527267e-02,\n",
              "        7.15505332e-02,  1.19966380e-01,  1.59657449e-02, -9.72598270e-02,\n",
              "        8.65618587e-02,  1.80487391e-02, -9.01321769e-02, -4.06426899e-02,\n",
              "       -1.85308289e-02,  8.26136488e-03, -2.08475422e-02,  2.91351974e-02,\n",
              "       -5.40250540e-02, -1.10338749e-02,  6.45822361e-02,  5.39755113e-02,\n",
              "       -2.04903930e-02, -4.13808301e-02, -1.43925371e-02, -8.06876719e-02,\n",
              "       -2.85559595e-02, -1.93231534e-02, -5.29082008e-02,  1.39802337e-01,\n",
              "       -3.23035259e-04, -9.07351226e-02, -5.03574684e-02,  3.44536640e-02,\n",
              "        3.34219709e-02,  5.26916943e-02,  4.36181761e-02,  8.99505056e-03,\n",
              "        8.10236260e-02, -8.62541702e-03,  2.33605169e-02, -9.71841812e-03,\n",
              "        2.68094111e-02, -4.92925420e-02, -5.21301292e-02,  8.26577544e-02,\n",
              "        3.79495025e-02,  1.00567780e-01, -1.11404903e-01, -7.57520506e-03,\n",
              "        6.00314662e-02, -1.69455275e-01, -1.08812682e-01, -2.82841567e-02,\n",
              "        1.06657788e-01,  1.22656729e-02, -1.31463528e-01,  2.62106359e-02,\n",
              "       -3.99219207e-02,  2.70615164e-02,  1.05514951e-01, -9.40869004e-03,\n",
              "       -1.62172131e-02, -1.33245913e-02,  9.88231227e-03, -4.12330851e-02,\n",
              "        6.78111613e-02,  1.33182248e-02, -6.12439290e-02, -6.31254166e-02,\n",
              "        6.69612288e-02, -8.43114913e-01,  4.87791225e-02,  7.48052821e-02,\n",
              "        2.10330952e-02, -8.71227458e-02,  3.51071097e-02, -8.69267359e-02,\n",
              "        3.32134664e-02, -2.08637379e-02,  1.46310944e-02,  8.13443121e-03,\n",
              "       -5.99965500e-03,  1.01944238e-01, -2.59578265e-02,  3.68776619e-02,\n",
              "       -4.69287578e-03, -5.48879430e-02, -5.22903241e-02, -2.55551096e-02,\n",
              "        1.63684860e-02,  6.87358379e-02, -3.27651687e-02, -1.24893494e-01,\n",
              "       -9.57196206e-03, -3.02644726e-02, -5.76566271e-02, -6.78127352e-03,\n",
              "       -6.35599568e-02,  2.26151645e-02,  9.82001871e-02,  1.61465220e-02,\n",
              "       -2.28576362e-02,  3.47168408e-02,  7.84964208e-03, -6.46104664e-02,\n",
              "       -1.21739638e+00,  2.29054913e-02,  8.51394013e-02,  4.40275595e-02,\n",
              "        2.91757309e-03, -6.55485392e-02, -5.05354162e-03,  3.82915279e-03,\n",
              "        7.35450312e-02, -3.64545360e-02, -6.35948107e-02,  5.28301019e-03,\n",
              "        7.84948170e-02, -4.42107115e-03, -7.32304379e-02, -5.76623296e-03,\n",
              "       -1.02949634e-01, -1.59200169e-02, -8.16351026e-02, -5.72214462e-02,\n",
              "        6.01200294e-03, -8.60011298e-03, -2.59571839e-02,  2.80487351e-02,\n",
              "       -2.59784181e-02, -1.38753399e-01,  4.26861346e-02, -5.61407432e-02,\n",
              "        1.17325708e-01, -1.61053501e-02,  1.99677013e-02, -1.69452596e-02,\n",
              "        8.89332592e-02, -3.93449962e-02, -8.28432217e-02,  6.44456148e-02,\n",
              "       -2.72157583e-02, -4.31182270e-04,  1.45645766e-02, -4.64353114e-02,\n",
              "        5.13738627e-03, -3.34570184e-02, -7.57011697e-02, -8.42880905e-02,\n",
              "       -3.99679206e-02,  3.08371577e-02, -7.28619844e-02, -2.99941842e-02,\n",
              "        4.24870141e-02, -5.16227931e-02, -8.62680301e-02, -1.05590634e-02,\n",
              "       -1.41757905e-01,  7.40162805e-02,  3.41014192e-02,  1.10136606e-01,\n",
              "       -2.84687318e-02, -4.44577001e-02, -4.71705273e-02,  7.39451349e-02,\n",
              "       -4.22840118e-02, -1.53605556e-02, -1.03051394e-01,  3.44240963e-02,\n",
              "        1.73924446e-01,  5.63181341e-02,  5.99218570e-02,  2.33788807e-02,\n",
              "       -3.91606847e-03, -1.56658534e-02, -7.82169700e-02,  1.40537620e-02,\n",
              "       -4.48683649e-02, -1.33162200e-01,  1.39209265e-02,  1.60266355e-01,\n",
              "       -5.79308197e-02,  2.05257703e-02, -2.32236721e-02, -2.01379806e-02,\n",
              "       -2.38459427e-02, -2.07120031e-02, -4.43493240e-02,  2.58673932e-02,\n",
              "       -1.12130623e-02, -3.75760607e-02,  1.35925738e-02,  1.07591018e-01,\n",
              "        4.26232964e-02,  6.32309318e-02, -9.53470543e-02,  5.55420145e-02,\n",
              "        5.23969643e-02,  9.37188119e-02, -7.68578202e-02, -7.11374879e-02,\n",
              "       -9.05546825e-03, -3.75503190e-02, -8.91076326e-02,  7.48019964e-02,\n",
              "        2.32299808e-02,  6.68318793e-02,  2.89873350e-02,  2.24355329e-02,\n",
              "        9.71090496e-02, -9.83923674e-02, -6.93046376e-02, -1.18266605e-01,\n",
              "       -8.41866955e-02, -3.05666644e-02,  1.29740769e-02, -2.51620114e-02,\n",
              "        3.06813680e-02,  2.83917203e-03,  1.59552153e-02,  2.16316551e-01,\n",
              "        1.31830007e-01, -3.91724706e-03,  2.49936269e-03,  4.49469388e-02,\n",
              "        1.04277924e-01,  1.24393828e-01, -1.32141989e-02,  3.96994688e-02,\n",
              "        1.00771718e-01, -6.83689564e-02,  1.38046658e-02, -1.65535808e-02,\n",
              "        2.19302803e-01, -8.69029295e-03,  2.78526526e-02, -3.57562117e-02,\n",
              "       -1.26878724e-01, -1.33533642e-01, -4.60757650e-02,  1.75440107e-02,\n",
              "        1.03770988e-02,  7.74790496e-02,  3.50402854e-02,  1.58988476e-01,\n",
              "        1.33252978e-01,  9.91723090e-02, -5.04596494e-02, -3.88173424e-02,\n",
              "       -7.01405928e-02, -8.70958641e-02,  1.06124759e-01, -4.46317382e-02,\n",
              "        9.84084234e-02, -9.85765457e-02, -2.07211643e-01,  3.82616259e-02,\n",
              "        2.98309661e-02, -1.02997646e-01, -2.08045058e-02,  2.75357720e-02,\n",
              "       -2.50175176e-03, -1.35159558e-02, -3.05819809e-02,  7.10774586e-02],\n",
              "      dtype=float32)],\n",
              "       ...,\n",
              "       [array([-1.87191442e-02,  1.17450647e-01, -1.13783248e-01, -4.40460257e-02,\n",
              "        6.74611703e-02, -6.64625270e-03, -3.32137267e-03, -1.12855844e-01,\n",
              "       -6.79003133e-04,  2.10063100e+00, -7.49428496e-02,  3.62868868e-02,\n",
              "       -1.47482217e-03, -9.19467732e-02, -6.10958189e-02, -5.43380119e-02,\n",
              "       -2.78574154e-02,  8.49684060e-01, -1.19878367e-01, -7.59316459e-02,\n",
              "       -4.17914540e-02, -5.20481504e-02, -3.68796922e-02, -4.94131483e-02,\n",
              "        1.55730750e-02,  9.36775189e-03, -3.05325333e-02, -6.92625642e-02,\n",
              "       -3.29655483e-02, -7.94730708e-02, -5.57589866e-02,  8.66130516e-02,\n",
              "       -7.82629177e-02,  6.95950761e-02,  6.72042891e-02, -9.42461267e-02,\n",
              "       -2.54608504e-02,  4.53245714e-02, -5.10883182e-02, -7.52469525e-02,\n",
              "        8.14495683e-02,  9.37466845e-02, -1.40357809e-02, -7.79524446e-02,\n",
              "        9.91245136e-02,  5.75058348e-02, -1.17691323e-01, -3.03967632e-02,\n",
              "        1.03906554e-03,  3.22741941e-02,  2.88727693e-03,  4.19383571e-02,\n",
              "       -4.32346463e-02,  9.63637431e-04,  2.74835490e-02,  3.84851024e-02,\n",
              "       -1.56948138e-02, -8.44673142e-02,  1.00691075e-04, -7.21123219e-02,\n",
              "       -2.76581775e-02, -2.25589927e-02, -4.91824262e-02,  9.94787663e-02,\n",
              "        3.14818583e-02, -7.60190636e-02, -2.79406384e-02,  3.46861184e-02,\n",
              "        4.69085686e-02,  7.51317590e-02,  8.46416354e-02, -2.87508946e-02,\n",
              "        9.91078764e-02, -5.39579196e-03,  2.81550176e-02, -1.22593418e-02,\n",
              "        3.82179283e-02, -6.45872429e-02, -8.18713233e-02,  1.31107613e-01,\n",
              "        1.50802666e-02,  4.53887209e-02, -1.05688453e-01, -5.75031573e-03,\n",
              "        2.49169525e-02, -1.52326986e-01,  9.96829756e-03, -8.32996368e-02,\n",
              "        1.42897770e-01,  3.50733683e-03, -1.50824353e-01,  5.70846684e-02,\n",
              "       -8.28763768e-02,  4.95756529e-02,  1.23891719e-01, -1.97585784e-02,\n",
              "        1.59830935e-02, -7.91053660e-03, -3.65239307e-02, -3.38744447e-02,\n",
              "        1.08165303e-02, -2.32661469e-03, -7.88258910e-02, -7.02600554e-02,\n",
              "        8.24553296e-02, -8.25227916e-01,  5.89808747e-02,  2.47546826e-02,\n",
              "        1.21451942e-02, -9.19178203e-02,  3.03473938e-02, -7.14764968e-02,\n",
              "        6.28487840e-02, -6.10488728e-02, -1.23129338e-02, -2.54108906e-02,\n",
              "       -1.34163769e-02,  9.63065550e-02,  3.94308306e-02,  1.62405986e-02,\n",
              "        5.85155794e-03, -3.89136411e-02, -3.11913677e-02, -2.90500047e-03,\n",
              "        1.59446057e-02,  6.45310879e-02, -5.43946177e-02, -1.03903487e-01,\n",
              "       -1.34108495e-02, -2.42453255e-02, -5.83984554e-02, -9.74885561e-03,\n",
              "       -4.23912816e-02,  5.78726903e-02,  9.09974352e-02,  2.84259878e-02,\n",
              "       -4.91159223e-02,  1.44383330e-02, -2.43300144e-02, -5.49391806e-02,\n",
              "       -1.36916530e+00,  3.13804895e-02,  9.57388282e-02,  3.14361639e-02,\n",
              "       -6.66322233e-03, -8.25055167e-02, -3.37390490e-02, -2.09817998e-02,\n",
              "        1.02251858e-01, -2.57204566e-02, -2.40899697e-02,  2.42913570e-02,\n",
              "        9.14429948e-02,  8.54356308e-03, -3.93569916e-02, -7.55928829e-02,\n",
              "       -8.87472108e-02, -5.26960008e-02, -3.34590897e-02, -8.92452374e-02,\n",
              "       -3.82483676e-02, -2.08337326e-02, -1.64216887e-02,  2.53733825e-02,\n",
              "       -8.36744905e-03, -1.80499017e-01,  2.72425208e-02, -3.05375531e-02,\n",
              "        1.23252809e-01, -3.64465043e-02, -1.56257320e-02, -5.35751954e-02,\n",
              "        1.04493365e-01, -5.95695004e-02, -8.54538381e-02,  3.68915126e-02,\n",
              "       -3.24376151e-02, -3.01080924e-02, -3.17065008e-02, -2.98039373e-02,\n",
              "        3.97051638e-03, -5.35434969e-02, -4.26429287e-02, -2.94578020e-02,\n",
              "       -1.37317395e-02,  1.38573973e-02, -4.78532463e-02, -1.06604863e-02,\n",
              "        4.01604772e-02,  2.03532539e-03, -5.47516458e-02, -1.15607390e-02,\n",
              "       -1.11804940e-01,  7.13611618e-02, -2.39801519e-02,  7.69289955e-02,\n",
              "       -5.66853359e-02, -7.66478181e-02, -2.59742290e-02,  7.27767870e-02,\n",
              "       -4.22195382e-02, -3.52511816e-02, -1.05591379e-01,  1.34178130e-02,\n",
              "        1.06827430e-01,  6.69960678e-02,  2.45057065e-02,  1.19449636e-02,\n",
              "        5.99978724e-03,  2.96571180e-02, -7.59273320e-02,  6.71658758e-03,\n",
              "       -3.80300991e-02, -1.62943825e-01,  1.21118193e-02,  1.72917262e-01,\n",
              "       -1.54597498e-02,  3.26598100e-02, -5.15873916e-02, -3.31333876e-02,\n",
              "        2.01901235e-02,  1.95680037e-02, -5.25499620e-02,  2.04180609e-02,\n",
              "       -1.66746005e-02, -3.54755484e-02, -2.32406799e-02,  9.54586193e-02,\n",
              "        5.87302335e-02,  2.43783966e-02, -1.19667724e-01,  6.01697639e-02,\n",
              "        4.87431996e-02,  9.67814028e-02, -8.74005333e-02, -1.01248592e-01,\n",
              "       -7.40773231e-03, -4.24201004e-02, -1.01516508e-01,  6.62269443e-02,\n",
              "        3.74497250e-02,  6.88305721e-02, -1.67372990e-02,  7.54426420e-02,\n",
              "        9.34835374e-02, -1.29290923e-01, -7.30161592e-02, -1.08918071e-01,\n",
              "       -3.55002284e-02,  2.86045223e-02, -1.41660431e-02, -5.50140291e-02,\n",
              "        3.26563194e-02, -1.63137410e-02,  5.93328988e-03,  1.35180280e-01,\n",
              "        1.44907907e-01,  1.46660826e-03, -2.41471063e-02,  5.16936742e-02,\n",
              "        1.16407678e-01,  1.40529230e-01,  2.43717525e-03,  4.03585844e-02,\n",
              "        1.35459602e-01,  1.05798673e-02, -1.60401277e-02,  2.26556696e-02,\n",
              "        2.09488392e-01,  1.28851563e-03,  6.36640517e-03, -7.79545084e-02,\n",
              "       -1.21576630e-01, -1.24077581e-01, -8.26081485e-02,  3.40258405e-02,\n",
              "        2.35876208e-03,  1.80465486e-02,  2.88230311e-02,  1.90117463e-01,\n",
              "        1.93516910e-01,  1.14053540e-01, -2.85638198e-02, -6.07429855e-02,\n",
              "       -5.79833053e-02, -5.74320294e-02,  1.19198300e-01, -2.47472655e-02,\n",
              "        9.28212628e-02, -9.20814350e-02, -1.57051146e-01,  5.40636927e-02,\n",
              "        3.84994633e-02, -4.45943996e-02,  5.11420853e-02,  1.43096633e-02,\n",
              "        5.15743112e-03, -5.02163954e-02, -5.22368494e-03,  4.14948687e-02],\n",
              "      dtype=float32)],\n",
              "       [array([-1.82636585e-02,  7.87925273e-02, -5.45994714e-02, -9.00905579e-02,\n",
              "        4.69198637e-02,  1.89426495e-03, -1.01254443e-02, -8.26015137e-03,\n",
              "        4.02394310e-03,  2.02085543e+00, -1.43514052e-01, -8.40440206e-03,\n",
              "        3.78793478e-02, -3.91878188e-02, -2.75960471e-02, -5.79745062e-02,\n",
              "       -7.99519420e-02,  8.98788452e-01, -1.39680952e-01, -5.58286086e-02,\n",
              "        2.26946361e-02, -1.05282180e-01, -1.64382085e-02, -4.24581319e-02,\n",
              "        3.44228297e-02,  1.49341011e-02, -4.51502018e-02, -1.96068417e-02,\n",
              "       -5.43995611e-02,  1.71520859e-02, -2.95462962e-02,  1.68054834e-01,\n",
              "       -8.20719302e-02,  8.47515836e-02,  5.11546768e-02, -1.10031113e-01,\n",
              "        8.29463452e-03, -1.12676518e-02, -5.67380153e-02, -3.94904055e-02,\n",
              "        4.71302606e-02,  4.91932370e-02,  4.02823696e-03, -4.75199334e-02,\n",
              "        9.71470252e-02, -8.03656597e-03, -6.38656989e-02, -3.93249746e-03,\n",
              "       -2.12261714e-02,  3.28233466e-02, -3.29280971e-03,  2.92579737e-02,\n",
              "       -4.07316573e-02, -1.19577479e-02,  2.83658132e-02,  4.79384959e-02,\n",
              "       -2.90864687e-02, -6.97664171e-02, -2.29346883e-02, -7.07040951e-02,\n",
              "       -5.97792342e-02, -2.57965531e-02, -2.78390497e-02,  1.11695528e-01,\n",
              "        3.38071100e-02, -1.91483926e-02, -4.31038849e-02,  1.97798461e-02,\n",
              "        2.76937755e-03,  1.56903546e-02,  3.22002247e-02,  1.12588219e-02,\n",
              "        8.30411538e-02, -1.79153457e-02,  1.12477347e-01, -4.50645201e-02,\n",
              "       -2.00347397e-02, -4.19369191e-02, -2.58450937e-02,  1.61940262e-01,\n",
              "        4.51656105e-03,  6.14186674e-02, -8.77937153e-02,  1.47317173e-02,\n",
              "        4.66525778e-02, -1.54525414e-01, -6.09495640e-02, -1.41840205e-01,\n",
              "        6.66965023e-02, -2.76880041e-02, -1.79053634e-01, -1.89950466e-02,\n",
              "       -6.81686699e-02,  6.01924816e-03,  1.35762200e-01, -3.05550522e-03,\n",
              "        1.80711001e-02, -6.94923922e-02,  3.72042018e-03, -3.19288895e-02,\n",
              "        2.38475706e-02, -1.59210968e-03, -4.37209830e-02, -3.86006460e-02,\n",
              "        9.67288166e-02, -9.27287340e-01,  4.58568782e-02,  6.62107766e-02,\n",
              "        1.73624102e-02, -8.55203122e-02, -1.93951011e-03, -4.30608131e-02,\n",
              "        2.98915487e-02, -7.32748061e-02,  1.30637139e-02,  8.00337642e-03,\n",
              "       -3.30208894e-03,  5.76934181e-02, -5.97920492e-02, -5.93859470e-03,\n",
              "        4.32706028e-02, -2.64712758e-02, -1.04740977e-01,  3.71518806e-02,\n",
              "        1.97437145e-02,  3.02828625e-02, -9.65658948e-03, -8.35410953e-02,\n",
              "       -4.38339124e-03, -2.86124870e-02, -4.55987528e-02,  8.86493549e-03,\n",
              "       -3.42100896e-02, -1.92337949e-02,  4.80935723e-02,  4.73268032e-02,\n",
              "       -1.21282656e-02, -6.69875648e-03, -3.56248929e-03, -8.65250304e-02,\n",
              "       -1.13227367e+00,  6.23921677e-03,  6.21825159e-02,  2.53192820e-02,\n",
              "        4.93768463e-03, -2.47689616e-02,  2.59678029e-02, -7.47228554e-03,\n",
              "        6.59075603e-02, -1.32964458e-02, -3.93998921e-02, -2.43170988e-02,\n",
              "        4.34914157e-02, -7.39557145e-04, -1.40307052e-02, -4.10733037e-02,\n",
              "       -1.21626705e-01, -5.90641936e-03, -6.01463392e-02, -5.07304911e-03,\n",
              "        2.10959353e-02, -6.55753724e-03, -5.35850599e-02,  7.19751120e-02,\n",
              "       -3.30268927e-02, -2.01293364e-01,  2.37587336e-02, -6.22877292e-02,\n",
              "        1.19028419e-01,  7.76784122e-03,  2.12354157e-02, -2.65091062e-02,\n",
              "        1.11144796e-01, -3.97646576e-02,  2.20377813e-04,  7.51424506e-02,\n",
              "       -1.95522159e-02,  2.95068193e-02,  2.56586373e-02, -2.75128055e-02,\n",
              "       -4.96939383e-03, -2.54799966e-02, -7.26260617e-02, -7.79703036e-02,\n",
              "       -5.67867607e-02,  5.15798256e-02, -5.77526689e-02, -1.55430678e-02,\n",
              "        2.48857141e-02, -2.51533631e-02, -4.12379988e-02,  1.89795177e-02,\n",
              "       -9.65857804e-02,  4.88897040e-02, -1.71636622e-02,  8.87305439e-02,\n",
              "        8.85778200e-03, -8.52992386e-02, -1.53829046e-02,  5.51573448e-02,\n",
              "        4.09395201e-03,  7.30897905e-03, -7.01009408e-02,  4.62796614e-02,\n",
              "        9.31795463e-02,  3.74358892e-02,  2.78604981e-02, -1.43216103e-02,\n",
              "       -5.27823763e-03,  4.94612716e-02, -3.11886221e-02,  5.11255525e-02,\n",
              "       -2.58881077e-02, -1.68853000e-01, -7.26454984e-03,  1.24063887e-01,\n",
              "       -3.68782058e-02,  3.93590033e-02, -4.35310490e-02, -1.38321677e-02,\n",
              "        2.10100017e-03,  2.00272221e-02, -2.87054747e-04,  1.01698479e-02,\n",
              "       -5.72708622e-03, -3.58531475e-02, -1.94029938e-02,  9.98717472e-02,\n",
              "        6.71482384e-02,  1.99973751e-02, -1.28889650e-01,  2.81691756e-02,\n",
              "        7.30166119e-03,  6.62082508e-02, -1.08152851e-01, -7.61479363e-02,\n",
              "       -4.38282965e-03, -4.72517917e-03, -7.29605034e-02,  8.04856271e-02,\n",
              "        4.31049243e-02,  4.39669266e-02,  2.78317519e-02,  2.91912314e-02,\n",
              "        1.09605171e-01, -9.41592082e-02, -5.40597085e-03, -7.99926072e-02,\n",
              "       -8.22206289e-02, -6.95531443e-02,  5.00449650e-02,  1.79020874e-02,\n",
              "        4.33860570e-02, -3.08439489e-02,  3.41805210e-03,  1.31768912e-01,\n",
              "        1.26315534e-01,  4.30180132e-02,  2.33616251e-02, -2.31764466e-02,\n",
              "        9.97356772e-02,  1.05635546e-01, -3.34510952e-02,  9.09164175e-02,\n",
              "        8.04433078e-02, -7.90661797e-02,  4.57664616e-02,  2.85416655e-02,\n",
              "        2.34697029e-01,  1.95587054e-02,  7.07810093e-03, -3.47169302e-02,\n",
              "       -5.67881875e-02, -8.07049423e-02, -8.26520938e-03,  1.44885564e-02,\n",
              "        4.16164212e-02,  5.48605025e-02,  5.61373215e-03,  1.39120296e-01,\n",
              "        1.14629693e-01,  1.03832975e-01, -4.83313352e-02, -2.56864391e-02,\n",
              "       -1.98809113e-02, -6.89663589e-02,  7.93811679e-02, -2.78196614e-02,\n",
              "        1.08953431e-01, -1.20560624e-01, -1.78407088e-01,  5.40737398e-02,\n",
              "       -1.57138482e-02, -9.28939581e-02,  2.34880503e-02,  9.49596986e-03,\n",
              "        2.07784567e-02, -2.84883156e-02, -2.18405258e-02,  5.94731197e-02],\n",
              "      dtype=float32)],\n",
              "       [array([ 5.22616610e-04,  1.16793938e-01, -1.43589854e-01, -5.18546812e-02,\n",
              "        6.45318404e-02,  1.32173514e-02, -1.63947809e-02, -1.39659837e-01,\n",
              "        1.15888836e-02,  2.19410491e+00, -7.82276168e-02,  4.96160910e-02,\n",
              "        8.23285580e-02, -7.01114312e-02, -9.86360013e-02, -6.53987974e-02,\n",
              "       -4.52520251e-02,  8.74805689e-01, -1.99177951e-01, -5.81559204e-02,\n",
              "       -3.35887633e-02, -8.81877914e-02, -4.69033606e-03, -3.01622041e-02,\n",
              "        1.81619879e-02,  3.68103385e-02, -6.87860101e-02, -9.82237533e-02,\n",
              "       -3.05629820e-02, -8.07048678e-02, -7.48977736e-02,  9.39966738e-02,\n",
              "       -5.92763051e-02,  8.17824528e-02,  4.06417474e-02, -9.35196504e-02,\n",
              "       -1.09159704e-02,  1.44987460e-02, -1.03635564e-01, -9.49916616e-02,\n",
              "        3.76856066e-02,  6.44123778e-02,  4.89131408e-03, -5.76759614e-02,\n",
              "        9.90389064e-02,  7.53154010e-02, -1.42828628e-01, -3.54159400e-02,\n",
              "       -7.25320214e-03, -5.23363764e-04, -2.73552686e-02,  1.48393074e-02,\n",
              "       -3.28583606e-02, -3.69864982e-03,  3.74468714e-02,  1.53559260e-02,\n",
              "       -3.61041166e-02, -1.43613756e-01,  2.02820059e-02, -7.48638362e-02,\n",
              "       -8.56915768e-03, -5.87203391e-02, -2.46311538e-02,  1.67704985e-01,\n",
              "        5.10946922e-02, -9.35239047e-02, -2.19876058e-02,  2.88965963e-02,\n",
              "        5.16208224e-02,  6.19706251e-02,  1.21032633e-01,  1.52571416e-02,\n",
              "        1.33318350e-01,  1.37149042e-03,  6.65688738e-02,  8.99447221e-03,\n",
              "        5.43236062e-02, -8.59478042e-02, -4.81203161e-02,  1.82807595e-01,\n",
              "        1.79753359e-02,  3.98535021e-02, -1.21499643e-01, -2.14715619e-02,\n",
              "        5.16214743e-02, -1.42316476e-01,  1.99348256e-02, -1.58807397e-01,\n",
              "        1.52836204e-01, -4.96458635e-03, -1.45088434e-01,  9.93015151e-03,\n",
              "       -9.41275433e-02,  4.95150052e-02,  1.34542689e-01, -2.96753738e-02,\n",
              "        6.03205971e-02, -3.03131137e-02, -3.49142477e-02, -1.97488419e-03,\n",
              "       -2.18919814e-02,  2.30589639e-02, -6.12464063e-02, -8.65345970e-02,\n",
              "        8.81111100e-02, -8.18772018e-01,  5.43705374e-02, -1.45102395e-02,\n",
              "       -2.37224717e-02, -7.88175538e-02,  1.53537607e-02, -1.22151628e-01,\n",
              "        7.13201538e-02, -5.75945638e-02,  1.49865774e-02, -1.80452280e-02,\n",
              "        9.02132504e-03,  1.01498470e-01,  3.49762937e-04,  2.81261466e-02,\n",
              "        2.29410380e-02, -7.06125200e-02, -2.28003561e-02, -1.25681236e-02,\n",
              "        2.61849537e-02,  7.70661905e-02, -9.07360017e-02, -1.55114308e-01,\n",
              "       -3.87782380e-02, -1.75322965e-02, -2.09398251e-02,  2.24764682e-02,\n",
              "       -4.59698252e-02,  4.26361002e-02,  1.10662363e-01,  2.20517423e-02,\n",
              "       -1.42433578e-02,  3.58961959e-04,  4.12707776e-03, -4.41570021e-02,\n",
              "       -1.49747479e+00,  4.47629355e-02,  1.15244158e-01,  2.87721194e-02,\n",
              "        9.02651157e-03, -9.12923813e-02, -1.01034589e-01, -2.65936852e-02,\n",
              "        9.00661349e-02, -4.02500741e-02, -3.45622897e-02,  2.82836687e-02,\n",
              "        7.00678229e-02, -1.79801404e-03, -8.03238973e-02, -7.28164688e-02,\n",
              "       -9.96321961e-02, -1.53385941e-02, -3.46877202e-02, -9.57524851e-02,\n",
              "       -2.84193885e-02, -2.64302418e-02, -2.76211295e-02, -2.30974741e-02,\n",
              "       -7.08510801e-02, -1.58325866e-01,  1.35904271e-02, -3.47720757e-02,\n",
              "        1.45556301e-01, -3.64937373e-02,  2.49508373e-03, -6.90672994e-02,\n",
              "        6.12935908e-02, -7.48999789e-02, -5.98472022e-02,  1.22831184e-02,\n",
              "       -1.62910353e-02,  3.74529301e-03, -2.41065584e-02, -5.91076314e-02,\n",
              "        3.26061132e-03, -4.71474938e-02, -1.00339778e-01, -3.11507285e-02,\n",
              "       -3.50626074e-02, -1.94540042e-02, -7.59041831e-02,  5.09367732e-04,\n",
              "        4.07668762e-02,  4.41138931e-02, -2.31390763e-02,  2.61641014e-03,\n",
              "       -1.26364276e-01,  7.41516650e-02,  2.19653267e-03,  4.00311351e-02,\n",
              "       -3.12109143e-02, -7.73191154e-02, -4.05121520e-02,  8.47708657e-02,\n",
              "       -2.11913288e-02, -3.75322066e-02, -9.90642011e-02,  8.95945262e-03,\n",
              "        1.34708390e-01,  9.79009271e-02,  3.80117446e-02, -1.65587068e-02,\n",
              "        5.50073087e-02,  2.53689494e-02, -5.89333102e-02, -1.72328670e-02,\n",
              "       -5.73835522e-03, -1.92284405e-01,  1.95878036e-02,  1.61166355e-01,\n",
              "        2.01266981e-03,  6.13163738e-03, -9.10953581e-02, -4.04358208e-02,\n",
              "        1.47090973e-02,  3.26365558e-03, -4.64968905e-02,  4.27706689e-02,\n",
              "       -3.72865732e-04, -1.26270419e-02,  1.07019092e-03,  1.09103277e-01,\n",
              "        4.70805764e-02,  2.41364390e-02, -1.37048289e-01,  5.46805076e-02,\n",
              "        7.31150061e-02,  1.10922977e-01, -5.62949777e-02, -9.96005982e-02,\n",
              "        1.95575804e-02, -4.23364528e-02, -9.25561637e-02,  9.64296535e-02,\n",
              "        4.14771177e-02,  5.84326535e-02,  1.24377906e-02,  9.67422500e-02,\n",
              "        1.06953032e-01, -1.45384744e-01, -6.69780150e-02, -5.23871705e-02,\n",
              "       -8.48203525e-02,  1.01087324e-01,  2.86298189e-02, -7.46968240e-02,\n",
              "        8.91490560e-03, -2.68637575e-02,  1.96087509e-02,  1.56856224e-01,\n",
              "        1.35748282e-01,  2.09252331e-02, -2.05734372e-02,  2.47692484e-02,\n",
              "        1.84280321e-01,  1.29912153e-01, -1.19461147e-02,  5.67069910e-02,\n",
              "        1.20179623e-01,  2.05641671e-04,  1.42650609e-03,  4.97776903e-02,\n",
              "        2.41723269e-01,  2.80961115e-02,  8.67463276e-02, -5.93329705e-02,\n",
              "       -1.17256142e-01, -1.65176377e-01, -7.94932693e-02,  5.70899732e-02,\n",
              "        1.35915652e-02,  1.40793603e-02,  2.83136442e-02,  2.21808434e-01,\n",
              "        1.42707169e-01,  9.47009921e-02, -1.87444743e-02, -5.78504018e-02,\n",
              "       -1.17699057e-02, -5.59801273e-02,  8.62697661e-02, -6.06448911e-02,\n",
              "        9.24086049e-02, -7.78240114e-02, -1.68145552e-01,  4.05758098e-02,\n",
              "        1.59330331e-02, -4.50900830e-02,  6.11976124e-02,  2.80623958e-02,\n",
              "       -5.75364493e-02, -6.13199919e-02,  3.47785763e-02,  6.05839826e-02],\n",
              "      dtype=float32)]], dtype=object)"
            ]
          },
          "metadata": {
            "tags": []
          },
          "execution_count": 32
        }
      ]
    },
    {
      "cell_type": "code",
      "metadata": {
        "id": "Y-F0Ih0x7-zb"
      },
      "source": [
        "# array of array, hence concatenate\n",
        "X = np.concatenate(np.concatenate(X, axis=0), axis=0).reshape(-1,300)"
      ],
      "execution_count": 33,
      "outputs": []
    },
    {
      "cell_type": "code",
      "metadata": {
        "colab": {
          "base_uri": "https://localhost:8080/"
        },
        "id": "PauRZGLd8NpD",
        "outputId": "1cb6b41e-9172-4ad8-e2b1-d9ecf33d9511"
      },
      "source": [
        "X.shape"
      ],
      "execution_count": 34,
      "outputs": [
        {
          "output_type": "execute_result",
          "data": {
            "text/plain": [
              "(2000, 300)"
            ]
          },
          "metadata": {
            "tags": []
          },
          "execution_count": 34
        }
      ]
    },
    {
      "cell_type": "code",
      "metadata": {
        "id": "YG0wZzKC8OXT"
      },
      "source": [
        "y = data['label']"
      ],
      "execution_count": 35,
      "outputs": []
    },
    {
      "cell_type": "code",
      "metadata": {
        "id": "bcI_33_O8bm0"
      },
      "source": [
        "x_train, x_test, y_train, y_test = train_test_split(X, y, test_size=0.2, random_state=0, stratify=y)"
      ],
      "execution_count": 37,
      "outputs": []
    },
    {
      "cell_type": "code",
      "metadata": {
        "colab": {
          "base_uri": "https://localhost:8080/"
        },
        "id": "NFwZ4VRU8kSc",
        "outputId": "199d9393-f04a-4982-ccc7-e8d9ba7b5962"
      },
      "source": [
        "x_train.shape, x_test.shape, y_train.shape, y_test.shape"
      ],
      "execution_count": 38,
      "outputs": [
        {
          "output_type": "execute_result",
          "data": {
            "text/plain": [
              "((1600, 300), (400, 300), (1600,), (400,))"
            ]
          },
          "metadata": {
            "tags": []
          },
          "execution_count": 38
        }
      ]
    },
    {
      "cell_type": "code",
      "metadata": {
        "id": "5LCswPAy8vb8"
      },
      "source": [
        "clf = LogisticRegression(solver='liblinear')"
      ],
      "execution_count": 39,
      "outputs": []
    },
    {
      "cell_type": "code",
      "metadata": {
        "colab": {
          "base_uri": "https://localhost:8080/"
        },
        "id": "hNbDomFe8-ts",
        "outputId": "0a44a49c-6cc4-46be-ae29-cbbad78a932e"
      },
      "source": [
        "clf.fit(x_train, y_train)"
      ],
      "execution_count": 40,
      "outputs": [
        {
          "output_type": "execute_result",
          "data": {
            "text/plain": [
              "LogisticRegression(C=1.0, class_weight=None, dual=False, fit_intercept=True,\n",
              "                   intercept_scaling=1, l1_ratio=None, max_iter=100,\n",
              "                   multi_class='auto', n_jobs=None, penalty='l2',\n",
              "                   random_state=None, solver='liblinear', tol=0.0001, verbose=0,\n",
              "                   warm_start=False)"
            ]
          },
          "metadata": {
            "tags": []
          },
          "execution_count": 40
        }
      ]
    },
    {
      "cell_type": "code",
      "metadata": {
        "id": "NN6zXyPe9DIc"
      },
      "source": [
        "y_pred = clf.predict(x_test)"
      ],
      "execution_count": 41,
      "outputs": []
    },
    {
      "cell_type": "code",
      "metadata": {
        "colab": {
          "base_uri": "https://localhost:8080/"
        },
        "id": "UX5YPaW_9HYm",
        "outputId": "e6f948af-5342-4e30-f93c-96806f8a2c01"
      },
      "source": [
        "print(classification_report(y_test, y_pred))"
      ],
      "execution_count": 42,
      "outputs": [
        {
          "output_type": "stream",
          "text": [
            "              precision    recall  f1-score   support\n",
            "\n",
            "         neg       0.75      0.80      0.77       200\n",
            "         pos       0.78      0.73      0.76       200\n",
            "\n",
            "    accuracy                           0.77       400\n",
            "   macro avg       0.77      0.77      0.76       400\n",
            "weighted avg       0.77      0.77      0.76       400\n",
            "\n"
          ],
          "name": "stdout"
        }
      ]
    },
    {
      "cell_type": "code",
      "metadata": {
        "id": "q4GcaAl39NF-"
      },
      "source": [
        "pickle.dump(clf, open('w2v_sentiment.pkl', 'wb'))"
      ],
      "execution_count": 44,
      "outputs": []
    },
    {
      "cell_type": "code",
      "metadata": {
        "id": "K-oH0J9Y9xGX"
      },
      "source": [
        "model = pickle.load(open('/content/w2v_sentiment.pkl', 'rb'))"
      ],
      "execution_count": 46,
      "outputs": []
    },
    {
      "cell_type": "code",
      "metadata": {
        "colab": {
          "base_uri": "https://localhost:8080/"
        },
        "id": "UyOEe1X_9xNF",
        "outputId": "7ac9878f-7e4c-4420-f2c3-fa956d03ae64"
      },
      "source": [
        "x = 'this was really a &%good movie'\n",
        "x = get_clean(x)\n",
        "vec = get_vec(x)\n",
        "vec"
      ],
      "execution_count": 47,
      "outputs": [
        {
          "output_type": "execute_result",
          "data": {
            "text/plain": [
              "array([-8.64375010e-02,  2.03543141e-01, -8.56069997e-02, -2.35399976e-02,\n",
              "        8.52973387e-02,  7.79276714e-02,  4.33751643e-02, -4.62763309e-01,\n",
              "        5.36908358e-02,  2.42433333e+00, -1.84253335e-01,  9.41810012e-02,\n",
              "        1.41268149e-01, -2.44086725e-03, -2.29101658e-01, -1.84795424e-01,\n",
              "       -7.31567061e-03,  9.96933281e-01, -2.31155679e-01, -1.04433426e-03,\n",
              "       -3.83930020e-02, -3.24846715e-01,  1.39068335e-01,  1.87539998e-02,\n",
              "       -2.02641636e-02,  1.74961329e-01, -4.77533676e-02, -1.87537983e-01,\n",
              "       -6.40466586e-02, -1.47629842e-01, -3.23046669e-02,  6.44022226e-03,\n",
              "        5.18165082e-02, -7.04866648e-03,  4.70666820e-03, -1.06669605e-01,\n",
              "        1.37790412e-01, -7.70291612e-02, -2.75780529e-01, -2.46405005e-01,\n",
              "        1.54971495e-01,  2.05878317e-01,  8.84184241e-02, -1.61607996e-01,\n",
              "        2.18816683e-01,  1.47549495e-01, -2.23486677e-01, -3.81355025e-02,\n",
              "       -1.27872840e-01, -6.67368248e-02, -6.70833513e-02,  2.01637492e-01,\n",
              "        1.27364829e-01,  1.73231736e-02,  1.45943344e-01,  1.25048995e-01,\n",
              "        8.69876519e-03, -1.62833825e-01,  1.43776327e-01, -2.45414808e-01,\n",
              "       -1.21427059e-01, -1.00401260e-01,  4.90386598e-02,  3.02924693e-01,\n",
              "        1.47299662e-01, -3.01096469e-01, -1.85883846e-02, -9.97316930e-03,\n",
              "       -2.82753352e-02,  5.07861674e-02,  2.74433821e-01,  5.77050038e-02,\n",
              "        2.41923314e-02, -8.49158242e-02,  1.45203665e-01, -4.67056669e-02,\n",
              "       -3.11431680e-02, -1.82321612e-02, -2.20925018e-01,  4.94529992e-01,\n",
              "        4.79806662e-02, -4.47966643e-02,  9.91353318e-02,  6.72826692e-02,\n",
              "        1.37663841e-01, -1.67379990e-01, -1.46377444e-01, -2.97675163e-01,\n",
              "        2.04934999e-01, -1.76189840e-01, -2.03146160e-01,  1.62983000e-01,\n",
              "       -3.19584042e-01,  1.11876838e-01,  3.14390004e-01,  2.15133373e-02,\n",
              "        7.32811689e-02, -1.36994824e-01,  2.33003348e-02,  1.68804243e-01,\n",
              "       -1.38266847e-01,  9.78643373e-02, -2.24740326e-01, -1.50668502e-01,\n",
              "        9.54793319e-02, -5.54834962e-01,  8.29439983e-02, -6.42755032e-02,\n",
              "       -8.63776579e-02, -2.40216658e-01,  8.24933350e-02, -2.82548275e-02,\n",
              "        3.28068323e-02, -3.09528336e-02,  1.86366960e-03,  5.62534966e-02,\n",
              "       -2.93190982e-02,  2.17946663e-01,  8.17701668e-02, -2.05283314e-02,\n",
              "        4.18337993e-02, -5.31461649e-02, -1.32343337e-01, -4.12333347e-02,\n",
              "       -9.51378569e-02,  2.29710817e-01, -1.80140495e-01, -3.49755019e-01,\n",
              "       -7.85659105e-02,  2.82663330e-02, -1.95866637e-02, -8.85204002e-02,\n",
              "        1.36221750e-02,  1.01918317e-01,  1.07170433e-01, -1.51643157e-03,\n",
              "       -1.77122235e-01, -4.63279970e-02,  2.10483968e-02, -1.36088997e-01,\n",
              "       -2.11496663e+00,  1.02371663e-01,  3.25939983e-01,  9.53145921e-02,\n",
              "       -5.65836616e-02, -3.45819980e-01, -2.35061884e-01, -1.38415158e-01,\n",
              "        2.93416679e-01, -4.43681665e-02, -1.61481157e-01,  2.93662157e-02,\n",
              "        9.74180102e-02, -9.91238356e-02, -5.99909909e-02, -9.58226621e-03,\n",
              "       -1.83604494e-01, -6.83826655e-02, -1.32354982e-02, -1.33618325e-01,\n",
              "       -4.71511632e-02, -8.16276670e-02,  8.78644958e-02, -3.90585028e-02,\n",
              "       -1.51927128e-01, -2.47285008e-01,  2.40200013e-03,  1.92904714e-02,\n",
              "        2.42259994e-01, -1.16208829e-01,  1.75125655e-02, -1.21960670e-01,\n",
              "        1.64997160e-01, -6.89048320e-02, -9.21512619e-02, -6.33350015e-02,\n",
              "       -5.82936704e-02,  2.26961654e-02, -1.73674952e-02, -5.68866692e-02,\n",
              "       -7.93908313e-02, -1.59234390e-01, -2.43046507e-01, -8.31123516e-02,\n",
              "       -2.77379993e-02, -1.62509590e-01, -2.43795678e-01,  1.51666000e-01,\n",
              "       -8.86325072e-03, -2.35280003e-02, -1.57888830e-01,  2.59411689e-02,\n",
              "       -2.81030744e-01,  1.78347006e-01,  5.59099950e-02, -7.79116675e-02,\n",
              "        5.91042638e-02, -1.27363339e-01,  6.11974932e-02,  1.72971636e-02,\n",
              "        8.45609009e-02, -2.46545076e-02, -2.44851843e-01,  2.02020090e-02,\n",
              "        1.45031676e-01,  1.99660346e-01,  6.18200004e-03,  5.01556508e-02,\n",
              "        1.84974357e-01,  1.54526666e-01, -1.15051247e-01,  4.95601147e-02,\n",
              "        7.58608058e-02, -4.25938815e-01,  1.16408365e-02,  2.92953342e-01,\n",
              "        8.59499946e-02, -2.40893345e-02, -4.80361693e-02, -1.18257999e-01,\n",
              "       -9.31920037e-02, -3.79138328e-02, -4.59355004e-02,  2.12201700e-01,\n",
              "        1.10947333e-01, -1.13882340e-01, -1.08302176e-01,  1.94290996e-01,\n",
              "        6.78575039e-02, -9.38566681e-03, -1.52779326e-01,  1.86238661e-01,\n",
              "       -5.15716337e-02,  6.80558309e-02, -9.32301879e-02, -1.26399085e-01,\n",
              "        5.61340787e-02, -1.00032665e-01, -1.36697665e-01,  2.01078489e-01,\n",
              "        1.26676671e-02, -3.12788002e-02,  1.11013502e-01,  1.38308495e-01,\n",
              "        2.42689133e-01, -1.06386505e-01, -2.75015887e-02, -1.16491668e-01,\n",
              "        1.11695006e-02,  7.38046691e-02,  8.36443305e-02, -8.58063176e-02,\n",
              "        7.00068250e-02, -4.99611646e-02, -5.60004972e-02,  6.13483302e-02,\n",
              "        3.37798983e-01, -7.76100010e-02, -9.72101763e-02, -1.49800384e-03,\n",
              "        2.56984979e-01,  1.79620668e-01,  1.13511674e-01,  4.76701669e-02,\n",
              "        1.25538215e-01, -8.31075013e-02,  1.09268665e-01,  2.02260777e-01,\n",
              "        3.10730010e-01,  1.71412513e-01, -9.79265571e-03, -3.38973594e-03,\n",
              "       -2.04214334e-01, -3.46160024e-01, -2.47695670e-01,  5.73890023e-02,\n",
              "       -2.47921646e-02, -2.00013340e-01,  6.71421662e-02,  4.91950184e-01,\n",
              "        1.95070848e-01,  7.66213313e-02, -3.68806683e-02, -1.05079830e-01,\n",
              "       -1.13120722e-02, -1.53632963e-03,  1.72885001e-01, -1.34739339e-01,\n",
              "        1.31291822e-01, -1.81126669e-01, -1.64069489e-01,  6.43118992e-02,\n",
              "        4.81758676e-02, -1.41683721e-03,  2.90912509e-01,  6.55416539e-03,\n",
              "       -1.13119669e-01, -1.59235001e-01, -5.78080006e-02,  2.03732133e-01],\n",
              "      dtype=float32)"
            ]
          },
          "metadata": {
            "tags": []
          },
          "execution_count": 47
        }
      ]
    },
    {
      "cell_type": "code",
      "metadata": {
        "colab": {
          "base_uri": "https://localhost:8080/"
        },
        "id": "FNTgWIOV9xRz",
        "outputId": "9c5dbf86-c518-4bd4-b87e-fa5229214365"
      },
      "source": [
        "model.predict(vec.reshape(1,-1))"
      ],
      "execution_count": 50,
      "outputs": [
        {
          "output_type": "execute_result",
          "data": {
            "text/plain": [
              "array(['pos'], dtype=object)"
            ]
          },
          "metadata": {
            "tags": []
          },
          "execution_count": 50
        }
      ]
    },
    {
      "cell_type": "code",
      "metadata": {
        "id": "zuGIE8og9xWg"
      },
      "source": [
        ""
      ],
      "execution_count": null,
      "outputs": []
    },
    {
      "cell_type": "code",
      "metadata": {
        "id": "iT6_HPU49xcA"
      },
      "source": [
        ""
      ],
      "execution_count": null,
      "outputs": []
    }
  ]
}