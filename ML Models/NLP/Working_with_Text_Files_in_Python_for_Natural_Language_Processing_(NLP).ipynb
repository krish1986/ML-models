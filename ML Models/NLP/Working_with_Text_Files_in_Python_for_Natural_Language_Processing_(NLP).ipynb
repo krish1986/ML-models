{
  "nbformat": 4,
  "nbformat_minor": 0,
  "metadata": {
    "colab": {
      "name": "Working with Text Files in Python for Natural Language Processing (NLP).ipynb",
      "provenance": [],
      "collapsed_sections": []
    },
    "kernelspec": {
      "name": "python3",
      "display_name": "Python 3"
    },
    "language_info": {
      "name": "python"
    }
  },
  "cells": [
    {
      "cell_type": "code",
      "metadata": {
        "id": "tyPliIoQDjKL"
      },
      "source": [
        "name = 'Krish is'"
      ],
      "execution_count": 1,
      "outputs": []
    },
    {
      "cell_type": "code",
      "metadata": {
        "colab": {
          "base_uri": "https://localhost:8080/"
        },
        "id": "NEW_ozdJHhkP",
        "outputId": "05d44d9c-b20f-49b0-a19b-399d803118b2"
      },
      "source": [
        "print('The name is {}'. format(name))"
      ],
      "execution_count": 2,
      "outputs": [
        {
          "output_type": "stream",
          "text": [
            "The name is Krish is\n"
          ],
          "name": "stdout"
        }
      ]
    },
    {
      "cell_type": "code",
      "metadata": {
        "colab": {
          "base_uri": "https://localhost:8080/"
        },
        "id": "is4_NrwuHnW8",
        "outputId": "61bd4833-6670-4e4f-ff7e-148e9e60ba08"
      },
      "source": [
        "print(f'The name is {name}')"
      ],
      "execution_count": 3,
      "outputs": [
        {
          "output_type": "stream",
          "text": [
            "The name is Krish is\n"
          ],
          "name": "stdout"
        }
      ]
    },
    {
      "cell_type": "markdown",
      "metadata": {
        "id": "WqNU1FjMH1vC"
      },
      "source": [
        "**minimum width and alignment between the columns**"
      ]
    },
    {
      "cell_type": "code",
      "metadata": {
        "id": "eSsnhPePHxa-"
      },
      "source": [
        "data_science_tuts = [('Python for beginners', 19),\n",
        "                     ('Feature selection for Machine Learning', 11),\n",
        "                     ('Machine Learning Tutorials', 11),\n",
        "                     ('Deep learning tutorials', 19)]"
      ],
      "execution_count": 4,
      "outputs": []
    },
    {
      "cell_type": "code",
      "metadata": {
        "colab": {
          "base_uri": "https://localhost:8080/"
        },
        "id": "1ELIo7_VIhnj",
        "outputId": "4fd63fff-5043-43dd-9a2b-9f4c4d06e5df"
      },
      "source": [
        "data_science_tuts"
      ],
      "execution_count": 5,
      "outputs": [
        {
          "output_type": "execute_result",
          "data": {
            "text/plain": [
              "[('Python for beginners', 19),\n",
              " ('Feature selection for Machine Learning', 11),\n",
              " ('Machine Learning Tutorials', 11),\n",
              " ('Deep learning tutorials', 19)]"
            ]
          },
          "metadata": {
            "tags": []
          },
          "execution_count": 5
        }
      ]
    },
    {
      "cell_type": "code",
      "metadata": {
        "colab": {
          "base_uri": "https://localhost:8080/"
        },
        "id": "4xtOUClFIjEq",
        "outputId": "2b23ec84-83da-40f7-cfe9-e0eb94d6d213"
      },
      "source": [
        "for info in data_science_tuts:\n",
        "  print(info)"
      ],
      "execution_count": 6,
      "outputs": [
        {
          "output_type": "stream",
          "text": [
            "('Python for beginners', 19)\n",
            "('Feature selection for Machine Learning', 11)\n",
            "('Machine Learning Tutorials', 11)\n",
            "('Deep learning tutorials', 19)\n"
          ],
          "name": "stdout"
        }
      ]
    },
    {
      "cell_type": "code",
      "metadata": {
        "colab": {
          "base_uri": "https://localhost:8080/"
        },
        "id": "ESSF6oaWItuN",
        "outputId": "2bf86421-4642-43f0-adf0-e5f7a4eb487f"
      },
      "source": [
        "for info in data_science_tuts:\n",
        "  print(f'{info[0]:{50}} {info[1]:{10}}')"
      ],
      "execution_count": 10,
      "outputs": [
        {
          "output_type": "stream",
          "text": [
            "Python for beginners                                       19\n",
            "Feature selection for Machine Learning                     11\n",
            "Machine Learning Tutorials                                 11\n",
            "Deep learning tutorials                                    19\n"
          ],
          "name": "stdout"
        }
      ]
    },
    {
      "cell_type": "code",
      "metadata": {
        "colab": {
          "base_uri": "https://localhost:8080/"
        },
        "id": "jgaawmWTJDsd",
        "outputId": "c1d031e5-9e59-4d80-a18e-a1a1cedb261a"
      },
      "source": [
        "#<, >, ^\n",
        "for info in data_science_tuts:\n",
        "  print(f'{info[0]:>{50}} {info[1]:{10}}')"
      ],
      "execution_count": 11,
      "outputs": [
        {
          "output_type": "stream",
          "text": [
            "                              Python for beginners         19\n",
            "            Feature selection for Machine Learning         11\n",
            "                        Machine Learning Tutorials         11\n",
            "                           Deep learning tutorials         19\n"
          ],
          "name": "stdout"
        }
      ]
    },
    {
      "cell_type": "code",
      "metadata": {
        "colab": {
          "base_uri": "https://localhost:8080/"
        },
        "id": "l5kf2mAJJ078",
        "outputId": "1842574d-3ba9-4938-cfd5-ba22294c1d64"
      },
      "source": [
        "#<, >, ^\n",
        "for info in data_science_tuts:\n",
        "  print(f'{info[0]:^{50}} {info[1]:{10}}')"
      ],
      "execution_count": 12,
      "outputs": [
        {
          "output_type": "stream",
          "text": [
            "               Python for beginners                        19\n",
            "      Feature selection for Machine Learning               11\n",
            "            Machine Learning Tutorials                     11\n",
            "             Deep learning tutorials                       19\n"
          ],
          "name": "stdout"
        }
      ]
    },
    {
      "cell_type": "code",
      "metadata": {
        "colab": {
          "base_uri": "https://localhost:8080/"
        },
        "id": "RhUmjP1VJ4zj",
        "outputId": "3eee36be-d133-42e9-f667-65a88c79f072"
      },
      "source": [
        "#<, >, ^\n",
        "for info in data_science_tuts:\n",
        "  print(f'{info[0]:<{50}} {info[1]:{10}}')"
      ],
      "execution_count": 13,
      "outputs": [
        {
          "output_type": "stream",
          "text": [
            "Python for beginners                                       19\n",
            "Feature selection for Machine Learning                     11\n",
            "Machine Learning Tutorials                                 11\n",
            "Deep learning tutorials                                    19\n"
          ],
          "name": "stdout"
        }
      ]
    },
    {
      "cell_type": "code",
      "metadata": {
        "colab": {
          "base_uri": "https://localhost:8080/"
        },
        "id": "OUOQvvLwJ7NC",
        "outputId": "7c598373-41df-4e0f-ade8-26102998b8b7"
      },
      "source": [
        "#<, >, ^\n",
        "for info in data_science_tuts:\n",
        "  print(f'{info[0]:<{50}} {info[1]:.>{10}}')"
      ],
      "execution_count": 14,
      "outputs": [
        {
          "output_type": "stream",
          "text": [
            "Python for beginners                               ........19\n",
            "Feature selection for Machine Learning             ........11\n",
            "Machine Learning Tutorials                         ........11\n",
            "Deep learning tutorials                            ........19\n"
          ],
          "name": "stdout"
        }
      ]
    },
    {
      "cell_type": "code",
      "metadata": {
        "id": "6xH6eZ_9J_Qz"
      },
      "source": [
        "#built in magic command %%writefile"
      ],
      "execution_count": 15,
      "outputs": []
    },
    {
      "cell_type": "code",
      "metadata": {
        "colab": {
          "base_uri": "https://localhost:8080/"
        },
        "id": "cWScdAeGKfEg",
        "outputId": "292b042c-9b9a-4f0e-8dab-abe4f8d3f6d9"
      },
      "source": [
        "%%writefile text1.txt\n",
        "Hello, this is the NLP lesson.\n",
        "Please like and subscribe to show your support "
      ],
      "execution_count": 17,
      "outputs": [
        {
          "output_type": "stream",
          "text": [
            "Overwriting text1.txt\n"
          ],
          "name": "stdout"
        }
      ]
    },
    {
      "cell_type": "code",
      "metadata": {
        "colab": {
          "base_uri": "https://localhost:8080/"
        },
        "id": "5WRnR3IdK5z-",
        "outputId": "48169397-7ddb-4c07-edb2-587d69372faf"
      },
      "source": [
        "#append the file\n",
        "%%writefile -a text1.txt\n",
        "Thanks for watching"
      ],
      "execution_count": 18,
      "outputs": [
        {
          "output_type": "stream",
          "text": [
            "Appending to text1.txt\n"
          ],
          "name": "stdout"
        }
      ]
    },
    {
      "cell_type": "markdown",
      "metadata": {
        "id": "C4Oh8SScLlq-"
      },
      "source": [
        "**Python  inbuilt command to read and write text file**"
      ]
    },
    {
      "cell_type": "code",
      "metadata": {
        "id": "JKa1ifudLe7i"
      },
      "source": [
        "file = open('text1.txt', 'r')"
      ],
      "execution_count": 19,
      "outputs": []
    },
    {
      "cell_type": "code",
      "metadata": {
        "colab": {
          "base_uri": "https://localhost:8080/"
        },
        "id": "8gQkXPWHLiNM",
        "outputId": "ec5be164-aca0-4e00-8234-4007b902e52f"
      },
      "source": [
        "file"
      ],
      "execution_count": 20,
      "outputs": [
        {
          "output_type": "execute_result",
          "data": {
            "text/plain": [
              "<_io.TextIOWrapper name='text1.txt' mode='r' encoding='UTF-8'>"
            ]
          },
          "metadata": {
            "tags": []
          },
          "execution_count": 20
        }
      ]
    },
    {
      "cell_type": "code",
      "metadata": {
        "colab": {
          "base_uri": "https://localhost:8080/",
          "height": 35
        },
        "id": "7tiMuNWYLiQb",
        "outputId": "040e8e4a-88dc-457c-e370-f7f47332d01d"
      },
      "source": [
        "file.read()"
      ],
      "execution_count": 21,
      "outputs": [
        {
          "output_type": "execute_result",
          "data": {
            "application/vnd.google.colaboratory.intrinsic+json": {
              "type": "string"
            },
            "text/plain": [
              "'Hello, this is the NLP lesson.\\nPlease like and subscribe to show your support Thanks for watching'"
            ]
          },
          "metadata": {
            "tags": []
          },
          "execution_count": 21
        }
      ]
    },
    {
      "cell_type": "code",
      "metadata": {
        "colab": {
          "base_uri": "https://localhost:8080/"
        },
        "id": "61062RlWLiS-",
        "outputId": "84ebbbe5-1486-4e7d-88d3-ef5606b3bf2f"
      },
      "source": [
        "file.seek(0)"
      ],
      "execution_count": 22,
      "outputs": [
        {
          "output_type": "execute_result",
          "data": {
            "text/plain": [
              "0"
            ]
          },
          "metadata": {
            "tags": []
          },
          "execution_count": 22
        }
      ]
    },
    {
      "cell_type": "code",
      "metadata": {
        "colab": {
          "base_uri": "https://localhost:8080/",
          "height": 35
        },
        "id": "X1YSxJ0jLiYM",
        "outputId": "16328ad5-943a-4f4f-c4a4-9f5499e27e3d"
      },
      "source": [
        "file.read()"
      ],
      "execution_count": 23,
      "outputs": [
        {
          "output_type": "execute_result",
          "data": {
            "application/vnd.google.colaboratory.intrinsic+json": {
              "type": "string"
            },
            "text/plain": [
              "'Hello, this is the NLP lesson.\\nPlease like and subscribe to show your support Thanks for watching'"
            ]
          },
          "metadata": {
            "tags": []
          },
          "execution_count": 23
        }
      ]
    },
    {
      "cell_type": "code",
      "metadata": {
        "colab": {
          "base_uri": "https://localhost:8080/"
        },
        "id": "F1u5kNA5Liar",
        "outputId": "f54f7567-a20a-495a-9704-abfb3f8efa60"
      },
      "source": [
        "file.seek(0)"
      ],
      "execution_count": 24,
      "outputs": [
        {
          "output_type": "execute_result",
          "data": {
            "text/plain": [
              "0"
            ]
          },
          "metadata": {
            "tags": []
          },
          "execution_count": 24
        }
      ]
    },
    {
      "cell_type": "code",
      "metadata": {
        "colab": {
          "base_uri": "https://localhost:8080/",
          "height": 35
        },
        "id": "aLzP8qzTLidP",
        "outputId": "7a2cbb0a-755a-46ad-c6bb-f4d701f7715b"
      },
      "source": [
        "file.readline()"
      ],
      "execution_count": 25,
      "outputs": [
        {
          "output_type": "execute_result",
          "data": {
            "application/vnd.google.colaboratory.intrinsic+json": {
              "type": "string"
            },
            "text/plain": [
              "'Hello, this is the NLP lesson.\\n'"
            ]
          },
          "metadata": {
            "tags": []
          },
          "execution_count": 25
        }
      ]
    },
    {
      "cell_type": "code",
      "metadata": {
        "colab": {
          "base_uri": "https://localhost:8080/"
        },
        "id": "Q2KUTkUMLif2",
        "outputId": "ac932e05-e08d-4c49-89cd-817ff9c21f6d"
      },
      "source": [
        "file.seek(0)"
      ],
      "execution_count": 26,
      "outputs": [
        {
          "output_type": "execute_result",
          "data": {
            "text/plain": [
              "0"
            ]
          },
          "metadata": {
            "tags": []
          },
          "execution_count": 26
        }
      ]
    },
    {
      "cell_type": "code",
      "metadata": {
        "colab": {
          "base_uri": "https://localhost:8080/"
        },
        "id": "OO_dTJmRO9QB",
        "outputId": "c515015e-8677-4217-b402-7b003ef2a1a7"
      },
      "source": [
        "file.readlines()"
      ],
      "execution_count": 27,
      "outputs": [
        {
          "output_type": "execute_result",
          "data": {
            "text/plain": [
              "['Hello, this is the NLP lesson.\\n',\n",
              " 'Please like and subscribe to show your support Thanks for watching']"
            ]
          },
          "metadata": {
            "tags": []
          },
          "execution_count": 27
        }
      ]
    },
    {
      "cell_type": "code",
      "metadata": {
        "id": "Tx5CxpSoO9S7"
      },
      "source": [
        "file.close()"
      ],
      "execution_count": 28,
      "outputs": []
    },
    {
      "cell_type": "code",
      "metadata": {
        "colab": {
          "base_uri": "https://localhost:8080/"
        },
        "id": "i-Hv3JaIO9XV",
        "outputId": "1ee08f53-5944-45e2-9658-ced2dcd6499f"
      },
      "source": [
        "file"
      ],
      "execution_count": 29,
      "outputs": [
        {
          "output_type": "execute_result",
          "data": {
            "text/plain": [
              "<_io.TextIOWrapper name='text1.txt' mode='r' encoding='UTF-8'>"
            ]
          },
          "metadata": {
            "tags": []
          },
          "execution_count": 29
        }
      ]
    },
    {
      "cell_type": "code",
      "metadata": {
        "colab": {
          "base_uri": "https://localhost:8080/"
        },
        "id": "Jc12NH2MO9aQ",
        "outputId": "c210119e-a87e-4b9a-9e36-83c5d0428f8d"
      },
      "source": [
        "with open ('text1.txt') as file:\n",
        "  text_data = file.readlines()\n",
        "  print(text_data)"
      ],
      "execution_count": 30,
      "outputs": [
        {
          "output_type": "stream",
          "text": [
            "['Hello, this is the NLP lesson.\\n', 'Please like and subscribe to show your support Thanks for watching']\n"
          ],
          "name": "stdout"
        }
      ]
    },
    {
      "cell_type": "code",
      "metadata": {
        "colab": {
          "base_uri": "https://localhost:8080/"
        },
        "id": "j-jwIanxO9cu",
        "outputId": "2801a4c0-94ab-4b5f-fd51-f01f05300c2f"
      },
      "source": [
        "for temp in text_data:\n",
        "  print(temp)"
      ],
      "execution_count": 31,
      "outputs": [
        {
          "output_type": "stream",
          "text": [
            "Hello, this is the NLP lesson.\n",
            "\n",
            "Please like and subscribe to show your support Thanks for watching\n"
          ],
          "name": "stdout"
        }
      ]
    },
    {
      "cell_type": "code",
      "metadata": {
        "colab": {
          "base_uri": "https://localhost:8080/"
        },
        "id": "zLu4yBYwO9fI",
        "outputId": "615e5330-c197-4029-e982-4214cbe240ec"
      },
      "source": [
        "for temp in text_data:\n",
        "  print(temp.strip())"
      ],
      "execution_count": 32,
      "outputs": [
        {
          "output_type": "stream",
          "text": [
            "Hello, this is the NLP lesson.\n",
            "Please like and subscribe to show your support Thanks for watching\n"
          ],
          "name": "stdout"
        }
      ]
    },
    {
      "cell_type": "code",
      "metadata": {
        "colab": {
          "base_uri": "https://localhost:8080/"
        },
        "id": "Jcd-DPlTO9h-",
        "outputId": "8daaf1fc-45cc-4594-d11e-48ee67b9dc67"
      },
      "source": [
        "for i , temp in enumerate(text_data):\n",
        "  print(str(i) + ' ---> ' + temp.strip())"
      ],
      "execution_count": 34,
      "outputs": [
        {
          "output_type": "stream",
          "text": [
            "0 ---> Hello, this is the NLP lesson.\n",
            "1 ---> Please like and subscribe to show your support Thanks for watching\n"
          ],
          "name": "stdout"
        }
      ]
    },
    {
      "cell_type": "markdown",
      "metadata": {
        "id": "JZQgWcofQAxX"
      },
      "source": [
        "**File writing**"
      ]
    },
    {
      "cell_type": "code",
      "metadata": {
        "id": "5_plb9WpLiig"
      },
      "source": [
        "file = open('text2.txt', 'w')"
      ],
      "execution_count": 35,
      "outputs": []
    },
    {
      "cell_type": "code",
      "metadata": {
        "colab": {
          "base_uri": "https://localhost:8080/"
        },
        "id": "Wj6t2dh5QKRA",
        "outputId": "beed1147-0b86-43ca-8feb-54d93ff1dde7"
      },
      "source": [
        "file"
      ],
      "execution_count": 36,
      "outputs": [
        {
          "output_type": "execute_result",
          "data": {
            "text/plain": [
              "<_io.TextIOWrapper name='text2.txt' mode='w' encoding='UTF-8'>"
            ]
          },
          "metadata": {
            "tags": []
          },
          "execution_count": 36
        }
      ]
    },
    {
      "cell_type": "code",
      "metadata": {
        "colab": {
          "base_uri": "https://localhost:8080/"
        },
        "id": "La0Qxuy-QLYo",
        "outputId": "5bb023c8-9faa-43c1-f532-deeae55bfdaa"
      },
      "source": [
        "file.write('This is just another lesson')"
      ],
      "execution_count": 37,
      "outputs": [
        {
          "output_type": "execute_result",
          "data": {
            "text/plain": [
              "27"
            ]
          },
          "metadata": {
            "tags": []
          },
          "execution_count": 37
        }
      ]
    },
    {
      "cell_type": "code",
      "metadata": {
        "id": "m1O2VytbQQEq"
      },
      "source": [
        "file.close()"
      ],
      "execution_count": 38,
      "outputs": []
    },
    {
      "cell_type": "code",
      "metadata": {
        "id": "RS0MNcBcQZei"
      },
      "source": [
        "with open('text3.txt', 'w') as file:\n",
        "  file.write('This is third file\\n')"
      ],
      "execution_count": 41,
      "outputs": []
    },
    {
      "cell_type": "code",
      "metadata": {
        "id": "2Stj8o0eQogh"
      },
      "source": [
        "with open('text3.txt', 'a') as file:\n",
        "  for temp in text_data:\n",
        "    file.write(temp)"
      ],
      "execution_count": 42,
      "outputs": []
    },
    {
      "cell_type": "code",
      "metadata": {
        "id": "p34TGoucQ6fz"
      },
      "source": [
        ""
      ],
      "execution_count": null,
      "outputs": []
    }
  ]
}