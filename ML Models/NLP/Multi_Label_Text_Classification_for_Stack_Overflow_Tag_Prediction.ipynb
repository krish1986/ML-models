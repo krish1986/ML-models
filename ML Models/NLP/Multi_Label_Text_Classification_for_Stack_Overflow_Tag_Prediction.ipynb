{
  "nbformat": 4,
  "nbformat_minor": 0,
  "metadata": {
    "colab": {
      "name": "Multi-Label Text Classification for Stack Overflow Tag Prediction.ipynb",
      "provenance": [],
      "collapsed_sections": []
    },
    "kernelspec": {
      "name": "python3",
      "display_name": "Python 3"
    },
    "language_info": {
      "name": "python"
    }
  },
  "cells": [
    {
      "cell_type": "code",
      "metadata": {
        "id": "9YziGnFbUjx_"
      },
      "source": [
        "import pandas as pd\n",
        "import numpy as np\n",
        "import ast\n",
        "from sklearn.feature_extraction.text import TfidfVectorizer\n",
        "from sklearn.preprocessing import MultiLabelBinarizer\n",
        "from sklearn.model_selection import train_test_split\n",
        "\n",
        "from sklearn.linear_model import SGDClassifier\n",
        "from sklearn.linear_model import LogisticRegression\n",
        "from sklearn.svm import LinearSVC\n",
        "\n",
        "from sklearn.multiclass import OneVsRestClassifier"
      ],
      "execution_count": 7,
      "outputs": []
    },
    {
      "cell_type": "code",
      "metadata": {
        "id": "-ZbiPCUcVvfN"
      },
      "source": [
        "df = pd.read_csv('https://raw.githubusercontent.com/laxmimerit/All-CSV-ML-Data-Files-Download/master/stackoverflow.csv', index_col=0)"
      ],
      "execution_count": 2,
      "outputs": []
    },
    {
      "cell_type": "code",
      "metadata": {
        "colab": {
          "base_uri": "https://localhost:8080/",
          "height": 204
        },
        "id": "jrmLkz_bVy4y",
        "outputId": "34184e7a-0aa7-430e-9ffb-e6fc5b117fdc"
      },
      "source": [
        "df.head()"
      ],
      "execution_count": 3,
      "outputs": [
        {
          "output_type": "execute_result",
          "data": {
            "text/html": [
              "<div>\n",
              "<style scoped>\n",
              "    .dataframe tbody tr th:only-of-type {\n",
              "        vertical-align: middle;\n",
              "    }\n",
              "\n",
              "    .dataframe tbody tr th {\n",
              "        vertical-align: top;\n",
              "    }\n",
              "\n",
              "    .dataframe thead th {\n",
              "        text-align: right;\n",
              "    }\n",
              "</style>\n",
              "<table border=\"1\" class=\"dataframe\">\n",
              "  <thead>\n",
              "    <tr style=\"text-align: right;\">\n",
              "      <th></th>\n",
              "      <th>Text</th>\n",
              "      <th>Tags</th>\n",
              "    </tr>\n",
              "  </thead>\n",
              "  <tbody>\n",
              "    <tr>\n",
              "      <th>2</th>\n",
              "      <td>aspnet site maps has anyone got experience cre...</td>\n",
              "      <td>['sql', 'asp.net']</td>\n",
              "    </tr>\n",
              "    <tr>\n",
              "      <th>4</th>\n",
              "      <td>adding scripting functionality to net applicat...</td>\n",
              "      <td>['c#', '.net']</td>\n",
              "    </tr>\n",
              "    <tr>\n",
              "      <th>5</th>\n",
              "      <td>should i use nested classes in this case i am ...</td>\n",
              "      <td>['c++']</td>\n",
              "    </tr>\n",
              "    <tr>\n",
              "      <th>6</th>\n",
              "      <td>homegrown consumption of web services i have b...</td>\n",
              "      <td>['.net']</td>\n",
              "    </tr>\n",
              "    <tr>\n",
              "      <th>8</th>\n",
              "      <td>automatically update version number i would li...</td>\n",
              "      <td>['c#']</td>\n",
              "    </tr>\n",
              "  </tbody>\n",
              "</table>\n",
              "</div>"
            ],
            "text/plain": [
              "                                                Text                Tags\n",
              "2  aspnet site maps has anyone got experience cre...  ['sql', 'asp.net']\n",
              "4  adding scripting functionality to net applicat...      ['c#', '.net']\n",
              "5  should i use nested classes in this case i am ...             ['c++']\n",
              "6  homegrown consumption of web services i have b...            ['.net']\n",
              "8  automatically update version number i would li...              ['c#']"
            ]
          },
          "metadata": {
            "tags": []
          },
          "execution_count": 3
        }
      ]
    },
    {
      "cell_type": "code",
      "metadata": {
        "colab": {
          "base_uri": "https://localhost:8080/",
          "height": 35
        },
        "id": "ZnMiRK7LV1xi",
        "outputId": "0b14d761-377e-48eb-9d4b-e4682e0ce80c"
      },
      "source": [
        "df['Tags'].iloc[0]"
      ],
      "execution_count": 5,
      "outputs": [
        {
          "output_type": "execute_result",
          "data": {
            "application/vnd.google.colaboratory.intrinsic+json": {
              "type": "string"
            },
            "text/plain": [
              "\"['sql', 'asp.net']\""
            ]
          },
          "metadata": {
            "tags": []
          },
          "execution_count": 5
        }
      ]
    },
    {
      "cell_type": "code",
      "metadata": {
        "colab": {
          "base_uri": "https://localhost:8080/"
        },
        "id": "9gCGOIybwehE",
        "outputId": "22a59ab8-e516-479d-aa05-ca6cbf5ed17b"
      },
      "source": [
        "type(df['Tags'].iloc[0])"
      ],
      "execution_count": 6,
      "outputs": [
        {
          "output_type": "execute_result",
          "data": {
            "text/plain": [
              "str"
            ]
          },
          "metadata": {
            "tags": []
          },
          "execution_count": 6
        }
      ]
    },
    {
      "cell_type": "markdown",
      "metadata": {
        "id": "BqXWUQo_wyBh"
      },
      "source": [
        "The ast module helps Python applications to process trees of the Python abstract syntax grammar. This module helps to find out programmatically what the current grammar looks like.\n",
        "\n",
        "ast.literal_eval Safely evaluate an expression node or a string containing a Python literal. The string or node provided may only consist of the following Python literal structures: strings, bytes, numbers, tuples, lists, dicts, sets, booleans, None, bytes and sets.\n",
        "\n",
        "Here we need only string literals in Tags which acts as labels for the Target variable."
      ]
    },
    {
      "cell_type": "code",
      "metadata": {
        "colab": {
          "base_uri": "https://localhost:8080/"
        },
        "id": "4k2yFC5hwicS",
        "outputId": "c747de77-9968-4739-f597-f88ad6b641cc"
      },
      "source": [
        "ast.literal_eval(df['Tags'].iloc[0])"
      ],
      "execution_count": 8,
      "outputs": [
        {
          "output_type": "execute_result",
          "data": {
            "text/plain": [
              "['sql', 'asp.net']"
            ]
          },
          "metadata": {
            "tags": []
          },
          "execution_count": 8
        }
      ]
    },
    {
      "cell_type": "code",
      "metadata": {
        "colab": {
          "base_uri": "https://localhost:8080/",
          "height": 204
        },
        "id": "ObzcIUJYw3hB",
        "outputId": "51dbfc3d-1baf-4ccc-fbf2-d891446d9cdc"
      },
      "source": [
        "df['Tags'] = df['Tags'].apply(lambda x : ast.literal_eval(x))\n",
        "df.head()"
      ],
      "execution_count": 9,
      "outputs": [
        {
          "output_type": "execute_result",
          "data": {
            "text/html": [
              "<div>\n",
              "<style scoped>\n",
              "    .dataframe tbody tr th:only-of-type {\n",
              "        vertical-align: middle;\n",
              "    }\n",
              "\n",
              "    .dataframe tbody tr th {\n",
              "        vertical-align: top;\n",
              "    }\n",
              "\n",
              "    .dataframe thead th {\n",
              "        text-align: right;\n",
              "    }\n",
              "</style>\n",
              "<table border=\"1\" class=\"dataframe\">\n",
              "  <thead>\n",
              "    <tr style=\"text-align: right;\">\n",
              "      <th></th>\n",
              "      <th>Text</th>\n",
              "      <th>Tags</th>\n",
              "    </tr>\n",
              "  </thead>\n",
              "  <tbody>\n",
              "    <tr>\n",
              "      <th>2</th>\n",
              "      <td>aspnet site maps has anyone got experience cre...</td>\n",
              "      <td>[sql, asp.net]</td>\n",
              "    </tr>\n",
              "    <tr>\n",
              "      <th>4</th>\n",
              "      <td>adding scripting functionality to net applicat...</td>\n",
              "      <td>[c#, .net]</td>\n",
              "    </tr>\n",
              "    <tr>\n",
              "      <th>5</th>\n",
              "      <td>should i use nested classes in this case i am ...</td>\n",
              "      <td>[c++]</td>\n",
              "    </tr>\n",
              "    <tr>\n",
              "      <th>6</th>\n",
              "      <td>homegrown consumption of web services i have b...</td>\n",
              "      <td>[.net]</td>\n",
              "    </tr>\n",
              "    <tr>\n",
              "      <th>8</th>\n",
              "      <td>automatically update version number i would li...</td>\n",
              "      <td>[c#]</td>\n",
              "    </tr>\n",
              "  </tbody>\n",
              "</table>\n",
              "</div>"
            ],
            "text/plain": [
              "                                                Text            Tags\n",
              "2  aspnet site maps has anyone got experience cre...  [sql, asp.net]\n",
              "4  adding scripting functionality to net applicat...      [c#, .net]\n",
              "5  should i use nested classes in this case i am ...           [c++]\n",
              "6  homegrown consumption of web services i have b...          [.net]\n",
              "8  automatically update version number i would li...            [c#]"
            ]
          },
          "metadata": {
            "tags": []
          },
          "execution_count": 9
        }
      ]
    },
    {
      "cell_type": "markdown",
      "metadata": {
        "id": "txbEF5ZaxUJp"
      },
      "source": [
        "Encoding Categorical features\n",
        "A categorical variable is a variable whose values take on the value of labels. Almost all ML algorithms require data in numerical form. The encoding methods are necessary for the machine to interpret the Qualitative data(categorical data or labelled data) into numerical representation and learn the model from it.\n",
        "\n",
        "Below are the most commonly used categorical variables/features using Scikit learn and pandas libraries.\n",
        "\n",
        "1. LabelEncoder:\n",
        "LabelEncoderis used to transform non-numerical labels to numerical labels. It encodes labels with a value between 0 and n_classes-1, where n is no. of distinct labels. Mostly Binary Columns are encoded using Label Encoder. It may be a perfect encoding method for categorical data as it has an order for example YES/NO,Male/Female etc. LabelEncoder can also be used to normalize labels.\n",
        "\n",
        "For Multiclass it will give different (0 to n_classes-1) values for different classes eg. 0,1,2,3,….,n-1; which are actually categorical in nature and don’t have any intrinsic order. If LabelEncoder is used for multiclass columns the model will misinterpret the encoded data to be in some kind of order, (0<1<2).\n",
        "\n",
        "2. OneHotEncoder:\n",
        "One hot encoding is a process by which categorical variables are converted into a form that could be provided to ML algorithms to do a better job in prediction. One Hot Encoder can handle input string categorical and numeric data as well. It takes a column which has categorical data,splits the column into multiple columns based on labels or classes. The labels are replaced by 1s and 0s, depending on which column has what value. Consider a example that feature having 3 class labels: There are three columns, but logically thinking if you know one if one class is present (1) then automatically the other 2 classes are absent (0). Hence the two columns will be highly correlated which is not desired. This is called the variable-trap. In order to solve this, you can use the drop parameter in the OneHotEncoder. This way variable trap is eliminated.\n",
        "\n",
        "image.png\n",
        "3. get_dummies:\n",
        "Pandas get_dummies method takes the categorical feature as an argument. Then it creates a Dummy Variable for every label in the feature, such that each dummy variable holds data as 1 or 0. 1 indicates the presence of a particular label and 0 indicates the absence of a particular label. Pandas get_dummies method is a very straight forward one-step procedure to get the dummy variables for categorical features.\n",
        "\n",
        "The prefixsep(“”) is used to write column name [ “ColumnName”+ “” + “Class_Name” ] and drop_first = True is used to avoid variable trap, which is also called multicollinearity.\n",
        "\n",
        "4. MultiLabel Binarize:\n",
        "Multilabelbinarizer allows you to encode multiple labels per instance. It is used when any column has multiple labels. The input to this transformer should be an array-like of integers or strings,denoting the values taken on by categorical (discrete) features."
      ]
    },
    {
      "cell_type": "markdown",
      "metadata": {
        "id": "dCHaAeIxxjCR"
      },
      "source": [
        "![Encoding.png](data:image/png;base64,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)"
      ]
    },
    {
      "cell_type": "code",
      "metadata": {
        "colab": {
          "base_uri": "https://localhost:8080/"
        },
        "id": "l5TGSBubxKUK",
        "outputId": "ef06ea9b-abff-49e7-9e75-9f243f5f5cc1"
      },
      "source": [
        "y = df['Tags']\n",
        "y"
      ],
      "execution_count": 10,
      "outputs": [
        {
          "output_type": "execute_result",
          "data": {
            "text/plain": [
              "2          [sql, asp.net]\n",
              "4              [c#, .net]\n",
              "5                   [c++]\n",
              "6                  [.net]\n",
              "8                    [c#]\n",
              "                ...      \n",
              "1262668             [c++]\n",
              "1262834             [c++]\n",
              "1262915          [python]\n",
              "1263065          [python]\n",
              "1263454             [c++]\n",
              "Name: Tags, Length: 48976, dtype: object"
            ]
          },
          "metadata": {
            "tags": []
          },
          "execution_count": 10
        }
      ]
    },
    {
      "cell_type": "code",
      "metadata": {
        "id": "GvUqyWFlzKuM"
      },
      "source": [
        "multilabel = MultiLabelBinarizer()\n",
        "y = multilabel.fit_transform(df['Tags'])"
      ],
      "execution_count": 11,
      "outputs": []
    },
    {
      "cell_type": "code",
      "metadata": {
        "colab": {
          "base_uri": "https://localhost:8080/"
        },
        "id": "2b-GWSrczOVK",
        "outputId": "29341250-c9d9-4668-d24c-129b3c10684c"
      },
      "source": [
        "y"
      ],
      "execution_count": 12,
      "outputs": [
        {
          "output_type": "execute_result",
          "data": {
            "text/plain": [
              "array([[0, 0, 1, ..., 0, 0, 1],\n",
              "       [1, 0, 0, ..., 0, 0, 0],\n",
              "       [0, 0, 0, ..., 0, 0, 0],\n",
              "       ...,\n",
              "       [0, 0, 0, ..., 0, 0, 0],\n",
              "       [0, 0, 0, ..., 0, 0, 0],\n",
              "       [0, 0, 0, ..., 0, 0, 0]])"
            ]
          },
          "metadata": {
            "tags": []
          },
          "execution_count": 12
        }
      ]
    },
    {
      "cell_type": "code",
      "metadata": {
        "colab": {
          "base_uri": "https://localhost:8080/"
        },
        "id": "4KZhTyemzOYC",
        "outputId": "7fd9b494-5d6c-4965-e559-cf12198a5dda"
      },
      "source": [
        "multilabel.classes_"
      ],
      "execution_count": 13,
      "outputs": [
        {
          "output_type": "execute_result",
          "data": {
            "text/plain": [
              "array(['.net', 'android', 'asp.net', 'c', 'c#', 'c++', 'css', 'html',\n",
              "       'ios', 'iphone', 'java', 'javascript', 'jquery', 'mysql',\n",
              "       'objective-c', 'php', 'python', 'ruby', 'ruby-on-rails', 'sql'],\n",
              "      dtype=object)"
            ]
          },
          "metadata": {
            "tags": []
          },
          "execution_count": 13
        }
      ]
    },
    {
      "cell_type": "code",
      "metadata": {
        "colab": {
          "base_uri": "https://localhost:8080/",
          "height": 419
        },
        "id": "7bIR7u_ezOaf",
        "outputId": "acc8166c-00e1-4d57-c986-0e52149fe434"
      },
      "source": [
        "pd.DataFrame(y, columns= multilabel.classes_)"
      ],
      "execution_count": 15,
      "outputs": [
        {
          "output_type": "execute_result",
          "data": {
            "text/html": [
              "<div>\n",
              "<style scoped>\n",
              "    .dataframe tbody tr th:only-of-type {\n",
              "        vertical-align: middle;\n",
              "    }\n",
              "\n",
              "    .dataframe tbody tr th {\n",
              "        vertical-align: top;\n",
              "    }\n",
              "\n",
              "    .dataframe thead th {\n",
              "        text-align: right;\n",
              "    }\n",
              "</style>\n",
              "<table border=\"1\" class=\"dataframe\">\n",
              "  <thead>\n",
              "    <tr style=\"text-align: right;\">\n",
              "      <th></th>\n",
              "      <th>.net</th>\n",
              "      <th>android</th>\n",
              "      <th>asp.net</th>\n",
              "      <th>c</th>\n",
              "      <th>c#</th>\n",
              "      <th>c++</th>\n",
              "      <th>css</th>\n",
              "      <th>html</th>\n",
              "      <th>ios</th>\n",
              "      <th>iphone</th>\n",
              "      <th>java</th>\n",
              "      <th>javascript</th>\n",
              "      <th>jquery</th>\n",
              "      <th>mysql</th>\n",
              "      <th>objective-c</th>\n",
              "      <th>php</th>\n",
              "      <th>python</th>\n",
              "      <th>ruby</th>\n",
              "      <th>ruby-on-rails</th>\n",
              "      <th>sql</th>\n",
              "    </tr>\n",
              "  </thead>\n",
              "  <tbody>\n",
              "    <tr>\n",
              "      <th>0</th>\n",
              "      <td>0</td>\n",
              "      <td>0</td>\n",
              "      <td>1</td>\n",
              "      <td>0</td>\n",
              "      <td>0</td>\n",
              "      <td>0</td>\n",
              "      <td>0</td>\n",
              "      <td>0</td>\n",
              "      <td>0</td>\n",
              "      <td>0</td>\n",
              "      <td>0</td>\n",
              "      <td>0</td>\n",
              "      <td>0</td>\n",
              "      <td>0</td>\n",
              "      <td>0</td>\n",
              "      <td>0</td>\n",
              "      <td>0</td>\n",
              "      <td>0</td>\n",
              "      <td>0</td>\n",
              "      <td>1</td>\n",
              "    </tr>\n",
              "    <tr>\n",
              "      <th>1</th>\n",
              "      <td>1</td>\n",
              "      <td>0</td>\n",
              "      <td>0</td>\n",
              "      <td>0</td>\n",
              "      <td>1</td>\n",
              "      <td>0</td>\n",
              "      <td>0</td>\n",
              "      <td>0</td>\n",
              "      <td>0</td>\n",
              "      <td>0</td>\n",
              "      <td>0</td>\n",
              "      <td>0</td>\n",
              "      <td>0</td>\n",
              "      <td>0</td>\n",
              "      <td>0</td>\n",
              "      <td>0</td>\n",
              "      <td>0</td>\n",
              "      <td>0</td>\n",
              "      <td>0</td>\n",
              "      <td>0</td>\n",
              "    </tr>\n",
              "    <tr>\n",
              "      <th>2</th>\n",
              "      <td>0</td>\n",
              "      <td>0</td>\n",
              "      <td>0</td>\n",
              "      <td>0</td>\n",
              "      <td>0</td>\n",
              "      <td>1</td>\n",
              "      <td>0</td>\n",
              "      <td>0</td>\n",
              "      <td>0</td>\n",
              "      <td>0</td>\n",
              "      <td>0</td>\n",
              "      <td>0</td>\n",
              "      <td>0</td>\n",
              "      <td>0</td>\n",
              "      <td>0</td>\n",
              "      <td>0</td>\n",
              "      <td>0</td>\n",
              "      <td>0</td>\n",
              "      <td>0</td>\n",
              "      <td>0</td>\n",
              "    </tr>\n",
              "    <tr>\n",
              "      <th>3</th>\n",
              "      <td>1</td>\n",
              "      <td>0</td>\n",
              "      <td>0</td>\n",
              "      <td>0</td>\n",
              "      <td>0</td>\n",
              "      <td>0</td>\n",
              "      <td>0</td>\n",
              "      <td>0</td>\n",
              "      <td>0</td>\n",
              "      <td>0</td>\n",
              "      <td>0</td>\n",
              "      <td>0</td>\n",
              "      <td>0</td>\n",
              "      <td>0</td>\n",
              "      <td>0</td>\n",
              "      <td>0</td>\n",
              "      <td>0</td>\n",
              "      <td>0</td>\n",
              "      <td>0</td>\n",
              "      <td>0</td>\n",
              "    </tr>\n",
              "    <tr>\n",
              "      <th>4</th>\n",
              "      <td>0</td>\n",
              "      <td>0</td>\n",
              "      <td>0</td>\n",
              "      <td>0</td>\n",
              "      <td>1</td>\n",
              "      <td>0</td>\n",
              "      <td>0</td>\n",
              "      <td>0</td>\n",
              "      <td>0</td>\n",
              "      <td>0</td>\n",
              "      <td>0</td>\n",
              "      <td>0</td>\n",
              "      <td>0</td>\n",
              "      <td>0</td>\n",
              "      <td>0</td>\n",
              "      <td>0</td>\n",
              "      <td>0</td>\n",
              "      <td>0</td>\n",
              "      <td>0</td>\n",
              "      <td>0</td>\n",
              "    </tr>\n",
              "    <tr>\n",
              "      <th>...</th>\n",
              "      <td>...</td>\n",
              "      <td>...</td>\n",
              "      <td>...</td>\n",
              "      <td>...</td>\n",
              "      <td>...</td>\n",
              "      <td>...</td>\n",
              "      <td>...</td>\n",
              "      <td>...</td>\n",
              "      <td>...</td>\n",
              "      <td>...</td>\n",
              "      <td>...</td>\n",
              "      <td>...</td>\n",
              "      <td>...</td>\n",
              "      <td>...</td>\n",
              "      <td>...</td>\n",
              "      <td>...</td>\n",
              "      <td>...</td>\n",
              "      <td>...</td>\n",
              "      <td>...</td>\n",
              "      <td>...</td>\n",
              "    </tr>\n",
              "    <tr>\n",
              "      <th>48971</th>\n",
              "      <td>0</td>\n",
              "      <td>0</td>\n",
              "      <td>0</td>\n",
              "      <td>0</td>\n",
              "      <td>0</td>\n",
              "      <td>1</td>\n",
              "      <td>0</td>\n",
              "      <td>0</td>\n",
              "      <td>0</td>\n",
              "      <td>0</td>\n",
              "      <td>0</td>\n",
              "      <td>0</td>\n",
              "      <td>0</td>\n",
              "      <td>0</td>\n",
              "      <td>0</td>\n",
              "      <td>0</td>\n",
              "      <td>0</td>\n",
              "      <td>0</td>\n",
              "      <td>0</td>\n",
              "      <td>0</td>\n",
              "    </tr>\n",
              "    <tr>\n",
              "      <th>48972</th>\n",
              "      <td>0</td>\n",
              "      <td>0</td>\n",
              "      <td>0</td>\n",
              "      <td>0</td>\n",
              "      <td>0</td>\n",
              "      <td>1</td>\n",
              "      <td>0</td>\n",
              "      <td>0</td>\n",
              "      <td>0</td>\n",
              "      <td>0</td>\n",
              "      <td>0</td>\n",
              "      <td>0</td>\n",
              "      <td>0</td>\n",
              "      <td>0</td>\n",
              "      <td>0</td>\n",
              "      <td>0</td>\n",
              "      <td>0</td>\n",
              "      <td>0</td>\n",
              "      <td>0</td>\n",
              "      <td>0</td>\n",
              "    </tr>\n",
              "    <tr>\n",
              "      <th>48973</th>\n",
              "      <td>0</td>\n",
              "      <td>0</td>\n",
              "      <td>0</td>\n",
              "      <td>0</td>\n",
              "      <td>0</td>\n",
              "      <td>0</td>\n",
              "      <td>0</td>\n",
              "      <td>0</td>\n",
              "      <td>0</td>\n",
              "      <td>0</td>\n",
              "      <td>0</td>\n",
              "      <td>0</td>\n",
              "      <td>0</td>\n",
              "      <td>0</td>\n",
              "      <td>0</td>\n",
              "      <td>0</td>\n",
              "      <td>1</td>\n",
              "      <td>0</td>\n",
              "      <td>0</td>\n",
              "      <td>0</td>\n",
              "    </tr>\n",
              "    <tr>\n",
              "      <th>48974</th>\n",
              "      <td>0</td>\n",
              "      <td>0</td>\n",
              "      <td>0</td>\n",
              "      <td>0</td>\n",
              "      <td>0</td>\n",
              "      <td>0</td>\n",
              "      <td>0</td>\n",
              "      <td>0</td>\n",
              "      <td>0</td>\n",
              "      <td>0</td>\n",
              "      <td>0</td>\n",
              "      <td>0</td>\n",
              "      <td>0</td>\n",
              "      <td>0</td>\n",
              "      <td>0</td>\n",
              "      <td>0</td>\n",
              "      <td>1</td>\n",
              "      <td>0</td>\n",
              "      <td>0</td>\n",
              "      <td>0</td>\n",
              "    </tr>\n",
              "    <tr>\n",
              "      <th>48975</th>\n",
              "      <td>0</td>\n",
              "      <td>0</td>\n",
              "      <td>0</td>\n",
              "      <td>0</td>\n",
              "      <td>0</td>\n",
              "      <td>1</td>\n",
              "      <td>0</td>\n",
              "      <td>0</td>\n",
              "      <td>0</td>\n",
              "      <td>0</td>\n",
              "      <td>0</td>\n",
              "      <td>0</td>\n",
              "      <td>0</td>\n",
              "      <td>0</td>\n",
              "      <td>0</td>\n",
              "      <td>0</td>\n",
              "      <td>0</td>\n",
              "      <td>0</td>\n",
              "      <td>0</td>\n",
              "      <td>0</td>\n",
              "    </tr>\n",
              "  </tbody>\n",
              "</table>\n",
              "<p>48976 rows × 20 columns</p>\n",
              "</div>"
            ],
            "text/plain": [
              "       .net  android  asp.net  c  c#  ...  php  python  ruby  ruby-on-rails  sql\n",
              "0         0        0        1  0   0  ...    0       0     0              0    1\n",
              "1         1        0        0  0   1  ...    0       0     0              0    0\n",
              "2         0        0        0  0   0  ...    0       0     0              0    0\n",
              "3         1        0        0  0   0  ...    0       0     0              0    0\n",
              "4         0        0        0  0   1  ...    0       0     0              0    0\n",
              "...     ...      ...      ... ..  ..  ...  ...     ...   ...            ...  ...\n",
              "48971     0        0        0  0   0  ...    0       0     0              0    0\n",
              "48972     0        0        0  0   0  ...    0       0     0              0    0\n",
              "48973     0        0        0  0   0  ...    0       1     0              0    0\n",
              "48974     0        0        0  0   0  ...    0       1     0              0    0\n",
              "48975     0        0        0  0   0  ...    0       0     0              0    0\n",
              "\n",
              "[48976 rows x 20 columns]"
            ]
          },
          "metadata": {
            "tags": []
          },
          "execution_count": 15
        }
      ]
    },
    {
      "cell_type": "markdown",
      "metadata": {
        "id": "FpEo7Iflz6dq"
      },
      "source": [
        "### **TF-IDF vectorizer**"
      ]
    },
    {
      "cell_type": "markdown",
      "metadata": {
        "id": "oPCAn-0W0rR9"
      },
      "source": [
        "Word Embeddings or Word vectorization is a methodology in NLP to map words or phrases from vocabulary to a corresponding vector of real numbers which are used to find word predictions, word similarities/semantics. The process of converting words into numbers are called Vectorization.\n",
        "\n",
        "Machine learning algorithms cannot work with raw text directly.We need to transform that text into numbers. This process is called Text Vectorization.\n",
        "\n",
        "Text Vectorization uses bag-of-words model to represents text data into vectors,when modeling text with machine learning algorithms.\n",
        "\n",
        "we can do it in 3 ways using Scikit Learn library.\n",
        "\n",
        "Word Counts with CountVectorizer Convert a collection of text documents to a matrix of token counts.\n",
        "Word Frequencies with TfidfVectorizer Convert a collection of raw documents to a matrix of TF-IDF features.\n",
        "Hashing with HashingVectorizer The main difference is that HashingVectorizer applies a hashing functionto term frequency counts in each document, where TfidfVectorizer scales those term frequency counts in each document by penalising terms that appear more widely across the corpus.\n",
        "TF-IDF is a statistical measure that evaluates how relevant a word is to a document in a collection of documents.\n",
        "\n",
        "This is done by multiplying two metrics:Term frequency gives how many times a word appears in a document and the inverse document frequency of the word across a set of documents.Multiplying these two metrics results in the TF-IDF score of a word in a document."
      ]
    },
    {
      "cell_type": "code",
      "metadata": {
        "colab": {
          "base_uri": "https://localhost:8080/"
        },
        "id": "KZGH1pTGzOeX",
        "outputId": "d61a3d50-a892-463f-8132-b61fa6604d70"
      },
      "source": [
        "tfidf = TfidfVectorizer(analyzer='word', max_features=10000)\n",
        "X = tfidf.fit_transform(df['Text'])\n",
        "X.shape, y.shape"
      ],
      "execution_count": 16,
      "outputs": [
        {
          "output_type": "execute_result",
          "data": {
            "text/plain": [
              "((48976, 10000), (48976, 20))"
            ]
          },
          "metadata": {
            "tags": []
          },
          "execution_count": 16
        }
      ]
    },
    {
      "cell_type": "code",
      "metadata": {
        "id": "J8TZWTEHzOhV"
      },
      "source": [
        "X_train, X_test, y_train, y_test = train_test_split(X, y, test_size = 0.2, random_state = 0)"
      ],
      "execution_count": 17,
      "outputs": []
    },
    {
      "cell_type": "markdown",
      "metadata": {
        "id": "brQiwxer0zDI"
      },
      "source": [
        "### **Build Model**"
      ]
    },
    {
      "cell_type": "code",
      "metadata": {
        "id": "Gl8lXnO8zOmw"
      },
      "source": [
        "sgd = SGDClassifier()\n",
        "lr = LogisticRegression(solver='lbfgs')\n",
        "svc = LinearSVC()"
      ],
      "execution_count": 19,
      "outputs": []
    },
    {
      "cell_type": "markdown",
      "metadata": {
        "id": "WKyKLpxD09Be"
      },
      "source": [
        "Multi-label classification problems must be assessed using different performance measures than single-label classification problems. Two of the most common performance metrics are hamming loss and Jaccard similarity.\n",
        "\n",
        "Hamming loss is the average fraction of incorrect labels. Note that hamming loss is a loss function and that the perfect score is 0.\n",
        "\n",
        "  \\begin{align*} Hamming loss = \\frac{TP + TN}{T} \\end{align*}\n",
        "where TP + TN + FP + FN =L(the total number of labels).\n",
        "\n",
        "Jaccard similarity or the Jaccard index, is the size of the intersection of the predicted labels and the true labels divided by the size of the union of the predicted and true labels. It ranges from 0 to 1, and 1 is the perfect score.\n",
        "\n",
        "  \\begin{align*} Jaccard Score  = \\frac{TP }{TP+FP+FN}\\, if \\,TN \\neq 1 \\end{align*}\n",
        "Hamming and Jaccard similarity can be represented in terms of true/false positive/negative counts."
      ]
    },
    {
      "cell_type": "code",
      "metadata": {
        "id": "nz1_-mMV04hy"
      },
      "source": [
        "def j_score(y_true, y_pred):\n",
        "  jaccard = np.minimum(y_true, y_pred).sum(axis = 1)/np.maximum(y_true, y_pred).sum(axis = 1)\n",
        "  return jaccard.mean()*100\n",
        "\n",
        "\n",
        "def print_score(y_pred, clf):\n",
        "  print(\"Clf: \", clf.__class__.__name__)\n",
        "  print('Jacard score: {}'.format(j_score(y_test, y_pred)))\n",
        "  print('----')"
      ],
      "execution_count": 20,
      "outputs": []
    },
    {
      "cell_type": "code",
      "metadata": {
        "colab": {
          "base_uri": "https://localhost:8080/"
        },
        "id": "snSF_EFX1NGj",
        "outputId": "188e0883-1f1e-4b15-916a-f3f53862a786"
      },
      "source": [
        "for classifier in [sgd, lr, svc]:\n",
        "  clf = OneVsRestClassifier(classifier)\n",
        "  clf.fit(X_train, y_train)\n",
        "  y_pred = clf.predict(X_test)\n",
        "  print_score(y_pred, classifier)"
      ],
      "execution_count": 21,
      "outputs": [
        {
          "output_type": "stream",
          "text": [
            "Clf:  SGDClassifier\n",
            "Jacard score: 50.94375255206206\n",
            "----\n",
            "Clf:  LogisticRegression\n",
            "Jacard score: 49.548455151762624\n",
            "----\n",
            "Clf:  LinearSVC\n",
            "Jacard score: 62.317952905948005\n",
            "----\n"
          ],
          "name": "stdout"
        }
      ]
    },
    {
      "cell_type": "code",
      "metadata": {
        "id": "-Z-X5tZP5CRf"
      },
      "source": [
        "x = [ 'how to write ml code in python and java i have data but do not know how to do it']"
      ],
      "execution_count": 22,
      "outputs": []
    },
    {
      "cell_type": "code",
      "metadata": {
        "colab": {
          "base_uri": "https://localhost:8080/"
        },
        "id": "BNK1IP0d5H_b",
        "outputId": "f17f2d50-cbf0-4071-c336-e0d6a2c4ff3a"
      },
      "source": [
        "xt = tfidf.transform(x)\n",
        "clf.predict(xt)"
      ],
      "execution_count": 23,
      "outputs": [
        {
          "output_type": "execute_result",
          "data": {
            "text/plain": [
              "array([[0, 0, 0, 0, 0, 0, 0, 0, 0, 0, 1, 0, 0, 0, 0, 0, 1, 0, 0, 0]])"
            ]
          },
          "metadata": {
            "tags": []
          },
          "execution_count": 23
        }
      ]
    },
    {
      "cell_type": "code",
      "metadata": {
        "colab": {
          "base_uri": "https://localhost:8080/"
        },
        "id": "PSAvQzBH5KPj",
        "outputId": "73fb1273-a10e-4296-8cee-fd7bf52facf3"
      },
      "source": [
        "multilabel.inverse_transform(clf.predict(xt))"
      ],
      "execution_count": 24,
      "outputs": [
        {
          "output_type": "execute_result",
          "data": {
            "text/plain": [
              "[('java', 'python')]"
            ]
          },
          "metadata": {
            "tags": []
          },
          "execution_count": 24
        }
      ]
    },
    {
      "cell_type": "code",
      "metadata": {
        "id": "qs3HO0S55Mns"
      },
      "source": [
        "  "
      ],
      "execution_count": null,
      "outputs": []
    }
  ]
}