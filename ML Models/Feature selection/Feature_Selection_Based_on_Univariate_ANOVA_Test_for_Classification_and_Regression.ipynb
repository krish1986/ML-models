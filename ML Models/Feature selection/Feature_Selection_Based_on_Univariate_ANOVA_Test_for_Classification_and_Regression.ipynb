{
  "nbformat": 4,
  "nbformat_minor": 0,
  "metadata": {
    "colab": {
      "name": "Feature Selection Based on Univariate ANOVA Test for Classification and Regression.ipynb",
      "provenance": [],
      "collapsed_sections": []
    },
    "kernelspec": {
      "name": "python3",
      "display_name": "Python 3"
    },
    "language_info": {
      "name": "python"
    }
  },
  "cells": [
    {
      "cell_type": "code",
      "metadata": {
        "id": "fRHONbkTdhwC"
      },
      "source": [
        "import numpy as np\n",
        "import pandas as pd\n",
        "import matplotlib.pyplot as plt\n",
        "import seaborn as sns"
      ],
      "execution_count": 1,
      "outputs": []
    },
    {
      "cell_type": "code",
      "metadata": {
        "id": "HRSr9uXZevIG"
      },
      "source": [
        "from sklearn.model_selection import train_test_split\n",
        "from sklearn.ensemble import RandomForestClassifier\n",
        "from sklearn.metrics import accuracy_score\n",
        "from sklearn.feature_selection import VarianceThreshold, f_classif, f_regression, SelectKBest, SelectPercentile"
      ],
      "execution_count": 3,
      "outputs": []
    },
    {
      "cell_type": "code",
      "metadata": {
        "colab": {
          "base_uri": "https://localhost:8080/"
        },
        "id": "jDtLbWu7fA_l",
        "outputId": "f1a7df70-9aef-40bf-b431-2e26e57a3a71"
      },
      "source": [
        "!git clone https://github.com/laxmimerit/Data-Files-for-Feature-Selection"
      ],
      "execution_count": 5,
      "outputs": [
        {
          "output_type": "stream",
          "text": [
            "Cloning into 'Data-Files-for-Feature-Selection'...\n",
            "remote: Enumerating objects: 17, done.\u001b[K\n",
            "remote: Total 17 (delta 0), reused 0 (delta 0), pack-reused 17\u001b[K\n",
            "Unpacking objects: 100% (17/17), done.\n"
          ],
          "name": "stdout"
        }
      ]
    },
    {
      "cell_type": "code",
      "metadata": {
        "colab": {
          "base_uri": "https://localhost:8080/",
          "height": 253
        },
        "id": "EMo1UcczfKlt",
        "outputId": "b2292e82-1baa-4a57-a5b4-34efd9eaec9c"
      },
      "source": [
        "data = pd.read_csv('/content/Data-Files-for-Feature-Selection/santander-train.csv')\n",
        "data.head()"
      ],
      "execution_count": 6,
      "outputs": [
        {
          "output_type": "execute_result",
          "data": {
            "text/html": [
              "<div>\n",
              "<style scoped>\n",
              "    .dataframe tbody tr th:only-of-type {\n",
              "        vertical-align: middle;\n",
              "    }\n",
              "\n",
              "    .dataframe tbody tr th {\n",
              "        vertical-align: top;\n",
              "    }\n",
              "\n",
              "    .dataframe thead th {\n",
              "        text-align: right;\n",
              "    }\n",
              "</style>\n",
              "<table border=\"1\" class=\"dataframe\">\n",
              "  <thead>\n",
              "    <tr style=\"text-align: right;\">\n",
              "      <th></th>\n",
              "      <th>ID</th>\n",
              "      <th>var3</th>\n",
              "      <th>var15</th>\n",
              "      <th>imp_ent_var16_ult1</th>\n",
              "      <th>imp_op_var39_comer_ult1</th>\n",
              "      <th>imp_op_var39_comer_ult3</th>\n",
              "      <th>imp_op_var40_comer_ult1</th>\n",
              "      <th>imp_op_var40_comer_ult3</th>\n",
              "      <th>imp_op_var40_efect_ult1</th>\n",
              "      <th>imp_op_var40_efect_ult3</th>\n",
              "      <th>imp_op_var40_ult1</th>\n",
              "      <th>imp_op_var41_comer_ult1</th>\n",
              "      <th>imp_op_var41_comer_ult3</th>\n",
              "      <th>imp_op_var41_efect_ult1</th>\n",
              "      <th>imp_op_var41_efect_ult3</th>\n",
              "      <th>imp_op_var41_ult1</th>\n",
              "      <th>imp_op_var39_efect_ult1</th>\n",
              "      <th>imp_op_var39_efect_ult3</th>\n",
              "      <th>imp_op_var39_ult1</th>\n",
              "      <th>imp_sal_var16_ult1</th>\n",
              "      <th>ind_var1_0</th>\n",
              "      <th>ind_var1</th>\n",
              "      <th>ind_var2_0</th>\n",
              "      <th>ind_var2</th>\n",
              "      <th>ind_var5_0</th>\n",
              "      <th>ind_var5</th>\n",
              "      <th>ind_var6_0</th>\n",
              "      <th>ind_var6</th>\n",
              "      <th>ind_var8_0</th>\n",
              "      <th>ind_var8</th>\n",
              "      <th>ind_var12_0</th>\n",
              "      <th>ind_var12</th>\n",
              "      <th>ind_var13_0</th>\n",
              "      <th>ind_var13_corto_0</th>\n",
              "      <th>ind_var13_corto</th>\n",
              "      <th>ind_var13_largo_0</th>\n",
              "      <th>ind_var13_largo</th>\n",
              "      <th>ind_var13_medio_0</th>\n",
              "      <th>ind_var13_medio</th>\n",
              "      <th>ind_var13</th>\n",
              "      <th>...</th>\n",
              "      <th>saldo_medio_var5_ult1</th>\n",
              "      <th>saldo_medio_var5_ult3</th>\n",
              "      <th>saldo_medio_var8_hace2</th>\n",
              "      <th>saldo_medio_var8_hace3</th>\n",
              "      <th>saldo_medio_var8_ult1</th>\n",
              "      <th>saldo_medio_var8_ult3</th>\n",
              "      <th>saldo_medio_var12_hace2</th>\n",
              "      <th>saldo_medio_var12_hace3</th>\n",
              "      <th>saldo_medio_var12_ult1</th>\n",
              "      <th>saldo_medio_var12_ult3</th>\n",
              "      <th>saldo_medio_var13_corto_hace2</th>\n",
              "      <th>saldo_medio_var13_corto_hace3</th>\n",
              "      <th>saldo_medio_var13_corto_ult1</th>\n",
              "      <th>saldo_medio_var13_corto_ult3</th>\n",
              "      <th>saldo_medio_var13_largo_hace2</th>\n",
              "      <th>saldo_medio_var13_largo_hace3</th>\n",
              "      <th>saldo_medio_var13_largo_ult1</th>\n",
              "      <th>saldo_medio_var13_largo_ult3</th>\n",
              "      <th>saldo_medio_var13_medio_hace2</th>\n",
              "      <th>saldo_medio_var13_medio_hace3</th>\n",
              "      <th>saldo_medio_var13_medio_ult1</th>\n",
              "      <th>saldo_medio_var13_medio_ult3</th>\n",
              "      <th>saldo_medio_var17_hace2</th>\n",
              "      <th>saldo_medio_var17_hace3</th>\n",
              "      <th>saldo_medio_var17_ult1</th>\n",
              "      <th>saldo_medio_var17_ult3</th>\n",
              "      <th>saldo_medio_var29_hace2</th>\n",
              "      <th>saldo_medio_var29_hace3</th>\n",
              "      <th>saldo_medio_var29_ult1</th>\n",
              "      <th>saldo_medio_var29_ult3</th>\n",
              "      <th>saldo_medio_var33_hace2</th>\n",
              "      <th>saldo_medio_var33_hace3</th>\n",
              "      <th>saldo_medio_var33_ult1</th>\n",
              "      <th>saldo_medio_var33_ult3</th>\n",
              "      <th>saldo_medio_var44_hace2</th>\n",
              "      <th>saldo_medio_var44_hace3</th>\n",
              "      <th>saldo_medio_var44_ult1</th>\n",
              "      <th>saldo_medio_var44_ult3</th>\n",
              "      <th>var38</th>\n",
              "      <th>TARGET</th>\n",
              "    </tr>\n",
              "  </thead>\n",
              "  <tbody>\n",
              "    <tr>\n",
              "      <th>0</th>\n",
              "      <td>1</td>\n",
              "      <td>2</td>\n",
              "      <td>23</td>\n",
              "      <td>0.0</td>\n",
              "      <td>0.0</td>\n",
              "      <td>0.0</td>\n",
              "      <td>0.0</td>\n",
              "      <td>0.0</td>\n",
              "      <td>0.0</td>\n",
              "      <td>0.0</td>\n",
              "      <td>0.0</td>\n",
              "      <td>0.0</td>\n",
              "      <td>0.0</td>\n",
              "      <td>0.0</td>\n",
              "      <td>0.0</td>\n",
              "      <td>0.0</td>\n",
              "      <td>0.0</td>\n",
              "      <td>0.0</td>\n",
              "      <td>0.0</td>\n",
              "      <td>0.0</td>\n",
              "      <td>0</td>\n",
              "      <td>0</td>\n",
              "      <td>0</td>\n",
              "      <td>0</td>\n",
              "      <td>1</td>\n",
              "      <td>0</td>\n",
              "      <td>0</td>\n",
              "      <td>0</td>\n",
              "      <td>0</td>\n",
              "      <td>0</td>\n",
              "      <td>0</td>\n",
              "      <td>0</td>\n",
              "      <td>0</td>\n",
              "      <td>0</td>\n",
              "      <td>0</td>\n",
              "      <td>0</td>\n",
              "      <td>0</td>\n",
              "      <td>0</td>\n",
              "      <td>0</td>\n",
              "      <td>0</td>\n",
              "      <td>...</td>\n",
              "      <td>0.00</td>\n",
              "      <td>0.00</td>\n",
              "      <td>0.0</td>\n",
              "      <td>0.0</td>\n",
              "      <td>0.0</td>\n",
              "      <td>0.0</td>\n",
              "      <td>0.0</td>\n",
              "      <td>0.0</td>\n",
              "      <td>0.00</td>\n",
              "      <td>0.00</td>\n",
              "      <td>0.0</td>\n",
              "      <td>0.00</td>\n",
              "      <td>0.0</td>\n",
              "      <td>0.00</td>\n",
              "      <td>0.0</td>\n",
              "      <td>0.0</td>\n",
              "      <td>0.0</td>\n",
              "      <td>0.0</td>\n",
              "      <td>0.0</td>\n",
              "      <td>0</td>\n",
              "      <td>0</td>\n",
              "      <td>0.0</td>\n",
              "      <td>0.0</td>\n",
              "      <td>0.0</td>\n",
              "      <td>0.0</td>\n",
              "      <td>0.0</td>\n",
              "      <td>0.0</td>\n",
              "      <td>0.0</td>\n",
              "      <td>0.0</td>\n",
              "      <td>0.0</td>\n",
              "      <td>0.0</td>\n",
              "      <td>0.0</td>\n",
              "      <td>0.0</td>\n",
              "      <td>0.0</td>\n",
              "      <td>0.0</td>\n",
              "      <td>0.0</td>\n",
              "      <td>0.0</td>\n",
              "      <td>0.0</td>\n",
              "      <td>39205.170000</td>\n",
              "      <td>0</td>\n",
              "    </tr>\n",
              "    <tr>\n",
              "      <th>1</th>\n",
              "      <td>3</td>\n",
              "      <td>2</td>\n",
              "      <td>34</td>\n",
              "      <td>0.0</td>\n",
              "      <td>0.0</td>\n",
              "      <td>0.0</td>\n",
              "      <td>0.0</td>\n",
              "      <td>0.0</td>\n",
              "      <td>0.0</td>\n",
              "      <td>0.0</td>\n",
              "      <td>0.0</td>\n",
              "      <td>0.0</td>\n",
              "      <td>0.0</td>\n",
              "      <td>0.0</td>\n",
              "      <td>0.0</td>\n",
              "      <td>0.0</td>\n",
              "      <td>0.0</td>\n",
              "      <td>0.0</td>\n",
              "      <td>0.0</td>\n",
              "      <td>0.0</td>\n",
              "      <td>0</td>\n",
              "      <td>0</td>\n",
              "      <td>0</td>\n",
              "      <td>0</td>\n",
              "      <td>1</td>\n",
              "      <td>0</td>\n",
              "      <td>0</td>\n",
              "      <td>0</td>\n",
              "      <td>0</td>\n",
              "      <td>0</td>\n",
              "      <td>0</td>\n",
              "      <td>0</td>\n",
              "      <td>1</td>\n",
              "      <td>1</td>\n",
              "      <td>1</td>\n",
              "      <td>0</td>\n",
              "      <td>0</td>\n",
              "      <td>0</td>\n",
              "      <td>0</td>\n",
              "      <td>1</td>\n",
              "      <td>...</td>\n",
              "      <td>0.00</td>\n",
              "      <td>0.00</td>\n",
              "      <td>0.0</td>\n",
              "      <td>0.0</td>\n",
              "      <td>0.0</td>\n",
              "      <td>0.0</td>\n",
              "      <td>0.0</td>\n",
              "      <td>0.0</td>\n",
              "      <td>0.00</td>\n",
              "      <td>0.00</td>\n",
              "      <td>300.0</td>\n",
              "      <td>122.22</td>\n",
              "      <td>300.0</td>\n",
              "      <td>240.75</td>\n",
              "      <td>0.0</td>\n",
              "      <td>0.0</td>\n",
              "      <td>0.0</td>\n",
              "      <td>0.0</td>\n",
              "      <td>0.0</td>\n",
              "      <td>0</td>\n",
              "      <td>0</td>\n",
              "      <td>0.0</td>\n",
              "      <td>0.0</td>\n",
              "      <td>0.0</td>\n",
              "      <td>0.0</td>\n",
              "      <td>0.0</td>\n",
              "      <td>0.0</td>\n",
              "      <td>0.0</td>\n",
              "      <td>0.0</td>\n",
              "      <td>0.0</td>\n",
              "      <td>0.0</td>\n",
              "      <td>0.0</td>\n",
              "      <td>0.0</td>\n",
              "      <td>0.0</td>\n",
              "      <td>0.0</td>\n",
              "      <td>0.0</td>\n",
              "      <td>0.0</td>\n",
              "      <td>0.0</td>\n",
              "      <td>49278.030000</td>\n",
              "      <td>0</td>\n",
              "    </tr>\n",
              "    <tr>\n",
              "      <th>2</th>\n",
              "      <td>4</td>\n",
              "      <td>2</td>\n",
              "      <td>23</td>\n",
              "      <td>0.0</td>\n",
              "      <td>0.0</td>\n",
              "      <td>0.0</td>\n",
              "      <td>0.0</td>\n",
              "      <td>0.0</td>\n",
              "      <td>0.0</td>\n",
              "      <td>0.0</td>\n",
              "      <td>0.0</td>\n",
              "      <td>0.0</td>\n",
              "      <td>0.0</td>\n",
              "      <td>0.0</td>\n",
              "      <td>0.0</td>\n",
              "      <td>0.0</td>\n",
              "      <td>0.0</td>\n",
              "      <td>0.0</td>\n",
              "      <td>0.0</td>\n",
              "      <td>0.0</td>\n",
              "      <td>0</td>\n",
              "      <td>0</td>\n",
              "      <td>0</td>\n",
              "      <td>0</td>\n",
              "      <td>1</td>\n",
              "      <td>1</td>\n",
              "      <td>0</td>\n",
              "      <td>0</td>\n",
              "      <td>0</td>\n",
              "      <td>0</td>\n",
              "      <td>0</td>\n",
              "      <td>0</td>\n",
              "      <td>0</td>\n",
              "      <td>0</td>\n",
              "      <td>0</td>\n",
              "      <td>0</td>\n",
              "      <td>0</td>\n",
              "      <td>0</td>\n",
              "      <td>0</td>\n",
              "      <td>0</td>\n",
              "      <td>...</td>\n",
              "      <td>3.00</td>\n",
              "      <td>2.07</td>\n",
              "      <td>0.0</td>\n",
              "      <td>0.0</td>\n",
              "      <td>0.0</td>\n",
              "      <td>0.0</td>\n",
              "      <td>0.0</td>\n",
              "      <td>0.0</td>\n",
              "      <td>0.00</td>\n",
              "      <td>0.00</td>\n",
              "      <td>0.0</td>\n",
              "      <td>0.00</td>\n",
              "      <td>0.0</td>\n",
              "      <td>0.00</td>\n",
              "      <td>0.0</td>\n",
              "      <td>0.0</td>\n",
              "      <td>0.0</td>\n",
              "      <td>0.0</td>\n",
              "      <td>0.0</td>\n",
              "      <td>0</td>\n",
              "      <td>0</td>\n",
              "      <td>0.0</td>\n",
              "      <td>0.0</td>\n",
              "      <td>0.0</td>\n",
              "      <td>0.0</td>\n",
              "      <td>0.0</td>\n",
              "      <td>0.0</td>\n",
              "      <td>0.0</td>\n",
              "      <td>0.0</td>\n",
              "      <td>0.0</td>\n",
              "      <td>0.0</td>\n",
              "      <td>0.0</td>\n",
              "      <td>0.0</td>\n",
              "      <td>0.0</td>\n",
              "      <td>0.0</td>\n",
              "      <td>0.0</td>\n",
              "      <td>0.0</td>\n",
              "      <td>0.0</td>\n",
              "      <td>67333.770000</td>\n",
              "      <td>0</td>\n",
              "    </tr>\n",
              "    <tr>\n",
              "      <th>3</th>\n",
              "      <td>8</td>\n",
              "      <td>2</td>\n",
              "      <td>37</td>\n",
              "      <td>0.0</td>\n",
              "      <td>195.0</td>\n",
              "      <td>195.0</td>\n",
              "      <td>0.0</td>\n",
              "      <td>0.0</td>\n",
              "      <td>0.0</td>\n",
              "      <td>0.0</td>\n",
              "      <td>0.0</td>\n",
              "      <td>195.0</td>\n",
              "      <td>195.0</td>\n",
              "      <td>0.0</td>\n",
              "      <td>0.0</td>\n",
              "      <td>195.0</td>\n",
              "      <td>0.0</td>\n",
              "      <td>0.0</td>\n",
              "      <td>195.0</td>\n",
              "      <td>0.0</td>\n",
              "      <td>0</td>\n",
              "      <td>0</td>\n",
              "      <td>0</td>\n",
              "      <td>0</td>\n",
              "      <td>1</td>\n",
              "      <td>1</td>\n",
              "      <td>0</td>\n",
              "      <td>0</td>\n",
              "      <td>0</td>\n",
              "      <td>0</td>\n",
              "      <td>0</td>\n",
              "      <td>0</td>\n",
              "      <td>0</td>\n",
              "      <td>0</td>\n",
              "      <td>0</td>\n",
              "      <td>0</td>\n",
              "      <td>0</td>\n",
              "      <td>0</td>\n",
              "      <td>0</td>\n",
              "      <td>0</td>\n",
              "      <td>...</td>\n",
              "      <td>91.56</td>\n",
              "      <td>138.84</td>\n",
              "      <td>0.0</td>\n",
              "      <td>0.0</td>\n",
              "      <td>0.0</td>\n",
              "      <td>0.0</td>\n",
              "      <td>0.0</td>\n",
              "      <td>0.0</td>\n",
              "      <td>0.00</td>\n",
              "      <td>0.00</td>\n",
              "      <td>0.0</td>\n",
              "      <td>0.00</td>\n",
              "      <td>0.0</td>\n",
              "      <td>0.00</td>\n",
              "      <td>0.0</td>\n",
              "      <td>0.0</td>\n",
              "      <td>0.0</td>\n",
              "      <td>0.0</td>\n",
              "      <td>0.0</td>\n",
              "      <td>0</td>\n",
              "      <td>0</td>\n",
              "      <td>0.0</td>\n",
              "      <td>0.0</td>\n",
              "      <td>0.0</td>\n",
              "      <td>0.0</td>\n",
              "      <td>0.0</td>\n",
              "      <td>0.0</td>\n",
              "      <td>0.0</td>\n",
              "      <td>0.0</td>\n",
              "      <td>0.0</td>\n",
              "      <td>0.0</td>\n",
              "      <td>0.0</td>\n",
              "      <td>0.0</td>\n",
              "      <td>0.0</td>\n",
              "      <td>0.0</td>\n",
              "      <td>0.0</td>\n",
              "      <td>0.0</td>\n",
              "      <td>0.0</td>\n",
              "      <td>64007.970000</td>\n",
              "      <td>0</td>\n",
              "    </tr>\n",
              "    <tr>\n",
              "      <th>4</th>\n",
              "      <td>10</td>\n",
              "      <td>2</td>\n",
              "      <td>39</td>\n",
              "      <td>0.0</td>\n",
              "      <td>0.0</td>\n",
              "      <td>0.0</td>\n",
              "      <td>0.0</td>\n",
              "      <td>0.0</td>\n",
              "      <td>0.0</td>\n",
              "      <td>0.0</td>\n",
              "      <td>0.0</td>\n",
              "      <td>0.0</td>\n",
              "      <td>0.0</td>\n",
              "      <td>0.0</td>\n",
              "      <td>0.0</td>\n",
              "      <td>0.0</td>\n",
              "      <td>0.0</td>\n",
              "      <td>0.0</td>\n",
              "      <td>0.0</td>\n",
              "      <td>0.0</td>\n",
              "      <td>0</td>\n",
              "      <td>0</td>\n",
              "      <td>0</td>\n",
              "      <td>0</td>\n",
              "      <td>1</td>\n",
              "      <td>0</td>\n",
              "      <td>0</td>\n",
              "      <td>0</td>\n",
              "      <td>0</td>\n",
              "      <td>0</td>\n",
              "      <td>1</td>\n",
              "      <td>1</td>\n",
              "      <td>0</td>\n",
              "      <td>0</td>\n",
              "      <td>0</td>\n",
              "      <td>0</td>\n",
              "      <td>0</td>\n",
              "      <td>0</td>\n",
              "      <td>0</td>\n",
              "      <td>0</td>\n",
              "      <td>...</td>\n",
              "      <td>40501.08</td>\n",
              "      <td>13501.47</td>\n",
              "      <td>0.0</td>\n",
              "      <td>0.0</td>\n",
              "      <td>0.0</td>\n",
              "      <td>0.0</td>\n",
              "      <td>0.0</td>\n",
              "      <td>0.0</td>\n",
              "      <td>85501.89</td>\n",
              "      <td>85501.89</td>\n",
              "      <td>0.0</td>\n",
              "      <td>0.00</td>\n",
              "      <td>0.0</td>\n",
              "      <td>0.00</td>\n",
              "      <td>0.0</td>\n",
              "      <td>0.0</td>\n",
              "      <td>0.0</td>\n",
              "      <td>0.0</td>\n",
              "      <td>0.0</td>\n",
              "      <td>0</td>\n",
              "      <td>0</td>\n",
              "      <td>0.0</td>\n",
              "      <td>0.0</td>\n",
              "      <td>0.0</td>\n",
              "      <td>0.0</td>\n",
              "      <td>0.0</td>\n",
              "      <td>0.0</td>\n",
              "      <td>0.0</td>\n",
              "      <td>0.0</td>\n",
              "      <td>0.0</td>\n",
              "      <td>0.0</td>\n",
              "      <td>0.0</td>\n",
              "      <td>0.0</td>\n",
              "      <td>0.0</td>\n",
              "      <td>0.0</td>\n",
              "      <td>0.0</td>\n",
              "      <td>0.0</td>\n",
              "      <td>0.0</td>\n",
              "      <td>117310.979016</td>\n",
              "      <td>0</td>\n",
              "    </tr>\n",
              "  </tbody>\n",
              "</table>\n",
              "<p>5 rows × 371 columns</p>\n",
              "</div>"
            ],
            "text/plain": [
              "   ID  var3  var15  ...  saldo_medio_var44_ult3          var38  TARGET\n",
              "0   1     2     23  ...                     0.0   39205.170000       0\n",
              "1   3     2     34  ...                     0.0   49278.030000       0\n",
              "2   4     2     23  ...                     0.0   67333.770000       0\n",
              "3   8     2     37  ...                     0.0   64007.970000       0\n",
              "4  10     2     39  ...                     0.0  117310.979016       0\n",
              "\n",
              "[5 rows x 371 columns]"
            ]
          },
          "metadata": {
            "tags": []
          },
          "execution_count": 6
        }
      ]
    },
    {
      "cell_type": "code",
      "metadata": {
        "id": "JrGqeOF_fSsc"
      },
      "source": [
        "X = data.drop('TARGET', axis=1)\n",
        "Y = data['TARGET']"
      ],
      "execution_count": 7,
      "outputs": []
    },
    {
      "cell_type": "code",
      "metadata": {
        "id": "0Qc8BpgKfcds"
      },
      "source": [
        "x_train, x_test, y_train, y_test = train_test_split(X, Y, test_size=0.2, random_state=0)"
      ],
      "execution_count": 8,
      "outputs": []
    },
    {
      "cell_type": "code",
      "metadata": {
        "id": "Bs1H-ZTdfjIk"
      },
      "source": [
        "constant_filter = VarianceThreshold(threshold=0.01)\n",
        "constant_filter.fit(x_train)\n",
        "x_train_filter = constant_filter.transform(x_train)\n",
        "x_test_filter = constant_filter.transform(x_test)"
      ],
      "execution_count": 9,
      "outputs": []
    },
    {
      "cell_type": "code",
      "metadata": {
        "id": "Wk9Lqs2kfxTk"
      },
      "source": [
        "x_train_T = x_train_filter.T\n",
        "x_test_T = x_test_filter.T"
      ],
      "execution_count": 10,
      "outputs": []
    },
    {
      "cell_type": "code",
      "metadata": {
        "id": "yNrQM1IHgw29"
      },
      "source": [
        "x_train_T = pd.DataFrame(x_train_T)\n",
        "x_test_T = pd.DataFrame(x_test_T)"
      ],
      "execution_count": 12,
      "outputs": []
    },
    {
      "cell_type": "code",
      "metadata": {
        "id": "qJSH8fqtgpH9"
      },
      "source": [
        "duplicated_features = x_train_T.duplicated()"
      ],
      "execution_count": 13,
      "outputs": []
    },
    {
      "cell_type": "code",
      "metadata": {
        "id": "kHp2Bjf1gtdl"
      },
      "source": [
        "features_to_keep = [not index for index in duplicated_features]"
      ],
      "execution_count": 14,
      "outputs": []
    },
    {
      "cell_type": "code",
      "metadata": {
        "id": "pGrOL4-8g8QJ"
      },
      "source": [
        "x_train_unique = x_train_T[features_to_keep].T\n",
        "x_test_unique = x_test_T[features_to_keep].T"
      ],
      "execution_count": 15,
      "outputs": []
    },
    {
      "cell_type": "code",
      "metadata": {
        "colab": {
          "base_uri": "https://localhost:8080/"
        },
        "id": "TPW2rhmGhDo1",
        "outputId": "5df9728e-d123-4e95-e8c1-916df1da64fc"
      },
      "source": [
        "x_train_unique.shape, x_test_unique.shape"
      ],
      "execution_count": 16,
      "outputs": [
        {
          "output_type": "execute_result",
          "data": {
            "text/plain": [
              "((60816, 251), (15204, 251))"
            ]
          },
          "metadata": {
            "tags": []
          },
          "execution_count": 16
        }
      ]
    },
    {
      "cell_type": "markdown",
      "metadata": {
        "id": "YUrte8UJjB7N"
      },
      "source": [
        "**Perform F test**"
      ]
    },
    {
      "cell_type": "code",
      "metadata": {
        "id": "1NYsglbfhG3W"
      },
      "source": [
        "sel = f_classif(x_train_unique, y_train)"
      ],
      "execution_count": 17,
      "outputs": []
    },
    {
      "cell_type": "code",
      "metadata": {
        "colab": {
          "base_uri": "https://localhost:8080/"
        },
        "id": "eTg8KX5KjAr-",
        "outputId": "249c5131-d5c5-4499-befe-a7281710bd9c"
      },
      "source": [
        "sel # first dimension of the array gives the F-score and the 2nd dimension the p-value"
      ],
      "execution_count": 19,
      "outputs": [
        {
          "output_type": "execute_result",
          "data": {
            "text/plain": [
              "(array([6.41344846e-02, 1.83457645e+00, 6.12979991e+02, 5.93292297e-02,\n",
              "        6.10119634e+00, 8.86941517e-01, 1.46877332e+00, 1.47463579e-01,\n",
              "        3.20100704e+01, 3.35717641e+01, 1.64288104e+00, 5.12094483e+00,\n",
              "        7.91763701e-01, 5.02623945e+01, 2.66218720e+01, 4.41329874e+01,\n",
              "        5.44048703e+01, 2.88560064e+01, 4.44797435e+01, 1.06857549e-02,\n",
              "        1.81358127e+00, 8.26257160e+01, 1.08061107e+03, 1.57794922e+02,\n",
              "        4.58805601e+01, 8.16904590e+01, 6.54623702e+01, 8.90339974e+01,\n",
              "        6.55026983e+01, 6.67993264e+01, 9.05921068e+01, 2.14476775e+01,\n",
              "        5.14949193e+01, 5.82718548e+01, 3.87007481e+01, 2.39437654e+01,\n",
              "        3.87033113e+01, 2.45743537e+01, 1.32216412e+03, 2.01861745e-01,\n",
              "        4.81609684e-01, 6.47767538e+01, 1.86138050e+00, 6.17564462e+01,\n",
              "        2.32380751e+00, 9.51107190e+00, 3.70142868e+02, 6.64903776e+01,\n",
              "        1.06245373e+03, 1.57440055e+02, 4.58805601e+01, 7.84881246e+01,\n",
              "        6.49046013e+01, 8.24815712e+01, 6.52307995e+01, 6.67728249e+01,\n",
              "        1.91681013e+01, 1.89990687e+01, 8.45980566e+01, 2.13995866e+01,\n",
              "        2.39033563e+00, 1.90792301e+00, 1.59120202e+00, 9.09298665e+00,\n",
              "        6.92556850e+00, 5.14281920e+01, 5.82391483e+01, 2.26220294e+01,\n",
              "        2.36726785e+01, 4.11583828e-01, 8.60222264e-02, 8.84766314e-01,\n",
              "        1.85822988e-01, 6.91638943e+00, 5.02214615e-01, 1.09321302e+01,\n",
              "        1.03789789e+01, 6.43085413e+00, 5.58383248e-01, 1.14950075e+01,\n",
              "        1.04567289e+01, 9.56154957e+01, 1.12286220e+03, 4.41193080e+00,\n",
              "        3.89237136e+00, 1.58674939e-02, 1.48900338e+00, 3.42672328e+02,\n",
              "        1.18390812e-04, 1.63677763e-01, 3.97169532e+01, 2.41322386e+00,\n",
              "        9.97431920e+00, 4.63884857e+01, 4.45868213e+01, 1.08523886e+03,\n",
              "        2.78871167e+00, 2.28928043e+00, 3.51793038e-02, 1.37050920e+01,\n",
              "        7.68257117e-02, 2.19635987e+00, 3.27691519e+01, 3.96681600e+01,\n",
              "        1.33041658e+01, 4.06208300e-02, 5.27261413e+01, 1.01647628e+00,\n",
              "        1.10901320e+00, 4.86647237e-02, 3.14145335e-01, 3.18893370e+01,\n",
              "        3.01254613e+00, 2.91723363e+00, 9.14990730e+01, 1.92535811e+00,\n",
              "        1.14997963e-01, 7.54276228e-01, 4.06208300e-02, 3.31693388e-01,\n",
              "        1.29415045e+01, 4.17312382e+01, 7.40375933e-01, 6.00713195e+02,\n",
              "        8.12430503e-02, 4.06208300e-02, 3.42832785e+00, 1.01593797e+00,\n",
              "        6.70200209e-01, 8.23835988e-03, 5.28179244e-01, 8.12430502e-02,\n",
              "        1.21866661e-01, 2.03118053e-01, 4.06208300e-02, 1.34122179e+00,\n",
              "        3.42832785e+00, 1.01593797e+00, 6.70200209e-01, 1.34122179e+00,\n",
              "        5.02326515e-02, 4.06208300e-02, 2.59516784e+01, 5.16965546e+00,\n",
              "        3.98740408e-01, 3.50272837e-01, 4.04640713e-01, 1.26033263e-01,\n",
              "        6.93243055e-02, 3.81532658e-01, 3.47742744e-01, 1.73728081e-01,\n",
              "        4.42826981e-01, 4.06208300e-02, 2.87769671e-01, 7.86224085e-01,\n",
              "        7.60162493e+00, 7.20078572e-02, 6.28920477e-02, 8.47713164e-02,\n",
              "        1.94561176e-01, 1.07216701e-01, 4.06208300e-02, 6.71650663e-02,\n",
              "        1.42643813e-01, 6.59655530e+00, 5.34934267e+00, 4.06489492e+00,\n",
              "        5.14891367e+00, 1.76809078e+00, 3.26286052e+01, 4.22995762e-02,\n",
              "        3.99691266e+01, 3.58727554e+00, 5.34859517e-01, 8.17614970e-01,\n",
              "        1.03543813e-03, 8.60408250e-01, 2.96180776e+00, 9.08725376e+00,\n",
              "        1.48748357e+00, 4.04167153e+01, 1.02271431e+01, 1.59744020e+01,\n",
              "        3.16821695e-01, 1.29976076e+03, 4.19532641e+01, 5.82728542e+01,\n",
              "        6.63068539e+01, 1.64407145e+01, 6.96533798e+00, 3.13585826e+00,\n",
              "        2.17269331e+00, 8.97105882e-03, 9.82259675e-02, 3.13652897e+01,\n",
              "        2.89529075e+01, 3.45305229e+00, 2.72263996e+00, 2.99612041e+01,\n",
              "        2.71890007e+01, 3.26351630e+01, 2.93452273e+01, 1.56005127e+00,\n",
              "        3.51706415e-01, 1.74271064e+01, 4.37383890e+00, 6.49440056e-01,\n",
              "        6.59484615e-04, 3.04094718e+00, 4.00526147e+00, 1.05358624e-01,\n",
              "        3.03066156e+01, 2.56184267e+01, 1.59675680e+01, 2.83949467e+01,\n",
              "        1.85535674e+00, 6.13136074e-01, 2.00437868e+00, 1.72143415e+00,\n",
              "        2.23840968e+01, 9.91864619e+00, 3.00914343e+01, 3.08480857e+01,\n",
              "        3.11173183e+01, 1.14938242e+01, 3.87737764e+01, 3.65551565e+01,\n",
              "        8.48517087e+00, 2.92132179e+00, 8.85226202e+00, 8.96703249e+00,\n",
              "        4.06208300e-02, 4.06208300e-02, 8.68055891e-01, 2.18158264e-01,\n",
              "        1.06390051e+00, 1.26777748e+00, 5.59038175e-02, 4.06208300e-02,\n",
              "        7.34015804e-02, 1.05832922e-01, 7.21046583e-01, 4.12384642e-01,\n",
              "        7.33746294e-01, 8.03475642e-01, 6.18177234e-01, 3.40142295e-01,\n",
              "        8.15332382e-01, 8.71795725e-01, 2.08686178e+01]),\n",
              " array([8.00077532e-001, 1.75592986e-001, 1.17254853e-134, 8.07560100e-001,\n",
              "        1.35117628e-002, 3.46311217e-001, 2.25544045e-001, 7.00972476e-001,\n",
              "        1.54062635e-008, 6.90202045e-009, 1.99935522e-001, 2.36422533e-002,\n",
              "        3.73570873e-001, 1.35961522e-012, 2.48202041e-007, 3.09383094e-011,\n",
              "        1.65227468e-013, 7.82493038e-008, 2.59194203e-011, 9.17668134e-001,\n",
              "        1.78084238e-001, 1.02047178e-019, 6.26930748e-235, 3.80530572e-036,\n",
              "        1.26826209e-011, 1.63691938e-019, 6.03184622e-016, 4.01219505e-021,\n",
              "        5.90979975e-016, 3.06328624e-016, 1.82750972e-021, 3.64367418e-006,\n",
              "        7.25994203e-013, 2.31603781e-014, 4.97225935e-010, 9.94442400e-007,\n",
              "        4.96573816e-010, 7.16889099e-007, 2.07884109e-286, 6.53223878e-001,\n",
              "        4.87696750e-001, 8.53864944e-016, 1.72470604e-001, 3.95013664e-015,\n",
              "        1.27413025e-001, 2.04327319e-003, 3.06208329e-082, 3.58243979e-016,\n",
              "        4.73560816e-231, 4.54705657e-036, 1.26826209e-011, 8.25959188e-019,\n",
              "        8.00279355e-016, 1.09756231e-019, 6.78309626e-016, 3.10470010e-016,\n",
              "        1.19896427e-005, 1.30996524e-005, 3.76791378e-020, 3.73618591e-006,\n",
              "        1.22092618e-001, 1.67199232e-001, 2.07159321e-001, 2.56697386e-003,\n",
              "        8.49934199e-003, 7.51072507e-013, 2.35482646e-014, 1.97661750e-006,\n",
              "        1.14477469e-006, 5.21169128e-001, 7.69297325e-001, 3.46903275e-001,\n",
              "        6.66417616e-001, 8.54307540e-003, 4.78531369e-001, 9.45654848e-004,\n",
              "        1.27525212e-003, 1.12179442e-002, 4.54915280e-001, 6.98277209e-004,\n",
              "        1.22268652e-003, 1.44960725e-022, 5.99231114e-244, 3.56925321e-002,\n",
              "        4.85104110e-002, 8.99759064e-001, 2.22375887e-001, 2.70999330e-076,\n",
              "        9.91318621e-001, 6.85794239e-001, 2.95570624e-010, 1.20319566e-001,\n",
              "        1.58816278e-003, 9.78820244e-012, 2.45408776e-011, 6.44137927e-236,\n",
              "        9.49356670e-002, 1.30275502e-001, 8.51221061e-001, 2.14062571e-004,\n",
              "        7.81647050e-001, 1.38342256e-001, 1.04265454e-008, 3.03043104e-010,\n",
              "        2.65038142e-004, 8.40272261e-001, 3.88024810e-013, 3.13360318e-001,\n",
              "        2.92300743e-001, 8.25404000e-001, 5.75149577e-001, 1.63936570e-008,\n",
              "        8.26274811e-002, 8.76430955e-002, 1.15636270e-021, 1.65272271e-001,\n",
              "        7.34525403e-001, 3.85129147e-001, 8.40272261e-001, 5.64665788e-001,\n",
              "        3.21631349e-004, 1.05510242e-010, 3.89543872e-001, 5.13861366e-132,\n",
              "        7.75620853e-001, 8.40272261e-001, 6.40918025e-002, 3.13488487e-001,\n",
              "        4.12985022e-001, 9.27679293e-001, 4.67376148e-001, 7.75620853e-001,\n",
              "        7.27019907e-001, 6.52217335e-001, 8.40272261e-001, 2.46823166e-001,\n",
              "        6.40918025e-002, 3.13488487e-001, 4.12985022e-001, 2.46823166e-001,\n",
              "        8.22659689e-001, 8.40272261e-001, 3.51115027e-007, 2.29882439e-002,\n",
              "        5.27742854e-001, 5.53960924e-001, 5.24704673e-001, 7.22582103e-001,\n",
              "        7.92324034e-001, 5.36786436e-001, 5.55395888e-001, 6.76821048e-001,\n",
              "        5.05763662e-001, 8.40272261e-001, 5.91655298e-001, 3.75247833e-001,\n",
              "        5.83331097e-003, 7.88436376e-001, 8.01982834e-001, 7.70933662e-001,\n",
              "        6.59148764e-001, 7.43336535e-001, 8.40272261e-001, 7.95510942e-001,\n",
              "        7.05668041e-001, 1.02199905e-002, 2.07334048e-002, 4.37877974e-002,\n",
              "        2.32644081e-002, 1.83623524e-001, 1.12079532e-008, 8.37050470e-001,\n",
              "        2.59792443e-010, 5.82283650e-002, 4.64573770e-001, 3.65881999e-001,\n",
              "        9.74330027e-001, 3.53628152e-001, 8.52576626e-002, 2.57503169e-003,\n",
              "        2.22612040e-001, 2.06627957e-010, 1.38459691e-003, 6.42804242e-005,\n",
              "        5.73526054e-001, 1.21231959e-281, 9.41918754e-011, 2.31486271e-014,\n",
              "        3.93160406e-016, 5.02578961e-005, 8.31249209e-003, 7.65930737e-002,\n",
              "        1.40485187e-001, 9.24540980e-001, 7.53970094e-001, 2.14689223e-008,\n",
              "        7.44328065e-008, 6.31399063e-002, 9.89394263e-002, 4.42514178e-008,\n",
              "        1.85107548e-007, 1.11702216e-008, 6.07946835e-008, 2.11662522e-001,\n",
              "        5.53150961e-001, 2.98953021e-005, 3.64988244e-002, 4.20316096e-001,\n",
              "        9.79512316e-001, 8.11935848e-002, 4.53628962e-002, 7.45492565e-001,\n",
              "        3.70351648e-008, 4.17257640e-007, 6.45128370e-005, 9.92743590e-008,\n",
              "        1.73166702e-001, 4.33612509e-001, 1.56850668e-001, 1.89513495e-001,\n",
              "        2.23715305e-006, 1.63691847e-003, 4.13785171e-008, 2.80200720e-008,\n",
              "        2.43924628e-008, 6.98721838e-004, 4.78978125e-010, 1.49268356e-009,\n",
              "        3.58183194e-003, 8.74213323e-002, 2.92840900e-003, 2.75005291e-003,\n",
              "        8.40272261e-001, 8.40272261e-001, 3.51497782e-001, 6.40448500e-001,\n",
              "        3.02331355e-001, 2.60188480e-001, 8.13092149e-001, 8.40272261e-001,\n",
              "        7.86447898e-001, 7.44940224e-001, 3.95804168e-001, 5.20764051e-001,\n",
              "        3.91674933e-001, 3.70059785e-001, 4.31728508e-001, 5.59749261e-001,\n",
              "        3.66551988e-001, 3.50462362e-001, 4.92852040e-006]))"
            ]
          },
          "metadata": {
            "tags": []
          },
          "execution_count": 19
        }
      ]
    },
    {
      "cell_type": "code",
      "metadata": {
        "id": "AXVU0zJKjAxp"
      },
      "source": [
        "p_values = pd.Series(sel[1])\n",
        "p_values.index = x_train_unique.columns"
      ],
      "execution_count": 20,
      "outputs": []
    },
    {
      "cell_type": "code",
      "metadata": {
        "colab": {
          "base_uri": "https://localhost:8080/"
        },
        "id": "DagTyNPwjdZA",
        "outputId": "9a37463c-d882-4c52-fc88-628fe3992310"
      },
      "source": [
        "p_values"
      ],
      "execution_count": 21,
      "outputs": [
        {
          "output_type": "execute_result",
          "data": {
            "text/plain": [
              "0       8.000775e-01\n",
              "1       1.755930e-01\n",
              "2      1.172549e-134\n",
              "3       8.075601e-01\n",
              "4       1.351176e-02\n",
              "           ...      \n",
              "262     4.317285e-01\n",
              "263     5.597493e-01\n",
              "264     3.665520e-01\n",
              "265     3.504624e-01\n",
              "266     4.928520e-06\n",
              "Length: 251, dtype: float64"
            ]
          },
          "metadata": {
            "tags": []
          },
          "execution_count": 21
        }
      ]
    },
    {
      "cell_type": "code",
      "metadata": {
        "id": "WAS1zpK3jdeP"
      },
      "source": [
        "p_values.sort_values(ascending=True,inplace=True)"
      ],
      "execution_count": 22,
      "outputs": []
    },
    {
      "cell_type": "code",
      "metadata": {
        "colab": {
          "base_uri": "https://localhost:8080/",
          "height": 400
        },
        "id": "bam9qw3xjdhA",
        "outputId": "80daf183-e4d4-46f5-fabb-6c88314d8f91"
      },
      "source": [
        "p_values.plot.bar(figsize=(20,6)) # Take only values which has p-values < 0.05"
      ],
      "execution_count": 26,
      "outputs": [
        {
          "output_type": "execute_result",
          "data": {
            "text/plain": [
              "<matplotlib.axes._subplots.AxesSubplot at 0x7f8468d505d0>"
            ]
          },
          "metadata": {
            "tags": []
          },
          "execution_count": 26
        },
        {
          "output_type": "display_data",
          "data": {
            "image/png": "[encoded data removed]",
            "text/plain": [
              "<Figure size 1440x432 with 1 Axes>"
            ]
          },
          "metadata": {
            "tags": [],
            "needs_background": "light"
          }
        }
      ]
    },
    {
      "cell_type": "code",
      "metadata": {
        "id": "HpYIPLB3jdjV"
      },
      "source": [
        "p_values = p_values[p_values <0.05]"
      ],
      "execution_count": 27,
      "outputs": []
    },
    {
      "cell_type": "code",
      "metadata": {
        "colab": {
          "base_uri": "https://localhost:8080/"
        },
        "id": "yOqz5PgDjdl_",
        "outputId": "0f5235aa-2958-4c39-9cbf-a896c28c578e"
      },
      "source": [
        "p_values.index"
      ],
      "execution_count": 28,
      "outputs": [
        {
          "output_type": "execute_result",
          "data": {
            "text/plain": [
              "Int64Index([ 40, 200,  87, 103,  22,  51,   2, 132,  49,  93,\n",
              "            ...\n",
              "              4, 181, 158, 183,  11,  88, 221, 182, 225,  89],\n",
              "           dtype='int64', length=122)"
            ]
          },
          "metadata": {
            "tags": []
          },
          "execution_count": 28
        }
      ]
    },
    {
      "cell_type": "code",
      "metadata": {
        "id": "OTPjkye5jdol"
      },
      "source": [
        "x_train_p = x_train_unique[p_values.index]\n",
        "x_test_p = x_test_unique[p_values.index]"
      ],
      "execution_count": 29,
      "outputs": []
    },
    {
      "cell_type": "code",
      "metadata": {
        "id": "rRU0pyuTjdrO"
      },
      "source": [
        "def run_random_forest(x_train, x_test, y_train, y_test):\n",
        "  clf = RandomForestClassifier()\n",
        "  clf.fit(x_train, y_train)\n",
        "  y_pred = clf.predict(x_test)\n",
        "  print('Model Accuracy on test set: ', accuracy_score(y_test, y_pred))"
      ],
      "execution_count": 30,
      "outputs": []
    },
    {
      "cell_type": "code",
      "metadata": {
        "colab": {
          "base_uri": "https://localhost:8080/"
        },
        "id": "oUoauT1MjA0t",
        "outputId": "503e6ed0-5724-4cf0-cfc5-69a8523255bf"
      },
      "source": [
        "%%time\n",
        "run_random_forest(x_train, x_test, y_train, y_test)"
      ],
      "execution_count": 31,
      "outputs": [
        {
          "output_type": "stream",
          "text": [
            "Model Accuracy on test set:  0.9564588266245725\n",
            "CPU times: user 19.4 s, sys: 24.3 ms, total: 19.5 s\n",
            "Wall time: 19.4 s\n"
          ],
          "name": "stdout"
        }
      ]
    },
    {
      "cell_type": "code",
      "metadata": {
        "colab": {
          "base_uri": "https://localhost:8080/"
        },
        "id": "wNDNn1rmjA4u",
        "outputId": "9352091d-08a3-407b-ddc8-b6a89761fcad"
      },
      "source": [
        "%%time\n",
        "run_random_forest(x_train_p, x_test_p, y_train, y_test)"
      ],
      "execution_count": 32,
      "outputs": [
        {
          "output_type": "stream",
          "text": [
            "Model Accuracy on test set:  0.9510655090765588\n",
            "CPU times: user 13.4 s, sys: 30.1 ms, total: 13.5 s\n",
            "Wall time: 13.5 s\n"
          ],
          "name": "stdout"
        }
      ]
    },
    {
      "cell_type": "code",
      "metadata": {
        "id": "Olh57RXmjA9d"
      },
      "source": [
        ""
      ],
      "execution_count": null,
      "outputs": []
    },
    {
      "cell_type": "code",
      "metadata": {
        "id": "hgBgavJ-jA_6"
      },
      "source": [
        ""
      ],
      "execution_count": null,
      "outputs": []
    },
    {
      "cell_type": "code",
      "metadata": {
        "id": "WlUHv76VjBEv"
      },
      "source": [
        ""
      ],
      "execution_count": null,
      "outputs": []
    },
    {
      "cell_type": "code",
      "metadata": {
        "id": "8C-OuMT_jBIa"
      },
      "source": [
        ""
      ],
      "execution_count": null,
      "outputs": []
    },
    {
      "cell_type": "code",
      "metadata": {
        "id": "wxUFOi0PjBOL"
      },
      "source": [
        ""
      ],
      "execution_count": null,
      "outputs": []
    },
    {
      "cell_type": "code",
      "metadata": {
        "id": "eDiKFbd0jBSE"
      },
      "source": [
        ""
      ],
      "execution_count": null,
      "outputs": []
    },
    {
      "cell_type": "code",
      "metadata": {
        "id": "FVOyIdI6jBVq"
      },
      "source": [
        ""
      ],
      "execution_count": null,
      "outputs": []
    }
  ]
}