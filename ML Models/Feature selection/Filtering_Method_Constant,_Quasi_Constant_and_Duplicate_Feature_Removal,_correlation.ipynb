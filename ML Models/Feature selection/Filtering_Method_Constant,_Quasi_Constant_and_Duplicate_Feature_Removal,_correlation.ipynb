{
  "nbformat": 4,
  "nbformat_minor": 0,
  "metadata": {
    "colab": {
      "name": "Filtering Method- Constant, Quasi Constant and Duplicate Feature Removal, correlation.ipynb",
      "provenance": [],
      "collapsed_sections": []
    },
    "kernelspec": {
      "name": "python3",
      "display_name": "Python 3"
    },
    "language_info": {
      "name": "python"
    }
  },
  "cells": [
    {
      "cell_type": "code",
      "metadata": {
        "colab": {
          "base_uri": "https://localhost:8080/"
        },
        "id": "aRYzsacv5nEm",
        "outputId": "754c2da3-56fc-43fd-acc8-14aecb3e9347"
      },
      "source": [
        "!git clone https://github.com/laxmimerit/Data-Files-for-Feature-Selection.git"
      ],
      "execution_count": 1,
      "outputs": [
        {
          "output_type": "stream",
          "text": [
            "Cloning into 'Data-Files-for-Feature-Selection'...\n",
            "remote: Enumerating objects: 17, done.\u001b[K\n",
            "remote: Total 17 (delta 0), reused 0 (delta 0), pack-reused 17\u001b[K\n",
            "Unpacking objects: 100% (17/17), done.\n"
          ],
          "name": "stdout"
        }
      ]
    },
    {
      "cell_type": "code",
      "metadata": {
        "id": "aBoa-46SLXEw"
      },
      "source": [
        "import numpy as np\n",
        "import pandas as pd\n",
        "import matplotlib.pyplot as plt\n",
        "import seaborn as sns"
      ],
      "execution_count": 2,
      "outputs": []
    },
    {
      "cell_type": "code",
      "metadata": {
        "id": "vH7cwiF8L03M"
      },
      "source": [
        "from sklearn.model_selection  import train_test_split\n",
        "from sklearn.ensemble import RandomForestClassifier\n",
        "from sklearn.metrics import accuracy_score\n",
        "from sklearn.feature_selection import VarianceThreshold"
      ],
      "execution_count": 3,
      "outputs": []
    },
    {
      "cell_type": "code",
      "metadata": {
        "id": "4ZiYFHYsMC-w"
      },
      "source": [
        "data = pd.read_csv('/content/Data-Files-for-Feature-Selection/santander-train.csv')"
      ],
      "execution_count": 4,
      "outputs": []
    },
    {
      "cell_type": "code",
      "metadata": {
        "colab": {
          "base_uri": "https://localhost:8080/"
        },
        "id": "iOKG68ZjMryt",
        "outputId": "cd8c548f-ae22-4145-dbf3-a614b9dbeab1"
      },
      "source": [
        "data.shape"
      ],
      "execution_count": 5,
      "outputs": [
        {
          "output_type": "execute_result",
          "data": {
            "text/plain": [
              "(76020, 371)"
            ]
          },
          "metadata": {
            "tags": []
          },
          "execution_count": 5
        }
      ]
    },
    {
      "cell_type": "code",
      "metadata": {
        "id": "aypk_IzQMtJ_"
      },
      "source": [
        "X = data.drop('TARGET',axis=1)\n",
        "Y = data['TARGET']"
      ],
      "execution_count": 6,
      "outputs": []
    },
    {
      "cell_type": "code",
      "metadata": {
        "colab": {
          "base_uri": "https://localhost:8080/"
        },
        "id": "3sYP2YhaNDZC",
        "outputId": "de844d24-fae3-475b-e23e-33858ab5b642"
      },
      "source": [
        "X.shape, Y.shape"
      ],
      "execution_count": 7,
      "outputs": [
        {
          "output_type": "execute_result",
          "data": {
            "text/plain": [
              "((76020, 370), (76020,))"
            ]
          },
          "metadata": {
            "tags": []
          },
          "execution_count": 7
        }
      ]
    },
    {
      "cell_type": "code",
      "metadata": {
        "id": "3IgAqq6SNEzR"
      },
      "source": [
        "x_train, x_test, y_train, y_test = train_test_split(X, Y, test_size=0.2, random_state=0)"
      ],
      "execution_count": 8,
      "outputs": []
    },
    {
      "cell_type": "markdown",
      "metadata": {
        "id": "b95av9o4NmoG"
      },
      "source": [
        "Constant feature removal"
      ]
    },
    {
      "cell_type": "code",
      "metadata": {
        "colab": {
          "base_uri": "https://localhost:8080/"
        },
        "id": "E6uZuVK1NX8b",
        "outputId": "905b8908-22a5-4c64-9600-0125e5078bac"
      },
      "source": [
        "constant_filter = VarianceThreshold(threshold=0)\n",
        "constant_filter.fit(x_train)"
      ],
      "execution_count": 9,
      "outputs": [
        {
          "output_type": "execute_result",
          "data": {
            "text/plain": [
              "VarianceThreshold(threshold=0)"
            ]
          },
          "metadata": {
            "tags": []
          },
          "execution_count": 9
        }
      ]
    },
    {
      "cell_type": "code",
      "metadata": {
        "colab": {
          "base_uri": "https://localhost:8080/"
        },
        "id": "m9j34Q2oN2-U",
        "outputId": "43f4db45-822a-4d0a-8bc4-7dd8b965b199"
      },
      "source": [
        "constant_filter.get_support().sum() # number of features left after removing the constant features"
      ],
      "execution_count": 10,
      "outputs": [
        {
          "output_type": "execute_result",
          "data": {
            "text/plain": [
              "332"
            ]
          },
          "metadata": {
            "tags": []
          },
          "execution_count": 10
        }
      ]
    },
    {
      "cell_type": "code",
      "metadata": {
        "id": "I4ePCQwNN87f"
      },
      "source": [
        "constant_list = [not temp for temp in constant_filter.get_support()]"
      ],
      "execution_count": 11,
      "outputs": []
    },
    {
      "cell_type": "code",
      "metadata": {
        "colab": {
          "base_uri": "https://localhost:8080/"
        },
        "id": "fely0PKzORdg",
        "outputId": "59daf7ed-bc38-4750-e598-01a2f28b2253"
      },
      "source": [
        "X.columns[constant_list]"
      ],
      "execution_count": 12,
      "outputs": [
        {
          "output_type": "execute_result",
          "data": {
            "text/plain": [
              "Index(['ind_var2_0', 'ind_var2', 'ind_var27_0', 'ind_var28_0', 'ind_var28',\n",
              "       'ind_var27', 'ind_var41', 'ind_var46_0', 'ind_var46', 'num_var27_0',\n",
              "       'num_var28_0', 'num_var28', 'num_var27', 'num_var41', 'num_var46_0',\n",
              "       'num_var46', 'saldo_var28', 'saldo_var27', 'saldo_var41', 'saldo_var46',\n",
              "       'delta_imp_reemb_var33_1y3', 'delta_num_reemb_var33_1y3',\n",
              "       'imp_amort_var18_hace3', 'imp_amort_var34_hace3',\n",
              "       'imp_reemb_var13_hace3', 'imp_reemb_var33_hace3',\n",
              "       'imp_reemb_var33_ult1', 'imp_trasp_var17_out_hace3',\n",
              "       'imp_trasp_var33_out_hace3', 'num_var2_0_ult1', 'num_var2_ult1',\n",
              "       'num_reemb_var13_hace3', 'num_reemb_var33_hace3',\n",
              "       'num_reemb_var33_ult1', 'num_trasp_var17_out_hace3',\n",
              "       'num_trasp_var33_out_hace3', 'saldo_var2_ult1',\n",
              "       'saldo_medio_var13_medio_hace3'],\n",
              "      dtype='object')"
            ]
          },
          "metadata": {
            "tags": []
          },
          "execution_count": 12
        }
      ]
    },
    {
      "cell_type": "code",
      "metadata": {
        "colab": {
          "base_uri": "https://localhost:8080/"
        },
        "id": "ucI1svdSOT-y",
        "outputId": "2b38028e-39e8-42a4-ad57-9f9136b4bf1a"
      },
      "source": [
        "x_train.shape, x_test.shape"
      ],
      "execution_count": 13,
      "outputs": [
        {
          "output_type": "execute_result",
          "data": {
            "text/plain": [
              "((60816, 370), (15204, 370))"
            ]
          },
          "metadata": {
            "tags": []
          },
          "execution_count": 13
        }
      ]
    },
    {
      "cell_type": "code",
      "metadata": {
        "id": "VtY7R2XtOdQi"
      },
      "source": [
        "x_train_filter = constant_filter.transform(x_train)\n",
        "x_test_filter = constant_filter.transform(x_test)"
      ],
      "execution_count": 14,
      "outputs": []
    },
    {
      "cell_type": "code",
      "metadata": {
        "colab": {
          "base_uri": "https://localhost:8080/"
        },
        "id": "iUUH-ps1OowL",
        "outputId": "4925245a-4e11-4527-ca8e-4e16bb1677a9"
      },
      "source": [
        "x_train_filter.shape, x_test_filter.shape"
      ],
      "execution_count": 15,
      "outputs": [
        {
          "output_type": "execute_result",
          "data": {
            "text/plain": [
              "((60816, 332), (15204, 332))"
            ]
          },
          "metadata": {
            "tags": []
          },
          "execution_count": 15
        }
      ]
    },
    {
      "cell_type": "markdown",
      "metadata": {
        "id": "BxncY7QRO_vB"
      },
      "source": [
        "**Removal of Quasi constant features**"
      ]
    },
    {
      "cell_type": "code",
      "metadata": {
        "id": "u3ROb5ObOp_E"
      },
      "source": [
        "# These features have same value for very large value of the subset of the data"
      ],
      "execution_count": 16,
      "outputs": []
    },
    {
      "cell_type": "code",
      "metadata": {
        "id": "0wLU7wWrPPAG"
      },
      "source": [
        "#Widely used is 0.01 variance i.e 1% of non-similarity i.e 99% similar data"
      ],
      "execution_count": 17,
      "outputs": []
    },
    {
      "cell_type": "code",
      "metadata": {
        "colab": {
          "base_uri": "https://localhost:8080/"
        },
        "id": "6WjT3NgaPVkG",
        "outputId": "a0b3009c-c70c-476b-b888-6ec1b14aee66"
      },
      "source": [
        "quasi_constant_filter = VarianceThreshold(threshold=0.01)\n",
        "quasi_constant_filter.fit(x_train_filter)"
      ],
      "execution_count": 18,
      "outputs": [
        {
          "output_type": "execute_result",
          "data": {
            "text/plain": [
              "VarianceThreshold(threshold=0.01)"
            ]
          },
          "metadata": {
            "tags": []
          },
          "execution_count": 18
        }
      ]
    },
    {
      "cell_type": "code",
      "metadata": {
        "colab": {
          "base_uri": "https://localhost:8080/"
        },
        "id": "cW9HJFkZPsNl",
        "outputId": "8b6c0742-6d3e-4d85-e51c-93650ed79b26"
      },
      "source": [
        "quasi_constant_filter.get_support().sum()"
      ],
      "execution_count": 19,
      "outputs": [
        {
          "output_type": "execute_result",
          "data": {
            "text/plain": [
              "267"
            ]
          },
          "metadata": {
            "tags": []
          },
          "execution_count": 19
        }
      ]
    },
    {
      "cell_type": "code",
      "metadata": {
        "id": "1DxQCg4EPuQG"
      },
      "source": [
        "x_train_quasi_filter = quasi_constant_filter.transform(x_train_filter)\n",
        "x_test_quasi_filter = quasi_constant_filter.transform(x_test_filter)"
      ],
      "execution_count": 20,
      "outputs": []
    },
    {
      "cell_type": "code",
      "metadata": {
        "colab": {
          "base_uri": "https://localhost:8080/"
        },
        "id": "Vbew39cUQB1-",
        "outputId": "73646143-5a80-47eb-ac8e-12b38c97cd3d"
      },
      "source": [
        "x_train_quasi_filter.shape, x_test_quasi_filter.shape"
      ],
      "execution_count": 21,
      "outputs": [
        {
          "output_type": "execute_result",
          "data": {
            "text/plain": [
              "((60816, 267), (15204, 267))"
            ]
          },
          "metadata": {
            "tags": []
          },
          "execution_count": 21
        }
      ]
    },
    {
      "cell_type": "markdown",
      "metadata": {
        "id": "GCEMpp-zQXA3"
      },
      "source": [
        "**Remove duplicate features**"
      ]
    },
    {
      "cell_type": "code",
      "metadata": {
        "id": "AyXwK_29QOVt"
      },
      "source": [
        "x_train_T = x_train_quasi_filter.T\n",
        "x_test_T = x_test_quasi_filter.T"
      ],
      "execution_count": 22,
      "outputs": []
    },
    {
      "cell_type": "code",
      "metadata": {
        "colab": {
          "base_uri": "https://localhost:8080/"
        },
        "id": "Pi5HAr7VQaHe",
        "outputId": "d0c16cd2-7ac5-4ba1-ae16-bbd01c06808d"
      },
      "source": [
        "type(x_train_T)"
      ],
      "execution_count": 23,
      "outputs": [
        {
          "output_type": "execute_result",
          "data": {
            "text/plain": [
              "numpy.ndarray"
            ]
          },
          "metadata": {
            "tags": []
          },
          "execution_count": 23
        }
      ]
    },
    {
      "cell_type": "code",
      "metadata": {
        "id": "3KsC4NGpQaKR"
      },
      "source": [
        "x_train_T = pd.DataFrame(x_train_T)\n",
        "x_test_T = pd.DataFrame(x_test_T)"
      ],
      "execution_count": 24,
      "outputs": []
    },
    {
      "cell_type": "code",
      "metadata": {
        "colab": {
          "base_uri": "https://localhost:8080/"
        },
        "id": "dVcHkETMQaNR",
        "outputId": "fa4a2ce9-9d0b-45bf-e801-1584a5fd40ad"
      },
      "source": [
        "x_train_T.shape, x_test_T.shape"
      ],
      "execution_count": 25,
      "outputs": [
        {
          "output_type": "execute_result",
          "data": {
            "text/plain": [
              "((267, 60816), (267, 15204))"
            ]
          },
          "metadata": {
            "tags": []
          },
          "execution_count": 25
        }
      ]
    },
    {
      "cell_type": "code",
      "metadata": {
        "colab": {
          "base_uri": "https://localhost:8080/"
        },
        "id": "yHOkkG3qQaQb",
        "outputId": "cf503dac-a178-4db2-f94b-0adc9dda990d"
      },
      "source": [
        "x_train_T.duplicated().sum()"
      ],
      "execution_count": 26,
      "outputs": [
        {
          "output_type": "execute_result",
          "data": {
            "text/plain": [
              "16"
            ]
          },
          "metadata": {
            "tags": []
          },
          "execution_count": 26
        }
      ]
    },
    {
      "cell_type": "code",
      "metadata": {
        "colab": {
          "base_uri": "https://localhost:8080/"
        },
        "id": "Y-MtZJcCQaT2",
        "outputId": "bd7b2ec9-d0b2-41c6-d106-eea177e6df4c"
      },
      "source": [
        "duplicated_features = x_train_T.duplicated()\n",
        "duplicated_features"
      ],
      "execution_count": 27,
      "outputs": [
        {
          "output_type": "execute_result",
          "data": {
            "text/plain": [
              "0      False\n",
              "1      False\n",
              "2      False\n",
              "3      False\n",
              "4      False\n",
              "       ...  \n",
              "262    False\n",
              "263    False\n",
              "264    False\n",
              "265    False\n",
              "266    False\n",
              "Length: 267, dtype: bool"
            ]
          },
          "metadata": {
            "tags": []
          },
          "execution_count": 27
        }
      ]
    },
    {
      "cell_type": "code",
      "metadata": {
        "colab": {
          "base_uri": "https://localhost:8080/"
        },
        "id": "apc3hmyZQaWy",
        "outputId": "30dcd6cb-9823-4372-83a7-fcca178c8d7a"
      },
      "source": [
        "features_to_keep = [not index for index in duplicated_features]\n",
        "features_to_keep"
      ],
      "execution_count": 28,
      "outputs": [
        {
          "output_type": "execute_result",
          "data": {
            "text/plain": [
              "[True,\n",
              " True,\n",
              " True,\n",
              " True,\n",
              " True,\n",
              " True,\n",
              " True,\n",
              " True,\n",
              " True,\n",
              " True,\n",
              " True,\n",
              " True,\n",
              " True,\n",
              " True,\n",
              " True,\n",
              " True,\n",
              " True,\n",
              " True,\n",
              " True,\n",
              " True,\n",
              " True,\n",
              " True,\n",
              " True,\n",
              " True,\n",
              " True,\n",
              " True,\n",
              " True,\n",
              " True,\n",
              " True,\n",
              " True,\n",
              " True,\n",
              " True,\n",
              " True,\n",
              " True,\n",
              " True,\n",
              " True,\n",
              " True,\n",
              " False,\n",
              " True,\n",
              " False,\n",
              " True,\n",
              " True,\n",
              " True,\n",
              " False,\n",
              " True,\n",
              " True,\n",
              " True,\n",
              " True,\n",
              " True,\n",
              " True,\n",
              " True,\n",
              " True,\n",
              " True,\n",
              " True,\n",
              " True,\n",
              " True,\n",
              " True,\n",
              " True,\n",
              " True,\n",
              " True,\n",
              " True,\n",
              " True,\n",
              " True,\n",
              " True,\n",
              " True,\n",
              " True,\n",
              " True,\n",
              " True,\n",
              " True,\n",
              " True,\n",
              " True,\n",
              " False,\n",
              " True,\n",
              " False,\n",
              " True,\n",
              " True,\n",
              " True,\n",
              " True,\n",
              " True,\n",
              " True,\n",
              " True,\n",
              " True,\n",
              " True,\n",
              " True,\n",
              " True,\n",
              " True,\n",
              " True,\n",
              " True,\n",
              " True,\n",
              " True,\n",
              " True,\n",
              " False,\n",
              " True,\n",
              " True,\n",
              " True,\n",
              " True,\n",
              " False,\n",
              " True,\n",
              " True,\n",
              " True,\n",
              " True,\n",
              " False,\n",
              " True,\n",
              " True,\n",
              " True,\n",
              " True,\n",
              " True,\n",
              " True,\n",
              " True,\n",
              " True,\n",
              " True,\n",
              " True,\n",
              " True,\n",
              " True,\n",
              " True,\n",
              " True,\n",
              " True,\n",
              " True,\n",
              " True,\n",
              " True,\n",
              " True,\n",
              " True,\n",
              " False,\n",
              " True,\n",
              " True,\n",
              " True,\n",
              " True,\n",
              " True,\n",
              " True,\n",
              " True,\n",
              " True,\n",
              " True,\n",
              " True,\n",
              " True,\n",
              " True,\n",
              " True,\n",
              " True,\n",
              " True,\n",
              " True,\n",
              " True,\n",
              " True,\n",
              " True,\n",
              " True,\n",
              " True,\n",
              " True,\n",
              " True,\n",
              " True,\n",
              " True,\n",
              " False,\n",
              " False,\n",
              " False,\n",
              " False,\n",
              " False,\n",
              " False,\n",
              " True,\n",
              " True,\n",
              " True,\n",
              " True,\n",
              " True,\n",
              " True,\n",
              " True,\n",
              " True,\n",
              " True,\n",
              " True,\n",
              " True,\n",
              " True,\n",
              " True,\n",
              " True,\n",
              " True,\n",
              " True,\n",
              " True,\n",
              " True,\n",
              " True,\n",
              " True,\n",
              " True,\n",
              " True,\n",
              " True,\n",
              " True,\n",
              " True,\n",
              " True,\n",
              " True,\n",
              " True,\n",
              " True,\n",
              " True,\n",
              " True,\n",
              " True,\n",
              " True,\n",
              " True,\n",
              " True,\n",
              " True,\n",
              " True,\n",
              " True,\n",
              " True,\n",
              " True,\n",
              " True,\n",
              " True,\n",
              " True,\n",
              " True,\n",
              " True,\n",
              " True,\n",
              " True,\n",
              " True,\n",
              " True,\n",
              " True,\n",
              " True,\n",
              " True,\n",
              " True,\n",
              " True,\n",
              " True,\n",
              " True,\n",
              " True,\n",
              " True,\n",
              " True,\n",
              " True,\n",
              " True,\n",
              " True,\n",
              " True,\n",
              " True,\n",
              " True,\n",
              " True,\n",
              " True,\n",
              " True,\n",
              " True,\n",
              " True,\n",
              " True,\n",
              " True,\n",
              " True,\n",
              " True,\n",
              " True,\n",
              " True,\n",
              " True,\n",
              " True,\n",
              " True,\n",
              " True,\n",
              " True,\n",
              " True,\n",
              " True,\n",
              " True,\n",
              " True,\n",
              " True,\n",
              " True,\n",
              " True,\n",
              " True,\n",
              " True,\n",
              " True,\n",
              " True,\n",
              " True,\n",
              " True,\n",
              " False,\n",
              " True,\n",
              " True,\n",
              " True,\n",
              " True,\n",
              " True,\n",
              " True,\n",
              " True,\n",
              " True,\n",
              " True,\n",
              " True,\n",
              " True,\n",
              " True,\n",
              " True,\n",
              " True,\n",
              " True,\n",
              " True,\n",
              " True,\n",
              " True]"
            ]
          },
          "metadata": {
            "tags": []
          },
          "execution_count": 28
        }
      ]
    },
    {
      "cell_type": "code",
      "metadata": {
        "id": "mUBKeQ9xQaY2"
      },
      "source": [
        "x_train_unique = x_train_T[features_to_keep].T\n",
        "x_test_unique = x_test_T[features_to_keep].T"
      ],
      "execution_count": 29,
      "outputs": []
    },
    {
      "cell_type": "code",
      "metadata": {
        "colab": {
          "base_uri": "https://localhost:8080/"
        },
        "id": "S_W-GOQkQaas",
        "outputId": "43453038-41c4-4aed-8a82-4e8d196df6af"
      },
      "source": [
        "x_train_unique.shape, x_test_unique.shape"
      ],
      "execution_count": 30,
      "outputs": [
        {
          "output_type": "execute_result",
          "data": {
            "text/plain": [
              "((60816, 251), (15204, 251))"
            ]
          },
          "metadata": {
            "tags": []
          },
          "execution_count": 30
        }
      ]
    },
    {
      "cell_type": "code",
      "metadata": {
        "colab": {
          "base_uri": "https://localhost:8080/"
        },
        "id": "ymXkZXdcQaco",
        "outputId": "24e4ba21-a9ae-43b2-b1ea-0b3cc380981e"
      },
      "source": [
        "x_train.shape, x_test.shape"
      ],
      "execution_count": 31,
      "outputs": [
        {
          "output_type": "execute_result",
          "data": {
            "text/plain": [
              "((60816, 370), (15204, 370))"
            ]
          },
          "metadata": {
            "tags": []
          },
          "execution_count": 31
        }
      ]
    },
    {
      "cell_type": "markdown",
      "metadata": {
        "id": "jYNCzjTSX3Rr"
      },
      "source": [
        "**Build a model and compare performance**"
      ]
    },
    {
      "cell_type": "code",
      "metadata": {
        "id": "C4h9P5BTQaez"
      },
      "source": [
        "def run_random_forest(x_train, x_test, y_train, y_test):\n",
        "  clf = RandomForestClassifier(n_estimators=100, random_state=0, n_jobs=-1)\n",
        "  clf.fit(x_train, y_train)\n",
        "  y_pred = clf.predict(x_test)\n",
        "  print('Accuracy on test set: ', accuracy_score(y_test, y_pred))"
      ],
      "execution_count": 32,
      "outputs": []
    },
    {
      "cell_type": "code",
      "metadata": {
        "colab": {
          "base_uri": "https://localhost:8080/"
        },
        "id": "oDywR6BsYjWq",
        "outputId": "7b6639d1-620b-4b54-f1b5-64fd182c89af"
      },
      "source": [
        "%%time\n",
        "run_random_forest(x_train_unique, x_test_unique, y_train, y_test)"
      ],
      "execution_count": 33,
      "outputs": [
        {
          "output_type": "stream",
          "text": [
            "Accuracy on test set:  0.9565903709550119\n",
            "CPU times: user 29.6 s, sys: 93.7 ms, total: 29.7 s\n",
            "Wall time: 15.4 s\n"
          ],
          "name": "stdout"
        }
      ]
    },
    {
      "cell_type": "code",
      "metadata": {
        "colab": {
          "base_uri": "https://localhost:8080/"
        },
        "id": "CHokQpkZYryK",
        "outputId": "a5e7c596-9ef6-4f31-ea19-5a4f89531dca"
      },
      "source": [
        "%%time\n",
        "run_random_forest(x_train, x_test, y_train, y_test)"
      ],
      "execution_count": 34,
      "outputs": [
        {
          "output_type": "stream",
          "text": [
            "Accuracy on test set:  0.9570507761115495\n",
            "CPU times: user 34.2 s, sys: 122 ms, total: 34.3 s\n",
            "Wall time: 17.7 s\n"
          ],
          "name": "stdout"
        }
      ]
    },
    {
      "cell_type": "code",
      "metadata": {
        "id": "2pJdHrZRY-B_"
      },
      "source": [
        "corrmat = x_train_unique.corr()"
      ],
      "execution_count": 35,
      "outputs": []
    },
    {
      "cell_type": "code",
      "metadata": {
        "colab": {
          "base_uri": "https://localhost:8080/",
          "height": 513
        },
        "id": "OjrezAPUJdSj",
        "outputId": "3129f6cb-9c01-4238-db4d-3c747a44bff4"
      },
      "source": [
        "plt.figure(figsize=(12,8))\n",
        "sns.heatmap(corrmat)\n",
        "#black are negative correlations and white are positive correlations"
      ],
      "execution_count": 36,
      "outputs": [
        {
          "output_type": "execute_result",
          "data": {
            "text/plain": [
              "<matplotlib.axes._subplots.AxesSubplot at 0x7f918cee9a10>"
            ]
          },
          "metadata": {
            "tags": []
          },
          "execution_count": 36
        },
        {
          "output_type": "display_data",
          "data": {
            "image/png": "[encoded data removed]",
            "text/plain": [
              "<Figure size 864x576 with 2 Axes>"
            ]
          },
          "metadata": {
            "tags": [],
            "needs_background": "light"
          }
        }
      ]
    },
    {
      "cell_type": "code",
      "metadata": {
        "id": "aIn3u7EnJkj0"
      },
      "source": [
        "# select features which are more than 85% correlated\n",
        "def get_correlation(data, treshold):\n",
        "  corr_col = set()\n",
        "  corrmat = data.corr()\n",
        "  for i in range(len(corrmat.columns)): # since we compared 0 and 1, we do not need to compare 1 and 0\n",
        "    for j in range(i):\n",
        "      if abs(corrmat.iloc[i, j]) >treshold:\n",
        "        colname = corrmat.columns[i]\n",
        "        corr_col.add(colname)\n",
        "  return corr_col"
      ],
      "execution_count": 37,
      "outputs": []
    },
    {
      "cell_type": "code",
      "metadata": {
        "colab": {
          "base_uri": "https://localhost:8080/"
        },
        "id": "HeGaoftuJybL",
        "outputId": "c5e5c360-cbdd-483b-8666-b2edaacc15e5"
      },
      "source": [
        "corr_features = get_correlation(x_train_unique, 0.85)\n",
        "corr_features"
      ],
      "execution_count": 38,
      "outputs": [
        {
          "output_type": "execute_result",
          "data": {
            "text/plain": [
              "{5,\n",
              " 7,\n",
              " 9,\n",
              " 11,\n",
              " 12,\n",
              " 15,\n",
              " 16,\n",
              " 17,\n",
              " 18,\n",
              " 23,\n",
              " 24,\n",
              " 28,\n",
              " 29,\n",
              " 30,\n",
              " 32,\n",
              " 33,\n",
              " 35,\n",
              " 36,\n",
              " 38,\n",
              " 42,\n",
              " 45,\n",
              " 46,\n",
              " 47,\n",
              " 50,\n",
              " 51,\n",
              " 52,\n",
              " 53,\n",
              " 54,\n",
              " 55,\n",
              " 56,\n",
              " 57,\n",
              " 58,\n",
              " 60,\n",
              " 61,\n",
              " 62,\n",
              " 65,\n",
              " 67,\n",
              " 68,\n",
              " 69,\n",
              " 70,\n",
              " 72,\n",
              " 77,\n",
              " 81,\n",
              " 82,\n",
              " 83,\n",
              " 84,\n",
              " 85,\n",
              " 87,\n",
              " 88,\n",
              " 89,\n",
              " 93,\n",
              " 95,\n",
              " 97,\n",
              " 98,\n",
              " 99,\n",
              " 100,\n",
              " 102,\n",
              " 103,\n",
              " 105,\n",
              " 114,\n",
              " 117,\n",
              " 119,\n",
              " 121,\n",
              " 125,\n",
              " 129,\n",
              " 130,\n",
              " 134,\n",
              " 145,\n",
              " 146,\n",
              " 147,\n",
              " 154,\n",
              " 155,\n",
              " 156,\n",
              " 173,\n",
              " 177,\n",
              " 179,\n",
              " 180,\n",
              " 181,\n",
              " 182,\n",
              " 183,\n",
              " 198,\n",
              " 200,\n",
              " 201,\n",
              " 202,\n",
              " 203,\n",
              " 206,\n",
              " 207,\n",
              " 209,\n",
              " 210,\n",
              " 211,\n",
              " 212,\n",
              " 213,\n",
              " 215,\n",
              " 216,\n",
              " 217,\n",
              " 223,\n",
              " 225,\n",
              " 226,\n",
              " 229,\n",
              " 230,\n",
              " 233,\n",
              " 234,\n",
              " 235,\n",
              " 237,\n",
              " 238,\n",
              " 239,\n",
              " 241,\n",
              " 242,\n",
              " 245,\n",
              " 246,\n",
              " 247,\n",
              " 249,\n",
              " 252,\n",
              " 253,\n",
              " 256,\n",
              " 257,\n",
              " 258,\n",
              " 260,\n",
              " 261,\n",
              " 264,\n",
              " 265}"
            ]
          },
          "metadata": {
            "tags": []
          },
          "execution_count": 38
        }
      ]
    },
    {
      "cell_type": "code",
      "metadata": {
        "colab": {
          "base_uri": "https://localhost:8080/"
        },
        "id": "uyt_7LjbJydm",
        "outputId": "5f919842-e90a-4f18-e4de-5ade17f7d8d2"
      },
      "source": [
        "len(corr_features)"
      ],
      "execution_count": 39,
      "outputs": [
        {
          "output_type": "execute_result",
          "data": {
            "text/plain": [
              "121"
            ]
          },
          "metadata": {
            "tags": []
          },
          "execution_count": 39
        }
      ]
    },
    {
      "cell_type": "code",
      "metadata": {
        "id": "3MyL2FWPJyiX"
      },
      "source": [
        "x_train_uncor = x_train_unique.drop(labels=corr_features, axis=1)\n",
        "x_test_uncor = x_test_unique.drop(labels=corr_features, axis=1)"
      ],
      "execution_count": 40,
      "outputs": []
    },
    {
      "cell_type": "code",
      "metadata": {
        "colab": {
          "base_uri": "https://localhost:8080/"
        },
        "id": "fwl28C7aJyk4",
        "outputId": "27d07d31-4c70-4e33-ecd4-e0eac72e2313"
      },
      "source": [
        "x_train_uncor.shape, x_test_uncor.shape"
      ],
      "execution_count": 41,
      "outputs": [
        {
          "output_type": "execute_result",
          "data": {
            "text/plain": [
              "((60816, 130), (15204, 130))"
            ]
          },
          "metadata": {
            "tags": []
          },
          "execution_count": 41
        }
      ]
    },
    {
      "cell_type": "code",
      "metadata": {
        "colab": {
          "base_uri": "https://localhost:8080/"
        },
        "id": "eq6J9ZOTJyne",
        "outputId": "716b99ad-e405-450d-d2cb-5c89b19f3031"
      },
      "source": [
        "%%time\n",
        "run_random_forest(x_train_uncor, x_test_uncor, y_train, y_test)"
      ],
      "execution_count": 42,
      "outputs": [
        {
          "output_type": "stream",
          "text": [
            "Accuracy on test set:  0.9565903709550119\n",
            "CPU times: user 20.8 s, sys: 84.5 ms, total: 20.9 s\n",
            "Wall time: 10.9 s\n"
          ],
          "name": "stdout"
        }
      ]
    },
    {
      "cell_type": "markdown",
      "metadata": {
        "id": "G2KSFjIEjkef"
      },
      "source": [
        "**Feature grouping and feature importance**"
      ]
    },
    {
      "cell_type": "code",
      "metadata": {
        "colab": {
          "base_uri": "https://localhost:8080/",
          "height": 439
        },
        "id": "7UWt1exyJyqI",
        "outputId": "b0565403-999c-4bec-e15e-288ff4ec3b0c"
      },
      "source": [
        "corrmat"
      ],
      "execution_count": 43,
      "outputs": [
        {
          "output_type": "execute_result",
          "data": {
            "text/html": [
              "<div>\n",
              "<style scoped>\n",
              "    .dataframe tbody tr th:only-of-type {\n",
              "        vertical-align: middle;\n",
              "    }\n",
              "\n",
              "    .dataframe tbody tr th {\n",
              "        vertical-align: top;\n",
              "    }\n",
              "\n",
              "    .dataframe thead th {\n",
              "        text-align: right;\n",
              "    }\n",
              "</style>\n",
              "<table border=\"1\" class=\"dataframe\">\n",
              "  <thead>\n",
              "    <tr style=\"text-align: right;\">\n",
              "      <th></th>\n",
              "      <th>0</th>\n",
              "      <th>1</th>\n",
              "      <th>2</th>\n",
              "      <th>3</th>\n",
              "      <th>4</th>\n",
              "      <th>5</th>\n",
              "      <th>6</th>\n",
              "      <th>7</th>\n",
              "      <th>8</th>\n",
              "      <th>9</th>\n",
              "      <th>10</th>\n",
              "      <th>11</th>\n",
              "      <th>12</th>\n",
              "      <th>13</th>\n",
              "      <th>14</th>\n",
              "      <th>15</th>\n",
              "      <th>16</th>\n",
              "      <th>17</th>\n",
              "      <th>18</th>\n",
              "      <th>19</th>\n",
              "      <th>20</th>\n",
              "      <th>21</th>\n",
              "      <th>22</th>\n",
              "      <th>23</th>\n",
              "      <th>24</th>\n",
              "      <th>25</th>\n",
              "      <th>26</th>\n",
              "      <th>27</th>\n",
              "      <th>28</th>\n",
              "      <th>29</th>\n",
              "      <th>30</th>\n",
              "      <th>31</th>\n",
              "      <th>32</th>\n",
              "      <th>33</th>\n",
              "      <th>34</th>\n",
              "      <th>35</th>\n",
              "      <th>36</th>\n",
              "      <th>38</th>\n",
              "      <th>40</th>\n",
              "      <th>41</th>\n",
              "      <th>...</th>\n",
              "      <th>226</th>\n",
              "      <th>227</th>\n",
              "      <th>228</th>\n",
              "      <th>229</th>\n",
              "      <th>230</th>\n",
              "      <th>231</th>\n",
              "      <th>232</th>\n",
              "      <th>233</th>\n",
              "      <th>234</th>\n",
              "      <th>235</th>\n",
              "      <th>236</th>\n",
              "      <th>237</th>\n",
              "      <th>238</th>\n",
              "      <th>239</th>\n",
              "      <th>240</th>\n",
              "      <th>241</th>\n",
              "      <th>242</th>\n",
              "      <th>243</th>\n",
              "      <th>244</th>\n",
              "      <th>245</th>\n",
              "      <th>246</th>\n",
              "      <th>247</th>\n",
              "      <th>249</th>\n",
              "      <th>250</th>\n",
              "      <th>251</th>\n",
              "      <th>252</th>\n",
              "      <th>253</th>\n",
              "      <th>254</th>\n",
              "      <th>255</th>\n",
              "      <th>256</th>\n",
              "      <th>257</th>\n",
              "      <th>258</th>\n",
              "      <th>259</th>\n",
              "      <th>260</th>\n",
              "      <th>261</th>\n",
              "      <th>262</th>\n",
              "      <th>263</th>\n",
              "      <th>264</th>\n",
              "      <th>265</th>\n",
              "      <th>266</th>\n",
              "    </tr>\n",
              "  </thead>\n",
              "  <tbody>\n",
              "    <tr>\n",
              "      <th>0</th>\n",
              "      <td>1.000000</td>\n",
              "      <td>-0.003355</td>\n",
              "      <td>-0.003030</td>\n",
              "      <td>-0.002841</td>\n",
              "      <td>-0.000182</td>\n",
              "      <td>-0.002588</td>\n",
              "      <td>-0.007595</td>\n",
              "      <td>-0.007029</td>\n",
              "      <td>-0.007912</td>\n",
              "      <td>-0.007852</td>\n",
              "      <td>-0.008475</td>\n",
              "      <td>0.002161</td>\n",
              "      <td>-0.000653</td>\n",
              "      <td>0.000063</td>\n",
              "      <td>-0.001817</td>\n",
              "      <td>0.002369</td>\n",
              "      <td>-0.000408</td>\n",
              "      <td>-0.002124</td>\n",
              "      <td>0.001156</td>\n",
              "      <td>-0.007839</td>\n",
              "      <td>-0.002499</td>\n",
              "      <td>0.000476</td>\n",
              "      <td>0.006597</td>\n",
              "      <td>-0.001283</td>\n",
              "      <td>-0.003659</td>\n",
              "      <td>-0.006811</td>\n",
              "      <td>-0.009388</td>\n",
              "      <td>0.000340</td>\n",
              "      <td>-0.001052</td>\n",
              "      <td>-0.001003</td>\n",
              "      <td>0.000430</td>\n",
              "      <td>-0.001034</td>\n",
              "      <td>-0.008349</td>\n",
              "      <td>-0.010581</td>\n",
              "      <td>-0.004220</td>\n",
              "      <td>-0.003669</td>\n",
              "      <td>-0.003515</td>\n",
              "      <td>-0.004761</td>\n",
              "      <td>0.002834</td>\n",
              "      <td>0.000655</td>\n",
              "      <td>...</td>\n",
              "      <td>0.001364</td>\n",
              "      <td>0.002096</td>\n",
              "      <td>-0.005989</td>\n",
              "      <td>-0.002793</td>\n",
              "      <td>-0.000398</td>\n",
              "      <td>0.003126</td>\n",
              "      <td>-0.006177</td>\n",
              "      <td>-0.000951</td>\n",
              "      <td>-0.001467</td>\n",
              "      <td>-0.007374</td>\n",
              "      <td>-0.007690</td>\n",
              "      <td>-0.006420</td>\n",
              "      <td>-0.006628</td>\n",
              "      <td>-0.003069</td>\n",
              "      <td>0.000759</td>\n",
              "      <td>-0.002049</td>\n",
              "      <td>-0.002245</td>\n",
              "      <td>0.005660</td>\n",
              "      <td>0.002798</td>\n",
              "      <td>0.006358</td>\n",
              "      <td>0.007182</td>\n",
              "      <td>0.005055</td>\n",
              "      <td>0.005055</td>\n",
              "      <td>0.006218</td>\n",
              "      <td>-0.000693</td>\n",
              "      <td>0.008293</td>\n",
              "      <td>0.007985</td>\n",
              "      <td>-0.006205</td>\n",
              "      <td>0.000163</td>\n",
              "      <td>-0.006689</td>\n",
              "      <td>-0.008510</td>\n",
              "      <td>0.007144</td>\n",
              "      <td>0.007229</td>\n",
              "      <td>0.004687</td>\n",
              "      <td>0.004963</td>\n",
              "      <td>-0.003063</td>\n",
              "      <td>0.000216</td>\n",
              "      <td>-0.000161</td>\n",
              "      <td>0.001324</td>\n",
              "      <td>-0.000806</td>\n",
              "    </tr>\n",
              "    <tr>\n",
              "      <th>1</th>\n",
              "      <td>-0.003355</td>\n",
              "      <td>1.000000</td>\n",
              "      <td>-0.003084</td>\n",
              "      <td>0.001741</td>\n",
              "      <td>0.005201</td>\n",
              "      <td>0.006165</td>\n",
              "      <td>0.001469</td>\n",
              "      <td>0.001652</td>\n",
              "      <td>0.000509</td>\n",
              "      <td>0.000607</td>\n",
              "      <td>0.001267</td>\n",
              "      <td>0.005101</td>\n",
              "      <td>0.006083</td>\n",
              "      <td>0.002879</td>\n",
              "      <td>0.003313</td>\n",
              "      <td>0.004510</td>\n",
              "      <td>0.002889</td>\n",
              "      <td>0.003325</td>\n",
              "      <td>0.004582</td>\n",
              "      <td>0.000456</td>\n",
              "      <td>-0.000037</td>\n",
              "      <td>-0.008076</td>\n",
              "      <td>0.036344</td>\n",
              "      <td>0.007063</td>\n",
              "      <td>0.006578</td>\n",
              "      <td>0.010350</td>\n",
              "      <td>0.008390</td>\n",
              "      <td>0.009009</td>\n",
              "      <td>0.008131</td>\n",
              "      <td>0.007983</td>\n",
              "      <td>0.008875</td>\n",
              "      <td>0.005994</td>\n",
              "      <td>0.008080</td>\n",
              "      <td>0.007642</td>\n",
              "      <td>0.006295</td>\n",
              "      <td>0.006099</td>\n",
              "      <td>0.006446</td>\n",
              "      <td>0.005955</td>\n",
              "      <td>0.044819</td>\n",
              "      <td>0.009022</td>\n",
              "      <td>...</td>\n",
              "      <td>0.008125</td>\n",
              "      <td>0.004302</td>\n",
              "      <td>0.004213</td>\n",
              "      <td>0.003039</td>\n",
              "      <td>0.003974</td>\n",
              "      <td>0.001652</td>\n",
              "      <td>0.000746</td>\n",
              "      <td>0.002241</td>\n",
              "      <td>0.002229</td>\n",
              "      <td>0.004417</td>\n",
              "      <td>0.002632</td>\n",
              "      <td>0.005028</td>\n",
              "      <td>0.005060</td>\n",
              "      <td>0.005334</td>\n",
              "      <td>0.003027</td>\n",
              "      <td>0.005861</td>\n",
              "      <td>0.005809</td>\n",
              "      <td>0.002264</td>\n",
              "      <td>0.001348</td>\n",
              "      <td>0.002308</td>\n",
              "      <td>0.002325</td>\n",
              "      <td>0.000155</td>\n",
              "      <td>0.000155</td>\n",
              "      <td>0.000736</td>\n",
              "      <td>0.000376</td>\n",
              "      <td>0.000824</td>\n",
              "      <td>0.000902</td>\n",
              "      <td>0.000182</td>\n",
              "      <td>0.000156</td>\n",
              "      <td>0.000209</td>\n",
              "      <td>0.000250</td>\n",
              "      <td>0.000698</td>\n",
              "      <td>0.000527</td>\n",
              "      <td>0.000699</td>\n",
              "      <td>0.000734</td>\n",
              "      <td>0.000610</td>\n",
              "      <td>0.000464</td>\n",
              "      <td>0.000728</td>\n",
              "      <td>0.000764</td>\n",
              "      <td>0.000086</td>\n",
              "    </tr>\n",
              "    <tr>\n",
              "      <th>2</th>\n",
              "      <td>-0.003030</td>\n",
              "      <td>-0.003084</td>\n",
              "      <td>1.000000</td>\n",
              "      <td>0.041471</td>\n",
              "      <td>0.096276</td>\n",
              "      <td>0.102345</td>\n",
              "      <td>0.041124</td>\n",
              "      <td>0.047016</td>\n",
              "      <td>0.008269</td>\n",
              "      <td>0.009404</td>\n",
              "      <td>0.034383</td>\n",
              "      <td>0.090100</td>\n",
              "      <td>0.095113</td>\n",
              "      <td>0.084952</td>\n",
              "      <td>0.073854</td>\n",
              "      <td>0.105196</td>\n",
              "      <td>0.084834</td>\n",
              "      <td>0.073946</td>\n",
              "      <td>0.107536</td>\n",
              "      <td>0.014101</td>\n",
              "      <td>0.103280</td>\n",
              "      <td>-0.114921</td>\n",
              "      <td>-0.098961</td>\n",
              "      <td>0.114816</td>\n",
              "      <td>0.102701</td>\n",
              "      <td>0.266009</td>\n",
              "      <td>0.221463</td>\n",
              "      <td>0.297676</td>\n",
              "      <td>0.244787</td>\n",
              "      <td>0.242087</td>\n",
              "      <td>0.295928</td>\n",
              "      <td>0.153591</td>\n",
              "      <td>0.255330</td>\n",
              "      <td>0.246014</td>\n",
              "      <td>0.081719</td>\n",
              "      <td>0.094989</td>\n",
              "      <td>0.097644</td>\n",
              "      <td>0.079982</td>\n",
              "      <td>0.033653</td>\n",
              "      <td>0.153139</td>\n",
              "      <td>...</td>\n",
              "      <td>0.228318</td>\n",
              "      <td>0.185383</td>\n",
              "      <td>0.164722</td>\n",
              "      <td>0.128574</td>\n",
              "      <td>0.174722</td>\n",
              "      <td>0.049071</td>\n",
              "      <td>0.021038</td>\n",
              "      <td>0.059137</td>\n",
              "      <td>0.062044</td>\n",
              "      <td>0.177840</td>\n",
              "      <td>0.115143</td>\n",
              "      <td>0.197238</td>\n",
              "      <td>0.199541</td>\n",
              "      <td>0.190352</td>\n",
              "      <td>0.108184</td>\n",
              "      <td>0.211089</td>\n",
              "      <td>0.208339</td>\n",
              "      <td>0.118949</td>\n",
              "      <td>0.070926</td>\n",
              "      <td>0.117043</td>\n",
              "      <td>0.117591</td>\n",
              "      <td>0.003339</td>\n",
              "      <td>0.003339</td>\n",
              "      <td>0.046927</td>\n",
              "      <td>0.024240</td>\n",
              "      <td>0.044969</td>\n",
              "      <td>0.051555</td>\n",
              "      <td>0.006832</td>\n",
              "      <td>-0.003201</td>\n",
              "      <td>0.011852</td>\n",
              "      <td>0.012898</td>\n",
              "      <td>0.027392</td>\n",
              "      <td>0.019040</td>\n",
              "      <td>0.028012</td>\n",
              "      <td>0.028828</td>\n",
              "      <td>0.030518</td>\n",
              "      <td>0.019340</td>\n",
              "      <td>0.033365</td>\n",
              "      <td>0.033855</td>\n",
              "      <td>0.007068</td>\n",
              "    </tr>\n",
              "    <tr>\n",
              "      <th>3</th>\n",
              "      <td>-0.002841</td>\n",
              "      <td>0.001741</td>\n",
              "      <td>0.041471</td>\n",
              "      <td>1.000000</td>\n",
              "      <td>0.042038</td>\n",
              "      <td>0.035122</td>\n",
              "      <td>0.011186</td>\n",
              "      <td>0.011467</td>\n",
              "      <td>0.000543</td>\n",
              "      <td>0.002694</td>\n",
              "      <td>0.013159</td>\n",
              "      <td>0.041441</td>\n",
              "      <td>0.034040</td>\n",
              "      <td>0.022491</td>\n",
              "      <td>0.015570</td>\n",
              "      <td>0.036373</td>\n",
              "      <td>0.022361</td>\n",
              "      <td>0.015618</td>\n",
              "      <td>0.037356</td>\n",
              "      <td>-0.000141</td>\n",
              "      <td>0.017726</td>\n",
              "      <td>-0.001253</td>\n",
              "      <td>0.016993</td>\n",
              "      <td>0.003754</td>\n",
              "      <td>0.005346</td>\n",
              "      <td>0.043495</td>\n",
              "      <td>0.051051</td>\n",
              "      <td>0.026744</td>\n",
              "      <td>0.026466</td>\n",
              "      <td>0.026410</td>\n",
              "      <td>0.026637</td>\n",
              "      <td>0.018734</td>\n",
              "      <td>0.050236</td>\n",
              "      <td>0.050015</td>\n",
              "      <td>0.010910</td>\n",
              "      <td>0.010333</td>\n",
              "      <td>0.010283</td>\n",
              "      <td>0.010946</td>\n",
              "      <td>0.031193</td>\n",
              "      <td>0.042887</td>\n",
              "      <td>...</td>\n",
              "      <td>0.043842</td>\n",
              "      <td>0.007324</td>\n",
              "      <td>0.001593</td>\n",
              "      <td>0.023643</td>\n",
              "      <td>0.020511</td>\n",
              "      <td>0.005026</td>\n",
              "      <td>0.001240</td>\n",
              "      <td>0.007113</td>\n",
              "      <td>0.006611</td>\n",
              "      <td>0.014820</td>\n",
              "      <td>0.002070</td>\n",
              "      <td>0.025676</td>\n",
              "      <td>0.023984</td>\n",
              "      <td>-0.001295</td>\n",
              "      <td>-0.001381</td>\n",
              "      <td>0.011931</td>\n",
              "      <td>0.014989</td>\n",
              "      <td>-0.002801</td>\n",
              "      <td>-0.001564</td>\n",
              "      <td>0.000957</td>\n",
              "      <td>0.001992</td>\n",
              "      <td>-0.000213</td>\n",
              "      <td>-0.000213</td>\n",
              "      <td>-0.000963</td>\n",
              "      <td>-0.000494</td>\n",
              "      <td>-0.000784</td>\n",
              "      <td>-0.000978</td>\n",
              "      <td>-0.000250</td>\n",
              "      <td>-0.000213</td>\n",
              "      <td>0.004865</td>\n",
              "      <td>0.008071</td>\n",
              "      <td>-0.000815</td>\n",
              "      <td>-0.000679</td>\n",
              "      <td>-0.000410</td>\n",
              "      <td>-0.000386</td>\n",
              "      <td>0.002938</td>\n",
              "      <td>-0.000617</td>\n",
              "      <td>0.005650</td>\n",
              "      <td>0.007349</td>\n",
              "      <td>-0.000476</td>\n",
              "    </tr>\n",
              "    <tr>\n",
              "      <th>4</th>\n",
              "      <td>-0.000182</td>\n",
              "      <td>0.005201</td>\n",
              "      <td>0.096276</td>\n",
              "      <td>0.042038</td>\n",
              "      <td>1.000000</td>\n",
              "      <td>0.887231</td>\n",
              "      <td>0.358368</td>\n",
              "      <td>0.312597</td>\n",
              "      <td>0.034486</td>\n",
              "      <td>0.059867</td>\n",
              "      <td>0.260458</td>\n",
              "      <td>0.957183</td>\n",
              "      <td>0.853026</td>\n",
              "      <td>0.284913</td>\n",
              "      <td>0.251756</td>\n",
              "      <td>0.631805</td>\n",
              "      <td>0.284919</td>\n",
              "      <td>0.253183</td>\n",
              "      <td>0.653247</td>\n",
              "      <td>0.024727</td>\n",
              "      <td>0.245550</td>\n",
              "      <td>-0.224609</td>\n",
              "      <td>0.034821</td>\n",
              "      <td>0.224533</td>\n",
              "      <td>0.245219</td>\n",
              "      <td>0.013585</td>\n",
              "      <td>0.022381</td>\n",
              "      <td>-0.020589</td>\n",
              "      <td>-0.020091</td>\n",
              "      <td>-0.019818</td>\n",
              "      <td>-0.020568</td>\n",
              "      <td>0.019198</td>\n",
              "      <td>0.006233</td>\n",
              "      <td>0.004491</td>\n",
              "      <td>0.254989</td>\n",
              "      <td>0.247532</td>\n",
              "      <td>0.249855</td>\n",
              "      <td>0.252498</td>\n",
              "      <td>0.108687</td>\n",
              "      <td>0.277819</td>\n",
              "      <td>...</td>\n",
              "      <td>0.291186</td>\n",
              "      <td>0.019417</td>\n",
              "      <td>-0.005512</td>\n",
              "      <td>0.043415</td>\n",
              "      <td>0.030316</td>\n",
              "      <td>0.097742</td>\n",
              "      <td>0.086006</td>\n",
              "      <td>0.145165</td>\n",
              "      <td>0.134485</td>\n",
              "      <td>-0.006571</td>\n",
              "      <td>-0.005615</td>\n",
              "      <td>-0.007672</td>\n",
              "      <td>-0.007309</td>\n",
              "      <td>-0.016938</td>\n",
              "      <td>-0.001425</td>\n",
              "      <td>-0.019519</td>\n",
              "      <td>-0.019033</td>\n",
              "      <td>-0.004432</td>\n",
              "      <td>0.000246</td>\n",
              "      <td>-0.005700</td>\n",
              "      <td>-0.005747</td>\n",
              "      <td>-0.000868</td>\n",
              "      <td>-0.000868</td>\n",
              "      <td>0.008031</td>\n",
              "      <td>-0.000149</td>\n",
              "      <td>0.003141</td>\n",
              "      <td>0.004503</td>\n",
              "      <td>-0.001019</td>\n",
              "      <td>-0.000868</td>\n",
              "      <td>0.000453</td>\n",
              "      <td>0.001245</td>\n",
              "      <td>0.021807</td>\n",
              "      <td>0.017736</td>\n",
              "      <td>0.018021</td>\n",
              "      <td>0.019888</td>\n",
              "      <td>0.010000</td>\n",
              "      <td>0.007515</td>\n",
              "      <td>0.012358</td>\n",
              "      <td>0.011676</td>\n",
              "      <td>0.013057</td>\n",
              "    </tr>\n",
              "    <tr>\n",
              "      <th>...</th>\n",
              "      <td>...</td>\n",
              "      <td>...</td>\n",
              "      <td>...</td>\n",
              "      <td>...</td>\n",
              "      <td>...</td>\n",
              "      <td>...</td>\n",
              "      <td>...</td>\n",
              "      <td>...</td>\n",
              "      <td>...</td>\n",
              "      <td>...</td>\n",
              "      <td>...</td>\n",
              "      <td>...</td>\n",
              "      <td>...</td>\n",
              "      <td>...</td>\n",
              "      <td>...</td>\n",
              "      <td>...</td>\n",
              "      <td>...</td>\n",
              "      <td>...</td>\n",
              "      <td>...</td>\n",
              "      <td>...</td>\n",
              "      <td>...</td>\n",
              "      <td>...</td>\n",
              "      <td>...</td>\n",
              "      <td>...</td>\n",
              "      <td>...</td>\n",
              "      <td>...</td>\n",
              "      <td>...</td>\n",
              "      <td>...</td>\n",
              "      <td>...</td>\n",
              "      <td>...</td>\n",
              "      <td>...</td>\n",
              "      <td>...</td>\n",
              "      <td>...</td>\n",
              "      <td>...</td>\n",
              "      <td>...</td>\n",
              "      <td>...</td>\n",
              "      <td>...</td>\n",
              "      <td>...</td>\n",
              "      <td>...</td>\n",
              "      <td>...</td>\n",
              "      <td>...</td>\n",
              "      <td>...</td>\n",
              "      <td>...</td>\n",
              "      <td>...</td>\n",
              "      <td>...</td>\n",
              "      <td>...</td>\n",
              "      <td>...</td>\n",
              "      <td>...</td>\n",
              "      <td>...</td>\n",
              "      <td>...</td>\n",
              "      <td>...</td>\n",
              "      <td>...</td>\n",
              "      <td>...</td>\n",
              "      <td>...</td>\n",
              "      <td>...</td>\n",
              "      <td>...</td>\n",
              "      <td>...</td>\n",
              "      <td>...</td>\n",
              "      <td>...</td>\n",
              "      <td>...</td>\n",
              "      <td>...</td>\n",
              "      <td>...</td>\n",
              "      <td>...</td>\n",
              "      <td>...</td>\n",
              "      <td>...</td>\n",
              "      <td>...</td>\n",
              "      <td>...</td>\n",
              "      <td>...</td>\n",
              "      <td>...</td>\n",
              "      <td>...</td>\n",
              "      <td>...</td>\n",
              "      <td>...</td>\n",
              "      <td>...</td>\n",
              "      <td>...</td>\n",
              "      <td>...</td>\n",
              "      <td>...</td>\n",
              "      <td>...</td>\n",
              "      <td>...</td>\n",
              "      <td>...</td>\n",
              "      <td>...</td>\n",
              "      <td>...</td>\n",
              "    </tr>\n",
              "    <tr>\n",
              "      <th>262</th>\n",
              "      <td>-0.003063</td>\n",
              "      <td>0.000610</td>\n",
              "      <td>0.030518</td>\n",
              "      <td>0.002938</td>\n",
              "      <td>0.010000</td>\n",
              "      <td>0.008664</td>\n",
              "      <td>-0.000426</td>\n",
              "      <td>-0.000555</td>\n",
              "      <td>-0.000209</td>\n",
              "      <td>-0.000249</td>\n",
              "      <td>-0.000382</td>\n",
              "      <td>0.010815</td>\n",
              "      <td>0.009412</td>\n",
              "      <td>0.048858</td>\n",
              "      <td>0.039553</td>\n",
              "      <td>0.042526</td>\n",
              "      <td>0.048494</td>\n",
              "      <td>0.039391</td>\n",
              "      <td>0.041516</td>\n",
              "      <td>-0.000114</td>\n",
              "      <td>0.010356</td>\n",
              "      <td>-0.006157</td>\n",
              "      <td>0.007267</td>\n",
              "      <td>0.001554</td>\n",
              "      <td>0.002063</td>\n",
              "      <td>0.003700</td>\n",
              "      <td>-0.001137</td>\n",
              "      <td>0.006210</td>\n",
              "      <td>0.007386</td>\n",
              "      <td>0.001899</td>\n",
              "      <td>0.001064</td>\n",
              "      <td>0.007203</td>\n",
              "      <td>-0.000713</td>\n",
              "      <td>-0.000838</td>\n",
              "      <td>0.022712</td>\n",
              "      <td>0.023393</td>\n",
              "      <td>0.022093</td>\n",
              "      <td>0.024043</td>\n",
              "      <td>0.007077</td>\n",
              "      <td>0.000408</td>\n",
              "      <td>...</td>\n",
              "      <td>0.047101</td>\n",
              "      <td>0.034942</td>\n",
              "      <td>0.009697</td>\n",
              "      <td>0.038582</td>\n",
              "      <td>0.039449</td>\n",
              "      <td>0.007094</td>\n",
              "      <td>0.021524</td>\n",
              "      <td>0.006775</td>\n",
              "      <td>0.006070</td>\n",
              "      <td>-0.001356</td>\n",
              "      <td>-0.000958</td>\n",
              "      <td>-0.001796</td>\n",
              "      <td>-0.001768</td>\n",
              "      <td>0.004662</td>\n",
              "      <td>0.005158</td>\n",
              "      <td>0.002785</td>\n",
              "      <td>0.002719</td>\n",
              "      <td>-0.000911</td>\n",
              "      <td>-0.000524</td>\n",
              "      <td>-0.000947</td>\n",
              "      <td>-0.000953</td>\n",
              "      <td>-0.000064</td>\n",
              "      <td>-0.000064</td>\n",
              "      <td>0.028646</td>\n",
              "      <td>-0.000149</td>\n",
              "      <td>0.018161</td>\n",
              "      <td>0.024219</td>\n",
              "      <td>0.009427</td>\n",
              "      <td>-0.000064</td>\n",
              "      <td>0.001355</td>\n",
              "      <td>0.003731</td>\n",
              "      <td>-0.000270</td>\n",
              "      <td>-0.000204</td>\n",
              "      <td>-0.000273</td>\n",
              "      <td>-0.000285</td>\n",
              "      <td>1.000000</td>\n",
              "      <td>0.331816</td>\n",
              "      <td>0.821024</td>\n",
              "      <td>0.712661</td>\n",
              "      <td>0.002935</td>\n",
              "    </tr>\n",
              "    <tr>\n",
              "      <th>263</th>\n",
              "      <td>0.000216</td>\n",
              "      <td>0.000464</td>\n",
              "      <td>0.019340</td>\n",
              "      <td>-0.000617</td>\n",
              "      <td>0.007515</td>\n",
              "      <td>0.006326</td>\n",
              "      <td>-0.000443</td>\n",
              "      <td>-0.000493</td>\n",
              "      <td>-0.000155</td>\n",
              "      <td>-0.000185</td>\n",
              "      <td>-0.000384</td>\n",
              "      <td>0.008166</td>\n",
              "      <td>0.006898</td>\n",
              "      <td>0.023185</td>\n",
              "      <td>0.018556</td>\n",
              "      <td>0.021293</td>\n",
              "      <td>0.023009</td>\n",
              "      <td>0.018477</td>\n",
              "      <td>0.020761</td>\n",
              "      <td>-0.000140</td>\n",
              "      <td>0.010571</td>\n",
              "      <td>-0.018466</td>\n",
              "      <td>-0.000511</td>\n",
              "      <td>0.002402</td>\n",
              "      <td>0.002867</td>\n",
              "      <td>0.001125</td>\n",
              "      <td>-0.002440</td>\n",
              "      <td>0.001978</td>\n",
              "      <td>0.002697</td>\n",
              "      <td>0.001627</td>\n",
              "      <td>0.000989</td>\n",
              "      <td>0.005068</td>\n",
              "      <td>-0.002341</td>\n",
              "      <td>-0.002199</td>\n",
              "      <td>0.006890</td>\n",
              "      <td>0.007220</td>\n",
              "      <td>0.006650</td>\n",
              "      <td>0.007472</td>\n",
              "      <td>-0.000548</td>\n",
              "      <td>0.000513</td>\n",
              "      <td>...</td>\n",
              "      <td>0.015490</td>\n",
              "      <td>0.030898</td>\n",
              "      <td>0.019538</td>\n",
              "      <td>0.015876</td>\n",
              "      <td>0.028724</td>\n",
              "      <td>0.008146</td>\n",
              "      <td>0.024107</td>\n",
              "      <td>0.007708</td>\n",
              "      <td>0.006895</td>\n",
              "      <td>-0.001353</td>\n",
              "      <td>-0.000804</td>\n",
              "      <td>-0.001540</td>\n",
              "      <td>-0.001550</td>\n",
              "      <td>0.001172</td>\n",
              "      <td>0.001461</td>\n",
              "      <td>0.000490</td>\n",
              "      <td>0.000344</td>\n",
              "      <td>-0.000688</td>\n",
              "      <td>-0.000404</td>\n",
              "      <td>-0.000702</td>\n",
              "      <td>-0.000707</td>\n",
              "      <td>-0.000048</td>\n",
              "      <td>-0.000048</td>\n",
              "      <td>0.015999</td>\n",
              "      <td>-0.000110</td>\n",
              "      <td>0.010452</td>\n",
              "      <td>0.013742</td>\n",
              "      <td>-0.000056</td>\n",
              "      <td>-0.000048</td>\n",
              "      <td>-0.000064</td>\n",
              "      <td>-0.000077</td>\n",
              "      <td>-0.000200</td>\n",
              "      <td>-0.000152</td>\n",
              "      <td>-0.000202</td>\n",
              "      <td>-0.000212</td>\n",
              "      <td>0.331816</td>\n",
              "      <td>1.000000</td>\n",
              "      <td>0.239685</td>\n",
              "      <td>0.217884</td>\n",
              "      <td>0.001634</td>\n",
              "    </tr>\n",
              "    <tr>\n",
              "      <th>264</th>\n",
              "      <td>-0.000161</td>\n",
              "      <td>0.000728</td>\n",
              "      <td>0.033365</td>\n",
              "      <td>0.005650</td>\n",
              "      <td>0.012358</td>\n",
              "      <td>0.011184</td>\n",
              "      <td>-0.000221</td>\n",
              "      <td>-0.000480</td>\n",
              "      <td>-0.000251</td>\n",
              "      <td>-0.000299</td>\n",
              "      <td>-0.000228</td>\n",
              "      <td>0.013271</td>\n",
              "      <td>0.012079</td>\n",
              "      <td>0.043945</td>\n",
              "      <td>0.035563</td>\n",
              "      <td>0.039874</td>\n",
              "      <td>0.043614</td>\n",
              "      <td>0.035414</td>\n",
              "      <td>0.038946</td>\n",
              "      <td>-0.000220</td>\n",
              "      <td>0.005957</td>\n",
              "      <td>-0.014234</td>\n",
              "      <td>0.005601</td>\n",
              "      <td>0.006553</td>\n",
              "      <td>0.007488</td>\n",
              "      <td>0.005649</td>\n",
              "      <td>0.004083</td>\n",
              "      <td>0.001837</td>\n",
              "      <td>0.002707</td>\n",
              "      <td>-0.000578</td>\n",
              "      <td>-0.001320</td>\n",
              "      <td>0.009479</td>\n",
              "      <td>0.000019</td>\n",
              "      <td>0.000217</td>\n",
              "      <td>0.018341</td>\n",
              "      <td>0.018883</td>\n",
              "      <td>0.017795</td>\n",
              "      <td>0.019453</td>\n",
              "      <td>0.006536</td>\n",
              "      <td>0.003021</td>\n",
              "      <td>...</td>\n",
              "      <td>0.042304</td>\n",
              "      <td>0.040808</td>\n",
              "      <td>0.008517</td>\n",
              "      <td>0.040994</td>\n",
              "      <td>0.047486</td>\n",
              "      <td>0.050012</td>\n",
              "      <td>0.041209</td>\n",
              "      <td>0.059911</td>\n",
              "      <td>0.041211</td>\n",
              "      <td>-0.000677</td>\n",
              "      <td>-0.001085</td>\n",
              "      <td>-0.001180</td>\n",
              "      <td>-0.000985</td>\n",
              "      <td>0.001932</td>\n",
              "      <td>0.003494</td>\n",
              "      <td>0.000446</td>\n",
              "      <td>0.000567</td>\n",
              "      <td>-0.001091</td>\n",
              "      <td>-0.000627</td>\n",
              "      <td>-0.001135</td>\n",
              "      <td>-0.001142</td>\n",
              "      <td>-0.000077</td>\n",
              "      <td>-0.000077</td>\n",
              "      <td>0.025859</td>\n",
              "      <td>-0.000178</td>\n",
              "      <td>0.016324</td>\n",
              "      <td>0.021810</td>\n",
              "      <td>0.027691</td>\n",
              "      <td>-0.000077</td>\n",
              "      <td>0.004109</td>\n",
              "      <td>0.011086</td>\n",
              "      <td>-0.000323</td>\n",
              "      <td>-0.000245</td>\n",
              "      <td>-0.000326</td>\n",
              "      <td>-0.000341</td>\n",
              "      <td>0.821024</td>\n",
              "      <td>0.239685</td>\n",
              "      <td>1.000000</td>\n",
              "      <td>0.968391</td>\n",
              "      <td>0.003590</td>\n",
              "    </tr>\n",
              "    <tr>\n",
              "      <th>265</th>\n",
              "      <td>0.001324</td>\n",
              "      <td>0.000764</td>\n",
              "      <td>0.033855</td>\n",
              "      <td>0.007349</td>\n",
              "      <td>0.011676</td>\n",
              "      <td>0.010515</td>\n",
              "      <td>-0.000340</td>\n",
              "      <td>-0.000573</td>\n",
              "      <td>-0.000263</td>\n",
              "      <td>-0.000314</td>\n",
              "      <td>-0.000325</td>\n",
              "      <td>0.012579</td>\n",
              "      <td>0.011393</td>\n",
              "      <td>0.032529</td>\n",
              "      <td>0.026120</td>\n",
              "      <td>0.030746</td>\n",
              "      <td>0.032279</td>\n",
              "      <td>0.026007</td>\n",
              "      <td>0.030009</td>\n",
              "      <td>-0.000207</td>\n",
              "      <td>0.006408</td>\n",
              "      <td>-0.019745</td>\n",
              "      <td>0.003772</td>\n",
              "      <td>0.009670</td>\n",
              "      <td>0.010844</td>\n",
              "      <td>0.007390</td>\n",
              "      <td>0.006154</td>\n",
              "      <td>0.002180</td>\n",
              "      <td>0.003124</td>\n",
              "      <td>-0.000693</td>\n",
              "      <td>-0.001464</td>\n",
              "      <td>0.011641</td>\n",
              "      <td>0.000562</td>\n",
              "      <td>0.000586</td>\n",
              "      <td>0.016134</td>\n",
              "      <td>0.016618</td>\n",
              "      <td>0.015629</td>\n",
              "      <td>0.017143</td>\n",
              "      <td>0.005544</td>\n",
              "      <td>0.005124</td>\n",
              "      <td>...</td>\n",
              "      <td>0.040444</td>\n",
              "      <td>0.034346</td>\n",
              "      <td>0.007740</td>\n",
              "      <td>0.034667</td>\n",
              "      <td>0.040600</td>\n",
              "      <td>0.069785</td>\n",
              "      <td>0.054492</td>\n",
              "      <td>0.083948</td>\n",
              "      <td>0.057538</td>\n",
              "      <td>-0.000388</td>\n",
              "      <td>-0.001092</td>\n",
              "      <td>-0.000891</td>\n",
              "      <td>-0.000658</td>\n",
              "      <td>0.002356</td>\n",
              "      <td>0.003781</td>\n",
              "      <td>0.000735</td>\n",
              "      <td>0.000830</td>\n",
              "      <td>-0.001147</td>\n",
              "      <td>-0.000660</td>\n",
              "      <td>-0.001192</td>\n",
              "      <td>-0.001199</td>\n",
              "      <td>-0.000081</td>\n",
              "      <td>-0.000081</td>\n",
              "      <td>0.019117</td>\n",
              "      <td>-0.000187</td>\n",
              "      <td>0.012057</td>\n",
              "      <td>0.016110</td>\n",
              "      <td>0.022979</td>\n",
              "      <td>-0.000081</td>\n",
              "      <td>0.003390</td>\n",
              "      <td>0.009181</td>\n",
              "      <td>-0.000339</td>\n",
              "      <td>-0.000257</td>\n",
              "      <td>-0.000343</td>\n",
              "      <td>-0.000358</td>\n",
              "      <td>0.712661</td>\n",
              "      <td>0.217884</td>\n",
              "      <td>0.968391</td>\n",
              "      <td>1.000000</td>\n",
              "      <td>0.003259</td>\n",
              "    </tr>\n",
              "    <tr>\n",
              "      <th>266</th>\n",
              "      <td>-0.000806</td>\n",
              "      <td>0.000086</td>\n",
              "      <td>0.007068</td>\n",
              "      <td>-0.000476</td>\n",
              "      <td>0.013057</td>\n",
              "      <td>0.013724</td>\n",
              "      <td>0.020237</td>\n",
              "      <td>0.020040</td>\n",
              "      <td>-0.000095</td>\n",
              "      <td>0.001036</td>\n",
              "      <td>0.004677</td>\n",
              "      <td>0.007674</td>\n",
              "      <td>0.008634</td>\n",
              "      <td>0.001981</td>\n",
              "      <td>0.001005</td>\n",
              "      <td>0.004533</td>\n",
              "      <td>0.001961</td>\n",
              "      <td>0.001043</td>\n",
              "      <td>0.005071</td>\n",
              "      <td>0.003276</td>\n",
              "      <td>0.012595</td>\n",
              "      <td>-0.007760</td>\n",
              "      <td>-0.040222</td>\n",
              "      <td>-0.000563</td>\n",
              "      <td>-0.004953</td>\n",
              "      <td>0.015911</td>\n",
              "      <td>0.013946</td>\n",
              "      <td>0.017396</td>\n",
              "      <td>0.014513</td>\n",
              "      <td>0.014224</td>\n",
              "      <td>0.017165</td>\n",
              "      <td>0.003963</td>\n",
              "      <td>0.012298</td>\n",
              "      <td>0.011703</td>\n",
              "      <td>-0.003046</td>\n",
              "      <td>-0.003183</td>\n",
              "      <td>-0.003563</td>\n",
              "      <td>-0.002646</td>\n",
              "      <td>-0.036847</td>\n",
              "      <td>-0.001104</td>\n",
              "      <td>...</td>\n",
              "      <td>0.000318</td>\n",
              "      <td>0.015752</td>\n",
              "      <td>0.019806</td>\n",
              "      <td>0.014162</td>\n",
              "      <td>0.015737</td>\n",
              "      <td>0.000707</td>\n",
              "      <td>0.000442</td>\n",
              "      <td>0.002576</td>\n",
              "      <td>0.001574</td>\n",
              "      <td>0.008398</td>\n",
              "      <td>0.006548</td>\n",
              "      <td>0.010135</td>\n",
              "      <td>0.010093</td>\n",
              "      <td>0.019296</td>\n",
              "      <td>0.017662</td>\n",
              "      <td>0.020608</td>\n",
              "      <td>0.020086</td>\n",
              "      <td>0.010752</td>\n",
              "      <td>0.003241</td>\n",
              "      <td>0.011639</td>\n",
              "      <td>0.011442</td>\n",
              "      <td>-0.000999</td>\n",
              "      <td>-0.000999</td>\n",
              "      <td>0.005271</td>\n",
              "      <td>0.002129</td>\n",
              "      <td>0.004419</td>\n",
              "      <td>0.005577</td>\n",
              "      <td>-0.000120</td>\n",
              "      <td>-0.001364</td>\n",
              "      <td>-0.001640</td>\n",
              "      <td>-0.001619</td>\n",
              "      <td>0.004129</td>\n",
              "      <td>0.001454</td>\n",
              "      <td>0.004439</td>\n",
              "      <td>0.004415</td>\n",
              "      <td>0.002935</td>\n",
              "      <td>0.001634</td>\n",
              "      <td>0.003590</td>\n",
              "      <td>0.003259</td>\n",
              "      <td>1.000000</td>\n",
              "    </tr>\n",
              "  </tbody>\n",
              "</table>\n",
              "<p>251 rows × 251 columns</p>\n",
              "</div>"
            ],
            "text/plain": [
              "          0         1         2    ...       264       265       266\n",
              "0    1.000000 -0.003355 -0.003030  ... -0.000161  0.001324 -0.000806\n",
              "1   -0.003355  1.000000 -0.003084  ...  0.000728  0.000764  0.000086\n",
              "2   -0.003030 -0.003084  1.000000  ...  0.033365  0.033855  0.007068\n",
              "3   -0.002841  0.001741  0.041471  ...  0.005650  0.007349 -0.000476\n",
              "4   -0.000182  0.005201  0.096276  ...  0.012358  0.011676  0.013057\n",
              "..        ...       ...       ...  ...       ...       ...       ...\n",
              "262 -0.003063  0.000610  0.030518  ...  0.821024  0.712661  0.002935\n",
              "263  0.000216  0.000464  0.019340  ...  0.239685  0.217884  0.001634\n",
              "264 -0.000161  0.000728  0.033365  ...  1.000000  0.968391  0.003590\n",
              "265  0.001324  0.000764  0.033855  ...  0.968391  1.000000  0.003259\n",
              "266 -0.000806  0.000086  0.007068  ...  0.003590  0.003259  1.000000\n",
              "\n",
              "[251 rows x 251 columns]"
            ]
          },
          "metadata": {
            "tags": []
          },
          "execution_count": 43
        }
      ]
    },
    {
      "cell_type": "code",
      "metadata": {
        "colab": {
          "base_uri": "https://localhost:8080/"
        },
        "id": "Fr8JhPSOJysy",
        "outputId": "56a208ff-2e2f-4a4b-fa93-391b3ee20790"
      },
      "source": [
        "corrdata = corrmat.abs().stack() # for each row, all the columns are stacked\n",
        "corrdata"
      ],
      "execution_count": 83,
      "outputs": [
        {
          "output_type": "execute_result",
          "data": {
            "text/plain": [
              "0    0      1.000000\n",
              "     1      0.003355\n",
              "     2      0.003030\n",
              "     3      0.002841\n",
              "     4      0.000182\n",
              "              ...   \n",
              "266  262    0.002935\n",
              "     263    0.001634\n",
              "     264    0.003590\n",
              "     265    0.003259\n",
              "     266    1.000000\n",
              "Length: 63001, dtype: float64"
            ]
          },
          "metadata": {
            "tags": []
          },
          "execution_count": 83
        }
      ]
    },
    {
      "cell_type": "code",
      "metadata": {
        "id": "RFNaSYFokYQb"
      },
      "source": [
        "corrdata = corrdata.sort_values(ascending=False)"
      ],
      "execution_count": 84,
      "outputs": []
    },
    {
      "cell_type": "code",
      "metadata": {
        "colab": {
          "base_uri": "https://localhost:8080/"
        },
        "id": "bp5lnPEhk0We",
        "outputId": "ef53b419-e8e1-4569-ac47-f72a607203ac"
      },
      "source": [
        "corrdata"
      ],
      "execution_count": 85,
      "outputs": [
        {
          "output_type": "execute_result",
          "data": {
            "text/plain": [
              "53   24     1.000000e+00\n",
              "24   53     1.000000e+00\n",
              "247  249    1.000000e+00\n",
              "249  247    1.000000e+00\n",
              "134  156    1.000000e+00\n",
              "                ...     \n",
              "120  176    4.178057e-07\n",
              "146  265    1.781911e-07\n",
              "265  146    1.781911e-07\n",
              "136  265    1.781911e-07\n",
              "265  136    1.781911e-07\n",
              "Length: 63001, dtype: float64"
            ]
          },
          "metadata": {
            "tags": []
          },
          "execution_count": 85
        }
      ]
    },
    {
      "cell_type": "code",
      "metadata": {
        "colab": {
          "base_uri": "https://localhost:8080/"
        },
        "id": "dJPkX7AWk3VP",
        "outputId": "8e0666fb-11f7-4c56-b0a7-3e276f4b8c7c"
      },
      "source": [
        "corrdata = corrdata[corrdata>0.85]\n",
        "corrdata = corrdata[corrdata<1]\n",
        "corrdata"
      ],
      "execution_count": 87,
      "outputs": [
        {
          "output_type": "execute_result",
          "data": {
            "text/plain": [
              "147  137    1.000000\n",
              "137  147    1.000000\n",
              "145  135    1.000000\n",
              "135  145    1.000000\n",
              "249  113    1.000000\n",
              "              ...   \n",
              "213  80     0.852486\n",
              "125  90     0.852312\n",
              "90   125    0.852312\n",
              "180  41     0.850449\n",
              "41   180    0.850449\n",
              "Length: 466, dtype: float64"
            ]
          },
          "metadata": {
            "tags": []
          },
          "execution_count": 87
        }
      ]
    },
    {
      "cell_type": "code",
      "metadata": {
        "id": "aaQP1FyJCmpr"
      },
      "source": [
        "corrdata = pd.DataFrame(corrdata).reset_index()\n",
        "corrdata.columns = ['Features1', 'Features2', 'corr_value']"
      ],
      "execution_count": 88,
      "outputs": []
    },
    {
      "cell_type": "code",
      "metadata": {
        "colab": {
          "base_uri": "https://localhost:8080/",
          "height": 419
        },
        "id": "wiRh5hB7Cp0Z",
        "outputId": "5a3c3369-ff3b-4ba8-d849-52361d80cc11"
      },
      "source": [
        "corrdata"
      ],
      "execution_count": 89,
      "outputs": [
        {
          "output_type": "execute_result",
          "data": {
            "text/html": [
              "<div>\n",
              "<style scoped>\n",
              "    .dataframe tbody tr th:only-of-type {\n",
              "        vertical-align: middle;\n",
              "    }\n",
              "\n",
              "    .dataframe tbody tr th {\n",
              "        vertical-align: top;\n",
              "    }\n",
              "\n",
              "    .dataframe thead th {\n",
              "        text-align: right;\n",
              "    }\n",
              "</style>\n",
              "<table border=\"1\" class=\"dataframe\">\n",
              "  <thead>\n",
              "    <tr style=\"text-align: right;\">\n",
              "      <th></th>\n",
              "      <th>Features1</th>\n",
              "      <th>Features2</th>\n",
              "      <th>corr_value</th>\n",
              "    </tr>\n",
              "  </thead>\n",
              "  <tbody>\n",
              "    <tr>\n",
              "      <th>0</th>\n",
              "      <td>147</td>\n",
              "      <td>137</td>\n",
              "      <td>1.000000</td>\n",
              "    </tr>\n",
              "    <tr>\n",
              "      <th>1</th>\n",
              "      <td>137</td>\n",
              "      <td>147</td>\n",
              "      <td>1.000000</td>\n",
              "    </tr>\n",
              "    <tr>\n",
              "      <th>2</th>\n",
              "      <td>145</td>\n",
              "      <td>135</td>\n",
              "      <td>1.000000</td>\n",
              "    </tr>\n",
              "    <tr>\n",
              "      <th>3</th>\n",
              "      <td>135</td>\n",
              "      <td>145</td>\n",
              "      <td>1.000000</td>\n",
              "    </tr>\n",
              "    <tr>\n",
              "      <th>4</th>\n",
              "      <td>249</td>\n",
              "      <td>113</td>\n",
              "      <td>1.000000</td>\n",
              "    </tr>\n",
              "    <tr>\n",
              "      <th>...</th>\n",
              "      <td>...</td>\n",
              "      <td>...</td>\n",
              "      <td>...</td>\n",
              "    </tr>\n",
              "    <tr>\n",
              "      <th>461</th>\n",
              "      <td>213</td>\n",
              "      <td>80</td>\n",
              "      <td>0.852486</td>\n",
              "    </tr>\n",
              "    <tr>\n",
              "      <th>462</th>\n",
              "      <td>125</td>\n",
              "      <td>90</td>\n",
              "      <td>0.852312</td>\n",
              "    </tr>\n",
              "    <tr>\n",
              "      <th>463</th>\n",
              "      <td>90</td>\n",
              "      <td>125</td>\n",
              "      <td>0.852312</td>\n",
              "    </tr>\n",
              "    <tr>\n",
              "      <th>464</th>\n",
              "      <td>180</td>\n",
              "      <td>41</td>\n",
              "      <td>0.850449</td>\n",
              "    </tr>\n",
              "    <tr>\n",
              "      <th>465</th>\n",
              "      <td>41</td>\n",
              "      <td>180</td>\n",
              "      <td>0.850449</td>\n",
              "    </tr>\n",
              "  </tbody>\n",
              "</table>\n",
              "<p>466 rows × 3 columns</p>\n",
              "</div>"
            ],
            "text/plain": [
              "     Features1  Features2  corr_value\n",
              "0          147        137    1.000000\n",
              "1          137        147    1.000000\n",
              "2          145        135    1.000000\n",
              "3          135        145    1.000000\n",
              "4          249        113    1.000000\n",
              "..         ...        ...         ...\n",
              "461        213         80    0.852486\n",
              "462        125         90    0.852312\n",
              "463         90        125    0.852312\n",
              "464        180         41    0.850449\n",
              "465         41        180    0.850449\n",
              "\n",
              "[466 rows x 3 columns]"
            ]
          },
          "metadata": {
            "tags": []
          },
          "execution_count": 89
        }
      ]
    },
    {
      "cell_type": "code",
      "metadata": {
        "id": "LlbNlFE0Cp3O"
      },
      "source": [
        "# grouped_feature_list = []\n",
        "# correlated_groups_list = []\n",
        "# for feature in corrdata.Features1.unique():\n",
        "#   if feature not in grouped_feature_list:\n",
        "#     correlated_block = corrdata[corrdata.Features1 == feature]\n",
        "#     grouped_feature_list = grouped_feature_list + list(correlated_block.Features2.unique()) + [feature]\n",
        "#     print(correlated_block)\n",
        "#     corr_data_list = list(correlated_block)\n",
        "#     correlated_groups_list.append(corr_data_list)\n",
        "grouped_feature_list = []\n",
        "correlated_groups_list = []\n",
        "for feature in corrdata.Features1.unique():\n",
        "    if feature not in grouped_feature_list:\n",
        "        correlated_block = corrdata[corrdata.Features1 == feature]\n",
        "        grouped_feature_list = grouped_feature_list + list(correlated_block.Features2.unique()) + [feature]\n",
        "        correlated_groups_list.append(correlated_block)"
      ],
      "execution_count": 90,
      "outputs": []
    },
    {
      "cell_type": "code",
      "metadata": {
        "colab": {
          "base_uri": "https://localhost:8080/"
        },
        "id": "iyAuTDXBCp8f",
        "outputId": "9f1c2f00-799f-49ac-8810-6a5ee739e824"
      },
      "source": [
        "correlated_groups_list"
      ],
      "execution_count": 91,
      "outputs": [
        {
          "output_type": "execute_result",
          "data": {
            "text/plain": [
              "[   Features1  Features2  corr_value\n",
              " 0        147        137         1.0,    Features1  Features2  corr_value\n",
              " 2        145        135         1.0,    Features1  Features2  corr_value\n",
              " 4        249        113         1.0,    Features1  Features2  corr_value\n",
              " 6        134        127         1.0,    Features1  Features2  corr_value\n",
              " 9        156        127         1.0,     Features1  Features2  corr_value\n",
              " 11        247        113         1.0,     Features1  Features2  corr_value\n",
              " 12        177        143         1.0,     Features1  Features2  corr_value\n",
              " 14        117        106    0.999880\n",
              " 16        117        155    0.999805,      Features1  Features2  corr_value\n",
              " 18          23         52    0.999742\n",
              " 216         23         53    0.931268\n",
              " 219         23         24    0.931268\n",
              " 404         23        201    0.867854\n",
              " 421         23         21    0.865380,      Features1  Features2  corr_value\n",
              " 22          29         58    0.999590\n",
              " 95          29         28    0.981760\n",
              " 116         29         57    0.976661\n",
              " 152         29        203    0.957439\n",
              " 307         29         30    0.900695\n",
              " 336         29         27    0.887336,      Features1  Features2  corr_value\n",
              " 24          33         69    0.999334\n",
              " 182         33         32    0.945797\n",
              " 195         33         68    0.943688\n",
              " 268         33         26    0.910936\n",
              " 299         33         55    0.904172\n",
              " 363         33        202    0.880323,     Features1  Features2  corr_value\n",
              " 26         98         45    0.999251\n",
              " 43         98         47    0.997765\n",
              " 45         98         20    0.997748,     Features1  Features2  corr_value\n",
              " 28         14         17    0.999203,      Features1  Features2  corr_value\n",
              " 30         215        217    0.999122\n",
              " 283        215        214    0.907823\n",
              " 292        215        216    0.906435,      Features1  Features2  corr_value\n",
              " 38          16         13    0.998239\n",
              " 334         16         15    0.887506\n",
              " 357         16         18    0.881325,      Features1  Features2  corr_value\n",
              " 40         199        226    0.997799\n",
              " 290        199        223    0.907100\n",
              " 376        199        225    0.876504,      Features1  Features2  corr_value\n",
              " 50         260        126    0.996406\n",
              " 90         260        261    0.983179\n",
              " 414        260        258    0.865934,      Features1  Features2  corr_value\n",
              " 52         119        110    0.996156\n",
              " 102        119        237    0.980587\n",
              " 131        119        130    0.971958\n",
              " 135        119        238    0.969857\n",
              " 378        119        235    0.876025,     Features1  Features2  corr_value\n",
              " 54         62         31    0.995175,      Features1  Features2  corr_value\n",
              " 58          51         22    0.993739\n",
              " 305         51        200    0.902726,      Features1  Features2  corr_value\n",
              " 60          82         78    0.993701\n",
              " 417         82         85    0.865668\n",
              " 436         82         81    0.860877,     Features1  Features2  corr_value\n",
              " 62         48         99    0.993471,      Features1  Features2  corr_value\n",
              " 70          46         44    0.989803\n",
              " 281         46        100    0.907873\n",
              " 384         46         97    0.875027,      Features1  Features2  corr_value\n",
              " 72         111        241    0.989162\n",
              " 100        111        242    0.980717\n",
              " 312        111        239    0.898932\n",
              " 446        111        114    0.856546,      Features1  Features2  corr_value\n",
              " 74         246        245    0.989146\n",
              " 202        246        243    0.938292,      Features1  Features2  corr_value\n",
              " 78          84         80    0.988399\n",
              " 207         84         85    0.936204\n",
              " 226         84        206    0.927520\n",
              " 231         84        212    0.925935\n",
              " 232         84         81    0.925559,     Features1  Features2  corr_value\n",
              " 82         83         79     0.98644,     Features1  Features2  corr_value\n",
              " 86        120        121    0.984127,     Features1  Features2  corr_value\n",
              " 88         93         49    0.983606,      Features1  Features2  corr_value\n",
              " 98          25         54    0.981043\n",
              " 418         25        102    0.865572,      Features1  Features2  corr_value\n",
              " 104        179        166    0.979866,      Features1  Features2  corr_value\n",
              " 108         59         60    0.979079,      Features1  Features2  corr_value\n",
              " 110         56         61    0.978063\n",
              " 159         56         27    0.956424\n",
              " 190         56         30    0.943818,      Features1  Features2  corr_value\n",
              " 114         34         36    0.976736\n",
              " 181         34         38    0.946056\n",
              " 237         34         35    0.923768,      Features1  Features2  corr_value\n",
              " 122        182        181    0.974380\n",
              " 209        182        183    0.936062\n",
              " 285        182        180    0.907691\n",
              " 450        182         41    0.854716,      Features1  Features2  corr_value\n",
              " 126         70         72    0.973253\n",
              " 327         70         35    0.891346\n",
              " 409         70         38    0.867555,      Features1  Features2  corr_value\n",
              " 128        116        252    0.972129\n",
              " 167        116        253    0.951492,      Features1  Features2  corr_value\n",
              " 138        265        264    0.968391\n",
              " 246        265        131    0.918992,      Features1  Features2  corr_value\n",
              " 144         12          5    0.959956\n",
              " 348         12         11    0.885884\n",
              " 458         12          4    0.853026,      Features1  Features2  corr_value\n",
              " 150        213        207    0.957868\n",
              " 244        213        212    0.919947\n",
              " 257        213         81    0.916936\n",
              " 275        213         85    0.909063\n",
              " 316        213        206    0.897783\n",
              " 461        213         80    0.852486,      Features1  Features2  corr_value\n",
              " 170        257        256    0.950236\n",
              " 263        257        108    0.911187,      Features1  Features2  corr_value\n",
              " 172        198        197    0.948975,      Features1  Features2  corr_value\n",
              " 176         42         41    0.946699\n",
              " 323         42        180    0.891448\n",
              " 427         42        183    0.864429,      Features1  Features2  corr_value\n",
              " 192         76         77    0.943792,      Features1  Features2  corr_value\n",
              " 196        233        234    0.942164\n",
              " 259        233        109    0.915166,      Features1  Features2  corr_value\n",
              " 200        104        105    0.941156,      Features1  Features2  corr_value\n",
              " 224         94         95    0.930509,      Features1  Features2  corr_value\n",
              " 241         50         21    0.922231,      Features1  Features2  corr_value\n",
              " 300         88         64    0.904128\n",
              " 365         88         89    0.880135,      Features1  Features2  corr_value\n",
              " 318        103         87    0.897522\n",
              " 320        103         40    0.893976,      Features1  Features2  corr_value\n",
              " 332        208        209    0.888206,      Features1  Features2  corr_value\n",
              " 346         65         89    0.886631\n",
              " 431         65         64    0.863644,      Features1  Features2  corr_value\n",
              " 354          9          8    0.881493\n",
              " 388          9        211    0.874241,      Features1  Features2  corr_value\n",
              " 366        140        173    0.879842,      Features1  Features2  corr_value\n",
              " 390        129         10     0.87364,      Features1  Features2  corr_value\n",
              " 392         66         67    0.872735,      Features1  Features2  corr_value\n",
              " 410        210          8    0.866493,      Features1  Features2  corr_value\n",
              " 424          6          7    0.864693,      Features1  Features2  corr_value\n",
              " 428        230        229    0.863939,      Features1  Features2  corr_value\n",
              " 435        107        229    0.861334,      Features1  Features2  corr_value\n",
              " 462        125         90    0.852312]"
            ]
          },
          "metadata": {
            "tags": []
          },
          "execution_count": 91
        }
      ]
    },
    {
      "cell_type": "code",
      "metadata": {
        "colab": {
          "base_uri": "https://localhost:8080/"
        },
        "id": "GL9UsDYnCp--",
        "outputId": "2a84335a-0633-495f-8dc8-05dc1a405cab"
      },
      "source": [
        "x_train.shape, x_train_uncor.shape"
      ],
      "execution_count": 92,
      "outputs": [
        {
          "output_type": "execute_result",
          "data": {
            "text/plain": [
              "((60816, 370), (60816, 130))"
            ]
          },
          "metadata": {
            "tags": []
          },
          "execution_count": 92
        }
      ]
    },
    {
      "cell_type": "code",
      "metadata": {
        "colab": {
          "base_uri": "https://localhost:8080/"
        },
        "id": "YN9fBgP8GCRB",
        "outputId": "7049ce91-fbf3-42ca-c0bf-c343ed3e1b2a"
      },
      "source": [
        "for group in correlated_groups_list:\n",
        "  print(group)\n",
        "  print('test')"
      ],
      "execution_count": 93,
      "outputs": [
        {
          "output_type": "stream",
          "text": [
            "   Features1  Features2  corr_value\n",
            "0        147        137         1.0\n",
            "test\n",
            "   Features1  Features2  corr_value\n",
            "2        145        135         1.0\n",
            "test\n",
            "   Features1  Features2  corr_value\n",
            "4        249        113         1.0\n",
            "test\n",
            "   Features1  Features2  corr_value\n",
            "6        134        127         1.0\n",
            "test\n",
            "   Features1  Features2  corr_value\n",
            "9        156        127         1.0\n",
            "test\n",
            "    Features1  Features2  corr_value\n",
            "11        247        113         1.0\n",
            "test\n",
            "    Features1  Features2  corr_value\n",
            "12        177        143         1.0\n",
            "test\n",
            "    Features1  Features2  corr_value\n",
            "14        117        106    0.999880\n",
            "16        117        155    0.999805\n",
            "test\n",
            "     Features1  Features2  corr_value\n",
            "18          23         52    0.999742\n",
            "216         23         53    0.931268\n",
            "219         23         24    0.931268\n",
            "404         23        201    0.867854\n",
            "421         23         21    0.865380\n",
            "test\n",
            "     Features1  Features2  corr_value\n",
            "22          29         58    0.999590\n",
            "95          29         28    0.981760\n",
            "116         29         57    0.976661\n",
            "152         29        203    0.957439\n",
            "307         29         30    0.900695\n",
            "336         29         27    0.887336\n",
            "test\n",
            "     Features1  Features2  corr_value\n",
            "24          33         69    0.999334\n",
            "182         33         32    0.945797\n",
            "195         33         68    0.943688\n",
            "268         33         26    0.910936\n",
            "299         33         55    0.904172\n",
            "363         33        202    0.880323\n",
            "test\n",
            "    Features1  Features2  corr_value\n",
            "26         98         45    0.999251\n",
            "43         98         47    0.997765\n",
            "45         98         20    0.997748\n",
            "test\n",
            "    Features1  Features2  corr_value\n",
            "28         14         17    0.999203\n",
            "test\n",
            "     Features1  Features2  corr_value\n",
            "30         215        217    0.999122\n",
            "283        215        214    0.907823\n",
            "292        215        216    0.906435\n",
            "test\n",
            "     Features1  Features2  corr_value\n",
            "38          16         13    0.998239\n",
            "334         16         15    0.887506\n",
            "357         16         18    0.881325\n",
            "test\n",
            "     Features1  Features2  corr_value\n",
            "40         199        226    0.997799\n",
            "290        199        223    0.907100\n",
            "376        199        225    0.876504\n",
            "test\n",
            "     Features1  Features2  corr_value\n",
            "50         260        126    0.996406\n",
            "90         260        261    0.983179\n",
            "414        260        258    0.865934\n",
            "test\n",
            "     Features1  Features2  corr_value\n",
            "52         119        110    0.996156\n",
            "102        119        237    0.980587\n",
            "131        119        130    0.971958\n",
            "135        119        238    0.969857\n",
            "378        119        235    0.876025\n",
            "test\n",
            "    Features1  Features2  corr_value\n",
            "54         62         31    0.995175\n",
            "test\n",
            "     Features1  Features2  corr_value\n",
            "58          51         22    0.993739\n",
            "305         51        200    0.902726\n",
            "test\n",
            "     Features1  Features2  corr_value\n",
            "60          82         78    0.993701\n",
            "417         82         85    0.865668\n",
            "436         82         81    0.860877\n",
            "test\n",
            "    Features1  Features2  corr_value\n",
            "62         48         99    0.993471\n",
            "test\n",
            "     Features1  Features2  corr_value\n",
            "70          46         44    0.989803\n",
            "281         46        100    0.907873\n",
            "384         46         97    0.875027\n",
            "test\n",
            "     Features1  Features2  corr_value\n",
            "72         111        241    0.989162\n",
            "100        111        242    0.980717\n",
            "312        111        239    0.898932\n",
            "446        111        114    0.856546\n",
            "test\n",
            "     Features1  Features2  corr_value\n",
            "74         246        245    0.989146\n",
            "202        246        243    0.938292\n",
            "test\n",
            "     Features1  Features2  corr_value\n",
            "78          84         80    0.988399\n",
            "207         84         85    0.936204\n",
            "226         84        206    0.927520\n",
            "231         84        212    0.925935\n",
            "232         84         81    0.925559\n",
            "test\n",
            "    Features1  Features2  corr_value\n",
            "82         83         79     0.98644\n",
            "test\n",
            "    Features1  Features2  corr_value\n",
            "86        120        121    0.984127\n",
            "test\n",
            "    Features1  Features2  corr_value\n",
            "88         93         49    0.983606\n",
            "test\n",
            "     Features1  Features2  corr_value\n",
            "98          25         54    0.981043\n",
            "418         25        102    0.865572\n",
            "test\n",
            "     Features1  Features2  corr_value\n",
            "104        179        166    0.979866\n",
            "test\n",
            "     Features1  Features2  corr_value\n",
            "108         59         60    0.979079\n",
            "test\n",
            "     Features1  Features2  corr_value\n",
            "110         56         61    0.978063\n",
            "159         56         27    0.956424\n",
            "190         56         30    0.943818\n",
            "test\n",
            "     Features1  Features2  corr_value\n",
            "114         34         36    0.976736\n",
            "181         34         38    0.946056\n",
            "237         34         35    0.923768\n",
            "test\n",
            "     Features1  Features2  corr_value\n",
            "122        182        181    0.974380\n",
            "209        182        183    0.936062\n",
            "285        182        180    0.907691\n",
            "450        182         41    0.854716\n",
            "test\n",
            "     Features1  Features2  corr_value\n",
            "126         70         72    0.973253\n",
            "327         70         35    0.891346\n",
            "409         70         38    0.867555\n",
            "test\n",
            "     Features1  Features2  corr_value\n",
            "128        116        252    0.972129\n",
            "167        116        253    0.951492\n",
            "test\n",
            "     Features1  Features2  corr_value\n",
            "138        265        264    0.968391\n",
            "246        265        131    0.918992\n",
            "test\n",
            "     Features1  Features2  corr_value\n",
            "144         12          5    0.959956\n",
            "348         12         11    0.885884\n",
            "458         12          4    0.853026\n",
            "test\n",
            "     Features1  Features2  corr_value\n",
            "150        213        207    0.957868\n",
            "244        213        212    0.919947\n",
            "257        213         81    0.916936\n",
            "275        213         85    0.909063\n",
            "316        213        206    0.897783\n",
            "461        213         80    0.852486\n",
            "test\n",
            "     Features1  Features2  corr_value\n",
            "170        257        256    0.950236\n",
            "263        257        108    0.911187\n",
            "test\n",
            "     Features1  Features2  corr_value\n",
            "172        198        197    0.948975\n",
            "test\n",
            "     Features1  Features2  corr_value\n",
            "176         42         41    0.946699\n",
            "323         42        180    0.891448\n",
            "427         42        183    0.864429\n",
            "test\n",
            "     Features1  Features2  corr_value\n",
            "192         76         77    0.943792\n",
            "test\n",
            "     Features1  Features2  corr_value\n",
            "196        233        234    0.942164\n",
            "259        233        109    0.915166\n",
            "test\n",
            "     Features1  Features2  corr_value\n",
            "200        104        105    0.941156\n",
            "test\n",
            "     Features1  Features2  corr_value\n",
            "224         94         95    0.930509\n",
            "test\n",
            "     Features1  Features2  corr_value\n",
            "241         50         21    0.922231\n",
            "test\n",
            "     Features1  Features2  corr_value\n",
            "300         88         64    0.904128\n",
            "365         88         89    0.880135\n",
            "test\n",
            "     Features1  Features2  corr_value\n",
            "318        103         87    0.897522\n",
            "320        103         40    0.893976\n",
            "test\n",
            "     Features1  Features2  corr_value\n",
            "332        208        209    0.888206\n",
            "test\n",
            "     Features1  Features2  corr_value\n",
            "346         65         89    0.886631\n",
            "431         65         64    0.863644\n",
            "test\n",
            "     Features1  Features2  corr_value\n",
            "354          9          8    0.881493\n",
            "388          9        211    0.874241\n",
            "test\n",
            "     Features1  Features2  corr_value\n",
            "366        140        173    0.879842\n",
            "test\n",
            "     Features1  Features2  corr_value\n",
            "390        129         10     0.87364\n",
            "test\n",
            "     Features1  Features2  corr_value\n",
            "392         66         67    0.872735\n",
            "test\n",
            "     Features1  Features2  corr_value\n",
            "410        210          8    0.866493\n",
            "test\n",
            "     Features1  Features2  corr_value\n",
            "424          6          7    0.864693\n",
            "test\n",
            "     Features1  Features2  corr_value\n",
            "428        230        229    0.863939\n",
            "test\n",
            "     Features1  Features2  corr_value\n",
            "435        107        229    0.861334\n",
            "test\n",
            "     Features1  Features2  corr_value\n",
            "462        125         90    0.852312\n",
            "test\n"
          ],
          "name": "stdout"
        }
      ]
    },
    {
      "cell_type": "markdown",
      "metadata": {
        "id": "uQHua4l4Fvnx"
      },
      "source": [
        "**Feature importance based on tree based classifiers**"
      ]
    },
    {
      "cell_type": "code",
      "metadata": {
        "id": "C60XUpfBCqBS"
      },
      "source": [
        "important_features = []\n",
        "for group in correlated_groups_list:\n",
        "  features = list(group.Features1.unique()) + list(group.Features2.unique())\n",
        "  rf = RandomForestClassifier(n_estimators=100,random_state=0)\n",
        "  rf.fit(x_train_unique[features], y_train)\n",
        "  importance = pd.concat([pd.Series(features), pd.Series(rf.feature_importances_)], axis=1)\n",
        "  importance.columns = ['features', 'importance']\n",
        "  importance.sort_values(by= 'importance', ascending=False, inplace=True)\n",
        "  feat = importance.iloc[0]\n",
        "  important_features.append(feat)"
      ],
      "execution_count": 95,
      "outputs": []
    },
    {
      "cell_type": "code",
      "metadata": {
        "colab": {
          "base_uri": "https://localhost:8080/",
          "height": 419
        },
        "id": "TSdniQt9IBGk",
        "outputId": "82ad422e-4ec1-4173-d453-75af018ab0fc"
      },
      "source": [
        "important_features"
      ],
      "execution_count": 99,
      "outputs": [
        {
          "output_type": "execute_result",
          "data": {
            "text/html": [
              "<div>\n",
              "<style scoped>\n",
              "    .dataframe tbody tr th:only-of-type {\n",
              "        vertical-align: middle;\n",
              "    }\n",
              "\n",
              "    .dataframe tbody tr th {\n",
              "        vertical-align: top;\n",
              "    }\n",
              "\n",
              "    .dataframe thead th {\n",
              "        text-align: right;\n",
              "    }\n",
              "</style>\n",
              "<table border=\"1\" class=\"dataframe\">\n",
              "  <thead>\n",
              "    <tr style=\"text-align: right;\">\n",
              "      <th></th>\n",
              "      <th>features</th>\n",
              "      <th>importance</th>\n",
              "    </tr>\n",
              "  </thead>\n",
              "  <tbody>\n",
              "    <tr>\n",
              "      <th>1</th>\n",
              "      <td>137.0</td>\n",
              "      <td>0.551411</td>\n",
              "    </tr>\n",
              "    <tr>\n",
              "      <th>1</th>\n",
              "      <td>135.0</td>\n",
              "      <td>0.513098</td>\n",
              "    </tr>\n",
              "    <tr>\n",
              "      <th>1</th>\n",
              "      <td>113.0</td>\n",
              "      <td>0.610169</td>\n",
              "    </tr>\n",
              "    <tr>\n",
              "      <th>1</th>\n",
              "      <td>127.0</td>\n",
              "      <td>0.517241</td>\n",
              "    </tr>\n",
              "    <tr>\n",
              "      <th>1</th>\n",
              "      <td>127.0</td>\n",
              "      <td>0.517241</td>\n",
              "    </tr>\n",
              "    <tr>\n",
              "      <th>...</th>\n",
              "      <td>...</td>\n",
              "      <td>...</td>\n",
              "    </tr>\n",
              "    <tr>\n",
              "      <th>1</th>\n",
              "      <td>8.0</td>\n",
              "      <td>0.652687</td>\n",
              "    </tr>\n",
              "    <tr>\n",
              "      <th>1</th>\n",
              "      <td>7.0</td>\n",
              "      <td>0.577731</td>\n",
              "    </tr>\n",
              "    <tr>\n",
              "      <th>0</th>\n",
              "      <td>230.0</td>\n",
              "      <td>0.542106</td>\n",
              "    </tr>\n",
              "    <tr>\n",
              "      <th>1</th>\n",
              "      <td>229.0</td>\n",
              "      <td>0.545270</td>\n",
              "    </tr>\n",
              "    <tr>\n",
              "      <th>0</th>\n",
              "      <td>125.0</td>\n",
              "      <td>0.952414</td>\n",
              "    </tr>\n",
              "  </tbody>\n",
              "</table>\n",
              "<p>61 rows × 2 columns</p>\n",
              "</div>"
            ],
            "text/plain": [
              "    features  importance\n",
              "1      137.0    0.551411\n",
              "1      135.0    0.513098\n",
              "1      113.0    0.610169\n",
              "1      127.0    0.517241\n",
              "1      127.0    0.517241\n",
              "..       ...         ...\n",
              "1        8.0    0.652687\n",
              "1        7.0    0.577731\n",
              "0      230.0    0.542106\n",
              "1      229.0    0.545270\n",
              "0      125.0    0.952414\n",
              "\n",
              "[61 rows x 2 columns]"
            ]
          },
          "metadata": {
            "tags": []
          },
          "execution_count": 99
        }
      ]
    },
    {
      "cell_type": "code",
      "metadata": {
        "id": "SPWarfvsIi81"
      },
      "source": [
        "important_features = pd.DataFrame(important_features)"
      ],
      "execution_count": 97,
      "outputs": []
    },
    {
      "cell_type": "code",
      "metadata": {
        "id": "YYMetSRtLjdZ"
      },
      "source": [
        "important_features.reset_index(inplace=True, drop=True)"
      ],
      "execution_count": 100,
      "outputs": []
    },
    {
      "cell_type": "code",
      "metadata": {
        "colab": {
          "base_uri": "https://localhost:8080/",
          "height": 419
        },
        "id": "-5m4Cm8KLuv4",
        "outputId": "7cb0a01b-73eb-4464-fbc1-fa89fd916d48"
      },
      "source": [
        "important_features"
      ],
      "execution_count": 101,
      "outputs": [
        {
          "output_type": "execute_result",
          "data": {
            "text/html": [
              "<div>\n",
              "<style scoped>\n",
              "    .dataframe tbody tr th:only-of-type {\n",
              "        vertical-align: middle;\n",
              "    }\n",
              "\n",
              "    .dataframe tbody tr th {\n",
              "        vertical-align: top;\n",
              "    }\n",
              "\n",
              "    .dataframe thead th {\n",
              "        text-align: right;\n",
              "    }\n",
              "</style>\n",
              "<table border=\"1\" class=\"dataframe\">\n",
              "  <thead>\n",
              "    <tr style=\"text-align: right;\">\n",
              "      <th></th>\n",
              "      <th>features</th>\n",
              "      <th>importance</th>\n",
              "    </tr>\n",
              "  </thead>\n",
              "  <tbody>\n",
              "    <tr>\n",
              "      <th>0</th>\n",
              "      <td>137.0</td>\n",
              "      <td>0.551411</td>\n",
              "    </tr>\n",
              "    <tr>\n",
              "      <th>1</th>\n",
              "      <td>135.0</td>\n",
              "      <td>0.513098</td>\n",
              "    </tr>\n",
              "    <tr>\n",
              "      <th>2</th>\n",
              "      <td>113.0</td>\n",
              "      <td>0.610169</td>\n",
              "    </tr>\n",
              "    <tr>\n",
              "      <th>3</th>\n",
              "      <td>127.0</td>\n",
              "      <td>0.517241</td>\n",
              "    </tr>\n",
              "    <tr>\n",
              "      <th>4</th>\n",
              "      <td>127.0</td>\n",
              "      <td>0.517241</td>\n",
              "    </tr>\n",
              "    <tr>\n",
              "      <th>...</th>\n",
              "      <td>...</td>\n",
              "      <td>...</td>\n",
              "    </tr>\n",
              "    <tr>\n",
              "      <th>56</th>\n",
              "      <td>8.0</td>\n",
              "      <td>0.652687</td>\n",
              "    </tr>\n",
              "    <tr>\n",
              "      <th>57</th>\n",
              "      <td>7.0</td>\n",
              "      <td>0.577731</td>\n",
              "    </tr>\n",
              "    <tr>\n",
              "      <th>58</th>\n",
              "      <td>230.0</td>\n",
              "      <td>0.542106</td>\n",
              "    </tr>\n",
              "    <tr>\n",
              "      <th>59</th>\n",
              "      <td>229.0</td>\n",
              "      <td>0.545270</td>\n",
              "    </tr>\n",
              "    <tr>\n",
              "      <th>60</th>\n",
              "      <td>125.0</td>\n",
              "      <td>0.952414</td>\n",
              "    </tr>\n",
              "  </tbody>\n",
              "</table>\n",
              "<p>61 rows × 2 columns</p>\n",
              "</div>"
            ],
            "text/plain": [
              "    features  importance\n",
              "0      137.0    0.551411\n",
              "1      135.0    0.513098\n",
              "2      113.0    0.610169\n",
              "3      127.0    0.517241\n",
              "4      127.0    0.517241\n",
              "..       ...         ...\n",
              "56       8.0    0.652687\n",
              "57       7.0    0.577731\n",
              "58     230.0    0.542106\n",
              "59     229.0    0.545270\n",
              "60     125.0    0.952414\n",
              "\n",
              "[61 rows x 2 columns]"
            ]
          },
          "metadata": {
            "tags": []
          },
          "execution_count": 101
        }
      ]
    },
    {
      "cell_type": "code",
      "metadata": {
        "id": "K4EwBH3yL8S-"
      },
      "source": [
        "features_to_consider = set(important_features['features'])"
      ],
      "execution_count": 102,
      "outputs": []
    },
    {
      "cell_type": "code",
      "metadata": {
        "id": "i6ZF_l0fMJDP"
      },
      "source": [
        "features_to_discard = set(corr_features) - set(features_to_consider)"
      ],
      "execution_count": 103,
      "outputs": []
    },
    {
      "cell_type": "code",
      "metadata": {
        "id": "S7Y9QLT3MaOU"
      },
      "source": [
        "features_to_discard = list(features_to_discard)"
      ],
      "execution_count": 104,
      "outputs": []
    },
    {
      "cell_type": "code",
      "metadata": {
        "colab": {
          "base_uri": "https://localhost:8080/"
        },
        "id": "Y85jfPetMf1q",
        "outputId": "0b55b98d-13bd-4662-9dfd-73e2257a03d1"
      },
      "source": [
        "x_train_grouped_uncor = x_train_unique.drop(labels=features_to_discard, axis=1)\n",
        "x_train_grouped_uncor.shape"
      ],
      "execution_count": 105,
      "outputs": [
        {
          "output_type": "execute_result",
          "data": {
            "text/plain": [
              "(60816, 165)"
            ]
          },
          "metadata": {
            "tags": []
          },
          "execution_count": 105
        }
      ]
    },
    {
      "cell_type": "code",
      "metadata": {
        "id": "yMm76hKLM2gf"
      },
      "source": [
        "x_test_grouped_uncor = x_test_unique.drop(labels=features_to_discard, axis=1)"
      ],
      "execution_count": 106,
      "outputs": []
    },
    {
      "cell_type": "code",
      "metadata": {
        "colab": {
          "base_uri": "https://localhost:8080/"
        },
        "id": "LpiDKf6RNC4u",
        "outputId": "504f02db-8a71-427a-eaa7-580e21ec82c4"
      },
      "source": [
        "%%time\n",
        "run_random_forest(x_train_grouped_uncor, x_test_grouped_uncor, y_train, y_test)"
      ],
      "execution_count": 107,
      "outputs": [
        {
          "output_type": "stream",
          "text": [
            "Accuracy on test set:  0.9565903709550119\n",
            "CPU times: user 24.5 s, sys: 69.8 ms, total: 24.5 s\n",
            "Wall time: 12.7 s\n"
          ],
          "name": "stdout"
        }
      ]
    },
    {
      "cell_type": "code",
      "metadata": {
        "id": "rwrbvS-_NNgz"
      },
      "source": [
        ""
      ],
      "execution_count": null,
      "outputs": []
    }
  ]
}