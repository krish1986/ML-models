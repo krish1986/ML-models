{
  "nbformat": 4,
  "nbformat_minor": 0,
  "metadata": {
    "colab": {
      "name": "Use of Batchnormalization, droput in 2 D conv dogs vs cats & VGG16.ipynb",
      "provenance": [],
      "collapsed_sections": []
    },
    "kernelspec": {
      "name": "python3",
      "display_name": "Python 3"
    },
    "language_info": {
      "name": "python"
    },
    "accelerator": "TPU"
  },
  "cells": [
    {
      "cell_type": "code",
      "metadata": {
        "id": "K0CBJynx1gLY"
      },
      "source": [
        "import tensorflow as tf\n",
        "from tensorflow import keras\n",
        "from tensorflow.keras import Sequential\n",
        "from tensorflow.keras.layers import  Flatten, Dense, Conv2D, MaxPool2D, ZeroPadding2D, Dropout, BatchNormalization\n",
        "from tensorflow.keras.preprocessing.image import ImageDataGenerator # reads the images into a array\n",
        "from tensorflow.keras.optimizers import SGD"
      ],
      "execution_count": 16,
      "outputs": []
    },
    {
      "cell_type": "code",
      "metadata": {
        "id": "kFIpBCjQ6KGW"
      },
      "source": [
        "import numpy as np\n",
        "import matplotlib.pyplot as plt"
      ],
      "execution_count": 5,
      "outputs": []
    },
    {
      "cell_type": "code",
      "metadata": {
        "colab": {
          "base_uri": "https://localhost:8080/"
        },
        "id": "so8QAHgN6Our",
        "outputId": "cf09ee47-6cc0-424e-99c2-b659eab9a542"
      },
      "source": [
        "!git clone https://github.com/laxmimerit/dog-cat-full-dataset.git"
      ],
      "execution_count": 4,
      "outputs": [
        {
          "output_type": "stream",
          "text": [
            "Cloning into 'dog-cat-full-dataset'...\n",
            "remote: Enumerating objects: 25027, done.\u001b[K\n",
            "remote: Total 25027 (delta 0), reused 0 (delta 0), pack-reused 25027\u001b[K\n",
            "Receiving objects: 100% (25027/25027), 541.62 MiB | 34.85 MiB/s, done.\n",
            "Resolving deltas: 100% (5/5), done.\n",
            "Checking out files: 100% (25001/25001), done.\n"
          ],
          "name": "stdout"
        }
      ]
    },
    {
      "cell_type": "code",
      "metadata": {
        "id": "UJbdX-SR6Xc8"
      },
      "source": [
        "test_data_dir = '/content/dog-cat-full-dataset/data/test'\n",
        "train_data_dir = '/content/dog-cat-full-dataset/data/train'"
      ],
      "execution_count": 6,
      "outputs": []
    },
    {
      "cell_type": "code",
      "metadata": {
        "id": "OTe_Bm-H_-pH"
      },
      "source": [
        "img_width = 32\n",
        "img_height = 32\n",
        "batch_size = 20"
      ],
      "execution_count": 7,
      "outputs": []
    },
    {
      "cell_type": "code",
      "metadata": {
        "id": "yNtBkPgGAS83"
      },
      "source": [
        "datagen = ImageDataGenerator(rescale=1/255)\n"
      ],
      "execution_count": 8,
      "outputs": []
    },
    {
      "cell_type": "code",
      "metadata": {
        "colab": {
          "base_uri": "https://localhost:8080/"
        },
        "id": "ZWjQ7zzdAUQc",
        "outputId": "a3edaab1-bcdb-4c05-a368-4381e557f605"
      },
      "source": [
        "train_generator = datagen.flow_from_directory(train_data_dir, target_size=(img_width,img_height),batch_size=batch_size,classes=['dogs', 'cats'],class_mode='binary')"
      ],
      "execution_count": 9,
      "outputs": [
        {
          "output_type": "stream",
          "text": [
            "Found 20000 images belonging to 2 classes.\n"
          ],
          "name": "stdout"
        }
      ]
    },
    {
      "cell_type": "code",
      "metadata": {
        "colab": {
          "base_uri": "https://localhost:8080/"
        },
        "id": "txaJLm0_BR8V",
        "outputId": "e153519d-fd49-48e4-a90f-a2eb4da7331f"
      },
      "source": [
        "train_generator.class_indices"
      ],
      "execution_count": 11,
      "outputs": [
        {
          "output_type": "execute_result",
          "data": {
            "text/plain": [
              "{'cats': 1, 'dogs': 0}"
            ]
          },
          "metadata": {
            "tags": []
          },
          "execution_count": 11
        }
      ]
    },
    {
      "cell_type": "code",
      "metadata": {
        "colab": {
          "base_uri": "https://localhost:8080/"
        },
        "id": "KP2NS7NkAUSt",
        "outputId": "5e325399-bbc7-4388-cd33-0c45c8b053e2"
      },
      "source": [
        "test_generator = datagen.flow_from_directory(test_data_dir,target_size=(img_width,img_height),batch_size=batch_size,classes=['dogs', 'cats'],class_mode='binary')"
      ],
      "execution_count": 12,
      "outputs": [
        {
          "output_type": "stream",
          "text": [
            "Found 5000 images belonging to 2 classes.\n"
          ],
          "name": "stdout"
        }
      ]
    },
    {
      "cell_type": "code",
      "metadata": {
        "colab": {
          "base_uri": "https://localhost:8080/"
        },
        "id": "oC27kh84AUVn",
        "outputId": "120646c3-437b-4397-ad30-266fc02ee251"
      },
      "source": [
        "len(train_generator) #Batchsize * 1000 i.e 20,000"
      ],
      "execution_count": 14,
      "outputs": [
        {
          "output_type": "execute_result",
          "data": {
            "text/plain": [
              "1000"
            ]
          },
          "metadata": {
            "tags": []
          },
          "execution_count": 14
        }
      ]
    },
    {
      "cell_type": "code",
      "metadata": {
        "id": "N7RVzYwwAUX-"
      },
      "source": [
        "  model = Sequential()\n",
        "  model.add(Conv2D(filters=64,kernel_size=(3,3), strides=(1,1),padding='same',kernel_initializer='he_uniform',input_shape=(img_width,img_height,3),activation='relu'))\n",
        "  model.add(MaxPool2D(pool_size=(2,2)))\n",
        "  model.add(Flatten())\n",
        "  model.add(Dense(128,activation='relu',kernel_initializer='he_uniform'))\n",
        "  model.add(Dense(1,activation='sigmoid'))"
      ],
      "execution_count": 20,
      "outputs": []
    },
    {
      "cell_type": "code",
      "metadata": {
        "id": "FeLCzR58AUae"
      },
      "source": [
        "opt= SGD(learning_rate=0.01,momentum=0.9)"
      ],
      "execution_count": 21,
      "outputs": []
    },
    {
      "cell_type": "code",
      "metadata": {
        "id": "Np7BPU58AUct"
      },
      "source": [
        "model.compile(optimizer=opt, loss='binary_crossentropy',metrics=['accuracy'])"
      ],
      "execution_count": 22,
      "outputs": []
    },
    {
      "cell_type": "code",
      "metadata": {
        "colab": {
          "base_uri": "https://localhost:8080/"
        },
        "id": "QLBSxsSTAUep",
        "outputId": "348a6d5a-485a-41d9-d8f6-a6c6e8952346"
      },
      "source": [
        "history = model.fit_generator(train_generator,steps_per_epoch=len(train_generator),epochs=5, verbose=1, validation_data=test_generator,validation_steps=len(test_generator))"
      ],
      "execution_count": 23,
      "outputs": [
        {
          "output_type": "stream",
          "text": [
            "/usr/local/lib/python3.7/dist-packages/tensorflow/python/keras/engine/training.py:1940: UserWarning: `Model.fit_generator` is deprecated and will be removed in a future version. Please use `Model.fit`, which supports generators.\n",
            "  warnings.warn('`Model.fit_generator` is deprecated and '\n"
          ],
          "name": "stderr"
        },
        {
          "output_type": "stream",
          "text": [
            "Epoch 1/5\n",
            "1000/1000 [==============================] - 108s 107ms/step - loss: 0.6990 - accuracy: 0.5046 - val_loss: 0.6932 - val_accuracy: 0.5002\n",
            "Epoch 2/5\n",
            "1000/1000 [==============================] - 104s 104ms/step - loss: 0.6937 - accuracy: 0.4950 - val_loss: 0.6936 - val_accuracy: 0.5000\n",
            "Epoch 3/5\n",
            "1000/1000 [==============================] - 105s 105ms/step - loss: 0.6934 - accuracy: 0.5002 - val_loss: 0.6936 - val_accuracy: 0.5000\n",
            "Epoch 4/5\n",
            "1000/1000 [==============================] - 105s 105ms/step - loss: 0.6936 - accuracy: 0.4982 - val_loss: 0.6932 - val_accuracy: 0.5000\n",
            "Epoch 5/5\n",
            "1000/1000 [==============================] - 106s 106ms/step - loss: 0.6932 - accuracy: 0.5026 - val_loss: 0.6931 - val_accuracy: 0.5024\n"
          ],
          "name": "stdout"
        }
      ]
    },
    {
      "cell_type": "code",
      "metadata": {
        "colab": {
          "base_uri": "https://localhost:8080/"
        },
        "id": "rKxCxdGbAUhK",
        "outputId": "42f68e98-43cc-4ba6-819e-bc60bb6c17a0"
      },
      "source": [
        "history.history"
      ],
      "execution_count": 24,
      "outputs": [
        {
          "output_type": "execute_result",
          "data": {
            "text/plain": [
              "{'accuracy': [0.5045999884605408,\n",
              "  0.4950000047683716,\n",
              "  0.5001500248908997,\n",
              "  0.498199999332428,\n",
              "  0.5026000142097473],\n",
              " 'loss': [0.6989613175392151,\n",
              "  0.6936575174331665,\n",
              "  0.6933780312538147,\n",
              "  0.6936327219009399,\n",
              "  0.6931818723678589],\n",
              " 'val_accuracy': [0.5001999735832214, 0.5, 0.5, 0.5, 0.5023999810218811],\n",
              " 'val_loss': [0.6931709051132202,\n",
              "  0.6935763955116272,\n",
              "  0.6936477422714233,\n",
              "  0.6931515336036682,\n",
              "  0.693057119846344]}"
            ]
          },
          "metadata": {
            "tags": []
          },
          "execution_count": 24
        }
      ]
    },
    {
      "cell_type": "code",
      "metadata": {
        "colab": {
          "base_uri": "https://localhost:8080/",
          "height": 573
        },
        "id": "3PAtDbZvAUmG",
        "outputId": "19c29358-8ded-49a6-fd4b-59e76bcb15d6"
      },
      "source": [
        "epochs_range = range(1,6)\n",
        "plt.plot(epochs_range,history.history['accuracy'])\n",
        "plt.plot(epochs_range,history.history['val_accuracy'])\n",
        "plt.title('Model Accuracy')\n",
        "plt.xlabel('Epochs')\n",
        "plt.ylabel('Accuracy')\n",
        "plt.legend(['Train', 'Test'], loc='upper left')\n",
        "plt.show()\n",
        "\n",
        "plt.plot(epochs_range,history.history['loss'])\n",
        "plt.plot(epochs_range,history.history['val_loss'])\n",
        "plt.title('Model Loss')\n",
        "plt.xlabel('Epochs')\n",
        "plt.ylabel('Loss')\n",
        "plt.legend(['Train', 'Test'], loc='upper left')\n",
        "plt.show()"
      ],
      "execution_count": 27,
      "outputs": [
        {
          "output_type": "display_data",
          "data": {
            "image/png": "[encoded data removed]",
            "text/plain": [
              "<Figure size 432x288 with 1 Axes>"
            ]
          },
          "metadata": {
            "tags": [],
            "needs_background": "light"
          }
        },
        {
          "output_type": "display_data",
          "data": {
            "image/png": "[encoded data removed]",
            "text/plain": [
              "<Figure size 432x288 with 1 Axes>"
            ]
          },
          "metadata": {
            "tags": [],
            "needs_background": "light"
          }
        }
      ]
    },
    {
      "cell_type": "code",
      "metadata": {
        "id": "zXyQ9SfAkHlo"
      },
      "source": [
        "  model = Sequential()\n",
        "  model.add(Conv2D(filters=64,kernel_size=(3,3), strides=(1,1),padding='same',kernel_initializer='he_uniform',input_shape=(img_width,img_height,3),activation='relu'))\n",
        "  model.add(MaxPool2D(pool_size=(2,2)))\n",
        "  model.add(Conv2D(filters=128,kernel_size=(3,3), strides=(1,1),padding='same',kernel_initializer='he_uniform',activation='relu'))\n",
        "  model.add(MaxPool2D(pool_size=(2,2)))\n",
        "  model.add(Conv2D(filters=256,kernel_size=(3,3), strides=(1,1),padding='same',kernel_initializer='he_uniform',activation='relu'))\n",
        "  model.add(MaxPool2D(pool_size=(2,2)))\n",
        "  model.add(Flatten())\n",
        "  model.add(Dense(128,activation='relu',kernel_initializer='he_uniform'))\n",
        "  model.add(Dense(1,activation='sigmoid'))"
      ],
      "execution_count": 28,
      "outputs": []
    },
    {
      "cell_type": "code",
      "metadata": {
        "id": "xnkWe9sukHlq"
      },
      "source": [
        "model.compile(optimizer=opt, loss='binary_crossentropy',metrics=['accuracy'])"
      ],
      "execution_count": 29,
      "outputs": []
    },
    {
      "cell_type": "code",
      "metadata": {
        "colab": {
          "base_uri": "https://localhost:8080/"
        },
        "id": "d9r-Nc5qkHlq",
        "outputId": "1e25aa86-2f84-422f-8965-3792a010b1af"
      },
      "source": [
        "history = model.fit_generator(train_generator,steps_per_epoch=len(train_generator),epochs=5, verbose=1, validation_data=test_generator,validation_steps=len(test_generator))"
      ],
      "execution_count": 30,
      "outputs": [
        {
          "output_type": "stream",
          "text": [
            "/usr/local/lib/python3.7/dist-packages/tensorflow/python/keras/engine/training.py:1940: UserWarning: `Model.fit_generator` is deprecated and will be removed in a future version. Please use `Model.fit`, which supports generators.\n",
            "  warnings.warn('`Model.fit_generator` is deprecated and '\n"
          ],
          "name": "stderr"
        },
        {
          "output_type": "stream",
          "text": [
            "Epoch 1/5\n",
            "1000/1000 [==============================] - 216s 215ms/step - loss: 0.6463 - accuracy: 0.6206 - val_loss: 0.5520 - val_accuracy: 0.7200\n",
            "Epoch 2/5\n",
            "1000/1000 [==============================] - 213s 213ms/step - loss: 0.5309 - accuracy: 0.7372 - val_loss: 0.4885 - val_accuracy: 0.7556\n",
            "Epoch 3/5\n",
            "1000/1000 [==============================] - 213s 213ms/step - loss: 0.4724 - accuracy: 0.7750 - val_loss: 0.4897 - val_accuracy: 0.7590\n",
            "Epoch 4/5\n",
            "1000/1000 [==============================] - 211s 211ms/step - loss: 0.4239 - accuracy: 0.8041 - val_loss: 0.4468 - val_accuracy: 0.7906\n",
            "Epoch 5/5\n",
            "1000/1000 [==============================] - 213s 213ms/step - loss: 0.3800 - accuracy: 0.8282 - val_loss: 0.4511 - val_accuracy: 0.7796\n"
          ],
          "name": "stdout"
        }
      ]
    },
    {
      "cell_type": "code",
      "metadata": {
        "colab": {
          "base_uri": "https://localhost:8080/"
        },
        "id": "WkogyVZElC_v",
        "outputId": "1702cec9-f802-4809-e3d6-bc611b47f35a"
      },
      "source": [
        "history.history"
      ],
      "execution_count": 31,
      "outputs": [
        {
          "output_type": "execute_result",
          "data": {
            "text/plain": [
              "{'accuracy': [0.6206499934196472,\n",
              "  0.7371500134468079,\n",
              "  0.7750499844551086,\n",
              "  0.8040500283241272,\n",
              "  0.8281999826431274],\n",
              " 'loss': [0.6463484168052673,\n",
              "  0.5309126973152161,\n",
              "  0.47240546345710754,\n",
              "  0.42388716340065,\n",
              "  0.3799512982368469],\n",
              " 'val_accuracy': [0.7200000286102295,\n",
              "  0.7555999755859375,\n",
              "  0.7590000033378601,\n",
              "  0.7906000018119812,\n",
              "  0.7796000242233276],\n",
              " 'val_loss': [0.5520191788673401,\n",
              "  0.4884829521179199,\n",
              "  0.4896821677684784,\n",
              "  0.44677168130874634,\n",
              "  0.4511328637599945]}"
            ]
          },
          "metadata": {
            "tags": []
          },
          "execution_count": 31
        }
      ]
    },
    {
      "cell_type": "code",
      "metadata": {
        "colab": {
          "base_uri": "https://localhost:8080/",
          "height": 573
        },
        "id": "EfvAYS1RlC_w",
        "outputId": "e4b64798-89b0-4100-98ae-d877b10a560f"
      },
      "source": [
        "epochs_range = range(1,6)\n",
        "plt.plot(epochs_range,history.history['accuracy'])\n",
        "plt.plot(epochs_range,history.history['val_accuracy'])\n",
        "plt.title('Model Accuracy')\n",
        "plt.xlabel('Epochs')\n",
        "plt.ylabel('Accuracy')\n",
        "plt.legend(['Train', 'Test'], loc='upper left')\n",
        "plt.show()\n",
        "\n",
        "plt.plot(epochs_range,history.history['loss'])\n",
        "plt.plot(epochs_range,history.history['val_loss'])\n",
        "plt.title('Model Loss')\n",
        "plt.xlabel('Epochs')\n",
        "plt.ylabel('Loss')\n",
        "plt.legend(['Train', 'Test'], loc='upper left')\n",
        "plt.show()"
      ],
      "execution_count": 32,
      "outputs": [
        {
          "output_type": "display_data",
          "data": {
            "image/png": "[encoded data removed]",
            "text/plain": [
              "<Figure size 432x288 with 1 Axes>"
            ]
          },
          "metadata": {
            "tags": [],
            "needs_background": "light"
          }
        },
        {
          "output_type": "display_data",
          "data": {
            "image/png": "[encoded data removed]",
            "text/plain": [
              "<Figure size 432x288 with 1 Axes>"
            ]
          },
          "metadata": {
            "tags": [],
            "needs_background": "light"
          }
        }
      ]
    },
    {
      "cell_type": "code",
      "metadata": {
        "id": "E0lWxMq8legQ"
      },
      "source": [
        "  model = Sequential()\n",
        "  model.add(Conv2D(filters=64,kernel_size=(3,3), strides=(1,1),padding='same',kernel_initializer='he_uniform',input_shape=(img_width,img_height,3),activation='relu'))\n",
        "  model.add(BatchNormalization())\n",
        "  model.add(MaxPool2D(pool_size=(2,2)))\n",
        "  model.add(Dropout(0.2))\n",
        "  model.add(Conv2D(filters=128,kernel_size=(3,3), strides=(1,1),padding='same',kernel_initializer='he_uniform',activation='relu'))\n",
        "  model.add(BatchNormalization())\n",
        "  model.add(MaxPool2D(pool_size=(2,2)))\n",
        "  model.add(Dropout(0.3))\n",
        "  model.add(Conv2D(filters=256,kernel_size=(3,3), strides=(1,1),padding='same',kernel_initializer='he_uniform',activation='relu'))\n",
        "  model.add(BatchNormalization())\n",
        "  model.add(MaxPool2D(pool_size=(2,2)))\n",
        "  model.add(Dropout(0.5))\n",
        "  model.add(Flatten())\n",
        "  model.add(Dense(128,activation='relu',kernel_initializer='he_uniform'))\n",
        "  model.add(BatchNormalization())\n",
        "  model.add(Dropout(0.5))\n",
        "  model.add(Dense(1,activation='sigmoid'))"
      ],
      "execution_count": 33,
      "outputs": []
    },
    {
      "cell_type": "code",
      "metadata": {
        "id": "yP5mxUq7legR"
      },
      "source": [
        "model.compile(optimizer=opt, loss='binary_crossentropy',metrics=['accuracy'])"
      ],
      "execution_count": 34,
      "outputs": []
    },
    {
      "cell_type": "code",
      "metadata": {
        "colab": {
          "base_uri": "https://localhost:8080/"
        },
        "id": "XH0qPQz_legS",
        "outputId": "c8c1b924-7142-4030-dd38-dbafff90a4db"
      },
      "source": [
        "history = model.fit_generator(train_generator,steps_per_epoch=len(train_generator),epochs=5, verbose=1, validation_data=test_generator,validation_steps=len(test_generator))"
      ],
      "execution_count": 35,
      "outputs": [
        {
          "output_type": "stream",
          "text": [
            "/usr/local/lib/python3.7/dist-packages/tensorflow/python/keras/engine/training.py:1940: UserWarning: `Model.fit_generator` is deprecated and will be removed in a future version. Please use `Model.fit`, which supports generators.\n",
            "  warnings.warn('`Model.fit_generator` is deprecated and '\n"
          ],
          "name": "stderr"
        },
        {
          "output_type": "stream",
          "text": [
            "Epoch 1/5\n",
            "1000/1000 [==============================] - 243s 242ms/step - loss: 0.6838 - accuracy: 0.6198 - val_loss: 0.7223 - val_accuracy: 0.6120\n",
            "Epoch 2/5\n",
            "1000/1000 [==============================] - 241s 241ms/step - loss: 0.6116 - accuracy: 0.6766 - val_loss: 0.5417 - val_accuracy: 0.7258\n",
            "Epoch 3/5\n",
            "1000/1000 [==============================] - 241s 241ms/step - loss: 0.5619 - accuracy: 0.7147 - val_loss: 0.6973 - val_accuracy: 0.6474\n",
            "Epoch 4/5\n",
            "1000/1000 [==============================] - 241s 241ms/step - loss: 0.5219 - accuracy: 0.7455 - val_loss: 0.5449 - val_accuracy: 0.7046\n",
            "Epoch 5/5\n",
            "1000/1000 [==============================] - 242s 242ms/step - loss: 0.5048 - accuracy: 0.7541 - val_loss: 0.4679 - val_accuracy: 0.7712\n"
          ],
          "name": "stdout"
        }
      ]
    },
    {
      "cell_type": "code",
      "metadata": {
        "colab": {
          "base_uri": "https://localhost:8080/"
        },
        "id": "Kkss8CrolegS",
        "outputId": "94373fae-631c-488d-f695-1d223e62f7da"
      },
      "source": [
        "history.history"
      ],
      "execution_count": 36,
      "outputs": [
        {
          "output_type": "execute_result",
          "data": {
            "text/plain": [
              "{'accuracy': [0.6197500228881836,\n",
              "  0.6766499876976013,\n",
              "  0.7146999835968018,\n",
              "  0.7454500198364258,\n",
              "  0.7541499733924866],\n",
              " 'loss': [0.6838439702987671,\n",
              "  0.6115714907646179,\n",
              "  0.5619099140167236,\n",
              "  0.5218900442123413,\n",
              "  0.5047922134399414],\n",
              " 'val_accuracy': [0.6119999885559082,\n",
              "  0.7257999777793884,\n",
              "  0.6474000215530396,\n",
              "  0.7045999765396118,\n",
              "  0.7712000012397766],\n",
              " 'val_loss': [0.7222695350646973,\n",
              "  0.5417362451553345,\n",
              "  0.6972789764404297,\n",
              "  0.5448903441429138,\n",
              "  0.4679329991340637]}"
            ]
          },
          "metadata": {
            "tags": []
          },
          "execution_count": 36
        }
      ]
    },
    {
      "cell_type": "code",
      "metadata": {
        "colab": {
          "base_uri": "https://localhost:8080/",
          "height": 573
        },
        "id": "XDmVU0aZlegT",
        "outputId": "72920223-bf1a-40fc-e090-518ab140e210"
      },
      "source": [
        "epochs_range = range(1,6)\n",
        "plt.plot(epochs_range,history.history['accuracy'])\n",
        "plt.plot(epochs_range,history.history['val_accuracy'])\n",
        "plt.title('Model Accuracy')\n",
        "plt.xlabel('Epochs')\n",
        "plt.ylabel('Accuracy')\n",
        "plt.legend(['Train', 'Test'], loc='upper left')\n",
        "plt.show()\n",
        "\n",
        "plt.plot(epochs_range,history.history['loss'])\n",
        "plt.plot(epochs_range,history.history['val_loss'])\n",
        "plt.title('Model Loss')\n",
        "plt.xlabel('Epochs')\n",
        "plt.ylabel('Loss')\n",
        "plt.legend(['Train', 'Test'], loc='upper left')\n",
        "plt.show()"
      ],
      "execution_count": 37,
      "outputs": [
        {
          "output_type": "display_data",
          "data": {
            "image/png": "[encoded data removed]",
            "text/plain": [
              "<Figure size 432x288 with 1 Axes>"
            ]
          },
          "metadata": {
            "tags": [],
            "needs_background": "light"
          }
        },
        {
          "output_type": "display_data",
          "data": {
            "image/png": "[encoded data removed]",
            "text/plain": [
              "<Figure size 432x288 with 1 Axes>"
            ]
          },
          "metadata": {
            "tags": [],
            "needs_background": "light"
          }
        }
      ]
    },
    {
      "cell_type": "code",
      "metadata": {
        "id": "oyoowLMYlbfH"
      },
      "source": [
        ""
      ],
      "execution_count": null,
      "outputs": []
    },
    {
      "cell_type": "code",
      "metadata": {
        "id": "NSco7wbSx4kU"
      },
      "source": [
        ""
      ],
      "execution_count": null,
      "outputs": []
    },
    {
      "cell_type": "code",
      "metadata": {
        "id": "8-P5W6dxx4nT"
      },
      "source": [
        ""
      ],
      "execution_count": null,
      "outputs": []
    },
    {
      "cell_type": "code",
      "metadata": {
        "id": "oYMNMeK2x4qV"
      },
      "source": [
        ""
      ],
      "execution_count": null,
      "outputs": []
    },
    {
      "cell_type": "code",
      "metadata": {
        "id": "5OnPKXcplbhT"
      },
      "source": [
        ""
      ],
      "execution_count": null,
      "outputs": []
    },
    {
      "cell_type": "code",
      "metadata": {
        "id": "hTK-d4oflbo-"
      },
      "source": [
        ""
      ],
      "execution_count": null,
      "outputs": []
    },
    {
      "cell_type": "code",
      "metadata": {
        "id": "1c1-gfbAlbrw"
      },
      "source": [
        ""
      ],
      "execution_count": null,
      "outputs": []
    },
    {
      "cell_type": "code",
      "metadata": {
        "id": "10n1HsPTlbt2"
      },
      "source": [
        ""
      ],
      "execution_count": null,
      "outputs": []
    },
    {
      "cell_type": "code",
      "metadata": {
        "id": "x62B6rXYlbwE"
      },
      "source": [
        ""
      ],
      "execution_count": null,
      "outputs": []
    }
  ]
}