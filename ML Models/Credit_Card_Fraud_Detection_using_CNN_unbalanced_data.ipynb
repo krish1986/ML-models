{
  "nbformat": 4,
  "nbformat_minor": 0,
  "metadata": {
    "colab": {
      "name": "Credit Card Fraud Detection using CNN - unbalanced data.ipynb",
      "provenance": [],
      "collapsed_sections": []
    },
    "kernelspec": {
      "name": "python3",
      "display_name": "Python 3"
    },
    "language_info": {
      "name": "python"
    },
    "accelerator": "TPU"
  },
  "cells": [
    {
      "cell_type": "code",
      "metadata": {
        "id": "LwqdfCDLXKX-"
      },
      "source": [
        "import tensorflow as tf\n",
        "from tensorflow.keras import Sequential\n",
        "from tensorflow.keras.layers import Conv1D, MaxPool1D, Dense, Flatten, BatchNormalization, Dropout\n",
        "from tensorflow.keras.optimizers import Adam"
      ],
      "execution_count": 39,
      "outputs": []
    },
    {
      "cell_type": "code",
      "metadata": {
        "id": "83VE627sXtz1"
      },
      "source": [
        "import pandas as pd\n",
        "import numpy as np\n",
        "import seaborn as sns\n",
        "import matplotlib.pyplot as plt"
      ],
      "execution_count": 6,
      "outputs": []
    },
    {
      "cell_type": "code",
      "metadata": {
        "id": "72Bw_5WGXt2x"
      },
      "source": [
        "from sklearn.preprocessing import StandardScaler\n",
        "from sklearn.model_selection import train_test_split"
      ],
      "execution_count": 7,
      "outputs": []
    },
    {
      "cell_type": "code",
      "metadata": {
        "id": "yuUkw5IqXt5f"
      },
      "source": [
        "data = pd.read_csv('/content/creditcard.csv')"
      ],
      "execution_count": 12,
      "outputs": []
    },
    {
      "cell_type": "code",
      "metadata": {
        "colab": {
          "base_uri": "https://localhost:8080/",
          "height": 225
        },
        "id": "liowZbYeXt71",
        "outputId": "39b72238-fa5c-4d5e-b937-42ae0090ff12"
      },
      "source": [
        "data.head()"
      ],
      "execution_count": 13,
      "outputs": [
        {
          "output_type": "execute_result",
          "data": {
            "text/html": [
              "<div>\n",
              "<style scoped>\n",
              "    .dataframe tbody tr th:only-of-type {\n",
              "        vertical-align: middle;\n",
              "    }\n",
              "\n",
              "    .dataframe tbody tr th {\n",
              "        vertical-align: top;\n",
              "    }\n",
              "\n",
              "    .dataframe thead th {\n",
              "        text-align: right;\n",
              "    }\n",
              "</style>\n",
              "<table border=\"1\" class=\"dataframe\">\n",
              "  <thead>\n",
              "    <tr style=\"text-align: right;\">\n",
              "      <th></th>\n",
              "      <th>Time</th>\n",
              "      <th>V1</th>\n",
              "      <th>V2</th>\n",
              "      <th>V3</th>\n",
              "      <th>V4</th>\n",
              "      <th>V5</th>\n",
              "      <th>V6</th>\n",
              "      <th>V7</th>\n",
              "      <th>V8</th>\n",
              "      <th>V9</th>\n",
              "      <th>V10</th>\n",
              "      <th>V11</th>\n",
              "      <th>V12</th>\n",
              "      <th>V13</th>\n",
              "      <th>V14</th>\n",
              "      <th>V15</th>\n",
              "      <th>V16</th>\n",
              "      <th>V17</th>\n",
              "      <th>V18</th>\n",
              "      <th>V19</th>\n",
              "      <th>V20</th>\n",
              "      <th>V21</th>\n",
              "      <th>V22</th>\n",
              "      <th>V23</th>\n",
              "      <th>V24</th>\n",
              "      <th>V25</th>\n",
              "      <th>V26</th>\n",
              "      <th>V27</th>\n",
              "      <th>V28</th>\n",
              "      <th>Amount</th>\n",
              "      <th>Class</th>\n",
              "    </tr>\n",
              "  </thead>\n",
              "  <tbody>\n",
              "    <tr>\n",
              "      <th>0</th>\n",
              "      <td>0.0</td>\n",
              "      <td>-1.359807</td>\n",
              "      <td>-0.072781</td>\n",
              "      <td>2.536347</td>\n",
              "      <td>1.378155</td>\n",
              "      <td>-0.338321</td>\n",
              "      <td>0.462388</td>\n",
              "      <td>0.239599</td>\n",
              "      <td>0.098698</td>\n",
              "      <td>0.363787</td>\n",
              "      <td>0.090794</td>\n",
              "      <td>-0.551600</td>\n",
              "      <td>-0.617801</td>\n",
              "      <td>-0.991390</td>\n",
              "      <td>-0.311169</td>\n",
              "      <td>1.468177</td>\n",
              "      <td>-0.470401</td>\n",
              "      <td>0.207971</td>\n",
              "      <td>0.025791</td>\n",
              "      <td>0.403993</td>\n",
              "      <td>0.251412</td>\n",
              "      <td>-0.018307</td>\n",
              "      <td>0.277838</td>\n",
              "      <td>-0.110474</td>\n",
              "      <td>0.066928</td>\n",
              "      <td>0.128539</td>\n",
              "      <td>-0.189115</td>\n",
              "      <td>0.133558</td>\n",
              "      <td>-0.021053</td>\n",
              "      <td>149.62</td>\n",
              "      <td>0</td>\n",
              "    </tr>\n",
              "    <tr>\n",
              "      <th>1</th>\n",
              "      <td>0.0</td>\n",
              "      <td>1.191857</td>\n",
              "      <td>0.266151</td>\n",
              "      <td>0.166480</td>\n",
              "      <td>0.448154</td>\n",
              "      <td>0.060018</td>\n",
              "      <td>-0.082361</td>\n",
              "      <td>-0.078803</td>\n",
              "      <td>0.085102</td>\n",
              "      <td>-0.255425</td>\n",
              "      <td>-0.166974</td>\n",
              "      <td>1.612727</td>\n",
              "      <td>1.065235</td>\n",
              "      <td>0.489095</td>\n",
              "      <td>-0.143772</td>\n",
              "      <td>0.635558</td>\n",
              "      <td>0.463917</td>\n",
              "      <td>-0.114805</td>\n",
              "      <td>-0.183361</td>\n",
              "      <td>-0.145783</td>\n",
              "      <td>-0.069083</td>\n",
              "      <td>-0.225775</td>\n",
              "      <td>-0.638672</td>\n",
              "      <td>0.101288</td>\n",
              "      <td>-0.339846</td>\n",
              "      <td>0.167170</td>\n",
              "      <td>0.125895</td>\n",
              "      <td>-0.008983</td>\n",
              "      <td>0.014724</td>\n",
              "      <td>2.69</td>\n",
              "      <td>0</td>\n",
              "    </tr>\n",
              "    <tr>\n",
              "      <th>2</th>\n",
              "      <td>1.0</td>\n",
              "      <td>-1.358354</td>\n",
              "      <td>-1.340163</td>\n",
              "      <td>1.773209</td>\n",
              "      <td>0.379780</td>\n",
              "      <td>-0.503198</td>\n",
              "      <td>1.800499</td>\n",
              "      <td>0.791461</td>\n",
              "      <td>0.247676</td>\n",
              "      <td>-1.514654</td>\n",
              "      <td>0.207643</td>\n",
              "      <td>0.624501</td>\n",
              "      <td>0.066084</td>\n",
              "      <td>0.717293</td>\n",
              "      <td>-0.165946</td>\n",
              "      <td>2.345865</td>\n",
              "      <td>-2.890083</td>\n",
              "      <td>1.109969</td>\n",
              "      <td>-0.121359</td>\n",
              "      <td>-2.261857</td>\n",
              "      <td>0.524980</td>\n",
              "      <td>0.247998</td>\n",
              "      <td>0.771679</td>\n",
              "      <td>0.909412</td>\n",
              "      <td>-0.689281</td>\n",
              "      <td>-0.327642</td>\n",
              "      <td>-0.139097</td>\n",
              "      <td>-0.055353</td>\n",
              "      <td>-0.059752</td>\n",
              "      <td>378.66</td>\n",
              "      <td>0</td>\n",
              "    </tr>\n",
              "    <tr>\n",
              "      <th>3</th>\n",
              "      <td>1.0</td>\n",
              "      <td>-0.966272</td>\n",
              "      <td>-0.185226</td>\n",
              "      <td>1.792993</td>\n",
              "      <td>-0.863291</td>\n",
              "      <td>-0.010309</td>\n",
              "      <td>1.247203</td>\n",
              "      <td>0.237609</td>\n",
              "      <td>0.377436</td>\n",
              "      <td>-1.387024</td>\n",
              "      <td>-0.054952</td>\n",
              "      <td>-0.226487</td>\n",
              "      <td>0.178228</td>\n",
              "      <td>0.507757</td>\n",
              "      <td>-0.287924</td>\n",
              "      <td>-0.631418</td>\n",
              "      <td>-1.059647</td>\n",
              "      <td>-0.684093</td>\n",
              "      <td>1.965775</td>\n",
              "      <td>-1.232622</td>\n",
              "      <td>-0.208038</td>\n",
              "      <td>-0.108300</td>\n",
              "      <td>0.005274</td>\n",
              "      <td>-0.190321</td>\n",
              "      <td>-1.175575</td>\n",
              "      <td>0.647376</td>\n",
              "      <td>-0.221929</td>\n",
              "      <td>0.062723</td>\n",
              "      <td>0.061458</td>\n",
              "      <td>123.50</td>\n",
              "      <td>0</td>\n",
              "    </tr>\n",
              "    <tr>\n",
              "      <th>4</th>\n",
              "      <td>2.0</td>\n",
              "      <td>-1.158233</td>\n",
              "      <td>0.877737</td>\n",
              "      <td>1.548718</td>\n",
              "      <td>0.403034</td>\n",
              "      <td>-0.407193</td>\n",
              "      <td>0.095921</td>\n",
              "      <td>0.592941</td>\n",
              "      <td>-0.270533</td>\n",
              "      <td>0.817739</td>\n",
              "      <td>0.753074</td>\n",
              "      <td>-0.822843</td>\n",
              "      <td>0.538196</td>\n",
              "      <td>1.345852</td>\n",
              "      <td>-1.119670</td>\n",
              "      <td>0.175121</td>\n",
              "      <td>-0.451449</td>\n",
              "      <td>-0.237033</td>\n",
              "      <td>-0.038195</td>\n",
              "      <td>0.803487</td>\n",
              "      <td>0.408542</td>\n",
              "      <td>-0.009431</td>\n",
              "      <td>0.798278</td>\n",
              "      <td>-0.137458</td>\n",
              "      <td>0.141267</td>\n",
              "      <td>-0.206010</td>\n",
              "      <td>0.502292</td>\n",
              "      <td>0.219422</td>\n",
              "      <td>0.215153</td>\n",
              "      <td>69.99</td>\n",
              "      <td>0</td>\n",
              "    </tr>\n",
              "  </tbody>\n",
              "</table>\n",
              "</div>"
            ],
            "text/plain": [
              "   Time        V1        V2        V3  ...       V27       V28  Amount  Class\n",
              "0   0.0 -1.359807 -0.072781  2.536347  ...  0.133558 -0.021053  149.62      0\n",
              "1   0.0  1.191857  0.266151  0.166480  ... -0.008983  0.014724    2.69      0\n",
              "2   1.0 -1.358354 -1.340163  1.773209  ... -0.055353 -0.059752  378.66      0\n",
              "3   1.0 -0.966272 -0.185226  1.792993  ...  0.062723  0.061458  123.50      0\n",
              "4   2.0 -1.158233  0.877737  1.548718  ...  0.219422  0.215153   69.99      0\n",
              "\n",
              "[5 rows x 31 columns]"
            ]
          },
          "metadata": {
            "tags": []
          },
          "execution_count": 13
        }
      ]
    },
    {
      "cell_type": "code",
      "metadata": {
        "colab": {
          "base_uri": "https://localhost:8080/"
        },
        "id": "FuXbhSINXt_j",
        "outputId": "2fc934ec-85ed-4418-e6fc-ff890d9f717b"
      },
      "source": [
        "data.shape"
      ],
      "execution_count": 14,
      "outputs": [
        {
          "output_type": "execute_result",
          "data": {
            "text/plain": [
              "(284807, 31)"
            ]
          },
          "metadata": {
            "tags": []
          },
          "execution_count": 14
        }
      ]
    },
    {
      "cell_type": "code",
      "metadata": {
        "colab": {
          "base_uri": "https://localhost:8080/"
        },
        "id": "hJIUb7z1XuHk",
        "outputId": "aadc11e0-1fd6-449a-ece9-2d68b708fa89"
      },
      "source": [
        "data.isnull().sum()"
      ],
      "execution_count": 15,
      "outputs": [
        {
          "output_type": "execute_result",
          "data": {
            "text/plain": [
              "Time      0\n",
              "V1        0\n",
              "V2        0\n",
              "V3        0\n",
              "V4        0\n",
              "V5        0\n",
              "V6        0\n",
              "V7        0\n",
              "V8        0\n",
              "V9        0\n",
              "V10       0\n",
              "V11       0\n",
              "V12       0\n",
              "V13       0\n",
              "V14       0\n",
              "V15       0\n",
              "V16       0\n",
              "V17       0\n",
              "V18       0\n",
              "V19       0\n",
              "V20       0\n",
              "V21       0\n",
              "V22       0\n",
              "V23       0\n",
              "V24       0\n",
              "V25       0\n",
              "V26       0\n",
              "V27       0\n",
              "V28       0\n",
              "Amount    0\n",
              "Class     0\n",
              "dtype: int64"
            ]
          },
          "metadata": {
            "tags": []
          },
          "execution_count": 15
        }
      ]
    },
    {
      "cell_type": "code",
      "metadata": {
        "colab": {
          "base_uri": "https://localhost:8080/",
          "height": 317
        },
        "id": "R3XOARuVXuKO",
        "outputId": "e78a9ab5-50d8-42d8-da26-287a389926a2"
      },
      "source": [
        "data.describe()"
      ],
      "execution_count": 17,
      "outputs": [
        {
          "output_type": "execute_result",
          "data": {
            "text/html": [
              "<div>\n",
              "<style scoped>\n",
              "    .dataframe tbody tr th:only-of-type {\n",
              "        vertical-align: middle;\n",
              "    }\n",
              "\n",
              "    .dataframe tbody tr th {\n",
              "        vertical-align: top;\n",
              "    }\n",
              "\n",
              "    .dataframe thead th {\n",
              "        text-align: right;\n",
              "    }\n",
              "</style>\n",
              "<table border=\"1\" class=\"dataframe\">\n",
              "  <thead>\n",
              "    <tr style=\"text-align: right;\">\n",
              "      <th></th>\n",
              "      <th>Time</th>\n",
              "      <th>V1</th>\n",
              "      <th>V2</th>\n",
              "      <th>V3</th>\n",
              "      <th>V4</th>\n",
              "      <th>V5</th>\n",
              "      <th>V6</th>\n",
              "      <th>V7</th>\n",
              "      <th>V8</th>\n",
              "      <th>V9</th>\n",
              "      <th>V10</th>\n",
              "      <th>V11</th>\n",
              "      <th>V12</th>\n",
              "      <th>V13</th>\n",
              "      <th>V14</th>\n",
              "      <th>V15</th>\n",
              "      <th>V16</th>\n",
              "      <th>V17</th>\n",
              "      <th>V18</th>\n",
              "      <th>V19</th>\n",
              "      <th>V20</th>\n",
              "      <th>V21</th>\n",
              "      <th>V22</th>\n",
              "      <th>V23</th>\n",
              "      <th>V24</th>\n",
              "      <th>V25</th>\n",
              "      <th>V26</th>\n",
              "      <th>V27</th>\n",
              "      <th>V28</th>\n",
              "      <th>Amount</th>\n",
              "      <th>Class</th>\n",
              "    </tr>\n",
              "  </thead>\n",
              "  <tbody>\n",
              "    <tr>\n",
              "      <th>count</th>\n",
              "      <td>284807.000000</td>\n",
              "      <td>2.848070e+05</td>\n",
              "      <td>2.848070e+05</td>\n",
              "      <td>2.848070e+05</td>\n",
              "      <td>2.848070e+05</td>\n",
              "      <td>2.848070e+05</td>\n",
              "      <td>2.848070e+05</td>\n",
              "      <td>2.848070e+05</td>\n",
              "      <td>2.848070e+05</td>\n",
              "      <td>2.848070e+05</td>\n",
              "      <td>2.848070e+05</td>\n",
              "      <td>2.848070e+05</td>\n",
              "      <td>2.848070e+05</td>\n",
              "      <td>2.848070e+05</td>\n",
              "      <td>2.848070e+05</td>\n",
              "      <td>2.848070e+05</td>\n",
              "      <td>2.848070e+05</td>\n",
              "      <td>2.848070e+05</td>\n",
              "      <td>2.848070e+05</td>\n",
              "      <td>2.848070e+05</td>\n",
              "      <td>2.848070e+05</td>\n",
              "      <td>2.848070e+05</td>\n",
              "      <td>2.848070e+05</td>\n",
              "      <td>2.848070e+05</td>\n",
              "      <td>2.848070e+05</td>\n",
              "      <td>2.848070e+05</td>\n",
              "      <td>2.848070e+05</td>\n",
              "      <td>2.848070e+05</td>\n",
              "      <td>2.848070e+05</td>\n",
              "      <td>284807.000000</td>\n",
              "      <td>284807.000000</td>\n",
              "    </tr>\n",
              "    <tr>\n",
              "      <th>mean</th>\n",
              "      <td>94813.859575</td>\n",
              "      <td>3.919560e-15</td>\n",
              "      <td>5.688174e-16</td>\n",
              "      <td>-8.769071e-15</td>\n",
              "      <td>2.782312e-15</td>\n",
              "      <td>-1.552563e-15</td>\n",
              "      <td>2.010663e-15</td>\n",
              "      <td>-1.694249e-15</td>\n",
              "      <td>-1.927028e-16</td>\n",
              "      <td>-3.137024e-15</td>\n",
              "      <td>1.768627e-15</td>\n",
              "      <td>9.170318e-16</td>\n",
              "      <td>-1.810658e-15</td>\n",
              "      <td>1.693438e-15</td>\n",
              "      <td>1.479045e-15</td>\n",
              "      <td>3.482336e-15</td>\n",
              "      <td>1.392007e-15</td>\n",
              "      <td>-7.528491e-16</td>\n",
              "      <td>4.328772e-16</td>\n",
              "      <td>9.049732e-16</td>\n",
              "      <td>5.085503e-16</td>\n",
              "      <td>1.537294e-16</td>\n",
              "      <td>7.959909e-16</td>\n",
              "      <td>5.367590e-16</td>\n",
              "      <td>4.458112e-15</td>\n",
              "      <td>1.453003e-15</td>\n",
              "      <td>1.699104e-15</td>\n",
              "      <td>-3.660161e-16</td>\n",
              "      <td>-1.206049e-16</td>\n",
              "      <td>88.349619</td>\n",
              "      <td>0.001727</td>\n",
              "    </tr>\n",
              "    <tr>\n",
              "      <th>std</th>\n",
              "      <td>47488.145955</td>\n",
              "      <td>1.958696e+00</td>\n",
              "      <td>1.651309e+00</td>\n",
              "      <td>1.516255e+00</td>\n",
              "      <td>1.415869e+00</td>\n",
              "      <td>1.380247e+00</td>\n",
              "      <td>1.332271e+00</td>\n",
              "      <td>1.237094e+00</td>\n",
              "      <td>1.194353e+00</td>\n",
              "      <td>1.098632e+00</td>\n",
              "      <td>1.088850e+00</td>\n",
              "      <td>1.020713e+00</td>\n",
              "      <td>9.992014e-01</td>\n",
              "      <td>9.952742e-01</td>\n",
              "      <td>9.585956e-01</td>\n",
              "      <td>9.153160e-01</td>\n",
              "      <td>8.762529e-01</td>\n",
              "      <td>8.493371e-01</td>\n",
              "      <td>8.381762e-01</td>\n",
              "      <td>8.140405e-01</td>\n",
              "      <td>7.709250e-01</td>\n",
              "      <td>7.345240e-01</td>\n",
              "      <td>7.257016e-01</td>\n",
              "      <td>6.244603e-01</td>\n",
              "      <td>6.056471e-01</td>\n",
              "      <td>5.212781e-01</td>\n",
              "      <td>4.822270e-01</td>\n",
              "      <td>4.036325e-01</td>\n",
              "      <td>3.300833e-01</td>\n",
              "      <td>250.120109</td>\n",
              "      <td>0.041527</td>\n",
              "    </tr>\n",
              "    <tr>\n",
              "      <th>min</th>\n",
              "      <td>0.000000</td>\n",
              "      <td>-5.640751e+01</td>\n",
              "      <td>-7.271573e+01</td>\n",
              "      <td>-4.832559e+01</td>\n",
              "      <td>-5.683171e+00</td>\n",
              "      <td>-1.137433e+02</td>\n",
              "      <td>-2.616051e+01</td>\n",
              "      <td>-4.355724e+01</td>\n",
              "      <td>-7.321672e+01</td>\n",
              "      <td>-1.343407e+01</td>\n",
              "      <td>-2.458826e+01</td>\n",
              "      <td>-4.797473e+00</td>\n",
              "      <td>-1.868371e+01</td>\n",
              "      <td>-5.791881e+00</td>\n",
              "      <td>-1.921433e+01</td>\n",
              "      <td>-4.498945e+00</td>\n",
              "      <td>-1.412985e+01</td>\n",
              "      <td>-2.516280e+01</td>\n",
              "      <td>-9.498746e+00</td>\n",
              "      <td>-7.213527e+00</td>\n",
              "      <td>-5.449772e+01</td>\n",
              "      <td>-3.483038e+01</td>\n",
              "      <td>-1.093314e+01</td>\n",
              "      <td>-4.480774e+01</td>\n",
              "      <td>-2.836627e+00</td>\n",
              "      <td>-1.029540e+01</td>\n",
              "      <td>-2.604551e+00</td>\n",
              "      <td>-2.256568e+01</td>\n",
              "      <td>-1.543008e+01</td>\n",
              "      <td>0.000000</td>\n",
              "      <td>0.000000</td>\n",
              "    </tr>\n",
              "    <tr>\n",
              "      <th>25%</th>\n",
              "      <td>54201.500000</td>\n",
              "      <td>-9.203734e-01</td>\n",
              "      <td>-5.985499e-01</td>\n",
              "      <td>-8.903648e-01</td>\n",
              "      <td>-8.486401e-01</td>\n",
              "      <td>-6.915971e-01</td>\n",
              "      <td>-7.682956e-01</td>\n",
              "      <td>-5.540759e-01</td>\n",
              "      <td>-2.086297e-01</td>\n",
              "      <td>-6.430976e-01</td>\n",
              "      <td>-5.354257e-01</td>\n",
              "      <td>-7.624942e-01</td>\n",
              "      <td>-4.055715e-01</td>\n",
              "      <td>-6.485393e-01</td>\n",
              "      <td>-4.255740e-01</td>\n",
              "      <td>-5.828843e-01</td>\n",
              "      <td>-4.680368e-01</td>\n",
              "      <td>-4.837483e-01</td>\n",
              "      <td>-4.988498e-01</td>\n",
              "      <td>-4.562989e-01</td>\n",
              "      <td>-2.117214e-01</td>\n",
              "      <td>-2.283949e-01</td>\n",
              "      <td>-5.423504e-01</td>\n",
              "      <td>-1.618463e-01</td>\n",
              "      <td>-3.545861e-01</td>\n",
              "      <td>-3.171451e-01</td>\n",
              "      <td>-3.269839e-01</td>\n",
              "      <td>-7.083953e-02</td>\n",
              "      <td>-5.295979e-02</td>\n",
              "      <td>5.600000</td>\n",
              "      <td>0.000000</td>\n",
              "    </tr>\n",
              "    <tr>\n",
              "      <th>50%</th>\n",
              "      <td>84692.000000</td>\n",
              "      <td>1.810880e-02</td>\n",
              "      <td>6.548556e-02</td>\n",
              "      <td>1.798463e-01</td>\n",
              "      <td>-1.984653e-02</td>\n",
              "      <td>-5.433583e-02</td>\n",
              "      <td>-2.741871e-01</td>\n",
              "      <td>4.010308e-02</td>\n",
              "      <td>2.235804e-02</td>\n",
              "      <td>-5.142873e-02</td>\n",
              "      <td>-9.291738e-02</td>\n",
              "      <td>-3.275735e-02</td>\n",
              "      <td>1.400326e-01</td>\n",
              "      <td>-1.356806e-02</td>\n",
              "      <td>5.060132e-02</td>\n",
              "      <td>4.807155e-02</td>\n",
              "      <td>6.641332e-02</td>\n",
              "      <td>-6.567575e-02</td>\n",
              "      <td>-3.636312e-03</td>\n",
              "      <td>3.734823e-03</td>\n",
              "      <td>-6.248109e-02</td>\n",
              "      <td>-2.945017e-02</td>\n",
              "      <td>6.781943e-03</td>\n",
              "      <td>-1.119293e-02</td>\n",
              "      <td>4.097606e-02</td>\n",
              "      <td>1.659350e-02</td>\n",
              "      <td>-5.213911e-02</td>\n",
              "      <td>1.342146e-03</td>\n",
              "      <td>1.124383e-02</td>\n",
              "      <td>22.000000</td>\n",
              "      <td>0.000000</td>\n",
              "    </tr>\n",
              "    <tr>\n",
              "      <th>75%</th>\n",
              "      <td>139320.500000</td>\n",
              "      <td>1.315642e+00</td>\n",
              "      <td>8.037239e-01</td>\n",
              "      <td>1.027196e+00</td>\n",
              "      <td>7.433413e-01</td>\n",
              "      <td>6.119264e-01</td>\n",
              "      <td>3.985649e-01</td>\n",
              "      <td>5.704361e-01</td>\n",
              "      <td>3.273459e-01</td>\n",
              "      <td>5.971390e-01</td>\n",
              "      <td>4.539234e-01</td>\n",
              "      <td>7.395934e-01</td>\n",
              "      <td>6.182380e-01</td>\n",
              "      <td>6.625050e-01</td>\n",
              "      <td>4.931498e-01</td>\n",
              "      <td>6.488208e-01</td>\n",
              "      <td>5.232963e-01</td>\n",
              "      <td>3.996750e-01</td>\n",
              "      <td>5.008067e-01</td>\n",
              "      <td>4.589494e-01</td>\n",
              "      <td>1.330408e-01</td>\n",
              "      <td>1.863772e-01</td>\n",
              "      <td>5.285536e-01</td>\n",
              "      <td>1.476421e-01</td>\n",
              "      <td>4.395266e-01</td>\n",
              "      <td>3.507156e-01</td>\n",
              "      <td>2.409522e-01</td>\n",
              "      <td>9.104512e-02</td>\n",
              "      <td>7.827995e-02</td>\n",
              "      <td>77.165000</td>\n",
              "      <td>0.000000</td>\n",
              "    </tr>\n",
              "    <tr>\n",
              "      <th>max</th>\n",
              "      <td>172792.000000</td>\n",
              "      <td>2.454930e+00</td>\n",
              "      <td>2.205773e+01</td>\n",
              "      <td>9.382558e+00</td>\n",
              "      <td>1.687534e+01</td>\n",
              "      <td>3.480167e+01</td>\n",
              "      <td>7.330163e+01</td>\n",
              "      <td>1.205895e+02</td>\n",
              "      <td>2.000721e+01</td>\n",
              "      <td>1.559499e+01</td>\n",
              "      <td>2.374514e+01</td>\n",
              "      <td>1.201891e+01</td>\n",
              "      <td>7.848392e+00</td>\n",
              "      <td>7.126883e+00</td>\n",
              "      <td>1.052677e+01</td>\n",
              "      <td>8.877742e+00</td>\n",
              "      <td>1.731511e+01</td>\n",
              "      <td>9.253526e+00</td>\n",
              "      <td>5.041069e+00</td>\n",
              "      <td>5.591971e+00</td>\n",
              "      <td>3.942090e+01</td>\n",
              "      <td>2.720284e+01</td>\n",
              "      <td>1.050309e+01</td>\n",
              "      <td>2.252841e+01</td>\n",
              "      <td>4.584549e+00</td>\n",
              "      <td>7.519589e+00</td>\n",
              "      <td>3.517346e+00</td>\n",
              "      <td>3.161220e+01</td>\n",
              "      <td>3.384781e+01</td>\n",
              "      <td>25691.160000</td>\n",
              "      <td>1.000000</td>\n",
              "    </tr>\n",
              "  </tbody>\n",
              "</table>\n",
              "</div>"
            ],
            "text/plain": [
              "                Time            V1  ...         Amount          Class\n",
              "count  284807.000000  2.848070e+05  ...  284807.000000  284807.000000\n",
              "mean    94813.859575  3.919560e-15  ...      88.349619       0.001727\n",
              "std     47488.145955  1.958696e+00  ...     250.120109       0.041527\n",
              "min         0.000000 -5.640751e+01  ...       0.000000       0.000000\n",
              "25%     54201.500000 -9.203734e-01  ...       5.600000       0.000000\n",
              "50%     84692.000000  1.810880e-02  ...      22.000000       0.000000\n",
              "75%    139320.500000  1.315642e+00  ...      77.165000       0.000000\n",
              "max    172792.000000  2.454930e+00  ...   25691.160000       1.000000\n",
              "\n",
              "[8 rows x 31 columns]"
            ]
          },
          "metadata": {
            "tags": []
          },
          "execution_count": 17
        }
      ]
    },
    {
      "cell_type": "code",
      "metadata": {
        "colab": {
          "base_uri": "https://localhost:8080/"
        },
        "id": "uVNSjj5fXuNX",
        "outputId": "027e0b4b-e909-4abb-d632-c819693fe4e5"
      },
      "source": [
        "data.info()"
      ],
      "execution_count": 18,
      "outputs": [
        {
          "output_type": "stream",
          "text": [
            "<class 'pandas.core.frame.DataFrame'>\n",
            "RangeIndex: 284807 entries, 0 to 284806\n",
            "Data columns (total 31 columns):\n",
            " #   Column  Non-Null Count   Dtype  \n",
            "---  ------  --------------   -----  \n",
            " 0   Time    284807 non-null  float64\n",
            " 1   V1      284807 non-null  float64\n",
            " 2   V2      284807 non-null  float64\n",
            " 3   V3      284807 non-null  float64\n",
            " 4   V4      284807 non-null  float64\n",
            " 5   V5      284807 non-null  float64\n",
            " 6   V6      284807 non-null  float64\n",
            " 7   V7      284807 non-null  float64\n",
            " 8   V8      284807 non-null  float64\n",
            " 9   V9      284807 non-null  float64\n",
            " 10  V10     284807 non-null  float64\n",
            " 11  V11     284807 non-null  float64\n",
            " 12  V12     284807 non-null  float64\n",
            " 13  V13     284807 non-null  float64\n",
            " 14  V14     284807 non-null  float64\n",
            " 15  V15     284807 non-null  float64\n",
            " 16  V16     284807 non-null  float64\n",
            " 17  V17     284807 non-null  float64\n",
            " 18  V18     284807 non-null  float64\n",
            " 19  V19     284807 non-null  float64\n",
            " 20  V20     284807 non-null  float64\n",
            " 21  V21     284807 non-null  float64\n",
            " 22  V22     284807 non-null  float64\n",
            " 23  V23     284807 non-null  float64\n",
            " 24  V24     284807 non-null  float64\n",
            " 25  V25     284807 non-null  float64\n",
            " 26  V26     284807 non-null  float64\n",
            " 27  V27     284807 non-null  float64\n",
            " 28  V28     284807 non-null  float64\n",
            " 29  Amount  284807 non-null  float64\n",
            " 30  Class   284807 non-null  int64  \n",
            "dtypes: float64(30), int64(1)\n",
            "memory usage: 67.4 MB\n"
          ],
          "name": "stdout"
        }
      ]
    },
    {
      "cell_type": "code",
      "metadata": {
        "colab": {
          "base_uri": "https://localhost:8080/"
        },
        "id": "nPgm7I-Zceau",
        "outputId": "79ef27d3-fcf2-49bf-c978-9ce525e9ecfe"
      },
      "source": [
        "data['Class'].value_counts()"
      ],
      "execution_count": 19,
      "outputs": [
        {
          "output_type": "execute_result",
          "data": {
            "text/plain": [
              "0    284315\n",
              "1       492\n",
              "Name: Class, dtype: int64"
            ]
          },
          "metadata": {
            "tags": []
          },
          "execution_count": 19
        }
      ]
    },
    {
      "cell_type": "markdown",
      "metadata": {
        "id": "F4UR6RAAeSoD"
      },
      "source": [
        "### Balance dataset"
      ]
    },
    {
      "cell_type": "code",
      "metadata": {
        "id": "lY54seBReFSi"
      },
      "source": [
        "non_fraud = data[data['Class']==0]\n",
        "fraud = data[data['Class']==1]"
      ],
      "execution_count": 21,
      "outputs": []
    },
    {
      "cell_type": "code",
      "metadata": {
        "colab": {
          "base_uri": "https://localhost:8080/"
        },
        "id": "SMtknNy0eRna",
        "outputId": "4e48f3ab-c1d2-4533-903f-1736ab907c5c"
      },
      "source": [
        "non_fraud.shape, fraud.shape"
      ],
      "execution_count": 22,
      "outputs": [
        {
          "output_type": "execute_result",
          "data": {
            "text/plain": [
              "((284315, 31), (492, 31))"
            ]
          },
          "metadata": {
            "tags": []
          },
          "execution_count": 22
        }
      ]
    },
    {
      "cell_type": "code",
      "metadata": {
        "colab": {
          "base_uri": "https://localhost:8080/"
        },
        "id": "kdM7FNmMefxa",
        "outputId": "57716d9c-bb89-4fe2-d36d-ba9571c15916"
      },
      "source": [
        "non_fraud = non_fraud.sample(fraud.shape[0])\n",
        "non_fraud.shape"
      ],
      "execution_count": 23,
      "outputs": [
        {
          "output_type": "execute_result",
          "data": {
            "text/plain": [
              "(492, 31)"
            ]
          },
          "metadata": {
            "tags": []
          },
          "execution_count": 23
        }
      ]
    },
    {
      "cell_type": "code",
      "metadata": {
        "id": "o8DuldlWerxD"
      },
      "source": [
        "data = fraud.append(non_fraud,ignore_index=True)"
      ],
      "execution_count": 24,
      "outputs": []
    },
    {
      "cell_type": "code",
      "metadata": {
        "colab": {
          "base_uri": "https://localhost:8080/",
          "height": 224
        },
        "id": "njs4gMa0e2Ad",
        "outputId": "126e422b-1b78-4dbe-a1ef-117cfbe7c74e"
      },
      "source": [
        "data.head()"
      ],
      "execution_count": 25,
      "outputs": [
        {
          "output_type": "execute_result",
          "data": {
            "text/html": [
              "<div>\n",
              "<style scoped>\n",
              "    .dataframe tbody tr th:only-of-type {\n",
              "        vertical-align: middle;\n",
              "    }\n",
              "\n",
              "    .dataframe tbody tr th {\n",
              "        vertical-align: top;\n",
              "    }\n",
              "\n",
              "    .dataframe thead th {\n",
              "        text-align: right;\n",
              "    }\n",
              "</style>\n",
              "<table border=\"1\" class=\"dataframe\">\n",
              "  <thead>\n",
              "    <tr style=\"text-align: right;\">\n",
              "      <th></th>\n",
              "      <th>Time</th>\n",
              "      <th>V1</th>\n",
              "      <th>V2</th>\n",
              "      <th>V3</th>\n",
              "      <th>V4</th>\n",
              "      <th>V5</th>\n",
              "      <th>V6</th>\n",
              "      <th>V7</th>\n",
              "      <th>V8</th>\n",
              "      <th>V9</th>\n",
              "      <th>V10</th>\n",
              "      <th>V11</th>\n",
              "      <th>V12</th>\n",
              "      <th>V13</th>\n",
              "      <th>V14</th>\n",
              "      <th>V15</th>\n",
              "      <th>V16</th>\n",
              "      <th>V17</th>\n",
              "      <th>V18</th>\n",
              "      <th>V19</th>\n",
              "      <th>V20</th>\n",
              "      <th>V21</th>\n",
              "      <th>V22</th>\n",
              "      <th>V23</th>\n",
              "      <th>V24</th>\n",
              "      <th>V25</th>\n",
              "      <th>V26</th>\n",
              "      <th>V27</th>\n",
              "      <th>V28</th>\n",
              "      <th>Amount</th>\n",
              "      <th>Class</th>\n",
              "    </tr>\n",
              "  </thead>\n",
              "  <tbody>\n",
              "    <tr>\n",
              "      <th>0</th>\n",
              "      <td>406.0</td>\n",
              "      <td>-2.312227</td>\n",
              "      <td>1.951992</td>\n",
              "      <td>-1.609851</td>\n",
              "      <td>3.997906</td>\n",
              "      <td>-0.522188</td>\n",
              "      <td>-1.426545</td>\n",
              "      <td>-2.537387</td>\n",
              "      <td>1.391657</td>\n",
              "      <td>-2.770089</td>\n",
              "      <td>-2.772272</td>\n",
              "      <td>3.202033</td>\n",
              "      <td>-2.899907</td>\n",
              "      <td>-0.595222</td>\n",
              "      <td>-4.289254</td>\n",
              "      <td>0.389724</td>\n",
              "      <td>-1.140747</td>\n",
              "      <td>-2.830056</td>\n",
              "      <td>-0.016822</td>\n",
              "      <td>0.416956</td>\n",
              "      <td>0.126911</td>\n",
              "      <td>0.517232</td>\n",
              "      <td>-0.035049</td>\n",
              "      <td>-0.465211</td>\n",
              "      <td>0.320198</td>\n",
              "      <td>0.044519</td>\n",
              "      <td>0.177840</td>\n",
              "      <td>0.261145</td>\n",
              "      <td>-0.143276</td>\n",
              "      <td>0.00</td>\n",
              "      <td>1</td>\n",
              "    </tr>\n",
              "    <tr>\n",
              "      <th>1</th>\n",
              "      <td>472.0</td>\n",
              "      <td>-3.043541</td>\n",
              "      <td>-3.157307</td>\n",
              "      <td>1.088463</td>\n",
              "      <td>2.288644</td>\n",
              "      <td>1.359805</td>\n",
              "      <td>-1.064823</td>\n",
              "      <td>0.325574</td>\n",
              "      <td>-0.067794</td>\n",
              "      <td>-0.270953</td>\n",
              "      <td>-0.838587</td>\n",
              "      <td>-0.414575</td>\n",
              "      <td>-0.503141</td>\n",
              "      <td>0.676502</td>\n",
              "      <td>-1.692029</td>\n",
              "      <td>2.000635</td>\n",
              "      <td>0.666780</td>\n",
              "      <td>0.599717</td>\n",
              "      <td>1.725321</td>\n",
              "      <td>0.283345</td>\n",
              "      <td>2.102339</td>\n",
              "      <td>0.661696</td>\n",
              "      <td>0.435477</td>\n",
              "      <td>1.375966</td>\n",
              "      <td>-0.293803</td>\n",
              "      <td>0.279798</td>\n",
              "      <td>-0.145362</td>\n",
              "      <td>-0.252773</td>\n",
              "      <td>0.035764</td>\n",
              "      <td>529.00</td>\n",
              "      <td>1</td>\n",
              "    </tr>\n",
              "    <tr>\n",
              "      <th>2</th>\n",
              "      <td>4462.0</td>\n",
              "      <td>-2.303350</td>\n",
              "      <td>1.759247</td>\n",
              "      <td>-0.359745</td>\n",
              "      <td>2.330243</td>\n",
              "      <td>-0.821628</td>\n",
              "      <td>-0.075788</td>\n",
              "      <td>0.562320</td>\n",
              "      <td>-0.399147</td>\n",
              "      <td>-0.238253</td>\n",
              "      <td>-1.525412</td>\n",
              "      <td>2.032912</td>\n",
              "      <td>-6.560124</td>\n",
              "      <td>0.022937</td>\n",
              "      <td>-1.470102</td>\n",
              "      <td>-0.698826</td>\n",
              "      <td>-2.282194</td>\n",
              "      <td>-4.781831</td>\n",
              "      <td>-2.615665</td>\n",
              "      <td>-1.334441</td>\n",
              "      <td>-0.430022</td>\n",
              "      <td>-0.294166</td>\n",
              "      <td>-0.932391</td>\n",
              "      <td>0.172726</td>\n",
              "      <td>-0.087330</td>\n",
              "      <td>-0.156114</td>\n",
              "      <td>-0.542628</td>\n",
              "      <td>0.039566</td>\n",
              "      <td>-0.153029</td>\n",
              "      <td>239.93</td>\n",
              "      <td>1</td>\n",
              "    </tr>\n",
              "    <tr>\n",
              "      <th>3</th>\n",
              "      <td>6986.0</td>\n",
              "      <td>-4.397974</td>\n",
              "      <td>1.358367</td>\n",
              "      <td>-2.592844</td>\n",
              "      <td>2.679787</td>\n",
              "      <td>-1.128131</td>\n",
              "      <td>-1.706536</td>\n",
              "      <td>-3.496197</td>\n",
              "      <td>-0.248778</td>\n",
              "      <td>-0.247768</td>\n",
              "      <td>-4.801637</td>\n",
              "      <td>4.895844</td>\n",
              "      <td>-10.912819</td>\n",
              "      <td>0.184372</td>\n",
              "      <td>-6.771097</td>\n",
              "      <td>-0.007326</td>\n",
              "      <td>-7.358083</td>\n",
              "      <td>-12.598419</td>\n",
              "      <td>-5.131549</td>\n",
              "      <td>0.308334</td>\n",
              "      <td>-0.171608</td>\n",
              "      <td>0.573574</td>\n",
              "      <td>0.176968</td>\n",
              "      <td>-0.436207</td>\n",
              "      <td>-0.053502</td>\n",
              "      <td>0.252405</td>\n",
              "      <td>-0.657488</td>\n",
              "      <td>-0.827136</td>\n",
              "      <td>0.849573</td>\n",
              "      <td>59.00</td>\n",
              "      <td>1</td>\n",
              "    </tr>\n",
              "    <tr>\n",
              "      <th>4</th>\n",
              "      <td>7519.0</td>\n",
              "      <td>1.234235</td>\n",
              "      <td>3.019740</td>\n",
              "      <td>-4.304597</td>\n",
              "      <td>4.732795</td>\n",
              "      <td>3.624201</td>\n",
              "      <td>-1.357746</td>\n",
              "      <td>1.713445</td>\n",
              "      <td>-0.496358</td>\n",
              "      <td>-1.282858</td>\n",
              "      <td>-2.447469</td>\n",
              "      <td>2.101344</td>\n",
              "      <td>-4.609628</td>\n",
              "      <td>1.464378</td>\n",
              "      <td>-6.079337</td>\n",
              "      <td>-0.339237</td>\n",
              "      <td>2.581851</td>\n",
              "      <td>6.739384</td>\n",
              "      <td>3.042493</td>\n",
              "      <td>-2.721853</td>\n",
              "      <td>0.009061</td>\n",
              "      <td>-0.379068</td>\n",
              "      <td>-0.704181</td>\n",
              "      <td>-0.656805</td>\n",
              "      <td>-1.632653</td>\n",
              "      <td>1.488901</td>\n",
              "      <td>0.566797</td>\n",
              "      <td>-0.010016</td>\n",
              "      <td>0.146793</td>\n",
              "      <td>1.00</td>\n",
              "      <td>1</td>\n",
              "    </tr>\n",
              "  </tbody>\n",
              "</table>\n",
              "</div>"
            ],
            "text/plain": [
              "     Time        V1        V2        V3  ...       V27       V28  Amount  Class\n",
              "0   406.0 -2.312227  1.951992 -1.609851  ...  0.261145 -0.143276    0.00      1\n",
              "1   472.0 -3.043541 -3.157307  1.088463  ... -0.252773  0.035764  529.00      1\n",
              "2  4462.0 -2.303350  1.759247 -0.359745  ...  0.039566 -0.153029  239.93      1\n",
              "3  6986.0 -4.397974  1.358367 -2.592844  ... -0.827136  0.849573   59.00      1\n",
              "4  7519.0  1.234235  3.019740 -4.304597  ... -0.010016  0.146793    1.00      1\n",
              "\n",
              "[5 rows x 31 columns]"
            ]
          },
          "metadata": {
            "tags": []
          },
          "execution_count": 25
        }
      ]
    },
    {
      "cell_type": "code",
      "metadata": {
        "colab": {
          "base_uri": "https://localhost:8080/"
        },
        "id": "qlIiYV6Pe2-0",
        "outputId": "1e53bee7-32f3-47dd-b736-17908cce75f9"
      },
      "source": [
        "data.shape"
      ],
      "execution_count": 26,
      "outputs": [
        {
          "output_type": "execute_result",
          "data": {
            "text/plain": [
              "(984, 31)"
            ]
          },
          "metadata": {
            "tags": []
          },
          "execution_count": 26
        }
      ]
    },
    {
      "cell_type": "code",
      "metadata": {
        "colab": {
          "base_uri": "https://localhost:8080/"
        },
        "id": "Au3pLbRUe5Q9",
        "outputId": "3914e21c-69d1-4934-c369-257611d7f1b4"
      },
      "source": [
        "data['Class'].value_counts()"
      ],
      "execution_count": 27,
      "outputs": [
        {
          "output_type": "execute_result",
          "data": {
            "text/plain": [
              "1    492\n",
              "0    492\n",
              "Name: Class, dtype: int64"
            ]
          },
          "metadata": {
            "tags": []
          },
          "execution_count": 27
        }
      ]
    },
    {
      "cell_type": "code",
      "metadata": {
        "id": "I1ouqYnve9Sz"
      },
      "source": [
        "X = data.drop('Class',axis=1)\n",
        "Y = data['Class']"
      ],
      "execution_count": 28,
      "outputs": []
    },
    {
      "cell_type": "code",
      "metadata": {
        "id": "2s8JKvk7fG71"
      },
      "source": [
        "x_train, x_test, y_train, y_test = train_test_split(X, Y, test_size=0.2, random_state=0)"
      ],
      "execution_count": 29,
      "outputs": []
    },
    {
      "cell_type": "code",
      "metadata": {
        "colab": {
          "base_uri": "https://localhost:8080/"
        },
        "id": "r_7ukCtnfOFM",
        "outputId": "084ee066-f4ea-4712-fc4d-6056cdb82269"
      },
      "source": [
        "x_train.shape, x_test.shape, y_train.shape, y_test.shape"
      ],
      "execution_count": 30,
      "outputs": [
        {
          "output_type": "execute_result",
          "data": {
            "text/plain": [
              "((787, 30), (197, 30), (787,), (197,))"
            ]
          },
          "metadata": {
            "tags": []
          },
          "execution_count": 30
        }
      ]
    },
    {
      "cell_type": "code",
      "metadata": {
        "id": "ChZeB-o3fUPN"
      },
      "source": [
        "scaler = StandardScaler()\n",
        "x_train = scaler.fit_transform(x_train)\n",
        "x_test = scaler.transform(x_test)"
      ],
      "execution_count": 31,
      "outputs": []
    },
    {
      "cell_type": "code",
      "metadata": {
        "id": "j6NN4PnwfnhC"
      },
      "source": [
        "y_train = y_train.to_numpy()\n",
        "y_test = y_test.to_numpy()"
      ],
      "execution_count": 32,
      "outputs": []
    },
    {
      "cell_type": "code",
      "metadata": {
        "id": "s7h5H7W0fuVY"
      },
      "source": [
        "x_train = x_train.reshape(787,30,1)\n",
        "x_test = x_test.reshape(197,30,1)"
      ],
      "execution_count": 33,
      "outputs": []
    },
    {
      "cell_type": "code",
      "metadata": {
        "id": "Epq4k5b-fibt"
      },
      "source": [
        "model = Sequential()\n",
        "model.add(Conv1D(filters=32,kernel_size=2,activation='relu',input_shape=(30,1)))\n",
        "model.add(BatchNormalization())\n",
        "model.add(Dropout(0.2))\n",
        "model.add(Conv1D(filters=64,kernel_size=2,activation='relu'))\n",
        "model.add(BatchNormalization())\n",
        "model.add(Dropout(0.5))\n",
        "model.add(Flatten())\n",
        "model.add(Dense(units=64,activation='relu'))\n",
        "model.add(Dropout(0.5))\n",
        "model.add(Dense(units=1,activation='sigmoid'))"
      ],
      "execution_count": 37,
      "outputs": []
    },
    {
      "cell_type": "code",
      "metadata": {
        "id": "6CpZOHYDgzDI"
      },
      "source": [
        "model.compile(optimizer=Adam(learning_rate=0.0005),loss='binary_crossentropy',metrics=['accuracy'])"
      ],
      "execution_count": 40,
      "outputs": []
    },
    {
      "cell_type": "code",
      "metadata": {
        "colab": {
          "base_uri": "https://localhost:8080/"
        },
        "id": "2MbSeTs1hDkp",
        "outputId": "6fc97b31-2fb0-4113-f7a5-8f9367909e38"
      },
      "source": [
        "history = model.fit(x_train,y_train,epochs=50,verbose=1,validation_data=(x_test,y_test))"
      ],
      "execution_count": 41,
      "outputs": [
        {
          "output_type": "stream",
          "text": [
            "Epoch 1/50\n",
            "25/25 [==============================] - 2s 17ms/step - loss: 0.4848 - accuracy: 0.8208 - val_loss: 0.5581 - val_accuracy: 0.9594\n",
            "Epoch 2/50\n",
            "25/25 [==============================] - 0s 9ms/step - loss: 0.2810 - accuracy: 0.8958 - val_loss: 0.5233 - val_accuracy: 0.6497\n",
            "Epoch 3/50\n",
            "25/25 [==============================] - 0s 9ms/step - loss: 0.2387 - accuracy: 0.9187 - val_loss: 0.5112 - val_accuracy: 0.5076\n",
            "Epoch 4/50\n",
            "25/25 [==============================] - 0s 9ms/step - loss: 0.2351 - accuracy: 0.9136 - val_loss: 0.4761 - val_accuracy: 0.5635\n",
            "Epoch 5/50\n",
            "25/25 [==============================] - 0s 9ms/step - loss: 0.2081 - accuracy: 0.9212 - val_loss: 0.5347 - val_accuracy: 0.4721\n",
            "Epoch 6/50\n",
            "25/25 [==============================] - 0s 9ms/step - loss: 0.1764 - accuracy: 0.9352 - val_loss: 0.5446 - val_accuracy: 0.4772\n",
            "Epoch 7/50\n",
            "25/25 [==============================] - 0s 9ms/step - loss: 0.1810 - accuracy: 0.9365 - val_loss: 0.6315 - val_accuracy: 0.4721\n",
            "Epoch 8/50\n",
            "25/25 [==============================] - 0s 9ms/step - loss: 0.1730 - accuracy: 0.9314 - val_loss: 0.5823 - val_accuracy: 0.4822\n",
            "Epoch 9/50\n",
            "25/25 [==============================] - 0s 10ms/step - loss: 0.1781 - accuracy: 0.9466 - val_loss: 0.5122 - val_accuracy: 0.5584\n",
            "Epoch 10/50\n",
            "25/25 [==============================] - 0s 10ms/step - loss: 0.1633 - accuracy: 0.9327 - val_loss: 0.4093 - val_accuracy: 0.7614\n",
            "Epoch 11/50\n",
            "25/25 [==============================] - 0s 9ms/step - loss: 0.1801 - accuracy: 0.9428 - val_loss: 0.3163 - val_accuracy: 0.8832\n",
            "Epoch 12/50\n",
            "25/25 [==============================] - 0s 9ms/step - loss: 0.1518 - accuracy: 0.9390 - val_loss: 0.3119 - val_accuracy: 0.8832\n",
            "Epoch 13/50\n",
            "25/25 [==============================] - 0s 9ms/step - loss: 0.1521 - accuracy: 0.9416 - val_loss: 0.2614 - val_accuracy: 0.9137\n",
            "Epoch 14/50\n",
            "25/25 [==============================] - 0s 9ms/step - loss: 0.1622 - accuracy: 0.9492 - val_loss: 0.2626 - val_accuracy: 0.9036\n",
            "Epoch 15/50\n",
            "25/25 [==============================] - 0s 9ms/step - loss: 0.1482 - accuracy: 0.9492 - val_loss: 0.1982 - val_accuracy: 0.9239\n",
            "Epoch 16/50\n",
            "25/25 [==============================] - 0s 9ms/step - loss: 0.1658 - accuracy: 0.9416 - val_loss: 0.1915 - val_accuracy: 0.9391\n",
            "Epoch 17/50\n",
            "25/25 [==============================] - 0s 9ms/step - loss: 0.1429 - accuracy: 0.9543 - val_loss: 0.1708 - val_accuracy: 0.9492\n",
            "Epoch 18/50\n",
            "25/25 [==============================] - 0s 9ms/step - loss: 0.1488 - accuracy: 0.9555 - val_loss: 0.1485 - val_accuracy: 0.9594\n",
            "Epoch 19/50\n",
            "25/25 [==============================] - 0s 9ms/step - loss: 0.1420 - accuracy: 0.9504 - val_loss: 0.1431 - val_accuracy: 0.9543\n",
            "Epoch 20/50\n",
            "25/25 [==============================] - 0s 9ms/step - loss: 0.1305 - accuracy: 0.9517 - val_loss: 0.1398 - val_accuracy: 0.9492\n",
            "Epoch 21/50\n",
            "25/25 [==============================] - 0s 9ms/step - loss: 0.1392 - accuracy: 0.9466 - val_loss: 0.1322 - val_accuracy: 0.9492\n",
            "Epoch 22/50\n",
            "25/25 [==============================] - 0s 9ms/step - loss: 0.1445 - accuracy: 0.9441 - val_loss: 0.1228 - val_accuracy: 0.9543\n",
            "Epoch 23/50\n",
            "25/25 [==============================] - 0s 9ms/step - loss: 0.1114 - accuracy: 0.9619 - val_loss: 0.1226 - val_accuracy: 0.9492\n",
            "Epoch 24/50\n",
            "25/25 [==============================] - 0s 9ms/step - loss: 0.1265 - accuracy: 0.9479 - val_loss: 0.1228 - val_accuracy: 0.9543\n",
            "Epoch 25/50\n",
            "25/25 [==============================] - 0s 9ms/step - loss: 0.1118 - accuracy: 0.9543 - val_loss: 0.1271 - val_accuracy: 0.9543\n",
            "Epoch 26/50\n",
            "25/25 [==============================] - 0s 9ms/step - loss: 0.1065 - accuracy: 0.9581 - val_loss: 0.1188 - val_accuracy: 0.9492\n",
            "Epoch 27/50\n",
            "25/25 [==============================] - 0s 9ms/step - loss: 0.1169 - accuracy: 0.9555 - val_loss: 0.1105 - val_accuracy: 0.9492\n",
            "Epoch 28/50\n",
            "25/25 [==============================] - 0s 9ms/step - loss: 0.1289 - accuracy: 0.9517 - val_loss: 0.1213 - val_accuracy: 0.9492\n",
            "Epoch 29/50\n",
            "25/25 [==============================] - 0s 9ms/step - loss: 0.1221 - accuracy: 0.9555 - val_loss: 0.1175 - val_accuracy: 0.9543\n",
            "Epoch 30/50\n",
            "25/25 [==============================] - 0s 9ms/step - loss: 0.1361 - accuracy: 0.9479 - val_loss: 0.1248 - val_accuracy: 0.9442\n",
            "Epoch 31/50\n",
            "25/25 [==============================] - 0s 9ms/step - loss: 0.1101 - accuracy: 0.9606 - val_loss: 0.1212 - val_accuracy: 0.9492\n",
            "Epoch 32/50\n",
            "25/25 [==============================] - 0s 9ms/step - loss: 0.1368 - accuracy: 0.9555 - val_loss: 0.1258 - val_accuracy: 0.9492\n",
            "Epoch 33/50\n",
            "25/25 [==============================] - 0s 9ms/step - loss: 0.1196 - accuracy: 0.9530 - val_loss: 0.1269 - val_accuracy: 0.9442\n",
            "Epoch 34/50\n",
            "25/25 [==============================] - 0s 9ms/step - loss: 0.1358 - accuracy: 0.9530 - val_loss: 0.1232 - val_accuracy: 0.9492\n",
            "Epoch 35/50\n",
            "25/25 [==============================] - 0s 9ms/step - loss: 0.1057 - accuracy: 0.9593 - val_loss: 0.1240 - val_accuracy: 0.9594\n",
            "Epoch 36/50\n",
            "25/25 [==============================] - 0s 9ms/step - loss: 0.1133 - accuracy: 0.9555 - val_loss: 0.1365 - val_accuracy: 0.9340\n",
            "Epoch 37/50\n",
            "25/25 [==============================] - 0s 9ms/step - loss: 0.1155 - accuracy: 0.9479 - val_loss: 0.1309 - val_accuracy: 0.9492\n",
            "Epoch 38/50\n",
            "25/25 [==============================] - 0s 9ms/step - loss: 0.0997 - accuracy: 0.9568 - val_loss: 0.1310 - val_accuracy: 0.9543\n",
            "Epoch 39/50\n",
            "25/25 [==============================] - 0s 9ms/step - loss: 0.0997 - accuracy: 0.9581 - val_loss: 0.1340 - val_accuracy: 0.9492\n",
            "Epoch 40/50\n",
            "25/25 [==============================] - 0s 9ms/step - loss: 0.0972 - accuracy: 0.9568 - val_loss: 0.1314 - val_accuracy: 0.9543\n",
            "Epoch 41/50\n",
            "25/25 [==============================] - 0s 9ms/step - loss: 0.0980 - accuracy: 0.9555 - val_loss: 0.1390 - val_accuracy: 0.9442\n",
            "Epoch 42/50\n",
            "25/25 [==============================] - 0s 9ms/step - loss: 0.0945 - accuracy: 0.9543 - val_loss: 0.1411 - val_accuracy: 0.9543\n",
            "Epoch 43/50\n",
            "25/25 [==============================] - 0s 9ms/step - loss: 0.1063 - accuracy: 0.9555 - val_loss: 0.1466 - val_accuracy: 0.9543\n",
            "Epoch 44/50\n",
            "25/25 [==============================] - 0s 9ms/step - loss: 0.0887 - accuracy: 0.9632 - val_loss: 0.1391 - val_accuracy: 0.9492\n",
            "Epoch 45/50\n",
            "25/25 [==============================] - 0s 9ms/step - loss: 0.0877 - accuracy: 0.9632 - val_loss: 0.1403 - val_accuracy: 0.9492\n",
            "Epoch 46/50\n",
            "25/25 [==============================] - 0s 9ms/step - loss: 0.0889 - accuracy: 0.9682 - val_loss: 0.1400 - val_accuracy: 0.9543\n",
            "Epoch 47/50\n",
            "25/25 [==============================] - 0s 10ms/step - loss: 0.0870 - accuracy: 0.9682 - val_loss: 0.1406 - val_accuracy: 0.9543\n",
            "Epoch 48/50\n",
            "25/25 [==============================] - 0s 9ms/step - loss: 0.0986 - accuracy: 0.9632 - val_loss: 0.1460 - val_accuracy: 0.9442\n",
            "Epoch 49/50\n",
            "25/25 [==============================] - 0s 9ms/step - loss: 0.1021 - accuracy: 0.9593 - val_loss: 0.1394 - val_accuracy: 0.9543\n",
            "Epoch 50/50\n",
            "25/25 [==============================] - 0s 9ms/step - loss: 0.0891 - accuracy: 0.9682 - val_loss: 0.1425 - val_accuracy: 0.9543\n"
          ],
          "name": "stdout"
        }
      ]
    },
    {
      "cell_type": "code",
      "metadata": {
        "colab": {
          "base_uri": "https://localhost:8080/",
          "height": 573
        },
        "id": "28pAgBtFh9KS",
        "outputId": "0f4b9399-1b68-44d4-b88b-5fd100266b3c"
      },
      "source": [
        "epochs_range = range(1,51)\n",
        "plt.plot(epochs_range,history.history['accuracy'])\n",
        "plt.plot(epochs_range,history.history['val_accuracy'])\n",
        "plt.title('Model Accuracy')\n",
        "plt.xlabel('Epochs')\n",
        "plt.ylabel('Accuracy')\n",
        "plt.legend(['Train', 'Test'], loc='upper left')\n",
        "plt.show()\n",
        "\n",
        "plt.plot(epochs_range,history.history['loss'])\n",
        "plt.plot(epochs_range,history.history['val_loss'])\n",
        "plt.title('Model Loss')\n",
        "plt.xlabel('Epochs')\n",
        "plt.ylabel('Loss')\n",
        "plt.legend(['Train', 'Test'], loc='upper left')\n",
        "plt.show()"
      ],
      "execution_count": 42,
      "outputs": [
        {
          "output_type": "display_data",
          "data": {
            "image/png": "[encoded data removed]",
            "text/plain": [
              "<Figure size 432x288 with 1 Axes>"
            ]
          },
          "metadata": {
            "tags": [],
            "needs_background": "light"
          }
        },
        {
          "output_type": "display_data",
          "data": {
            "image/png": "[encoded data removed]",
            "text/plain": [
              "<Figure size 432x288 with 1 Axes>"
            ]
          },
          "metadata": {
            "tags": [],
            "needs_background": "light"
          }
        }
      ]
    },
    {
      "cell_type": "code",
      "metadata": {
        "id": "XzxLMnYIiMZD"
      },
      "source": [
        ""
      ],
      "execution_count": null,
      "outputs": []
    },
    {
      "cell_type": "code",
      "metadata": {
        "id": "pz7WxakuiXim"
      },
      "source": [
        "model = Sequential()\n",
        "model.add(Conv1D(filters=32,kernel_size=2,activation='relu',input_shape=(30,1)))\n",
        "model.add(BatchNormalization())\n",
        "model.add(MaxPool1D(2))\n",
        "model.add(Dropout(0.2))\n",
        "model.add(Conv1D(filters=64,kernel_size=2,activation='relu'))\n",
        "model.add(BatchNormalization())\n",
        "model.add(MaxPool1D(2))\n",
        "model.add(Dropout(0.5))\n",
        "model.add(Flatten())\n",
        "model.add(Dense(units=64,activation='relu'))\n",
        "model.add(Dropout(0.5))\n",
        "model.add(Dense(units=1,activation='sigmoid'))"
      ],
      "execution_count": 60,
      "outputs": []
    },
    {
      "cell_type": "code",
      "metadata": {
        "id": "DM0QP7DRiXiq"
      },
      "source": [
        "model.compile(optimizer=Adam(learning_rate=0.0005),loss='binary_crossentropy',metrics=['accuracy'])"
      ],
      "execution_count": 61,
      "outputs": []
    },
    {
      "cell_type": "code",
      "metadata": {
        "colab": {
          "base_uri": "https://localhost:8080/"
        },
        "id": "bWnM6KN7iXir",
        "outputId": "8fcfd9ea-940f-4ea7-aed4-d6b7b14ea66c"
      },
      "source": [
        "history = model.fit(x_train,y_train,epochs=100,verbose=1,validation_data=(x_test,y_test))"
      ],
      "execution_count": 62,
      "outputs": [
        {
          "output_type": "stream",
          "text": [
            "Epoch 1/100\n",
            "25/25 [==============================] - 1s 13ms/step - loss: 0.7563 - accuracy: 0.6760 - val_loss: 0.5515 - val_accuracy: 0.8731\n",
            "Epoch 2/100\n",
            "25/25 [==============================] - 0s 7ms/step - loss: 0.4964 - accuracy: 0.8119 - val_loss: 0.5005 - val_accuracy: 0.8376\n",
            "Epoch 3/100\n",
            "25/25 [==============================] - 0s 7ms/step - loss: 0.4310 - accuracy: 0.8475 - val_loss: 0.4619 - val_accuracy: 0.8223\n",
            "Epoch 4/100\n",
            "25/25 [==============================] - 0s 6ms/step - loss: 0.3905 - accuracy: 0.8653 - val_loss: 0.4255 - val_accuracy: 0.8274\n",
            "Epoch 5/100\n",
            "25/25 [==============================] - 0s 7ms/step - loss: 0.3235 - accuracy: 0.8882 - val_loss: 0.3889 - val_accuracy: 0.8274\n",
            "Epoch 6/100\n",
            "25/25 [==============================] - 0s 7ms/step - loss: 0.3254 - accuracy: 0.8882 - val_loss: 0.3523 - val_accuracy: 0.8477\n",
            "Epoch 7/100\n",
            "25/25 [==============================] - 0s 7ms/step - loss: 0.3140 - accuracy: 0.8869 - val_loss: 0.3217 - val_accuracy: 0.8782\n",
            "Epoch 8/100\n",
            "25/25 [==============================] - 0s 7ms/step - loss: 0.3766 - accuracy: 0.8818 - val_loss: 0.2841 - val_accuracy: 0.8985\n",
            "Epoch 9/100\n",
            "25/25 [==============================] - 0s 7ms/step - loss: 0.2716 - accuracy: 0.8983 - val_loss: 0.2530 - val_accuracy: 0.9086\n",
            "Epoch 10/100\n",
            "25/25 [==============================] - 0s 7ms/step - loss: 0.3076 - accuracy: 0.8907 - val_loss: 0.2242 - val_accuracy: 0.9188\n",
            "Epoch 11/100\n",
            "25/25 [==============================] - 0s 6ms/step - loss: 0.2828 - accuracy: 0.8933 - val_loss: 0.2021 - val_accuracy: 0.9188\n",
            "Epoch 12/100\n",
            "25/25 [==============================] - 0s 6ms/step - loss: 0.2701 - accuracy: 0.9060 - val_loss: 0.1893 - val_accuracy: 0.9239\n",
            "Epoch 13/100\n",
            "25/25 [==============================] - 0s 7ms/step - loss: 0.2273 - accuracy: 0.9123 - val_loss: 0.1745 - val_accuracy: 0.9442\n",
            "Epoch 14/100\n",
            "25/25 [==============================] - 0s 7ms/step - loss: 0.2387 - accuracy: 0.9161 - val_loss: 0.1621 - val_accuracy: 0.9492\n",
            "Epoch 15/100\n",
            "25/25 [==============================] - 0s 7ms/step - loss: 0.2540 - accuracy: 0.9098 - val_loss: 0.1515 - val_accuracy: 0.9492\n",
            "Epoch 16/100\n",
            "25/25 [==============================] - 0s 6ms/step - loss: 0.2367 - accuracy: 0.9174 - val_loss: 0.1469 - val_accuracy: 0.9492\n",
            "Epoch 17/100\n",
            "25/25 [==============================] - 0s 6ms/step - loss: 0.2367 - accuracy: 0.9085 - val_loss: 0.1425 - val_accuracy: 0.9492\n",
            "Epoch 18/100\n",
            "25/25 [==============================] - 0s 6ms/step - loss: 0.2516 - accuracy: 0.9060 - val_loss: 0.1410 - val_accuracy: 0.9492\n",
            "Epoch 19/100\n",
            "25/25 [==============================] - 0s 6ms/step - loss: 0.2218 - accuracy: 0.9263 - val_loss: 0.1355 - val_accuracy: 0.9594\n",
            "Epoch 20/100\n",
            "25/25 [==============================] - 0s 7ms/step - loss: 0.2425 - accuracy: 0.9136 - val_loss: 0.1312 - val_accuracy: 0.9594\n",
            "Epoch 21/100\n",
            "25/25 [==============================] - 0s 7ms/step - loss: 0.2222 - accuracy: 0.9263 - val_loss: 0.1285 - val_accuracy: 0.9594\n",
            "Epoch 22/100\n",
            "25/25 [==============================] - 0s 6ms/step - loss: 0.2226 - accuracy: 0.9212 - val_loss: 0.1266 - val_accuracy: 0.9594\n",
            "Epoch 23/100\n",
            "25/25 [==============================] - 0s 7ms/step - loss: 0.2130 - accuracy: 0.9314 - val_loss: 0.1242 - val_accuracy: 0.9594\n",
            "Epoch 24/100\n",
            "25/25 [==============================] - 0s 6ms/step - loss: 0.2153 - accuracy: 0.9187 - val_loss: 0.1242 - val_accuracy: 0.9594\n",
            "Epoch 25/100\n",
            "25/25 [==============================] - 0s 6ms/step - loss: 0.2085 - accuracy: 0.9288 - val_loss: 0.1241 - val_accuracy: 0.9594\n",
            "Epoch 26/100\n",
            "25/25 [==============================] - 0s 6ms/step - loss: 0.2073 - accuracy: 0.9212 - val_loss: 0.1238 - val_accuracy: 0.9594\n",
            "Epoch 27/100\n",
            "25/25 [==============================] - 0s 7ms/step - loss: 0.1861 - accuracy: 0.9314 - val_loss: 0.1227 - val_accuracy: 0.9594\n",
            "Epoch 28/100\n",
            "25/25 [==============================] - 0s 7ms/step - loss: 0.2098 - accuracy: 0.9238 - val_loss: 0.1207 - val_accuracy: 0.9594\n",
            "Epoch 29/100\n",
            "25/25 [==============================] - 0s 7ms/step - loss: 0.2057 - accuracy: 0.9161 - val_loss: 0.1196 - val_accuracy: 0.9594\n",
            "Epoch 30/100\n",
            "25/25 [==============================] - 0s 6ms/step - loss: 0.1996 - accuracy: 0.9225 - val_loss: 0.1185 - val_accuracy: 0.9594\n",
            "Epoch 31/100\n",
            "25/25 [==============================] - 0s 7ms/step - loss: 0.2077 - accuracy: 0.9263 - val_loss: 0.1195 - val_accuracy: 0.9594\n",
            "Epoch 32/100\n",
            "25/25 [==============================] - 0s 7ms/step - loss: 0.2001 - accuracy: 0.9238 - val_loss: 0.1205 - val_accuracy: 0.9594\n",
            "Epoch 33/100\n",
            "25/25 [==============================] - 0s 6ms/step - loss: 0.1906 - accuracy: 0.9314 - val_loss: 0.1166 - val_accuracy: 0.9594\n",
            "Epoch 34/100\n",
            "25/25 [==============================] - 0s 6ms/step - loss: 0.1955 - accuracy: 0.9238 - val_loss: 0.1172 - val_accuracy: 0.9594\n",
            "Epoch 35/100\n",
            "25/25 [==============================] - 0s 6ms/step - loss: 0.1882 - accuracy: 0.9339 - val_loss: 0.1144 - val_accuracy: 0.9594\n",
            "Epoch 36/100\n",
            "25/25 [==============================] - 0s 6ms/step - loss: 0.1871 - accuracy: 0.9250 - val_loss: 0.1141 - val_accuracy: 0.9594\n",
            "Epoch 37/100\n",
            "25/25 [==============================] - 0s 7ms/step - loss: 0.2003 - accuracy: 0.9314 - val_loss: 0.1143 - val_accuracy: 0.9594\n",
            "Epoch 38/100\n",
            "25/25 [==============================] - 0s 6ms/step - loss: 0.1737 - accuracy: 0.9365 - val_loss: 0.1126 - val_accuracy: 0.9594\n",
            "Epoch 39/100\n",
            "25/25 [==============================] - 0s 6ms/step - loss: 0.1906 - accuracy: 0.9225 - val_loss: 0.1127 - val_accuracy: 0.9543\n",
            "Epoch 40/100\n",
            "25/25 [==============================] - 0s 6ms/step - loss: 0.1772 - accuracy: 0.9339 - val_loss: 0.1082 - val_accuracy: 0.9594\n",
            "Epoch 41/100\n",
            "25/25 [==============================] - 0s 7ms/step - loss: 0.1709 - accuracy: 0.9301 - val_loss: 0.1077 - val_accuracy: 0.9594\n",
            "Epoch 42/100\n",
            "25/25 [==============================] - 0s 6ms/step - loss: 0.1810 - accuracy: 0.9327 - val_loss: 0.1076 - val_accuracy: 0.9594\n",
            "Epoch 43/100\n",
            "25/25 [==============================] - 0s 7ms/step - loss: 0.1878 - accuracy: 0.9301 - val_loss: 0.1082 - val_accuracy: 0.9645\n",
            "Epoch 44/100\n",
            "25/25 [==============================] - 0s 7ms/step - loss: 0.1727 - accuracy: 0.9327 - val_loss: 0.1104 - val_accuracy: 0.9594\n",
            "Epoch 45/100\n",
            "25/25 [==============================] - 0s 7ms/step - loss: 0.1716 - accuracy: 0.9403 - val_loss: 0.1123 - val_accuracy: 0.9594\n",
            "Epoch 46/100\n",
            "25/25 [==============================] - 0s 6ms/step - loss: 0.2004 - accuracy: 0.9263 - val_loss: 0.1137 - val_accuracy: 0.9645\n",
            "Epoch 47/100\n",
            "25/25 [==============================] - 0s 6ms/step - loss: 0.1642 - accuracy: 0.9339 - val_loss: 0.1119 - val_accuracy: 0.9645\n",
            "Epoch 48/100\n",
            "25/25 [==============================] - 0s 6ms/step - loss: 0.1675 - accuracy: 0.9441 - val_loss: 0.1111 - val_accuracy: 0.9594\n",
            "Epoch 49/100\n",
            "25/25 [==============================] - 0s 6ms/step - loss: 0.1685 - accuracy: 0.9416 - val_loss: 0.1105 - val_accuracy: 0.9543\n",
            "Epoch 50/100\n",
            "25/25 [==============================] - 0s 6ms/step - loss: 0.1725 - accuracy: 0.9390 - val_loss: 0.1094 - val_accuracy: 0.9645\n",
            "Epoch 51/100\n",
            "25/25 [==============================] - 0s 7ms/step - loss: 0.1768 - accuracy: 0.9314 - val_loss: 0.1102 - val_accuracy: 0.9594\n",
            "Epoch 52/100\n",
            "25/25 [==============================] - 0s 7ms/step - loss: 0.1899 - accuracy: 0.9301 - val_loss: 0.1074 - val_accuracy: 0.9645\n",
            "Epoch 53/100\n",
            "25/25 [==============================] - 0s 6ms/step - loss: 0.1730 - accuracy: 0.9377 - val_loss: 0.1085 - val_accuracy: 0.9594\n",
            "Epoch 54/100\n",
            "25/25 [==============================] - 0s 7ms/step - loss: 0.1583 - accuracy: 0.9377 - val_loss: 0.1083 - val_accuracy: 0.9543\n",
            "Epoch 55/100\n",
            "25/25 [==============================] - 0s 7ms/step - loss: 0.1699 - accuracy: 0.9352 - val_loss: 0.1079 - val_accuracy: 0.9594\n",
            "Epoch 56/100\n",
            "25/25 [==============================] - 0s 6ms/step - loss: 0.1684 - accuracy: 0.9390 - val_loss: 0.1074 - val_accuracy: 0.9594\n",
            "Epoch 57/100\n",
            "25/25 [==============================] - 0s 6ms/step - loss: 0.1543 - accuracy: 0.9492 - val_loss: 0.1101 - val_accuracy: 0.9543\n",
            "Epoch 58/100\n",
            "25/25 [==============================] - 0s 6ms/step - loss: 0.1555 - accuracy: 0.9365 - val_loss: 0.1102 - val_accuracy: 0.9594\n",
            "Epoch 59/100\n",
            "25/25 [==============================] - 0s 7ms/step - loss: 0.1492 - accuracy: 0.9416 - val_loss: 0.1102 - val_accuracy: 0.9594\n",
            "Epoch 60/100\n",
            "25/25 [==============================] - 0s 7ms/step - loss: 0.1520 - accuracy: 0.9416 - val_loss: 0.1100 - val_accuracy: 0.9594\n",
            "Epoch 61/100\n",
            "25/25 [==============================] - 0s 7ms/step - loss: 0.1523 - accuracy: 0.9428 - val_loss: 0.1106 - val_accuracy: 0.9594\n",
            "Epoch 62/100\n",
            "25/25 [==============================] - 0s 7ms/step - loss: 0.1633 - accuracy: 0.9390 - val_loss: 0.1111 - val_accuracy: 0.9594\n",
            "Epoch 63/100\n",
            "25/25 [==============================] - 0s 6ms/step - loss: 0.1526 - accuracy: 0.9403 - val_loss: 0.1104 - val_accuracy: 0.9594\n",
            "Epoch 64/100\n",
            "25/25 [==============================] - 0s 6ms/step - loss: 0.1673 - accuracy: 0.9352 - val_loss: 0.1098 - val_accuracy: 0.9594\n",
            "Epoch 65/100\n",
            "25/25 [==============================] - 0s 6ms/step - loss: 0.1658 - accuracy: 0.9327 - val_loss: 0.1101 - val_accuracy: 0.9594\n",
            "Epoch 66/100\n",
            "25/25 [==============================] - 0s 6ms/step - loss: 0.1552 - accuracy: 0.9479 - val_loss: 0.1079 - val_accuracy: 0.9594\n",
            "Epoch 67/100\n",
            "25/25 [==============================] - 0s 7ms/step - loss: 0.1498 - accuracy: 0.9352 - val_loss: 0.1075 - val_accuracy: 0.9594\n",
            "Epoch 68/100\n",
            "25/25 [==============================] - 0s 6ms/step - loss: 0.1693 - accuracy: 0.9365 - val_loss: 0.1077 - val_accuracy: 0.9543\n",
            "Epoch 69/100\n",
            "25/25 [==============================] - 0s 6ms/step - loss: 0.1522 - accuracy: 0.9352 - val_loss: 0.1105 - val_accuracy: 0.9594\n",
            "Epoch 70/100\n",
            "25/25 [==============================] - 0s 7ms/step - loss: 0.1484 - accuracy: 0.9428 - val_loss: 0.1061 - val_accuracy: 0.9645\n",
            "Epoch 71/100\n",
            "25/25 [==============================] - 0s 7ms/step - loss: 0.1476 - accuracy: 0.9390 - val_loss: 0.1057 - val_accuracy: 0.9645\n",
            "Epoch 72/100\n",
            "25/25 [==============================] - 0s 6ms/step - loss: 0.1577 - accuracy: 0.9492 - val_loss: 0.1056 - val_accuracy: 0.9645\n",
            "Epoch 73/100\n",
            "25/25 [==============================] - 0s 7ms/step - loss: 0.1544 - accuracy: 0.9403 - val_loss: 0.1069 - val_accuracy: 0.9594\n",
            "Epoch 74/100\n",
            "25/25 [==============================] - 0s 7ms/step - loss: 0.1546 - accuracy: 0.9428 - val_loss: 0.1057 - val_accuracy: 0.9594\n",
            "Epoch 75/100\n",
            "25/25 [==============================] - 0s 7ms/step - loss: 0.1531 - accuracy: 0.9428 - val_loss: 0.1077 - val_accuracy: 0.9594\n",
            "Epoch 76/100\n",
            "25/25 [==============================] - 0s 6ms/step - loss: 0.1507 - accuracy: 0.9454 - val_loss: 0.1073 - val_accuracy: 0.9594\n",
            "Epoch 77/100\n",
            "25/25 [==============================] - 0s 7ms/step - loss: 0.1595 - accuracy: 0.9479 - val_loss: 0.1046 - val_accuracy: 0.9594\n",
            "Epoch 78/100\n",
            "25/25 [==============================] - 0s 6ms/step - loss: 0.1415 - accuracy: 0.9428 - val_loss: 0.1046 - val_accuracy: 0.9594\n",
            "Epoch 79/100\n",
            "25/25 [==============================] - 0s 7ms/step - loss: 0.1433 - accuracy: 0.9390 - val_loss: 0.1071 - val_accuracy: 0.9645\n",
            "Epoch 80/100\n",
            "25/25 [==============================] - 0s 7ms/step - loss: 0.1503 - accuracy: 0.9377 - val_loss: 0.1068 - val_accuracy: 0.9594\n",
            "Epoch 81/100\n",
            "25/25 [==============================] - 0s 6ms/step - loss: 0.1523 - accuracy: 0.9454 - val_loss: 0.1073 - val_accuracy: 0.9594\n",
            "Epoch 82/100\n",
            "25/25 [==============================] - 0s 7ms/step - loss: 0.1346 - accuracy: 0.9416 - val_loss: 0.1071 - val_accuracy: 0.9594\n",
            "Epoch 83/100\n",
            "25/25 [==============================] - 0s 7ms/step - loss: 0.1451 - accuracy: 0.9454 - val_loss: 0.1070 - val_accuracy: 0.9645\n",
            "Epoch 84/100\n",
            "25/25 [==============================] - 0s 6ms/step - loss: 0.1387 - accuracy: 0.9543 - val_loss: 0.1078 - val_accuracy: 0.9594\n",
            "Epoch 85/100\n",
            "25/25 [==============================] - 0s 7ms/step - loss: 0.1340 - accuracy: 0.9530 - val_loss: 0.1095 - val_accuracy: 0.9594\n",
            "Epoch 86/100\n",
            "25/25 [==============================] - 0s 7ms/step - loss: 0.1319 - accuracy: 0.9517 - val_loss: 0.1075 - val_accuracy: 0.9594\n",
            "Epoch 87/100\n",
            "25/25 [==============================] - 0s 7ms/step - loss: 0.1502 - accuracy: 0.9454 - val_loss: 0.1061 - val_accuracy: 0.9594\n",
            "Epoch 88/100\n",
            "25/25 [==============================] - 0s 7ms/step - loss: 0.1373 - accuracy: 0.9492 - val_loss: 0.1067 - val_accuracy: 0.9594\n",
            "Epoch 89/100\n",
            "25/25 [==============================] - 0s 7ms/step - loss: 0.1331 - accuracy: 0.9543 - val_loss: 0.1072 - val_accuracy: 0.9594\n",
            "Epoch 90/100\n",
            "25/25 [==============================] - 0s 7ms/step - loss: 0.1494 - accuracy: 0.9492 - val_loss: 0.1072 - val_accuracy: 0.9594\n",
            "Epoch 91/100\n",
            "25/25 [==============================] - 0s 7ms/step - loss: 0.1310 - accuracy: 0.9543 - val_loss: 0.1085 - val_accuracy: 0.9594\n",
            "Epoch 92/100\n",
            "25/25 [==============================] - 0s 7ms/step - loss: 0.1342 - accuracy: 0.9517 - val_loss: 0.1083 - val_accuracy: 0.9594\n",
            "Epoch 93/100\n",
            "25/25 [==============================] - 0s 7ms/step - loss: 0.1425 - accuracy: 0.9454 - val_loss: 0.1086 - val_accuracy: 0.9594\n",
            "Epoch 94/100\n",
            "25/25 [==============================] - 0s 6ms/step - loss: 0.1290 - accuracy: 0.9543 - val_loss: 0.1086 - val_accuracy: 0.9645\n",
            "Epoch 95/100\n",
            "25/25 [==============================] - 0s 7ms/step - loss: 0.1387 - accuracy: 0.9454 - val_loss: 0.1111 - val_accuracy: 0.9645\n",
            "Epoch 96/100\n",
            "25/25 [==============================] - 0s 7ms/step - loss: 0.1333 - accuracy: 0.9390 - val_loss: 0.1118 - val_accuracy: 0.9645\n",
            "Epoch 97/100\n",
            "25/25 [==============================] - 0s 7ms/step - loss: 0.1346 - accuracy: 0.9377 - val_loss: 0.1138 - val_accuracy: 0.9594\n",
            "Epoch 98/100\n",
            "25/25 [==============================] - 0s 7ms/step - loss: 0.1421 - accuracy: 0.9466 - val_loss: 0.1120 - val_accuracy: 0.9594\n",
            "Epoch 99/100\n",
            "25/25 [==============================] - 0s 7ms/step - loss: 0.1256 - accuracy: 0.9543 - val_loss: 0.1125 - val_accuracy: 0.9594\n",
            "Epoch 100/100\n",
            "25/25 [==============================] - 0s 6ms/step - loss: 0.1338 - accuracy: 0.9504 - val_loss: 0.1125 - val_accuracy: 0.9594\n"
          ],
          "name": "stdout"
        }
      ]
    },
    {
      "cell_type": "code",
      "metadata": {
        "colab": {
          "base_uri": "https://localhost:8080/",
          "height": 573
        },
        "id": "haKzw6Enik3c",
        "outputId": "d81e1373-0b07-4e84-9dba-3093a24897cc"
      },
      "source": [
        "epochs_range = range(1,101)\n",
        "plt.plot(epochs_range,history.history['accuracy'])\n",
        "plt.plot(epochs_range,history.history['val_accuracy'])\n",
        "plt.title('Model Accuracy')\n",
        "plt.xlabel('Epochs')\n",
        "plt.ylabel('Accuracy')\n",
        "plt.legend(['Train', 'Test'], loc='upper left')\n",
        "plt.show()\n",
        "\n",
        "plt.plot(epochs_range,history.history['loss'])\n",
        "plt.plot(epochs_range,history.history['val_loss'])\n",
        "plt.title('Model Loss')\n",
        "plt.xlabel('Epochs')\n",
        "plt.ylabel('Loss')\n",
        "plt.legend(['Train', 'Test'], loc='upper left')\n",
        "plt.show()"
      ],
      "execution_count": 64,
      "outputs": [
        {
          "output_type": "display_data",
          "data": {
            "image/png": "[encoded data removed]",
            "text/plain": [
              "<Figure size 432x288 with 1 Axes>"
            ]
          },
          "metadata": {
            "tags": [],
            "needs_background": "light"
          }
        },
        {
          "output_type": "display_data",
          "data": {
            "image/png": "[encoded data removed]",
            "text/plain": [
              "<Figure size 432x288 with 1 Axes>"
            ]
          },
          "metadata": {
            "tags": [],
            "needs_background": "light"
          }
        }
      ]
    },
    {
      "cell_type": "code",
      "metadata": {
        "id": "vRHqK_Ajitv8"
      },
      "source": [
        "  "
      ],
      "execution_count": 59,
      "outputs": []
    }
  ]
}