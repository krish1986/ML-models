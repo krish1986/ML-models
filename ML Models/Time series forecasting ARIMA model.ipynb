{
 "cells": [
  {
   "cell_type": "code",
   "execution_count": 1,
   "metadata": {},
   "outputs": [],
   "source": [
    "import pandas as pd\n",
    "from datetime import date,timedelta\n",
    "import statistics\n",
    "from statsmodels.stats.outliers_influence import variance_inflation_factor\n",
    "from sklearn.tree import DecisionTreeRegressor\n",
    "from sklearn.metrics import mean_squared_error, r2_score\n",
    "import datetime as dt\n",
    "from sklearn.ensemble import RandomForestRegressor\n",
    "from sklearn.linear_model import LinearRegression\n",
    "from statsmodels.tsa.stattools import adfuller\n",
    "from statsmodels.tsa.stattools import acf, pacf\n",
    "from statsmodels.tsa.arima_model import ARIMA\n",
    "import numpy as np\n",
    "import matplotlib.pyplot as plt\n",
    "from sklearn import linear_model\n",
    "from sklearn import svm\n",
    "import matplotlib.pyplot as plt\n",
    "import matplotlib.patches as patches\n",
    "from matplotlib.pylab import rcParams\n",
    "rcParams['figure.figsize'] = 20,15\n",
    "import seaborn as sns"
   ]
  },
  {
   "cell_type": "code",
   "execution_count": 2,
   "metadata": {},
   "outputs": [],
   "source": [
    "# params\n",
    "# TODO: fit 01 best order 3,1,3\n",
    "# TODO: fit 03 best order 10,1,10\n",
    "windownr = '3'\n",
    "win = 3\n",
    "useridnr = 'AS14.03'\n",
    "customorder = 3,1,3"
   ]
  },
  {
   "cell_type": "code",
   "execution_count": 3,
   "metadata": {},
   "outputs": [],
   "source": [
    "#df = pd.read_csv(\"E:/users/KMN14/Personal/DMT/dataset_mood_smartphone.csv\", usecols=['id', 'time','variable','value'])\n",
    "df = df = pd.read_csv(\"C:/Users/maga0002/OneDrive - HZ University of Applied Sciences/Master/Courses/DMT/Assignment 1/dataset_mood_smartphone.csv\", usecols=['id', 'time','variable','value'])"
   ]
  },
  {
   "cell_type": "code",
   "execution_count": 4,
   "metadata": {},
   "outputs": [],
   "source": [
    "df['time'] = pd.to_datetime(df['time'])"
   ]
  },
  {
   "cell_type": "code",
   "execution_count": 5,
   "metadata": {},
   "outputs": [],
   "source": [
    "df['time'] = pd.to_datetime(df.time).dt.date"
   ]
  },
  {
   "cell_type": "code",
   "execution_count": 6,
   "metadata": {},
   "outputs": [
    {
     "data": {
      "text/html": [
       "<div>\n",
       "<style scoped>\n",
       "    .dataframe tbody tr th:only-of-type {\n",
       "        vertical-align: middle;\n",
       "    }\n",
       "\n",
       "    .dataframe tbody tr th {\n",
       "        vertical-align: top;\n",
       "    }\n",
       "\n",
       "    .dataframe thead th {\n",
       "        text-align: right;\n",
       "    }\n",
       "</style>\n",
       "<table border=\"1\" class=\"dataframe\">\n",
       "  <thead>\n",
       "    <tr style=\"text-align: right;\">\n",
       "      <th></th>\n",
       "      <th>id</th>\n",
       "      <th>time</th>\n",
       "      <th>variable</th>\n",
       "      <th>value</th>\n",
       "    </tr>\n",
       "  </thead>\n",
       "  <tbody>\n",
       "    <tr>\n",
       "      <th>376907</th>\n",
       "      <td>AS14.30</td>\n",
       "      <td>2014-04-11</td>\n",
       "      <td>appCat.weather</td>\n",
       "      <td>8.032</td>\n",
       "    </tr>\n",
       "    <tr>\n",
       "      <th>376908</th>\n",
       "      <td>AS14.30</td>\n",
       "      <td>2014-04-19</td>\n",
       "      <td>appCat.weather</td>\n",
       "      <td>3.008</td>\n",
       "    </tr>\n",
       "    <tr>\n",
       "      <th>376909</th>\n",
       "      <td>AS14.30</td>\n",
       "      <td>2014-04-26</td>\n",
       "      <td>appCat.weather</td>\n",
       "      <td>7.026</td>\n",
       "    </tr>\n",
       "    <tr>\n",
       "      <th>376910</th>\n",
       "      <td>AS14.30</td>\n",
       "      <td>2014-04-27</td>\n",
       "      <td>appCat.weather</td>\n",
       "      <td>23.033</td>\n",
       "    </tr>\n",
       "    <tr>\n",
       "      <th>376911</th>\n",
       "      <td>AS14.32</td>\n",
       "      <td>2014-04-07</td>\n",
       "      <td>appCat.weather</td>\n",
       "      <td>22.431</td>\n",
       "    </tr>\n",
       "  </tbody>\n",
       "</table>\n",
       "</div>"
      ],
      "text/plain": [
       "             id        time        variable   value\n",
       "376907  AS14.30  2014-04-11  appCat.weather   8.032\n",
       "376908  AS14.30  2014-04-19  appCat.weather   3.008\n",
       "376909  AS14.30  2014-04-26  appCat.weather   7.026\n",
       "376910  AS14.30  2014-04-27  appCat.weather  23.033\n",
       "376911  AS14.32  2014-04-07  appCat.weather  22.431"
      ]
     },
     "execution_count": 6,
     "metadata": {},
     "output_type": "execute_result"
    }
   ],
   "source": [
    "df.tail()"
   ]
  },
  {
   "cell_type": "code",
   "execution_count": 7,
   "metadata": {},
   "outputs": [
    {
     "name": "stderr",
     "output_type": "stream",
     "text": [
      "<ipython-input-7-f66d9d55ed3b>:3: SettingWithCopyWarning: \n",
      "A value is trying to be set on a copy of a slice from a DataFrame.\n",
      "Try using .loc[row_indexer,col_indexer] = value instead\n",
      "\n",
      "See the caveats in the documentation: https://pandas.pydata.org/pandas-docs/stable/user_guide/indexing.html#returning-a-view-versus-a-copy\n",
      "  mood_df_exp['time'] = pd.to_datetime(mood_df_exp.time).dt.date\n"
     ]
    },
    {
     "data": {
      "image/png": "[encoded data removed]",
      "text/plain": [
       "<Figure size 3600x720 with 2 Axes>"
      ]
     },
     "metadata": {
      "needs_background": "light"
     },
     "output_type": "display_data"
    }
   ],
   "source": [
    "#Exploratory analysis to see how the mood values are distributed per user\n",
    "mood_df_exp = df[df['variable'] == 'mood']\n",
    "mood_df_exp['time'] = pd.to_datetime(mood_df_exp.time).dt.date\n",
    "mood_df_fmt = mood_df_exp.groupby(['time', 'id']).mean().reset_index()\n",
    "mood_df_fmt['id'] = mood_df_fmt['id'].str.replace(r'\\D', '')\n",
    "mood_df_fmt['time'] =  pd.to_datetime(mood_df_fmt['time'])\n",
    "mood_df_fmt['dayofyear'] = mood_df_fmt['time'].dt.dayofyear\n",
    "fig = plt.figure(figsize=(50,10))\n",
    "ax1 = plt.subplot(121)\n",
    "sc = plt.scatter(mood_df_fmt['id'], mood_df_fmt['dayofyear'], mood_df_fmt['value'], c=mood_df_fmt['value'] , cmap='ocean')\n",
    "cbar = fig.colorbar(sc, orientation='vertical')    \n",
    "plt.xlabel('User id')\n",
    "plt.ylabel('Day of the year')\n",
    "plt.title('Distribution of the mood per user')\n",
    "plt.savefig('Mood_distribution_all_users.pdf')"
   ]
  },
  {
   "cell_type": "code",
   "execution_count": 8,
   "metadata": {},
   "outputs": [],
   "source": [
    "## add period value\n",
    "def process_period(date):\n",
    "    new_date = date - timedelta(5)\n",
    "    return str(new_date) + ' till ' + str(date)"
   ]
  },
  {
   "cell_type": "code",
   "execution_count": 9,
   "metadata": {},
   "outputs": [],
   "source": [
    "df['period'] = df['time'].apply(process_period)"
   ]
  },
  {
   "cell_type": "code",
   "execution_count": 10,
   "metadata": {},
   "outputs": [],
   "source": [
    "df.sort_values(['id', 'time', 'variable'], ascending=[True,True,True],inplace=True)"
   ]
  },
  {
   "cell_type": "code",
   "execution_count": 11,
   "metadata": {},
   "outputs": [
    {
     "name": "stderr",
     "output_type": "stream",
     "text": [
      "<ipython-input-11-1d8666dedd6b>:227: SettingWithCopyWarning: \n",
      "A value is trying to be set on a copy of a slice from a DataFrame.\n",
      "Try using .loc[row_indexer,col_indexer] = value instead\n",
      "\n",
      "See the caveats in the documentation: https://pandas.pydata.org/pandas-docs/stable/user_guide/indexing.html#returning-a-view-versus-a-copy\n",
      "  appCat_duration_df['variable'] = appCat_duration_df['variable'].str.replace(r'[.].*', '')\n"
     ]
    }
   ],
   "source": [
    "# Run process for each iteration -> each iteration Windows = tdays\n",
    "# Process for mood \n",
    "mood_df = df[df['variable'] == 'mood']\n",
    "mood_grouped = mood_df.groupby(['id', 'time', 'variable']).mean().reset_index()\n",
    "date_values = df['time'].iloc[-1]\n",
    "for i in range (0,10):\n",
    "    upd_date_value = date_values + timedelta(i)\n",
    "    for i in range (1, 34):\n",
    "        if i <=9:\n",
    "            id_value = str('AS14.') + '0' + str(i)\n",
    "        else:\n",
    "            id_value = str('AS14.') +  str(i)\n",
    "        mood_grouped = mood_grouped.append({'id' : id_value,\n",
    "                        'time' : upd_date_value, 'variable' : 'mood', 'value': 0.0} , \n",
    "                        ignore_index=True)\n",
    "df = pd.merge(left = df, right = mood_grouped, how = 'left', left_on = ['id', 'time'], right_on = ['id', 'time'])\n",
    "df.rename(columns ={'value_x': 'value', 'value_y': 'mood', 'variable_x': 'variable'}, inplace=True)\n",
    "del df['variable_y']\n",
    "\n",
    "#Process for activity\n",
    "activity_df = df[df['variable'] == 'activity']\n",
    "del activity_df['mood']\n",
    "del activity_df['period']\n",
    "activity_grouped = activity_df.groupby(['id', 'time', 'variable']).mean().reset_index()\n",
    "date_values = activity_df['time'].iloc[-1]\n",
    "for i in range (0,11):\n",
    "    upd_date_value = date_values + timedelta(i)\n",
    "    for i in range (1, 34):\n",
    "        if i <=9:\n",
    "            id_value = str('AS14.') + '0' + str(i)\n",
    "        else:\n",
    "            id_value = str('AS14.') +  str(i)\n",
    "        activity_grouped = activity_grouped.append({'id' : id_value,\n",
    "                    'time' : upd_date_value, 'variable' : 'activity', 'value': 0.0} , \n",
    "                    ignore_index=True)\n",
    "activity_grouped['time'] = pd.to_datetime(activity_grouped.time)\n",
    "df['time'] = pd.to_datetime(df.time)\n",
    "grouped_activity = activity_grouped.groupby('id').apply(lambda x: x.set_index('time').resample('1D').first())\n",
    "df_activity = grouped_activity.groupby(level=0)['value'].apply(lambda x: x.shift().rolling(min_periods=1,window=win).mean()).reset_index(name='Value_Average_Past_5_days')\n",
    "df_activity['variable'] = 'activity'\n",
    "df = pd.merge(left = df, right = df_activity, how = 'left', left_on = ['id', 'time'], right_on = ['id', 'time'])\n",
    "df.rename(columns ={'Value_Average_Past_5_days': 'activity', 'variable_x': 'variable'}, inplace=True)\n",
    "del df['variable_y']\n",
    "\n",
    "#Process for arousal\n",
    "arousal_df = df[df['variable'] == 'circumplex.arousal']\n",
    "del arousal_df['mood']\n",
    "del arousal_df['period']\n",
    "del arousal_df['activity']\n",
    "arousal_grouped = arousal_df.groupby(['id', 'time', 'variable']).mean().reset_index()\n",
    "date_values = arousal_df['time'].iloc[-1]\n",
    "for i in range (0,11):\n",
    "    upd_date_value = date_values + timedelta(i)\n",
    "    for i in range (1, 34):\n",
    "        if i <=9:\n",
    "            id_value = str('AS14.') + '0' + str(i)\n",
    "        else:\n",
    "            id_value = str('AS14.') +  str(i)\n",
    "        arousal_grouped = arousal_grouped.append({'id' : id_value,\n",
    "                    'time' : upd_date_value, 'variable' : 'arousal', 'value': 0.0} , \n",
    "                    ignore_index=True)\n",
    "arousal_grouped['time'] = pd.to_datetime(arousal_grouped.time)\n",
    "df['time'] = pd.to_datetime(df.time)\n",
    "grouped_arousal = arousal_grouped.groupby('id').apply(lambda x: x.set_index('time').resample('1D').first())\n",
    "df_arousal = grouped_arousal.groupby(level=0)['value'].apply(lambda x: x.shift().rolling(min_periods=1,window=win).mean()).reset_index(name='Value_Average_Past_5_days')\n",
    "df_arousal['variable'] = 'arousal'\n",
    "df = pd.merge(left = df, right = df_arousal, how = 'left', left_on = ['id', 'time'], right_on = ['id', 'time'])\n",
    "df.rename(columns ={'Value_Average_Past_5_days': 'arousal', 'variable_x': 'variable'}, inplace=True)\n",
    "del df['variable_y']\n",
    "\n",
    "#Process for valence\n",
    "valence_df = df[df['variable'] == 'circumplex.valence']\n",
    "del valence_df['mood']\n",
    "del valence_df['period']\n",
    "del valence_df['activity']\n",
    "del valence_df['arousal']\n",
    "valence_grouped = valence_df.groupby(['id', 'time', 'variable']).mean().reset_index()\n",
    "date_values = valence_df['time'].iloc[-1]\n",
    "for i in range (0,11):\n",
    "    upd_date_value = date_values + timedelta(i)\n",
    "    for i in range (1, 34):\n",
    "        if i <=9:\n",
    "            id_value = str('AS14.') + '0' + str(i)\n",
    "        else:\n",
    "            id_value = str('AS14.') +  str(i)\n",
    "        valence_grouped = valence_grouped.append({'id' : id_value,\n",
    "                    'time' : upd_date_value, 'variable' : 'valence', 'value': 0.0} , \n",
    "                    ignore_index=True)\n",
    "valence_grouped['time'] = pd.to_datetime(valence_grouped.time)\n",
    "df['time'] = pd.to_datetime(df.time)\n",
    "grouped_valence = valence_grouped.groupby('id').apply(lambda x: x.set_index('time').resample('1D').first())\n",
    "df_valence = grouped_valence.groupby(level=0)['value'].apply(lambda x: x.shift().rolling(min_periods=1,window=win).mean()).reset_index(name='Value_Average_Past_5_days')\n",
    "df_valence['variable'] = 'valence'\n",
    "df = pd.merge(left = df, right = df_valence, how = 'left', left_on = ['id', 'time'], right_on = ['id', 'time'])\n",
    "df.rename(columns ={'Value_Average_Past_5_days': 'valence', 'variable_x': 'variable'}, inplace=True)\n",
    "del df['variable_y']\n",
    "\n",
    "#Process for screen\n",
    "screen_df = df[df['variable'] == 'screen']\n",
    "del screen_df['mood']\n",
    "del screen_df['activity']\n",
    "del screen_df['arousal']\n",
    "del screen_df['valence']\n",
    "del screen_df['period']\n",
    "screen_grouped = screen_df.groupby(['id', 'time', 'variable']).mean().reset_index()\n",
    "date_values = screen_grouped['time'].iloc[-1]\n",
    "for i in range (0,11):\n",
    "    upd_date_value = date_values + timedelta(i)\n",
    "    for i in range (1, 34):\n",
    "        if i <=9:\n",
    "            id_value = str('AS14.') + '0' + str(i)\n",
    "        else:\n",
    "            id_value = str('AS14.') +  str(i)\n",
    "        screen_grouped = screen_grouped.append({'id' : id_value,\n",
    "                    'time' : upd_date_value, 'variable' : 'screen', 'value': 0.0} , \n",
    "                    ignore_index=True)\n",
    "screen_grouped['time'] = pd.to_datetime(screen_grouped.time)\n",
    "grouped_screen = screen_grouped.groupby('id').apply(lambda x: x.set_index('time').resample('1D').first())\n",
    "df_screen = grouped_screen.groupby(level=0)['value'].apply(lambda x: x.shift().rolling(min_periods=1,window=win).mean()).reset_index(name='Value_Average_Past_5_days')\n",
    "df_screen['variable'] = 'screen'\n",
    "df = pd.merge(left = df, right = df_screen, how = 'left', left_on = ['id', 'time'], right_on = ['id', 'time'])\n",
    "df.rename(columns ={'Value_Average_Past_5_days': 'screen', 'variable_x': 'variable'}, inplace=True)\n",
    "del df['variable_y']\n",
    "\n",
    "#Process for call\n",
    "call_df = df[df['variable'] == 'call']\n",
    "del call_df['mood']\n",
    "del call_df['activity']\n",
    "del call_df['screen']\n",
    "del call_df['arousal']\n",
    "del call_df['valence']\n",
    "del call_df['period']\n",
    "call_grouped = call_df.groupby(['id', 'time', 'variable']).sum().reset_index()\n",
    "date_values = call_grouped['time'].iloc[-1]\n",
    "for i in range (0,11):\n",
    "    upd_date_value = date_values + timedelta(i)\n",
    "    for i in range (1, 34):\n",
    "        if i <=9:\n",
    "            id_value = str('AS14.') + '0' + str(i)\n",
    "        else:\n",
    "            id_value = str('AS14.') +  str(i)\n",
    "        call_grouped = call_grouped.append({'id' : id_value,\n",
    "                    'time' : upd_date_value, 'variable' : 'call', 'value': 0.0} , \n",
    "                    ignore_index=True)\n",
    "call_grouped['time'] = pd.to_datetime(call_grouped.time)\n",
    "grouped_call = call_grouped.groupby('id').apply(lambda x: x.set_index('time').resample('1D').first())\n",
    "df_call = grouped_call.groupby(level=0)['value'].apply(lambda x: x.shift().rolling(min_periods=1,window=win).sum()).reset_index(name='Value_Average_Past_5_days')\n",
    "df_call['variable'] = 'call'\n",
    "df = pd.merge(left = df, right = df_call, how = 'left', left_on = ['id', 'time'], right_on = ['id', 'time'])\n",
    "df.rename(columns ={'Value_Average_Past_5_days': 'call', 'variable_x': 'variable'}, inplace=True)\n",
    "del df['variable_y']\n",
    "\n",
    "#Process for sms\n",
    "sms_df = df[df['variable'] == 'sms']\n",
    "del sms_df['mood']\n",
    "del sms_df['activity']\n",
    "del sms_df['screen']\n",
    "del sms_df['call']\n",
    "del sms_df['arousal']\n",
    "del sms_df['valence']\n",
    "del sms_df['period']\n",
    "sms_grouped = sms_df.groupby(['id', 'time', 'variable']).sum().reset_index()\n",
    "date_values = sms_grouped['time'].iloc[-1]\n",
    "for i in range (0,11):\n",
    "    upd_date_value = date_values + timedelta(i)\n",
    "    for i in range (1, 34):\n",
    "        if i <=9:\n",
    "            id_value = str('AS14.') + '0' + str(i)\n",
    "        else:\n",
    "            id_value = str('AS14.') +  str(i)\n",
    "        sms_grouped = sms_grouped.append({'id' : id_value,\n",
    "                    'time' : upd_date_value, 'variable' : 'sms', 'value': 0.0} , \n",
    "                    ignore_index=True)\n",
    "sms_grouped['time'] = pd.to_datetime(sms_grouped.time)\n",
    "grouped_sms = sms_grouped.groupby('id').apply(lambda x: x.set_index('time').resample('1D').first())\n",
    "df_sms = grouped_sms.groupby(level=0)['value'].apply(lambda x: x.shift().rolling(min_periods=1,window=win).sum()).reset_index(name='Value_Average_Past_5_days')\n",
    "df_sms['variable'] = 'sms'\n",
    "df = pd.merge(left = df, right = df_sms, how = 'left', left_on = ['id', 'time'], right_on = ['id', 'time'])\n",
    "df.rename(columns ={'Value_Average_Past_5_days': 'sms', 'variable_x': 'variable'}, inplace=True)\n",
    "del df['variable_y']\n",
    "\n",
    "# Process for #appcat\n",
    "appcat_df = df[df['variable'].str.contains(\"appCat\")]\n",
    "del appcat_df['mood']\n",
    "del appcat_df['activity']\n",
    "del appcat_df['screen']\n",
    "del appcat_df['call']\n",
    "del appcat_df['sms']\n",
    "del appcat_df['value']\n",
    "del appcat_df['arousal']\n",
    "del appcat_df['valence']\n",
    "del appcat_df['period']\n",
    "appcat_grouped = appcat_df.groupby(['id', 'time','variable']).count().reset_index()\n",
    "df_test = pd.DataFrame()\n",
    "df_test['count'] = appcat_grouped.groupby(['id', 'time'])['variable'].nunique()\n",
    "app_cat_fmt = pd.merge(left = appcat_grouped, right = df_test, how = 'left', left_on = ['id', 'time'], right_on = ['id', 'time'])\n",
    "app_cat_fmt.drop_duplicates(['id','time'],keep= 'first')\n",
    "date_values = app_cat_fmt['time'].iloc[-1]\n",
    "for i in range (0,11):\n",
    "    upd_date_value = date_values + timedelta(i)\n",
    "    for i in range (1, 34):\n",
    "        if i <=9:\n",
    "            id_value = str('AS14.') + '0' + str(i)\n",
    "        else:\n",
    "            id_value = str('AS14.') +  str(i)\n",
    "        app_cat_fmt = app_cat_fmt.append({'id' : id_value,\n",
    "                    'time' : upd_date_value, 'variable' : 'appCat', 'value': 0.0} , \n",
    "                    ignore_index=True)\n",
    "app_cat_fmt['time'] = pd.to_datetime(app_cat_fmt.time)\n",
    "grouped_appcat = app_cat_fmt.groupby('id').apply(lambda x: x.set_index('time').resample('1D').first())\n",
    "df_appcat = grouped_appcat.groupby(level=0)['count'].apply(lambda x: x.shift().rolling(min_periods=1,window=win).sum()).reset_index(name='Value_Average_Past_5_days')\n",
    "df_appcat['variable'] = 'appCat'\n",
    "df_appcat.rename(columns ={'Value_Average_Past_5_days': '#appcat'}, inplace=True)\n",
    "appCat_duration_df = df[df['variable'].str.contains(\"appCat\")]\n",
    "del appCat_duration_df['mood']\n",
    "del appCat_duration_df['activity']\n",
    "del appCat_duration_df['screen']\n",
    "del appCat_duration_df['call']\n",
    "del appCat_duration_df['sms']\n",
    "del appCat_duration_df['arousal']\n",
    "del appCat_duration_df['valence']\n",
    "del appCat_duration_df['period']\n",
    "\n",
    "#Process for appCat duration\n",
    "#appCat_duration_df['variable'] = appCat_duration_df['variable'].replace(['circumplex.valence'], 'circumplexvalence')\n",
    "#appCat_duration_df['variable'] = appCat_duration_df['variable'].replace(['circumplex.arousal'], 'circumplexarousal')\n",
    "appCat_duration_df['variable'] = appCat_duration_df['variable'].str.replace(r'[.].*', '')\n",
    "appCat_duration_grouped = appCat_duration_df.groupby(['id', 'time', 'variable']).mean().reset_index()\n",
    "date_values = appCat_duration_grouped['time'].iloc[-1]\n",
    "for i in range (0,11):\n",
    "    upd_date_value = date_values + timedelta(i)\n",
    "    for i in range (1, 34):\n",
    "        if i <=9:\n",
    "            id_value = str('AS14.') + '0' + str(i)\n",
    "        else:\n",
    "            id_value = str('AS14.') +  str(i)\n",
    "        appCat_duration_grouped = appCat_duration_grouped.append({'id' : id_value,\n",
    "                    'time' : upd_date_value, 'variable' : 'appCat', 'value': 0.0} , \n",
    "                    ignore_index=True)\n",
    "appCat_duration_grouped['time'] = pd.to_datetime(appCat_duration_grouped.time)\n",
    "grouped_appCat_duration = appCat_duration_grouped.groupby('id').apply(lambda x: x.set_index('time').resample('1D').first())\n",
    "df_appCat_duration = grouped_appCat_duration.groupby(level=0)['value'].apply(lambda x: x.shift().rolling(min_periods=1,window=win).mean()).reset_index(name='Value_Average_Past_5_days')\n",
    "df_appCat_duration.rename(columns ={'Value_Average_Past_5_days': 'appCat_duration', 'variable_x': 'variable'}, inplace=True)\n",
    "df_appCat_duration['variable'] = 'appCat'\n",
    "df['variable'] = df['variable'].str.rsplit('.', n=1).str.get(0)\n",
    "df = pd.merge(left = df, right = df_appcat, how = 'left', left_on = ['id', 'time'], right_on = ['id', 'time'])\n",
    "df.rename(columns ={'variable_x': 'variable'}, inplace=True)\n",
    "del df['variable_y']\n",
    "df = pd.merge(left = df, right = df_appCat_duration, how = 'left', left_on = ['id', 'time'], right_on = ['id', 'time'])\n",
    "df.rename(columns ={'variable_x': 'variable'}, inplace=True)\n",
    "del df['variable_y']\n",
    "test_df = df.copy()\n",
    "test_df = test_df.groupby(['id','period'],as_index=False).first()\n",
    "del test_df['variable']\n",
    "   # return test_df\n"
   ]
  },
  {
   "cell_type": "code",
   "execution_count": 12,
   "metadata": {},
   "outputs": [],
   "source": [
    "def calc_vif(X):\n",
    "\n",
    "    # Calculating VIF\n",
    "    vif = pd.DataFrame()\n",
    "    vif[\"variables\"] = X.columns\n",
    "    vif[\"VIF\"] = [variance_inflation_factor(X.values, i) for i in range(X.shape[1])]\n",
    "\n",
    "    return(vif)"
   ]
  },
  {
   "cell_type": "code",
   "execution_count": 13,
   "metadata": {},
   "outputs": [
    {
     "data": {
      "text/html": [
       "<div>\n",
       "<style scoped>\n",
       "    .dataframe tbody tr th:only-of-type {\n",
       "        vertical-align: middle;\n",
       "    }\n",
       "\n",
       "    .dataframe tbody tr th {\n",
       "        vertical-align: top;\n",
       "    }\n",
       "\n",
       "    .dataframe thead th {\n",
       "        text-align: right;\n",
       "    }\n",
       "</style>\n",
       "<table border=\"1\" class=\"dataframe\">\n",
       "  <thead>\n",
       "    <tr style=\"text-align: right;\">\n",
       "      <th></th>\n",
       "      <th>variables</th>\n",
       "      <th>VIF</th>\n",
       "    </tr>\n",
       "  </thead>\n",
       "  <tbody>\n",
       "    <tr>\n",
       "      <th>0</th>\n",
       "      <td>value</td>\n",
       "      <td>1.300838</td>\n",
       "    </tr>\n",
       "    <tr>\n",
       "      <th>1</th>\n",
       "      <td>activity</td>\n",
       "      <td>3.932604</td>\n",
       "    </tr>\n",
       "    <tr>\n",
       "      <th>2</th>\n",
       "      <td>arousal</td>\n",
       "      <td>1.181365</td>\n",
       "    </tr>\n",
       "    <tr>\n",
       "      <th>3</th>\n",
       "      <td>valence</td>\n",
       "      <td>4.938057</td>\n",
       "    </tr>\n",
       "    <tr>\n",
       "      <th>4</th>\n",
       "      <td>screen</td>\n",
       "      <td>3.732373</td>\n",
       "    </tr>\n",
       "    <tr>\n",
       "      <th>5</th>\n",
       "      <td>call</td>\n",
       "      <td>2.141090</td>\n",
       "    </tr>\n",
       "    <tr>\n",
       "      <th>6</th>\n",
       "      <td>sms</td>\n",
       "      <td>1.900595</td>\n",
       "    </tr>\n",
       "    <tr>\n",
       "      <th>7</th>\n",
       "      <td>#appcat</td>\n",
       "      <td>7.796863</td>\n",
       "    </tr>\n",
       "    <tr>\n",
       "      <th>8</th>\n",
       "      <td>appCat_duration</td>\n",
       "      <td>2.732857</td>\n",
       "    </tr>\n",
       "  </tbody>\n",
       "</table>\n",
       "</div>"
      ],
      "text/plain": [
       "         variables       VIF\n",
       "0            value  1.300838\n",
       "1         activity  3.932604\n",
       "2          arousal  1.181365\n",
       "3          valence  4.938057\n",
       "4           screen  3.732373\n",
       "5             call  2.141090\n",
       "6              sms  1.900595\n",
       "7          #appcat  7.796863\n",
       "8  appCat_duration  2.732857"
      ]
     },
     "execution_count": 13,
     "metadata": {},
     "output_type": "execute_result"
    }
   ],
   "source": [
    "# Multi collinearity test \n",
    "test_multi_collinearity = test_df.copy()\n",
    "del test_multi_collinearity['id']\n",
    "del test_multi_collinearity['mood']\n",
    "del test_multi_collinearity['time']\n",
    "del test_multi_collinearity['period']\n",
    "test_multi_collinearity.dropna(inplace=True)\n",
    "X = test_multi_collinearity.iloc[:,:]\n",
    "calc_vif(X)"
   ]
  },
  {
   "cell_type": "code",
   "execution_count": 14,
   "metadata": {},
   "outputs": [],
   "source": [
    "df = test_df.copy()"
   ]
  },
  {
   "cell_type": "code",
   "execution_count": 15,
   "metadata": {},
   "outputs": [],
   "source": [
    "from scipy.optimize import curve_fit\n",
    "userids = list(df.id.unique())\n",
    "scope = ['AS14.01', 'AS14.03']   # used person id's in the research\n",
    "#scope = userids"
   ]
  },
  {
   "cell_type": "code",
   "execution_count": null,
   "metadata": {},
   "outputs": [],
   "source": [
    "nan_cols = [i for i in df.columns if df[i].isnull().any()]"
   ]
  },
  {
   "cell_type": "code",
   "execution_count": null,
   "metadata": {},
   "outputs": [],
   "source": [
    "# extropolate - linear\n",
    "def func(x, a, b, c, d):\n",
    "    return a + b  + c * x + d"
   ]
  },
  {
   "cell_type": "code",
   "execution_count": null,
   "metadata": {},
   "outputs": [],
   "source": [
    "guess = (0.5, 0.5, 0.5, 0.5)"
   ]
  },
  {
   "cell_type": "code",
   "execution_count": null,
   "metadata": {},
   "outputs": [],
   "source": [
    "# Create copy of data to remove NaNs for curve fitting\n",
    "fit_df = df.dropna()\n",
    "# Place to store function parameters for each column\n",
    "col_params = {}"
   ]
  },
  {
   "cell_type": "code",
   "execution_count": null,
   "metadata": {},
   "outputs": [],
   "source": [
    "# Reg = used person id (just pointing 1 as a starter for later function)\n",
    "reg='AS14.01'"
   ]
  },
  {
   "cell_type": "code",
   "execution_count": null,
   "metadata": {},
   "outputs": [],
   "source": [
    "reg_fit_df = fit_df[fit_df['id']==reg]"
   ]
  },
  {
   "cell_type": "code",
   "execution_count": null,
   "metadata": {},
   "outputs": [],
   "source": [
    "# Curve fit each column\n",
    "for reg in scope: \n",
    "    reg_fit_df = fit_df[fit_df['id']==reg]\n",
    "    for col in nan_cols:  \n",
    "        # Get x & y\n",
    "        x = reg_fit_df.index.astype(float).values\n",
    "        y = reg_fit_df[col].values\n",
    "        # Curve fit column and get curve parameters\n",
    "        params = curve_fit(func, x, y, guess)\n",
    "        # Store optimized parameters\n",
    "        col_params[reg+col] = params[0]"
   ]
  },
  {
   "cell_type": "code",
   "execution_count": null,
   "metadata": {},
   "outputs": [],
   "source": [
    "# # Extrapolate each column\n",
    "for reg in scope:\n",
    "    for col in nan_cols:\n",
    "        # Get the index values for NaNs in the column\n",
    "        x = df[df['id']==reg][pd.isnull(df[col])].index.astype(float).values       \n",
    "        # Extrapolate those points with the fitted function\n",
    "        df[col][x] = func(x, *col_params[reg + col])"
   ]
  },
  {
   "cell_type": "code",
   "execution_count": null,
   "metadata": {},
   "outputs": [],
   "source": [
    "del df['period']\n",
    "df['time'] = pd.to_datetime(df['time'])\n",
    "df['time']=df['time'].map(dt.datetime.toordinal)"
   ]
  },
  {
   "cell_type": "code",
   "execution_count": null,
   "metadata": {},
   "outputs": [],
   "source": [
    "df.head()"
   ]
  },
  {
   "cell_type": "code",
   "execution_count": null,
   "metadata": {},
   "outputs": [],
   "source": [
    "# Select only rows corresponding to AS14.01 \n",
    "# TODO repeat each window for each user (so 01 & 03)\n",
    "AS14_df = df[df['id'] == useridnr]"
   ]
  },
  {
   "cell_type": "code",
   "execution_count": null,
   "metadata": {},
   "outputs": [],
   "source": [
    "AS14_df.sort_values('time',inplace=True)"
   ]
  },
  {
   "cell_type": "code",
   "execution_count": null,
   "metadata": {},
   "outputs": [],
   "source": [
    "#Split dataset into train, validation and test\n",
    "X = AS14_df.drop(['mood','id'],axis=1)\n",
    "Y = AS14_df['mood']\n",
    "x_train = X.iloc[0:49]\n",
    "y_train = Y.iloc[0:49]\n",
    "x_val = X.iloc[50:59]\n",
    "y_val = Y.iloc[50:59]\n",
    "x_test = X.iloc[60:72]\n",
    "y_test = Y.iloc[60:72]"
   ]
  },
  {
   "cell_type": "code",
   "execution_count": null,
   "metadata": {},
   "outputs": [],
   "source": [
    "#Decision Tree Regressor\n",
    "dr = DecisionTreeRegressor(random_state=300).fit(x_train,y_train)\n",
    "print(dr.score(x_train,y_train))\n",
    "print(mean_squared_error(y_train, dr.predict(x_train)))\n",
    "print(dr.score(x_val,y_val))\n",
    "print(mean_squared_error(y_val, dr.predict(x_val)))\n",
    "print(dr.score(x_test,y_test))\n",
    "print(mean_squared_error(y_test, dr.predict(x_test)))"
   ]
  },
  {
   "cell_type": "code",
   "execution_count": null,
   "metadata": {},
   "outputs": [],
   "source": [
    "#Random Forest Regressor\n",
    "rf = RandomForestRegressor(max_depth=100, random_state=10,n_estimators = 200).fit(x_train,y_train)\n",
    "print(rf.score(x_train,y_train))\n",
    "print(mean_squared_error(y_train, rf.predict(x_train)))\n",
    "print(rf.score(x_val,y_val))\n",
    "print(mean_squared_error(y_val, rf.predict(x_val)))\n",
    "print(rf.score(x_test,y_test))\n",
    "print(mean_squared_error(y_test, rf.predict(x_test)))"
   ]
  },
  {
   "cell_type": "code",
   "execution_count": null,
   "metadata": {},
   "outputs": [],
   "source": [
    "#Linear ridge regression\n",
    "reg = linear_model.Ridge(alpha=2.0)\n",
    "reg.fit(x_train,y_train)\n",
    "print(reg.score(x_train,y_train))\n",
    "print(mean_squared_error(y_train, reg.predict(x_train)))\n",
    "print(reg.score(x_val,y_val))\n",
    "print(mean_squared_error(y_val, reg.predict(x_val)))\n",
    "print(reg.score(x_test,y_test))\n",
    "print(mean_squared_error(y_test, reg.predict(x_test)))"
   ]
  },
  {
   "cell_type": "code",
   "execution_count": null,
   "metadata": {},
   "outputs": [],
   "source": [
    "# SVM Regressor\n",
    "regr = svm.SVR(kernel='rbf', C=100, gamma=0.5, epsilon=0.1)\n",
    "regr.fit(x_train, y_train)\n",
    "print(regr.score(x_train,y_train))\n",
    "print(mean_squared_error(y_train, regr.predict(x_train)))\n",
    "print(regr.score(x_val,y_val))\n",
    "print(mean_squared_error(y_val, regr.predict(x_val)))\n",
    "print(regr.score(x_test,y_test))\n",
    "print(mean_squared_error(y_test, regr.predict(x_test)))"
   ]
  },
  {
   "cell_type": "code",
   "execution_count": null,
   "metadata": {},
   "outputs": [],
   "source": [
    "#Linear Regression\n",
    "lr = LinearRegression()\n",
    "lr.fit(x_train,y_train)\n",
    "print(lr.score(x_train,y_train))\n",
    "print(mean_squared_error(y_train, lr.predict(x_train)))\n",
    "print(lr.score(x_val,y_val))\n",
    "print(mean_squared_error(y_val, lr.predict(x_val)))\n",
    "print(lr.score(x_test,y_test))\n",
    "print(mean_squared_error(y_test, lr.predict(x_test)))"
   ]
  },
  {
   "cell_type": "code",
   "execution_count": null,
   "metadata": {},
   "outputs": [],
   "source": [
    "importance = dr.feature_importances_\n",
    "plt.subplot(2,2,1)\n",
    "plt.bar([x for x in range(len(importance))], importance)\n",
    "plt.xlabel('Features')\n",
    "plt.ylabel('Feature Importance')\n",
    "plt.title(useridnr+ ': Feature importance for Decision tree model with '+windownr+' past days of data')\n",
    "importance = rf.feature_importances_\n",
    "plt.subplot(2,2,2)\n",
    "plt.bar([x for x in range(len(importance))], importance)\n",
    "plt.xlabel('Features')\n",
    "plt.ylabel('Feature Importance')\n",
    "plt.title(useridnr+ ': Feature importance for Random forest model with '+windownr+' past days of data')\n",
    "importance = lr.coef_\n",
    "plt.subplot(2,2,3)\n",
    "plt.bar([x for x in range(len(importance))], importance)\n",
    "plt.xlabel('Features')\n",
    "plt.ylabel('Feature Importance')\n",
    "plt.title(useridnr+ ': Feature importance for Linear regression model with '+windownr+' past days of data')\n",
    "plt.savefig(useridnr+ '_'+windownr+'_feature_importance.pdf')"
   ]
  },
  {
   "cell_type": "code",
   "execution_count": null,
   "metadata": {},
   "outputs": [],
   "source": [
    "#Mean Model\n",
    "\n",
    "def determine_mean_mood(date_values):\n",
    "    previous_date = date_values - timedelta(1)\n",
    "#    print('current_date',date_values)\n",
    "#    print('previous-date', previous_date)\n",
    "    #print(combined_df.loc[combined_df['time'] == previous_date, 'original_mood'])\n",
    "    return combined_df.loc[combined_df['time'] == previous_date, 'original_mood']\n",
    "    #return combined_df.query('time==3')['A']"
   ]
  },
  {
   "cell_type": "code",
   "execution_count": null,
   "metadata": {},
   "outputs": [],
   "source": [
    "def append_predict_values(model_name, model_code, combined_df):\n",
    "    Y_df_train = pd.DataFrame()\n",
    "    Y_df_val = pd.DataFrame()\n",
    "    Y_df_test = pd.DataFrame()\n",
    "    Y_df = pd.DataFrame()\n",
    "    Y_df_train[model_name] = model_code.predict(x_train)\n",
    "    Y_df_val[model_name] = model_code.predict(x_val)\n",
    "    Y_df_test[model_name] = model_code.predict(x_test)\n",
    "    Y_df = pd.concat((Y_df_train, Y_df_val, Y_df_test))\n",
    "    combined_df = combined_df.reset_index(drop=True)\n",
    "    Y_df = Y_df.reset_index(drop=True)\n",
    "    combined_df[model_name] = Y_df[model_name]\n",
    "    return combined_df"
   ]
  },
  {
   "cell_type": "code",
   "execution_count": null,
   "metadata": {},
   "outputs": [],
   "source": [
    "# consolidate results\n",
    "combined_x_df = pd.concat((x_train, x_val, x_test))\n",
    "combined_y_df = pd.concat((y_train, y_val, y_test))\n",
    "combined_df = pd.concat((combined_x_df,combined_y_df),axis=1)\n",
    "combined_df['id'] = useridnr\n",
    "combined_df.rename(columns ={'mood': 'original_mood'}, inplace=True)\n",
    "combined_df = append_predict_values('linear_model',lr,combined_df)\n",
    "combined_df = append_predict_values('random_forest',rf,combined_df)\n",
    "combined_df = append_predict_values('decision_tree',dr,combined_df)\n",
    "combined_df = append_predict_values('svm',regr,combined_df)\n",
    "combined_df.sort_values('time',inplace=True)\n",
    "combined_df['time'] = combined_df['time'].apply(dt.datetime.fromordinal)"
   ]
  },
  {
   "cell_type": "code",
   "execution_count": null,
   "metadata": {},
   "outputs": [],
   "source": [
    "run_diffs_apply = combined_df.apply(\n",
    "         lambda row: determine_mean_mood(row['time']),\n",
    "         axis=1)\n",
    "#print(run_diffs_apply)\n",
    "run = pd.DataFrame(run_diffs_apply)\n",
    "run['team_token'] = 'a'\n",
    "run_fmt = run.groupby('team_token').max().reset_index()\n",
    "del run_fmt['team_token']\n",
    "run_transpose = run_fmt.T\n",
    "#line = pd.DataFrame({0: 0}, index=[0])\n",
    "#df2 = pd.concat([line,run_transpose.ix[:]]).reset_index(drop=True)\n",
    "#df3 = df2.shift()\n",
    "df2 = run_transpose.shift()\n",
    "combined_df['benchmark'] = 0\n",
    "combined_df['benchmark'] = df2\n",
    "final_mood = combined_df.iloc[[-2]]['original_mood'].values\n",
    "combined_df.benchmark.iloc[[-1]]= final_mood[0]"
   ]
  },
  {
   "cell_type": "code",
   "execution_count": null,
   "metadata": {},
   "outputs": [],
   "source": [
    "def plot_graphs(combined_df,model_name,res_sum):\n",
    "    indexed_combined_df = combined_df.set_index(['time'])\n",
    "    #del indexed_combined_df['id']\n",
    "    #variables_to_remove = ['value','activity','screen','call','sms','#appcat','appCat_duration','id']\n",
    "    indexed_combined_df_lr = indexed_combined_df[['original_mood', model_name]]\n",
    "    import matplotlib.pyplot as plt\n",
    "    from matplotlib.pylab import rcParams\n",
    "    rcParams['figure.figsize'] = 20,15\n",
    "    plt.plot(indexed_combined_df_lr)\n",
    "    plt.legend(['original_mood',model_name],loc='upper left')\n",
    "    plt.title('RSS: %4f'%res_sum)\n",
    "    plt.show()"
   ]
  },
  {
   "cell_type": "code",
   "execution_count": null,
   "metadata": {},
   "outputs": [],
   "source": [
    "#ARIMA Model\n",
    "x_train['time'] = x_train['time'].apply(dt.datetime.fromordinal)\n",
    "combined_train_df = pd.concat((x_train,y_train), axis=1)\n",
    "indexed_x_train_df = combined_train_df.set_index(['time'])\n",
    "variables_to_remove = ['value','activity','screen','call','sms','#appcat','appCat_duration', 'valence', 'arousal']\n",
    "indexed_x_train_df.drop(variables_to_remove,axis=1,inplace=True)\n",
    "rolmean = indexed_x_train_df.rolling(window=2).mean()\n",
    "rolstd = indexed_x_train_df.rolling(window=2).std()\n",
    "#print(rolmean, rolstd)"
   ]
  },
  {
   "cell_type": "code",
   "execution_count": null,
   "metadata": {},
   "outputs": [],
   "source": [
    "orig = plt.plot(indexed_x_train_df,color='blue',label='Original')\n",
    "mean = plt.plot(rolmean, color='red', label='Rolling Mean')\n",
    "std = plt.plot(rolstd, color='black', label='Rolling Standard deviation')\n",
    "plt.legend(loc='best')\n",
    "plt.title('Rolling Mean & Standard Deviation')\n",
    "plt.show(block=False)"
   ]
  },
  {
   "cell_type": "code",
   "execution_count": null,
   "metadata": {},
   "outputs": [],
   "source": [
    "#Dicky Fullerer test\n",
    "#H0: Non-stationary\n",
    "#H1: Stationary\n",
    "dftest = adfuller(indexed_x_train_df['mood'], autolag = 'AIC')\n",
    "dfoutput = pd.Series(dftest[0:4], index=['Test Statistic', 'p-value', '#Lags used', '#of observations used'])\n",
    "for key, value in dftest[4].items():\n",
    "    dfoutput['Critical Value (%s)'%key] = value\n",
    "\n",
    "print(dfoutput)"
   ]
  },
  {
   "cell_type": "code",
   "execution_count": null,
   "metadata": {},
   "outputs": [],
   "source": [
    "x_train_shift = indexed_x_train_df - indexed_x_train_df.shift()\n",
    "plt.plot(x_train_shift)\n",
    "x_train_shift.dropna(inplace=True)"
   ]
  },
  {
   "cell_type": "code",
   "execution_count": null,
   "metadata": {},
   "outputs": [],
   "source": [
    "orig = plt.plot(x_train_shift, color='blue', label='Original')\n",
    "mean = plt.plot(rolmean, color='red', label='Rolling Mean')\n",
    "std = plt.plot(rolstd, color='black', label='Rolling Std')\n",
    "plt.legend(loc='best')\n",
    "plt.title('Rolling Mean & Standard Deviation')\n",
    "plt.show(block=False)"
   ]
  },
  {
   "cell_type": "code",
   "execution_count": null,
   "metadata": {},
   "outputs": [],
   "source": [
    "dftest = adfuller(x_train_shift['mood'], autolag = 'AIC')\n",
    "dfoutput = pd.Series(dftest[0:4], index=['Test Statistic', 'p-value', '#Lags used', '#of observations used'])\n",
    "for key, value in dftest[4].items():\n",
    "    dfoutput['Critical Value (%s)'%key] = value\n",
    "\n",
    "print(dfoutput)"
   ]
  },
  {
   "cell_type": "code",
   "execution_count": null,
   "metadata": {},
   "outputs": [],
   "source": [
    "#ACF and PACF plots:\n",
    "\n",
    "lag_acf = acf(x_train_shift, nlags=20)\n",
    "lag_pacf = pacf(x_train_shift, nlags=20, method = 'ols')\n",
    "\n",
    "#Plot ACF:\n",
    "\n",
    "plt.subplot(121)\n",
    "plt.plot(lag_acf)\n",
    "plt.axhline(y=0, linestyle='--', color='gray')\n",
    "plt.axhline(y=-1.96/np.sqrt(len(x_train_shift)), linestyle='--', color='gray')\n",
    "plt.axhline(y=1.96/np.sqrt(len(x_train_shift)), linestyle='--', color='gray')\n",
    "plt.title('Autocorrelation Function')\n",
    "\n",
    "#Plot PACF:\n",
    "\n",
    "\n",
    "plt.subplot(122)\n",
    "plt.plot(lag_pacf)\n",
    "plt.axhline(y=0, linestyle='--', color='gray')\n",
    "plt.axhline(y=-1.96/np.sqrt(len(x_train_shift)), linestyle='--', color='gray')\n",
    "plt.axhline(y=1.96/np.sqrt(len(x_train_shift)), linestyle='--', color='gray')\n",
    "plt.title('Partial Autocorrelation Function')\n",
    "plt.tight_layout()"
   ]
  },
  {
   "cell_type": "code",
   "execution_count": null,
   "metadata": {},
   "outputs": [],
   "source": [
    "#AR model \n",
    "# TODO: fit 01 best order 3,1,3\n",
    "# TODO: fit 03 best order 10,1,10\n",
    "\n",
    "model = ARIMA(indexed_x_train_df, order=(customorder))\n",
    "results_AR = model.fit(disp=-1)\n",
    "plt.plot(x_train_shift)\n",
    "plt.plot(results_AR.fittedvalues, color='red')\n",
    "plt.title('RSS: %.4f'% sum((results_AR.fittedvalues-x_train_shift['mood'])**2))\n",
    "print('plotting AR model')"
   ]
  },
  {
   "cell_type": "code",
   "execution_count": null,
   "metadata": {},
   "outputs": [],
   "source": [
    "#MA model\n",
    "# TODO: fit 01 best order 3,1,3\n",
    "# TODO: fit 03 best order 10,1,10\n",
    "\n",
    "model = ARIMA(indexed_x_train_df, order=(3,1,3))\n",
    "results_MA = model.fit(disp=-1)\n",
    "plt.plot(x_train_shift)\n",
    "plt.plot(results_AR.fittedvalues, color='red')\n",
    "plt.title('RSS: %.4f'% sum((results_MA.fittedvalues-x_train_shift['mood'])**2))\n",
    "print('plotting MA model')"
   ]
  },
  {
   "cell_type": "code",
   "execution_count": null,
   "metadata": {},
   "outputs": [],
   "source": [
    "# TODO: fit 01 best order 3,1,3\n",
    "# TODO: fit 03 best order 10,1,10\n",
    "\n",
    "model = ARIMA(indexed_x_train_df, order=(3,1,3))\n",
    "results_ARIMA = model.fit(disp=-1)\n",
    "plt.plot(x_train_shift)\n",
    "plt.plot(results_ARIMA.fittedvalues, color='red')\n",
    "plt.title('RSS: %.4f'% sum((results_ARIMA.fittedvalues-x_train_shift['mood'])**2))\n",
    "print('plotting ARIMA model')"
   ]
  },
  {
   "cell_type": "code",
   "execution_count": null,
   "metadata": {},
   "outputs": [],
   "source": [
    "predictions_ARIMA_diff = pd.Series(results_ARIMA.fittedvalues, copy=True)\n",
    "print(predictions_ARIMA_diff.head())"
   ]
  },
  {
   "cell_type": "code",
   "execution_count": null,
   "metadata": {},
   "outputs": [],
   "source": [
    "predictions_ARIMA_diff_cumsum = predictions_ARIMA_diff.cumsum()\n",
    "print(predictions_ARIMA_diff_cumsum.head())"
   ]
  },
  {
   "cell_type": "code",
   "execution_count": null,
   "metadata": {},
   "outputs": [],
   "source": [
    "predictions_ARIMA_fmt = pd.Series(indexed_x_train_df['mood'].iloc[0], index = indexed_x_train_df.index)\n",
    "predictions_ARIMA_fmt = predictions_ARIMA_fmt.add(predictions_ARIMA_diff_cumsum, fill_value=0)\n",
    "predictions_ARIMA_fmt.head()"
   ]
  },
  {
   "cell_type": "code",
   "execution_count": null,
   "metadata": {},
   "outputs": [],
   "source": [
    "plt.plot(indexed_x_train_df,color='orange')\n",
    "plt.plot(predictions_ARIMA_fmt,color='blue')"
   ]
  },
  {
   "cell_type": "code",
   "execution_count": null,
   "metadata": {},
   "outputs": [],
   "source": [
    "res= results_ARIMA.forecast(steps=21)"
   ]
  },
  {
   "cell_type": "code",
   "execution_count": null,
   "metadata": {},
   "outputs": [],
   "source": [
    "combined_val_test = pd.concat((x_val,x_test),axis=0)\n",
    "combined_val_test['time'] = combined_val_test['time'].apply(dt.datetime.fromordinal)\n",
    "\n",
    "indexed_x_test_df = combined_val_test.set_index(['time'])"
   ]
  },
  {
   "cell_type": "code",
   "execution_count": null,
   "metadata": {},
   "outputs": [],
   "source": [
    "variables_to_remove = ['value','activity','screen','call','sms','#appcat','appCat_duration']\n",
    "indexed_x_test_df.drop(variables_to_remove,axis=1,inplace=True)"
   ]
  },
  {
   "cell_type": "code",
   "execution_count": null,
   "metadata": {},
   "outputs": [],
   "source": [
    "predictions_ARIMA_test = pd.Series(index = indexed_x_test_df.index)\n",
    "predictions_ARIMA_test = predictions_ARIMA_test.add(res[0], fill_value=0)"
   ]
  },
  {
   "cell_type": "code",
   "execution_count": null,
   "metadata": {},
   "outputs": [],
   "source": [
    "ARIMA_predictions = pd.concat((predictions_ARIMA_fmt,predictions_ARIMA_test),axis=0)\n",
    "ARIMA_predictions_fmt = pd.DataFrame(ARIMA_predictions, columns = ['arima'])"
   ]
  },
  {
   "cell_type": "code",
   "execution_count": null,
   "metadata": {},
   "outputs": [],
   "source": [
    "combined_df_test = combined_df.copy()"
   ]
  },
  {
   "cell_type": "code",
   "execution_count": null,
   "metadata": {},
   "outputs": [],
   "source": [
    "indexed_combined_df_results = combined_df_test.set_index(['time'])"
   ]
  },
  {
   "cell_type": "code",
   "execution_count": null,
   "metadata": {},
   "outputs": [],
   "source": [
    "indexed_combined_df_results = indexed_combined_df_results.merge(ARIMA_predictions_fmt['arima'].to_frame(), how='left',left_index=True, right_index=True)"
   ]
  },
  {
   "cell_type": "code",
   "execution_count": null,
   "metadata": {},
   "outputs": [],
   "source": [
    "def plot_graphs(combined_df,model_name,res_sum,row,cols,num):\n",
    "    indexed_combined_df = combined_df.set_index(['time'])\n",
    "    #del indexed_combined_df['id']\n",
    "    #variables_to_remove = ['value','activity','screen','call','sms','#appcat','appCat_duration','id']\n",
    "    indexed_combined_df_lr = indexed_combined_df[['original_mood', model_name]]\n",
    "    import matplotlib.pyplot as plt\n",
    "    import matplotlib.patches as patches\n",
    "    from matplotlib.pylab import rcParams\n",
    "    rcParams['figure.figsize'] = 20,15\n",
    "    plt.subplot(row,cols,num)\n",
    "    plt.plot(indexed_combined_df_lr)\n",
    "    plt.legend(['original_mood',model_name],loc='upper left')\n",
    "    plt.title('MSE: %4f'%res_sum)\n",
    "    plt.show()"
   ]
  },
  {
   "cell_type": "code",
   "execution_count": null,
   "metadata": {},
   "outputs": [],
   "source": [
    "def plot_arima_graphs(indexed_combined_df_results, model_name ,res_sum,row,cols,num):\n",
    "    indexed_combined_df_lr = indexed_combined_df_results[['original_mood', model_name]]\n",
    "    import matplotlib.pyplot as plt\n",
    "    from matplotlib.pylab import rcParams\n",
    "    rcParams['figure.figsize'] = 20,15\n",
    "    import matplotlib.patches as patches\n",
    "    plt.subplot(row,cols,num)\n",
    "    plt.plot(indexed_combined_df_lr.shift())\n",
    "    plt.legend(['original_mood',model_name],loc='upper left')\n",
    "    plt.title('MSE: %4f'%res_sum)\n",
    "    plt.show()"
   ]
  },
  {
   "cell_type": "code",
   "execution_count": null,
   "metadata": {
    "scrolled": false
   },
   "outputs": [],
   "source": [
    "#Plot linear regression plot\n",
    "res_sum = ((lr.predict(x_test) - y_test) ** 2).sum()\n",
    "indexed_combined_df = combined_df.set_index(['time'])\n",
    "indexed_combined_df_lr = indexed_combined_df[['original_mood', 'linear_model']]\n",
    "plt.subplot(2,3,1)\n",
    "plt.subplots_adjust(bottom = -0.1) \n",
    "plt.plot(indexed_combined_df_lr)\n",
    "plt.legend(['original_mood','linear_model'],loc='upper left')\n",
    "plt.xticks(rotation='vertical')\n",
    "plt.title(useridnr+ ':Linear Regression Model,Past Days='+windownr+' , MSE: %4f'%res_sum)\n",
    "\n",
    "res_sum = ((rf.predict(x_test) - y_test) ** 2).sum()\n",
    "indexed_combined_df = combined_df.set_index(['time'])\n",
    "indexed_combined_df_lr = indexed_combined_df[['original_mood', 'random_forest']]\n",
    "plt.subplot(2,3,2)\n",
    "plt.plot(indexed_combined_df_lr)\n",
    "plt.legend(['original_mood','random_forest'],loc='upper left')\n",
    "plt.xticks(rotation='vertical')\n",
    "plt.title(useridnr+ ':Random Forest Model, Past Days ='+ windownr +', MSE: %4f'%res_sum)\n",
    "\n",
    "\n",
    "res_sum = ((dr.predict(x_test) - y_test) ** 2).sum()\n",
    "indexed_combined_df = combined_df.set_index(['time'])\n",
    "indexed_combined_df_lr = indexed_combined_df[['original_mood', 'decision_tree']]\n",
    "plt.subplot(2,3,3)\n",
    "plt.plot(indexed_combined_df_lr)\n",
    "plt.legend(['original_mood','decision_tree'],loc='upper left')\n",
    "plt.xticks(rotation='vertical')\n",
    "plt.title(useridnr+ ':Decision Tree Model, Past Days ='+ windownr +', MSE: %4f'%res_sum)\n",
    "\n",
    "res_sum = ((regr.predict(x_test) - y_test) ** 2).sum()\n",
    "indexed_combined_df = combined_df.set_index(['time'])\n",
    "indexed_combined_df_lr = indexed_combined_df[['original_mood', 'svm']]\n",
    "plt.subplot(2,3,4)\n",
    "plt.plot(indexed_combined_df_lr)\n",
    "plt.legend(['original_mood','svm'],loc='upper left')\n",
    "plt.xticks(rotation='vertical')\n",
    "plt.title(useridnr+ ':SVM Model, Past Days ='+ windownr +', MSE: %4f'%res_sum)\n",
    "\n",
    "res_sum = ((results_ARIMA.fittedvalues-x_train_shift['mood'])**2).sum()\n",
    "indexed_combined_df_lr = indexed_combined_df_results[['original_mood', 'arima']]\n",
    "plt.subplot(2,3,5)\n",
    "plt.plot(indexed_combined_df_lr.shift())\n",
    "plt.legend(['original_mood','arima'],loc='upper left')\n",
    "plt.xticks(rotation='vertical')\n",
    "plt.title(useridnr+ ':Arima Model, Past Days ='+ windownr +', MSE: %4f'%res_sum)\n",
    "\n",
    "res_sum = ((indexed_combined_df_results['benchmark'][60:72] - indexed_combined_df_results['original_mood'][60:72]) ** 2).sum()\n",
    "#res_sum = ((results_ARIMA.fittedvalues-x_train_shift['mood'])**2).sum()\n",
    "indexed_combined_df_lr = indexed_combined_df_results[['original_mood', 'benchmark']]\n",
    "plt.subplot(2,3,6)\n",
    "plt.plot(indexed_combined_df_lr.shift())\n",
    "plt.legend(['original_mood','benchmark'],loc='upper left')\n",
    "plt.xticks(rotation='vertical')\n",
    "plt.title(useridnr+ ':Benchmark Model, Past Days ='+ windownr +', MSE: %4f'%res_sum)\n",
    "#plt.show()\n",
    "plt.savefig(useridnr+'_'+ windownr +'.pdf', bbox_inches='tight')"
   ]
  },
  {
   "cell_type": "code",
   "execution_count": null,
   "metadata": {},
   "outputs": [],
   "source": []
  },
  {
   "cell_type": "code",
   "execution_count": null,
   "metadata": {},
   "outputs": [],
   "source": []
  },
  {
   "cell_type": "code",
   "execution_count": null,
   "metadata": {},
   "outputs": [],
   "source": []
  },
  {
   "cell_type": "code",
   "execution_count": null,
   "metadata": {},
   "outputs": [],
   "source": []
  },
  {
   "cell_type": "code",
   "execution_count": null,
   "metadata": {},
   "outputs": [],
   "source": []
  },
  {
   "cell_type": "code",
   "execution_count": null,
   "metadata": {},
   "outputs": [],
   "source": []
  },
  {
   "cell_type": "code",
   "execution_count": null,
   "metadata": {},
   "outputs": [],
   "source": []
  },
  {
   "cell_type": "code",
   "execution_count": null,
   "metadata": {},
   "outputs": [],
   "source": []
  },
  {
   "cell_type": "code",
   "execution_count": null,
   "metadata": {},
   "outputs": [],
   "source": []
  },
  {
   "cell_type": "code",
   "execution_count": null,
   "metadata": {},
   "outputs": [],
   "source": []
  },
  {
   "cell_type": "code",
   "execution_count": null,
   "metadata": {},
   "outputs": [],
   "source": []
  },
  {
   "cell_type": "code",
   "execution_count": null,
   "metadata": {},
   "outputs": [],
   "source": []
  },
  {
   "cell_type": "code",
   "execution_count": null,
   "metadata": {},
   "outputs": [],
   "source": []
  },
  {
   "cell_type": "code",
   "execution_count": null,
   "metadata": {},
   "outputs": [],
   "source": []
  },
  {
   "cell_type": "code",
   "execution_count": null,
   "metadata": {},
   "outputs": [],
   "source": []
  },
  {
   "cell_type": "code",
   "execution_count": null,
   "metadata": {},
   "outputs": [],
   "source": []
  }
 ],
 "metadata": {
  "kernelspec": {
   "display_name": "Python 3",
   "language": "python",
   "name": "python3"
  },
  "language_info": {
   "codemirror_mode": {
    "name": "ipython",
    "version": 3
   },
   "file_extension": ".py",
   "mimetype": "text/x-python",
   "name": "python",
   "nbconvert_exporter": "python",
   "pygments_lexer": "ipython3",
   "version": "3.8.5"
  }
 },
 "nbformat": 4,
 "nbformat_minor": 2
}
