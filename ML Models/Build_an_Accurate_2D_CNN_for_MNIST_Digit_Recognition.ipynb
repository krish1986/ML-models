{
  "nbformat": 4,
  "nbformat_minor": 0,
  "metadata": {
    "colab": {
      "name": "Build an Accurate 2D CNN for MNIST Digit Recognition.ipynb",
      "provenance": [],
      "collapsed_sections": []
    },
    "kernelspec": {
      "name": "python3",
      "display_name": "Python 3"
    },
    "language_info": {
      "name": "python"
    },
    "accelerator": "TPU"
  },
  "cells": [
    {
      "cell_type": "code",
      "metadata": {
        "id": "lF4jB27D-nC8"
      },
      "source": [
        "import numpy as np\n",
        "import pandas as pd\n",
        "import matplotlib.pyplot as plt"
      ],
      "execution_count": 1,
      "outputs": []
    },
    {
      "cell_type": "code",
      "metadata": {
        "id": "QQ-AOrrjD6qb"
      },
      "source": [
        "from tensorflow.keras import Sequential\n",
        "from tensorflow.keras.layers import Conv2D, MaxPool2D, Dense, Flatten, Dropout\n",
        "import tensorflow as tf"
      ],
      "execution_count": 3,
      "outputs": []
    },
    {
      "cell_type": "code",
      "metadata": {
        "id": "pBZ7pUStEN3j"
      },
      "source": [
        "from tensorflow.keras.datasets import mnist"
      ],
      "execution_count": 4,
      "outputs": []
    },
    {
      "cell_type": "code",
      "metadata": {
        "colab": {
          "base_uri": "https://localhost:8080/"
        },
        "id": "94dG-3u-Ea3m",
        "outputId": "1608d91d-ed43-4c6c-9540-9ff4cdc48b56"
      },
      "source": [
        "(x_train,y_train),(x_test,y_test) = mnist.load_data()"
      ],
      "execution_count": 5,
      "outputs": [
        {
          "output_type": "stream",
          "text": [
            "Downloading data from https://storage.googleapis.com/tensorflow/tf-keras-datasets/mnist.npz\n",
            "11493376/11490434 [==============================] - 0s 0us/step\n"
          ],
          "name": "stdout"
        }
      ]
    },
    {
      "cell_type": "code",
      "metadata": {
        "colab": {
          "base_uri": "https://localhost:8080/",
          "height": 283
        },
        "id": "UwdvQGqAEi-I",
        "outputId": "2c6e0506-36f7-471d-fad7-dad78f4f52c9"
      },
      "source": [
        "plt.imshow(x_train[0])"
      ],
      "execution_count": 8,
      "outputs": [
        {
          "output_type": "execute_result",
          "data": {
            "text/plain": [
              "<matplotlib.image.AxesImage at 0x7f094e93ca50>"
            ]
          },
          "metadata": {
            "tags": []
          },
          "execution_count": 8
        },
        {
          "output_type": "display_data",
          "data": {
            "image/png": "[encoded data removed]",
            "text/plain": [
              "<Figure size 432x288 with 1 Axes>"
            ]
          },
          "metadata": {
            "tags": [],
            "needs_background": "light"
          }
        }
      ]
    },
    {
      "cell_type": "code",
      "metadata": {
        "colab": {
          "base_uri": "https://localhost:8080/"
        },
        "id": "FLuhxAIOElkf",
        "outputId": "5e5807c9-825b-4ed4-ce62-2b831956c02d"
      },
      "source": [
        "x_train.shape"
      ],
      "execution_count": 10,
      "outputs": [
        {
          "output_type": "execute_result",
          "data": {
            "text/plain": [
              "(60000, 28, 28)"
            ]
          },
          "metadata": {
            "tags": []
          },
          "execution_count": 10
        }
      ]
    },
    {
      "cell_type": "code",
      "metadata": {
        "colab": {
          "base_uri": "https://localhost:8080/"
        },
        "id": "blijRCuiE3Sh",
        "outputId": "d889a0ef-728f-420b-c59e-1ee20b12d14c"
      },
      "source": [
        "x_test.shape"
      ],
      "execution_count": 11,
      "outputs": [
        {
          "output_type": "execute_result",
          "data": {
            "text/plain": [
              "(10000, 28, 28)"
            ]
          },
          "metadata": {
            "tags": []
          },
          "execution_count": 11
        }
      ]
    },
    {
      "cell_type": "code",
      "metadata": {
        "id": "-jUEf84wHRJu"
      },
      "source": [
        "x_train = x_train/255.0 # .0 is required as other values only 1 and 0 will be stored.\n",
        "x_test = x_test/255.0"
      ],
      "execution_count": 12,
      "outputs": []
    },
    {
      "cell_type": "code",
      "metadata": {
        "id": "qBbi8szvHrac"
      },
      "source": [
        "x_train = x_train.reshape(60000,28,28,1) #as CNN expects 3 dimensional input\n",
        "x_test = x_test.reshape(10000,28,28,1)"
      ],
      "execution_count": 13,
      "outputs": []
    },
    {
      "cell_type": "code",
      "metadata": {
        "id": "E9S96zZ8Hnd_"
      },
      "source": [
        "model = Sequential()\n",
        "model.add(Conv2D(filters=32,kernel_size=(3,3),activation='relu',input_shape=(28,28,1)))\n",
        "model.add(Conv2D(filters=64,kernel_size=(3,3), activation='relu'))\n",
        "model.add(MaxPool2D(pool_size=(2,2)))\n",
        "model.add(Dropout(0.25))\n",
        "model.add(Flatten())\n",
        "model.add(Dense(units=128,activation='relu'))\n",
        "model.add(Dropout(0.5))\n",
        "model.add(Dense(units=10,activation='softmax'))\n"
      ],
      "execution_count": 18,
      "outputs": []
    },
    {
      "cell_type": "code",
      "metadata": {
        "id": "pLyP08dwJvW2"
      },
      "source": [
        "model.compile(optimizer='adam',loss='sparse_categorical_crossentropy',metrics=['accuracy'])"
      ],
      "execution_count": 19,
      "outputs": []
    },
    {
      "cell_type": "code",
      "metadata": {
        "colab": {
          "base_uri": "https://localhost:8080/"
        },
        "id": "RKzMosuZKHmZ",
        "outputId": "030f2a90-b1a5-4c43-bc00-16843c0a1735"
      },
      "source": [
        "history = model.fit(x_train,y_train,batch_size=128,verbose=1,validation_data=(x_test, y_test),epochs=10)"
      ],
      "execution_count": 21,
      "outputs": [
        {
          "output_type": "stream",
          "text": [
            "Epoch 1/10\n",
            "469/469 [==============================] - 150s 317ms/step - loss: 0.2351 - accuracy: 0.9283 - val_loss: 0.0588 - val_accuracy: 0.9798\n",
            "Epoch 2/10\n",
            "469/469 [==============================] - 148s 315ms/step - loss: 0.0854 - accuracy: 0.9747 - val_loss: 0.0382 - val_accuracy: 0.9877\n",
            "Epoch 3/10\n",
            "469/469 [==============================] - 149s 317ms/step - loss: 0.0635 - accuracy: 0.9805 - val_loss: 0.0348 - val_accuracy: 0.9881\n",
            "Epoch 4/10\n",
            "469/469 [==============================] - 148s 316ms/step - loss: 0.0530 - accuracy: 0.9837 - val_loss: 0.0364 - val_accuracy: 0.9885\n",
            "Epoch 5/10\n",
            "469/469 [==============================] - 148s 315ms/step - loss: 0.0460 - accuracy: 0.9857 - val_loss: 0.0301 - val_accuracy: 0.9896\n",
            "Epoch 6/10\n",
            "469/469 [==============================] - 147s 314ms/step - loss: 0.0380 - accuracy: 0.9883 - val_loss: 0.0288 - val_accuracy: 0.9911\n",
            "Epoch 7/10\n",
            "469/469 [==============================] - 147s 314ms/step - loss: 0.0349 - accuracy: 0.9893 - val_loss: 0.0307 - val_accuracy: 0.9906\n",
            "Epoch 8/10\n",
            "469/469 [==============================] - 147s 313ms/step - loss: 0.0293 - accuracy: 0.9912 - val_loss: 0.0280 - val_accuracy: 0.9911\n",
            "Epoch 9/10\n",
            "469/469 [==============================] - 147s 313ms/step - loss: 0.0273 - accuracy: 0.9911 - val_loss: 0.0301 - val_accuracy: 0.9914\n",
            "Epoch 10/10\n",
            "469/469 [==============================] - 147s 314ms/step - loss: 0.0257 - accuracy: 0.9916 - val_loss: 0.0303 - val_accuracy: 0.9918\n"
          ],
          "name": "stdout"
        }
      ]
    },
    {
      "cell_type": "code",
      "metadata": {
        "colab": {
          "base_uri": "https://localhost:8080/"
        },
        "id": "CC-9oB-IKHpM",
        "outputId": "e8bf3550-d6eb-44ee-edea-d850bdead5b6"
      },
      "source": [
        "history.history"
      ],
      "execution_count": 22,
      "outputs": [
        {
          "output_type": "execute_result",
          "data": {
            "text/plain": [
              "{'accuracy': [0.9283000230789185,\n",
              "  0.9746999740600586,\n",
              "  0.9805333614349365,\n",
              "  0.9836999773979187,\n",
              "  0.9857333302497864,\n",
              "  0.98826664686203,\n",
              "  0.9892666935920715,\n",
              "  0.9912333488464355,\n",
              "  0.9910833239555359,\n",
              "  0.9915833473205566],\n",
              " 'loss': [0.23509468138217926,\n",
              "  0.08537612110376358,\n",
              "  0.06354936212301254,\n",
              "  0.05301424488425255,\n",
              "  0.045958731323480606,\n",
              "  0.03802487254142761,\n",
              "  0.03492702916264534,\n",
              "  0.029314495623111725,\n",
              "  0.027343008667230606,\n",
              "  0.025691751390695572],\n",
              " 'val_accuracy': [0.9797999858856201,\n",
              "  0.9876999855041504,\n",
              "  0.988099992275238,\n",
              "  0.9884999990463257,\n",
              "  0.9896000027656555,\n",
              "  0.991100013256073,\n",
              "  0.9905999898910522,\n",
              "  0.991100013256073,\n",
              "  0.9914000034332275,\n",
              "  0.9918000102043152],\n",
              " 'val_loss': [0.05877756327390671,\n",
              "  0.038183316588401794,\n",
              "  0.03482010215520859,\n",
              "  0.03641361743211746,\n",
              "  0.030149979516863823,\n",
              "  0.028773067519068718,\n",
              "  0.03068060241639614,\n",
              "  0.028021356090903282,\n",
              "  0.030065827071666718,\n",
              "  0.03032858669757843]}"
            ]
          },
          "metadata": {
            "tags": []
          },
          "execution_count": 22
        }
      ]
    },
    {
      "cell_type": "code",
      "metadata": {
        "colab": {
          "base_uri": "https://localhost:8080/",
          "height": 573
        },
        "id": "XIku92H6KHrU",
        "outputId": "59b019c3-7817-4052-83f0-c32330baa638"
      },
      "source": [
        "epochs_range = range(1,11)\n",
        "plt.plot(epochs_range,history.history['accuracy'])\n",
        "plt.plot(epochs_range,history.history['val_accuracy'])\n",
        "plt.title('Model Accuracy')\n",
        "plt.xlabel('Epochs')\n",
        "plt.ylabel('Accuracy')\n",
        "plt.legend(['Train', 'Test'], loc='upper left')\n",
        "plt.show()\n",
        "\n",
        "plt.plot(epochs_range,history.history['loss'])\n",
        "plt.plot(epochs_range,history.history['val_loss'])\n",
        "plt.title('Model Loss')\n",
        "plt.xlabel('Epochs')\n",
        "plt.ylabel('Loss')\n",
        "plt.legend(['Train', 'Test'], loc='upper left')\n",
        "plt.show()"
      ],
      "execution_count": 23,
      "outputs": [
        {
          "output_type": "display_data",
          "data": {
            "image/png": "[encoded data removed]",
            "text/plain": [
              "<Figure size 432x288 with 1 Axes>"
            ]
          },
          "metadata": {
            "tags": [],
            "needs_background": "light"
          }
        },
        {
          "output_type": "display_data",
          "data": {
            "image/png": "[encoded data removed]",
            "text/plain": [
              "<Figure size 432x288 with 1 Axes>"
            ]
          },
          "metadata": {
            "tags": [],
            "needs_background": "light"
          }
        }
      ]
    },
    {
      "cell_type": "code",
      "metadata": {
        "colab": {
          "base_uri": "https://localhost:8080/"
        },
        "id": "GT_vwzf3KHtq",
        "outputId": "4dc1817b-b4b5-45da-94dd-c9bbb012c640"
      },
      "source": [
        "model.evaluate(x_test, y_test)"
      ],
      "execution_count": 24,
      "outputs": [
        {
          "output_type": "stream",
          "text": [
            "313/313 [==============================] - 7s 22ms/step - loss: 0.0303 - accuracy: 0.9918\n"
          ],
          "name": "stdout"
        },
        {
          "output_type": "execute_result",
          "data": {
            "text/plain": [
              "[0.030328577384352684, 0.9918000102043152]"
            ]
          },
          "metadata": {
            "tags": []
          },
          "execution_count": 24
        }
      ]
    },
    {
      "cell_type": "code",
      "metadata": {
        "id": "dkvVplmxKHwJ"
      },
      "source": [
        ""
      ],
      "execution_count": null,
      "outputs": []
    },
    {
      "cell_type": "code",
      "metadata": {
        "id": "GWqsqdHJKHy5"
      },
      "source": [
        ""
      ],
      "execution_count": null,
      "outputs": []
    }
  ]
}