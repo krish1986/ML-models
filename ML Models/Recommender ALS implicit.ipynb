{
 "cells": [
  {
   "cell_type": "code",
   "execution_count": 2,
   "metadata": {},
   "outputs": [],
   "source": [
    "import pandas as pd\n",
    "import scipy.sparse as sparse\n",
    "import numpy as np\n",
    "import random\n",
    "import implicit\n",
    "from sklearn.preprocessing import MinMaxScaler\n",
    "from sklearn import metrics\n",
    "import random\n",
    "import matplotlib.pyplot as plt\n",
    "from funcsigs import signature\n",
    "import recmetrics\n",
    "from sklearn.model_selection import train_test_split\n",
    "from scipy import spatial\n",
    "from sklearn.neighbors import NearestNeighbors\n",
    "from google_trans_new import google_translator  \n",
    "translator = google_translator()  \n",
    "from rake_nltk import Rake\n",
    "from sklearn.metrics.pairwise import cosine_similarity\n",
    "from sklearn.feature_extraction.text import CountVectorizer\n",
    "import string\n",
    "import ml_metrics\n",
    "import seaborn as sns"
   ]
  },
  {
   "cell_type": "code",
   "execution_count": 3,
   "metadata": {},
   "outputs": [],
   "source": [
    "## Replace the file location to actual file location of events file from the convert-json_csv.ipynb file\n",
    "with pd.option_context('display.precision', 19):\n",
    "    events_df = pd.read_csv('C:/Users/mvkri/OneDrive/Documents/Data Systems Project/events.csv', dtype='str')"
   ]
  },
  {
   "cell_type": "code",
   "execution_count": 31,
   "metadata": {},
   "outputs": [],
   "source": [
    "#Replace the file with the actual location of the musea.csv file from the taxonomy dataset\n",
    "col_list = [\"mainCategory\", \"translationSetId\", \"subCategory\", \"publicName\"]\n",
    "museum_data = pd.read_csv('C:/Users/mvkri/OneDrive/Documents/Data Systems Project/musea.csv',usecols=col_list)"
   ]
  },
  {
   "cell_type": "code",
   "execution_count": 32,
   "metadata": {},
   "outputs": [],
   "source": [
    "#Replace the file with the actual location of the evenementen.csv file from the taxonomy dataset\n",
    "col_list1 = [\"eventType\", \"translationSetId\", \"name\"]\n",
    "evenementen_data = pd.read_csv('C:/Users/mvkri/OneDrive/Documents/Data Systems Project/evenementen.csv',usecols=col_list1)"
   ]
  },
  {
   "cell_type": "code",
   "execution_count": 4,
   "metadata": {},
   "outputs": [],
   "source": [
    "## Only for identifying the musuem names for ease of analysis\n",
    "def extract_page_path(pagepath):\n",
    "    return pagepath[pagepath.rindex('/')+1:]\n",
    "events_df['page_path_extract'] = events_df['pagepath'].apply(extract_page_path)"
   ]
  },
  {
   "cell_type": "code",
   "execution_count": 5,
   "metadata": {},
   "outputs": [],
   "source": [
    "variables_to_remove = ['Unnamed: 0', 'session_ID', 'timestamp',\n",
    "                        'event_category', 'event_label', 'sessions', 'total_events', 'pagepath']\n",
    "events_df.drop(variables_to_remove, axis=1, inplace=True)"
   ]
  },
  {
   "cell_type": "code",
   "execution_count": 6,
   "metadata": {},
   "outputs": [],
   "source": [
    "# remove unwanted event type starting with \"slide\"\n",
    "events_df_1 = events_df[~events_df.event_action.str.contains(\"slide\")]"
   ]
  },
  {
   "cell_type": "code",
   "execution_count": 7,
   "metadata": {},
   "outputs": [],
   "source": [
    "''' remove unwanted event types \n",
    "\n",
    "click_event\n",
    "click_header_link_1\n",
    "click_search\n",
    "click_header_link_2\n",
    "click_logo\n",
    "open_favorites\n",
    "click_header_link_3\n",
    "click_login\n",
    "click_header_link_4 \n",
    "undefined\n",
    "like_highlight\n",
    "toggle_dark_mode\n",
    "unlike_highlight\n",
    "\\click_newsletter\n",
    "click_footer_link_1 \n",
    "click_social\n",
    "select_language'''\n",
    "\n",
    "events_df_2 = events_df_1[~events_df_1.event_action.str.contains(\"click_event\")]\n",
    "events_df_3 = events_df_2[~events_df_2.event_action.str.contains(\"click_header_link_1\")]\n",
    "events_df_4 = events_df_3[~events_df_3.event_action.str.contains(\"click_search\")]\n",
    "events_df_5 = events_df_4[~events_df_4.event_action.str.contains(\"click_header_link_2\")]\n",
    "events_df_6 = events_df_5[~events_df_5.event_action.str.contains(\"click_logo\")]\n",
    "events_df_7 = events_df_6[~events_df_6.event_action.str.contains(\"open_favorites\")]\n",
    "events_df_8 = events_df_7[~events_df_7.event_action.str.contains(\"click_header_link_3\")]\n",
    "events_df_9 = events_df_8[~events_df_8.event_action.str.contains(\"click_login\")]\n",
    "events_df_10 = events_df_9[~events_df_9.event_action.str.contains(\"click_header_link_4\")]\n",
    "events_df_11 = events_df_10[~events_df_10.event_action.str.contains(\"undefined\")]\n",
    "events_df_12 = events_df_11[~events_df_11.event_action.str.contains(\"like_highlight\")]\n",
    "events_df_13 = events_df_12[~events_df_12.event_action.str.contains(\"toggle_dark_mode\")]\n",
    "events_df_14 = events_df_13[~events_df_13.event_action.str.contains(\"unlike_highlight\")]\n",
    "events_df_15 = events_df_14[~events_df_14.event_action.str.contains(\"click_newsletter\")]\n",
    "events_df_16 = events_df_15[~events_df_15.event_action.str.contains(\"click_footer_link_1\")]\n",
    "events_df_17 = events_df_16[~events_df_16.event_action.str.contains(\"click_social\")]\n",
    "events_df_18 = events_df_17[~events_df_17.event_action.str.contains(\"select_language\")]\n",
    "events_df_19 = events_df_18[~events_df_18.event_action.str.contains(\"text-link focus-visible\")]\n",
    "events_df_20 = events_df_19[~events_df_19.event_action.str.contains(\"text-link cc_pointer\")]\n"
   ]
  },
  {
   "cell_type": "code",
   "execution_count": 8,
   "metadata": {},
   "outputs": [
    {
     "name": "stderr",
     "output_type": "stream",
     "text": [
      "C:\\Users\\mvkri\\miniconda3\\envs\\tensorflow\\lib\\site-packages\\ipykernel_launcher.py:44: SettingWithCopyWarning: \n",
      "A value is trying to be set on a copy of a slice from a DataFrame.\n",
      "Try using .loc[row_indexer,col_indexer] = value instead\n",
      "\n",
      "See the caveats in the documentation: https://pandas.pydata.org/pandas-docs/stable/user_guide/indexing.html#returning-a-view-versus-a-copy\n"
     ]
    }
   ],
   "source": [
    "# Convert event action to event weight\n",
    "event_type_strength = {\n",
    "   'click_read_more': 3.0,\n",
    "   'text-link': 4.0, \n",
    "   'click_more_opening_times': 5.0, \n",
    "   'click_plan_route': 7.0,\n",
    "   'click_card_1': 1.0,  \n",
    "   'like_museum': 2.0,  \n",
    "   'click_card_2': 1.0,\n",
    "   'like_event': 2.0, \n",
    "   'click_card_5': 1.0,\n",
    "   'click_card_4': 1.0,\n",
    "   'click_card_3': 1.0, \n",
    "   'click_card_6': 1.0, \n",
    "   'click_card_8': 1.0, \n",
    "   'click_card_7': 1.0, \n",
    "   'click_card_10': 1.0, \n",
    "   'click_card_12': 1.0,\n",
    "   'click_card_20': 1.0, \n",
    "   'click_card_9': 1.0, \n",
    "   'click_card_11': 1.0, \n",
    "   'click_card_13': 1.0, \n",
    "   'click_card_14': 1.0, \n",
    "   'click_phone_number': 6.0,\n",
    "   'unlike_museum': 0.0,\n",
    "   'click_card_19': 1.0,  \n",
    "   'click_card_16': 1.0,  \n",
    "   'click_card_17': 1.0,  \n",
    "   'unlike_event': 0.0,  \n",
    "   'click_card_15': 1.0,   \n",
    "   'click_card_21': 1.0,   \n",
    "   'click_card_18': 1.0,   \n",
    "   'click_card_22': 1.0,   \n",
    "   'click_card_24': 1.0,   \n",
    "   'click_card_23': 1.0,   \n",
    "   'click_card_29': 1.0,   \n",
    "   'like_themepage': 2.0,  \n",
    "   'click_card_25': 1.0,    \n",
    "   'click_card_28': 1.0,    \n",
    "   'click_card_26': 1.0,    \n",
    "   'click_card_27': 1.0, \n",
    "}\n",
    "\n",
    "events_df_20['event_weight'] = events_df_20['event_action'].apply(lambda x: event_type_strength[x])"
   ]
  },
  {
   "cell_type": "code",
   "execution_count": 12,
   "metadata": {},
   "outputs": [],
   "source": [
    "# Group the event weight per user and content.\n",
    "df_events_grouped = events_df_20.groupby(['client_ID', 'content_ID', 'page_path_extract']).sum().reset_index()"
   ]
  },
  {
   "cell_type": "code",
   "execution_count": 13,
   "metadata": {},
   "outputs": [],
   "source": [
    "#Convert the client Id and content id as category codes for ALS algorithm processing.\n",
    "df_events_grouped['page_path_extract'] =df_events_grouped['page_path_extract'].astype(\"category\")\n",
    "df_events_grouped['client_ID'] =df_events_grouped['client_ID'].astype(\"category\")\n",
    "df_events_grouped['content_ID'] = df_events_grouped['content_ID'].astype(\"category\")\n",
    "df_events_grouped['clientID'] = df_events_grouped['client_ID'].cat.codes\n",
    "df_events_grouped['contentID'] = df_events_grouped['content_ID'].cat.codes"
   ]
  },
  {
   "cell_type": "code",
   "execution_count": 14,
   "metadata": {},
   "outputs": [],
   "source": [
    "#Create two matrices, one for fitting the model (content-person) and one for recommendations (person-content)\n",
    "sparse_content_person = sparse.csr_matrix((df_events_grouped['event_weight'].astype(float), (df_events_grouped['contentID'], df_events_grouped['clientID'])))\n",
    "sparse_person_content = sparse.csr_matrix((df_events_grouped['event_weight'].astype(float), (df_events_grouped['clientID'], df_events_grouped['contentID'])))"
   ]
  },
  {
   "cell_type": "code",
   "execution_count": 17,
   "metadata": {},
   "outputs": [
    {
     "data": {
      "text/plain": [
       "99.84966418436407"
      ]
     },
     "execution_count": 17,
     "metadata": {},
     "output_type": "execute_result"
    }
   ],
   "source": [
    "#Validate the sparsity of the generated person content matrix\n",
    "matrix_size = sparse_person_content.shape[0]*sparse_person_content.shape[1] # Number of possible interactions in the matrix\n",
    "num_purchases = len(sparse_person_content.nonzero()[0]) # Number of items interacted with\n",
    "sparsity = 100*(1 - (num_purchases/matrix_size))\n",
    "sparsity"
   ]
  },
  {
   "cell_type": "code",
   "execution_count": 19,
   "metadata": {},
   "outputs": [],
   "source": [
    "#Creates a training and test set by masking randomly 20% of the user interactions.\n",
    "def make_train(ratings, pct_test = 0.2):\n",
    "    test_set = ratings.copy() # Make a copy of the original set to be the test set. \n",
    "    test_set[test_set != 0] = 1 # Store the test set as a binary preference matrix\n",
    "    \n",
    "    training_set = ratings.copy() # Make a copy of the original data we can alter as our training set. \n",
    "    \n",
    "    nonzero_inds = training_set.nonzero() # Find the indices in the ratings data where an interaction exists\n",
    "    nonzero_pairs = list(zip(nonzero_inds[0], nonzero_inds[1])) # Zip these pairs together of item,user index into list\n",
    "\n",
    "    \n",
    "    random.seed(0) # Set the random seed to zero for reproducibility\n",
    "    \n",
    "    num_samples = int(np.ceil(pct_test*len(nonzero_pairs))) # Round the number of samples needed to the nearest integer\n",
    "    samples = random.sample(nonzero_pairs, num_samples) # Sample a random number of item-user pairs without replacement\n",
    "\n",
    "    content_inds = [index[0] for index in samples] # Get the item row indices\n",
    "\n",
    "    person_inds = [index[1] for index in samples] # Get the user column indices\n",
    "\n",
    "    \n",
    "    training_set[content_inds, person_inds] = 0 # Assign all of the randomly chosen user-item pairs to zero\n",
    "    training_set.eliminate_zeros() # Get rid of zeros in sparse array storage after update to save space\n",
    "    \n",
    "    return training_set, test_set, list(set(person_inds))"
   ]
  },
  {
   "cell_type": "code",
   "execution_count": 20,
   "metadata": {},
   "outputs": [],
   "source": [
    "content_train, content_test, content_persons_altered = make_train(sparse_content_person, pct_test = 0.2)"
   ]
  },
  {
   "cell_type": "code",
   "execution_count": 21,
   "metadata": {},
   "outputs": [
    {
     "name": "stderr",
     "output_type": "stream",
     "text": [
      "WARNING:root:OpenBLAS detected. Its highly recommend to set the environment variable 'export OPENBLAS_NUM_THREADS=1' to disable its internal multithreading\n"
     ]
    }
   ],
   "source": [
    "#Initialize the Alternating Least Squares (ALS) recommendation model.\n",
    "model = implicit.als.AlternatingLeastSquares(factors=50, regularization=0.1, iterations=100)"
   ]
  },
  {
   "cell_type": "code",
   "execution_count": 22,
   "metadata": {},
   "outputs": [
    {
     "data": {
      "application/vnd.jupyter.widget-view+json": {
       "model_id": "14b48b3a99dd4be88bf941beaee56c84",
       "version_major": 2,
       "version_minor": 0
      },
      "text/plain": [
       "HBox(children=(FloatProgress(value=0.0), HTML(value='')))"
      ]
     },
     "metadata": {},
     "output_type": "display_data"
    },
    {
     "name": "stdout",
     "output_type": "stream",
     "text": [
      "\n"
     ]
    }
   ],
   "source": [
    "alpha = 15\n",
    "data = (content_train * alpha).astype('double')\n",
    "\n",
    "# Fit the model\n",
    "model.fit(data)"
   ]
  },
  {
   "cell_type": "code",
   "execution_count": 24,
   "metadata": {},
   "outputs": [],
   "source": [
    "person_vecs = sparse.csr_matrix(model.user_factors)\n",
    "content_vecs = sparse.csr_matrix(model.item_factors)"
   ]
  },
  {
   "cell_type": "code",
   "execution_count": 26,
   "metadata": {},
   "outputs": [],
   "source": [
    "#Get similar content based on content id\n",
    "def get_similar_items_content_id(content_id, n_similar):\n",
    "    return model.similar_items(content_id, n_similar)"
   ]
  },
  {
   "cell_type": "code",
   "execution_count": 27,
   "metadata": {},
   "outputs": [],
   "source": [
    "def get_recommendations(user_id):\n",
    "    return model.recommend(user_id, sparse_person_content)"
   ]
  },
  {
   "cell_type": "code",
   "execution_count": 28,
   "metadata": {},
   "outputs": [],
   "source": [
    "def auc_score(predictions, test):\n",
    "    fpr, tpr, thresholds = metrics.roc_curve(test, predictions)\n",
    "    return metrics.auc(fpr, tpr)"
   ]
  },
  {
   "cell_type": "code",
   "execution_count": 29,
   "metadata": {},
   "outputs": [],
   "source": [
    "def calc_mean_auc(training_set, altered_persons, predictions, test_set):\n",
    "    store_auc = [] # An empty list to store the AUC for each user that had an item removed from the training set\n",
    "    popularity_auc = [] # To store popular AUC scores\n",
    "    pop_contents = np.array(test_set.sum(axis = 1)).reshape(-1) # Get sum of item iteractions to find most popular\n",
    "    content_vecs = predictions[1]\n",
    "    for person in altered_persons: # Iterate through each user that had an item altered\n",
    "        training_column = training_set[:,person].toarray().reshape(-1) # Get the training set column\n",
    "        zero_inds = np.where(training_column == 0) # Find where the interaction had not yet occurred\n",
    "        \n",
    "        # Get the predicted values based on our user/item vectors\n",
    "        person_vec = predictions[0][person,:]\n",
    "        pred = person_vec.dot(content_vecs).toarray()[0,zero_inds].reshape(-1)\n",
    "        \n",
    "        # Get only the items that were originally zero\n",
    "        # Select all ratings from the MF prediction for this user that originally had no iteraction\n",
    "        actual = test_set[:,person].toarray()[zero_inds,0].reshape(-1)\n",
    "        \n",
    "        \n",
    "        # Select the binarized yes/no interaction pairs from the original full data\n",
    "        # that align with the same pairs in training \n",
    "        pop = pop_contents[zero_inds] # Get the item popularity for our chosen items\n",
    "        \n",
    "        store_auc.append(auc_score(pred, actual)) # Calculate AUC for the given user and store\n",
    "        \n",
    "        popularity_auc.append(auc_score(pop, actual)) # Calculate AUC using most popular and score\n",
    "    # End users iteration\n",
    "    \n",
    "    return float('%.3f'%np.mean(store_auc)), float('%.3f'%np.mean(popularity_auc))"
   ]
  },
  {
   "cell_type": "code",
   "execution_count": 30,
   "metadata": {},
   "outputs": [
    {
     "data": {
      "text/plain": [
       "(0.725, 0.836)"
      ]
     },
     "execution_count": 30,
     "metadata": {},
     "output_type": "execute_result"
    }
   ],
   "source": [
    "#Quantiative validation by calculating the mean AUC\n",
    "calc_mean_auc(content_train, content_persons_altered,\n",
    "              [person_vecs, content_vecs.T], content_test)"
   ]
  },
  {
   "cell_type": "code",
   "execution_count": 34,
   "metadata": {},
   "outputs": [],
   "source": [
    "evenementen_data.rename(columns={\"eventType\": \"mainCategory\"}, inplace=True)"
   ]
  },
  {
   "cell_type": "code",
   "execution_count": 35,
   "metadata": {},
   "outputs": [],
   "source": [
    "#Merge musuem data from taxonomy to the analytics data\n",
    "museum_type_df = pd.merge(left=df_events_grouped, right=museum_data,\n",
    "                       how='left', left_on = 'content_ID', right_on = 'translationSetId')"
   ]
  },
  {
   "cell_type": "code",
   "execution_count": 37,
   "metadata": {},
   "outputs": [],
   "source": [
    "museum_type_df.replace(np.nan, '', regex=True, inplace=True)"
   ]
  },
  {
   "cell_type": "code",
   "execution_count": 38,
   "metadata": {},
   "outputs": [],
   "source": [
    "museum_type_df.sort_values(by=['event_weight'],inplace=True)"
   ]
  },
  {
   "cell_type": "code",
   "execution_count": 39,
   "metadata": {},
   "outputs": [],
   "source": [
    "#Merge evenementen data from taxonomy to the analytics data\n",
    "museum_event_type_df = pd.merge(museum_type_df, evenementen_data,\n",
    "                       how='left', left_on = 'content_ID', right_on = 'translationSetId')"
   ]
  },
  {
   "cell_type": "code",
   "execution_count": 40,
   "metadata": {},
   "outputs": [],
   "source": [
    "museum_event_type_df.replace(np.nan, '', regex=True, inplace=True)"
   ]
  },
  {
   "cell_type": "code",
   "execution_count": 41,
   "metadata": {},
   "outputs": [],
   "source": [
    "museum_event_type_df['mainCategory'] = museum_event_type_df['mainCategory_x'] + museum_event_type_df['mainCategory_y']"
   ]
  },
  {
   "cell_type": "code",
   "execution_count": 42,
   "metadata": {},
   "outputs": [],
   "source": [
    "variables_to_remove3 = ['mainCategory_x', 'translationSetId_x', 'mainCategory_y',\n",
    "                        'translationSetId_y']\n",
    "museum_event_type_df.drop(variables_to_remove3, axis=1, inplace=True)"
   ]
  },
  {
   "cell_type": "code",
   "execution_count": 43,
   "metadata": {},
   "outputs": [],
   "source": [
    "museum_type_df_pop = museum_event_type_df.sort_values(['content_ID']).groupby(['content_ID']).first()\n",
    "\n",
    "museum_type_df_pop = museum_type_df_pop.join(museum_event_type_df['content_ID'].value_counts().to_frame('frequency'))"
   ]
  },
  {
   "cell_type": "code",
   "execution_count": 44,
   "metadata": {},
   "outputs": [],
   "source": [
    "museum_type_df_pop.sort_values(by=['frequency'], ascending=True, inplace=True)"
   ]
  },
  {
   "cell_type": "code",
   "execution_count": 45,
   "metadata": {},
   "outputs": [],
   "source": [
    "museum_type_df_pop['content_ID'] = museum_type_df_pop.index"
   ]
  },
  {
   "cell_type": "code",
   "execution_count": 47,
   "metadata": {},
   "outputs": [],
   "source": [
    "museum_event_type_df = museum_type_df_pop.sort_values(by=['frequency'], ascending=False)"
   ]
  },
  {
   "cell_type": "code",
   "execution_count": 62,
   "metadata": {},
   "outputs": [],
   "source": [
    "museum_event_type_df['content_ID'] = museum_event_type_df.index"
   ]
  },
  {
   "cell_type": "code",
   "execution_count": 50,
   "metadata": {},
   "outputs": [],
   "source": [
    "# Appends category and other details to the recommendations\n",
    "def create_catergory_combinations(recommendations,type_recommendation):\n",
    "    recommendation_dict = {}\n",
    "    for i in range(7):\n",
    "        if i == 0:\n",
    "            if type_recommendation == 'content':\n",
    "                pass\n",
    "            else:\n",
    "                idx, score = recommendations[i]\n",
    "                content_id = df_events_grouped.content_ID.loc[df_events_grouped.contentID == idx].iloc[0] #Convert content_Id back to original content ID\n",
    "                page_path = df_events_grouped.page_path_extract.loc[df_events_grouped.contentID == idx].iloc[0]\n",
    "                content_found  = content_id in museum_event_type_df.content_ID.values\n",
    "                if content_found:\n",
    "                   \n",
    "                    category_value = museum_event_type_df.loc[museum_event_type_df['content_ID'] == content_id, 'mainCategory']\n",
    "                    category_value_format = category_value.values.tolist()\n",
    "                    category_value_string = str(category_value_format[0])\n",
    "                   \n",
    "                    category_value_string_fmt = str(category_value_string)\n",
    "                    sub_category_value = museum_event_type_df.loc[museum_event_type_df['content_ID'] == content_id, 'subCategory']\n",
    "                    sub_category_value_format = sub_category_value.values.tolist()\n",
    "                    sub_category_value_fmt = str(sub_category_value_format[0])\n",
    "                    if sub_category_value_fmt == 'nan':\n",
    "                        sub_category_value_fmt = \" \"\n",
    "                else:\n",
    "                    category_value_string_fmt = ''\n",
    "                    sub_category_value_fmt = ' '                 \n",
    "                recommendation_dict[i] = {}\n",
    "                recommendation_dict[i] ['content_id'] = content_id\n",
    "                recommendation_dict[i] ['content_id_trans'] = idx\n",
    "                recommendation_dict[i] ['category'] = category_value_string_fmt\n",
    "                recommendation_dict[i] ['sub_category'] = sub_category_value_fmt\n",
    "                recommendation_dict[i] ['description'] = page_path\n",
    "        else:\n",
    "                idx, score = recommendations[i]\n",
    "                content_id = df_events_grouped.content_ID.loc[df_events_grouped.contentID == idx].iloc[0] #Convert content_Id back to original content ID\n",
    "                page_path = df_events_grouped.page_path_extract.loc[df_events_grouped.contentID == idx].iloc[0]\n",
    "                content_found  = content_id in museum_event_type_df.content_ID.values\n",
    "                if content_found:\n",
    "                    category_value = museum_event_type_df.loc[museum_event_type_df['content_ID'] == content_id, 'mainCategory']\n",
    "                    category_value_format = category_value.values.tolist()\n",
    "                    category_value_string = str(category_value_format[0])\n",
    "                    category_value_string_fmt = str(category_value_string)\n",
    "                    sub_category_value = museum_event_type_df.loc[museum_event_type_df['content_ID'] == content_id, 'subCategory']\n",
    "                    sub_category_value_format = sub_category_value.values.tolist()\n",
    "                    sub_category_value_fmt = str(sub_category_value_format[0])\n",
    "                    if sub_category_value_fmt == 'nan':\n",
    "                        sub_category_value_fmt = \" \"\n",
    "                else:\n",
    "                    category_value_string_fmt = ''\n",
    "                    sub_category_value_fmt = ' '\n",
    "                if type_recommendation == 'content':\n",
    "                    recommendation_dict[i-1] = {}\n",
    "                    recommendation_dict[i-1] ['content_id'] = content_id\n",
    "                    recommendation_dict[i-1] ['content_id_trans'] = idx\n",
    "                    recommendation_dict[i-1] ['category'] = category_value_string_fmt\n",
    "                    recommendation_dict[i-1] ['sub_category'] = sub_category_value_fmt\n",
    "                    recommendation_dict[i-1] ['description'] = page_path\n",
    "                else:\n",
    "                    recommendation_dict[i] = {}\n",
    "                    recommendation_dict[i] ['content_id'] = content_id\n",
    "                    recommendation_dict[i] ['content_id_trans'] = idx\n",
    "                    recommendation_dict[i] ['category'] = category_value_string_fmt\n",
    "                    recommendation_dict[i] ['sub_category'] = sub_category_value_fmt\n",
    "                    recommendation_dict[i] ['description'] = page_path\n",
    "    return recommendation_dict\n",
    "            "
   ]
  },
  {
   "cell_type": "code",
   "execution_count": 51,
   "metadata": {},
   "outputs": [],
   "source": [
    "# Functional to validate if a recommendation already exits based on different keys\n",
    "def check_value_exist(recommendations, value, key_pair):\n",
    "    do_exist = False\n",
    "    for key, val in recommendations.items():\n",
    "        if key_pair == 1:\n",
    "            if recommendations [key] ['category'] == value:\n",
    "                do_exist = True\n",
    "        elif key_pair == 2:\n",
    "            if recommendations [key] ['sub_category'] == value:\n",
    "                do_exist = True\n",
    "        else:\n",
    "            if recommendations [key] ['content_id'] == value:\n",
    "                do_exist = True\n",
    "    return do_exist"
   ]
  },
  {
   "cell_type": "code",
   "execution_count": 52,
   "metadata": {},
   "outputs": [],
   "source": [
    "#Retrieve most popular musuems from different categories.\n",
    "def get_pop_museums(recommendations, count_popular, museum_type_df_popular, reco_count):\n",
    "    count_popular = (count_popular) + reco_count\n",
    "    for index, row in museum_type_df_popular.iterrows():\n",
    "        category_value = museum_type_df_popular['mainCategory'] [index] \n",
    "        Exists_category = check_value_exist(recommendations, category_value, 1)\n",
    "        if Exists_category:\n",
    "            sub_category_value = museum_type_df_popular['subCategory'] [index]\n",
    "            Exists_sub_category = check_value_exist(recommendations, sub_category_value, 2)\n",
    "            if Exists_sub_category:\n",
    "                pass\n",
    "            else:\n",
    "                recommendations[reco_count] = {}\n",
    "                recommendations[reco_count] ['content_id'] = museum_type_df_popular['content_ID'] [index]\n",
    "                recommendations[reco_count] ['content_id_trans'] = museum_type_df_popular['contentID'] [index]\n",
    "                recommendations[reco_count] ['category'] = museum_type_df_popular['mainCategory'] [index]\n",
    "                recommendations[reco_count] ['sub_category'] = museum_type_df_popular['subCategory'] [index]\n",
    "                recommendations[reco_count] ['description'] = museum_type_df_popular['publicName'] [index]\n",
    "                reco_count = reco_count + 1\n",
    "        else:\n",
    "            recommendations[reco_count] = {}\n",
    "            recommendations[reco_count] ['content_id'] = museum_type_df_popular['content_ID'] [index]\n",
    "            recommendations[reco_count] ['content_id_trans'] = museum_type_df_popular['contentID'] [index]\n",
    "            recommendations[reco_count] ['category'] = museum_type_df_popular['mainCategory'] [index]\n",
    "            recommendations[reco_count] ['sub_category'] = museum_type_df_popular['subCategory'] [index]\n",
    "            recommendations[reco_count] ['description'] = museum_type_df_popular['publicName'] [index]\n",
    "            reco_count = reco_count + 1\n",
    "        \n",
    "        if reco_count == count_popular:\n",
    "            break\n",
    "                \n",
    "    return recommendations"
   ]
  },
  {
   "cell_type": "code",
   "execution_count": 53,
   "metadata": {},
   "outputs": [],
   "source": [
    "#Retrieve least popular musuems.\n",
    "def get_low_pop_museums(recommendations, count_low_popular, museum_type_df, reco_count):\n",
    "    count_low_popular = count_low_popular + reco_count\n",
    "    for index, row in museum_type_df.iterrows():\n",
    "        content_id = museum_type_df['content_ID'] [index]\n",
    "        Exists_content_id = check_value_exist(recommendations, content_id, 3)\n",
    "        if Exists_content_id:\n",
    "            pass\n",
    "        else:\n",
    "            recommendations[reco_count] = {}\n",
    "            recommendations[reco_count] ['content_id'] = museum_type_df['content_ID'] [index]\n",
    "            recommendations[reco_count] ['content_id_trans'] = museum_type_df['contentID'] [index]\n",
    "            recommendations[reco_count] ['category'] = museum_type_df['mainCategory'] [index]\n",
    "            recommendations[reco_count] ['sub_category'] = museum_type_df['subCategory'] [index]\n",
    "            recommendations[reco_count] ['description'] = museum_type_df['publicName'] [index]\n",
    "            reco_count = reco_count + 1\n",
    "        if reco_count == count_low_popular:\n",
    "            break\n",
    "                \n",
    "    return recommendations, reco_count"
   ]
  },
  {
   "cell_type": "code",
   "execution_count": 54,
   "metadata": {},
   "outputs": [],
   "source": [
    "#Main Function for the recommendation system to retrieve relevant recommendations\n",
    "def get_mod_recommendation(user_value, content_value):\n",
    "    count_popular= 2\n",
    "    count_low_popular = 2\n",
    "    if user_value != ' ':\n",
    "        user_found = df_events_grouped['client_ID'].str.contains(user_value).sum()\n",
    "    else:\n",
    "        user_found = 0\n",
    "    if user_found > 0: \n",
    "        type_reco = 'user'\n",
    "        modified_user_id = df_events_grouped.loc[df_events_grouped['client_ID'] == user_value, 'clientID']\n",
    "        modified_user_values = modified_user_id.values.tolist()\n",
    "        recommendations = get_recommendations(modified_user_values[0])\n",
    "        recommendations_cat = create_catergory_combinations(recommendations,type_reco)\n",
    "        reco_count = 6    \n",
    "        low_pop_museum_recommendations, reco_count = get_low_pop_museums(recommendations_cat, count_low_popular, museum_event_type_df, reco_count)\n",
    "        pop_museums_recommentdations = get_pop_museums(low_pop_museum_recommendations, count_popular, museum_type_df_pop, reco_count)\n",
    "    else:\n",
    "        #content_value = input(\"Please enter Content id \")\n",
    "        found_content = content_value in df_events_grouped.content_ID.values\n",
    "        if found_content:\n",
    "            type_reco = 'content'\n",
    "            modified_content_id = df_events_grouped.loc[df_events_grouped['content_ID'] == content_value, 'contentID']\n",
    "            modified_content_values = modified_content_id.values.tolist()\n",
    "            recommendations = get_similar_items_content_id(modified_content_values[0],10)\n",
    "            recommendations_cat = create_catergory_combinations(recommendations,type_reco)\n",
    "            reco_count = 6    \n",
    "            low_pop_museum_recommendations, reco_count = get_low_pop_museums(recommendations_cat, count_low_popular, museum_event_type_df, reco_count)\n",
    "            pop_museums_recommentdations = get_pop_museums(low_pop_museum_recommendations, count_popular, museum_type_df_pop, reco_count)\n",
    "        else:\n",
    "            reco_count = 0\n",
    "            count_low_popular = 5\n",
    "            count_popular = 5\n",
    "            recommendations = {}\n",
    "            low_pop_museum_recommendations, reco_count = get_low_pop_museums(recommendations, count_low_popular, museum_event_type_df, reco_count)\n",
    "            pop_museums_recommentdations = get_pop_museums(low_pop_museum_recommendations, count_popular, museum_type_df_pop, reco_count)  \n",
    "    return pop_museums_recommentdations"
   ]
  },
  {
   "cell_type": "code",
   "execution_count": 55,
   "metadata": {},
   "outputs": [
    {
     "data": {
      "text/html": [
       "<div>\n",
       "<style scoped>\n",
       "    .dataframe tbody tr th:only-of-type {\n",
       "        vertical-align: middle;\n",
       "    }\n",
       "\n",
       "    .dataframe tbody tr th {\n",
       "        vertical-align: top;\n",
       "    }\n",
       "\n",
       "    .dataframe thead th {\n",
       "        text-align: right;\n",
       "    }\n",
       "</style>\n",
       "<table border=\"1\" class=\"dataframe\">\n",
       "  <thead>\n",
       "    <tr style=\"text-align: right;\">\n",
       "      <th></th>\n",
       "      <th>client_ID</th>\n",
       "      <th>content_ID</th>\n",
       "      <th>page_path_extract</th>\n",
       "      <th>event_weight</th>\n",
       "      <th>clientID</th>\n",
       "      <th>contentID</th>\n",
       "    </tr>\n",
       "  </thead>\n",
       "  <tbody>\n",
       "    <tr>\n",
       "      <th>0</th>\n",
       "      <td>.0002513893194177581</td>\n",
       "      <td>d7ca96bd-97c7-4ef7-a4ba-d7ca654e8a10</td>\n",
       "      <td>bello-atelier</td>\n",
       "      <td>3.0</td>\n",
       "      <td>0</td>\n",
       "      <td>1394</td>\n",
       "    </tr>\n",
       "    <tr>\n",
       "      <th>1</th>\n",
       "      <td>.0022792107833399195</td>\n",
       "      <td>b67b0651-df2f-48c8-9793-1024a0c9901e</td>\n",
       "      <td>kasteel-de-haar</td>\n",
       "      <td>11.0</td>\n",
       "      <td>1</td>\n",
       "      <td>1188</td>\n",
       "    </tr>\n",
       "    <tr>\n",
       "      <th>2</th>\n",
       "      <td>.00259071350550121901</td>\n",
       "      <td>1a918684-33d5-485a-80b7-90a8086803ef</td>\n",
       "      <td>buitenplaats-kasteel-wijlre</td>\n",
       "      <td>7.0</td>\n",
       "      <td>2</td>\n",
       "      <td>173</td>\n",
       "    </tr>\n",
       "    <tr>\n",
       "      <th>3</th>\n",
       "      <td>.00263821967454156457</td>\n",
       "      <td>00ef605a-cde7-43f7-958b-d9d073635c74</td>\n",
       "      <td>bisjpaal</td>\n",
       "      <td>1.0</td>\n",
       "      <td>3</td>\n",
       "      <td>5</td>\n",
       "    </tr>\n",
       "    <tr>\n",
       "      <th>4</th>\n",
       "      <td>.00291129514994545446</td>\n",
       "      <td>0f7f9193-93ea-42fb-856e-88d8ebf6d10e</td>\n",
       "      <td>contre-loubli</td>\n",
       "      <td>3.0</td>\n",
       "      <td>4</td>\n",
       "      <td>104</td>\n",
       "    </tr>\n",
       "  </tbody>\n",
       "</table>\n",
       "</div>"
      ],
      "text/plain": [
       "               client_ID                            content_ID  \\\n",
       "0   .0002513893194177581  d7ca96bd-97c7-4ef7-a4ba-d7ca654e8a10   \n",
       "1   .0022792107833399195  b67b0651-df2f-48c8-9793-1024a0c9901e   \n",
       "2  .00259071350550121901  1a918684-33d5-485a-80b7-90a8086803ef   \n",
       "3  .00263821967454156457  00ef605a-cde7-43f7-958b-d9d073635c74   \n",
       "4  .00291129514994545446  0f7f9193-93ea-42fb-856e-88d8ebf6d10e   \n",
       "\n",
       "             page_path_extract  event_weight  clientID  contentID  \n",
       "0                bello-atelier           3.0         0       1394  \n",
       "1              kasteel-de-haar          11.0         1       1188  \n",
       "2  buitenplaats-kasteel-wijlre           7.0         2        173  \n",
       "3                     bisjpaal           1.0         3          5  \n",
       "4                contre-loubli           3.0         4        104  "
      ]
     },
     "execution_count": 55,
     "metadata": {},
     "output_type": "execute_result"
    }
   ],
   "source": [
    "# start of content based filtering for determining the expected recommendation list\n",
    "combine_event_weight = df_events_grouped.dropna(axis = 0, subset = ['contentID'])\n",
    "event_weightcount = (combine_event_weight.\n",
    "     groupby(by = ['contentID'])['event_weight'].\n",
    "     count().\n",
    "     reset_index().\n",
    "     rename(columns = {'event_weight': 'totalEventWeight'})\n",
    "     [['contentID', 'totalEventWeight']]\n",
    "    )\n",
    "combine_event_weight.head()"
   ]
  },
  {
   "cell_type": "code",
   "execution_count": 56,
   "metadata": {},
   "outputs": [
    {
     "data": {
      "text/html": [
       "<div>\n",
       "<style scoped>\n",
       "    .dataframe tbody tr th:only-of-type {\n",
       "        vertical-align: middle;\n",
       "    }\n",
       "\n",
       "    .dataframe tbody tr th {\n",
       "        vertical-align: top;\n",
       "    }\n",
       "\n",
       "    .dataframe thead th {\n",
       "        text-align: right;\n",
       "    }\n",
       "</style>\n",
       "<table border=\"1\" class=\"dataframe\">\n",
       "  <thead>\n",
       "    <tr style=\"text-align: right;\">\n",
       "      <th></th>\n",
       "      <th>client_ID</th>\n",
       "      <th>content_ID</th>\n",
       "      <th>page_path_extract</th>\n",
       "      <th>event_weight</th>\n",
       "      <th>clientID</th>\n",
       "      <th>contentID</th>\n",
       "      <th>totalEventWeight</th>\n",
       "    </tr>\n",
       "  </thead>\n",
       "  <tbody>\n",
       "    <tr>\n",
       "      <th>0</th>\n",
       "      <td>.0002513893194177581</td>\n",
       "      <td>d7ca96bd-97c7-4ef7-a4ba-d7ca654e8a10</td>\n",
       "      <td>bello-atelier</td>\n",
       "      <td>3.0</td>\n",
       "      <td>0</td>\n",
       "      <td>1394</td>\n",
       "      <td>22</td>\n",
       "    </tr>\n",
       "    <tr>\n",
       "      <th>1</th>\n",
       "      <td>.0022792107833399195</td>\n",
       "      <td>b67b0651-df2f-48c8-9793-1024a0c9901e</td>\n",
       "      <td>kasteel-de-haar</td>\n",
       "      <td>11.0</td>\n",
       "      <td>1</td>\n",
       "      <td>1188</td>\n",
       "      <td>1158</td>\n",
       "    </tr>\n",
       "    <tr>\n",
       "      <th>2</th>\n",
       "      <td>.00259071350550121901</td>\n",
       "      <td>1a918684-33d5-485a-80b7-90a8086803ef</td>\n",
       "      <td>buitenplaats-kasteel-wijlre</td>\n",
       "      <td>7.0</td>\n",
       "      <td>2</td>\n",
       "      <td>173</td>\n",
       "      <td>472</td>\n",
       "    </tr>\n",
       "    <tr>\n",
       "      <th>3</th>\n",
       "      <td>.00263821967454156457</td>\n",
       "      <td>00ef605a-cde7-43f7-958b-d9d073635c74</td>\n",
       "      <td>bisjpaal</td>\n",
       "      <td>1.0</td>\n",
       "      <td>3</td>\n",
       "      <td>5</td>\n",
       "      <td>50</td>\n",
       "    </tr>\n",
       "    <tr>\n",
       "      <th>4</th>\n",
       "      <td>.00291129514994545446</td>\n",
       "      <td>0f7f9193-93ea-42fb-856e-88d8ebf6d10e</td>\n",
       "      <td>contre-loubli</td>\n",
       "      <td>3.0</td>\n",
       "      <td>4</td>\n",
       "      <td>104</td>\n",
       "      <td>38</td>\n",
       "    </tr>\n",
       "  </tbody>\n",
       "</table>\n",
       "</div>"
      ],
      "text/plain": [
       "               client_ID                            content_ID  \\\n",
       "0   .0002513893194177581  d7ca96bd-97c7-4ef7-a4ba-d7ca654e8a10   \n",
       "1   .0022792107833399195  b67b0651-df2f-48c8-9793-1024a0c9901e   \n",
       "2  .00259071350550121901  1a918684-33d5-485a-80b7-90a8086803ef   \n",
       "3  .00263821967454156457  00ef605a-cde7-43f7-958b-d9d073635c74   \n",
       "4  .00291129514994545446  0f7f9193-93ea-42fb-856e-88d8ebf6d10e   \n",
       "\n",
       "             page_path_extract  event_weight  clientID  contentID  \\\n",
       "0                bello-atelier           3.0         0       1394   \n",
       "1              kasteel-de-haar          11.0         1       1188   \n",
       "2  buitenplaats-kasteel-wijlre           7.0         2        173   \n",
       "3                     bisjpaal           1.0         3          5   \n",
       "4                contre-loubli           3.0         4        104   \n",
       "\n",
       "   totalEventWeight  \n",
       "0                22  \n",
       "1              1158  \n",
       "2               472  \n",
       "3                50  \n",
       "4                38  "
      ]
     },
     "execution_count": 56,
     "metadata": {},
     "output_type": "execute_result"
    }
   ],
   "source": [
    "weight_with_totalWeightCount = combine_event_weight.merge(event_weightcount, left_on = 'contentID', right_on = 'contentID', how = 'left')\n",
    "weight_with_totalWeightCount.head()"
   ]
  },
  {
   "cell_type": "code",
   "execution_count": 57,
   "metadata": {
    "scrolled": true
   },
   "outputs": [
    {
     "data": {
      "text/html": [
       "<div>\n",
       "<style scoped>\n",
       "    .dataframe tbody tr th:only-of-type {\n",
       "        vertical-align: middle;\n",
       "    }\n",
       "\n",
       "    .dataframe tbody tr th {\n",
       "        vertical-align: top;\n",
       "    }\n",
       "\n",
       "    .dataframe thead th {\n",
       "        text-align: right;\n",
       "    }\n",
       "</style>\n",
       "<table border=\"1\" class=\"dataframe\">\n",
       "  <thead>\n",
       "    <tr style=\"text-align: right;\">\n",
       "      <th>clientID</th>\n",
       "      <th>0</th>\n",
       "      <th>1</th>\n",
       "      <th>2</th>\n",
       "      <th>3</th>\n",
       "      <th>4</th>\n",
       "      <th>5</th>\n",
       "      <th>6</th>\n",
       "      <th>7</th>\n",
       "      <th>8</th>\n",
       "      <th>9</th>\n",
       "      <th>...</th>\n",
       "      <th>61230</th>\n",
       "      <th>61231</th>\n",
       "      <th>61232</th>\n",
       "      <th>61233</th>\n",
       "      <th>61234</th>\n",
       "      <th>61235</th>\n",
       "      <th>61236</th>\n",
       "      <th>61237</th>\n",
       "      <th>61238</th>\n",
       "      <th>61239</th>\n",
       "    </tr>\n",
       "    <tr>\n",
       "      <th>contentID</th>\n",
       "      <th></th>\n",
       "      <th></th>\n",
       "      <th></th>\n",
       "      <th></th>\n",
       "      <th></th>\n",
       "      <th></th>\n",
       "      <th></th>\n",
       "      <th></th>\n",
       "      <th></th>\n",
       "      <th></th>\n",
       "      <th></th>\n",
       "      <th></th>\n",
       "      <th></th>\n",
       "      <th></th>\n",
       "      <th></th>\n",
       "      <th></th>\n",
       "      <th></th>\n",
       "      <th></th>\n",
       "      <th></th>\n",
       "      <th></th>\n",
       "      <th></th>\n",
       "    </tr>\n",
       "  </thead>\n",
       "  <tbody>\n",
       "    <tr>\n",
       "      <th>1640</th>\n",
       "      <td>0.0</td>\n",
       "      <td>0.0</td>\n",
       "      <td>0.0</td>\n",
       "      <td>0.0</td>\n",
       "      <td>0.0</td>\n",
       "      <td>0.0</td>\n",
       "      <td>0.0</td>\n",
       "      <td>0.0</td>\n",
       "      <td>0.0</td>\n",
       "      <td>0.0</td>\n",
       "      <td>...</td>\n",
       "      <td>0.0</td>\n",
       "      <td>0.0</td>\n",
       "      <td>0.0</td>\n",
       "      <td>0.0</td>\n",
       "      <td>0.0</td>\n",
       "      <td>0.0</td>\n",
       "      <td>0.0</td>\n",
       "      <td>0.0</td>\n",
       "      <td>0.0</td>\n",
       "      <td>0.0</td>\n",
       "    </tr>\n",
       "    <tr>\n",
       "      <th>1641</th>\n",
       "      <td>0.0</td>\n",
       "      <td>0.0</td>\n",
       "      <td>0.0</td>\n",
       "      <td>0.0</td>\n",
       "      <td>0.0</td>\n",
       "      <td>0.0</td>\n",
       "      <td>0.0</td>\n",
       "      <td>0.0</td>\n",
       "      <td>0.0</td>\n",
       "      <td>0.0</td>\n",
       "      <td>...</td>\n",
       "      <td>0.0</td>\n",
       "      <td>0.0</td>\n",
       "      <td>0.0</td>\n",
       "      <td>0.0</td>\n",
       "      <td>0.0</td>\n",
       "      <td>0.0</td>\n",
       "      <td>0.0</td>\n",
       "      <td>0.0</td>\n",
       "      <td>0.0</td>\n",
       "      <td>0.0</td>\n",
       "    </tr>\n",
       "    <tr>\n",
       "      <th>1642</th>\n",
       "      <td>0.0</td>\n",
       "      <td>0.0</td>\n",
       "      <td>0.0</td>\n",
       "      <td>0.0</td>\n",
       "      <td>0.0</td>\n",
       "      <td>0.0</td>\n",
       "      <td>0.0</td>\n",
       "      <td>0.0</td>\n",
       "      <td>0.0</td>\n",
       "      <td>0.0</td>\n",
       "      <td>...</td>\n",
       "      <td>0.0</td>\n",
       "      <td>0.0</td>\n",
       "      <td>0.0</td>\n",
       "      <td>0.0</td>\n",
       "      <td>0.0</td>\n",
       "      <td>0.0</td>\n",
       "      <td>0.0</td>\n",
       "      <td>0.0</td>\n",
       "      <td>0.0</td>\n",
       "      <td>0.0</td>\n",
       "    </tr>\n",
       "    <tr>\n",
       "      <th>1643</th>\n",
       "      <td>0.0</td>\n",
       "      <td>0.0</td>\n",
       "      <td>0.0</td>\n",
       "      <td>0.0</td>\n",
       "      <td>0.0</td>\n",
       "      <td>0.0</td>\n",
       "      <td>0.0</td>\n",
       "      <td>0.0</td>\n",
       "      <td>0.0</td>\n",
       "      <td>0.0</td>\n",
       "      <td>...</td>\n",
       "      <td>0.0</td>\n",
       "      <td>0.0</td>\n",
       "      <td>0.0</td>\n",
       "      <td>0.0</td>\n",
       "      <td>0.0</td>\n",
       "      <td>0.0</td>\n",
       "      <td>0.0</td>\n",
       "      <td>0.0</td>\n",
       "      <td>0.0</td>\n",
       "      <td>0.0</td>\n",
       "    </tr>\n",
       "    <tr>\n",
       "      <th>1644</th>\n",
       "      <td>0.0</td>\n",
       "      <td>0.0</td>\n",
       "      <td>0.0</td>\n",
       "      <td>0.0</td>\n",
       "      <td>0.0</td>\n",
       "      <td>0.0</td>\n",
       "      <td>0.0</td>\n",
       "      <td>0.0</td>\n",
       "      <td>0.0</td>\n",
       "      <td>0.0</td>\n",
       "      <td>...</td>\n",
       "      <td>0.0</td>\n",
       "      <td>0.0</td>\n",
       "      <td>0.0</td>\n",
       "      <td>0.0</td>\n",
       "      <td>0.0</td>\n",
       "      <td>0.0</td>\n",
       "      <td>0.0</td>\n",
       "      <td>0.0</td>\n",
       "      <td>0.0</td>\n",
       "      <td>0.0</td>\n",
       "    </tr>\n",
       "  </tbody>\n",
       "</table>\n",
       "<p>5 rows × 61240 columns</p>\n",
       "</div>"
      ],
      "text/plain": [
       "clientID   0      1      2      3      4      5      6      7      8      \\\n",
       "contentID                                                                  \n",
       "1640         0.0    0.0    0.0    0.0    0.0    0.0    0.0    0.0    0.0   \n",
       "1641         0.0    0.0    0.0    0.0    0.0    0.0    0.0    0.0    0.0   \n",
       "1642         0.0    0.0    0.0    0.0    0.0    0.0    0.0    0.0    0.0   \n",
       "1643         0.0    0.0    0.0    0.0    0.0    0.0    0.0    0.0    0.0   \n",
       "1644         0.0    0.0    0.0    0.0    0.0    0.0    0.0    0.0    0.0   \n",
       "\n",
       "clientID   9      ...  61230  61231  61232  61233  61234  61235  61236  61237  \\\n",
       "contentID         ...                                                           \n",
       "1640         0.0  ...    0.0    0.0    0.0    0.0    0.0    0.0    0.0    0.0   \n",
       "1641         0.0  ...    0.0    0.0    0.0    0.0    0.0    0.0    0.0    0.0   \n",
       "1642         0.0  ...    0.0    0.0    0.0    0.0    0.0    0.0    0.0    0.0   \n",
       "1643         0.0  ...    0.0    0.0    0.0    0.0    0.0    0.0    0.0    0.0   \n",
       "1644         0.0  ...    0.0    0.0    0.0    0.0    0.0    0.0    0.0    0.0   \n",
       "\n",
       "clientID   61238  61239  \n",
       "contentID                \n",
       "1640         0.0    0.0  \n",
       "1641         0.0    0.0  \n",
       "1642         0.0    0.0  \n",
       "1643         0.0    0.0  \n",
       "1644         0.0    0.0  \n",
       "\n",
       "[5 rows x 61240 columns]"
      ]
     },
     "execution_count": 57,
     "metadata": {},
     "output_type": "execute_result"
    }
   ],
   "source": [
    "#df_events_grouped_content = pd.merge(rating_df,movies_df,on='movieId')\n",
    "weight_with_totalWeightCount.drop_duplicates(['clientID', 'contentID'], inplace=True)\n",
    "weight_pivot = weight_with_totalWeightCount.pivot(index='contentID', columns = 'clientID', values = 'event_weight').fillna(0)\n",
    "weight_pivot.tail()"
   ]
  },
  {
   "cell_type": "code",
   "execution_count": 58,
   "metadata": {},
   "outputs": [
    {
     "data": {
      "text/plain": [
       "NearestNeighbors(algorithm='brute', metric='cosine')"
      ]
     },
     "execution_count": 58,
     "metadata": {},
     "output_type": "execute_result"
    }
   ],
   "source": [
    "weight_matrix = sparse.csr_matrix(weight_pivot.values)\n",
    "model_knn = NearestNeighbors(metric = 'cosine', algorithm = 'brute')\n",
    "model_knn.fit(weight_matrix)"
   ]
  },
  {
   "cell_type": "code",
   "execution_count": 59,
   "metadata": {},
   "outputs": [
    {
     "data": {
      "text/plain": [
       "(1645, 61240)"
      ]
     },
     "execution_count": 59,
     "metadata": {},
     "output_type": "execute_result"
    }
   ],
   "source": [
    "weight_pivot.shape"
   ]
  },
  {
   "cell_type": "code",
   "execution_count": 60,
   "metadata": {},
   "outputs": [],
   "source": [
    "def get_content_recommendations(query_index,n_neighbors):\n",
    "    distances, indices = model_knn.kneighbors(weight_pivot.iloc[query_index,:].values.reshape(1, -1), n_neighbors = 30)\n",
    "    return distances, indices"
   ]
  },
  {
   "cell_type": "code",
   "execution_count": 61,
   "metadata": {},
   "outputs": [],
   "source": [
    "client_IDs = df_events_grouped.loc[df_events_grouped['clientID'] >= 0]"
   ]
  },
  {
   "cell_type": "code",
   "execution_count": 62,
   "metadata": {},
   "outputs": [
    {
     "data": {
      "text/html": [
       "<div>\n",
       "<style scoped>\n",
       "    .dataframe tbody tr th:only-of-type {\n",
       "        vertical-align: middle;\n",
       "    }\n",
       "\n",
       "    .dataframe tbody tr th {\n",
       "        vertical-align: top;\n",
       "    }\n",
       "\n",
       "    .dataframe thead th {\n",
       "        text-align: right;\n",
       "    }\n",
       "</style>\n",
       "<table border=\"1\" class=\"dataframe\">\n",
       "  <thead>\n",
       "    <tr style=\"text-align: right;\">\n",
       "      <th></th>\n",
       "      <th>clientID</th>\n",
       "    </tr>\n",
       "  </thead>\n",
       "  <tbody>\n",
       "    <tr>\n",
       "      <th>0</th>\n",
       "      <td>0</td>\n",
       "    </tr>\n",
       "    <tr>\n",
       "      <th>1</th>\n",
       "      <td>1</td>\n",
       "    </tr>\n",
       "    <tr>\n",
       "      <th>2</th>\n",
       "      <td>2</td>\n",
       "    </tr>\n",
       "    <tr>\n",
       "      <th>3</th>\n",
       "      <td>3</td>\n",
       "    </tr>\n",
       "    <tr>\n",
       "      <th>4</th>\n",
       "      <td>4</td>\n",
       "    </tr>\n",
       "  </tbody>\n",
       "</table>\n",
       "</div>"
      ],
      "text/plain": [
       "   clientID\n",
       "0         0\n",
       "1         1\n",
       "2         2\n",
       "3         3\n",
       "4         4"
      ]
     },
     "execution_count": 62,
     "metadata": {},
     "output_type": "execute_result"
    }
   ],
   "source": [
    "variables_to_remove = ['content_ID', 'page_path_extract', 'event_weight',\n",
    "                        'client_ID', 'contentID']\n",
    "client_IDs.drop(variables_to_remove, axis=1, inplace=True)\n",
    "client_IDs.head()"
   ]
  },
  {
   "cell_type": "code",
   "execution_count": 63,
   "metadata": {},
   "outputs": [],
   "source": [
    "#Converts client ID';s to a list and removes duplicates\n",
    "client_IDs_list = client_IDs['clientID'].tolist()\n",
    "client_IDs_list = list(dict.fromkeys(client_IDs_list))"
   ]
  },
  {
   "cell_type": "code",
   "execution_count": 64,
   "metadata": {},
   "outputs": [],
   "source": [
    "# Get content based recommendations for all contents for all users \n",
    "content_recommendations = {}\n",
    "for client_number in client_IDs_list:\n",
    "    content_IDs_list = df_events_grouped['contentID'][df_events_grouped['clientID'] == client_number].tolist()\n",
    "    content_IDs_list = list(dict.fromkeys(content_IDs_list))\n",
    "    content_recommendations[client_number] = {}\n",
    "    for content_number in content_IDs_list:\n",
    "        distance, recommendations = get_content_recommendations(content_number, 30)\n",
    "        content_recommendations[client_number] [content_number] = []        \n",
    "        for i in range(0, len(distance.flatten())):\n",
    "            if i == 0:\n",
    "                pass\n",
    "            else:                \n",
    "                content_recommendations [client_number] [content_number].append(weight_pivot.index[recommendations.flatten()[i]])"
   ]
  },
  {
   "cell_type": "code",
   "execution_count": 65,
   "metadata": {},
   "outputs": [],
   "source": [
    "expected_recommendations = content_recommendations"
   ]
  },
  {
   "cell_type": "code",
   "execution_count": 66,
   "metadata": {},
   "outputs": [],
   "source": [
    "# Reformat expected recommendations to remove the actual content id's\n",
    "modified_expected_reco = {}\n",
    "for key, value in expected_recommendations.items():\n",
    "    modified_expected_reco[key] = []    \n",
    "    for content_viewed, content_expected in value.items():\n",
    "        for content_ids in content_expected:\n",
    "            modified_expected_reco[key].append(content_ids)"
   ]
  },
  {
   "cell_type": "code",
   "execution_count": 67,
   "metadata": {},
   "outputs": [],
   "source": [
    "# Remove duplicate expected recommendations for each client ids\n",
    "Expected_recommendations_final = {}\n",
    "for key, value in modified_expected_reco.items():\n",
    "    Expected_recommendations_final[key] = []\n",
    "    value = list(dict.fromkeys(value))\n",
    "    Expected_recommendations_final[key].append(value)"
   ]
  },
  {
   "cell_type": "code",
   "execution_count": 68,
   "metadata": {},
   "outputs": [],
   "source": [
    "# Determine recommendations for all the users by calling the ALS Recommendation algorithm\n",
    "actual_recommendations = {}\n",
    "for client_number in client_IDs_list:\n",
    "    recommendations = get_recommendations(client_number)\n",
    "    actual_recommendations[client_number] = []\n",
    "    recommendations_list = []\n",
    "    for n in range(10):\n",
    "        idx, score = recommendations[n]\n",
    "        recommendations_list.append(idx)\n",
    "    actual_recommendations[client_number].append(recommendations_list)\n",
    "        "
   ]
  },
  {
   "cell_type": "code",
   "execution_count": 69,
   "metadata": {},
   "outputs": [],
   "source": [
    "#Determine modified recommendations for all the users by calling the get_mod_recommendations functions\n",
    "modified_recommendations = {}\n",
    "for client_number in client_IDs_list:\n",
    "    modified_recommendations[client_number] = []\n",
    "    modified_user_id = df_events_grouped.loc[df_events_grouped['clientID'] == client_number, 'client_ID']\n",
    "    modified_user_values = modified_user_id.values.tolist()\n",
    "    user_value = str(modified_user_values[0])\n",
    "    mod_recommendations = get_mod_recommendation(user_value,' ')\n",
    "    rec_recos = []\n",
    "    for i in mod_recommendations:\n",
    "        content_id = mod_recommendations [i] ['content_id_trans']\n",
    "        rec_recos.append(content_id)\n",
    "    modified_recommendations[client_number].append(rec_recos)        "
   ]
  },
  {
   "cell_type": "code",
   "execution_count": 70,
   "metadata": {},
   "outputs": [],
   "source": [
    "#Expected and unexpected Matrix values for actual recommendations\n",
    "intersection_values_list = []\n",
    "non_intersection_values_list = []\n",
    "for key, value in actual_recommendations.items(): \n",
    "    actual_reco = value[0]\n",
    "    expected_reco = Expected_recommendations_final[key]\n",
    "    intersection_value = len(list(set(actual_reco).intersection(expected_reco[0])))\n",
    "    non_intersection_value = len(actual_reco) - intersection_value\n",
    "    intersection_values_list.append(intersection_value)\n",
    "    non_intersection_values_list.append(non_intersection_value)\n",
    "expected_matrix_value = sum(intersection_values_list)/len(intersection_values_list)  \n",
    "non_expected_matrix_value = sum(non_intersection_values_list)/len(non_intersection_values_list)  "
   ]
  },
  {
   "cell_type": "code",
   "execution_count": 71,
   "metadata": {},
   "outputs": [
    {
     "data": {
      "text/plain": [
       "5.658785107772697"
      ]
     },
     "execution_count": 71,
     "metadata": {},
     "output_type": "execute_result"
    }
   ],
   "source": [
    "expected_matrix_value"
   ]
  },
  {
   "cell_type": "code",
   "execution_count": 72,
   "metadata": {},
   "outputs": [
    {
     "data": {
      "text/plain": [
       "4.341214892227303"
      ]
     },
     "execution_count": 72,
     "metadata": {},
     "output_type": "execute_result"
    }
   ],
   "source": [
    "non_expected_matrix_value"
   ]
  },
  {
   "cell_type": "code",
   "execution_count": 73,
   "metadata": {},
   "outputs": [],
   "source": [
    "#Expected and unexpected Matrix values for modified recommendations\n",
    "intersection_values_list = []\n",
    "non_intersection_values_list = []\n",
    "for key, value in modified_recommendations.items(): \n",
    "    actual_reco = value[0]\n",
    "    expected_reco = Expected_recommendations_final[key][0]\n",
    "    intersection_value = len(list(set(actual_reco).intersection(expected_reco)))\n",
    "    non_intersection_value = len(actual_reco) - intersection_value\n",
    "    intersection_values_list.append(intersection_value)\n",
    "    non_intersection_values_list.append(non_intersection_value)\n",
    "expected_matrix_value = sum(intersection_values_list)/len(intersection_values_list)  \n",
    "non_expected_matrix_value = sum(non_intersection_values_list)/len(non_intersection_values_list) "
   ]
  },
  {
   "cell_type": "code",
   "execution_count": 74,
   "metadata": {},
   "outputs": [
    {
     "data": {
      "text/plain": [
       "3.986332462442848"
      ]
     },
     "execution_count": 74,
     "metadata": {},
     "output_type": "execute_result"
    }
   ],
   "source": [
    "expected_matrix_value"
   ]
  },
  {
   "cell_type": "code",
   "execution_count": 75,
   "metadata": {},
   "outputs": [
    {
     "data": {
      "text/plain": [
       "6.013667537557152"
      ]
     },
     "execution_count": 75,
     "metadata": {},
     "output_type": "execute_result"
    }
   ],
   "source": [
    "non_expected_matrix_value"
   ]
  },
  {
   "cell_type": "code",
   "execution_count": 76,
   "metadata": {},
   "outputs": [],
   "source": [
    "actual_recos = []\n",
    "for key, value in actual_recommendations.items():\n",
    "    actual_recos.append(value[0])"
   ]
  },
  {
   "cell_type": "code",
   "execution_count": 77,
   "metadata": {},
   "outputs": [],
   "source": [
    "expected_recos = []\n",
    "for key, value in Expected_recommendations_final.items():\n",
    "    expected_recos.append(value[0])"
   ]
  },
  {
   "cell_type": "code",
   "execution_count": 78,
   "metadata": {},
   "outputs": [],
   "source": [
    "mod_actual_recos = []\n",
    "for key, value in modified_recommendations.items():\n",
    "    mod_actual_recos.append(value[0])"
   ]
  },
  {
   "cell_type": "code",
   "execution_count": 80,
   "metadata": {},
   "outputs": [],
   "source": [
    "popularity_recs = museum_type_df_pop.contentID.head(10).tolist()"
   ]
  },
  {
   "cell_type": "code",
   "execution_count": 82,
   "metadata": {},
   "outputs": [],
   "source": [
    "popularity_recos = []\n",
    "for clientID in client_IDs_list:\n",
    "    pop_predictions = popularity_recs\n",
    "    popularity_recos.append(pop_predictions)"
   ]
  },
  {
   "cell_type": "code",
   "execution_count": 85,
   "metadata": {},
   "outputs": [],
   "source": [
    "random_recos = []\n",
    "for clientID in client_IDs_list:\n",
    "    random_predictions = museum_type_df_pop.contentID.sample(10).tolist()\n",
    "    random_recos.append(random_predictions)"
   ]
  },
  {
   "cell_type": "code",
   "execution_count": 86,
   "metadata": {},
   "outputs": [],
   "source": [
    "test = pd.DataFrame(client_IDs_list,columns=['clientID'])"
   ]
  },
  {
   "cell_type": "code",
   "execution_count": 88,
   "metadata": {},
   "outputs": [],
   "source": [
    "test = test.set_index(\"clientID\")"
   ]
  },
  {
   "cell_type": "code",
   "execution_count": 89,
   "metadata": {},
   "outputs": [],
   "source": [
    "test['actual_recommendations'] = actual_recos"
   ]
  },
  {
   "cell_type": "code",
   "execution_count": 90,
   "metadata": {},
   "outputs": [],
   "source": [
    "test['expected_recommendations'] = expected_recos"
   ]
  },
  {
   "cell_type": "code",
   "execution_count": 91,
   "metadata": {},
   "outputs": [],
   "source": [
    "test['modified_recommendations'] = mod_actual_recos"
   ]
  },
  {
   "cell_type": "code",
   "execution_count": 92,
   "metadata": {},
   "outputs": [],
   "source": [
    "test['popular_recommendations'] = popularity_recos"
   ]
  },
  {
   "cell_type": "code",
   "execution_count": 93,
   "metadata": {},
   "outputs": [],
   "source": [
    "test['random_recommendations'] = random_recos"
   ]
  },
  {
   "cell_type": "code",
   "execution_count": 94,
   "metadata": {},
   "outputs": [],
   "source": [
    "actual = test.expected_recommendations.values.tolist()\n",
    "cf_predictions = test.actual_recommendations.values.tolist()\n",
    "pop_predictions = test.popular_recommendations.values.tolist()\n",
    "random_predictions = test.random_recommendations.values.tolist()\n",
    "mod_recommendations = test.modified_recommendations.values.tolist()"
   ]
  },
  {
   "cell_type": "code",
   "execution_count": 95,
   "metadata": {},
   "outputs": [
    {
     "data": {
      "text/plain": [
       "[0.0,\n",
       " 0.0,\n",
       " 0.00019661550075990262,\n",
       " 0.00020469756337488656,\n",
       " 0.00022123469941337962,\n",
       " 0.00022589751650616704,\n",
       " 0.0002739299954873911,\n",
       " 0.0002739299954873911,\n",
       " 0.0002966235324345441,\n",
       " 0.0002966235324345441]"
      ]
     },
     "execution_count": 95,
     "metadata": {},
     "output_type": "execute_result"
    }
   ],
   "source": [
    "pop_mark = []\n",
    "for K in np.arange(1, 11):\n",
    "    pop_mark.extend([recmetrics.mark(actual, pop_predictions, k=K)])\n",
    "pop_mark"
   ]
  },
  {
   "cell_type": "code",
   "execution_count": 96,
   "metadata": {},
   "outputs": [
    {
     "data": {
      "text/plain": [
       "[0.0006230483756305105,\n",
       " 0.0009412732614101447,\n",
       " 0.0011489127071513045,\n",
       " 0.0013124945033760821,\n",
       " 0.0014498879009462056,\n",
       " 0.0015698702943186251,\n",
       " 0.0016741262507855954,\n",
       " 0.0017658512995496504,\n",
       " 0.0018543153358128767,\n",
       " 0.0019354222896877421]"
      ]
     },
     "execution_count": 96,
     "metadata": {},
     "output_type": "execute_result"
    }
   ],
   "source": [
    "random_mark = []\n",
    "for K in np.arange(1, 11):\n",
    "    random_mark.extend([recmetrics.mark(actual, random_predictions, k=K)])\n",
    "random_mark"
   ]
  },
  {
   "cell_type": "code",
   "execution_count": 97,
   "metadata": {},
   "outputs": [
    {
     "data": {
      "text/plain": [
       "[0.017763440989061637,\n",
       " 0.03192999477233893,\n",
       " 0.04425642914309566,\n",
       " 0.05618424881475175,\n",
       " 0.06626151078281613,\n",
       " 0.07626636690157741,\n",
       " 0.08512183435681393,\n",
       " 0.09342203574307988,\n",
       " 0.10113333946298068,\n",
       " 0.10797840549446157]"
      ]
     },
     "execution_count": 97,
     "metadata": {},
     "output_type": "execute_result"
    }
   ],
   "source": [
    "cf_mark = []\n",
    "for K in np.arange(1, 11):\n",
    "    cf_mark.extend([recmetrics.mark(actual, cf_predictions, k=K)])\n",
    "cf_mark"
   ]
  },
  {
   "cell_type": "code",
   "execution_count": 98,
   "metadata": {},
   "outputs": [
    {
     "data": {
      "text/plain": [
       "[0.017763440989061637,\n",
       " 0.03192999477233893,\n",
       " 0.04425642914309566,\n",
       " 0.05618424881475175,\n",
       " 0.06626151078281613,\n",
       " 0.07626636690157741,\n",
       " 0.0784277187891859,\n",
       " 0.0791183163306822,\n",
       " 0.07912017261301298,\n",
       " 0.0791771395219476]"
      ]
     },
     "execution_count": 98,
     "metadata": {},
     "output_type": "execute_result"
    }
   ],
   "source": [
    "mod_rec_mark = []\n",
    "for K in np.arange(1, 11):\n",
    "    mod_rec_mark.extend([recmetrics.mark(actual, mod_recommendations, k=K)])\n",
    "mod_rec_mark"
   ]
  },
  {
   "cell_type": "code",
   "execution_count": 99,
   "metadata": {},
   "outputs": [
    {
     "data": {
      "image/png": "[encoded data removed]",
      "text/plain": [
       "<Figure size 1080x504 with 1 Axes>"
      ]
     },
     "metadata": {
      "needs_background": "light"
     },
     "output_type": "display_data"
    }
   ],
   "source": [
    "mark_scores = [random_mark, pop_mark, cf_mark, mod_rec_mark]\n",
    "index = range(1,10+1)\n",
    "names = ['Random Recommender', 'Popularity Recommender', 'Recommendation algorithm(without low and popular museums)', 'Recommendation algorithm(with low and popular museums)']\n",
    "\n",
    "fig = plt.figure(figsize=(15, 7))\n",
    "recmetrics.mark_plot(mark_scores, model_names=names, k_range=index)"
   ]
  },
  {
   "cell_type": "code",
   "execution_count": 100,
   "metadata": {},
   "outputs": [],
   "source": [
    "catalog = museum_event_type_df.contentID.unique().tolist()\n",
    "random_coverage = recmetrics.coverage(random_recos, catalog)\n",
    "pop_coverage = recmetrics.coverage(popularity_recos, catalog)\n",
    "cf_coverage = recmetrics.coverage(actual_recos, catalog)\n",
    "mod_rec_coverage = recmetrics.coverage(mod_actual_recos, catalog)"
   ]
  },
  {
   "cell_type": "code",
   "execution_count": 101,
   "metadata": {},
   "outputs": [
    {
     "data": {
      "image/png": "[encoded data removed]",
      "text/plain": [
       "<Figure size 720x720 with 1 Axes>"
      ]
     },
     "metadata": {
      "needs_background": "light"
     },
     "output_type": "display_data"
    }
   ],
   "source": [
    "coverage_scores = [random_coverage, pop_coverage, cf_coverage, mod_rec_coverage]\n",
    "model_names = ['Random Recommender', 'Popularity Recommender', 'Collaborative Filter', 'Modified Recommender']\n",
    "\n",
    "fig = plt.figure(figsize=(10, 10))\n",
    "recmetrics.coverage_plot(coverage_scores, model_names)"
   ]
  },
  {
   "cell_type": "code",
   "execution_count": 107,
   "metadata": {},
   "outputs": [
    {
     "data": {
      "text/plain": [
       "[0.7545558458523841,\n",
       " 0.6893451992161985,\n",
       " 0.644130560998621,\n",
       " 0.6157593756803832,\n",
       " 0.5858733398650119,\n",
       " 0.5641952881196022,\n",
       " 0.5428672791781636,\n",
       " 0.5240895865408541,\n",
       " 0.5069160663454969,\n",
       " 0.4900133231988637]"
      ]
     },
     "execution_count": 107,
     "metadata": {},
     "output_type": "execute_result"
    }
   ],
   "source": [
    "#Calculate MAP\n",
    "cf_map = []\n",
    "for K in np.arange(1, 11):\n",
    "    cf_map.extend([ml_metrics.mapk(actual, cf_predictions, k=K)])\n",
    "cf_map"
   ]
  },
  {
   "cell_type": "code",
   "execution_count": 108,
   "metadata": {},
   "outputs": [
    {
     "data": {
      "text/plain": [
       "[0.7545558458523841,\n",
       " 0.6893451992161985,\n",
       " 0.644130560998621,\n",
       " 0.6157593756803832,\n",
       " 0.5858733398650119,\n",
       " 0.5641952881196022,\n",
       " 0.502873744207023,\n",
       " 0.44643190044633135,\n",
       " 0.39684952342937324,\n",
       " 0.3575159753973438]"
      ]
     },
     "execution_count": 108,
     "metadata": {},
     "output_type": "execute_result"
    }
   ],
   "source": [
    "mod_rec_map = []\n",
    "for K in np.arange(1, 11):\n",
    "    mod_rec_map.extend([ml_metrics.mapk(actual, mod_recommendations, k=K)])\n",
    "mod_rec_map"
   ]
  },
  {
   "cell_type": "code",
   "execution_count": 109,
   "metadata": {},
   "outputs": [
    {
     "data": {
      "text/plain": [
       "[0.03605486610058785,\n",
       " 0.02762491835401698,\n",
       " 0.022785579505043906,\n",
       " 0.019740637927280643,\n",
       " 0.017642281733072068,\n",
       " 0.016064028594237608,\n",
       " 0.014803905232896554,\n",
       " 0.013772428345930142,\n",
       " 0.012944112388647549,\n",
       " 0.012224652162192984]"
      ]
     },
     "execution_count": 109,
     "metadata": {},
     "output_type": "execute_result"
    }
   ],
   "source": [
    "random_map = []\n",
    "for K in np.arange(1, 11):\n",
    "    random_map.extend([ml_metrics.mapk(actual, random_predictions, k=K)])\n",
    "random_map"
   ]
  },
  {
   "cell_type": "code",
   "execution_count": 110,
   "metadata": {},
   "outputs": [
    {
     "data": {
      "text/plain": [
       "[0.0,\n",
       " 0.0,\n",
       " 0.0044669424486537485,\n",
       " 0.0035400337470063137,\n",
       " 0.003093947311125626,\n",
       " 0.002638616735612163,\n",
       " 0.002799535228853135,\n",
       " 0.002449593325246493,\n",
       " 0.0023076466718966173,\n",
       " 0.0020768820047069553]"
      ]
     },
     "execution_count": 110,
     "metadata": {},
     "output_type": "execute_result"
    }
   ],
   "source": [
    "pop_map = []\n",
    "for K in np.arange(1, 11):\n",
    "    pop_map.extend([ml_metrics.mapk(actual, pop_predictions, k=K)])\n",
    "pop_map"
   ]
  },
  {
   "cell_type": "code",
   "execution_count": 111,
   "metadata": {},
   "outputs": [
    {
     "data": {
      "image/png": "[encoded data removed]",
      "text/plain": [
       "<Figure size 1080x504 with 1 Axes>"
      ]
     },
     "metadata": {
      "needs_background": "light"
     },
     "output_type": "display_data"
    }
   ],
   "source": [
    "mark_scores_pop = [random_map, pop_map, cf_map, mod_rec_map]\n",
    "index = range(1,10+1)\n",
    "names = ['Random Recommender', 'Popularity Recommender', 'Recommendation algorithm(without low and popular museums)', 'Recommendation algorithm(with low and popular museums)']\n",
    "\n",
    "fig = plt.figure(figsize=(15, 7))\n",
    "#create palette\n",
    "recommender_palette = [\"#ED2BFF\", \"#14E2C0\", \"#FF9F1C\", \"#5E2BFF\",\"#FC5FA3\"]\n",
    "sns.set_palette(recommender_palette)\n",
    "\n",
    "#lineplot\n",
    "mark_df = pd.DataFrame(np.column_stack(mark_scores_pop), index, columns=names)\n",
    "ax = sns.lineplot(data=mark_df)\n",
    "plt.xticks(index)\n",
    "plt.setp(ax.lines,linewidth=5)\n",
    "\n",
    "#set labels\n",
    "ax.set_title('Mean Average Precision at K (MAP@K) Comparison')\n",
    "ax.set_ylabel('MAP@K')\n",
    "ax.set_xlabel('K')\n",
    "\n",
    "plt.show()"
   ]
  }
 ],
 "metadata": {
  "kernelspec": {
   "display_name": "Python 3",
   "language": "python",
   "name": "python3"
  },
  "language_info": {
   "codemirror_mode": {
    "name": "ipython",
    "version": 3
   },
   "file_extension": ".py",
   "mimetype": "text/x-python",
   "name": "python",
   "nbconvert_exporter": "python",
   "pygments_lexer": "ipython3",
   "version": "3.7.7"
  }
 },
 "nbformat": 4,
 "nbformat_minor": 4
}
