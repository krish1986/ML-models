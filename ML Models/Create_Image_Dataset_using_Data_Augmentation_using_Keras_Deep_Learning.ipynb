{
  "nbformat": 4,
  "nbformat_minor": 0,
  "metadata": {
    "colab": {
      "name": "Create Image Dataset using Data Augmentation using Keras-Deep Learning.ipynb",
      "provenance": [],
      "collapsed_sections": []
    },
    "kernelspec": {
      "name": "python3",
      "display_name": "Python 3"
    },
    "language_info": {
      "name": "python"
    }
  },
  "cells": [
    {
      "cell_type": "code",
      "metadata": {
        "id": "2l3WcFk1v1PF"
      },
      "source": [
        "from tensorflow.keras.preprocessing.image import ImageDataGenerator, img_to_array, array_to_img, load_img"
      ],
      "execution_count": 3,
      "outputs": []
    },
    {
      "cell_type": "code",
      "metadata": {
        "id": "8ZYre7IEwFRj"
      },
      "source": [
        "datagen = ImageDataGenerator(rotation_range=40,width_shift_range=0.2,height_shift_range=0.2,shear_range=0.2,zoom_range=0.2,horizontal_flip=True,fill_mode='nearest')"
      ],
      "execution_count": 2,
      "outputs": []
    },
    {
      "cell_type": "code",
      "metadata": {
        "id": "p-vsIWxRwTA1"
      },
      "source": [
        "img = load_img('/content/WhatsApp Image 2021-07-02 at 21.25.22.jpeg')\n",
        "x = img_to_array(img)\n",
        "x = x.reshape((1,)+x.shape) # convert to a shape(1,3,150,150)"
      ],
      "execution_count": 16,
      "outputs": []
    },
    {
      "cell_type": "code",
      "metadata": {
        "id": "7z7hHqo9wfhN"
      },
      "source": [
        "#the .flow() command below generates batches of randomly transformed images\n",
        "i = 0\n",
        "for batch in datagen.flow(x, batch_size=1,save_to_dir='/content/preview', save_prefix='aruz', save_format='jpeg'):\n",
        "  i +=1\n",
        "  if i >20:\n",
        "    break # otherwise the generator will loop indefinitely"
      ],
      "execution_count": 17,
      "outputs": []
    },
    {
      "cell_type": "code",
      "metadata": {
        "id": "YaNZFD88xSQt"
      },
      "source": [
        ""
      ],
      "execution_count": 10,
      "outputs": []
    }
  ]
}