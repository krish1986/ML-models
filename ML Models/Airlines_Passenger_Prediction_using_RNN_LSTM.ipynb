{
  "nbformat": 4,
  "nbformat_minor": 0,
  "metadata": {
    "colab": {
      "name": "Airlines Passenger Prediction using RNN - LSTM.ipynb",
      "provenance": [],
      "collapsed_sections": []
    },
    "kernelspec": {
      "name": "python3",
      "display_name": "Python 3"
    },
    "language_info": {
      "name": "python"
    },
    "accelerator": "TPU"
  },
  "cells": [
    {
      "cell_type": "code",
      "metadata": {
        "id": "lqrMIR9yTQ55"
      },
      "source": [
        "import tensorflow as tf\n",
        "from tensorflow.keras import Sequential\n",
        "from tensorflow.keras.layers import Dense, LSTM, Dropout\n",
        "from sklearn.preprocessing import MinMaxScaler\n",
        "from sklearn.metrics import mean_squared_error"
      ],
      "execution_count": 1,
      "outputs": []
    },
    {
      "cell_type": "code",
      "metadata": {
        "id": "6CLpSUAzV08j"
      },
      "source": [
        "import numpy as np\n",
        "import matplotlib.pyplot as plt\n",
        "import pandas as pd"
      ],
      "execution_count": 2,
      "outputs": []
    },
    {
      "cell_type": "code",
      "metadata": {
        "id": "yxjNlhfGWLxu"
      },
      "source": [
        "dataset = pd.read_csv('/content/AirPassengers.csv')\n",
        "dataset = dataset['#Passengers']\n",
        "dataset = np.array(dataset).reshape(-1,1)"
      ],
      "execution_count": 5,
      "outputs": []
    },
    {
      "cell_type": "code",
      "metadata": {
        "colab": {
          "base_uri": "https://localhost:8080/"
        },
        "id": "5F6_9IvLWuiq",
        "outputId": "bfc43b7c-1322-4a63-977a-1cf598a6644a"
      },
      "source": [
        "dataset"
      ],
      "execution_count": 6,
      "outputs": [
        {
          "output_type": "execute_result",
          "data": {
            "text/plain": [
              "array([[112],\n",
              "       [118],\n",
              "       [132],\n",
              "       [129],\n",
              "       [121],\n",
              "       [135],\n",
              "       [148],\n",
              "       [148],\n",
              "       [136],\n",
              "       [119],\n",
              "       [104],\n",
              "       [118],\n",
              "       [115],\n",
              "       [126],\n",
              "       [141],\n",
              "       [135],\n",
              "       [125],\n",
              "       [149],\n",
              "       [170],\n",
              "       [170],\n",
              "       [158],\n",
              "       [133],\n",
              "       [114],\n",
              "       [140],\n",
              "       [145],\n",
              "       [150],\n",
              "       [178],\n",
              "       [163],\n",
              "       [172],\n",
              "       [178],\n",
              "       [199],\n",
              "       [199],\n",
              "       [184],\n",
              "       [162],\n",
              "       [146],\n",
              "       [166],\n",
              "       [171],\n",
              "       [180],\n",
              "       [193],\n",
              "       [181],\n",
              "       [183],\n",
              "       [218],\n",
              "       [230],\n",
              "       [242],\n",
              "       [209],\n",
              "       [191],\n",
              "       [172],\n",
              "       [194],\n",
              "       [196],\n",
              "       [196],\n",
              "       [236],\n",
              "       [235],\n",
              "       [229],\n",
              "       [243],\n",
              "       [264],\n",
              "       [272],\n",
              "       [237],\n",
              "       [211],\n",
              "       [180],\n",
              "       [201],\n",
              "       [204],\n",
              "       [188],\n",
              "       [235],\n",
              "       [227],\n",
              "       [234],\n",
              "       [264],\n",
              "       [302],\n",
              "       [293],\n",
              "       [259],\n",
              "       [229],\n",
              "       [203],\n",
              "       [229],\n",
              "       [242],\n",
              "       [233],\n",
              "       [267],\n",
              "       [269],\n",
              "       [270],\n",
              "       [315],\n",
              "       [364],\n",
              "       [347],\n",
              "       [312],\n",
              "       [274],\n",
              "       [237],\n",
              "       [278],\n",
              "       [284],\n",
              "       [277],\n",
              "       [317],\n",
              "       [313],\n",
              "       [318],\n",
              "       [374],\n",
              "       [413],\n",
              "       [405],\n",
              "       [355],\n",
              "       [306],\n",
              "       [271],\n",
              "       [306],\n",
              "       [315],\n",
              "       [301],\n",
              "       [356],\n",
              "       [348],\n",
              "       [355],\n",
              "       [422],\n",
              "       [465],\n",
              "       [467],\n",
              "       [404],\n",
              "       [347],\n",
              "       [305],\n",
              "       [336],\n",
              "       [340],\n",
              "       [318],\n",
              "       [362],\n",
              "       [348],\n",
              "       [363],\n",
              "       [435],\n",
              "       [491],\n",
              "       [505],\n",
              "       [404],\n",
              "       [359],\n",
              "       [310],\n",
              "       [337],\n",
              "       [360],\n",
              "       [342],\n",
              "       [406],\n",
              "       [396],\n",
              "       [420],\n",
              "       [472],\n",
              "       [548],\n",
              "       [559],\n",
              "       [463],\n",
              "       [407],\n",
              "       [362],\n",
              "       [405],\n",
              "       [417],\n",
              "       [391],\n",
              "       [419],\n",
              "       [461],\n",
              "       [472],\n",
              "       [535],\n",
              "       [622],\n",
              "       [606],\n",
              "       [508],\n",
              "       [461],\n",
              "       [390],\n",
              "       [432]])"
            ]
          },
          "metadata": {
            "tags": []
          },
          "execution_count": 6
        }
      ]
    },
    {
      "cell_type": "code",
      "metadata": {
        "colab": {
          "base_uri": "https://localhost:8080/",
          "height": 282
        },
        "id": "CrwgddruXC4g",
        "outputId": "41e630af-6d9c-4cdf-b802-f906baeb4438"
      },
      "source": [
        "plt.plot(dataset)"
      ],
      "execution_count": 7,
      "outputs": [
        {
          "output_type": "execute_result",
          "data": {
            "text/plain": [
              "[<matplotlib.lines.Line2D at 0x7f409849b410>]"
            ]
          },
          "metadata": {
            "tags": []
          },
          "execution_count": 7
        },
        {
          "output_type": "display_data",
          "data": {
            "image/png": "[encoded data removed]",
            "text/plain": [
              "<Figure size 432x288 with 1 Axes>"
            ]
          },
          "metadata": {
            "tags": [],
            "needs_background": "light"
          }
        }
      ]
    },
    {
      "cell_type": "code",
      "metadata": {
        "colab": {
          "base_uri": "https://localhost:8080/"
        },
        "id": "6onphY3FXe1R",
        "outputId": "c86a28e9-51d6-4811-d021-7d656b759a3e"
      },
      "source": [
        "scaler = MinMaxScaler()\n",
        "dataset = scaler.fit_transform(dataset)\n",
        "dataset"
      ],
      "execution_count": 8,
      "outputs": [
        {
          "output_type": "execute_result",
          "data": {
            "text/plain": [
              "array([[0.01544402],\n",
              "       [0.02702703],\n",
              "       [0.05405405],\n",
              "       [0.04826255],\n",
              "       [0.03281853],\n",
              "       [0.05984556],\n",
              "       [0.08494208],\n",
              "       [0.08494208],\n",
              "       [0.06177606],\n",
              "       [0.02895753],\n",
              "       [0.        ],\n",
              "       [0.02702703],\n",
              "       [0.02123552],\n",
              "       [0.04247104],\n",
              "       [0.07142857],\n",
              "       [0.05984556],\n",
              "       [0.04054054],\n",
              "       [0.08687259],\n",
              "       [0.12741313],\n",
              "       [0.12741313],\n",
              "       [0.1042471 ],\n",
              "       [0.05598456],\n",
              "       [0.01930502],\n",
              "       [0.06949807],\n",
              "       [0.07915058],\n",
              "       [0.08880309],\n",
              "       [0.14285714],\n",
              "       [0.11389961],\n",
              "       [0.13127413],\n",
              "       [0.14285714],\n",
              "       [0.18339768],\n",
              "       [0.18339768],\n",
              "       [0.15444015],\n",
              "       [0.11196911],\n",
              "       [0.08108108],\n",
              "       [0.11969112],\n",
              "       [0.12934363],\n",
              "       [0.14671815],\n",
              "       [0.17181467],\n",
              "       [0.14864865],\n",
              "       [0.15250965],\n",
              "       [0.22007722],\n",
              "       [0.24324324],\n",
              "       [0.26640927],\n",
              "       [0.2027027 ],\n",
              "       [0.16795367],\n",
              "       [0.13127413],\n",
              "       [0.17374517],\n",
              "       [0.17760618],\n",
              "       [0.17760618],\n",
              "       [0.25482625],\n",
              "       [0.25289575],\n",
              "       [0.24131274],\n",
              "       [0.26833977],\n",
              "       [0.30888031],\n",
              "       [0.32432432],\n",
              "       [0.25675676],\n",
              "       [0.20656371],\n",
              "       [0.14671815],\n",
              "       [0.18725869],\n",
              "       [0.19305019],\n",
              "       [0.16216216],\n",
              "       [0.25289575],\n",
              "       [0.23745174],\n",
              "       [0.25096525],\n",
              "       [0.30888031],\n",
              "       [0.38223938],\n",
              "       [0.36486486],\n",
              "       [0.2992278 ],\n",
              "       [0.24131274],\n",
              "       [0.19111969],\n",
              "       [0.24131274],\n",
              "       [0.26640927],\n",
              "       [0.24903475],\n",
              "       [0.31467181],\n",
              "       [0.31853282],\n",
              "       [0.32046332],\n",
              "       [0.40733591],\n",
              "       [0.5019305 ],\n",
              "       [0.46911197],\n",
              "       [0.4015444 ],\n",
              "       [0.32818533],\n",
              "       [0.25675676],\n",
              "       [0.33590734],\n",
              "       [0.34749035],\n",
              "       [0.33397683],\n",
              "       [0.41119691],\n",
              "       [0.4034749 ],\n",
              "       [0.41312741],\n",
              "       [0.52123552],\n",
              "       [0.5965251 ],\n",
              "       [0.58108108],\n",
              "       [0.48455598],\n",
              "       [0.38996139],\n",
              "       [0.32239382],\n",
              "       [0.38996139],\n",
              "       [0.40733591],\n",
              "       [0.38030888],\n",
              "       [0.48648649],\n",
              "       [0.47104247],\n",
              "       [0.48455598],\n",
              "       [0.61389961],\n",
              "       [0.6969112 ],\n",
              "       [0.7007722 ],\n",
              "       [0.57915058],\n",
              "       [0.46911197],\n",
              "       [0.38803089],\n",
              "       [0.44787645],\n",
              "       [0.45559846],\n",
              "       [0.41312741],\n",
              "       [0.4980695 ],\n",
              "       [0.47104247],\n",
              "       [0.5       ],\n",
              "       [0.63899614],\n",
              "       [0.74710425],\n",
              "       [0.77413127],\n",
              "       [0.57915058],\n",
              "       [0.49227799],\n",
              "       [0.3976834 ],\n",
              "       [0.44980695],\n",
              "       [0.49420849],\n",
              "       [0.45945946],\n",
              "       [0.58301158],\n",
              "       [0.56370656],\n",
              "       [0.61003861],\n",
              "       [0.71042471],\n",
              "       [0.85714286],\n",
              "       [0.87837838],\n",
              "       [0.69305019],\n",
              "       [0.58494208],\n",
              "       [0.4980695 ],\n",
              "       [0.58108108],\n",
              "       [0.6042471 ],\n",
              "       [0.55405405],\n",
              "       [0.60810811],\n",
              "       [0.68918919],\n",
              "       [0.71042471],\n",
              "       [0.83204633],\n",
              "       [1.        ],\n",
              "       [0.96911197],\n",
              "       [0.77992278],\n",
              "       [0.68918919],\n",
              "       [0.55212355],\n",
              "       [0.63320463]])"
            ]
          },
          "metadata": {
            "tags": []
          },
          "execution_count": 8
        }
      ]
    },
    {
      "cell_type": "code",
      "metadata": {
        "id": "bOZDBTjnYE7z"
      },
      "source": [
        "train_size = 100\n",
        "test_size = 44"
      ],
      "execution_count": 9,
      "outputs": []
    },
    {
      "cell_type": "code",
      "metadata": {
        "colab": {
          "base_uri": "https://localhost:8080/"
        },
        "id": "3I_xg-NZYVP5",
        "outputId": "2b16e5f7-d840-47c9-dacf-308c0b26c0e2"
      },
      "source": [
        "train = dataset[0:train_size, :]\n",
        "train.shape"
      ],
      "execution_count": 10,
      "outputs": [
        {
          "output_type": "execute_result",
          "data": {
            "text/plain": [
              "(100, 1)"
            ]
          },
          "metadata": {
            "tags": []
          },
          "execution_count": 10
        }
      ]
    },
    {
      "cell_type": "code",
      "metadata": {
        "colab": {
          "base_uri": "https://localhost:8080/"
        },
        "id": "nEmKd4FfYeAy",
        "outputId": "00bcca13-a1ed-4f86-c036-2dcfe68d0012"
      },
      "source": [
        "test = dataset[train_size:len(dataset), :]\n",
        "test.shape"
      ],
      "execution_count": 11,
      "outputs": [
        {
          "output_type": "execute_result",
          "data": {
            "text/plain": [
              "(44, 1)"
            ]
          },
          "metadata": {
            "tags": []
          },
          "execution_count": 11
        }
      ]
    },
    {
      "cell_type": "code",
      "metadata": {
        "id": "89VI7nNDZAkf"
      },
      "source": [
        "def get_data(dataset, look_back):\n",
        "  dataX, dataY = [], []\n",
        "  for i in range(len(dataset)-look_back-1):\n",
        "    a = dataset[i:(i+look_back), 0]\n",
        "    dataX.append(a)\n",
        "    dataY.append(dataset[i+look_back, 0])\n",
        "  return np.array(dataX), np.array(dataY)\n"
      ],
      "execution_count": 16,
      "outputs": []
    },
    {
      "cell_type": "code",
      "metadata": {
        "colab": {
          "base_uri": "https://localhost:8080/"
        },
        "id": "C0tPi3QYZ-Qe",
        "outputId": "57d12400-d199-414e-eeb9-c1a992d1999b"
      },
      "source": [
        "look_back = 1\n",
        "x_train, y_train = get_data(train, look_back)\n",
        "x_test, y_test = get_data(test, look_back)\n",
        "x_train.shape, y_train.shape\n",
        "x_test.shape, y_test.shape"
      ],
      "execution_count": 65,
      "outputs": [
        {
          "output_type": "execute_result",
          "data": {
            "text/plain": [
              "((42, 1), (42,))"
            ]
          },
          "metadata": {
            "tags": []
          },
          "execution_count": 65
        }
      ]
    },
    {
      "cell_type": "code",
      "metadata": {
        "id": "H6543vptawsX"
      },
      "source": [
        "x_train = x_train.reshape(x_train.shape[0], x_train.shape[1], 1)\n",
        "x_test = x_test.reshape(x_test.shape[0], x_test.shape[1], 1)"
      ],
      "execution_count": 66,
      "outputs": []
    },
    {
      "cell_type": "code",
      "metadata": {
        "id": "wjB3VVKbaV8h"
      },
      "source": [
        "model = Sequential()\n",
        "model.add(LSTM(units=5, input_shape=(1,1)))\n",
        "model.add(Dense(1))"
      ],
      "execution_count": 67,
      "outputs": []
    },
    {
      "cell_type": "code",
      "metadata": {
        "id": "cuYKhdzMbKfW"
      },
      "source": [
        "model.compile(optimizer='Adam', loss='mean_squared_error')"
      ],
      "execution_count": 68,
      "outputs": []
    },
    {
      "cell_type": "code",
      "metadata": {
        "colab": {
          "base_uri": "https://localhost:8080/"
        },
        "id": "mKtWeYdFbQs4",
        "outputId": "f5cad893-6751-4e8e-9dd9-f25b02d8afa0"
      },
      "source": [
        "history = model.fit(x_train, y_train, epochs=50, verbose=1,batch_size=1)"
      ],
      "execution_count": 69,
      "outputs": [
        {
          "output_type": "stream",
          "text": [
            "Epoch 1/50\n",
            "98/98 [==============================] - 1s 2ms/step - loss: 0.0367\n",
            "Epoch 2/50\n",
            "98/98 [==============================] - 0s 2ms/step - loss: 0.0160\n",
            "Epoch 3/50\n",
            "98/98 [==============================] - 0s 2ms/step - loss: 0.0136\n",
            "Epoch 4/50\n",
            "98/98 [==============================] - 0s 2ms/step - loss: 0.0124\n",
            "Epoch 5/50\n",
            "98/98 [==============================] - 0s 1ms/step - loss: 0.0111\n",
            "Epoch 6/50\n",
            "98/98 [==============================] - 0s 2ms/step - loss: 0.0099\n",
            "Epoch 7/50\n",
            "98/98 [==============================] - 0s 2ms/step - loss: 0.0087\n",
            "Epoch 8/50\n",
            "98/98 [==============================] - 0s 1ms/step - loss: 0.0075\n",
            "Epoch 9/50\n",
            "98/98 [==============================] - 0s 1ms/step - loss: 0.0065\n",
            "Epoch 10/50\n",
            "98/98 [==============================] - 0s 2ms/step - loss: 0.0055\n",
            "Epoch 11/50\n",
            "98/98 [==============================] - 0s 2ms/step - loss: 0.0046\n",
            "Epoch 12/50\n",
            "98/98 [==============================] - 0s 1ms/step - loss: 0.0039\n",
            "Epoch 13/50\n",
            "98/98 [==============================] - 0s 1ms/step - loss: 0.0033\n",
            "Epoch 14/50\n",
            "98/98 [==============================] - 0s 2ms/step - loss: 0.0029\n",
            "Epoch 15/50\n",
            "98/98 [==============================] - 0s 2ms/step - loss: 0.0027\n",
            "Epoch 16/50\n",
            "98/98 [==============================] - 0s 1ms/step - loss: 0.0025\n",
            "Epoch 17/50\n",
            "98/98 [==============================] - 0s 2ms/step - loss: 0.0023\n",
            "Epoch 18/50\n",
            "98/98 [==============================] - 0s 2ms/step - loss: 0.0023\n",
            "Epoch 19/50\n",
            "98/98 [==============================] - 0s 1ms/step - loss: 0.0022\n",
            "Epoch 20/50\n",
            "98/98 [==============================] - 0s 1ms/step - loss: 0.0021\n",
            "Epoch 21/50\n",
            "98/98 [==============================] - 0s 1ms/step - loss: 0.0021\n",
            "Epoch 22/50\n",
            "98/98 [==============================] - 0s 1ms/step - loss: 0.0022\n",
            "Epoch 23/50\n",
            "98/98 [==============================] - 0s 1ms/step - loss: 0.0021\n",
            "Epoch 24/50\n",
            "98/98 [==============================] - 0s 1ms/step - loss: 0.0022\n",
            "Epoch 25/50\n",
            "98/98 [==============================] - 0s 1ms/step - loss: 0.0022\n",
            "Epoch 26/50\n",
            "98/98 [==============================] - 0s 1ms/step - loss: 0.0022\n",
            "Epoch 27/50\n",
            "98/98 [==============================] - 0s 2ms/step - loss: 0.0022\n",
            "Epoch 28/50\n",
            "98/98 [==============================] - 0s 2ms/step - loss: 0.0021\n",
            "Epoch 29/50\n",
            "98/98 [==============================] - 0s 2ms/step - loss: 0.0022\n",
            "Epoch 30/50\n",
            "98/98 [==============================] - 0s 1ms/step - loss: 0.0022\n",
            "Epoch 31/50\n",
            "98/98 [==============================] - 0s 2ms/step - loss: 0.0022\n",
            "Epoch 32/50\n",
            "98/98 [==============================] - 0s 2ms/step - loss: 0.0021\n",
            "Epoch 33/50\n",
            "98/98 [==============================] - 0s 2ms/step - loss: 0.0022\n",
            "Epoch 34/50\n",
            "98/98 [==============================] - 0s 1ms/step - loss: 0.0021\n",
            "Epoch 35/50\n",
            "98/98 [==============================] - 0s 1ms/step - loss: 0.0022\n",
            "Epoch 36/50\n",
            "98/98 [==============================] - 0s 2ms/step - loss: 0.0022\n",
            "Epoch 37/50\n",
            "98/98 [==============================] - 0s 1ms/step - loss: 0.0021\n",
            "Epoch 38/50\n",
            "98/98 [==============================] - 0s 2ms/step - loss: 0.0021\n",
            "Epoch 39/50\n",
            "98/98 [==============================] - 0s 1ms/step - loss: 0.0022\n",
            "Epoch 40/50\n",
            "98/98 [==============================] - 0s 2ms/step - loss: 0.0021\n",
            "Epoch 41/50\n",
            "98/98 [==============================] - 0s 1ms/step - loss: 0.0021\n",
            "Epoch 42/50\n",
            "98/98 [==============================] - 0s 2ms/step - loss: 0.0022\n",
            "Epoch 43/50\n",
            "98/98 [==============================] - 0s 2ms/step - loss: 0.0022\n",
            "Epoch 44/50\n",
            "98/98 [==============================] - 0s 1ms/step - loss: 0.0021\n",
            "Epoch 45/50\n",
            "98/98 [==============================] - 0s 1ms/step - loss: 0.0021\n",
            "Epoch 46/50\n",
            "98/98 [==============================] - 0s 2ms/step - loss: 0.0022\n",
            "Epoch 47/50\n",
            "98/98 [==============================] - 0s 1ms/step - loss: 0.0021\n",
            "Epoch 48/50\n",
            "98/98 [==============================] - 0s 2ms/step - loss: 0.0021\n",
            "Epoch 49/50\n",
            "98/98 [==============================] - 0s 1ms/step - loss: 0.0021\n",
            "Epoch 50/50\n",
            "98/98 [==============================] - 0s 2ms/step - loss: 0.0022\n"
          ],
          "name": "stdout"
        }
      ]
    },
    {
      "cell_type": "code",
      "metadata": {
        "colab": {
          "base_uri": "https://localhost:8080/"
        },
        "id": "U2oC_nzCdWh4",
        "outputId": "fcf24ad9-bf46-46f0-c65b-e276268ee3a8"
      },
      "source": [
        "y_pred"
      ],
      "execution_count": 70,
      "outputs": [
        {
          "output_type": "execute_result",
          "data": {
            "text/plain": [
              "array([[228.69662],\n",
              "       [234.13643],\n",
              "       [237.45955],\n",
              "       [237.61082],\n",
              "       [232.70593],\n",
              "       [228.02638],\n",
              "       [224.43776],\n",
              "       [227.09776],\n",
              "       [227.43639],\n",
              "       [225.56088],\n",
              "       [229.27953],\n",
              "       [228.11041],\n",
              "       [229.36253],\n",
              "       [235.15518],\n",
              "       [239.40346],\n",
              "       [240.4296 ],\n",
              "       [232.70593],\n",
              "       [229.03014],\n",
              "       [224.87102],\n",
              "       [227.18251],\n",
              "       [229.11333],\n",
              "       [227.60529],\n",
              "       [232.86601],\n",
              "       [232.06277],\n",
              "       [233.97862],\n",
              "       [237.9878 ],\n",
              "       [243.49036],\n",
              "       [244.25124],\n",
              "       [237.30794],\n",
              "       [232.94594],\n",
              "       [229.27953],\n",
              "       [232.78601],\n",
              "       [233.74138],\n",
              "       [231.65852],\n",
              "       [233.89961],\n",
              "       [237.15608],\n",
              "       [237.9878 ],\n",
              "       [242.5795 ],\n",
              "       [248.43541],\n",
              "       [247.40073],\n",
              "       [240.64758],\n",
              "       [237.15608]], dtype=float32)"
            ]
          },
          "metadata": {
            "tags": []
          },
          "execution_count": 70
        }
      ]
    },
    {
      "cell_type": "code",
      "metadata": {
        "colab": {
          "base_uri": "https://localhost:8080/"
        },
        "id": "hT0czLHLba5x",
        "outputId": "32d7dce7-58e0-40ff-da77-30d0319ab3c0"
      },
      "source": [
        "y_pred = model.predict(x_test)"
      ],
      "execution_count": 71,
      "outputs": [
        {
          "output_type": "stream",
          "text": [
            "WARNING:tensorflow:5 out of the last 11 calls to <function Model.make_predict_function.<locals>.predict_function at 0x7f4090a660e0> triggered tf.function retracing. Tracing is expensive and the excessive number of tracings could be due to (1) creating @tf.function repeatedly in a loop, (2) passing tensors with different shapes, (3) passing Python objects instead of tensors. For (1), please define your @tf.function outside of the loop. For (2), @tf.function has experimental_relax_shapes=True option that relaxes argument shapes that can avoid unnecessary retracing. For (3), please refer to https://www.tensorflow.org/guide/function#controlling_retracing and https://www.tensorflow.org/api_docs/python/tf/function for  more details.\n"
          ],
          "name": "stdout"
        }
      ]
    },
    {
      "cell_type": "code",
      "metadata": {
        "id": "8Rv4VCdXblFK"
      },
      "source": [
        "y_pred = scaler.inverse_transform(y_pred)"
      ],
      "execution_count": 72,
      "outputs": []
    },
    {
      "cell_type": "code",
      "metadata": {
        "id": "3uRq11Gqbo_D"
      },
      "source": [
        "y_test = np.array(y_test)\n",
        "y_test = y_test.reshape(-1,1)\n",
        "y_test = scaler.inverse_transform(y_test)"
      ],
      "execution_count": 73,
      "outputs": []
    },
    {
      "cell_type": "code",
      "metadata": {
        "colab": {
          "base_uri": "https://localhost:8080/"
        },
        "id": "nRDyKXd7deVt",
        "outputId": "a92281a0-c7aa-4811-cbac-16bacb0007e9"
      },
      "source": [
        "y_pred"
      ],
      "execution_count": 74,
      "outputs": [
        {
          "output_type": "execute_result",
          "data": {
            "text/plain": [
              "array([[350.28683],\n",
              "       [414.89676],\n",
              "       [455.55902],\n",
              "       [457.4298 ],\n",
              "       [397.65918],\n",
              "       [342.51138],\n",
              "       [301.63995],\n",
              "       [331.8105 ],\n",
              "       [335.70273],\n",
              "       [314.28967],\n",
              "       [357.08377],\n",
              "       [343.48367],\n",
              "       [358.05414],\n",
              "       [427.27286],\n",
              "       [479.7183 ],\n",
              "       [492.57434],\n",
              "       [397.65918],\n",
              "       [354.17166],\n",
              "       [306.50403],\n",
              "       [332.78366],\n",
              "       [355.1425 ],\n",
              "       [337.6484 ],\n",
              "       [399.5798 ],\n",
              "       [389.96472],\n",
              "       [412.98706],\n",
              "       [462.09805],\n",
              "       [531.3194 ],\n",
              "       [541.03876],\n",
              "       [453.68628],\n",
              "       [400.53967],\n",
              "       [357.08377],\n",
              "       [398.6197 ],\n",
              "       [410.11978],\n",
              "       [385.14636],\n",
              "       [412.03165],\n",
              "       [451.81158],\n",
              "       [462.09805],\n",
              "       [519.7291 ],\n",
              "       [595.061  ],\n",
              "       [581.6153 ],\n",
              "       [495.31445],\n",
              "       [451.81158]], dtype=float32)"
            ]
          },
          "metadata": {
            "tags": []
          },
          "execution_count": 74
        }
      ]
    },
    {
      "cell_type": "code",
      "metadata": {
        "colab": {
          "base_uri": "https://localhost:8080/"
        },
        "id": "LjfYaM2MdjRc",
        "outputId": "25ae84e8-58a2-499e-8162-c2c61c4a5401"
      },
      "source": [
        "y_test"
      ],
      "execution_count": 75,
      "outputs": [
        {
          "output_type": "execute_result",
          "data": {
            "text/plain": [
              "array([[422.],\n",
              "       [465.],\n",
              "       [467.],\n",
              "       [404.],\n",
              "       [347.],\n",
              "       [305.],\n",
              "       [336.],\n",
              "       [340.],\n",
              "       [318.],\n",
              "       [362.],\n",
              "       [348.],\n",
              "       [363.],\n",
              "       [435.],\n",
              "       [491.],\n",
              "       [505.],\n",
              "       [404.],\n",
              "       [359.],\n",
              "       [310.],\n",
              "       [337.],\n",
              "       [360.],\n",
              "       [342.],\n",
              "       [406.],\n",
              "       [396.],\n",
              "       [420.],\n",
              "       [472.],\n",
              "       [548.],\n",
              "       [559.],\n",
              "       [463.],\n",
              "       [407.],\n",
              "       [362.],\n",
              "       [405.],\n",
              "       [417.],\n",
              "       [391.],\n",
              "       [419.],\n",
              "       [461.],\n",
              "       [472.],\n",
              "       [535.],\n",
              "       [622.],\n",
              "       [606.],\n",
              "       [508.],\n",
              "       [461.],\n",
              "       [390.]])"
            ]
          },
          "metadata": {
            "tags": []
          },
          "execution_count": 75
        }
      ]
    },
    {
      "cell_type": "code",
      "metadata": {
        "colab": {
          "base_uri": "https://localhost:8080/",
          "height": 350
        },
        "id": "uLvv4ypEbrqs",
        "outputId": "1f4b3e2a-79d6-4a92-dd44-633788c96960"
      },
      "source": [
        "plt.figure(figsize=(14,5))\n",
        "plt.plot(y_test, color='red',label='Real # of passengers')\n",
        "plt.plot(y_pred, color ='blue', label = 'Predicted # of passengers')\n",
        "plt.title('# of Airline Passengers')\n",
        "plt.xlabel('Time')\n",
        "plt.ylabel('# passengers')\n",
        "plt.legend()\n",
        "plt.show()"
      ],
      "execution_count": 76,
      "outputs": [
        {
          "output_type": "display_data",
          "data": {
            "image/png": "[encoded data removed]",
            "text/plain": [
              "<Figure size 1008x360 with 1 Axes>"
            ]
          },
          "metadata": {
            "tags": [],
            "needs_background": "light"
          }
        }
      ]
    },
    {
      "cell_type": "code",
      "metadata": {
        "id": "RHtS0H-ncesY"
      },
      "source": [
        ""
      ],
      "execution_count": 37,
      "outputs": []
    }
  ]
}